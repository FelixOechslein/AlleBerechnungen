{
 "cells": [
  {
   "cell_type": "code",
   "execution_count": 25,
   "id": "139bbb41",
   "metadata": {},
   "outputs": [],
   "source": [
    "from scipy.stats import nbinom, binom, poisson\n",
    "from statsmodels.discrete.count_model import ZeroInflatedNegativeBinomialP\n",
    "import pandas as pd\n",
    "import numpy as np\n",
    "import matplotlib.pyplot as plt\n",
    "import scipy.stats as stats\n",
    "import math\n",
    "import seaborn as sns\n",
    "from datetime import datetime, timedelta\n",
    "from scipy.stats import pearsonr\n",
    "from scipy.stats import kendalltau\n",
    "from scipy.stats import spearmanr\n",
    "import os\n",
    "from scipy.optimize import minimize, Bounds, LinearConstraint, NonlinearConstraint\n",
    "import inspect"
   ]
  },
  {
   "cell_type": "markdown",
   "id": "daafe716",
   "metadata": {},
   "source": [
    "### Relevante Parameter:\n",
    "\n",
    "array_phi = 1 / (1 + np.exp(delta_0[state] + delta_1[state] * np.log(LY_monat)))\n",
    "\n",
    "array_lambdaY = np.exp(alpha_p[state] + beta_p_1[state] * EM_monat + beta_p_2[state] * np.square(EM_monat))\n",
    "\n",
    "    if r[0] > 0:\n",
    "        for i in range(len(y_monat)):\n",
    "            for j in range(y_monat[i] + 1):\n",
    "                if j == 0:\n",
    "                    pmf = phi[i] + (1 - phi[i]) * (1 + lambdaY[i] / r[0])**(-r[0])\n",
    "                elif j > 0:\n",
    "                    numerator = math.gamma(j + r[0])\n",
    "                    denominator = math.factorial(j) * math.gamma(r[0])\n",
    "                    gamma_term = numerator / denominator\n",
    "                    pmf= (1 - phi[i]) * gamma_term * (1 + lambdaY[i] / r[0])**(-r[0]) * (1 + r[0] / lambdaY[i])**(-j)\n",
    "                cdf[i] += pmf\n",
    "    return cdf\n",
    "\n",
    "Die Öffungszahlen sind mit einer ZINBD modelliert und die Werte folgender Tabellen haben Einfluss:\n",
    "\n",
    "1. df_LY\n",
    "2. LO_monat\n",
    "3. df_trans_werte\n",
    "4. df_HY\n",
    "\n",
    "folgende Parameter haben einen Einfluss:\n",
    "1. delta_0 (1 x anzahl_states array, also state abhängig)\n",
    "2. delta_1 (1 x anzahl_states array, also state abhängig)\n",
    "\n",
    "3. alpha_p (1 x anzahl_states array, also state abhängig)\n",
    "4. beta_p_1 (1 x anzahl_states array, also state abhängig)\n",
    "5. beta_p_1 (1 x anzahl_states array, also state abhängig)\n",
    "\n",
    "\n",
    "\n",
    "(1 x 1 array, state unabhängig)"
   ]
  },
  {
   "cell_type": "code",
   "execution_count": 26,
   "id": "ea5ccfc6",
   "metadata": {},
   "outputs": [],
   "source": [
    "path = r'C:/Users/felix.oechslein/Desktop/Analysen Thalia, Mai/verarbeitete_daten'\n",
    "filename = 'Pivot_LY_Privat_ohneApple_Langzeitkunde.csv'\n",
    "\n",
    "df_LY = pd.read_csv(os.path.join(path, filename))"
   ]
  },
  {
   "cell_type": "code",
   "execution_count": 27,
   "id": "a7a70f4e",
   "metadata": {},
   "outputs": [],
   "source": [
    "# LO monat\n",
    "path = r'C:/Users/felix.oechslein/Desktop/Analysen Thalia, Mai/verarbeitete_daten'\n",
    "filename = 'Pivot_LO_Privat_ohneApple_Langzeitkunde.csv'\n",
    "\n",
    "df_LO = pd.read_csv(os.path.join(path, filename))"
   ]
  },
  {
   "cell_type": "code",
   "execution_count": 28,
   "id": "a33717ff",
   "metadata": {},
   "outputs": [],
   "source": [
    "path = r'C:/Users/felix.oechslein/Desktop/Analysen Thalia, Mai/verarbeitete_daten'\n",
    "filename = 'Pivot_Trans_Privat_ohneApple_Langzeitkunde.csv'\n",
    "\n",
    "df_trans_werte = pd.read_csv(os.path.join(path, filename))"
   ]
  },
  {
   "cell_type": "code",
   "execution_count": 29,
   "id": "ea86f616",
   "metadata": {},
   "outputs": [],
   "source": [
    "# EM_monat aus der HY Zahlen der versendeten Mails ziehen\n",
    "path = r'C:/Users/felix.oechslein/Desktop/Analysen Thalia, Mai/verarbeitete_daten'\n",
    "filename = 'Pivot_HY_Privat_ohneApple_Langzeitkunde.csv'\n",
    "\n",
    "df_HY = pd.read_csv(os.path.join(path, filename))"
   ]
  },
  {
   "cell_type": "markdown",
   "id": "51914c9c",
   "metadata": {},
   "source": [
    "### Datenanpassung wie bei der Berechnung der optimalen Parameter"
   ]
  },
  {
   "cell_type": "code",
   "execution_count": 30,
   "id": "db0df8d7",
   "metadata": {},
   "outputs": [],
   "source": [
    "## Alle DataFrame Werte von Float zu int\n",
    "df_LY = df_LY.astype(int)\n",
    "df_LO = df_LO.astype(int)\n",
    "df_trans_werte = df_HY.astype(int)\n",
    "df_HY = df_LY.astype(int)"
   ]
  },
  {
   "cell_type": "markdown",
   "id": "a9706904",
   "metadata": {},
   "source": [
    "### Sicherstellen dass alle df dieselben Kunden verwenden"
   ]
  },
  {
   "cell_type": "code",
   "execution_count": 31,
   "id": "4b66f142",
   "metadata": {},
   "outputs": [],
   "source": [
    "# Entfernen der Zeilen aus df_LO, die nicht in df_HY enthalten sind\n",
    "df_LY = df_LY[df_LY['iid'].isin(df_LO['iid'])]\n",
    "df_LO = df_LO[df_LO['iid'].isin(df_trans_werte['iid'])]\n",
    "df_trans_werte = df_trans_werte[df_trans_werte['iid'].isin(df_HY['iid'])]\n",
    "df_HY = df_HY[df_HY['iid'].isin(df_LY['iid'])]"
   ]
  },
  {
   "cell_type": "code",
   "execution_count": 32,
   "id": "67b97ad7",
   "metadata": {},
   "outputs": [
    {
     "data": {
      "text/plain": [
       "647"
      ]
     },
     "execution_count": 32,
     "metadata": {},
     "output_type": "execute_result"
    }
   ],
   "source": [
    "len(df_LY)"
   ]
  },
  {
   "cell_type": "code",
   "execution_count": 33,
   "id": "91d9c314",
   "metadata": {},
   "outputs": [
    {
     "data": {
      "text/plain": [
       "647"
      ]
     },
     "execution_count": 33,
     "metadata": {},
     "output_type": "execute_result"
    }
   ],
   "source": [
    "len(df_LO)"
   ]
  },
  {
   "cell_type": "code",
   "execution_count": 34,
   "id": "b6a193f7",
   "metadata": {
    "scrolled": true
   },
   "outputs": [
    {
     "data": {
      "text/plain": [
       "697"
      ]
     },
     "execution_count": 34,
     "metadata": {},
     "output_type": "execute_result"
    }
   ],
   "source": [
    "len(df_trans_werte)"
   ]
  },
  {
   "cell_type": "code",
   "execution_count": 35,
   "id": "596571e8",
   "metadata": {},
   "outputs": [
    {
     "data": {
      "text/plain": [
       "647"
      ]
     },
     "execution_count": 35,
     "metadata": {},
     "output_type": "execute_result"
    }
   ],
   "source": [
    "len(df_HY)"
   ]
  },
  {
   "cell_type": "code",
   "execution_count": 36,
   "id": "7a0498cb",
   "metadata": {},
   "outputs": [],
   "source": [
    "# Siherstellen dass alle dataframes die Kunden in derselben Reihenfolge auflisten\n",
    "df_LY = df_LY.sort_values('iid')\n",
    "df_LO = df_LO.sort_values('iid')\n",
    "df_trans_werte = df_trans_werte.sort_values('iid')\n",
    "df_HY = df_HY.sort_values('iid')\n",
    "\n",
    "#Index resetten\n",
    "df_LY = df_LY.reset_index(drop = True)\n",
    "df_LO = df_LO.reset_index(drop = True)\n",
    "df_trans_werte = df_trans_werte.reset_index(drop = True)\n",
    "df_HY = df_HY.reset_index(drop = True)"
   ]
  },
  {
   "cell_type": "markdown",
   "id": "d46ee54e",
   "metadata": {},
   "source": [
    "### Ausreißer bei den Kunden löschen (wie bei den Berechnungen)"
   ]
  },
  {
   "cell_type": "code",
   "execution_count": 37,
   "id": "506afd63",
   "metadata": {},
   "outputs": [],
   "source": [
    "kunden_pos = [443, 387, 408, 415, 451, 531, 364, 351, 348, 501, 408, 285, 422, 251, 220]"
   ]
  },
  {
   "cell_type": "code",
   "execution_count": 38,
   "id": "5387e57e",
   "metadata": {
    "scrolled": true
   },
   "outputs": [],
   "source": [
    "# Zeilen löschen\n",
    "df_LY = df_LY.drop(kunden_pos).reset_index(drop = True)\n",
    "df_LO = df_LO.drop(kunden_pos).reset_index(drop = True)\n",
    "df_trans_werte = df_trans_werte.drop(kunden_pos).reset_index(drop = True)\n",
    "df_HY = df_HY.drop(kunden_pos).reset_index(drop = True)"
   ]
  },
  {
   "cell_type": "markdown",
   "id": "eb6e8d04",
   "metadata": {},
   "source": [
    "### Spezifikation des Modells"
   ]
  },
  {
   "cell_type": "code",
   "execution_count": 39,
   "id": "48b3a46c",
   "metadata": {},
   "outputs": [
    {
     "data": {
      "text/plain": [
       "633"
      ]
     },
     "execution_count": 39,
     "metadata": {},
     "output_type": "execute_result"
    }
   ],
   "source": [
    "anzahl_kunden = len(df_LY[\"iid\"])\n",
    "anzahl_kunden"
   ]
  },
  {
   "cell_type": "code",
   "execution_count": 40,
   "id": "065acf68",
   "metadata": {},
   "outputs": [
    {
     "data": {
      "text/plain": [
       "15"
      ]
     },
     "execution_count": 40,
     "metadata": {},
     "output_type": "execute_result"
    }
   ],
   "source": [
    "anzahl_monate = len(df_LY.columns[df_LY.columns != 'iid'])\n",
    "anzahl_monate"
   ]
  },
  {
   "cell_type": "code",
   "execution_count": 41,
   "id": "1da5204f",
   "metadata": {},
   "outputs": [],
   "source": [
    "anzahl_states = 3"
   ]
  },
  {
   "cell_type": "markdown",
   "id": "2797f803",
   "metadata": {},
   "source": [
    "### Nelder-Mead mit poisite Wahresceinlichkeiten nach state 1, 30k Berechungen"
   ]
  },
  {
   "cell_type": "markdown",
   "id": "b76c697e",
   "metadata": {},
   "source": [
    "### 1. Herauslesen der Parameter aus dem array der gesamten geschätzten Parameter"
   ]
  },
  {
   "cell_type": "code",
   "execution_count": 42,
   "id": "a9224a1a",
   "metadata": {},
   "outputs": [],
   "source": [
    "estimated_params=[ 0.00000000e+00, -1.08065873e+01,  1.86319601e+01,  0.00000000e+00,\n",
    "       -2.46579307e+01,  7.23046373e-01,  0.00000000e+00, -3.62911892e+00,\n",
    "        1.70149354e+01,  0.00000000e+00,  1.22702980e+00, -2.31363378e+00,\n",
    "        0.00000000e+00,  1.03831097e+00,  3.98501866e+00,  0.00000000e+00,\n",
    "       -1.03933137e+00, -8.77566481e-01,  0.00000000e+00,  1.76273515e+00,\n",
    "       -7.10962468e-01,  0.00000000e+00, -8.89512765e+00, -4.63643365e-01,\n",
    "        0.00000000e+00,  4.95599353e+00, -9.10157573e-01,  0.00000000e+00,\n",
    "        3.03642274e+00, -5.63131592e+00,  0.00000000e+00,  4.61318628e-01,\n",
    "        1.15359884e+01,  0.00000000e+00, -1.57901445e-01,  2.92499573e+00,\n",
    "        0.00000000e+00, -1.14498657e+00,  2.40136701e+00,  0.00000000e+00,\n",
    "        9.19527616e-01,  2.09920057e+01,  0.00000000e+00, -9.65897727e-02,\n",
    "       -7.85542900e-01,  1.09629299e-01,  3.29483116e+01,  1.57798185e-01,\n",
    "       -6.12830973e-01,  2.22484973e+00, -1.07644136e+01,  6.86142125e-03,\n",
    "        0.00000000e+00, -1.18898698e+00, -2.74512446e-01,  2.20371399e+00,\n",
    "       -2.17264903e+01,  8.45242511e-01, -1.45726730e-01,  1.31132997e+01,\n",
    "        2.68518247e-01,  8.92791031e-02, -2.06771370e+00, -1.52907385e-01,\n",
    "        1.14177604e+00]"
   ]
  },
  {
   "cell_type": "code",
   "execution_count": 43,
   "id": "afdcffd6",
   "metadata": {},
   "outputs": [],
   "source": [
    "alpha_size = anzahl_states**2\n",
    "gamma_size = anzahl_states**2 * 4\n",
    "\n",
    "alpha = estimated_params[:alpha_size]\n",
    "gamma = estimated_params[alpha_size:alpha_size+gamma_size]\n",
    "alpha_o = estimated_params[alpha_size+gamma_size:alpha_size+gamma_size+anzahl_states]\n",
    "beta_o = estimated_params[alpha_size+gamma_size+anzahl_states:alpha_size+gamma_size+anzahl_states+1]\n",
    "delta_0 = estimated_params[alpha_size+gamma_size+anzahl_states+1:alpha_size+gamma_size+anzahl_states*2+1]\n",
    "delta_1 = estimated_params[alpha_size+gamma_size+anzahl_states*2+1:alpha_size+gamma_size+anzahl_states*3+1]\n",
    "alpha_p = estimated_params[alpha_size+gamma_size+anzahl_states*3+1:alpha_size+gamma_size+anzahl_states*4+1]\n",
    "beta_p_1 = estimated_params[alpha_size+gamma_size+anzahl_states*4+1:alpha_size+gamma_size+anzahl_states*5+1]\n",
    "beta_p_2 = estimated_params[alpha_size+gamma_size+anzahl_states*5+1:alpha_size+gamma_size+anzahl_states*6+1]\n",
    "theta = estimated_params[alpha_size+gamma_size+anzahl_states*6+1:]"
   ]
  },
  {
   "cell_type": "code",
   "execution_count": 44,
   "id": "347e7b55",
   "metadata": {},
   "outputs": [
    {
     "data": {
      "text/plain": [
       "[2.22484973, -10.7644136, 0.00686142125]"
      ]
     },
     "execution_count": 44,
     "metadata": {},
     "output_type": "execute_result"
    }
   ],
   "source": [
    "delta_0"
   ]
  },
  {
   "cell_type": "code",
   "execution_count": 45,
   "id": "fd74bcde",
   "metadata": {},
   "outputs": [
    {
     "data": {
      "text/plain": [
       "[0.0, -1.18898698, -0.274512446]"
      ]
     },
     "execution_count": 45,
     "metadata": {},
     "output_type": "execute_result"
    }
   ],
   "source": [
    "delta_1"
   ]
  },
  {
   "cell_type": "code",
   "execution_count": 46,
   "id": "ae9e5546",
   "metadata": {},
   "outputs": [
    {
     "data": {
      "text/plain": [
       "[2.20371399, -21.7264903, 0.845242511]"
      ]
     },
     "execution_count": 46,
     "metadata": {},
     "output_type": "execute_result"
    }
   ],
   "source": [
    "alpha_p"
   ]
  },
  {
   "cell_type": "code",
   "execution_count": 47,
   "id": "48bbcb1d",
   "metadata": {},
   "outputs": [
    {
     "data": {
      "text/plain": [
       "[-0.14572673, 13.1132997, 0.268518247]"
      ]
     },
     "execution_count": 47,
     "metadata": {},
     "output_type": "execute_result"
    }
   ],
   "source": [
    "beta_p_1"
   ]
  },
  {
   "cell_type": "code",
   "execution_count": 48,
   "id": "bba40692",
   "metadata": {},
   "outputs": [
    {
     "data": {
      "text/plain": [
       "[0.0892791031, -2.0677137, -0.152907385]"
      ]
     },
     "execution_count": 48,
     "metadata": {},
     "output_type": "execute_result"
    }
   ],
   "source": [
    "beta_p_2"
   ]
  },
  {
   "cell_type": "markdown",
   "id": "bbc89a75",
   "metadata": {},
   "source": [
    "### Erstellen der erwarteten Käufe in den jeweiligen Monaten"
   ]
  },
  {
   "cell_type": "code",
   "execution_count": 49,
   "id": "401bb774",
   "metadata": {},
   "outputs": [],
   "source": [
    "# Erwartungswert = [r * (1-p)] / p"
   ]
  },
  {
   "cell_type": "markdown",
   "id": "6f0a123b",
   "metadata": {},
   "source": [
    "#### r, die Anzahl der Erfolge bis zum Abbruch, wurde vorher geschätzt"
   ]
  },
  {
   "cell_type": "code",
   "execution_count": 60,
   "id": "2713c7eb",
   "metadata": {},
   "outputs": [],
   "source": [
    "#r = 0.779"
   ]
  },
  {
   "cell_type": "markdown",
   "id": "1401b30e",
   "metadata": {},
   "source": [
    "#### Berechnun von p"
   ]
  },
  {
   "cell_type": "code",
   "execution_count": 59,
   "id": "e1392e0d",
   "metadata": {},
   "outputs": [],
   "source": [
    "def p_state_monat(delta_0, delta_1, alpha_p, beta_p_1, beta_p_2, state, monat):\n",
    "    \n",
    "    state = state -1\n",
    "    \n",
    "    # Definitio von str_monat um auf den spaltennamen zugreifen zu können\n",
    "    str_monat = str(monat)\n",
    "    EM_monat = df_HY[str_monat]\n",
    "    LY_monat = df_LY[str_monat]\n",
    "    \n",
    "    array_exp = np.exp(alpha_p[state] + beta_p_1[state] * EM_monat + beta_p_2[state] * np.square(EM_monat))\n",
    "    array_p = array_exp / (1+ array_exp)\n",
    "    \n",
    "    return array_p"
   ]
  },
  {
   "cell_type": "markdown",
   "id": "976c710a",
   "metadata": {},
   "source": [
    "### Berechung von r'"
   ]
  },
  {
   "cell_type": "code",
   "execution_count": 61,
   "id": "a5b8188c",
   "metadata": {},
   "outputs": [],
   "source": [
    "def r_state_monat(delta_0, delta_1, state, monat):\n",
    "    \n",
    "    state = state -1\n",
    "    \n",
    "    # Definitio von str_monat um auf den spaltennamen zugreifen zu können\n",
    "    str_monat = str(monat)\n",
    "    \n",
    "    LY_monat = df_LY[str_monat]\n",
    "    array_r = np.exp(delta_0[state] + delta_1[state] * np.log(LY_monat))\n",
    "    \n",
    "    return array_r"
   ]
  },
  {
   "cell_type": "markdown",
   "id": "47d3ac9a",
   "metadata": {},
   "source": [
    "#### Berechnung der Erwartungswerte"
   ]
  },
  {
   "cell_type": "code",
   "execution_count": 62,
   "id": "010349ae",
   "metadata": {},
   "outputs": [],
   "source": [
    "# Speichern der Erwartungswerte in einem array\n",
    "erwartung = np.zeros((anzahl_kunden, anzahl_states, anzahl_monate))"
   ]
  },
  {
   "cell_type": "code",
   "execution_count": 63,
   "id": "9b0eb37a",
   "metadata": {},
   "outputs": [],
   "source": [
    "for state in range(1, anzahl_states + 1):\n",
    "        for monat in range(1, anzahl_monate +1):\n",
    "            p_array = p_state_monat(delta_0, delta_1, alpha_p, beta_p_1, beta_p_2, state, monat)\n",
    "            array_r = r_state_monat(delta_0, delta_1, state, monat)\n",
    "            erwartung[:, state-1, monat-1] = (array_r * (1-p_array) / p_array)"
   ]
  },
  {
   "cell_type": "code",
   "execution_count": null,
   "id": "0fa43b0a",
   "metadata": {},
   "outputs": [],
   "source": []
  },
  {
   "cell_type": "code",
   "execution_count": 64,
   "id": "b9382487",
   "metadata": {},
   "outputs": [
    {
     "data": {
      "text/plain": [
       "0.7211761595224049"
      ]
     },
     "execution_count": 64,
     "metadata": {},
     "output_type": "execute_result"
    }
   ],
   "source": [
    "np.sum(erwartung[:,0,:])/erwartung[:,0,:].size"
   ]
  },
  {
   "cell_type": "code",
   "execution_count": 65,
   "id": "2210c5fb",
   "metadata": {},
   "outputs": [
    {
     "data": {
      "text/plain": [
       "3.487488654647268e+96"
      ]
     },
     "execution_count": 65,
     "metadata": {},
     "output_type": "execute_result"
    }
   ],
   "source": [
    "np.sum(erwartung[:,1,:])/erwartung[:,1,:].size"
   ]
  },
  {
   "cell_type": "code",
   "execution_count": 66,
   "id": "06b60915",
   "metadata": {},
   "outputs": [
    {
     "data": {
      "text/plain": [
       "41837471.56124341"
      ]
     },
     "execution_count": 66,
     "metadata": {},
     "output_type": "execute_result"
    }
   ],
   "source": [
    "np.sum(erwartung[:,2,:])/erwartung[:,2,:].size"
   ]
  },
  {
   "cell_type": "code",
   "execution_count": 67,
   "id": "6bba2022",
   "metadata": {},
   "outputs": [
    {
     "data": {
      "text/plain": [
       "0      0.000023\n",
       "1      0.000023\n",
       "2      0.000023\n",
       "3      0.000023\n",
       "4      0.000023\n",
       "         ...   \n",
       "628    0.000023\n",
       "629    0.000023\n",
       "630    0.000023\n",
       "631    0.000023\n",
       "632    0.000023\n",
       "Name: 1, Length: 633, dtype: float64"
      ]
     },
     "execution_count": 67,
     "metadata": {},
     "output_type": "execute_result"
    }
   ],
   "source": [
    "p_state_monat(delta_0, delta_1, alpha_p, beta_p_1, beta_p_2, 2, 1)"
   ]
  },
  {
   "cell_type": "code",
   "execution_count": 68,
   "id": "45bddf5c",
   "metadata": {},
   "outputs": [
    {
     "data": {
      "text/plain": [
       "0      1\n",
       "1      1\n",
       "2      1\n",
       "3      1\n",
       "4      1\n",
       "      ..\n",
       "628    1\n",
       "629    1\n",
       "630    1\n",
       "631    1\n",
       "632    1\n",
       "Name: 1, Length: 633, dtype: int32"
      ]
     },
     "execution_count": 68,
     "metadata": {},
     "output_type": "execute_result"
    }
   ],
   "source": [
    "df_HY[\"1\"]"
   ]
  },
  {
   "cell_type": "code",
   "execution_count": null,
   "id": "c971e9fa",
   "metadata": {},
   "outputs": [],
   "source": []
  }
 ],
 "metadata": {
  "kernelspec": {
   "display_name": "Python 3 (ipykernel)",
   "language": "python",
   "name": "python3"
  },
  "language_info": {
   "codemirror_mode": {
    "name": "ipython",
    "version": 3
   },
   "file_extension": ".py",
   "mimetype": "text/x-python",
   "name": "python",
   "nbconvert_exporter": "python",
   "pygments_lexer": "ipython3",
   "version": "3.9.13"
  }
 },
 "nbformat": 4,
 "nbformat_minor": 5
}
