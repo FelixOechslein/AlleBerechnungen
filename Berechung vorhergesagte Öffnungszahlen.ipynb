{
 "cells": [
  {
   "cell_type": "code",
   "execution_count": 1,
   "id": "139bbb41",
   "metadata": {},
   "outputs": [],
   "source": [
    "from scipy.stats import nbinom, binom, poisson\n",
    "from statsmodels.discrete.count_model import ZeroInflatedNegativeBinomialP\n",
    "import pandas as pd\n",
    "import numpy as np\n",
    "import matplotlib.pyplot as plt\n",
    "import scipy.stats as stats\n",
    "import math\n",
    "import seaborn as sns\n",
    "from datetime import datetime, timedelta\n",
    "from scipy.stats import pearsonr\n",
    "from scipy.stats import kendalltau\n",
    "from scipy.stats import spearmanr\n",
    "import os\n",
    "from scipy.optimize import minimize, Bounds, LinearConstraint, NonlinearConstraint\n",
    "import inspect"
   ]
  },
  {
   "cell_type": "markdown",
   "id": "daafe716",
   "metadata": {},
   "source": [
    "### Relevante Parameter:\n",
    "\n",
    "array_lambda = np.exp(np.log(0.63*EM_monat) + alpha_o[state] + beta_o[0] * np.log(LO_monat))\n",
    "\n",
    "Die Öffungszahlen sind mit einer Poissonverteilung modelliert und die Werte folgender Tabellen haben Einfluss:\n",
    "\n",
    "1. EM_monat\n",
    "2. LO_monat\n",
    "\n",
    "folgende Parameter haben einen Einfluss:\n",
    "1. alpha_o (1 x anzahl_states array, also state abhängig)\n",
    "2. beta_o (1 x 1 array, state unabhängig)"
   ]
  },
  {
   "cell_type": "code",
   "execution_count": 2,
   "id": "ea5ccfc6",
   "metadata": {},
   "outputs": [],
   "source": [
    "# EM_monat aus der HY Zahlen der versendeten Mails ziehen\n",
    "path = x\n",
    "filename = 'Pivot_HY_Privat_ohneApple_Langzeitkunde.csv'\n",
    "\n",
    "df_HY = pd.read_csv(os.path.join(path, filename))"
   ]
  },
  {
   "cell_type": "code",
   "execution_count": 3,
   "id": "a7a70f4e",
   "metadata": {},
   "outputs": [],
   "source": [
    "# LO monat\n",
    "path = x\n",
    "filename = 'Pivot_LO_Privat_ohneApple_Langzeitkunde.csv'\n",
    "\n",
    "df_LO = pd.read_csv(os.path.join(path, filename))"
   ]
  },
  {
   "cell_type": "markdown",
   "id": "51914c9c",
   "metadata": {},
   "source": [
    "### Datenanpassung wie bei der Berechnung der optimalen Parameter"
   ]
  },
  {
   "cell_type": "code",
   "execution_count": 4,
   "id": "db0df8d7",
   "metadata": {},
   "outputs": [],
   "source": [
    "## Alle DataFrame Werte von Float zu int\n",
    "df_HY = df_HY.astype(int)\n",
    "df_LO = df_LO.astype(int)"
   ]
  },
  {
   "cell_type": "markdown",
   "id": "a9706904",
   "metadata": {},
   "source": [
    "### Sicherstellen dass alle df dieselben Kunden verwenden"
   ]
  },
  {
   "cell_type": "code",
   "execution_count": 5,
   "id": "4b66f142",
   "metadata": {},
   "outputs": [],
   "source": [
    "# Entfernen der Zeilen aus df_LO, die nicht in df_HY enthalten sind\n",
    "df_LO = df_LO[df_LO['iid'].isin(df_HY['iid'])]\n",
    "df_HY = df_HY[df_HY['iid'].isin(df_LO['iid'])]"
   ]
  },
  {
   "cell_type": "markdown",
   "id": "d46ee54e",
   "metadata": {},
   "source": [
    "### Ausreißer bei den Kunden löschen (wie bei den Berechnungen)"
   ]
  },
  {
   "cell_type": "code",
   "execution_count": 8,
   "id": "506afd63",
   "metadata": {},
   "outputs": [],
   "source": [
    "kunden_pos = [384, 446, 502, 599, 421, 285, 407, 499, 348, 351, 364, 449, 528, 414]"
   ]
  },
  {
   "cell_type": "code",
   "execution_count": 9,
   "id": "5387e57e",
   "metadata": {},
   "outputs": [],
   "source": [
    "# Zeilen löschen\n",
    "df_HY = df_HY.drop(kunden_pos).reset_index(drop = True)\n",
    "df_LO = df_LO.drop(kunden_pos).reset_index(drop = True)"
   ]
  },
  {
   "cell_type": "markdown",
   "id": "eb6e8d04",
   "metadata": {},
   "source": [
    "### Spezifikation des Modells"
   ]
  },
  {
   "cell_type": "code",
   "execution_count": 10,
   "id": "48b3a46c",
   "metadata": {},
   "outputs": [
    {
     "data": {
      "text/plain": [
       "633"
      ]
     },
     "execution_count": 10,
     "metadata": {},
     "output_type": "execute_result"
    }
   ],
   "source": [
    "anzahl_kunden = len(df_HY[\"iid\"])\n",
    "anzahl_kunden"
   ]
  },
  {
   "cell_type": "code",
   "execution_count": 11,
   "id": "065acf68",
   "metadata": {},
   "outputs": [
    {
     "data": {
      "text/plain": [
       "15"
      ]
     },
     "execution_count": 11,
     "metadata": {},
     "output_type": "execute_result"
    }
   ],
   "source": [
    "anzahl_monate = len(df_HY.columns[df_HY.columns != 'iid'])\n",
    "anzahl_monate"
   ]
  },
  {
   "cell_type": "code",
   "execution_count": 12,
   "id": "1da5204f",
   "metadata": {},
   "outputs": [],
   "source": [
    "anzahl_states = 2"
   ]
  },
  {
   "cell_type": "markdown",
   "id": "31dab4c9",
   "metadata": {},
   "source": [
    "### 1. Herauslesen der Parameter aus dem array der gesamten geschätzten Parameter"
   ]
  },
  {
   "cell_type": "code",
   "execution_count": 13,
   "id": "d64bfb09",
   "metadata": {},
   "outputs": [],
   "source": [
    "estimted_params= [ 0.        , -1.84134701,  0.        ,  0.98963076,  0.        ,\n",
    "        2.68214831,  0.        ,  2.80627766,  0.        , -1.2810976 ,\n",
    "        0.        ,  0.69838679,  0.        ,  1.45855322,  0.        ,\n",
    "       -2.13009073,  0.        , -0.04889301,  0.        ,  0.62177964,\n",
    "        0.33148307,  1.39588074, -1.12147141,  7.70110619,  8.        ,\n",
    "       -1.20879416,  1.99467476, -1.11065899, -1.89390642,  0.01515651,\n",
    "        0.17867123, -0.03878318, -0.03539839,  1.03831034]"
   ]
  },
  {
   "cell_type": "code",
   "execution_count": 14,
   "id": "55b568cf",
   "metadata": {},
   "outputs": [],
   "source": [
    "alpha_size = anzahl_states**2\n",
    "gamma_size = anzahl_states**2 * 4\n",
    "\n",
    "alpha = estimted_params[:alpha_size]\n",
    "gamma = estimted_params[alpha_size:alpha_size+gamma_size]\n",
    "alpha_o = estimted_params[alpha_size+gamma_size:alpha_size+gamma_size+anzahl_states]\n",
    "beta_o = estimted_params[alpha_size+gamma_size+anzahl_states:alpha_size+gamma_size+anzahl_states+1]\n",
    "delta_0 = estimted_params[alpha_size+gamma_size+anzahl_states+1:alpha_size+gamma_size+anzahl_states*2+1]\n",
    "delta_1 = estimted_params[alpha_size+gamma_size+anzahl_states*2+1:alpha_size+gamma_size+anzahl_states*3+1]\n",
    "alpha_p = estimted_params[alpha_size+gamma_size+anzahl_states*3+1:alpha_size+gamma_size+anzahl_states*4+1]\n",
    "beta_p_1 = estimted_params[alpha_size+gamma_size+anzahl_states*4+1:alpha_size+gamma_size+anzahl_states*5+1]\n",
    "beta_p_2 = estimted_params[alpha_size+gamma_size+anzahl_states*5+1:alpha_size+gamma_size+anzahl_states*6+1]\n",
    "theta = estimted_params[alpha_size+gamma_size+anzahl_states*6+1:]"
   ]
  },
  {
   "cell_type": "code",
   "execution_count": 15,
   "id": "02f0d78c",
   "metadata": {},
   "outputs": [
    {
     "data": {
      "text/plain": [
       "[0.33148307, 1.39588074]"
      ]
     },
     "execution_count": 15,
     "metadata": {},
     "output_type": "execute_result"
    }
   ],
   "source": [
    "alpha_o"
   ]
  },
  {
   "cell_type": "code",
   "execution_count": 16,
   "id": "d644f866",
   "metadata": {},
   "outputs": [
    {
     "data": {
      "text/plain": [
       "[-1.12147141]"
      ]
     },
     "execution_count": 16,
     "metadata": {},
     "output_type": "execute_result"
    }
   ],
   "source": [
    "beta_o"
   ]
  },
  {
   "cell_type": "markdown",
   "id": "d59ee85f",
   "metadata": {},
   "source": [
    "### Erstellen der erwarteten Öffungen in den jeweiligen Monaten"
   ]
  },
  {
   "cell_type": "code",
   "execution_count": 17,
   "id": "279fd943",
   "metadata": {},
   "outputs": [],
   "source": [
    "erwartete_oeffungen = np.zeros((anzahl_kunden, anzahl_states, anzahl_monate))"
   ]
  },
  {
   "cell_type": "code",
   "execution_count": 30,
   "id": "6eb7a4bf",
   "metadata": {},
   "outputs": [],
   "source": [
    "for kunde in range(0, anzahl_kunden):    \n",
    "    for state in range(0, anzahl_states):\n",
    "        for monat in range(1, anzahl_monate +1):\n",
    "            erwartete_oeffungen[kunde, state, monat-1] =\\\n",
    "                    np.exp(np.log(0.63)*df_HY.iloc[kunde][str(monat)] + alpha_o[state] +\\\n",
    "                           beta_o[0] * np.log(df_LO.iloc[kunde][str(monat)]))"
   ]
  },
  {
   "cell_type": "code",
   "execution_count": 31,
   "id": "9ae026ec",
   "metadata": {},
   "outputs": [
    {
     "data": {
      "text/plain": [
       "0.4845917285736474"
      ]
     },
     "execution_count": 31,
     "metadata": {},
     "output_type": "execute_result"
    }
   ],
   "source": [
    "np.sum(erwartete_oeffungen[:,0,:])/erwartete_oeffungen[:,0,:].size"
   ]
  },
  {
   "cell_type": "code",
   "execution_count": 32,
   "id": "38d70e01",
   "metadata": {},
   "outputs": [
    {
     "data": {
      "text/plain": [
       "1.4048761236670053"
      ]
     },
     "execution_count": 32,
     "metadata": {},
     "output_type": "execute_result"
    }
   ],
   "source": [
    "np.sum(erwartete_oeffungen[:,1,:])/erwartete_oeffungen[:,1,:].size"
   ]
  },
  {
   "cell_type": "code",
   "execution_count": null,
   "id": "713d1f64",
   "metadata": {},
   "outputs": [],
   "source": []
  }
 ],
 "metadata": {
  "kernelspec": {
   "display_name": "Python 3 (ipykernel)",
   "language": "python",
   "name": "python3"
  },
  "language_info": {
   "codemirror_mode": {
    "name": "ipython",
    "version": 3
   },
   "file_extension": ".py",
   "mimetype": "text/x-python",
   "name": "python",
   "nbconvert_exporter": "python",
   "pygments_lexer": "ipython3",
   "version": "3.9.13"
  }
 },
 "nbformat": 4,
 "nbformat_minor": 5
}
