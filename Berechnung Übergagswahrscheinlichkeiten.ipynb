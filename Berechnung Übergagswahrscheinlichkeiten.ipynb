{
 "cells": [
  {
   "cell_type": "code",
   "execution_count": 21,
   "id": "fd94170c",
   "metadata": {},
   "outputs": [],
   "source": [
    "from scipy.stats import nbinom, binom, poisson\n",
    "from statsmodels.discrete.count_model import ZeroInflatedNegativeBinomialP\n",
    "import pandas as pd\n",
    "import numpy as np\n",
    "import matplotlib.pyplot as plt\n",
    "import scipy.stats as stats\n",
    "import math\n",
    "import seaborn as sns\n",
    "from datetime import datetime, timedelta\n",
    "from scipy.stats import pearsonr\n",
    "from scipy.stats import kendalltau\n",
    "from scipy.stats import spearmanr\n",
    "import os\n",
    "from scipy.optimize import minimize, Bounds, LinearConstraint, NonlinearConstraint\n",
    "import inspect"
   ]
  },
  {
   "cell_type": "code",
   "execution_count": 22,
   "id": "20896158",
   "metadata": {},
   "outputs": [],
   "source": [
    "path = \n",
    "filename = 'Pivot_Trans_Privat_ohneApple_Langzeitkunde.csv'\n",
    "\n",
    "df_trans_werte = pd.read_csv(os.path.join(path, filename))"
   ]
  },
  {
   "cell_type": "code",
   "execution_count": 23,
   "id": "d08f8cc0",
   "metadata": {},
   "outputs": [],
   "source": [
    "path = \n",
    "filename = 'Pivot_LY_Privat_ohneApple_Langzeitkunde.csv'\n",
    "\n",
    "df_LY = pd.read_csv(os.path.join(path, filename))"
   ]
  },
  {
   "cell_type": "code",
   "execution_count": 24,
   "id": "80c1f569",
   "metadata": {},
   "outputs": [],
   "source": [
    "path = \n",
    "filename = 'Pivot_HY_Privat_ohneApple_Langzeitkunde.csv'\n",
    "\n",
    "df_HY = pd.read_csv(os.path.join(path, filename))"
   ]
  },
  {
   "cell_type": "code",
   "execution_count": 25,
   "id": "39a4fcd2",
   "metadata": {},
   "outputs": [],
   "source": [
    "path = \n",
    "filename = 'Pivot_NO_Privat_ohneApple_Langzeitkunde.csv'\n",
    "\n",
    "df_NO_werte = pd.read_csv(os.path.join(path, filename))"
   ]
  },
  {
   "cell_type": "code",
   "execution_count": 26,
   "id": "f8f20ad1",
   "metadata": {},
   "outputs": [],
   "source": [
    "path = \n",
    "filename = 'Pivot_LO_Privat_ohneApple_Langzeitkunde.csv'\n",
    "\n",
    "df_LO = pd.read_csv(os.path.join(path, filename))"
   ]
  },
  {
   "cell_type": "code",
   "execution_count": 27,
   "id": "3bd2ddf9",
   "metadata": {},
   "outputs": [],
   "source": [
    "## Alle DataFrame Werte von Float zu int\n",
    "df_trans_werte = df_trans_werte.astype(int)\n",
    "df_LY = df_LY.astype(int)\n",
    "df_HY = df_HY.astype(int)\n",
    "df_NO_werte = df_NO_werte.astype(int)\n",
    "df_LO = df_LO.astype(int)\n",
    "\n",
    "# Transwerte-1 definiert für spätere Berecnungen in der Copula\n",
    "#df_trans_werte_minusEins = df_trans_werte.loc[:, df_NO_werte.columns != 'iid'] -1\n",
    "#df_trans_werte_minusEins = df_trans_werte_minusEins.astype(int)"
   ]
  },
  {
   "cell_type": "code",
   "execution_count": 28,
   "id": "a9d30201",
   "metadata": {},
   "outputs": [],
   "source": [
    "# Entfernen der Zeilen aus df_HY, die nicht in df_trans_werte und df_LO enthalten sind\n",
    "df_HY = df_HY[df_HY['iid'].isin(df_trans_werte['iid'])]\n",
    "df_HY = df_HY[df_HY['iid'].isin(df_LO['iid'])]\n",
    "\n",
    "# Entfernen der Zeilen aus df_trans_werte, die nicht in df_HY, df_NO_werte und df_LY enthalten sind\n",
    "df_trans_werte = df_trans_werte[df_trans_werte['iid'].isin(df_HY['iid'])]\n",
    "df_trans_werte = df_trans_werte[df_trans_werte['iid'].isin(df_NO_werte['iid'])]\n",
    "df_trans_werte = df_trans_werte[df_trans_werte['iid'].isin(df_LY['iid'])]\n",
    "\n",
    "# Entfernen der Zeilen aus df_LO, die nicht in df_HY enthalten sind\n",
    "df_LO = df_LO[df_LO['iid'].isin(df_HY['iid'])]\n",
    "\n",
    "# Entfernen der Zeilen aus df_NO_werte, die nicht in df_trans_werte enthalten sind\n",
    "df_NO_werte = df_NO_werte[df_NO_werte['iid'].isin(df_trans_werte['iid'])]\n",
    "\n",
    "# Entfernen der Zeilen aus df_LY, die nicht in df_trans_werte enthalten sind\n",
    "df_LY = df_LY[df_LY['iid'].isin(df_trans_werte['iid'])]\n",
    "\n",
    "### Alle DataFrames Indizes resetten, damit man sie gemeinsam identifiziere kann\n",
    "df_HY = df_HY.reset_index(drop=True)\n",
    "df_trans_werte = df_trans_werte.reset_index(drop=True)\n",
    "df_LO = df_LO.reset_index(drop=True)\n",
    "df_NO_werte = df_NO_werte.reset_index(drop=True)\n",
    "df_LY = df_LY.reset_index(drop=True)\n",
    "\n",
    "# NO-1 definiert für spätere Berechnung inder Copula\n",
    "df_NO_minusEins = df_NO_werte.copy()\n",
    "df_NO_minusEins.loc[:, df_NO_minusEins.columns != 'iid'] = df_NO_minusEins.loc[:, df_NO_minusEins.columns != 'iid'] -1\n",
    "df_NO_minusEins = df_NO_minusEins.astype(int)\n",
    "# transwerte -1 definiert für spätere Berechnung inder Copula\n",
    "df_trans_werte_minusEins = df_trans_werte.copy()\n",
    "df_trans_werte_minusEins.loc[:, df_trans_werte_minusEins.columns != 'iid'] = df_trans_werte_minusEins.loc[:, df_trans_werte_minusEins.columns != 'iid'] -1\n",
    "df_trans_werte_minusEins = df_trans_werte_minusEins.astype(int)"
   ]
  },
  {
   "cell_type": "code",
   "execution_count": 29,
   "id": "f90b4bf9",
   "metadata": {},
   "outputs": [],
   "source": [
    "kunden_pos = [384, 446, 502, 599, 421, 285, 407, 499, 348, 351, 364, 449, 528, 414]"
   ]
  },
  {
   "cell_type": "code",
   "execution_count": 30,
   "id": "b3c5ae6a",
   "metadata": {},
   "outputs": [],
   "source": [
    "# Zeilen löschen\n",
    "df_NO_minusEins = df_NO_minusEins.drop(kunden_pos).reset_index(drop = True)\n",
    "df_HY = df_HY.drop(kunden_pos).reset_index(drop = True)\n",
    "df_trans_werte = df_trans_werte.drop(kunden_pos).reset_index(drop = True)\n",
    "df_LO = df_LO.drop(kunden_pos).reset_index(drop = True)\n",
    "df_NO_werte = df_NO_werte.drop(kunden_pos).reset_index(drop = True)\n",
    "df_LY = df_LY.drop(kunden_pos).reset_index(drop = True)\n",
    "df_trans_werte_minusEins = df_trans_werte_minusEins.drop(kunden_pos).reset_index(drop = True)"
   ]
  },
  {
   "cell_type": "code",
   "execution_count": 31,
   "id": "17eabe77",
   "metadata": {},
   "outputs": [
    {
     "data": {
      "text/plain": [
       "633"
      ]
     },
     "execution_count": 31,
     "metadata": {},
     "output_type": "execute_result"
    }
   ],
   "source": [
    "anzahl_kunden = len(df_HY[\"iid\"])\n",
    "anzahl_kunden"
   ]
  },
  {
   "cell_type": "code",
   "execution_count": 32,
   "id": "b89a24de",
   "metadata": {},
   "outputs": [
    {
     "data": {
      "text/plain": [
       "15"
      ]
     },
     "execution_count": 32,
     "metadata": {},
     "output_type": "execute_result"
    }
   ],
   "source": [
    "anzahl_monate = len(df_HY.columns[df_HY.columns != 'iid'])\n",
    "anzahl_monate"
   ]
  },
  {
   "cell_type": "code",
   "execution_count": 33,
   "id": "9f5d7d3d",
   "metadata": {},
   "outputs": [],
   "source": [
    "anzahl_states = 2"
   ]
  },
  {
   "cell_type": "markdown",
   "id": "668b6940",
   "metadata": {},
   "source": [
    "## Ermittlung \"typischer\" Kunde"
   ]
  },
  {
   "cell_type": "code",
   "execution_count": null,
   "id": "66723042",
   "metadata": {},
   "outputs": [],
   "source": [
    "# O-monat"
   ]
  },
  {
   "cell_type": "code",
   "execution_count": 49,
   "id": "3a11e257",
   "metadata": {},
   "outputs": [
    {
     "data": {
      "text/plain": [
       "0.579989468141127"
      ]
     },
     "execution_count": 49,
     "metadata": {},
     "output_type": "execute_result"
    }
   ],
   "source": [
    "O_monat_minusEins = df_NO_werte.copy()\n",
    "for monat in range(1, anzahl_monate +1):\n",
    "    O_monat_minusEins[str(monat)] = O_monat_minusEins[str(monat)].apply(lambda x: int(x > 0))\n",
    "\n",
    "summe = O_monat_minusEins.loc[:, O_monat_minusEins.columns != 'iid'].sum().sum()\n",
    "summe/(anzahl_monate * anzahl_kunden)"
   ]
  },
  {
   "cell_type": "code",
   "execution_count": 50,
   "id": "d6d1865d",
   "metadata": {},
   "outputs": [],
   "source": [
    "# y-monat"
   ]
  },
  {
   "cell_type": "code",
   "execution_count": 52,
   "id": "a0ed7f7b",
   "metadata": {},
   "outputs": [
    {
     "data": {
      "text/plain": [
       "0.32090573986308585"
      ]
     },
     "execution_count": 52,
     "metadata": {},
     "output_type": "execute_result"
    }
   ],
   "source": [
    "Y_monat_minusEins = df_trans_werte.copy()\n",
    "for monat in range(1, anzahl_monate +1):\n",
    "    Y_monat_minusEins[str(monat)] = Y_monat_minusEins[str(monat)].apply(lambda x: int(x > 0))\n",
    "\n",
    "summe = Y_monat_minusEins.loc[:, Y_monat_minusEins.columns != 'iid'].sum().sum()\n",
    "summe/(anzahl_monate * anzahl_kunden)"
   ]
  },
  {
   "cell_type": "markdown",
   "id": "987118a0",
   "metadata": {},
   "source": [
    "### Herauslese der geschätzten Parameter"
   ]
  },
  {
   "cell_type": "code",
   "execution_count": 92,
   "id": "8608d9c8",
   "metadata": {},
   "outputs": [],
   "source": [
    "estimted_params_2 = [ 0.        , -1.84134701,  0.        ,  0.98963076,  0.        ,\n",
    "        2.68214831,  0.        ,  2.80627766,  0.        , -1.2810976 ,\n",
    "        0.        ,  0.69838679,  0.        ,  1.45855322,  0.        ,\n",
    "       -2.13009073,  0.        , -0.04889301,  0.        ,  0.62177964,\n",
    "        0.33148307,  1.39588074, -1.12147141,  7.70110619,  8.        ,\n",
    "       -1.20879416,  1.99467476, -1.11065899, -1.89390642,  0.01515651,\n",
    "        0.17867123, -0.03878318, -0.03539839,  1.03831034]"
   ]
  },
  {
   "cell_type": "code",
   "execution_count": 93,
   "id": "9f91acfa",
   "metadata": {},
   "outputs": [],
   "source": [
    "alpha_size = anzahl_states**2\n",
    "gamma_size = anzahl_states**2 * 4\n",
    "\n",
    "alpha = estimted_params_2[:alpha_size]\n",
    "gamma = estimted_params_2[alpha_size:alpha_size+gamma_size]\n",
    "alpha_o = estimted_params_2[alpha_size+gamma_size:alpha_size+gamma_size+anzahl_states]\n",
    "beta_o = estimted_params_2[alpha_size+gamma_size+anzahl_states:alpha_size+gamma_size+anzahl_states+1]\n",
    "delta_0 = estimted_params_2[alpha_size+gamma_size+anzahl_states+1:alpha_size+gamma_size+anzahl_states*2+1]\n",
    "delta_1 = estimted_params_2[alpha_size+gamma_size+anzahl_states*2+1:alpha_size+gamma_size+anzahl_states*3+1]\n",
    "alpha_p = estimted_params_2[alpha_size+gamma_size+anzahl_states*3+1:alpha_size+gamma_size+anzahl_states*4+1]\n",
    "beta_p_1 = estimted_params_2[alpha_size+gamma_size+anzahl_states*4+1:alpha_size+gamma_size+anzahl_states*5+1]\n",
    "beta_p_2 = estimted_params_2[alpha_size+gamma_size+anzahl_states*5+1:alpha_size+gamma_size+anzahl_states*6+1]\n",
    "theta = estimted_params_2[alpha_size+gamma_size+anzahl_states*6+1:]"
   ]
  },
  {
   "cell_type": "code",
   "execution_count": 36,
   "id": "c9ea3997",
   "metadata": {},
   "outputs": [
    {
     "data": {
      "text/plain": [
       "[0.0, -2.57542179, 0.0, 2.62717551]"
      ]
     },
     "execution_count": 36,
     "metadata": {},
     "output_type": "execute_result"
    }
   ],
   "source": [
    "alpha"
   ]
  },
  {
   "cell_type": "code",
   "execution_count": 182,
   "id": "8d751c57",
   "metadata": {},
   "outputs": [],
   "source": [
    "def Q_v_state_t_minusEins_state_t_monat(alpha, gamma, state_t_minusEins, state, monat):\n",
    "    \n",
    "    state_t_minusEins = state_t_minusEins -1\n",
    "    state = state -1\n",
    "    str_monat = str(monat)\n",
    "    \n",
    "    # Definition der X_t_minusEins\n",
    "    # verwendete Parameter, hier anpassen um verschiedene tests durchzuführen\n",
    "    EM_monat_minusEins = EM_tryout[str_monat]\n",
    "    Y_monat_minusEins = df_ones[str_monat]\n",
    "    O_monat_minusEins = df_null[str_monat]\n",
    "    # Definition\n",
    "    X_t_minusEins = [O_monat_minusEins.apply(lambda x: int(x > 0)),\\\n",
    "                     Y_monat_minusEins.apply(lambda x: int(x > 0)),\\\n",
    "                     EM_monat_minusEins, np.square(EM_monat_minusEins)]\n",
    "    \n",
    "    X_t_minusEins = np.array(X_t_minusEins)\n",
    "    array_v = alpha[anzahl_states*state_t_minusEins + state] +\\\n",
    "                    gamma[anzahl_states*state_t_minusEins + state] * X_t_minusEins[0] +\\\n",
    "                    gamma[(np.square(anzahl_states)) + anzahl_states*state_t_minusEins + state] * X_t_minusEins[1] +\\\n",
    "                    gamma[(2* np.square(anzahl_states)) + anzahl_states*state_t_minusEins + state] * X_t_minusEins[2] +\\\n",
    "                    gamma[(3* np.square(anzahl_states)) + anzahl_states*state_t_minusEins + state] * X_t_minusEins[3]\n",
    "\n",
    "    return array_v\n",
    "\n",
    "# Definition der Transitionmatrix\n",
    "def probability_Q_state_monat(alpha, gamma):\n",
    "    \n",
    "    ### Erstellung leerer anzahl_states x anzahl_states arrays für jeden Kunden und jeden Monat\n",
    "    Q = np.zeros((anzahl_kunden, anzahl_monate - 1, anzahl_states, anzahl_states))\n",
    "                \n",
    "    for monat in range(2, anzahl_monate + 1):\n",
    "        \n",
    "        for state_t_minusEins in range(1, anzahl_states +1):\n",
    "            \n",
    "            # Erste Spalte besteht aus Nullen, da eine Trasition zurück in state 1 nicht möglich ist\n",
    "            for state in range(2, anzahl_states +1):\n",
    "                \n",
    "                q_array_iid_monat_state = Q_v_state_t_minusEins_state_t_monat(alpha, gamma, state_t_minusEins, state, monat)\n",
    "\n",
    "                # Speicherung der Werte in den leeren arrays\n",
    "                for iid in range(0, anzahl_kunden):\n",
    "                    \n",
    "                    #Neue Definition ohne die Verwedung von Namen\n",
    "                    Q[iid, monat-2, state_t_minusEins-1, state-1] = q_array_iid_monat_state[iid]\n",
    "                    \n",
    "\n",
    "    Q[:,:,:,0] = 0.0\n",
    "    denominator = np.sum(np.exp(Q[..., 1:]), axis=3, keepdims=True)\n",
    "    Q = np.exp(Q)/(1+denominator)\n",
    "    \n",
    "    return Q"
   ]
  },
  {
   "cell_type": "markdown",
   "id": "d9c4428b",
   "metadata": {},
   "source": [
    "### Q Berechnun für verschiedene Kunden\n",
    "#### Treffe folgende Anpassungen, um Werte zu erhalten:\n",
    "#### EM_monat_minusEins = EM_tryout[str_monat]\n",
    "#### Y_monat_minusEins = df_ones[str_monat] , hier ones oder null zur Apassung ob im vorherigen monat ein Kauf getätit wurde\n",
    "#### O_monat_minusEins = df_null[str_monat] , hier ones oder null zur Apassung ob im vorherigen monat eine Öffnung getätit wurde"
   ]
  },
  {
   "cell_type": "code",
   "execution_count": 75,
   "id": "bdb0efd1",
   "metadata": {},
   "outputs": [],
   "source": [
    "# Erstelle ein DataFrame mit derselben Struktur und Anzahl an Zeilen wie df_trans_werte\n",
    "df_null = pd.DataFrame(index=df_trans_werte.index, columns=df_trans_werte.columns)\n",
    "\n",
    "# Fülle das DataFrame mit Nullen\n",
    "df_null = df_null.fillna(0)"
   ]
  },
  {
   "cell_type": "code",
   "execution_count": 76,
   "id": "af84f3e5",
   "metadata": {},
   "outputs": [],
   "source": [
    "# Erstelle ein DataFrame mit derselben Struktur und Anzahl an Zeilen wie df_trans_werte\n",
    "df_ones = pd.DataFrame(index=df_trans_werte.index, columns=df_trans_werte.columns)\n",
    "\n",
    "# Fülle das DataFrame mit Nullen\n",
    "df_ones = df_ones.fillna(1)"
   ]
  },
  {
   "cell_type": "code",
   "execution_count": 181,
   "id": "06ec05c2",
   "metadata": {},
   "outputs": [],
   "source": [
    "# Erstelle ein DataFrame mit derselben Struktur und Anzahl an Zeilen wie df_trans_werte\n",
    "EM_tryout = pd.DataFrame(index=df_trans_werte.index, columns=df_trans_werte.columns)\n",
    "\n",
    "# Fülle das DataFrame mit Nullen\n",
    "EM_tryout = df_ones.fillna(1) * 3"
   ]
  },
  {
   "cell_type": "markdown",
   "id": "18971d4f",
   "metadata": {},
   "source": [
    "### Nach oben beschriebenen Anpassungen, können un die Übergangswahrscheinlihkeiten dargestellt werden"
   ]
  },
  {
   "cell_type": "code",
   "execution_count": 183,
   "id": "39b63df6",
   "metadata": {},
   "outputs": [],
   "source": [
    "probs = probability_Q_state_monat(alpha, gamma)"
   ]
  },
  {
   "cell_type": "code",
   "execution_count": 184,
   "id": "686c8145",
   "metadata": {},
   "outputs": [
    {
     "data": {
      "text/plain": [
       "array([[[0.30721371, 0.69278629],\n",
       "        [0.29033407, 0.70966593]],\n",
       "\n",
       "       [[0.30721371, 0.69278629],\n",
       "        [0.29033407, 0.70966593]],\n",
       "\n",
       "       [[0.30721371, 0.69278629],\n",
       "        [0.29033407, 0.70966593]],\n",
       "\n",
       "       [[0.30721371, 0.69278629],\n",
       "        [0.29033407, 0.70966593]],\n",
       "\n",
       "       [[0.30721371, 0.69278629],\n",
       "        [0.29033407, 0.70966593]],\n",
       "\n",
       "       [[0.30721371, 0.69278629],\n",
       "        [0.29033407, 0.70966593]],\n",
       "\n",
       "       [[0.30721371, 0.69278629],\n",
       "        [0.29033407, 0.70966593]],\n",
       "\n",
       "       [[0.30721371, 0.69278629],\n",
       "        [0.29033407, 0.70966593]],\n",
       "\n",
       "       [[0.30721371, 0.69278629],\n",
       "        [0.29033407, 0.70966593]],\n",
       "\n",
       "       [[0.30721371, 0.69278629],\n",
       "        [0.29033407, 0.70966593]],\n",
       "\n",
       "       [[0.30721371, 0.69278629],\n",
       "        [0.29033407, 0.70966593]],\n",
       "\n",
       "       [[0.30721371, 0.69278629],\n",
       "        [0.29033407, 0.70966593]],\n",
       "\n",
       "       [[0.30721371, 0.69278629],\n",
       "        [0.29033407, 0.70966593]],\n",
       "\n",
       "       [[0.30721371, 0.69278629],\n",
       "        [0.29033407, 0.70966593]]])"
      ]
     },
     "execution_count": 184,
     "metadata": {},
     "output_type": "execute_result"
    }
   ],
   "source": [
    "probs[10]"
   ]
  },
  {
   "cell_type": "code",
   "execution_count": null,
   "id": "b4eb0c6f",
   "metadata": {},
   "outputs": [],
   "source": []
  }
 ],
 "metadata": {
  "kernelspec": {
   "display_name": "Python 3 (ipykernel)",
   "language": "python",
   "name": "python3"
  },
  "language_info": {
   "codemirror_mode": {
    "name": "ipython",
    "version": 3
   },
   "file_extension": ".py",
   "mimetype": "text/x-python",
   "name": "python",
   "nbconvert_exporter": "python",
   "pygments_lexer": "ipython3",
   "version": "3.9.13"
  }
 },
 "nbformat": 4,
 "nbformat_minor": 5
}
