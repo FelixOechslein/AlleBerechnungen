{
 "cells": [
  {
   "cell_type": "code",
   "execution_count": 3,
   "id": "139bbb41",
   "metadata": {},
   "outputs": [],
   "source": [
    "from scipy.stats import nbinom, binom, poisson\n",
    "from statsmodels.discrete.count_model import ZeroInflatedNegativeBinomialP\n",
    "import pandas as pd\n",
    "import numpy as np\n",
    "import matplotlib.pyplot as plt\n",
    "import scipy.stats as stats\n",
    "import math\n",
    "import seaborn as sns\n",
    "from datetime import datetime, timedelta\n",
    "from scipy.stats import pearsonr\n",
    "from scipy.stats import kendalltau\n",
    "from scipy.stats import spearmanr\n",
    "import os\n",
    "from scipy.optimize import minimize, Bounds, LinearConstraint, NonlinearConstraint\n",
    "import inspect"
   ]
  },
  {
   "cell_type": "markdown",
   "id": "daafe716",
   "metadata": {},
   "source": [
    "### Relevante Parameter:\n",
    "\n",
    "array_lambda = np.exp(np.log(0.63*EM_monat) + alpha_o[state] + beta_o[0] * np.log(LO_monat))\n",
    "\n",
    "Die Öffungszahlen sind mit einer Poissonverteilung modelliert und die Werte folgender Tabellen haben Einfluss:\n",
    "\n",
    "1. EM_monat\n",
    "2. LO_monat\n",
    "\n",
    "folgende Parameter haben einen Einfluss:\n",
    "1. alpha_o (1 x anzahl_states array, also state abhängig)\n",
    "2. beta_o (1 x 1 array, state unabhängig)"
   ]
  },
  {
   "cell_type": "code",
   "execution_count": 4,
   "id": "ea5ccfc6",
   "metadata": {},
   "outputs": [],
   "source": [
    "# EM_monat aus der HY Zahlen der versendeten Mails ziehen\n",
    "path = r'C:/Users/felix.oechslein/Desktop/Analysen Thalia, Mai/verarbeitete_daten'\n",
    "filename = 'Pivot_HY_Privat_ohneApple_Langzeitkunde.csv'\n",
    "\n",
    "df_HY = pd.read_csv(os.path.join(path, filename))"
   ]
  },
  {
   "cell_type": "code",
   "execution_count": 5,
   "id": "a7a70f4e",
   "metadata": {},
   "outputs": [],
   "source": [
    "# LO monat\n",
    "path = r'C:/Users/felix.oechslein/Desktop/Analysen Thalia, Mai/verarbeitete_daten'\n",
    "filename = 'Pivot_LO_Privat_ohneApple_Langzeitkunde.csv'\n",
    "\n",
    "df_LO = pd.read_csv(os.path.join(path, filename))"
   ]
  },
  {
   "cell_type": "markdown",
   "id": "51914c9c",
   "metadata": {},
   "source": [
    "### Datenanpassung wie bei der Berechnung der optimalen Parameter"
   ]
  },
  {
   "cell_type": "code",
   "execution_count": 6,
   "id": "db0df8d7",
   "metadata": {},
   "outputs": [],
   "source": [
    "## Alle DataFrame Werte von Float zu int\n",
    "df_HY = df_HY.astype(int)\n",
    "df_LO = df_LO.astype(int)"
   ]
  },
  {
   "cell_type": "markdown",
   "id": "a9706904",
   "metadata": {},
   "source": [
    "### Sicherstellen dass alle df dieselben Kunden verwenden"
   ]
  },
  {
   "cell_type": "code",
   "execution_count": 7,
   "id": "4b66f142",
   "metadata": {},
   "outputs": [],
   "source": [
    "# Entfernen der Zeilen aus df_LO, die nicht in df_HY enthalten sind\n",
    "df_LO = df_LO[df_LO['iid'].isin(df_HY['iid'])]\n",
    "df_HY = df_HY[df_HY['iid'].isin(df_LO['iid'])]"
   ]
  },
  {
   "cell_type": "code",
   "execution_count": 8,
   "id": "91d9c314",
   "metadata": {},
   "outputs": [
    {
     "data": {
      "text/plain": [
       "647"
      ]
     },
     "execution_count": 8,
     "metadata": {},
     "output_type": "execute_result"
    }
   ],
   "source": [
    "len(df_LO)"
   ]
  },
  {
   "cell_type": "code",
   "execution_count": 9,
   "id": "b6a193f7",
   "metadata": {},
   "outputs": [
    {
     "data": {
      "text/plain": [
       "647"
      ]
     },
     "execution_count": 9,
     "metadata": {},
     "output_type": "execute_result"
    }
   ],
   "source": [
    "len(df_HY)"
   ]
  },
  {
   "cell_type": "markdown",
   "id": "d46ee54e",
   "metadata": {},
   "source": [
    "### Ausreißer bei den Kunden löschen (wie bei den Berechnungen)"
   ]
  },
  {
   "cell_type": "code",
   "execution_count": 10,
   "id": "506afd63",
   "metadata": {},
   "outputs": [],
   "source": [
    "kunden_pos = [384, 446, 502, 599, 421, 285, 407, 499, 348, 351, 364, 449, 528, 414]"
   ]
  },
  {
   "cell_type": "code",
   "execution_count": 11,
   "id": "5387e57e",
   "metadata": {},
   "outputs": [],
   "source": [
    "# Zeilen löschen\n",
    "df_HY = df_HY.drop(kunden_pos).reset_index(drop = True)\n",
    "df_LO = df_LO.drop(kunden_pos).reset_index(drop = True)"
   ]
  },
  {
   "cell_type": "markdown",
   "id": "eb6e8d04",
   "metadata": {},
   "source": [
    "### Spezifikation des Modells"
   ]
  },
  {
   "cell_type": "code",
   "execution_count": 12,
   "id": "48b3a46c",
   "metadata": {},
   "outputs": [
    {
     "data": {
      "text/plain": [
       "633"
      ]
     },
     "execution_count": 12,
     "metadata": {},
     "output_type": "execute_result"
    }
   ],
   "source": [
    "anzahl_kunden = len(df_HY[\"iid\"])\n",
    "anzahl_kunden"
   ]
  },
  {
   "cell_type": "code",
   "execution_count": 13,
   "id": "065acf68",
   "metadata": {},
   "outputs": [
    {
     "data": {
      "text/plain": [
       "15"
      ]
     },
     "execution_count": 13,
     "metadata": {},
     "output_type": "execute_result"
    }
   ],
   "source": [
    "anzahl_monate = len(df_HY.columns[df_HY.columns != 'iid'])\n",
    "anzahl_monate"
   ]
  },
  {
   "cell_type": "code",
   "execution_count": 14,
   "id": "1da5204f",
   "metadata": {},
   "outputs": [],
   "source": [
    "anzahl_states = 2"
   ]
  },
  {
   "cell_type": "markdown",
   "id": "31dab4c9",
   "metadata": {},
   "source": [
    "### 1. Herauslesen der Parameter aus dem array der gesamten geschätzten Parameter"
   ]
  },
  {
   "cell_type": "code",
   "execution_count": 15,
   "id": "d64bfb09",
   "metadata": {},
   "outputs": [],
   "source": [
    "estimted_params=[  0.        , -18.15053611,   0.        , -58.29432985,\n",
    "         0.        ,  -2.90055678,   0.        ,  14.34443851,\n",
    "         0.        ,   0.45459921,   0.        , -15.93902142,\n",
    "         0.        ,  26.45959452,   0.        ,  44.41306213,\n",
    "         0.        ,  -7.85441467,   0.        , -11.04343658,\n",
    "         0.73832154,   1.79246772,  -1.25828191,   8.15200577,\n",
    "        14.28575254,  -0.76026437,  -1.58603474,  -1.21677622,\n",
    "        -2.79459761,  -0.25805106,   0.73952882,   0.08644445,\n",
    "        -0.11602983,   0.81965572]"
   ]
  },
  {
   "cell_type": "code",
   "execution_count": 16,
   "id": "55b568cf",
   "metadata": {},
   "outputs": [],
   "source": [
    "alpha_size = anzahl_states**2\n",
    "gamma_size = anzahl_states**2 * 4\n",
    "\n",
    "alpha = estimted_params[:alpha_size]\n",
    "gamma = estimted_params[alpha_size:alpha_size+gamma_size]\n",
    "alpha_o = estimted_params[alpha_size+gamma_size:alpha_size+gamma_size+anzahl_states]\n",
    "beta_o = estimted_params[alpha_size+gamma_size+anzahl_states:alpha_size+gamma_size+anzahl_states+1]\n",
    "delta_0 = estimted_params[alpha_size+gamma_size+anzahl_states+1:alpha_size+gamma_size+anzahl_states*2+1]\n",
    "delta_1 = estimted_params[alpha_size+gamma_size+anzahl_states*2+1:alpha_size+gamma_size+anzahl_states*3+1]\n",
    "alpha_p = estimted_params[alpha_size+gamma_size+anzahl_states*3+1:alpha_size+gamma_size+anzahl_states*4+1]\n",
    "beta_p_1 = estimted_params[alpha_size+gamma_size+anzahl_states*4+1:alpha_size+gamma_size+anzahl_states*5+1]\n",
    "beta_p_2 = estimted_params[alpha_size+gamma_size+anzahl_states*5+1:alpha_size+gamma_size+anzahl_states*6+1]\n",
    "theta = estimted_params[alpha_size+gamma_size+anzahl_states*6+1:]"
   ]
  },
  {
   "cell_type": "code",
   "execution_count": 17,
   "id": "02f0d78c",
   "metadata": {},
   "outputs": [
    {
     "data": {
      "text/plain": [
       "[0.73832154, 1.79246772]"
      ]
     },
     "execution_count": 17,
     "metadata": {},
     "output_type": "execute_result"
    }
   ],
   "source": [
    "alpha_o"
   ]
  },
  {
   "cell_type": "code",
   "execution_count": 18,
   "id": "d644f866",
   "metadata": {},
   "outputs": [
    {
     "data": {
      "text/plain": [
       "[-1.25828191]"
      ]
     },
     "execution_count": 18,
     "metadata": {},
     "output_type": "execute_result"
    }
   ],
   "source": [
    "beta_o"
   ]
  },
  {
   "cell_type": "markdown",
   "id": "d59ee85f",
   "metadata": {},
   "source": [
    "### Erstellen der erwarteten Öffungen in den jeweiligen Monaten"
   ]
  },
  {
   "cell_type": "code",
   "execution_count": 19,
   "id": "279fd943",
   "metadata": {},
   "outputs": [],
   "source": [
    "erwartete_oeffungen = np.zeros((anzahl_kunden, anzahl_states, anzahl_monate))"
   ]
  },
  {
   "cell_type": "code",
   "execution_count": 20,
   "id": "6eb7a4bf",
   "metadata": {},
   "outputs": [],
   "source": [
    "for kunde in range(0, anzahl_kunden):    \n",
    "    for state in range(0, anzahl_states):\n",
    "        for monat in range(1, anzahl_monate +1):\n",
    "            erwartete_oeffungen[kunde, state-1, monat-1] =\\\n",
    "                    np.exp(np.log(0.63)*df_HY.iloc[kunde][str(monat)] + alpha_o[state] +\\\n",
    "                           beta_o[0] * np.log(df_LO.iloc[kunde][str(monat)]))"
   ]
  },
  {
   "cell_type": "code",
   "execution_count": 21,
   "id": "9ae026ec",
   "metadata": {},
   "outputs": [
    {
     "data": {
      "text/plain": [
       "2.039700874706104"
      ]
     },
     "execution_count": 21,
     "metadata": {},
     "output_type": "execute_result"
    }
   ],
   "source": [
    "np.sum(erwartete_oeffungen[:,0,:])/erwartete_oeffungen[:,0,:].size"
   ]
  },
  {
   "cell_type": "code",
   "execution_count": 22,
   "id": "38d70e01",
   "metadata": {},
   "outputs": [
    {
     "data": {
      "text/plain": [
       "0.7108150476250417"
      ]
     },
     "execution_count": 22,
     "metadata": {},
     "output_type": "execute_result"
    }
   ],
   "source": [
    "np.sum(erwartete_oeffungen[:,1,:])/erwartete_oeffungen[:,1,:].size"
   ]
  },
  {
   "cell_type": "markdown",
   "id": "1bd4ca1c",
   "metadata": {},
   "source": [
    "# 2.Test für 2 states und 1000 Iterationen und bounds"
   ]
  },
  {
   "cell_type": "markdown",
   "id": "6b588581",
   "metadata": {},
   "source": [
    "### 1. Herauslesen der Parameter aus dem array der gesamten geschätzten Parameter"
   ]
  },
  {
   "cell_type": "code",
   "execution_count": 24,
   "id": "4286bb00",
   "metadata": {},
   "outputs": [],
   "source": [
    "estimated_params_2 = [ 0.        ,  3.13291287,  0.        ,  1.60263079,  0.        ,\n",
    "        0.06988214,  0.        ,  0.79140532,  0.        ,  0.91950281,\n",
    "        0.        , -1.10907081,  0.        , -3.41801979,  0.        ,\n",
    "       -3.41917121,  0.        , -4.23594507,  0.        , -3.9000474 ,\n",
    "        1.10129257, -5.        , -0.79042102,  5.        ,  5.        ,\n",
    "        4.63925216,  1.95999501, -0.53922688, -1.71813938, -0.86955723,\n",
    "       -1.45737121,  0.18195139,  1.1       ,  0.90651293]"
   ]
  },
  {
   "cell_type": "code",
   "execution_count": 25,
   "id": "f9f22bed",
   "metadata": {},
   "outputs": [],
   "source": [
    "alpha_size = anzahl_states**2\n",
    "gamma_size = anzahl_states**2 * 4\n",
    "\n",
    "alpha_2 = estimated_params_2[:alpha_size]\n",
    "gamma_2 = estimated_params_2[alpha_size:alpha_size+gamma_size]\n",
    "alpha_o_2 = estimated_params_2[alpha_size+gamma_size:alpha_size+gamma_size+anzahl_states]\n",
    "beta_o_2 = estimated_params_2[alpha_size+gamma_size+anzahl_states:alpha_size+gamma_size+anzahl_states+1]\n",
    "delta_0_2 = estimated_params_2[alpha_size+gamma_size+anzahl_states+1:alpha_size+gamma_size+anzahl_states*2+1]\n",
    "delta_1_2 = estimated_params_2[alpha_size+gamma_size+anzahl_states*2+1:alpha_size+gamma_size+anzahl_states*3+1]\n",
    "alpha_p_2 = estimated_params_2[alpha_size+gamma_size+anzahl_states*3+1:alpha_size+gamma_size+anzahl_states*4+1]\n",
    "beta_p_1_2 = estimated_params_2[alpha_size+gamma_size+anzahl_states*4+1:alpha_size+gamma_size+anzahl_states*5+1]\n",
    "beta_p_2_2 = estimated_params_2[alpha_size+gamma_size+anzahl_states*5+1:alpha_size+gamma_size+anzahl_states*6+1]\n",
    "theta_2 = estimated_params_2[alpha_size+gamma_size+anzahl_states*6+1:]"
   ]
  },
  {
   "cell_type": "code",
   "execution_count": 26,
   "id": "4d683d5d",
   "metadata": {},
   "outputs": [
    {
     "data": {
      "text/plain": [
       "[1.10129257, -5.0]"
      ]
     },
     "execution_count": 26,
     "metadata": {},
     "output_type": "execute_result"
    }
   ],
   "source": [
    "alpha_o_2"
   ]
  },
  {
   "cell_type": "code",
   "execution_count": 27,
   "id": "c1c49bfb",
   "metadata": {},
   "outputs": [
    {
     "data": {
      "text/plain": [
       "[-0.79042102]"
      ]
     },
     "execution_count": 27,
     "metadata": {},
     "output_type": "execute_result"
    }
   ],
   "source": [
    "beta_o_2"
   ]
  },
  {
   "cell_type": "markdown",
   "id": "90f4207d",
   "metadata": {},
   "source": [
    "### Berechnung erwartetete Öffungen"
   ]
  },
  {
   "cell_type": "code",
   "execution_count": 28,
   "id": "35914d14",
   "metadata": {},
   "outputs": [],
   "source": [
    "erwartete_oeffungen_2 = np.zeros((anzahl_kunden, anzahl_states, anzahl_monate))"
   ]
  },
  {
   "cell_type": "code",
   "execution_count": 29,
   "id": "f0e398b7",
   "metadata": {},
   "outputs": [],
   "source": [
    "for kunde in range(0, anzahl_kunden):    \n",
    "    for state in range(0, anzahl_states):\n",
    "        for monat in range(1, anzahl_monate +1):\n",
    "            erwartete_oeffungen_2[kunde, state, monat-1] =\\\n",
    "                    np.exp(np.log(0.63)*df_HY.iloc[kunde][str(monat)] + alpha_o_2[state] +\\\n",
    "                           beta_o_2[0] * np.log(df_LO.iloc[kunde][str(monat)]))"
   ]
  },
  {
   "cell_type": "code",
   "execution_count": 30,
   "id": "cd20d2aa",
   "metadata": {},
   "outputs": [
    {
     "data": {
      "text/plain": [
       "1.1296895071887876"
      ]
     },
     "execution_count": 30,
     "metadata": {},
     "output_type": "execute_result"
    }
   ],
   "source": [
    "np.sum(erwartete_oeffungen_2[:,0,:])/erwartete_oeffungen_2[:,0,:].size"
   ]
  },
  {
   "cell_type": "code",
   "execution_count": 31,
   "id": "803e7687",
   "metadata": {},
   "outputs": [
    {
     "data": {
      "text/plain": [
       "0.0025304712027657333"
      ]
     },
     "execution_count": 31,
     "metadata": {},
     "output_type": "execute_result"
    }
   ],
   "source": [
    "np.sum(erwartete_oeffungen_2[:,1,:])/erwartete_oeffungen_2[:,1,:].size"
   ]
  },
  {
   "cell_type": "markdown",
   "id": "fb77b9c9",
   "metadata": {},
   "source": [
    "# 3. Test für 2 states und 5000 Iterationen"
   ]
  },
  {
   "cell_type": "markdown",
   "id": "105bc713",
   "metadata": {},
   "source": [
    "### 1. Herauslesen der Parameter aus dem array der gesamten geschätzten Parameter"
   ]
  },
  {
   "cell_type": "code",
   "execution_count": 45,
   "id": "da499391",
   "metadata": {},
   "outputs": [],
   "source": [
    "estimated_params_3 = [ 0.00000000e+00, -1.55403743e+07,  0.00000000e+00, -1.99376641e+07,\n",
    "        0.00000000e+00, -1.20984080e+05,  0.00000000e+00, -2.60670922e+07,\n",
    "        0.00000000e+00,  1.65105433e+04,  0.00000000e+00, -2.37657250e+07,\n",
    "        0.00000000e+00,  2.31826307e+07,  0.00000000e+00,  4.36397955e+07,\n",
    "        0.00000000e+00, -7.68220378e+06,  0.00000000e+00, -1.03216260e+07,\n",
    "       -2.39595796e+03,  1.78690685e+03,  2.21360679e+03,  2.55189594e+04,\n",
    "       -3.45447527e+04,  2.85540133e+04,  3.51966973e+06, -2.12287490e+04,\n",
    "        2.73574014e+05,  1.57217226e+04, -2.29452252e+05, -7.77517142e+03,\n",
    "        4.70717259e+04, -3.44150531e+03]"
   ]
  },
  {
   "cell_type": "code",
   "execution_count": 46,
   "id": "0375b533",
   "metadata": {},
   "outputs": [],
   "source": [
    "alpha_3 = estimated_params_3[:alpha_size]\n",
    "gamma_3 = estimated_params_3[alpha_size:alpha_size+gamma_size]\n",
    "\n",
    "alpha_o_3 = estimated_params_3[alpha_size+gamma_size:alpha_size+gamma_size+anzahl_states]\n",
    "beta_o_3 = estimated_params_3[alpha_size+gamma_size+anzahl_states:alpha_size+gamma_size+anzahl_states+1]\n",
    "delta_0_3 = estimated_params_3[alpha_size+gamma_size+anzahl_states+1:alpha_size+gamma_size+anzahl_states*2+1]\n",
    "delta_1_3 = estimated_params_3[alpha_size+gamma_size+anzahl_states*2+1:alpha_size+gamma_size+anzahl_states*3+1]\n",
    "alpha_p_3 = estimated_params_3[alpha_size+gamma_size+anzahl_states*3+1:alpha_size+gamma_size+anzahl_states*4+1]\n",
    "beta_p_1_3 = estimated_params_3[alpha_size+gamma_size+anzahl_states*4+1:alpha_size+gamma_size+anzahl_states*5+1]\n",
    "beta_p_2_3 = estimated_params_3[alpha_size+gamma_size+anzahl_states*5+1:alpha_size+gamma_size+anzahl_states*6+1]\n",
    "theta_3 = estimated_params_3[alpha_size+gamma_size+anzahl_states*6+1:]"
   ]
  },
  {
   "cell_type": "code",
   "execution_count": 47,
   "id": "9966a5a4",
   "metadata": {},
   "outputs": [
    {
     "data": {
      "text/plain": [
       "[-2395.95796, 1786.90685]"
      ]
     },
     "execution_count": 47,
     "metadata": {},
     "output_type": "execute_result"
    }
   ],
   "source": [
    "alpha_o_3"
   ]
  },
  {
   "cell_type": "code",
   "execution_count": 48,
   "id": "84be5b32",
   "metadata": {},
   "outputs": [
    {
     "data": {
      "text/plain": [
       "[2213.60679]"
      ]
     },
     "execution_count": 48,
     "metadata": {},
     "output_type": "execute_result"
    }
   ],
   "source": [
    "beta_o_3"
   ]
  },
  {
   "cell_type": "markdown",
   "id": "475424ec",
   "metadata": {},
   "source": [
    "### Erstellen der erwarteten Öffungen in den jeweiligen Monaten"
   ]
  },
  {
   "cell_type": "code",
   "execution_count": 37,
   "id": "19518960",
   "metadata": {},
   "outputs": [],
   "source": [
    "erwartete_oeffungen_3 = np.zeros((anzahl_kunden, anzahl_states, anzahl_monate))"
   ]
  },
  {
   "cell_type": "code",
   "execution_count": 38,
   "id": "8f3c75bf",
   "metadata": {},
   "outputs": [
    {
     "name": "stderr",
     "output_type": "stream",
     "text": [
      "C:\\Users\\felix.oechslein\\AppData\\Local\\Temp\\ipykernel_10392\\898154767.py:5: RuntimeWarning: overflow encountered in exp\n",
      "  np.exp(np.log(0.63)*df_HY.iloc[kunde][str(monat)] + alpha_o_3[state] +\\\n"
     ]
    }
   ],
   "source": [
    "for kunde in range(0, anzahl_kunden):    \n",
    "    for state in range(0, anzahl_states):\n",
    "        for monat in range(1, anzahl_monate +1):\n",
    "            erwartete_oeffungen_3[kunde, state, monat-1] =\\\n",
    "                    np.exp(np.log(0.63)*df_HY.iloc[kunde][str(monat)] + alpha_o_3[state] +\\\n",
    "                           beta_o_3[0] * np.log(df_LO.iloc[kunde][str(monat)]))"
   ]
  },
  {
   "cell_type": "code",
   "execution_count": 39,
   "id": "711c5e97",
   "metadata": {},
   "outputs": [
    {
     "data": {
      "text/plain": [
       "inf"
      ]
     },
     "execution_count": 39,
     "metadata": {},
     "output_type": "execute_result"
    }
   ],
   "source": [
    "np.sum(erwartete_oeffungen_3[:,0,:])/erwartete_oeffungen_3[:,0,:].size"
   ]
  },
  {
   "cell_type": "code",
   "execution_count": 40,
   "id": "868edfca",
   "metadata": {},
   "outputs": [
    {
     "data": {
      "text/plain": [
       "inf"
      ]
     },
     "execution_count": 40,
     "metadata": {},
     "output_type": "execute_result"
    }
   ],
   "source": [
    "np.sum(erwartete_oeffungen_3[:,1,:])/erwartete_oeffungen_3[:,1,:].size"
   ]
  },
  {
   "cell_type": "markdown",
   "id": "a08a892b",
   "metadata": {},
   "source": [
    "# 4. Test für 2 states und 1000 Iterationen mit ounds + 100 iterationen mit zusätzlichen bounds"
   ]
  },
  {
   "cell_type": "code",
   "execution_count": 51,
   "id": "ea84ae8a",
   "metadata": {},
   "outputs": [],
   "source": [
    "estimated_params_4 = [ 0.        ,  3.13291287,  0.        ,  1.60263079,  0.        ,\n",
    "        0.06988214,  0.        ,  0.79140532,  0.        ,  0.91950281,\n",
    "        0.        , -1.10907081,  0.        , -3.41801979,  0.        ,\n",
    "       -3.41917121,  0.        , -4.23594507,  0.        , -3.9000474 ,\n",
    "        1.10129257, -5.        , -0.79042102,  5.        ,  5.        ,\n",
    "        4.63925216,  1.95999501, -0.53922688, -1.71813938, -0.86955723,\n",
    "       -1.45737121,  0.18195139,  1.1       ,  0.90651293]"
   ]
  },
  {
   "cell_type": "code",
   "execution_count": 52,
   "id": "7cfc8085",
   "metadata": {},
   "outputs": [],
   "source": [
    "alpha_4 = estimated_params_4[:alpha_size]\n",
    "gamma_4 = estimated_params_4[alpha_size:alpha_size+gamma_size]\n",
    "\n",
    "alpha_o_4 = estimated_params_4[alpha_size+gamma_size:alpha_size+gamma_size+anzahl_states]\n",
    "beta_o_4 = estimated_params_4[alpha_size+gamma_size+anzahl_states:alpha_size+gamma_size+anzahl_states+1]\n",
    "delta_0_4 = estimated_params_4[alpha_size+gamma_size+anzahl_states+1:alpha_size+gamma_size+anzahl_states*2+1]\n",
    "delta_1_4 = estimated_params_4[alpha_size+gamma_size+anzahl_states*2+1:alpha_size+gamma_size+anzahl_states*3+1]\n",
    "alpha_p_4 = estimated_params_4[alpha_size+gamma_size+anzahl_states*3+1:alpha_size+gamma_size+anzahl_states*4+1]\n",
    "beta_p_1_4 = estimated_params_4[alpha_size+gamma_size+anzahl_states*4+1:alpha_size+gamma_size+anzahl_states*5+1]\n",
    "beta_p_2_4 = estimated_params_4[alpha_size+gamma_size+anzahl_states*5+1:alpha_size+gamma_size+anzahl_states*6+1]\n",
    "theta_4 = estimated_params_4[alpha_size+gamma_size+anzahl_states*6+1:]\n"
   ]
  },
  {
   "cell_type": "code",
   "execution_count": 53,
   "id": "a22bbf3c",
   "metadata": {},
   "outputs": [
    {
     "data": {
      "text/plain": [
       "[1.10129257, -5.0]"
      ]
     },
     "execution_count": 53,
     "metadata": {},
     "output_type": "execute_result"
    }
   ],
   "source": [
    "alpha_o_4"
   ]
  },
  {
   "cell_type": "code",
   "execution_count": 54,
   "id": "e758045d",
   "metadata": {},
   "outputs": [
    {
     "data": {
      "text/plain": [
       "[-0.79042102]"
      ]
     },
     "execution_count": 54,
     "metadata": {},
     "output_type": "execute_result"
    }
   ],
   "source": [
    "beta_o_4"
   ]
  },
  {
   "cell_type": "markdown",
   "id": "9e065bfd",
   "metadata": {},
   "source": [
    "### Erstellen der erwarteten Öffungen in den jeweiligen Monaten"
   ]
  },
  {
   "cell_type": "code",
   "execution_count": 55,
   "id": "3e121a45",
   "metadata": {},
   "outputs": [],
   "source": [
    "erwartete_oeffungen_4 = np.zeros((anzahl_kunden, anzahl_states, anzahl_monate))"
   ]
  },
  {
   "cell_type": "code",
   "execution_count": 57,
   "id": "c00fd3e7",
   "metadata": {},
   "outputs": [],
   "source": [
    "for kunde in range(0, anzahl_kunden):    \n",
    "    for state in range(0, anzahl_states):\n",
    "        for monat in range(1, anzahl_monate +1):\n",
    "            erwartete_oeffungen_4[kunde, state, monat-1] =\\\n",
    "                    np.exp(np.log(0.63)*df_HY.iloc[kunde][str(monat)] + alpha_o_4[state] +\\\n",
    "                           beta_o_4[0] * np.log(df_LO.iloc[kunde][str(monat)]))"
   ]
  },
  {
   "cell_type": "code",
   "execution_count": 60,
   "id": "b76df0f1",
   "metadata": {},
   "outputs": [
    {
     "data": {
      "text/plain": [
       "1.1296895071887876"
      ]
     },
     "execution_count": 60,
     "metadata": {},
     "output_type": "execute_result"
    }
   ],
   "source": [
    "np.sum(erwartete_oeffungen_4[:,0,:])/erwartete_oeffungen_3[:,0,:].size"
   ]
  },
  {
   "cell_type": "code",
   "execution_count": 59,
   "id": "f41767eb",
   "metadata": {},
   "outputs": [
    {
     "data": {
      "text/plain": [
       "0.0025304712027657333"
      ]
     },
     "execution_count": 59,
     "metadata": {},
     "output_type": "execute_result"
    }
   ],
   "source": [
    "np.sum(erwartete_oeffungen_4[:,1,:])/erwartete_oeffungen_3[:,1,:].size"
   ]
  },
  {
   "cell_type": "markdown",
   "id": "ea218dcd",
   "metadata": {},
   "source": [
    "# 4. Test für 2 states und 200 Iterationen mit bounds"
   ]
  },
  {
   "cell_type": "markdown",
   "id": "b606a478",
   "metadata": {},
   "source": [
    "Definiere bounds\n",
    "bounds =    \n",
    "[(-3, 3)] * len(alpha) +\\\n",
    "            [(-3, 3)] * len(gamma) +\\\n",
    "            [(-3, 3)] * len(alpha_o) +\\\n",
    "            [(-3, 3)] * len(beta_o) +\\\n",
    "            [(-8, 8)] * len(delta_0) +\\\n",
    "            [(-3, 2)] * len(delta_1) +\\\n",
    "            [(-3, 3)] * len(alpha_p) +\\\n",
    "            [(-3, 3)] * len(beta_p_1) +\\\n",
    "            [(-3, 3)] * len(beta_p_2) +\\\n",
    "            [(0.1, None)] * len(theta)\n",
    "            \n",
    "Startwert\n",
    "x0 = 0"
   ]
  },
  {
   "cell_type": "code",
   "execution_count": 61,
   "id": "dc5362a2",
   "metadata": {},
   "outputs": [],
   "source": [
    "estimated_params_5 = [ 0.        , -2.57542179,  0.        ,  2.62717551,  0.        ,\n",
    "       -2.98703585,  0.        , -2.31989391,  0.        ,  0.1361796 ,\n",
    "        0.        ,  0.03734605,  0.        ,  2.16428968,  0.        ,\n",
    "        3.        ,  0.        ,  1.49658634,  0.        , -1.30925976,\n",
    "        0.53596929,  1.56559093, -1.28623055,  6.88631043,  6.44953524,\n",
    "       -1.28842799,  1.61663301, -1.12905537, -1.85205332, -0.38670405,\n",
    "        0.135329  ,  0.15976614, -0.01763291,  0.85690663]"
   ]
  },
  {
   "cell_type": "code",
   "execution_count": 62,
   "id": "4f6d2ddd",
   "metadata": {},
   "outputs": [],
   "source": [
    "alpha_5 = estimated_params_5[:alpha_size]\n",
    "gamma_5 = estimated_params_5[alpha_size:alpha_size+gamma_size]\n",
    "\n",
    "alpha_o_5 = estimated_params_5[alpha_size+gamma_size:alpha_size+gamma_size+anzahl_states]\n",
    "beta_o_5 = estimated_params_5[alpha_size+gamma_size+anzahl_states:alpha_size+gamma_size+anzahl_states+1]\n",
    "delta_0_5 = estimated_params_5[alpha_size+gamma_size+anzahl_states+1:alpha_size+gamma_size+anzahl_states*2+1]\n",
    "delta_1_5 = estimated_params_5[alpha_size+gamma_size+anzahl_states*2+1:alpha_size+gamma_size+anzahl_states*3+1]\n",
    "alpha_p_5 = estimated_params_5[alpha_size+gamma_size+anzahl_states*3+1:alpha_size+gamma_size+anzahl_states*4+1]\n",
    "beta_p_1_5 = estimated_params_5[alpha_size+gamma_size+anzahl_states*4+1:alpha_size+gamma_size+anzahl_states*5+1]\n",
    "beta_p_2_5 = estimated_params_5[alpha_size+gamma_size+anzahl_states*5+1:alpha_size+gamma_size+anzahl_states*6+1]\n",
    "theta_5 = estimated_params_5[alpha_size+gamma_size+anzahl_states*6+1:]\n"
   ]
  },
  {
   "cell_type": "code",
   "execution_count": 64,
   "id": "2e2d9b35",
   "metadata": {},
   "outputs": [
    {
     "data": {
      "text/plain": [
       "[0.53596929, 1.56559093]"
      ]
     },
     "execution_count": 64,
     "metadata": {},
     "output_type": "execute_result"
    }
   ],
   "source": [
    "alpha_o_5"
   ]
  },
  {
   "cell_type": "code",
   "execution_count": 65,
   "id": "b379c743",
   "metadata": {},
   "outputs": [
    {
     "data": {
      "text/plain": [
       "[-1.28623055]"
      ]
     },
     "execution_count": 65,
     "metadata": {},
     "output_type": "execute_result"
    }
   ],
   "source": [
    "beta_o_5"
   ]
  },
  {
   "cell_type": "markdown",
   "id": "e2042180",
   "metadata": {},
   "source": [
    "### Erstellen der erwarteten Öffungen in den jeweiligen Monaten"
   ]
  },
  {
   "cell_type": "code",
   "execution_count": 66,
   "id": "22ff44be",
   "metadata": {},
   "outputs": [],
   "source": [
    "erwartete_oeffungen_5 = np.zeros((anzahl_kunden, anzahl_states, anzahl_monate))"
   ]
  },
  {
   "cell_type": "code",
   "execution_count": 67,
   "id": "6289ebd1",
   "metadata": {},
   "outputs": [],
   "source": [
    "for kunde in range(0, anzahl_kunden):    \n",
    "    for state in range(0, anzahl_states):\n",
    "        for monat in range(1, anzahl_monate +1):\n",
    "            erwartete_oeffungen_5[kunde, state, monat-1] =\\\n",
    "                    np.exp(np.log(0.63)*df_HY.iloc[kunde][str(monat)] + alpha_o_5[state] +\\\n",
    "                           beta_o_5[0] * np.log(df_LO.iloc[kunde][str(monat)]))"
   ]
  },
  {
   "cell_type": "code",
   "execution_count": 74,
   "id": "28ff946d",
   "metadata": {},
   "outputs": [
    {
     "data": {
      "text/plain": [
       "0.5780544696366883"
      ]
     },
     "execution_count": 74,
     "metadata": {},
     "output_type": "execute_result"
    }
   ],
   "source": [
    "np.sum(erwartete_oeffungen_5[:,0,:])/erwartete_oeffungen_5[:,0,:].size"
   ]
  },
  {
   "cell_type": "code",
   "execution_count": 75,
   "id": "bcfde9ce",
   "metadata": {},
   "outputs": [
    {
     "data": {
      "text/plain": [
       "1.6185561127357522"
      ]
     },
     "execution_count": 75,
     "metadata": {},
     "output_type": "execute_result"
    }
   ],
   "source": [
    "np.sum(erwartete_oeffungen_5[:,1,:])/erwartete_oeffungen_5[:,0,:].size"
   ]
  },
  {
   "cell_type": "code",
   "execution_count": null,
   "id": "713d1f64",
   "metadata": {},
   "outputs": [],
   "source": []
  }
 ],
 "metadata": {
  "kernelspec": {
   "display_name": "Python 3 (ipykernel)",
   "language": "python",
   "name": "python3"
  },
  "language_info": {
   "codemirror_mode": {
    "name": "ipython",
    "version": 3
   },
   "file_extension": ".py",
   "mimetype": "text/x-python",
   "name": "python",
   "nbconvert_exporter": "python",
   "pygments_lexer": "ipython3",
   "version": "3.9.13"
  }
 },
 "nbformat": 4,
 "nbformat_minor": 5
}
