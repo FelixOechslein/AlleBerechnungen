{
 "cells": [
  {
   "cell_type": "code",
   "execution_count": 1,
   "id": "139bbb41",
   "metadata": {},
   "outputs": [],
   "source": [
    "from scipy.stats import nbinom, binom, poisson\n",
    "from statsmodels.discrete.count_model import ZeroInflatedNegativeBinomialP\n",
    "import pandas as pd\n",
    "import numpy as np\n",
    "import matplotlib.pyplot as plt\n",
    "import scipy.stats as stats\n",
    "import math\n",
    "import seaborn as sns\n",
    "from datetime import datetime, timedelta\n",
    "from scipy.stats import pearsonr\n",
    "from scipy.stats import kendalltau\n",
    "from scipy.stats import spearmanr\n",
    "import os\n",
    "from scipy.optimize import minimize, Bounds, LinearConstraint, NonlinearConstraint\n",
    "import inspect"
   ]
  },
  {
   "cell_type": "markdown",
   "id": "daafe716",
   "metadata": {},
   "source": [
    "### Relevante Parameter:\n",
    "\n",
    "array_lambda = np.exp(np.log(0.63*EM_monat) + alpha_o[state] + beta_o[0] * np.log(LO_monat))\n",
    "\n",
    "Die Öffungszahlen sind mit einer Poissonverteilung modelliert und die Werte folgender Tabellen haben Einfluss:\n",
    "\n",
    "1. EM_monat\n",
    "2. LO_monat\n",
    "\n",
    "folgende Parameter haben einen Einfluss:\n",
    "1. alpha_o (1 x anzahl_states array, also state abhängig)\n",
    "2. beta_o (1 x 1 array, state unabhängig)"
   ]
  },
  {
   "cell_type": "code",
   "execution_count": 2,
   "id": "ea5ccfc6",
   "metadata": {},
   "outputs": [],
   "source": [
    "# EM_monat aus der HY Zahlen der versendeten Mails ziehen\n",
    "path = r'C:/Users/felix.oechslein/Desktop/Analysen Thalia, Mai/verarbeitete_daten'\n",
    "filename = 'Pivot_HY_Privat_ohneApple_Langzeitkunde.csv'\n",
    "\n",
    "df_HY = pd.read_csv(os.path.join(path, filename))"
   ]
  },
  {
   "cell_type": "code",
   "execution_count": 3,
   "id": "a7a70f4e",
   "metadata": {},
   "outputs": [],
   "source": [
    "# LO monat\n",
    "path = r'C:/Users/felix.oechslein/Desktop/Analysen Thalia, Mai/verarbeitete_daten'\n",
    "filename = 'Pivot_LO_Privat_ohneApple_Langzeitkunde.csv'\n",
    "\n",
    "df_LO = pd.read_csv(os.path.join(path, filename))"
   ]
  },
  {
   "cell_type": "markdown",
   "id": "51914c9c",
   "metadata": {},
   "source": [
    "### Datenanpassung wie bei der Berechnung der optimalen Parameter"
   ]
  },
  {
   "cell_type": "code",
   "execution_count": 4,
   "id": "db0df8d7",
   "metadata": {},
   "outputs": [],
   "source": [
    "## Alle DataFrame Werte von Float zu int\n",
    "df_HY = df_HY.astype(int)\n",
    "df_LO = df_LO.astype(int)"
   ]
  },
  {
   "cell_type": "markdown",
   "id": "a9706904",
   "metadata": {},
   "source": [
    "### Sicherstellen dass alle df dieselben Kunden verwenden"
   ]
  },
  {
   "cell_type": "code",
   "execution_count": 5,
   "id": "4b66f142",
   "metadata": {},
   "outputs": [],
   "source": [
    "# Entfernen der Zeilen aus df_LO, die nicht in df_HY enthalten sind\n",
    "df_LO = df_LO[df_LO['iid'].isin(df_HY['iid'])]\n",
    "df_HY = df_HY[df_HY['iid'].isin(df_LO['iid'])]"
   ]
  },
  {
   "cell_type": "code",
   "execution_count": 6,
   "id": "91d9c314",
   "metadata": {},
   "outputs": [
    {
     "data": {
      "text/plain": [
       "647"
      ]
     },
     "execution_count": 6,
     "metadata": {},
     "output_type": "execute_result"
    }
   ],
   "source": [
    "len(df_LO)"
   ]
  },
  {
   "cell_type": "code",
   "execution_count": 7,
   "id": "b6a193f7",
   "metadata": {},
   "outputs": [
    {
     "data": {
      "text/plain": [
       "647"
      ]
     },
     "execution_count": 7,
     "metadata": {},
     "output_type": "execute_result"
    }
   ],
   "source": [
    "len(df_HY)"
   ]
  },
  {
   "cell_type": "markdown",
   "id": "d46ee54e",
   "metadata": {},
   "source": [
    "### Ausreißer bei den Kunden löschen (wie bei den Berechnungen)"
   ]
  },
  {
   "cell_type": "code",
   "execution_count": 8,
   "id": "506afd63",
   "metadata": {},
   "outputs": [],
   "source": [
    "kunden_pos = [384, 446, 502, 599, 421, 285, 407, 499, 348, 351, 364, 449, 528, 414]"
   ]
  },
  {
   "cell_type": "code",
   "execution_count": 9,
   "id": "5387e57e",
   "metadata": {},
   "outputs": [],
   "source": [
    "# Zeilen löschen\n",
    "df_HY = df_HY.drop(kunden_pos).reset_index(drop = True)\n",
    "df_LO = df_LO.drop(kunden_pos).reset_index(drop = True)"
   ]
  },
  {
   "cell_type": "markdown",
   "id": "eb6e8d04",
   "metadata": {},
   "source": [
    "### Spezifikation des Modells"
   ]
  },
  {
   "cell_type": "code",
   "execution_count": 10,
   "id": "48b3a46c",
   "metadata": {},
   "outputs": [
    {
     "data": {
      "text/plain": [
       "633"
      ]
     },
     "execution_count": 10,
     "metadata": {},
     "output_type": "execute_result"
    }
   ],
   "source": [
    "anzahl_kunden = len(df_HY[\"iid\"])\n",
    "anzahl_kunden"
   ]
  },
  {
   "cell_type": "code",
   "execution_count": 11,
   "id": "065acf68",
   "metadata": {},
   "outputs": [
    {
     "data": {
      "text/plain": [
       "15"
      ]
     },
     "execution_count": 11,
     "metadata": {},
     "output_type": "execute_result"
    }
   ],
   "source": [
    "anzahl_monate = len(df_HY.columns[df_HY.columns != 'iid'])\n",
    "anzahl_monate"
   ]
  },
  {
   "cell_type": "code",
   "execution_count": 12,
   "id": "1da5204f",
   "metadata": {},
   "outputs": [],
   "source": [
    "anzahl_states = 3"
   ]
  },
  {
   "cell_type": "markdown",
   "id": "31dab4c9",
   "metadata": {},
   "source": [
    "### 1. Herauslesen der Parameter aus dem array der gesamten geschätzten Parameter"
   ]
  },
  {
   "cell_type": "code",
   "execution_count": 13,
   "id": "d64bfb09",
   "metadata": {},
   "outputs": [],
   "source": [
    "estimted_params=[ -8.20399103e-01,  4.47364379e+01,  6.55459562e+01, -7.12664184e-01,\n",
    "       -2.48373911e+02,  4.63946330e+02, -1.89923145e+00, -5.94099736e+01,\n",
    "        7.59497882e+01,  5.18311697e-01, -2.61490366e-01,  8.93093831e-01,\n",
    "        1.63703041e-01,  7.28623716e-03, -2.62212305e-01,  9.68519753e-02,\n",
    "        8.66641236e-02,  1.82355786e-01,  2.36506775e-01, -8.98038162e-02,\n",
    "       -4.25975327e-01,  4.99874934e-01, -1.43621259e-01,  8.11571266e-01,\n",
    "        1.42871394e+00, -7.33210161e-01,  2.96600857e-01,  1.65401014e-01,\n",
    "        1.01422490e-02, -3.14895811e-01, -2.02066317e-01, -5.13156402e-01,\n",
    "        3.44435091e-01,  1.23401987e+00, -1.31647262e+00, -1.48696412e+00,\n",
    "       -6.23244984e-01,  1.30427990e+00, -6.95618496e-01, -5.10706288e-01,\n",
    "        4.85842039e-01, -5.54033892e-01,  8.96741073e-02,  9.01273778e-02,\n",
    "       -3.67011581e-01, -2.31574553e-02, -6.96592721e-01,  1.16671348e+00,\n",
    "       -1.26661223e+00,  1.23556052e+02, -2.55630320e+01, -4.60157041e+00,\n",
    "        4.69496096e-01, -4.73224796e-01,  1.61440816e-01, -7.12740205e-01,\n",
    "       -1.95849638e+01, -1.30792666e-01,  2.79970169e-01, -2.96108429e-01,\n",
    "        1.53815838e+00,  1.00040668e-01, -1.41070531e-02, -4.57917675e-01,\n",
    "        1.49032916e+00]"
   ]
  },
  {
   "cell_type": "code",
   "execution_count": 14,
   "id": "55b568cf",
   "metadata": {},
   "outputs": [],
   "source": [
    "alpha_size = anzahl_states**2\n",
    "gamma_size = anzahl_states**2 * 4\n",
    "\n",
    "alpha = estimted_params[:alpha_size]\n",
    "gamma = estimted_params[alpha_size:alpha_size+gamma_size]\n",
    "alpha_o = estimted_params[alpha_size+gamma_size:alpha_size+gamma_size+anzahl_states]\n",
    "beta_o = estimted_params[alpha_size+gamma_size+anzahl_states:alpha_size+gamma_size+anzahl_states+1]\n",
    "delta_0 = estimted_params[alpha_size+gamma_size+anzahl_states+1:alpha_size+gamma_size+anzahl_states*2+1]\n",
    "delta_1 = estimted_params[alpha_size+gamma_size+anzahl_states*2+1:alpha_size+gamma_size+anzahl_states*3+1]\n",
    "alpha_p = estimted_params[alpha_size+gamma_size+anzahl_states*3+1:alpha_size+gamma_size+anzahl_states*4+1]\n",
    "beta_p_1 = estimted_params[alpha_size+gamma_size+anzahl_states*4+1:alpha_size+gamma_size+anzahl_states*5+1]\n",
    "beta_p_2 = estimted_params[alpha_size+gamma_size+anzahl_states*5+1:alpha_size+gamma_size+anzahl_states*6+1]\n",
    "theta = estimted_params[alpha_size+gamma_size+anzahl_states*6+1:]"
   ]
  },
  {
   "cell_type": "code",
   "execution_count": 15,
   "id": "02f0d78c",
   "metadata": {},
   "outputs": [
    {
     "data": {
      "text/plain": [
       "[-0.0231574553, -0.696592721, 1.16671348]"
      ]
     },
     "execution_count": 15,
     "metadata": {},
     "output_type": "execute_result"
    }
   ],
   "source": [
    "alpha_o"
   ]
  },
  {
   "cell_type": "code",
   "execution_count": 16,
   "id": "d644f866",
   "metadata": {},
   "outputs": [
    {
     "data": {
      "text/plain": [
       "[-1.26661223]"
      ]
     },
     "execution_count": 16,
     "metadata": {},
     "output_type": "execute_result"
    }
   ],
   "source": [
    "beta_o"
   ]
  },
  {
   "cell_type": "code",
   "execution_count": 20,
   "id": "34c2aa00",
   "metadata": {},
   "outputs": [
    {
     "data": {
      "text/plain": [
       "[0.469496096, -0.473224796, 0.161440816]"
      ]
     },
     "execution_count": 20,
     "metadata": {},
     "output_type": "execute_result"
    }
   ],
   "source": [
    "delta_1"
   ]
  },
  {
   "cell_type": "code",
   "execution_count": 21,
   "id": "7a291c1f",
   "metadata": {},
   "outputs": [
    {
     "data": {
      "text/plain": [
       "[-0.712740205, -19.5849638, -0.130792666]"
      ]
     },
     "execution_count": 21,
     "metadata": {},
     "output_type": "execute_result"
    }
   ],
   "source": [
    "alpha_p"
   ]
  },
  {
   "cell_type": "code",
   "execution_count": 22,
   "id": "1cd59060",
   "metadata": {},
   "outputs": [
    {
     "data": {
      "text/plain": [
       "[0.279970169, -0.296108429, 1.53815838]"
      ]
     },
     "execution_count": 22,
     "metadata": {},
     "output_type": "execute_result"
    }
   ],
   "source": [
    "beta_p_1"
   ]
  },
  {
   "cell_type": "code",
   "execution_count": 23,
   "id": "7dcf66ad",
   "metadata": {},
   "outputs": [
    {
     "data": {
      "text/plain": [
       "[0.100040668, -0.0141070531, -0.457917675]"
      ]
     },
     "execution_count": 23,
     "metadata": {},
     "output_type": "execute_result"
    }
   ],
   "source": [
    "beta_p_2"
   ]
  },
  {
   "cell_type": "markdown",
   "id": "d59ee85f",
   "metadata": {},
   "source": [
    "### Erstellen der erwarteten Öffungen in den jeweiligen Monaten"
   ]
  },
  {
   "cell_type": "code",
   "execution_count": 24,
   "id": "279fd943",
   "metadata": {},
   "outputs": [],
   "source": [
    "erwartete_oeffungen = np.zeros((anzahl_kunden, anzahl_states, anzahl_monate))"
   ]
  },
  {
   "cell_type": "code",
   "execution_count": 25,
   "id": "6eb7a4bf",
   "metadata": {},
   "outputs": [],
   "source": [
    "for kunde in range(0, anzahl_kunden):    \n",
    "    for state in range(0, anzahl_states):\n",
    "        for monat in range(1, anzahl_monate +1):\n",
    "            erwartete_oeffungen[kunde, state-1, monat-1] =\\\n",
    "                    np.exp(np.log(0.63)*df_HY.iloc[kunde][str(monat)] + alpha_o[state] +\\\n",
    "                           beta_o[0] * np.log(df_LO.iloc[kunde][str(monat)]))"
   ]
  },
  {
   "cell_type": "code",
   "execution_count": 26,
   "id": "9ae026ec",
   "metadata": {},
   "outputs": [
    {
     "data": {
      "text/plain": [
       "0.16904649031151056"
      ]
     },
     "execution_count": 26,
     "metadata": {},
     "output_type": "execute_result"
    }
   ],
   "source": [
    "np.sum(erwartete_oeffungen[:,0,:])/erwartete_oeffungen[:,0,:].size"
   ]
  },
  {
   "cell_type": "code",
   "execution_count": 27,
   "id": "38d70e01",
   "metadata": {},
   "outputs": [
    {
     "data": {
      "text/plain": [
       "1.0895063347076048"
      ]
     },
     "execution_count": 27,
     "metadata": {},
     "output_type": "execute_result"
    }
   ],
   "source": [
    "np.sum(erwartete_oeffungen[:,1,:])/erwartete_oeffungen[:,1,:].size"
   ]
  },
  {
   "cell_type": "code",
   "execution_count": 28,
   "id": "feddc379",
   "metadata": {},
   "outputs": [
    {
     "data": {
      "text/plain": [
       "0.3314937757373038"
      ]
     },
     "execution_count": 28,
     "metadata": {},
     "output_type": "execute_result"
    }
   ],
   "source": [
    "np.sum(erwartete_oeffungen[:,2,:])/erwartete_oeffungen[:,1,:].size"
   ]
  },
  {
   "cell_type": "code",
   "execution_count": null,
   "id": "b44aad5f",
   "metadata": {},
   "outputs": [],
   "source": []
  }
 ],
 "metadata": {
  "kernelspec": {
   "display_name": "Python 3 (ipykernel)",
   "language": "python",
   "name": "python3"
  },
  "language_info": {
   "codemirror_mode": {
    "name": "ipython",
    "version": 3
   },
   "file_extension": ".py",
   "mimetype": "text/x-python",
   "name": "python",
   "nbconvert_exporter": "python",
   "pygments_lexer": "ipython3",
   "version": "3.9.13"
  }
 },
 "nbformat": 4,
 "nbformat_minor": 5
}
