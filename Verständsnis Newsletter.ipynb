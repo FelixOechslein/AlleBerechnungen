{
 "cells": [
  {
   "cell_type": "code",
   "execution_count": 1,
   "id": "28650656",
   "metadata": {},
   "outputs": [],
   "source": [
    "import pandas as pd"
   ]
  },
  {
   "cell_type": "code",
   "execution_count": 2,
   "id": "9efc787d",
   "metadata": {},
   "outputs": [],
   "source": [
    "df_history = pd.read_csv(\"./history_thalia.csv\")"
   ]
  },
  {
   "cell_type": "code",
   "execution_count": 3,
   "id": "d64afd8c",
   "metadata": {},
   "outputs": [
    {
     "data": {
      "text/html": [
       "<div>\n",
       "<style scoped>\n",
       "    .dataframe tbody tr th:only-of-type {\n",
       "        vertical-align: middle;\n",
       "    }\n",
       "\n",
       "    .dataframe tbody tr th {\n",
       "        vertical-align: top;\n",
       "    }\n",
       "\n",
       "    .dataframe thead th {\n",
       "        text-align: right;\n",
       "    }\n",
       "</style>\n",
       "<table border=\"1\" class=\"dataframe\">\n",
       "  <thead>\n",
       "    <tr style=\"text-align: right;\">\n",
       "      <th></th>\n",
       "      <th>mandator</th>\n",
       "      <th>id</th>\n",
       "      <th>iid</th>\n",
       "      <th>attrtype</th>\n",
       "      <th>akey</th>\n",
       "      <th>text</th>\n",
       "      <th>creation</th>\n",
       "    </tr>\n",
       "  </thead>\n",
       "  <tbody>\n",
       "    <tr>\n",
       "      <th>0</th>\n",
       "      <td>100000490</td>\n",
       "      <td>229290396</td>\n",
       "      <td>158765280</td>\n",
       "      <td>NO</td>\n",
       "      <td>228640692</td>\n",
       "      <td>|msg=SM: GRM Brainfuck 10.03.2022|userAgent=Mo...</td>\n",
       "      <td>20220310003719</td>\n",
       "    </tr>\n",
       "    <tr>\n",
       "      <th>1</th>\n",
       "      <td>100000490</td>\n",
       "      <td>253252597</td>\n",
       "      <td>116420444</td>\n",
       "      <td>NO</td>\n",
       "      <td>251138913</td>\n",
       "      <td>|msg=NL_April_3_2022|userAgent=unknown (unknow...</td>\n",
       "      <td>20220429233416</td>\n",
       "    </tr>\n",
       "    <tr>\n",
       "      <th>2</th>\n",
       "      <td>100000490</td>\n",
       "      <td>229290395</td>\n",
       "      <td>100419635</td>\n",
       "      <td>NO</td>\n",
       "      <td>228640692</td>\n",
       "      <td>|msg=SM: GRM Brainfuck 10.03.2022|userAgent=Mo...</td>\n",
       "      <td>20220310003633</td>\n",
       "    </tr>\n",
       "    <tr>\n",
       "      <th>3</th>\n",
       "      <td>100000490</td>\n",
       "      <td>134052774</td>\n",
       "      <td>100397101</td>\n",
       "      <td>NO</td>\n",
       "      <td>118007425</td>\n",
       "      <td>|msg=NL_Mai_1_2021|userAgent=Chrome Mobile 91....</td>\n",
       "      <td>20210719040049</td>\n",
       "    </tr>\n",
       "    <tr>\n",
       "      <th>4</th>\n",
       "      <td>100000490</td>\n",
       "      <td>229290240</td>\n",
       "      <td>100273782</td>\n",
       "      <td>NO</td>\n",
       "      <td>228640692</td>\n",
       "      <td>|msg=SM: GRM Brainfuck 10.03.2022|userAgent=un...</td>\n",
       "      <td>20220310001302</td>\n",
       "    </tr>\n",
       "  </tbody>\n",
       "</table>\n",
       "</div>"
      ],
      "text/plain": [
       "    mandator         id        iid attrtype       akey  \\\n",
       "0  100000490  229290396  158765280       NO  228640692   \n",
       "1  100000490  253252597  116420444       NO  251138913   \n",
       "2  100000490  229290395  100419635       NO  228640692   \n",
       "3  100000490  134052774  100397101       NO  118007425   \n",
       "4  100000490  229290240  100273782       NO  228640692   \n",
       "\n",
       "                                                text        creation  \n",
       "0  |msg=SM: GRM Brainfuck 10.03.2022|userAgent=Mo...  20220310003719  \n",
       "1  |msg=NL_April_3_2022|userAgent=unknown (unknow...  20220429233416  \n",
       "2  |msg=SM: GRM Brainfuck 10.03.2022|userAgent=Mo...  20220310003633  \n",
       "3  |msg=NL_Mai_1_2021|userAgent=Chrome Mobile 91....  20210719040049  \n",
       "4  |msg=SM: GRM Brainfuck 10.03.2022|userAgent=un...  20220310001302  "
      ]
     },
     "execution_count": 3,
     "metadata": {},
     "output_type": "execute_result"
    }
   ],
   "source": [
    "df_history.head()"
   ]
  },
  {
   "cell_type": "code",
   "execution_count": 5,
   "id": "42b98568",
   "metadata": {},
   "outputs": [
    {
     "data": {
      "text/plain": [
       "HY    2526272\n",
       "NO    2447558\n",
       "NC     233327\n",
       "SB      46933\n",
       "HB      16205\n",
       "SC         37\n",
       "Name: attrtype, dtype: int64"
      ]
     },
     "execution_count": 5,
     "metadata": {},
     "output_type": "execute_result"
    }
   ],
   "source": [
    "df_history[\"attrtype\"].value_counts()"
   ]
  },
  {
   "cell_type": "code",
   "execution_count": 6,
   "id": "6f4406ff",
   "metadata": {},
   "outputs": [
    {
     "data": {
      "text/plain": [
       "108670150    244057\n",
       "261801331    237737\n",
       "280291785    229376\n",
       "123387403    223301\n",
       "157893070    209904\n",
       "              ...  \n",
       "137556073         1\n",
       "137556141         1\n",
       "159411358         1\n",
       "159662353         1\n",
       "160420099         1\n",
       "Name: akey, Length: 965, dtype: int64"
      ]
     },
     "execution_count": 6,
     "metadata": {},
     "output_type": "execute_result"
    }
   ],
   "source": [
    "df_history[\"akey\"].value_counts()"
   ]
  }
 ],
 "metadata": {
  "kernelspec": {
   "display_name": "Python 3 (ipykernel)",
   "language": "python",
   "name": "python3"
  },
  "language_info": {
   "codemirror_mode": {
    "name": "ipython",
    "version": 3
   },
   "file_extension": ".py",
   "mimetype": "text/x-python",
   "name": "python",
   "nbconvert_exporter": "python",
   "pygments_lexer": "ipython3",
   "version": "3.9.13"
  }
 },
 "nbformat": 4,
 "nbformat_minor": 5
}
