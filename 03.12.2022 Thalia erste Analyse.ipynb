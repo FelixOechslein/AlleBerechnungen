{
 "cells": [
  {
   "cell_type": "code",
   "execution_count": 1,
   "id": "3fb065c1",
   "metadata": {},
   "outputs": [],
   "source": [
    "import pandas as pd"
   ]
  },
  {
   "cell_type": "code",
   "execution_count": 2,
   "id": "1b1b79e6",
   "metadata": {},
   "outputs": [],
   "source": [
    "df_history = pd.read_csv(\"./history_thalia.csv\")\n",
    "df_transactions = pd.read_csv(\"./transactions_thalia.csv\")"
   ]
  },
  {
   "cell_type": "code",
   "execution_count": 3,
   "id": "15d7f201",
   "metadata": {},
   "outputs": [
    {
     "data": {
      "text/html": [
       "<div>\n",
       "<style scoped>\n",
       "    .dataframe tbody tr th:only-of-type {\n",
       "        vertical-align: middle;\n",
       "    }\n",
       "\n",
       "    .dataframe tbody tr th {\n",
       "        vertical-align: top;\n",
       "    }\n",
       "\n",
       "    .dataframe thead th {\n",
       "        text-align: right;\n",
       "    }\n",
       "</style>\n",
       "<table border=\"1\" class=\"dataframe\">\n",
       "  <thead>\n",
       "    <tr style=\"text-align: right;\">\n",
       "      <th></th>\n",
       "      <th>mandator</th>\n",
       "      <th>id</th>\n",
       "      <th>iid</th>\n",
       "      <th>attrtype</th>\n",
       "      <th>akey</th>\n",
       "      <th>text</th>\n",
       "      <th>creation</th>\n",
       "    </tr>\n",
       "  </thead>\n",
       "  <tbody>\n",
       "    <tr>\n",
       "      <th>0</th>\n",
       "      <td>100000490</td>\n",
       "      <td>229290396</td>\n",
       "      <td>158765280</td>\n",
       "      <td>NO</td>\n",
       "      <td>228640692</td>\n",
       "      <td>|msg=SM: GRM Brainfuck 10.03.2022|userAgent=Mo...</td>\n",
       "      <td>20220310003719</td>\n",
       "    </tr>\n",
       "    <tr>\n",
       "      <th>1</th>\n",
       "      <td>100000490</td>\n",
       "      <td>253252597</td>\n",
       "      <td>116420444</td>\n",
       "      <td>NO</td>\n",
       "      <td>251138913</td>\n",
       "      <td>|msg=NL_April_3_2022|userAgent=unknown (unknow...</td>\n",
       "      <td>20220429233416</td>\n",
       "    </tr>\n",
       "    <tr>\n",
       "      <th>2</th>\n",
       "      <td>100000490</td>\n",
       "      <td>229290395</td>\n",
       "      <td>100419635</td>\n",
       "      <td>NO</td>\n",
       "      <td>228640692</td>\n",
       "      <td>|msg=SM: GRM Brainfuck 10.03.2022|userAgent=Mo...</td>\n",
       "      <td>20220310003633</td>\n",
       "    </tr>\n",
       "    <tr>\n",
       "      <th>3</th>\n",
       "      <td>100000490</td>\n",
       "      <td>134052774</td>\n",
       "      <td>100397101</td>\n",
       "      <td>NO</td>\n",
       "      <td>118007425</td>\n",
       "      <td>|msg=NL_Mai_1_2021|userAgent=Chrome Mobile 91....</td>\n",
       "      <td>20210719040049</td>\n",
       "    </tr>\n",
       "    <tr>\n",
       "      <th>4</th>\n",
       "      <td>100000490</td>\n",
       "      <td>229290240</td>\n",
       "      <td>100273782</td>\n",
       "      <td>NO</td>\n",
       "      <td>228640692</td>\n",
       "      <td>|msg=SM: GRM Brainfuck 10.03.2022|userAgent=un...</td>\n",
       "      <td>20220310001302</td>\n",
       "    </tr>\n",
       "  </tbody>\n",
       "</table>\n",
       "</div>"
      ],
      "text/plain": [
       "    mandator         id        iid attrtype       akey  \\\n",
       "0  100000490  229290396  158765280       NO  228640692   \n",
       "1  100000490  253252597  116420444       NO  251138913   \n",
       "2  100000490  229290395  100419635       NO  228640692   \n",
       "3  100000490  134052774  100397101       NO  118007425   \n",
       "4  100000490  229290240  100273782       NO  228640692   \n",
       "\n",
       "                                                text        creation  \n",
       "0  |msg=SM: GRM Brainfuck 10.03.2022|userAgent=Mo...  20220310003719  \n",
       "1  |msg=NL_April_3_2022|userAgent=unknown (unknow...  20220429233416  \n",
       "2  |msg=SM: GRM Brainfuck 10.03.2022|userAgent=Mo...  20220310003633  \n",
       "3  |msg=NL_Mai_1_2021|userAgent=Chrome Mobile 91....  20210719040049  \n",
       "4  |msg=SM: GRM Brainfuck 10.03.2022|userAgent=un...  20220310001302  "
      ]
     },
     "execution_count": 3,
     "metadata": {},
     "output_type": "execute_result"
    }
   ],
   "source": [
    "df_history.head()"
   ]
  },
  {
   "cell_type": "code",
   "execution_count": 4,
   "id": "7a63e879",
   "metadata": {},
   "outputs": [
    {
     "name": "stdout",
     "output_type": "stream",
     "text": [
      "<class 'pandas.core.frame.DataFrame'>\n",
      "RangeIndex: 5270332 entries, 0 to 5270331\n",
      "Data columns (total 7 columns):\n",
      " #   Column    Dtype \n",
      "---  ------    ----- \n",
      " 0   mandator  int64 \n",
      " 1   id        int64 \n",
      " 2   iid       int64 \n",
      " 3   attrtype  object\n",
      " 4   akey      int64 \n",
      " 5   text      object\n",
      " 6   creation  int64 \n",
      "dtypes: int64(5), object(2)\n",
      "memory usage: 281.5+ MB\n"
     ]
    }
   ],
   "source": [
    "df_history.info()"
   ]
  },
  {
   "cell_type": "code",
   "execution_count": 5,
   "id": "291c9730",
   "metadata": {},
   "outputs": [
    {
     "data": {
      "text/html": [
       "<div>\n",
       "<style scoped>\n",
       "    .dataframe tbody tr th:only-of-type {\n",
       "        vertical-align: middle;\n",
       "    }\n",
       "\n",
       "    .dataframe tbody tr th {\n",
       "        vertical-align: top;\n",
       "    }\n",
       "\n",
       "    .dataframe thead th {\n",
       "        text-align: right;\n",
       "    }\n",
       "</style>\n",
       "<table border=\"1\" class=\"dataframe\">\n",
       "  <thead>\n",
       "    <tr style=\"text-align: right;\">\n",
       "      <th></th>\n",
       "      <th>mandator</th>\n",
       "      <th>id</th>\n",
       "      <th>iid</th>\n",
       "      <th>akey</th>\n",
       "      <th>creation</th>\n",
       "    </tr>\n",
       "  </thead>\n",
       "  <tbody>\n",
       "    <tr>\n",
       "      <th>count</th>\n",
       "      <td>5270332.0</td>\n",
       "      <td>5.270332e+06</td>\n",
       "      <td>5.270332e+06</td>\n",
       "      <td>5.270332e+06</td>\n",
       "      <td>5.270332e+06</td>\n",
       "    </tr>\n",
       "    <tr>\n",
       "      <th>mean</th>\n",
       "      <td>100000490.0</td>\n",
       "      <td>1.867110e+08</td>\n",
       "      <td>1.097040e+08</td>\n",
       "      <td>1.842516e+08</td>\n",
       "      <td>2.021336e+13</td>\n",
       "    </tr>\n",
       "    <tr>\n",
       "      <th>std</th>\n",
       "      <td>0.0</td>\n",
       "      <td>6.842917e+07</td>\n",
       "      <td>2.853748e+07</td>\n",
       "      <td>6.833484e+07</td>\n",
       "      <td>7.602643e+09</td>\n",
       "    </tr>\n",
       "    <tr>\n",
       "      <th>min</th>\n",
       "      <td>100000490.0</td>\n",
       "      <td>1.000017e+08</td>\n",
       "      <td>1.000017e+08</td>\n",
       "      <td>1.000017e+08</td>\n",
       "      <td>2.020040e+13</td>\n",
       "    </tr>\n",
       "    <tr>\n",
       "      <th>25%</th>\n",
       "      <td>100000490.0</td>\n",
       "      <td>1.178111e+08</td>\n",
       "      <td>1.002774e+08</td>\n",
       "      <td>1.177444e+08</td>\n",
       "      <td>2.021032e+13</td>\n",
       "    </tr>\n",
       "    <tr>\n",
       "      <th>50%</th>\n",
       "      <td>100000490.0</td>\n",
       "      <td>1.587603e+08</td>\n",
       "      <td>1.009612e+08</td>\n",
       "      <td>1.584336e+08</td>\n",
       "      <td>2.021112e+13</td>\n",
       "    </tr>\n",
       "    <tr>\n",
       "      <th>75%</th>\n",
       "      <td>100000490.0</td>\n",
       "      <td>2.626826e+08</td>\n",
       "      <td>1.072328e+08</td>\n",
       "      <td>2.613211e+08</td>\n",
       "      <td>2.022070e+13</td>\n",
       "    </tr>\n",
       "    <tr>\n",
       "      <th>max</th>\n",
       "      <td>100000490.0</td>\n",
       "      <td>2.881898e+08</td>\n",
       "      <td>2.881328e+08</td>\n",
       "      <td>2.874435e+08</td>\n",
       "      <td>2.022120e+13</td>\n",
       "    </tr>\n",
       "  </tbody>\n",
       "</table>\n",
       "</div>"
      ],
      "text/plain": [
       "          mandator            id           iid          akey      creation\n",
       "count    5270332.0  5.270332e+06  5.270332e+06  5.270332e+06  5.270332e+06\n",
       "mean   100000490.0  1.867110e+08  1.097040e+08  1.842516e+08  2.021336e+13\n",
       "std            0.0  6.842917e+07  2.853748e+07  6.833484e+07  7.602643e+09\n",
       "min    100000490.0  1.000017e+08  1.000017e+08  1.000017e+08  2.020040e+13\n",
       "25%    100000490.0  1.178111e+08  1.002774e+08  1.177444e+08  2.021032e+13\n",
       "50%    100000490.0  1.587603e+08  1.009612e+08  1.584336e+08  2.021112e+13\n",
       "75%    100000490.0  2.626826e+08  1.072328e+08  2.613211e+08  2.022070e+13\n",
       "max    100000490.0  2.881898e+08  2.881328e+08  2.874435e+08  2.022120e+13"
      ]
     },
     "execution_count": 5,
     "metadata": {},
     "output_type": "execute_result"
    }
   ],
   "source": [
    "df_history.describe()"
   ]
  },
  {
   "cell_type": "code",
   "execution_count": 6,
   "id": "a5cd2568",
   "metadata": {},
   "outputs": [
    {
     "data": {
      "text/plain": [
       "HY    2526272\n",
       "NO    2447558\n",
       "NC     233327\n",
       "SB      46933\n",
       "HB      16205\n",
       "SC         37\n",
       "Name: attrtype, dtype: int64"
      ]
     },
     "execution_count": 6,
     "metadata": {},
     "output_type": "execute_result"
    }
   ],
   "source": [
    "df_history[\"attrtype\"].value_counts()"
   ]
  },
  {
   "cell_type": "code",
   "execution_count": 7,
   "id": "4225ba09",
   "metadata": {},
   "outputs": [
    {
     "data": {
      "text/html": [
       "<div>\n",
       "<style scoped>\n",
       "    .dataframe tbody tr th:only-of-type {\n",
       "        vertical-align: middle;\n",
       "    }\n",
       "\n",
       "    .dataframe tbody tr th {\n",
       "        vertical-align: top;\n",
       "    }\n",
       "\n",
       "    .dataframe thead th {\n",
       "        text-align: right;\n",
       "    }\n",
       "</style>\n",
       "<table border=\"1\" class=\"dataframe\">\n",
       "  <thead>\n",
       "    <tr style=\"text-align: right;\">\n",
       "      <th></th>\n",
       "      <th>mandator</th>\n",
       "      <th>id</th>\n",
       "      <th>iid</th>\n",
       "      <th>attrtype</th>\n",
       "      <th>akey</th>\n",
       "      <th>text</th>\n",
       "      <th>creation</th>\n",
       "    </tr>\n",
       "  </thead>\n",
       "  <tbody>\n",
       "    <tr>\n",
       "      <th>0</th>\n",
       "      <td>100000490</td>\n",
       "      <td>229290396</td>\n",
       "      <td>158765280</td>\n",
       "      <td>NO</td>\n",
       "      <td>228640692</td>\n",
       "      <td>|msg=SM: GRM Brainfuck 10.03.2022|userAgent=Mo...</td>\n",
       "      <td>2022-03-10 00:37:19</td>\n",
       "    </tr>\n",
       "    <tr>\n",
       "      <th>1</th>\n",
       "      <td>100000490</td>\n",
       "      <td>253252597</td>\n",
       "      <td>116420444</td>\n",
       "      <td>NO</td>\n",
       "      <td>251138913</td>\n",
       "      <td>|msg=NL_April_3_2022|userAgent=unknown (unknow...</td>\n",
       "      <td>2022-04-29 23:34:16</td>\n",
       "    </tr>\n",
       "    <tr>\n",
       "      <th>2</th>\n",
       "      <td>100000490</td>\n",
       "      <td>229290395</td>\n",
       "      <td>100419635</td>\n",
       "      <td>NO</td>\n",
       "      <td>228640692</td>\n",
       "      <td>|msg=SM: GRM Brainfuck 10.03.2022|userAgent=Mo...</td>\n",
       "      <td>2022-03-10 00:36:33</td>\n",
       "    </tr>\n",
       "    <tr>\n",
       "      <th>3</th>\n",
       "      <td>100000490</td>\n",
       "      <td>134052774</td>\n",
       "      <td>100397101</td>\n",
       "      <td>NO</td>\n",
       "      <td>118007425</td>\n",
       "      <td>|msg=NL_Mai_1_2021|userAgent=Chrome Mobile 91....</td>\n",
       "      <td>2021-07-19 04:00:49</td>\n",
       "    </tr>\n",
       "    <tr>\n",
       "      <th>4</th>\n",
       "      <td>100000490</td>\n",
       "      <td>229290240</td>\n",
       "      <td>100273782</td>\n",
       "      <td>NO</td>\n",
       "      <td>228640692</td>\n",
       "      <td>|msg=SM: GRM Brainfuck 10.03.2022|userAgent=un...</td>\n",
       "      <td>2022-03-10 00:13:02</td>\n",
       "    </tr>\n",
       "  </tbody>\n",
       "</table>\n",
       "</div>"
      ],
      "text/plain": [
       "    mandator         id        iid attrtype       akey  \\\n",
       "0  100000490  229290396  158765280       NO  228640692   \n",
       "1  100000490  253252597  116420444       NO  251138913   \n",
       "2  100000490  229290395  100419635       NO  228640692   \n",
       "3  100000490  134052774  100397101       NO  118007425   \n",
       "4  100000490  229290240  100273782       NO  228640692   \n",
       "\n",
       "                                                text            creation  \n",
       "0  |msg=SM: GRM Brainfuck 10.03.2022|userAgent=Mo... 2022-03-10 00:37:19  \n",
       "1  |msg=NL_April_3_2022|userAgent=unknown (unknow... 2022-04-29 23:34:16  \n",
       "2  |msg=SM: GRM Brainfuck 10.03.2022|userAgent=Mo... 2022-03-10 00:36:33  \n",
       "3  |msg=NL_Mai_1_2021|userAgent=Chrome Mobile 91.... 2021-07-19 04:00:49  \n",
       "4  |msg=SM: GRM Brainfuck 10.03.2022|userAgent=un... 2022-03-10 00:13:02  "
      ]
     },
     "execution_count": 7,
     "metadata": {},
     "output_type": "execute_result"
    }
   ],
   "source": [
    "df_history['creation'] = pd.to_datetime(df_history['creation'], format='%Y%m%d%H%M%S')\n",
    "df_history.head()"
   ]
  },
  {
   "cell_type": "code",
   "execution_count": 8,
   "id": "a811f635",
   "metadata": {},
   "outputs": [
    {
     "data": {
      "text/plain": [
       "0    |msg=SM: GRM Brainfuck 10.03.2022|userAgent=Mo...\n",
       "1    |msg=NL_April_3_2022|userAgent=unknown (unknow...\n",
       "2    |msg=SM: GRM Brainfuck 10.03.2022|userAgent=Mo...\n",
       "3    |msg=NL_Mai_1_2021|userAgent=Chrome Mobile 91....\n",
       "4    |msg=SM: GRM Brainfuck 10.03.2022|userAgent=un...\n",
       "Name: text, dtype: object"
      ]
     },
     "execution_count": 8,
     "metadata": {},
     "output_type": "execute_result"
    }
   ],
   "source": [
    "df_history['text'].head()"
   ]
  },
  {
   "cell_type": "code",
   "execution_count": 9,
   "id": "8ac294f9",
   "metadata": {},
   "outputs": [
    {
     "name": "stdout",
     "output_type": "stream",
     "text": [
      "0                                                                                                                     |msg=SM: GRM Brainfuck 10.03.2022|userAgent=Mobile Safari (iOS / Smartphone)|hidden=true|ip=80.215.154.40|userLanguage=fr|\n",
      "1                                                                                                                              |msg=NL_April_3_2022|userAgent=unknown (unknown / Personal computer)|hidden=true|ip=104.28.62.24|userLanguage=de|\n",
      "2                                                                                                                        |msg=SM: GRM Brainfuck 10.03.2022|userAgent=Mobile Safari (iOS / Tablet)|hidden=true|ip=80.133.228.107|userLanguage=de|\n",
      "3                                                                                                                           |msg=NL_Mai_1_2021|userAgent=Chrome Mobile 91.0 (Android / Smartphone)|hidden=true|ip=217.88.57.126|userLanguage=de|\n",
      "4                                                                                                                |msg=SM: GRM Brainfuck 10.03.2022|userAgent=unknown (unknown / Personal computer)|hidden=true|ip=104.28.135.80|userLanguage=de|\n",
      "                                                                                                                           ...                                                                                                                  \n",
      "5270327                                                                 |msg=https://www.thalia-theater.de/beitraege/760?noparam=true|hidden=true|ip=77.10.113.222|profileIds=|userAgent=Chrome 96.0 (OS X / Personal computer)|userLanguage=de|\n",
      "5270328                                                                                                          |msg=SM: Pippi Langstrumpf 24.10.2021|userAgent=Mobile Safari (iOS / Smartphone)|hidden=true|ip=93.229.120.100|userLanguage=de|\n",
      "5270329                                                                                                                     |msg=NL_Februar_2_2022|userAgent=unknown (unknown / Personal computer)|hidden=true|ip=104.28.129.17|userLanguage=de|\n",
      "5270330    |msg=https://tickets.rzsthh.de/Thaliatheater/SelectSeats?ret=1&e=11673&lang=de&play=das-mangelnde-licht-2021&noparam=true|hidden=true|ip=80.133.234.253|profileIds=|userAgent=Safari 15.3 (OS X / Personal computer)|userLanguage=de|\n",
      "5270331                                          |msg=https://www.thalia-theater.de/stueck/thalia-vista-social-club-2009?noparam=true|hidden=true|ip=93.206.80.254|profileIds=|userAgent=Safari 14.1 (OS X / Personal computer)|userLanguage=de|\n",
      "Name: text, Length: 5270332, dtype: object\n"
     ]
    }
   ],
   "source": [
    "pd.options.display.max_colwidth = 300\n",
    "print(df_history['text'])"
   ]
  },
  {
   "cell_type": "code",
   "execution_count": 10,
   "id": "22877111",
   "metadata": {},
   "outputs": [],
   "source": [
    "def toDict(first_row, x):\n",
    "    row = x[\"text\"]\n",
    "    row = row.split(\"|\")[1:-1]\n",
    "    dict_row = {}\n",
    "    for i in row:\n",
    "        key = i.split(\"=\")[0]\n",
    "        value = i.split(\"=\")[1]\n",
    "        dict_row[key] = value\n",
    "    first_row[\"msg\"] = dict_row[\"msg\"]\n",
    "    return first_row"
   ]
  },
  {
   "cell_type": "code",
   "execution_count": 11,
   "id": "6f375716",
   "metadata": {},
   "outputs": [],
   "source": [
    "#first_row = pd.DataFrame(df_history.iloc[0:1])\n",
    "#df = df_history\n",
    "#row_split = first_row[\"text\"].str.split('|')[0][1:-1]\n",
    "#first_row = first_row.apply(lambda x: toDict(first_row, x), axis=1)\n",
    "#row_split = first_row.split(\"|\")[1:-1]\n",
    "#first_row[\"msg\"]"
   ]
  },
  {
   "cell_type": "code",
   "execution_count": 12,
   "id": "5a9f2a44",
   "metadata": {},
   "outputs": [
    {
     "name": "stdout",
     "output_type": "stream",
     "text": [
      "5270322                                                                                       |msg=SM: Pippi Langstrumpf 17.10.2021|userAgent=Apple Mail (OS X 10.10 Yosemite / Personal computer)|hidden=true|ip=80.137.82.130|userLanguage=de|\n",
      "5270323                                                                                                             |msg=SM: Pippi Langstrumpf 24.10.2021|userAgent=Mobile Safari (iOS / Smartphone)|hidden=true|ip=91.12.36.66|userLanguage=de|\n",
      "5270324                                                                                                          |msg=SM: Pippi Langstrumpf 24.10.2021|userAgent=Mobile Safari (iOS / Smartphone)|hidden=true|ip=46.114.168.149|userLanguage=de|\n",
      "5270325                                                                                                                |msg=NL_Februar_2_2022|userAgent=Chrome 98.0 (Windows / Personal computer)|hidden=true|ip=90.186.175.206|userLanguage=de|\n",
      "5270326                                                                                                                    |msg=NL_Februar_2_2022|userAgent=Apple Mail (OS X / Personal computer)|hidden=true|ip=87.146.249.160|userLanguage=de|\n",
      "5270327                                                                 |msg=https://www.thalia-theater.de/beitraege/760?noparam=true|hidden=true|ip=77.10.113.222|profileIds=|userAgent=Chrome 96.0 (OS X / Personal computer)|userLanguage=de|\n",
      "5270328                                                                                                          |msg=SM: Pippi Langstrumpf 24.10.2021|userAgent=Mobile Safari (iOS / Smartphone)|hidden=true|ip=93.229.120.100|userLanguage=de|\n",
      "5270329                                                                                                                     |msg=NL_Februar_2_2022|userAgent=unknown (unknown / Personal computer)|hidden=true|ip=104.28.129.17|userLanguage=de|\n",
      "5270330    |msg=https://tickets.rzsthh.de/Thaliatheater/SelectSeats?ret=1&e=11673&lang=de&play=das-mangelnde-licht-2021&noparam=true|hidden=true|ip=80.133.234.253|profileIds=|userAgent=Safari 15.3 (OS X / Personal computer)|userLanguage=de|\n",
      "5270331                                          |msg=https://www.thalia-theater.de/stueck/thalia-vista-social-club-2009?noparam=true|hidden=true|ip=93.206.80.254|profileIds=|userAgent=Safari 14.1 (OS X / Personal computer)|userLanguage=de|\n",
      "Name: text, dtype: object\n"
     ]
    }
   ],
   "source": [
    "pd.options.display.max_colwidth = 300\n",
    "print(df_history['text'].tail(10))"
   ]
  },
  {
   "cell_type": "code",
   "execution_count": null,
   "id": "2f2d131c",
   "metadata": {},
   "outputs": [],
   "source": []
  }
 ],
 "metadata": {
  "kernelspec": {
   "display_name": "Python 3 (ipykernel)",
   "language": "python",
   "name": "python3"
  },
  "language_info": {
   "codemirror_mode": {
    "name": "ipython",
    "version": 3
   },
   "file_extension": ".py",
   "mimetype": "text/x-python",
   "name": "python",
   "nbconvert_exporter": "python",
   "pygments_lexer": "ipython3",
   "version": "3.9.13"
  }
 },
 "nbformat": 4,
 "nbformat_minor": 5
}
