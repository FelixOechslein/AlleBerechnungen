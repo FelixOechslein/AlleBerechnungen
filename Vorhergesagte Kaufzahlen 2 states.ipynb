{
 "cells": [
  {
   "cell_type": "code",
   "execution_count": 1,
   "id": "139bbb41",
   "metadata": {},
   "outputs": [],
   "source": [
    "from scipy.stats import nbinom, binom, poisson\n",
    "from statsmodels.discrete.count_model import ZeroInflatedNegativeBinomialP\n",
    "import pandas as pd\n",
    "import numpy as np\n",
    "import matplotlib.pyplot as plt\n",
    "import scipy.stats as stats\n",
    "import math\n",
    "import seaborn as sns\n",
    "from datetime import datetime, timedelta\n",
    "from scipy.stats import pearsonr\n",
    "from scipy.stats import kendalltau\n",
    "from scipy.stats import spearmanr\n",
    "import os\n",
    "from scipy.optimize import minimize, Bounds, LinearConstraint, NonlinearConstraint\n",
    "import inspect"
   ]
  },
  {
   "cell_type": "markdown",
   "id": "daafe716",
   "metadata": {},
   "source": [
    "### Relevante Parameter:\n",
    "\n",
    "array_phi = 1 / (1 + np.exp(delta_0[state] + delta_1[state] * np.log(LY_monat)))\n",
    "\n",
    "array_lambdaY = np.exp(alpha_p[state] + beta_p_1[state] * EM_monat + beta_p_2[state] * np.square(EM_monat))\n",
    "\n",
    "    if r[0] > 0:\n",
    "        for i in range(len(y_monat)):\n",
    "            for j in range(y_monat[i] + 1):\n",
    "                if j == 0:\n",
    "                    pmf = phi[i] + (1 - phi[i]) * (1 + lambdaY[i] / r[0])**(-r[0])\n",
    "                elif j > 0:\n",
    "                    numerator = math.gamma(j + r[0])\n",
    "                    denominator = math.factorial(j) * math.gamma(r[0])\n",
    "                    gamma_term = numerator / denominator\n",
    "                    pmf= (1 - phi[i]) * gamma_term * (1 + lambdaY[i] / r[0])**(-r[0]) * (1 + r[0] / lambdaY[i])**(-j)\n",
    "                cdf[i] += pmf\n",
    "    return cdf\n",
    "\n",
    "Die Öffungszahlen sind mit einer ZINBD modelliert und die Werte folgender Tabellen haben Einfluss:\n",
    "\n",
    "1. df_LY\n",
    "2. LO_monat\n",
    "3. df_trans_werte\n",
    "4. df_HY\n",
    "\n",
    "folgende Parameter haben einen Einfluss:\n",
    "1. delta_0 (1 x anzahl_states array, also state abhängig)\n",
    "2. delta_1 (1 x anzahl_states array, also state abhängig)\n",
    "\n",
    "3. alpha_p (1 x anzahl_states array, also state abhängig)\n",
    "4. beta_p_1 (1 x anzahl_states array, also state abhängig)\n",
    "5. beta_p_1 (1 x anzahl_states array, also state abhängig)\n",
    "\n",
    "\n",
    "\n",
    "(1 x 1 array, state unabhängig)"
   ]
  },
  {
   "cell_type": "code",
   "execution_count": 2,
   "id": "ea5ccfc6",
   "metadata": {},
   "outputs": [],
   "source": [
    "path = r'C:/Users/felix.oechslein/Desktop/Analysen Thalia, Mai/verarbeitete_daten'\n",
    "filename = 'Pivot_LY_Privat_ohneApple_Langzeitkunde.csv'\n",
    "\n",
    "df_LY = pd.read_csv(os.path.join(path, filename))"
   ]
  },
  {
   "cell_type": "code",
   "execution_count": 3,
   "id": "a7a70f4e",
   "metadata": {},
   "outputs": [],
   "source": [
    "# LO monat\n",
    "path = r'C:/Users/felix.oechslein/Desktop/Analysen Thalia, Mai/verarbeitete_daten'\n",
    "filename = 'Pivot_LO_Privat_ohneApple_Langzeitkunde.csv'\n",
    "\n",
    "df_LO = pd.read_csv(os.path.join(path, filename))"
   ]
  },
  {
   "cell_type": "code",
   "execution_count": 4,
   "id": "76d1223c",
   "metadata": {},
   "outputs": [],
   "source": [
    "path = r'C:/Users/felix.oechslein/Desktop/Analysen Thalia, Mai/verarbeitete_daten'\n",
    "filename = 'Pivot_Trans_Privat_ohneApple_Langzeitkunde.csv'\n",
    "\n",
    "df_trans_werte = pd.read_csv(os.path.join(path, filename))"
   ]
  },
  {
   "cell_type": "code",
   "execution_count": 5,
   "id": "ac6ae659",
   "metadata": {},
   "outputs": [],
   "source": [
    "# EM_monat aus der HY Zahlen der versendeten Mails ziehen\n",
    "path = r'C:/Users/felix.oechslein/Desktop/Analysen Thalia, Mai/verarbeitete_daten'\n",
    "filename = 'Pivot_HY_Privat_ohneApple_Langzeitkunde.csv'\n",
    "\n",
    "df_HY = pd.read_csv(os.path.join(path, filename))"
   ]
  },
  {
   "cell_type": "markdown",
   "id": "51914c9c",
   "metadata": {},
   "source": [
    "### Datenanpassung wie bei der Berechnung der optimalen Parameter"
   ]
  },
  {
   "cell_type": "code",
   "execution_count": 6,
   "id": "db0df8d7",
   "metadata": {},
   "outputs": [],
   "source": [
    "## Alle DataFrame Werte von Float zu int\n",
    "df_LY = df_LY.astype(int)\n",
    "df_LO = df_LO.astype(int)\n",
    "df_trans_werte = df_HY.astype(int)\n",
    "df_HY = df_LY.astype(int)"
   ]
  },
  {
   "cell_type": "markdown",
   "id": "a9706904",
   "metadata": {},
   "source": [
    "### Sicherstellen dass alle df dieselben Kunden verwenden"
   ]
  },
  {
   "cell_type": "code",
   "execution_count": 7,
   "id": "4b66f142",
   "metadata": {},
   "outputs": [],
   "source": [
    "# Entfernen der Zeilen aus df_LO, die nicht in df_HY enthalten sind\n",
    "df_LY = df_LY[df_LY['iid'].isin(df_LO['iid'])]\n",
    "df_LO = df_LO[df_LO['iid'].isin(df_trans_werte['iid'])]\n",
    "df_trans_werte = df_trans_werte[df_trans_werte['iid'].isin(df_HY['iid'])]\n",
    "df_HY = df_HY[df_HY['iid'].isin(df_LY['iid'])]"
   ]
  },
  {
   "cell_type": "code",
   "execution_count": 8,
   "id": "c4cba49b",
   "metadata": {},
   "outputs": [
    {
     "data": {
      "text/plain": [
       "647"
      ]
     },
     "execution_count": 8,
     "metadata": {},
     "output_type": "execute_result"
    }
   ],
   "source": [
    "len(df_LY)"
   ]
  },
  {
   "cell_type": "code",
   "execution_count": 9,
   "id": "91d9c314",
   "metadata": {},
   "outputs": [
    {
     "data": {
      "text/plain": [
       "647"
      ]
     },
     "execution_count": 9,
     "metadata": {},
     "output_type": "execute_result"
    }
   ],
   "source": [
    "len(df_LO)"
   ]
  },
  {
   "cell_type": "code",
   "execution_count": 10,
   "id": "b6a193f7",
   "metadata": {
    "scrolled": true
   },
   "outputs": [
    {
     "data": {
      "text/plain": [
       "697"
      ]
     },
     "execution_count": 10,
     "metadata": {},
     "output_type": "execute_result"
    }
   ],
   "source": [
    "len(df_trans_werte)"
   ]
  },
  {
   "cell_type": "code",
   "execution_count": 11,
   "id": "78f68b67",
   "metadata": {},
   "outputs": [
    {
     "data": {
      "text/plain": [
       "647"
      ]
     },
     "execution_count": 11,
     "metadata": {},
     "output_type": "execute_result"
    }
   ],
   "source": [
    "len(df_HY)"
   ]
  },
  {
   "cell_type": "code",
   "execution_count": 12,
   "id": "d4f76ec7",
   "metadata": {},
   "outputs": [],
   "source": [
    "# Siherstellen dass alle dataframes die Kunden in derselben Reihenfolge auflisten\n",
    "df_LY = df_LY.sort_values('iid')\n",
    "df_LO = df_LO.sort_values('iid')\n",
    "df_trans_werte = df_trans_werte.sort_values('iid')\n",
    "df_HY = df_HY.sort_values('iid')\n",
    "\n",
    "#Index resetten\n",
    "df_LY = df_LY.reset_index(drop = True)\n",
    "df_LO = df_LO.reset_index(drop = True)\n",
    "df_trans_werte = df_trans_werte.reset_index(drop = True)\n",
    "df_HY = df_HY.reset_index(drop = True)"
   ]
  },
  {
   "cell_type": "markdown",
   "id": "d46ee54e",
   "metadata": {},
   "source": [
    "### Ausreißer bei den Kunden löschen (wie bei den Berechnungen)"
   ]
  },
  {
   "cell_type": "code",
   "execution_count": 13,
   "id": "506afd63",
   "metadata": {},
   "outputs": [],
   "source": [
    "kunden_pos = [443, 387, 408, 415, 451, 531, 364, 351, 348, 501, 408, 285, 422, 251, 220]"
   ]
  },
  {
   "cell_type": "code",
   "execution_count": 14,
   "id": "5387e57e",
   "metadata": {
    "scrolled": true
   },
   "outputs": [],
   "source": [
    "# Zeilen löschen\n",
    "df_LY = df_LY.drop(kunden_pos).reset_index(drop = True)\n",
    "df_LO = df_LO.drop(kunden_pos).reset_index(drop = True)\n",
    "df_trans_werte = df_trans_werte.drop(kunden_pos).reset_index(drop = True)\n",
    "df_HY = df_HY.drop(kunden_pos).reset_index(drop = True)"
   ]
  },
  {
   "cell_type": "markdown",
   "id": "eb6e8d04",
   "metadata": {},
   "source": [
    "### Spezifikation des Modells"
   ]
  },
  {
   "cell_type": "code",
   "execution_count": 15,
   "id": "48b3a46c",
   "metadata": {},
   "outputs": [
    {
     "data": {
      "text/plain": [
       "633"
      ]
     },
     "execution_count": 15,
     "metadata": {},
     "output_type": "execute_result"
    }
   ],
   "source": [
    "anzahl_kunden = len(df_LY[\"iid\"])\n",
    "anzahl_kunden"
   ]
  },
  {
   "cell_type": "code",
   "execution_count": 16,
   "id": "065acf68",
   "metadata": {},
   "outputs": [
    {
     "data": {
      "text/plain": [
       "15"
      ]
     },
     "execution_count": 16,
     "metadata": {},
     "output_type": "execute_result"
    }
   ],
   "source": [
    "anzahl_monate = len(df_LY.columns[df_LY.columns != 'iid'])\n",
    "anzahl_monate"
   ]
  },
  {
   "cell_type": "code",
   "execution_count": 17,
   "id": "1da5204f",
   "metadata": {},
   "outputs": [],
   "source": [
    "anzahl_states = 2"
   ]
  },
  {
   "cell_type": "markdown",
   "id": "2797f803",
   "metadata": {},
   "source": [
    "# Test für 2 states und 200 Iterationen mit bounds"
   ]
  },
  {
   "cell_type": "markdown",
   "id": "b76c697e",
   "metadata": {},
   "source": [
    "### 1. Herauslesen der Parameter aus dem array der gesamten geschätzten Parameter"
   ]
  },
  {
   "cell_type": "code",
   "execution_count": 49,
   "id": "a9224a1a",
   "metadata": {},
   "outputs": [],
   "source": [
    "estimated_params = [ 0.        , -2.57542179,  0.        ,  2.62717551,  0.        ,\n",
    "       -2.98703585,  0.        , -2.31989391,  0.        ,  0.1361796 ,\n",
    "        0.        ,  0.03734605,  0.        ,  2.16428968,  0.        ,\n",
    "        3.        ,  0.        ,  1.49658634,  0.        , -1.30925976,\n",
    "        0.53596929,  1.56559093, -1.28623055,  6.88631043,  6.44953524,\n",
    "       -1.28842799,  1.61663301, -1.12905537, -1.85205332, -0.38670405,\n",
    "        0.135329  ,  0.15976614, -0.01763291,  0.85690663]"
   ]
  },
  {
   "cell_type": "code",
   "execution_count": 50,
   "id": "afdcffd6",
   "metadata": {},
   "outputs": [],
   "source": [
    "alpha_size = anzahl_states**2\n",
    "gamma_size = anzahl_states**2 * 4\n",
    "\n",
    "alpha = estimated_params[:alpha_size]\n",
    "gamma = estimated_params[alpha_size:alpha_size+gamma_size]\n",
    "alpha_o = estimated_params[alpha_size+gamma_size:alpha_size+gamma_size+anzahl_states]\n",
    "beta_o = estimated_params[alpha_size+gamma_size+anzahl_states:alpha_size+gamma_size+anzahl_states+1]\n",
    "delta_0 = estimated_params[alpha_size+gamma_size+anzahl_states+1:alpha_size+gamma_size+anzahl_states*2+1]\n",
    "delta_1 = estimated_params[alpha_size+gamma_size+anzahl_states*2+1:alpha_size+gamma_size+anzahl_states*3+1]\n",
    "alpha_p = estimated_params[alpha_size+gamma_size+anzahl_states*3+1:alpha_size+gamma_size+anzahl_states*4+1]\n",
    "beta_p_1 = estimated_params[alpha_size+gamma_size+anzahl_states*4+1:alpha_size+gamma_size+anzahl_states*5+1]\n",
    "beta_p_2 = estimated_params[alpha_size+gamma_size+anzahl_states*5+1:alpha_size+gamma_size+anzahl_states*6+1]\n",
    "theta = estimated_params[alpha_size+gamma_size+anzahl_states*6+1:]"
   ]
  },
  {
   "cell_type": "code",
   "execution_count": 51,
   "id": "347e7b55",
   "metadata": {},
   "outputs": [
    {
     "data": {
      "text/plain": [
       "[6.88631043, 6.44953524]"
      ]
     },
     "execution_count": 51,
     "metadata": {},
     "output_type": "execute_result"
    }
   ],
   "source": [
    "delta_0"
   ]
  },
  {
   "cell_type": "code",
   "execution_count": 52,
   "id": "fd74bcde",
   "metadata": {},
   "outputs": [
    {
     "data": {
      "text/plain": [
       "[-1.28842799, 1.61663301]"
      ]
     },
     "execution_count": 52,
     "metadata": {},
     "output_type": "execute_result"
    }
   ],
   "source": [
    "delta_1"
   ]
  },
  {
   "cell_type": "code",
   "execution_count": 53,
   "id": "01373c9e",
   "metadata": {},
   "outputs": [
    {
     "data": {
      "text/plain": [
       "[-1.12905537, -1.85205332]"
      ]
     },
     "execution_count": 53,
     "metadata": {},
     "output_type": "execute_result"
    }
   ],
   "source": [
    "alpha_p"
   ]
  },
  {
   "cell_type": "code",
   "execution_count": 54,
   "id": "b3aba3ea",
   "metadata": {},
   "outputs": [
    {
     "data": {
      "text/plain": [
       "[-0.38670405, 0.135329]"
      ]
     },
     "execution_count": 54,
     "metadata": {},
     "output_type": "execute_result"
    }
   ],
   "source": [
    "beta_p_1"
   ]
  },
  {
   "cell_type": "code",
   "execution_count": 55,
   "id": "80620862",
   "metadata": {},
   "outputs": [
    {
     "data": {
      "text/plain": [
       "[0.15976614, -0.01763291]"
      ]
     },
     "execution_count": 55,
     "metadata": {},
     "output_type": "execute_result"
    }
   ],
   "source": [
    "beta_p_2"
   ]
  },
  {
   "cell_type": "markdown",
   "id": "bbc89a75",
   "metadata": {},
   "source": [
    "### Erstellen der erwarteten Käufe in den jeweiligen Monaten"
   ]
  },
  {
   "cell_type": "markdown",
   "id": "42091ca4",
   "metadata": {},
   "source": [
    "### Dispersion Parameter r für die ZINBD Verteilun wurde vorhergeschätzt"
   ]
  },
  {
   "cell_type": "code",
   "execution_count": 56,
   "id": "739417af",
   "metadata": {},
   "outputs": [],
   "source": [
    "r = [1.29]"
   ]
  },
  {
   "cell_type": "markdown",
   "id": "ae133892",
   "metadata": {},
   "source": [
    "### Phi und lamdaY Definition für Verwendung in PMF Berechnung"
   ]
  },
  {
   "cell_type": "code",
   "execution_count": 57,
   "id": "c938b8a3",
   "metadata": {},
   "outputs": [],
   "source": [
    "# Definition der Wahrscheinlichkeit des Eintretens eines Erfolges im Einzelversuch phi als anzahl_iids x T df\n",
    "def phi_state_monat(delta_0, delta_1, state, monat):\n",
    "    \n",
    "    state = state -1\n",
    "    \n",
    "    # Definitio von str_monat um auf den spaltennamen zugreifen zu können\n",
    "    str_monat = str(monat)\n",
    "    \n",
    "    LY_monat = df_LY[str_monat]\n",
    "    array_phi = 1 / (1 + np.exp(delta_0[state] + delta_1[state] * np.log(LY_monat)))\n",
    "    \n",
    "    return array_phi\n",
    "\n",
    "# Definition der lambdaY als anzahl_iids x 1 array für monat und state\n",
    "def lambdaY_state_monat(alpha_p, beta_p_1, beta_p_2, state, monat):\n",
    "    \n",
    "    state = state -1\n",
    "    \n",
    "    # Definitio von str_monat um auf den spaltennamen zugreifen zu können\n",
    "    str_monat = str(monat)\n",
    "    EM_monat = df_HY[str_monat]\n",
    "    \n",
    "    array_lambdaY = np.exp(alpha_p[state] + beta_p_1[state] * EM_monat + beta_p_2[state] * np.square(EM_monat))\n",
    "    \n",
    "    return array_lambdaY"
   ]
  },
  {
   "cell_type": "markdown",
   "id": "60490721",
   "metadata": {},
   "source": [
    "### Berechnug PMF"
   ]
  },
  {
   "cell_type": "code",
   "execution_count": 58,
   "id": "e7bc537d",
   "metadata": {},
   "outputs": [],
   "source": [
    "# Array der Verteilungsfunktion der Käufe Y für Monat und state\n",
    "def PMF_Y_state_monat(value, delta_0, delta_1, alpha_p, beta_p_1, beta_p_2, state, monat):\n",
    "    \n",
    "    # Definitio von str_monat um auf den spaltennamen zugreifen zu können\n",
    "    str_monat = str(monat)\n",
    "    # phi ist das 1 x anzahl_iids array mit phi für jeden kunden mit gegegebenem monat und state\n",
    "    phi = phi_state_monat(delta_0, delta_1, state, monat)\n",
    "    # lambdaY ist das 1 x anzahl_iids array mit lammbda für jeden kunden mit gegegebenem monat und state\n",
    "    lambdaY = lambdaY_state_monat(alpha_p, beta_p_1, beta_p_2, state, monat)\n",
    "    # pmf als 1x anzahl_iids array mit Nullen initieren\n",
    "    pmf = np.zeros_like(lambdaY, dtype=float)\n",
    "    \n",
    "    if r[0] > 0:\n",
    "        for i in range(anzahl_kunden):\n",
    "            if value == 0:\n",
    "                pmf[i] = phi[i] + (1 - phi[i]) * (1 + lambdaY[i] / r[0])**(-r[0])\n",
    "            elif value > 0:\n",
    "                numerator = math.gamma(value + r[0])\n",
    "                denominator = math.factorial(value) * math.gamma(r[0])\n",
    "                gamma_term = numerator / denominator\n",
    "                pmf[i] = (1 - phi[i]) * gamma_term * (1 + lambdaY[i] / r[0])**(-r[0]) * (1 + r[0] / lambdaY[i])**(-(value))\n",
    "    return pmf"
   ]
  },
  {
   "cell_type": "code",
   "execution_count": 59,
   "id": "dc4643c9",
   "metadata": {},
   "outputs": [],
   "source": [
    "# Wir betrachte die CDF(x) für x in [0, 10]\n",
    "PMF = np.zeros((11, anzahl_kunden, anzahl_states, anzahl_monate))"
   ]
  },
  {
   "cell_type": "code",
   "execution_count": 60,
   "id": "e8394d4d",
   "metadata": {},
   "outputs": [],
   "source": [
    "for value in range(0, 11):   \n",
    "        for state in range(1, anzahl_states + 1):\n",
    "            for monat in range(1, anzahl_monate +1):\n",
    "                PMF[value, :, state - 1, monat-1] =\\\n",
    "                    PMF_Y_state_monat(value, delta_0, delta_1, alpha_p, beta_p_1, beta_p_2, state, monat)"
   ]
  },
  {
   "cell_type": "markdown",
   "id": "c4747789",
   "metadata": {},
   "source": [
    "### Berechnung erwartete Käufe pro Monat, Kunde und state"
   ]
  },
  {
   "cell_type": "code",
   "execution_count": 61,
   "id": "c40920af",
   "metadata": {},
   "outputs": [],
   "source": [
    "PMF_monat_kunde_state_erwartung = np.zeros((anzahl_kunden, anzahl_states, anzahl_monate))"
   ]
  },
  {
   "cell_type": "code",
   "execution_count": 62,
   "id": "d9925662",
   "metadata": {},
   "outputs": [],
   "source": [
    "for kunde in range(anzahl_kunden):\n",
    "    for state in range(1, anzahl_states + 1):\n",
    "            for monat in range(1, anzahl_monate +1):\n",
    "                    erwartung = 0\n",
    "                    for value in range(0, 11):\n",
    "                        erwartung = PMF[value, kunde, state-1, monat-1] * value + erwartung\n",
    "                    \n",
    "                    PMF_monat_kunde_state_erwartung[kunde, state-1, monat-1] = erwartung"
   ]
  },
  {
   "cell_type": "markdown",
   "id": "c92f55af",
   "metadata": {},
   "source": [
    "### Berechnung Erwartungswert der Käufe pro Monat und state"
   ]
  },
  {
   "cell_type": "code",
   "execution_count": 63,
   "id": "01f6bf20",
   "metadata": {},
   "outputs": [
    {
     "data": {
      "text/plain": [
       "0.5848337884626803"
      ]
     },
     "execution_count": 63,
     "metadata": {},
     "output_type": "execute_result"
    }
   ],
   "source": [
    "np.sum(PMF_monat_kunde_state_erwartung[:,0,:])/PMF_monat_kunde_state_erwartung[:,0,:].size"
   ]
  },
  {
   "cell_type": "code",
   "execution_count": 64,
   "id": "51af99d8",
   "metadata": {},
   "outputs": [
    {
     "data": {
      "text/plain": [
       "0.18054875550437158"
      ]
     },
     "execution_count": 64,
     "metadata": {},
     "output_type": "execute_result"
    }
   ],
   "source": [
    "np.sum(PMF_monat_kunde_state_erwartung[:,1,:])/PMF_monat_kunde_state_erwartung[:,1,:].size"
   ]
  },
  {
   "cell_type": "code",
   "execution_count": 66,
   "id": "4b42c82c",
   "metadata": {},
   "outputs": [
    {
     "data": {
      "text/plain": [
       "2.801065834699079"
      ]
     },
     "execution_count": 66,
     "metadata": {},
     "output_type": "execute_result"
    }
   ],
   "source": [
    "np.exp(1.566-0.536)"
   ]
  },
  {
   "cell_type": "code",
   "execution_count": 67,
   "id": "00224f1c",
   "metadata": {},
   "outputs": [
    {
     "data": {
      "text/plain": [
       "1.6190160524560675"
      ]
     },
     "execution_count": 67,
     "metadata": {},
     "output_type": "execute_result"
    }
   ],
   "source": [
    "0.578 * 2.801065834699079"
   ]
  },
  {
   "cell_type": "code",
   "execution_count": 69,
   "id": "2acb0bde",
   "metadata": {},
   "outputs": [
    {
     "data": {
      "text/plain": [
       "0.27637407132753633"
      ]
     },
     "execution_count": 69,
     "metadata": {},
     "output_type": "execute_result"
    }
   ],
   "source": [
    "np.exp(-1.286)"
   ]
  },
  {
   "cell_type": "markdown",
   "id": "f473f85b",
   "metadata": {},
   "source": [
    "# Random Tests"
   ]
  },
  {
   "cell_type": "code",
   "execution_count": 48,
   "id": "7a3fb9f8",
   "metadata": {},
   "outputs": [
    {
     "data": {
      "text/plain": [
       "0.001578028060403861"
      ]
     },
     "execution_count": 48,
     "metadata": {},
     "output_type": "execute_result"
    }
   ],
   "source": [
    "1/(1+np.exp(6.450+1.617*np.log(1)))"
   ]
  },
  {
   "cell_type": "code",
   "execution_count": null,
   "id": "976497b8",
   "metadata": {},
   "outputs": [],
   "source": []
  }
 ],
 "metadata": {
  "kernelspec": {
   "display_name": "Python 3 (ipykernel)",
   "language": "python",
   "name": "python3"
  },
  "language_info": {
   "codemirror_mode": {
    "name": "ipython",
    "version": 3
   },
   "file_extension": ".py",
   "mimetype": "text/x-python",
   "name": "python",
   "nbconvert_exporter": "python",
   "pygments_lexer": "ipython3",
   "version": "3.9.13"
  }
 },
 "nbformat": 4,
 "nbformat_minor": 5
}
