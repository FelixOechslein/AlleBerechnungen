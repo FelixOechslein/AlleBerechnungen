{
 "cells": [
  {
   "cell_type": "code",
   "execution_count": 13,
   "id": "67be3834",
   "metadata": {},
   "outputs": [],
   "source": [
    "import pandas as pd\n",
    "import numpy\n",
    "import matplotlib.pyplot as plt\n",
    "import scipy.stats as stats\n",
    "import math\n",
    "import seaborn as sns"
   ]
  },
  {
   "cell_type": "code",
   "execution_count": 14,
   "id": "38278588",
   "metadata": {},
   "outputs": [],
   "source": [
    "df_transactions_wofirstname = pd.read_csv(x +\n",
    "                                    \"Thalia_transactions_ohne_vorname.csv\")"
   ]
  },
  {
   "cell_type": "markdown",
   "id": "c73566c2",
   "metadata": {},
   "source": [
    "# Datenbereinigung und Erstellung einer Privatkunden Dataframe"
   ]
  },
  {
   "cell_type": "code",
   "execution_count": 16,
   "id": "222e68dd",
   "metadata": {},
   "outputs": [
    {
     "data": {
      "text/html": [
       "<div>\n",
       "<style scoped>\n",
       "    .dataframe tbody tr th:only-of-type {\n",
       "        vertical-align: middle;\n",
       "    }\n",
       "\n",
       "    .dataframe tbody tr th {\n",
       "        vertical-align: top;\n",
       "    }\n",
       "\n",
       "    .dataframe thead th {\n",
       "        text-align: right;\n",
       "    }\n",
       "</style>\n",
       "<table border=\"1\" class=\"dataframe\">\n",
       "  <thead>\n",
       "    <tr style=\"text-align: right;\">\n",
       "      <th></th>\n",
       "      <th>iid</th>\n",
       "      <th>MeanTIperOR</th>\n",
       "    </tr>\n",
       "  </thead>\n",
       "  <tbody>\n",
       "    <tr>\n",
       "      <th>0</th>\n",
       "      <td>100002747</td>\n",
       "      <td>2.5</td>\n",
       "    </tr>\n",
       "    <tr>\n",
       "      <th>1</th>\n",
       "      <td>100009615</td>\n",
       "      <td>2.0</td>\n",
       "    </tr>\n",
       "    <tr>\n",
       "      <th>2</th>\n",
       "      <td>100009745</td>\n",
       "      <td>4.8</td>\n",
       "    </tr>\n",
       "    <tr>\n",
       "      <th>3</th>\n",
       "      <td>100011333</td>\n",
       "      <td>2.0</td>\n",
       "    </tr>\n",
       "    <tr>\n",
       "      <th>4</th>\n",
       "      <td>100011954</td>\n",
       "      <td>2.1</td>\n",
       "    </tr>\n",
       "  </tbody>\n",
       "</table>\n",
       "</div>"
      ],
      "text/plain": [
       "         iid  MeanTIperOR\n",
       "0  100002747          2.5\n",
       "1  100009615          2.0\n",
       "2  100009745          4.8\n",
       "3  100011333          2.0\n",
       "4  100011954          2.1"
      ]
     },
     "execution_count": 16,
     "metadata": {},
     "output_type": "execute_result"
    }
   ],
   "source": [
    "#Transaktions-Daten bereinigen\n",
    "\n",
    "df_t = df_transactions_wofirstname[[\"iid\", \"key\", \"attrtype\", \"status\", \"pricetotal\"]]\n",
    "df_t = df_t.query('attrtype == \"TI\"')\n",
    "df_t = df_t.query('status == \"Buchung\" or status == \"Order\"')\n",
    "df_t = df_t.query('pricetotal >= 0.01')\n",
    "\n",
    "# Spalte mit Mean-TIs erstellen\n",
    "df_t = df_t.groupby([\"iid\", \"key\"])[\"key\"].agg(\"count\")\n",
    "df_t = df_t.to_frame()\n",
    "df_t = df_t.rename(columns = {\"key\" : \"AnzahlTIsProOrder\"})\n",
    "df_t = df_t.reset_index()\n",
    "\n",
    "df_t = df_t.groupby(\"iid\")[\"AnzahlTIsProOrder\"].agg(\"mean\")\n",
    "df_t = df_t.to_frame()\n",
    "df_t = df_t.rename(columns = {\"AnzahlTIsProOrder\" : \"MeanTIperOR\"})\n",
    "df_t = df_t.reset_index()\n",
    "df_t.head()"
   ]
  },
  {
   "cell_type": "code",
   "execution_count": 17,
   "id": "e471d525",
   "metadata": {},
   "outputs": [
    {
     "name": "stdout",
     "output_type": "stream",
     "text": [
      "3.25\n"
     ]
    }
   ],
   "source": [
    "# Computing IQR\n",
    "Q1 = df_t[\"MeanTIperOR\"].quantile(0.25)\n",
    "Q3 = df_t[\"MeanTIperOR\"].quantile(0.75)\n",
    "IQR = Q3 - Q1\n",
    "IQR_neu = Q3 + 1.5 * IQR\n",
    "print(IQR_neu)"
   ]
  },
  {
   "cell_type": "code",
   "execution_count": 18,
   "id": "f07dc5b8",
   "metadata": {},
   "outputs": [],
   "source": [
    "#Ausgabe der iids die als Privatkunden klassifiziert werden\n",
    "\n",
    "df_t = df_t.query(\"MeanTIperOR <= @IQR_neu\")\n",
    "df_t = df_t[\"iid\"]"
   ]
  },
  {
   "cell_type": "code",
   "execution_count": 19,
   "id": "89fa83b9",
   "metadata": {},
   "outputs": [
    {
     "data": {
      "text/plain": [
       "0         100002747\n",
       "1         100009615\n",
       "3         100011333\n",
       "4         100011954\n",
       "5         100013175\n",
       "            ...    \n",
       "145573    290128953\n",
       "145574    290130157\n",
       "145575    290130388\n",
       "145576    290131783\n",
       "145577    290131845\n",
       "Name: iid, Length: 128623, dtype: int64"
      ]
     },
     "execution_count": 19,
     "metadata": {},
     "output_type": "execute_result"
    }
   ],
   "source": [
    "df_t"
   ]
  },
  {
   "cell_type": "code",
   "execution_count": 8,
   "id": "e05758e8",
   "metadata": {},
   "outputs": [],
   "source": [
    "#Exportieren der Privatkunden iids\n",
    "\n",
    "export_csv = df_t.to_csv('privatkunden.iid.thalia.csv')"
   ]
  }
 ],
 "metadata": {
  "kernelspec": {
   "display_name": "Python 3 (ipykernel)",
   "language": "python",
   "name": "python3"
  },
  "language_info": {
   "codemirror_mode": {
    "name": "ipython",
    "version": 3
   },
   "file_extension": ".py",
   "mimetype": "text/x-python",
   "name": "python",
   "nbconvert_exporter": "python",
   "pygments_lexer": "ipython3",
   "version": "3.9.13"
  }
 },
 "nbformat": 4,
 "nbformat_minor": 5
}
