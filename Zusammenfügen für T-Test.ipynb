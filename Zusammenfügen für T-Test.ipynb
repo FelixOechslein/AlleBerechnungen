{
 "cells": [
  {
   "cell_type": "code",
   "execution_count": 1,
   "id": "2e2eec54",
   "metadata": {},
   "outputs": [],
   "source": [
    "import pandas as pd\n",
    "import numpy\n",
    "import matplotlib.pyplot as plt\n",
    "import scipy.stats as stats\n",
    "import math"
   ]
  },
  {
   "cell_type": "code",
   "execution_count": 2,
   "id": "95f0bb97",
   "metadata": {},
   "outputs": [],
   "source": [
    "df_CV_bereinigt_talia = pd.read_csv(\"df_CV_bereinigt_talia.csv\")"
   ]
  },
  {
   "cell_type": "code",
   "execution_count": 3,
   "id": "e20e9c8d",
   "metadata": {},
   "outputs": [],
   "source": [
    "df_history = pd.read_csv(\"./history_thalia.csv\")"
   ]
  },
  {
   "cell_type": "code",
   "execution_count": 4,
   "id": "06515521",
   "metadata": {},
   "outputs": [],
   "source": [
    "df_h = df_history.groupby(['iid'])['attrtype'].value_counts()"
   ]
  },
  {
   "cell_type": "code",
   "execution_count": 5,
   "id": "57e31d84",
   "metadata": {},
   "outputs": [
    {
     "data": {
      "text/html": [
       "<div>\n",
       "<style scoped>\n",
       "    .dataframe tbody tr th:only-of-type {\n",
       "        vertical-align: middle;\n",
       "    }\n",
       "\n",
       "    .dataframe tbody tr th {\n",
       "        vertical-align: top;\n",
       "    }\n",
       "\n",
       "    .dataframe thead th {\n",
       "        text-align: right;\n",
       "    }\n",
       "</style>\n",
       "<table border=\"1\" class=\"dataframe\">\n",
       "  <thead>\n",
       "    <tr style=\"text-align: right;\">\n",
       "      <th></th>\n",
       "      <th></th>\n",
       "      <th>attrtype</th>\n",
       "    </tr>\n",
       "    <tr>\n",
       "      <th>iid</th>\n",
       "      <th>attrtype</th>\n",
       "      <th></th>\n",
       "    </tr>\n",
       "  </thead>\n",
       "  <tbody>\n",
       "    <tr>\n",
       "      <th rowspan=\"4\" valign=\"top\">100001735</th>\n",
       "      <th>NO</th>\n",
       "      <td>201</td>\n",
       "    </tr>\n",
       "    <tr>\n",
       "      <th>HY</th>\n",
       "      <td>65</td>\n",
       "    </tr>\n",
       "    <tr>\n",
       "      <th>NC</th>\n",
       "      <td>4</td>\n",
       "    </tr>\n",
       "    <tr>\n",
       "      <th>SB</th>\n",
       "      <td>1</td>\n",
       "    </tr>\n",
       "    <tr>\n",
       "      <th>100001769</th>\n",
       "      <th>NO</th>\n",
       "      <td>87</td>\n",
       "    </tr>\n",
       "    <tr>\n",
       "      <th>...</th>\n",
       "      <th>...</th>\n",
       "      <td>...</td>\n",
       "    </tr>\n",
       "    <tr>\n",
       "      <th rowspan=\"2\" valign=\"top\">288122186</th>\n",
       "      <th>NC</th>\n",
       "      <td>1</td>\n",
       "    </tr>\n",
       "    <tr>\n",
       "      <th>NO</th>\n",
       "      <td>1</td>\n",
       "    </tr>\n",
       "    <tr>\n",
       "      <th rowspan=\"3\" valign=\"top\">288132829</th>\n",
       "      <th>HY</th>\n",
       "      <td>1</td>\n",
       "    </tr>\n",
       "    <tr>\n",
       "      <th>NC</th>\n",
       "      <td>1</td>\n",
       "    </tr>\n",
       "    <tr>\n",
       "      <th>NO</th>\n",
       "      <td>1</td>\n",
       "    </tr>\n",
       "  </tbody>\n",
       "</table>\n",
       "<p>398292 rows × 1 columns</p>\n",
       "</div>"
      ],
      "text/plain": [
       "                    attrtype\n",
       "iid       attrtype          \n",
       "100001735 NO             201\n",
       "          HY              65\n",
       "          NC               4\n",
       "          SB               1\n",
       "100001769 NO              87\n",
       "...                      ...\n",
       "288122186 NC               1\n",
       "          NO               1\n",
       "288132829 HY               1\n",
       "          NC               1\n",
       "          NO               1\n",
       "\n",
       "[398292 rows x 1 columns]"
      ]
     },
     "execution_count": 5,
     "metadata": {},
     "output_type": "execute_result"
    }
   ],
   "source": [
    "df_h.to_frame()"
   ]
  },
  {
   "cell_type": "code",
   "execution_count": 6,
   "id": "56b1da57",
   "metadata": {},
   "outputs": [],
   "source": [
    "df_history_bereinigt = df_h.unstack()"
   ]
  },
  {
   "cell_type": "code",
   "execution_count": 7,
   "id": "9079b15b",
   "metadata": {},
   "outputs": [],
   "source": [
    "df_zusammen = pd.merge(\n",
    "    df_CV_bereinigt_talia,\n",
    "    df_history_bereinigt,\n",
    "    how=\"inner\",\n",
    "    on= \"iid\")\n",
    "#    left_on=None, right_on=None, left_index=False, right_index=False, sort=True, suffixes=(\"_x\", \"_y\"), copy=True,\n",
    "#    indicator=False, validate=None)"
   ]
  },
  {
   "cell_type": "code",
   "execution_count": 8,
   "id": "5c01e505",
   "metadata": {},
   "outputs": [],
   "source": [
    "df_zusammen_pricetotal_asint = df_zusammen"
   ]
  },
  {
   "cell_type": "code",
   "execution_count": 9,
   "id": "5428888c",
   "metadata": {},
   "outputs": [],
   "source": [
    "df_zusammen_pricetotal_asint[\"pricetotal\"] = df_zusammen_pricetotal_asint[\"pricetotal\"].astype(\"int\")"
   ]
  },
  {
   "cell_type": "code",
   "execution_count": 10,
   "id": "437e0a17",
   "metadata": {},
   "outputs": [],
   "source": [
    "df_zusammen_keine_oeffnungen = df_zusammen_pricetotal_asint[numpy.isnan(df_zusammen[\"NO\"])]"
   ]
  },
  {
   "cell_type": "code",
   "execution_count": 11,
   "id": "5bf80d7a",
   "metadata": {},
   "outputs": [],
   "source": [
    "df_zusammen_oeffnungen = df_zusammen_pricetotal_asint[~numpy.isnan(df_zusammen[\"NO\"])]"
   ]
  },
  {
   "cell_type": "code",
   "execution_count": 12,
   "id": "bc537ee3",
   "metadata": {},
   "outputs": [
    {
     "data": {
      "text/html": [
       "<div>\n",
       "<style scoped>\n",
       "    .dataframe tbody tr th:only-of-type {\n",
       "        vertical-align: middle;\n",
       "    }\n",
       "\n",
       "    .dataframe tbody tr th {\n",
       "        vertical-align: top;\n",
       "    }\n",
       "\n",
       "    .dataframe thead th {\n",
       "        text-align: right;\n",
       "    }\n",
       "</style>\n",
       "<table border=\"1\" class=\"dataframe\">\n",
       "  <thead>\n",
       "    <tr style=\"text-align: right;\">\n",
       "      <th></th>\n",
       "      <th>iid</th>\n",
       "      <th>pricetotal</th>\n",
       "      <th>HB</th>\n",
       "      <th>HY</th>\n",
       "      <th>NC</th>\n",
       "      <th>NO</th>\n",
       "      <th>SB</th>\n",
       "      <th>SC</th>\n",
       "    </tr>\n",
       "  </thead>\n",
       "  <tbody>\n",
       "    <tr>\n",
       "      <th>0</th>\n",
       "      <td>100002747</td>\n",
       "      <td>155</td>\n",
       "      <td>1.0</td>\n",
       "      <td>36.0</td>\n",
       "      <td>NaN</td>\n",
       "      <td>5.0</td>\n",
       "      <td>3.0</td>\n",
       "      <td>NaN</td>\n",
       "    </tr>\n",
       "    <tr>\n",
       "      <th>2</th>\n",
       "      <td>100009745</td>\n",
       "      <td>599</td>\n",
       "      <td>NaN</td>\n",
       "      <td>37.0</td>\n",
       "      <td>1.0</td>\n",
       "      <td>6.0</td>\n",
       "      <td>5.0</td>\n",
       "      <td>NaN</td>\n",
       "    </tr>\n",
       "    <tr>\n",
       "      <th>3</th>\n",
       "      <td>100011954</td>\n",
       "      <td>1013</td>\n",
       "      <td>NaN</td>\n",
       "      <td>56.0</td>\n",
       "      <td>1.0</td>\n",
       "      <td>63.0</td>\n",
       "      <td>1.0</td>\n",
       "      <td>NaN</td>\n",
       "    </tr>\n",
       "    <tr>\n",
       "      <th>5</th>\n",
       "      <td>100013945</td>\n",
       "      <td>74</td>\n",
       "      <td>NaN</td>\n",
       "      <td>37.0</td>\n",
       "      <td>NaN</td>\n",
       "      <td>3.0</td>\n",
       "      <td>3.0</td>\n",
       "      <td>NaN</td>\n",
       "    </tr>\n",
       "    <tr>\n",
       "      <th>6</th>\n",
       "      <td>100016146</td>\n",
       "      <td>22</td>\n",
       "      <td>NaN</td>\n",
       "      <td>63.0</td>\n",
       "      <td>14.0</td>\n",
       "      <td>19.0</td>\n",
       "      <td>NaN</td>\n",
       "      <td>NaN</td>\n",
       "    </tr>\n",
       "    <tr>\n",
       "      <th>7</th>\n",
       "      <td>100017834</td>\n",
       "      <td>15</td>\n",
       "      <td>NaN</td>\n",
       "      <td>55.0</td>\n",
       "      <td>2.0</td>\n",
       "      <td>2.0</td>\n",
       "      <td>6.0</td>\n",
       "      <td>NaN</td>\n",
       "    </tr>\n",
       "    <tr>\n",
       "      <th>8</th>\n",
       "      <td>100021341</td>\n",
       "      <td>145</td>\n",
       "      <td>1.0</td>\n",
       "      <td>65.0</td>\n",
       "      <td>3.0</td>\n",
       "      <td>18.0</td>\n",
       "      <td>NaN</td>\n",
       "      <td>NaN</td>\n",
       "    </tr>\n",
       "    <tr>\n",
       "      <th>12</th>\n",
       "      <td>100024712</td>\n",
       "      <td>0</td>\n",
       "      <td>NaN</td>\n",
       "      <td>63.0</td>\n",
       "      <td>3.0</td>\n",
       "      <td>7.0</td>\n",
       "      <td>NaN</td>\n",
       "      <td>NaN</td>\n",
       "    </tr>\n",
       "    <tr>\n",
       "      <th>13</th>\n",
       "      <td>100024878</td>\n",
       "      <td>92</td>\n",
       "      <td>NaN</td>\n",
       "      <td>33.0</td>\n",
       "      <td>NaN</td>\n",
       "      <td>1.0</td>\n",
       "      <td>1.0</td>\n",
       "      <td>NaN</td>\n",
       "    </tr>\n",
       "    <tr>\n",
       "      <th>15</th>\n",
       "      <td>100028456</td>\n",
       "      <td>22</td>\n",
       "      <td>NaN</td>\n",
       "      <td>65.0</td>\n",
       "      <td>10.0</td>\n",
       "      <td>21.0</td>\n",
       "      <td>NaN</td>\n",
       "      <td>NaN</td>\n",
       "    </tr>\n",
       "    <tr>\n",
       "      <th>16</th>\n",
       "      <td>100028780</td>\n",
       "      <td>78</td>\n",
       "      <td>NaN</td>\n",
       "      <td>42.0</td>\n",
       "      <td>NaN</td>\n",
       "      <td>22.0</td>\n",
       "      <td>1.0</td>\n",
       "      <td>NaN</td>\n",
       "    </tr>\n",
       "    <tr>\n",
       "      <th>17</th>\n",
       "      <td>100031181</td>\n",
       "      <td>44</td>\n",
       "      <td>NaN</td>\n",
       "      <td>68.0</td>\n",
       "      <td>13.0</td>\n",
       "      <td>10.0</td>\n",
       "      <td>NaN</td>\n",
       "      <td>NaN</td>\n",
       "    </tr>\n",
       "    <tr>\n",
       "      <th>18</th>\n",
       "      <td>100031213</td>\n",
       "      <td>93</td>\n",
       "      <td>NaN</td>\n",
       "      <td>32.0</td>\n",
       "      <td>4.0</td>\n",
       "      <td>12.0</td>\n",
       "      <td>NaN</td>\n",
       "      <td>NaN</td>\n",
       "    </tr>\n",
       "    <tr>\n",
       "      <th>21</th>\n",
       "      <td>100034921</td>\n",
       "      <td>68</td>\n",
       "      <td>NaN</td>\n",
       "      <td>30.0</td>\n",
       "      <td>NaN</td>\n",
       "      <td>14.0</td>\n",
       "      <td>NaN</td>\n",
       "      <td>NaN</td>\n",
       "    </tr>\n",
       "    <tr>\n",
       "      <th>22</th>\n",
       "      <td>100036999</td>\n",
       "      <td>565</td>\n",
       "      <td>NaN</td>\n",
       "      <td>62.0</td>\n",
       "      <td>NaN</td>\n",
       "      <td>19.0</td>\n",
       "      <td>NaN</td>\n",
       "      <td>NaN</td>\n",
       "    </tr>\n",
       "    <tr>\n",
       "      <th>23</th>\n",
       "      <td>100042162</td>\n",
       "      <td>140</td>\n",
       "      <td>1.0</td>\n",
       "      <td>75.0</td>\n",
       "      <td>NaN</td>\n",
       "      <td>61.0</td>\n",
       "      <td>1.0</td>\n",
       "      <td>NaN</td>\n",
       "    </tr>\n",
       "    <tr>\n",
       "      <th>24</th>\n",
       "      <td>100045905</td>\n",
       "      <td>30</td>\n",
       "      <td>NaN</td>\n",
       "      <td>67.0</td>\n",
       "      <td>6.0</td>\n",
       "      <td>141.0</td>\n",
       "      <td>NaN</td>\n",
       "      <td>NaN</td>\n",
       "    </tr>\n",
       "    <tr>\n",
       "      <th>25</th>\n",
       "      <td>100046320</td>\n",
       "      <td>248</td>\n",
       "      <td>NaN</td>\n",
       "      <td>49.0</td>\n",
       "      <td>2.0</td>\n",
       "      <td>3.0</td>\n",
       "      <td>6.0</td>\n",
       "      <td>NaN</td>\n",
       "    </tr>\n",
       "    <tr>\n",
       "      <th>27</th>\n",
       "      <td>100047539</td>\n",
       "      <td>29</td>\n",
       "      <td>1.0</td>\n",
       "      <td>35.0</td>\n",
       "      <td>NaN</td>\n",
       "      <td>6.0</td>\n",
       "      <td>1.0</td>\n",
       "      <td>NaN</td>\n",
       "    </tr>\n",
       "  </tbody>\n",
       "</table>\n",
       "</div>"
      ],
      "text/plain": [
       "          iid  pricetotal   HB    HY    NC     NO   SB  SC\n",
       "0   100002747         155  1.0  36.0   NaN    5.0  3.0 NaN\n",
       "2   100009745         599  NaN  37.0   1.0    6.0  5.0 NaN\n",
       "3   100011954        1013  NaN  56.0   1.0   63.0  1.0 NaN\n",
       "5   100013945          74  NaN  37.0   NaN    3.0  3.0 NaN\n",
       "6   100016146          22  NaN  63.0  14.0   19.0  NaN NaN\n",
       "7   100017834          15  NaN  55.0   2.0    2.0  6.0 NaN\n",
       "8   100021341         145  1.0  65.0   3.0   18.0  NaN NaN\n",
       "12  100024712           0  NaN  63.0   3.0    7.0  NaN NaN\n",
       "13  100024878          92  NaN  33.0   NaN    1.0  1.0 NaN\n",
       "15  100028456          22  NaN  65.0  10.0   21.0  NaN NaN\n",
       "16  100028780          78  NaN  42.0   NaN   22.0  1.0 NaN\n",
       "17  100031181          44  NaN  68.0  13.0   10.0  NaN NaN\n",
       "18  100031213          93  NaN  32.0   4.0   12.0  NaN NaN\n",
       "21  100034921          68  NaN  30.0   NaN   14.0  NaN NaN\n",
       "22  100036999         565  NaN  62.0   NaN   19.0  NaN NaN\n",
       "23  100042162         140  1.0  75.0   NaN   61.0  1.0 NaN\n",
       "24  100045905          30  NaN  67.0   6.0  141.0  NaN NaN\n",
       "25  100046320         248  NaN  49.0   2.0    3.0  6.0 NaN\n",
       "27  100047539          29  1.0  35.0   NaN    6.0  1.0 NaN"
      ]
     },
     "execution_count": 12,
     "metadata": {},
     "output_type": "execute_result"
    }
   ],
   "source": [
    "df_zusammen_oeffnungen.head(19)"
   ]
  },
  {
   "cell_type": "code",
   "execution_count": 13,
   "id": "feb3dae1",
   "metadata": {},
   "outputs": [
    {
     "data": {
      "text/plain": [
       "(array([4706., 8218., 7238., 8730., 6840., 7004., 4895., 6358., 3946.,\n",
       "        3402., 4013., 3003., 2276., 1892., 1790., 1723., 1341., 1320.,\n",
       "        1171., 1008., 1019.,  868.,  789.,  759.,  648.,  640.,  547.,\n",
       "         531.,  476.,  443.,  447.,  423.,  394.,  348.,  329.,  309.,\n",
       "         277.,  273.,  251.,  234.,  242.,  234.,  184.,  217.,  175.,\n",
       "         163.,  172.,  163.,  158.,  140.,  141.,  135.,  123.,  112.,\n",
       "         122.,  120.,  105.,  122.,  109.,   93.,   87.,   74.,  115.,\n",
       "          96.,   91.,   96.,   75.,   87.,   82.,   88.,   76.,   69.,\n",
       "          71.,   58.,   68.,   59.,   64.,   53.,   49.,   58.,   70.,\n",
       "          52.,   50.,   53.,   52.,   46.,   46.,   45.,   42.,   34.,\n",
       "          42.,   36.,   34.,   42.,   32.,   38.,   39.,   39.,   48.]),\n",
       " array([  0,  10,  20,  30,  40,  50,  60,  70,  80,  90, 100, 110, 120,\n",
       "        130, 140, 150, 160, 170, 180, 190, 200, 210, 220, 230, 240, 250,\n",
       "        260, 270, 280, 290, 300, 310, 320, 330, 340, 350, 360, 370, 380,\n",
       "        390, 400, 410, 420, 430, 440, 450, 460, 470, 480, 490, 500, 510,\n",
       "        520, 530, 540, 550, 560, 570, 580, 590, 600, 610, 620, 630, 640,\n",
       "        650, 660, 670, 680, 690, 700, 710, 720, 730, 740, 750, 760, 770,\n",
       "        780, 790, 800, 810, 820, 830, 840, 850, 860, 870, 880, 890, 900,\n",
       "        910, 920, 930, 940, 950, 960, 970, 980, 990]),\n",
       " <BarContainer object of 99 artists>)"
      ]
     },
     "execution_count": 13,
     "metadata": {},
     "output_type": "execute_result"
    },
    {
     "data": {
      "image/png": "[encoded data removed]",
      "text/plain": [
       "<Figure size 640x480 with 1 Axes>"
      ]
     },
     "metadata": {},
     "output_type": "display_data"
    }
   ],
   "source": [
    "plt.hist(df_zusammen_oeffnungen[\"pricetotal\"], bins=range(0, 1000, 10))"
   ]
  },
  {
   "cell_type": "code",
   "execution_count": 14,
   "id": "97bef2fa",
   "metadata": {},
   "outputs": [
    {
     "data": {
      "text/plain": [
       "(array([1.844e+03, 3.571e+03, 2.777e+03, 3.635e+03, 2.416e+03, 2.631e+03,\n",
       "        1.668e+03, 2.225e+03, 1.250e+03, 1.213e+03, 1.346e+03, 9.590e+02,\n",
       "        7.580e+02, 5.580e+02, 5.680e+02, 4.870e+02, 3.840e+02, 3.920e+02,\n",
       "        3.060e+02, 2.480e+02, 2.680e+02, 2.230e+02, 2.080e+02, 1.860e+02,\n",
       "        1.530e+02, 1.770e+02, 1.520e+02, 1.170e+02, 1.160e+02, 1.060e+02,\n",
       "        9.000e+01, 7.400e+01, 9.500e+01, 1.000e+02, 6.100e+01, 6.800e+01,\n",
       "        5.300e+01, 6.900e+01, 5.100e+01, 6.500e+01, 5.600e+01, 5.000e+01,\n",
       "        3.500e+01, 3.600e+01, 4.100e+01, 3.800e+01, 2.400e+01, 2.800e+01,\n",
       "        3.800e+01, 3.300e+01, 2.800e+01, 2.300e+01, 2.500e+01, 2.200e+01,\n",
       "        1.900e+01, 1.900e+01, 2.900e+01, 2.800e+01, 2.100e+01, 1.400e+01,\n",
       "        2.100e+01, 1.800e+01, 2.100e+01, 1.800e+01, 1.500e+01, 1.000e+01,\n",
       "        2.000e+01, 1.600e+01, 1.000e+01, 1.800e+01, 1.900e+01, 1.600e+01,\n",
       "        9.000e+00, 8.000e+00, 1.400e+01, 1.400e+01, 5.000e+00, 1.200e+01,\n",
       "        8.000e+00, 1.200e+01, 1.400e+01, 6.000e+00, 1.100e+01, 1.000e+00,\n",
       "        1.000e+01, 6.000e+00, 9.000e+00, 1.700e+01, 1.100e+01, 6.000e+00,\n",
       "        7.000e+00, 2.000e+00, 6.000e+00, 1.100e+01, 3.000e+00, 5.000e+00,\n",
       "        4.000e+00, 4.000e+00, 6.000e+00]),\n",
       " array([  0,  10,  20,  30,  40,  50,  60,  70,  80,  90, 100, 110, 120,\n",
       "        130, 140, 150, 160, 170, 180, 190, 200, 210, 220, 230, 240, 250,\n",
       "        260, 270, 280, 290, 300, 310, 320, 330, 340, 350, 360, 370, 380,\n",
       "        390, 400, 410, 420, 430, 440, 450, 460, 470, 480, 490, 500, 510,\n",
       "        520, 530, 540, 550, 560, 570, 580, 590, 600, 610, 620, 630, 640,\n",
       "        650, 660, 670, 680, 690, 700, 710, 720, 730, 740, 750, 760, 770,\n",
       "        780, 790, 800, 810, 820, 830, 840, 850, 860, 870, 880, 890, 900,\n",
       "        910, 920, 930, 940, 950, 960, 970, 980, 990]),\n",
       " <BarContainer object of 99 artists>)"
      ]
     },
     "execution_count": 14,
     "metadata": {},
     "output_type": "execute_result"
    },
    {
     "data": {
      "image/png": "[encoded data removed]",
      "text/plain": [
       "<Figure size 640x480 with 1 Axes>"
      ]
     },
     "metadata": {},
     "output_type": "display_data"
    }
   ],
   "source": [
    "plt.hist(df_zusammen_keine_oeffnungen[\"pricetotal\"], bins=range(0, 1000, 10))"
   ]
  },
  {
   "cell_type": "code",
   "execution_count": 15,
   "id": "0b14f239",
   "metadata": {},
   "outputs": [
    {
     "name": "stdout",
     "output_type": "stream",
     "text": [
      "308.94017094017096\n",
      "413.4328476558628\n"
     ]
    }
   ],
   "source": [
    "print(df_zusammen_keine_oeffnungen[(df_zusammen_keine_oeffnungen[\"HY\"] >= 20)\n",
    "                                  & (df_zusammen_keine_oeffnungen[\"pricetotal\"] <= 4000)][\"pricetotal\"].mean())\n",
    "print(df_zusammen_oeffnungen[(df_zusammen_oeffnungen[\"HY\"] >= 20)\n",
    "                            & (df_zusammen_oeffnungen[\"pricetotal\"] <= 4000)][\"pricetotal\"].mean())"
   ]
  },
  {
   "cell_type": "code",
   "execution_count": 16,
   "id": "2af34b23",
   "metadata": {},
   "outputs": [
    {
     "data": {
      "text/plain": [
       "(array([15., 12., 17., 16., 18., 14., 15., 12., 12.,  5.,  7.,  8.,  7.,\n",
       "         5.,  2.,  3.,  3.,  6.,  2.,  2.,  3.,  1.,  4.,  1.,  3.,  2.,\n",
       "         1.,  0.,  0.,  0.,  1.,  0.,  1.,  1.,  0.,  0.,  1.,  0.,  0.,\n",
       "         0.,  1.,  1.,  0.,  0.,  0.,  0.,  0.,  0.,  1.,  1.,  0.,  0.,\n",
       "         0.,  0.,  0.,  0.,  0.,  0.,  0.,  0.,  0.,  0.,  0.,  0.,  0.,\n",
       "         1.,  0.,  0.,  0.,  0.,  1.,  0.,  1.,  0.,  0.,  0.,  0.,  1.,\n",
       "         1.,  0.,  1.,  0.,  1.,  0.,  1.,  0.,  0.,  0.,  2.,  0.,  0.,\n",
       "         0.,  0.,  0.,  0.,  0.,  0.,  0.,  0.]),\n",
       " array([  0,  10,  20,  30,  40,  50,  60,  70,  80,  90, 100, 110, 120,\n",
       "        130, 140, 150, 160, 170, 180, 190, 200, 210, 220, 230, 240, 250,\n",
       "        260, 270, 280, 290, 300, 310, 320, 330, 340, 350, 360, 370, 380,\n",
       "        390, 400, 410, 420, 430, 440, 450, 460, 470, 480, 490, 500, 510,\n",
       "        520, 530, 540, 550, 560, 570, 580, 590, 600, 610, 620, 630, 640,\n",
       "        650, 660, 670, 680, 690, 700, 710, 720, 730, 740, 750, 760, 770,\n",
       "        780, 790, 800, 810, 820, 830, 840, 850, 860, 870, 880, 890, 900,\n",
       "        910, 920, 930, 940, 950, 960, 970, 980, 990]),\n",
       " <BarContainer object of 99 artists>)"
      ]
     },
     "execution_count": 16,
     "metadata": {},
     "output_type": "execute_result"
    },
    {
     "data": {
      "image/png": "[encoded data removed]",
      "text/plain": [
       "<Figure size 640x480 with 1 Axes>"
      ]
     },
     "metadata": {},
     "output_type": "display_data"
    }
   ],
   "source": [
    "plt.hist(df_zusammen_keine_oeffnungen[df_zusammen_keine_oeffnungen[\"HY\"] >= 20][\"pricetotal\"], bins=range(0, 1000, 10))"
   ]
  },
  {
   "cell_type": "code",
   "execution_count": 17,
   "id": "7bb9e29e",
   "metadata": {},
   "outputs": [
    {
     "data": {
      "text/plain": [
       "Ttest_1sampResult(statistic=12.847725616505665, pvalue=1.6982072286908587e-37)"
      ]
     },
     "execution_count": 17,
     "metadata": {},
     "output_type": "execute_result"
    }
   ],
   "source": [
    "stats.ttest_1samp(a = df_zusammen_oeffnungen[df_zusammen_oeffnungen[\"HY\"] >= 20][\"pricetotal\"], \n",
    "                  popmean = df_zusammen_keine_oeffnungen[df_zusammen_keine_oeffnungen[\"HY\"] >= 20][\"pricetotal\"].mean())"
   ]
  },
  {
   "cell_type": "code",
   "execution_count": 27,
   "id": "17e5e4a0",
   "metadata": {},
   "outputs": [
    {
     "data": {
      "text/plain": [
       "Ttest_indResult(statistic=1.9291883804902252, pvalue=0.053733846267515)"
      ]
     },
     "execution_count": 27,
     "metadata": {},
     "output_type": "execute_result"
    }
   ],
   "source": [
    "stats.ttest_ind(a = df_zusammen_oeffnungen[df_zusammen_oeffnungen[\"HY\"] >= 20][\"pricetotal\"], \n",
    "                  b = df_zusammen_keine_oeffnungen[df_zusammen_keine_oeffnungen[\"HY\"] >= 20][\"pricetotal\"], equal_var = \"False\")"
   ]
  },
  {
   "cell_type": "code",
   "execution_count": 25,
   "id": "9cf6845b",
   "metadata": {},
   "outputs": [
    {
     "data": {
      "text/plain": [
       "Ttest_indResult(statistic=1.9291883804902252, pvalue=0.053733846267515)"
      ]
     },
     "execution_count": 25,
     "metadata": {},
     "output_type": "execute_result"
    }
   ],
   "source": [
    "stats.ttest_ind(a = df_zusammen_oeffnungen[df_zusammen_oeffnungen[\"HY\"] >= 20][\"pricetotal\"], \n",
    "                  b = df_zusammen_keine_oeffnungen[df_zusammen_keine_oeffnungen[\"HY\"] >= 20][\"pricetotal\"])"
   ]
  },
  {
   "cell_type": "code",
   "execution_count": 28,
   "id": "a2c13338",
   "metadata": {},
   "outputs": [
    {
     "data": {
      "text/plain": [
       "Ttest_indResult(statistic=0.8837007122847327, pvalue=0.3768675963043625)"
      ]
     },
     "execution_count": 28,
     "metadata": {},
     "output_type": "execute_result"
    }
   ],
   "source": [
    "stats.ttest_ind(a = df_zusammen_oeffnungen[df_zusammen_oeffnungen[\"HY\"] >= 10][\"pricetotal\"], \n",
    "                  b = df_zusammen_keine_oeffnungen[df_zusammen_keine_oeffnungen[\"HY\"] >= 10][\"pricetotal\"])"
   ]
  },
  {
   "cell_type": "code",
   "execution_count": 29,
   "id": "81e3bd39",
   "metadata": {},
   "outputs": [
    {
     "data": {
      "text/plain": [
       "Ttest_indResult(statistic=4.495452300175542, pvalue=6.94806838889376e-06)"
      ]
     },
     "execution_count": 29,
     "metadata": {},
     "output_type": "execute_result"
    }
   ],
   "source": [
    "stats.ttest_ind(a = df_zusammen_oeffnungen[\"pricetotal\"], \n",
    "                  b = df_zusammen_keine_oeffnungen[\"pricetotal\"])"
   ]
  },
  {
   "cell_type": "code",
   "execution_count": 30,
   "id": "48c2c5ff",
   "metadata": {},
   "outputs": [
    {
     "data": {
      "text/plain": [
       "Ttest_indResult(statistic=3.0532103176835204, pvalue=0.002271466150005986)"
      ]
     },
     "execution_count": 30,
     "metadata": {},
     "output_type": "execute_result"
    }
   ],
   "source": [
    "stats.ttest_ind(a = df_zusammen_oeffnungen[df_zusammen_oeffnungen[\"HY\"] >= 30][\"pricetotal\"], \n",
    "                  b = df_zusammen_keine_oeffnungen[df_zusammen_keine_oeffnungen[\"HY\"] >= 30][\"pricetotal\"])"
   ]
  },
  {
   "cell_type": "code",
   "execution_count": null,
   "id": "cfc6ece7",
   "metadata": {},
   "outputs": [],
   "source": []
  },
  {
   "cell_type": "code",
   "execution_count": null,
   "id": "a273d159",
   "metadata": {},
   "outputs": [],
   "source": []
  },
  {
   "cell_type": "code",
   "execution_count": null,
   "id": "3bac079b",
   "metadata": {},
   "outputs": [],
   "source": []
  },
  {
   "cell_type": "code",
   "execution_count": 18,
   "id": "6822e695",
   "metadata": {
    "scrolled": true
   },
   "outputs": [],
   "source": [
    "df_zusammen_keine_oeffnungen_agg = df_zusammen_keine_oeffnungen.groupby(\"pricetotal\").agg(\"count\")\n",
    "\n",
    "df_zusammen_keine_oeffnungen_agg = df_zusammen_keine_oeffnungen_agg.reset_index()"
   ]
  },
  {
   "cell_type": "code",
   "execution_count": 19,
   "id": "d47368eb",
   "metadata": {},
   "outputs": [],
   "source": [
    "df_zusammen_oeffnungen_agg = df_zusammen_oeffnungen.groupby(\"pricetotal\").agg(\"count\")\n",
    "\n",
    "df_zusammen_oeffnungen_agg = df_zusammen_oeffnungen_agg.reset_index()"
   ]
  },
  {
   "cell_type": "code",
   "execution_count": 20,
   "id": "1da801c8",
   "metadata": {
    "scrolled": true
   },
   "outputs": [
    {
     "data": {
      "image/png": "[encoded data removed]",
      "text/plain": [
       "<Figure size 640x480 with 1 Axes>"
      ]
     },
     "metadata": {},
     "output_type": "display_data"
    }
   ],
   "source": [
    "x = df_zusammen_keine_oeffnungen_agg[df_zusammen_keine_oeffnungen_agg[\"pricetotal\"] <=1000][\"pricetotal\"]\n",
    "y = df_zusammen_keine_oeffnungen_agg[df_zusammen_keine_oeffnungen_agg[\"pricetotal\"] <=1000][\"iid\"]\n",
    "plt.scatter(x, y, s=30)\n",
    "plt.xlabel('pricetotal')\n",
    "plt.ylabel('number of iids')\n",
    "plt.show()"
   ]
  },
  {
   "cell_type": "code",
   "execution_count": 21,
   "id": "e07d7c99",
   "metadata": {},
   "outputs": [
    {
     "data": {
      "image/png": "[encoded data removed]",
      "text/plain": [
       "<Figure size 640x480 with 1 Axes>"
      ]
     },
     "metadata": {},
     "output_type": "display_data"
    }
   ],
   "source": [
    "x = df_zusammen_oeffnungen_agg[df_zusammen_oeffnungen_agg[\"pricetotal\"] <=1000][\"pricetotal\"]\n",
    "y = df_zusammen_oeffnungen_agg[df_zusammen_oeffnungen_agg[\"pricetotal\"] <=1000][\"iid\"]\n",
    "plt.scatter(x, y, s=30)\n",
    "plt.xlabel('pricetotal')\n",
    "plt.ylabel('number of iids')\n",
    "plt.show()"
   ]
  }
 ],
 "metadata": {
  "kernelspec": {
   "display_name": "Python 3 (ipykernel)",
   "language": "python",
   "name": "python3"
  },
  "language_info": {
   "codemirror_mode": {
    "name": "ipython",
    "version": 3
   },
   "file_extension": ".py",
   "mimetype": "text/x-python",
   "name": "python",
   "nbconvert_exporter": "python",
   "pygments_lexer": "ipython3",
   "version": "3.9.13"
  }
 },
 "nbformat": 4,
 "nbformat_minor": 5
}
