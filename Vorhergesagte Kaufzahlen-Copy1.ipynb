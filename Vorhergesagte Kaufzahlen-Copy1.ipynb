{
 "cells": [
  {
   "cell_type": "code",
   "execution_count": 1,
   "id": "139bbb41",
   "metadata": {},
   "outputs": [],
   "source": [
    "from scipy.stats import nbinom, binom, poisson\n",
    "from statsmodels.discrete.count_model import ZeroInflatedNegativeBinomialP\n",
    "import pandas as pd\n",
    "import numpy as np\n",
    "import matplotlib.pyplot as plt\n",
    "import scipy.stats as stats\n",
    "import math\n",
    "import seaborn as sns\n",
    "from datetime import datetime, timedelta\n",
    "from scipy.stats import pearsonr\n",
    "from scipy.stats import kendalltau\n",
    "from scipy.stats import spearmanr\n",
    "import os\n",
    "from scipy.optimize import minimize, Bounds, LinearConstraint, NonlinearConstraint\n",
    "import inspect"
   ]
  },
  {
   "cell_type": "markdown",
   "id": "daafe716",
   "metadata": {},
   "source": [
    "### Relevante Parameter:\n",
    "\n",
    "array_phi = 1 / (1 + np.exp(delta_0[state] + delta_1[state] * np.log(LY_monat)))\n",
    "\n",
    "array_lambdaY = np.exp(alpha_p[state] + beta_p_1[state] * EM_monat + beta_p_2[state] * np.square(EM_monat))\n",
    "\n",
    "    if r[0] > 0:\n",
    "        for i in range(len(y_monat)):\n",
    "            for j in range(y_monat[i] + 1):\n",
    "                if j == 0:\n",
    "                    pmf = phi[i] + (1 - phi[i]) * (1 + lambdaY[i] / r[0])**(-r[0])\n",
    "                elif j > 0:\n",
    "                    numerator = math.gamma(j + r[0])\n",
    "                    denominator = math.factorial(j) * math.gamma(r[0])\n",
    "                    gamma_term = numerator / denominator\n",
    "                    pmf= (1 - phi[i]) * gamma_term * (1 + lambdaY[i] / r[0])**(-r[0]) * (1 + r[0] / lambdaY[i])**(-j)\n",
    "                cdf[i] += pmf\n",
    "    return cdf\n",
    "\n",
    "Die Öffungszahlen sind mit einer ZINBD modelliert und die Werte folgender Tabellen haben Einfluss:\n",
    "\n",
    "1. df_LY\n",
    "2. LO_monat\n",
    "3. df_trans_werte\n",
    "4. df_HY\n",
    "\n",
    "folgende Parameter haben einen Einfluss:\n",
    "1. delta_0 (1 x anzahl_states array, also state abhängig)\n",
    "2. delta_1 (1 x anzahl_states array, also state abhängig)\n",
    "\n",
    "3. alpha_p (1 x anzahl_states array, also state abhängig)\n",
    "4. beta_p_1 (1 x anzahl_states array, also state abhängig)\n",
    "5. beta_p_1 (1 x anzahl_states array, also state abhängig)\n",
    "\n",
    "\n",
    "\n",
    "(1 x 1 array, state unabhängig)"
   ]
  },
  {
   "cell_type": "code",
   "execution_count": 2,
   "id": "ea5ccfc6",
   "metadata": {},
   "outputs": [],
   "source": [
    "path = r'C:/Users/felix.oechslein/Desktop/Analysen Thalia, Mai/verarbeitete_daten'\n",
    "filename = 'Pivot_LY_Privat_ohneApple_Langzeitkunde.csv'\n",
    "\n",
    "df_LY = pd.read_csv(os.path.join(path, filename))"
   ]
  },
  {
   "cell_type": "code",
   "execution_count": 3,
   "id": "a7a70f4e",
   "metadata": {},
   "outputs": [],
   "source": [
    "# LO monat\n",
    "path = r'C:/Users/felix.oechslein/Desktop/Analysen Thalia, Mai/verarbeitete_daten'\n",
    "filename = 'Pivot_LO_Privat_ohneApple_Langzeitkunde.csv'\n",
    "\n",
    "df_LO = pd.read_csv(os.path.join(path, filename))"
   ]
  },
  {
   "cell_type": "code",
   "execution_count": 4,
   "id": "a33717ff",
   "metadata": {},
   "outputs": [],
   "source": [
    "path = r'C:/Users/felix.oechslein/Desktop/Analysen Thalia, Mai/verarbeitete_daten'\n",
    "filename = 'Pivot_Trans_Privat_ohneApple_Langzeitkunde.csv'\n",
    "\n",
    "df_trans_werte = pd.read_csv(os.path.join(path, filename))"
   ]
  },
  {
   "cell_type": "code",
   "execution_count": 5,
   "id": "ea86f616",
   "metadata": {},
   "outputs": [],
   "source": [
    "# EM_monat aus der HY Zahlen der versendeten Mails ziehen\n",
    "path = r'C:/Users/felix.oechslein/Desktop/Analysen Thalia, Mai/verarbeitete_daten'\n",
    "filename = 'Pivot_HY_Privat_ohneApple_Langzeitkunde.csv'\n",
    "\n",
    "df_HY = pd.read_csv(os.path.join(path, filename))"
   ]
  },
  {
   "cell_type": "markdown",
   "id": "51914c9c",
   "metadata": {},
   "source": [
    "### Datenanpassung wie bei der Berechnung der optimalen Parameter"
   ]
  },
  {
   "cell_type": "code",
   "execution_count": 6,
   "id": "db0df8d7",
   "metadata": {},
   "outputs": [],
   "source": [
    "## Alle DataFrame Werte von Float zu int\n",
    "df_LY = df_LY.astype(int)\n",
    "df_LO = df_LO.astype(int)\n",
    "df_trans_werte = df_HY.astype(int)\n",
    "df_HY = df_LY.astype(int)"
   ]
  },
  {
   "cell_type": "markdown",
   "id": "a9706904",
   "metadata": {},
   "source": [
    "### Sicherstellen dass alle df dieselben Kunden verwenden"
   ]
  },
  {
   "cell_type": "code",
   "execution_count": 7,
   "id": "4b66f142",
   "metadata": {},
   "outputs": [],
   "source": [
    "# Entfernen der Zeilen aus df_LO, die nicht in df_HY enthalten sind\n",
    "df_LY = df_LY[df_LY['iid'].isin(df_LO['iid'])]\n",
    "df_LO = df_LO[df_LO['iid'].isin(df_trans_werte['iid'])]\n",
    "df_trans_werte = df_trans_werte[df_trans_werte['iid'].isin(df_HY['iid'])]\n",
    "df_HY = df_HY[df_HY['iid'].isin(df_LY['iid'])]"
   ]
  },
  {
   "cell_type": "code",
   "execution_count": 8,
   "id": "67b97ad7",
   "metadata": {},
   "outputs": [
    {
     "data": {
      "text/plain": [
       "647"
      ]
     },
     "execution_count": 8,
     "metadata": {},
     "output_type": "execute_result"
    }
   ],
   "source": [
    "len(df_LY)"
   ]
  },
  {
   "cell_type": "code",
   "execution_count": 9,
   "id": "91d9c314",
   "metadata": {},
   "outputs": [
    {
     "data": {
      "text/plain": [
       "647"
      ]
     },
     "execution_count": 9,
     "metadata": {},
     "output_type": "execute_result"
    }
   ],
   "source": [
    "len(df_LO)"
   ]
  },
  {
   "cell_type": "code",
   "execution_count": 10,
   "id": "b6a193f7",
   "metadata": {
    "scrolled": true
   },
   "outputs": [
    {
     "data": {
      "text/plain": [
       "697"
      ]
     },
     "execution_count": 10,
     "metadata": {},
     "output_type": "execute_result"
    }
   ],
   "source": [
    "len(df_trans_werte)"
   ]
  },
  {
   "cell_type": "code",
   "execution_count": 11,
   "id": "596571e8",
   "metadata": {},
   "outputs": [
    {
     "data": {
      "text/plain": [
       "647"
      ]
     },
     "execution_count": 11,
     "metadata": {},
     "output_type": "execute_result"
    }
   ],
   "source": [
    "len(df_HY)"
   ]
  },
  {
   "cell_type": "code",
   "execution_count": 12,
   "id": "7a0498cb",
   "metadata": {},
   "outputs": [],
   "source": [
    "# Siherstellen dass alle dataframes die Kunden in derselben Reihenfolge auflisten\n",
    "df_LY = df_LY.sort_values('iid')\n",
    "df_LO = df_LO.sort_values('iid')\n",
    "df_trans_werte = df_trans_werte.sort_values('iid')\n",
    "df_HY = df_HY.sort_values('iid')\n",
    "\n",
    "#Index resetten\n",
    "df_LY = df_LY.reset_index(drop = True)\n",
    "df_LO = df_LO.reset_index(drop = True)\n",
    "df_trans_werte = df_trans_werte.reset_index(drop = True)\n",
    "df_HY = df_HY.reset_index(drop = True)"
   ]
  },
  {
   "cell_type": "markdown",
   "id": "d46ee54e",
   "metadata": {},
   "source": [
    "### Ausreißer bei den Kunden löschen (wie bei den Berechnungen)"
   ]
  },
  {
   "cell_type": "code",
   "execution_count": 13,
   "id": "506afd63",
   "metadata": {},
   "outputs": [],
   "source": [
    "kunden_pos = [443, 387, 408, 415, 451, 531, 364, 351, 348, 501, 408, 285, 422, 251, 220]"
   ]
  },
  {
   "cell_type": "code",
   "execution_count": 14,
   "id": "5387e57e",
   "metadata": {
    "scrolled": true
   },
   "outputs": [],
   "source": [
    "# Zeilen löschen\n",
    "df_LY = df_LY.drop(kunden_pos).reset_index(drop = True)\n",
    "df_LO = df_LO.drop(kunden_pos).reset_index(drop = True)\n",
    "df_trans_werte = df_trans_werte.drop(kunden_pos).reset_index(drop = True)\n",
    "df_HY = df_HY.drop(kunden_pos).reset_index(drop = True)"
   ]
  },
  {
   "cell_type": "markdown",
   "id": "eb6e8d04",
   "metadata": {},
   "source": [
    "### Spezifikation des Modells"
   ]
  },
  {
   "cell_type": "code",
   "execution_count": 15,
   "id": "48b3a46c",
   "metadata": {},
   "outputs": [
    {
     "data": {
      "text/plain": [
       "633"
      ]
     },
     "execution_count": 15,
     "metadata": {},
     "output_type": "execute_result"
    }
   ],
   "source": [
    "anzahl_kunden = len(df_LY[\"iid\"])\n",
    "anzahl_kunden"
   ]
  },
  {
   "cell_type": "code",
   "execution_count": 16,
   "id": "065acf68",
   "metadata": {},
   "outputs": [
    {
     "data": {
      "text/plain": [
       "15"
      ]
     },
     "execution_count": 16,
     "metadata": {},
     "output_type": "execute_result"
    }
   ],
   "source": [
    "anzahl_monate = len(df_LY.columns[df_LY.columns != 'iid'])\n",
    "anzahl_monate"
   ]
  },
  {
   "cell_type": "code",
   "execution_count": 17,
   "id": "1da5204f",
   "metadata": {},
   "outputs": [],
   "source": [
    "anzahl_states = 3"
   ]
  },
  {
   "cell_type": "markdown",
   "id": "2797f803",
   "metadata": {},
   "source": [
    "### Nelder-Mead mit poisite Wahresceinlichkeiten nach state 1, 30k Berechungen"
   ]
  },
  {
   "cell_type": "markdown",
   "id": "b76c697e",
   "metadata": {},
   "source": [
    "### 1. Herauslesen der Parameter aus dem array der gesamten geschätzten Parameter"
   ]
  },
  {
   "cell_type": "code",
   "execution_count": 20,
   "id": "a9224a1a",
   "metadata": {},
   "outputs": [],
   "source": [
    "estimated_params=[ -8.20399103e-01,  4.47364379e+01,  6.55459562e+01, -7.12664184e-01,\n",
    "       -2.48373911e+02,  4.63946330e+02, -1.89923145e+00, -5.94099736e+01,\n",
    "        7.59497882e+01,  5.18311697e-01, -2.61490366e-01,  8.93093831e-01,\n",
    "        1.63703041e-01,  7.28623716e-03, -2.62212305e-01,  9.68519753e-02,\n",
    "        8.66641236e-02,  1.82355786e-01,  2.36506775e-01, -8.98038162e-02,\n",
    "       -4.25975327e-01,  4.99874934e-01, -1.43621259e-01,  8.11571266e-01,\n",
    "        1.42871394e+00, -7.33210161e-01,  2.96600857e-01,  1.65401014e-01,\n",
    "        1.01422490e-02, -3.14895811e-01, -2.02066317e-01, -5.13156402e-01,\n",
    "        3.44435091e-01,  1.23401987e+00, -1.31647262e+00, -1.48696412e+00,\n",
    "       -6.23244984e-01,  1.30427990e+00, -6.95618496e-01, -5.10706288e-01,\n",
    "        4.85842039e-01, -5.54033892e-01,  8.96741073e-02,  9.01273778e-02,\n",
    "       -3.67011581e-01, -2.31574553e-02, -6.96592721e-01,  1.16671348e+00,\n",
    "       -1.26661223e+00,  1.23556052e+02, -2.55630320e+01, -4.60157041e+00,\n",
    "        4.69496096e-01, -4.73224796e-01,  1.61440816e-01, -7.12740205e-01,\n",
    "       -1.95849638e+01, -1.30792666e-01,  2.79970169e-01, -2.96108429e-01,\n",
    "        1.53815838e+00,  1.00040668e-01, -1.41070531e-02, -4.57917675e-01,\n",
    "        1.49032916e+00]"
   ]
  },
  {
   "cell_type": "code",
   "execution_count": 21,
   "id": "afdcffd6",
   "metadata": {},
   "outputs": [],
   "source": [
    "alpha_size = anzahl_states**2\n",
    "gamma_size = anzahl_states**2 * 4\n",
    "\n",
    "alpha = estimated_params[:alpha_size]\n",
    "gamma = estimated_params[alpha_size:alpha_size+gamma_size]\n",
    "alpha_o = estimated_params[alpha_size+gamma_size:alpha_size+gamma_size+anzahl_states]\n",
    "beta_o = estimated_params[alpha_size+gamma_size+anzahl_states:alpha_size+gamma_size+anzahl_states+1]\n",
    "delta_0 = estimated_params[alpha_size+gamma_size+anzahl_states+1:alpha_size+gamma_size+anzahl_states*2+1]\n",
    "delta_1 = estimated_params[alpha_size+gamma_size+anzahl_states*2+1:alpha_size+gamma_size+anzahl_states*3+1]\n",
    "alpha_p = estimated_params[alpha_size+gamma_size+anzahl_states*3+1:alpha_size+gamma_size+anzahl_states*4+1]\n",
    "beta_p_1 = estimated_params[alpha_size+gamma_size+anzahl_states*4+1:alpha_size+gamma_size+anzahl_states*5+1]\n",
    "beta_p_2 = estimated_params[alpha_size+gamma_size+anzahl_states*5+1:alpha_size+gamma_size+anzahl_states*6+1]\n",
    "theta = estimated_params[alpha_size+gamma_size+anzahl_states*6+1:]"
   ]
  },
  {
   "cell_type": "code",
   "execution_count": 22,
   "id": "347e7b55",
   "metadata": {},
   "outputs": [
    {
     "data": {
      "text/plain": [
       "[123.556052, -25.563032, -4.60157041]"
      ]
     },
     "execution_count": 22,
     "metadata": {},
     "output_type": "execute_result"
    }
   ],
   "source": [
    "delta_0"
   ]
  },
  {
   "cell_type": "code",
   "execution_count": 23,
   "id": "fd74bcde",
   "metadata": {},
   "outputs": [
    {
     "data": {
      "text/plain": [
       "[0.469496096, -0.473224796, 0.161440816]"
      ]
     },
     "execution_count": 23,
     "metadata": {},
     "output_type": "execute_result"
    }
   ],
   "source": [
    "delta_1"
   ]
  },
  {
   "cell_type": "code",
   "execution_count": 24,
   "id": "ae9e5546",
   "metadata": {},
   "outputs": [
    {
     "data": {
      "text/plain": [
       "[-0.712740205, -19.5849638, -0.130792666]"
      ]
     },
     "execution_count": 24,
     "metadata": {},
     "output_type": "execute_result"
    }
   ],
   "source": [
    "alpha_p"
   ]
  },
  {
   "cell_type": "code",
   "execution_count": 25,
   "id": "48bbcb1d",
   "metadata": {},
   "outputs": [
    {
     "data": {
      "text/plain": [
       "[0.279970169, -0.296108429, 1.53815838]"
      ]
     },
     "execution_count": 25,
     "metadata": {},
     "output_type": "execute_result"
    }
   ],
   "source": [
    "beta_p_1"
   ]
  },
  {
   "cell_type": "code",
   "execution_count": 26,
   "id": "bba40692",
   "metadata": {},
   "outputs": [
    {
     "data": {
      "text/plain": [
       "[0.100040668, -0.0141070531, -0.457917675]"
      ]
     },
     "execution_count": 26,
     "metadata": {},
     "output_type": "execute_result"
    }
   ],
   "source": [
    "beta_p_2"
   ]
  },
  {
   "cell_type": "markdown",
   "id": "bbc89a75",
   "metadata": {},
   "source": [
    "### Erstellen der erwarteten Käufe in den jeweiligen Monaten"
   ]
  },
  {
   "cell_type": "code",
   "execution_count": 28,
   "id": "46a7bf16",
   "metadata": {},
   "outputs": [],
   "source": [
    "# Erwartungswert = [r * (1-p)] / p"
   ]
  },
  {
   "cell_type": "markdown",
   "id": "52a4737f",
   "metadata": {},
   "source": [
    "#### r, die Anzahl der Erfolge bis zum Abbruch, wurde vorher geschätzt"
   ]
  },
  {
   "cell_type": "code",
   "execution_count": 29,
   "id": "fe9562ea",
   "metadata": {},
   "outputs": [],
   "source": [
    "r = 0.779"
   ]
  },
  {
   "cell_type": "markdown",
   "id": "60bf9557",
   "metadata": {},
   "source": [
    "#### Berechnun von p"
   ]
  },
  {
   "cell_type": "code",
   "execution_count": 27,
   "id": "6d8b91dd",
   "metadata": {},
   "outputs": [],
   "source": [
    "def p_state_monat(delta_0, delta_1, alpha_p, beta_p_1, beta_p_2, state, monat):\n",
    "    \n",
    "    state = state -1\n",
    "    \n",
    "    # Definitio von str_monat um auf den spaltennamen zugreifen zu können\n",
    "    str_monat = str(monat)\n",
    "    EM_monat = df_HY[str_monat]\n",
    "    LY_monat = df_LY[str_monat]\n",
    "    \n",
    "    array_exp = np.exp(alpha_p[state] + beta_p_1[state] * EM_monat + beta_p_2[state] * np.square(EM_monat) +\\\n",
    "                      + delta_1[state] * np.log(LY_monat))\n",
    "    array_p = array_exp / (1+ array_exp)\n",
    "    \n",
    "    return array_p"
   ]
  },
  {
   "cell_type": "markdown",
   "id": "2c3ba389",
   "metadata": {},
   "source": [
    "#### Berechnung der Erwartungswerte"
   ]
  },
  {
   "cell_type": "code",
   "execution_count": 30,
   "id": "396818e0",
   "metadata": {},
   "outputs": [],
   "source": [
    "# Speichern der Erwartungswerte in einem array\n",
    "erwartung = np.zeros((anzahl_kunden, anzahl_states, anzahl_monate))"
   ]
  },
  {
   "cell_type": "code",
   "execution_count": 31,
   "id": "2406d714",
   "metadata": {},
   "outputs": [],
   "source": [
    "for state in range(1, anzahl_states + 1):\n",
    "        for monat in range(1, anzahl_monate +1):\n",
    "            p_array = p_state_monat(delta_0, delta_1, alpha_p, beta_p_1, beta_p_2, state, monat)\n",
    "            erwartung[:, state-1, monat-1] = (r * (1-p_array) / p_array)"
   ]
  },
  {
   "cell_type": "code",
   "execution_count": null,
   "id": "74ff8afc",
   "metadata": {},
   "outputs": [],
   "source": []
  },
  {
   "cell_type": "code",
   "execution_count": 32,
   "id": "b9382487",
   "metadata": {},
   "outputs": [
    {
     "data": {
      "text/plain": [
       "0.5105094319603598"
      ]
     },
     "execution_count": 32,
     "metadata": {},
     "output_type": "execute_result"
    }
   ],
   "source": [
    "np.sum(erwartung[:,0,:])/erwartung[:,0,:].size"
   ]
  },
  {
   "cell_type": "code",
   "execution_count": 33,
   "id": "2210c5fb",
   "metadata": {},
   "outputs": [
    {
     "data": {
      "text/plain": [
       "8906312242.160769"
      ]
     },
     "execution_count": 33,
     "metadata": {},
     "output_type": "execute_result"
    }
   ],
   "source": [
    "np.sum(erwartung[:,1,:])/erwartung[:,1,:].size"
   ]
  },
  {
   "cell_type": "code",
   "execution_count": 34,
   "id": "06b60915",
   "metadata": {},
   "outputs": [
    {
     "data": {
      "text/plain": [
       "1.8092770055696925e+26"
      ]
     },
     "execution_count": 34,
     "metadata": {},
     "output_type": "execute_result"
    }
   ],
   "source": [
    "np.sum(erwartung[:,2,:])/erwartung[:,2,:].size"
   ]
  },
  {
   "cell_type": "code",
   "execution_count": null,
   "id": "6bba2022",
   "metadata": {},
   "outputs": [],
   "source": []
  }
 ],
 "metadata": {
  "kernelspec": {
   "display_name": "Python 3 (ipykernel)",
   "language": "python",
   "name": "python3"
  },
  "language_info": {
   "codemirror_mode": {
    "name": "ipython",
    "version": 3
   },
   "file_extension": ".py",
   "mimetype": "text/x-python",
   "name": "python",
   "nbconvert_exporter": "python",
   "pygments_lexer": "ipython3",
   "version": "3.9.13"
  }
 },
 "nbformat": 4,
 "nbformat_minor": 5
}
