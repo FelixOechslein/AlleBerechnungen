{
 "cells": [
  {
   "cell_type": "code",
   "execution_count": 16,
   "id": "6770a3c7",
   "metadata": {},
   "outputs": [],
   "source": [
    "import pandas as pd\n",
    "import numpy as np\n",
    "import matplotlib.pyplot as plt\n",
    "import scipy.stats as stats\n",
    "import math\n",
    "import seaborn as sns\n",
    "from datetime import datetime, timedelta\n",
    "from scipy.stats import pearsonr\n",
    "from scipy.stats import kendalltau\n",
    "from scipy.stats import spearmanr\n",
    "import os"
   ]
  },
  {
   "cell_type": "code",
   "execution_count": 17,
   "id": "1e6e2ca6",
   "metadata": {},
   "outputs": [],
   "source": [
    "df_history = pd.read_csv(x\n",
    "                                    \"Thalia_history_ersteBereinigung.csv\")"
   ]
  },
  {
   "cell_type": "code",
   "execution_count": 18,
   "id": "de01735f",
   "metadata": {},
   "outputs": [],
   "source": [
    "df_relevante_iids = pd.read_csv(x\n",
    "                                    \"Thalia_transactions_zweiteBereinigung_iids.csv\")"
   ]
  },
  {
   "cell_type": "markdown",
   "id": "78806709",
   "metadata": {},
   "source": [
    "##### Relevante Kunden und Hist mergen"
   ]
  },
  {
   "cell_type": "code",
   "execution_count": 21,
   "id": "4618c5d5",
   "metadata": {
    "scrolled": true
   },
   "outputs": [
    {
     "data": {
      "text/html": [
       "<div>\n",
       "<style scoped>\n",
       "    .dataframe tbody tr th:only-of-type {\n",
       "        vertical-align: middle;\n",
       "    }\n",
       "\n",
       "    .dataframe tbody tr th {\n",
       "        vertical-align: top;\n",
       "    }\n",
       "\n",
       "    .dataframe thead th {\n",
       "        text-align: right;\n",
       "    }\n",
       "</style>\n",
       "<table border=\"1\" class=\"dataframe\">\n",
       "  <thead>\n",
       "    <tr style=\"text-align: right;\">\n",
       "      <th></th>\n",
       "      <th>iid</th>\n",
       "      <th>attrtype</th>\n",
       "      <th>text</th>\n",
       "      <th>month_count</th>\n",
       "    </tr>\n",
       "  </thead>\n",
       "  <tbody>\n",
       "    <tr>\n",
       "      <th>0</th>\n",
       "      <td>100055559</td>\n",
       "      <td>HY</td>\n",
       "      <td>|msg=NL_Mai_1|subject=St%C3%BCck+der+Stunde%3A...</td>\n",
       "      <td>0</td>\n",
       "    </tr>\n",
       "    <tr>\n",
       "      <th>1</th>\n",
       "      <td>100055559</td>\n",
       "      <td>NO</td>\n",
       "      <td>|msg=NL_Mai_1|userAgent=Apple Mail (OS X / Per...</td>\n",
       "      <td>0</td>\n",
       "    </tr>\n",
       "    <tr>\n",
       "      <th>2</th>\n",
       "      <td>100055559</td>\n",
       "      <td>HY</td>\n",
       "      <td>|msg=NL_Mai_2|subject=Online+Premiere+%22Kabal...</td>\n",
       "      <td>0</td>\n",
       "    </tr>\n",
       "    <tr>\n",
       "      <th>3</th>\n",
       "      <td>100055559</td>\n",
       "      <td>NO</td>\n",
       "      <td>|msg=NL_Mai_2|userAgent=Apple Mail (OS X / Per...</td>\n",
       "      <td>0</td>\n",
       "    </tr>\n",
       "    <tr>\n",
       "      <th>4</th>\n",
       "      <td>100055559</td>\n",
       "      <td>HY</td>\n",
       "      <td>|msg=NL_Corona_1|subject=Sondernewsletter%3A+J...</td>\n",
       "      <td>1</td>\n",
       "    </tr>\n",
       "  </tbody>\n",
       "</table>\n",
       "</div>"
      ],
      "text/plain": [
       "         iid attrtype                                               text  \\\n",
       "0  100055559       HY  |msg=NL_Mai_1|subject=St%C3%BCck+der+Stunde%3A...   \n",
       "1  100055559       NO  |msg=NL_Mai_1|userAgent=Apple Mail (OS X / Per...   \n",
       "2  100055559       HY  |msg=NL_Mai_2|subject=Online+Premiere+%22Kabal...   \n",
       "3  100055559       NO  |msg=NL_Mai_2|userAgent=Apple Mail (OS X / Per...   \n",
       "4  100055559       HY  |msg=NL_Corona_1|subject=Sondernewsletter%3A+J...   \n",
       "\n",
       "   month_count  \n",
       "0            0  \n",
       "1            0  \n",
       "2            0  \n",
       "3            0  \n",
       "4            1  "
      ]
     },
     "execution_count": 21,
     "metadata": {},
     "output_type": "execute_result"
    }
   ],
   "source": [
    "df_h = pd.merge(df_history, df_relevante_iids, on = [\"iid\"])\n",
    "df_h[[\"iid\",\"attrtype\", \"text\", \"month_count\"]].head(5)"
   ]
  },
  {
   "cell_type": "markdown",
   "id": "095bfd34",
   "metadata": {},
   "source": [
    "##### Erstellung des \"df_neueSpalte\" für die Betrachtung sämtlicher Infos zwischen den \"|\""
   ]
  },
  {
   "cell_type": "code",
   "execution_count": 24,
   "id": "d4d529e2",
   "metadata": {},
   "outputs": [],
   "source": [
    "neueSpalten = [ line.strip().split('|') for line in df_h[\"text\"] ]"
   ]
  },
  {
   "cell_type": "markdown",
   "id": "001c9624",
   "metadata": {},
   "source": [
    "##### Ein neues DataFrame df_user_agent und eine neue Spalte \"User agent\", die noch sämtliche Informationen danach enthält"
   ]
  },
  {
   "cell_type": "code",
   "execution_count": 25,
   "id": "30439998",
   "metadata": {},
   "outputs": [],
   "source": [
    "df_user_agent = pd.DataFrame()\n",
    "df_user_agent[\"User Agent\"] = df_h[\"text\"].str.extract(r'userAgent=(.*)', expand=False)\n",
    "df_user_agent[\"User Agent\"] = df_user_agent[\"User Agent\"].apply(lambda zeile: zeile.split(\"|\")[0] if isinstance(zeile, str) else zeile)"
   ]
  },
  {
   "cell_type": "code",
   "execution_count": 26,
   "id": "8fccb272",
   "metadata": {},
   "outputs": [
    {
     "data": {
      "text/html": [
       "<div>\n",
       "<style scoped>\n",
       "    .dataframe tbody tr th:only-of-type {\n",
       "        vertical-align: middle;\n",
       "    }\n",
       "\n",
       "    .dataframe tbody tr th {\n",
       "        vertical-align: top;\n",
       "    }\n",
       "\n",
       "    .dataframe thead th {\n",
       "        text-align: right;\n",
       "    }\n",
       "</style>\n",
       "<table border=\"1\" class=\"dataframe\">\n",
       "  <thead>\n",
       "    <tr style=\"text-align: right;\">\n",
       "      <th></th>\n",
       "      <th>User Agent</th>\n",
       "    </tr>\n",
       "  </thead>\n",
       "  <tbody>\n",
       "    <tr>\n",
       "      <th>0</th>\n",
       "      <td>NaN</td>\n",
       "    </tr>\n",
       "    <tr>\n",
       "      <th>1</th>\n",
       "      <td>Apple Mail (OS X / Personal computer)</td>\n",
       "    </tr>\n",
       "    <tr>\n",
       "      <th>2</th>\n",
       "      <td>NaN</td>\n",
       "    </tr>\n",
       "    <tr>\n",
       "      <th>3</th>\n",
       "      <td>Apple Mail (OS X / Personal computer)</td>\n",
       "    </tr>\n",
       "    <tr>\n",
       "      <th>4</th>\n",
       "      <td>NaN</td>\n",
       "    </tr>\n",
       "  </tbody>\n",
       "</table>\n",
       "</div>"
      ],
      "text/plain": [
       "                              User Agent\n",
       "0                                    NaN\n",
       "1  Apple Mail (OS X / Personal computer)\n",
       "2                                    NaN\n",
       "3  Apple Mail (OS X / Personal computer)\n",
       "4                                    NaN"
      ]
     },
     "execution_count": 26,
     "metadata": {},
     "output_type": "execute_result"
    }
   ],
   "source": [
    "df_user_agent.head()"
   ]
  },
  {
   "cell_type": "markdown",
   "id": "ce477544",
   "metadata": {},
   "source": [
    "##### Ermittlun aller iids die mindestens einmal mit Apple Mail/Gmail oder Proxy-Server eine Email geöffnet haben"
   ]
  },
  {
   "cell_type": "code",
   "execution_count": 27,
   "id": "39ac7c1e",
   "metadata": {},
   "outputs": [
    {
     "data": {
      "text/html": [
       "<div>\n",
       "<style scoped>\n",
       "    .dataframe tbody tr th:only-of-type {\n",
       "        vertical-align: middle;\n",
       "    }\n",
       "\n",
       "    .dataframe tbody tr th {\n",
       "        vertical-align: top;\n",
       "    }\n",
       "\n",
       "    .dataframe thead th {\n",
       "        text-align: right;\n",
       "    }\n",
       "</style>\n",
       "<table border=\"1\" class=\"dataframe\">\n",
       "  <thead>\n",
       "    <tr style=\"text-align: right;\">\n",
       "      <th></th>\n",
       "      <th>iid</th>\n",
       "      <th>attrtype</th>\n",
       "      <th>akey</th>\n",
       "      <th>date</th>\n",
       "      <th>text</th>\n",
       "      <th>month_count</th>\n",
       "      <th>User Agent</th>\n",
       "    </tr>\n",
       "  </thead>\n",
       "  <tbody>\n",
       "    <tr>\n",
       "      <th>0</th>\n",
       "      <td>100055559</td>\n",
       "      <td>HY</td>\n",
       "      <td>107601295</td>\n",
       "      <td>2020-05-07 11:53:17</td>\n",
       "      <td>|msg=NL_Mai_1|subject=St%C3%BCck+der+Stunde%3A...</td>\n",
       "      <td>0</td>\n",
       "      <td>unknown</td>\n",
       "    </tr>\n",
       "    <tr>\n",
       "      <th>1</th>\n",
       "      <td>100055559</td>\n",
       "      <td>NO</td>\n",
       "      <td>107601295</td>\n",
       "      <td>2020-05-08 09:50:15</td>\n",
       "      <td>|msg=NL_Mai_1|userAgent=Apple Mail (OS X / Per...</td>\n",
       "      <td>0</td>\n",
       "      <td>Apple Mail (OS X / Personal computer)</td>\n",
       "    </tr>\n",
       "    <tr>\n",
       "      <th>2</th>\n",
       "      <td>100055559</td>\n",
       "      <td>HY</td>\n",
       "      <td>108268529</td>\n",
       "      <td>2020-05-19 11:22:22</td>\n",
       "      <td>|msg=NL_Mai_2|subject=Online+Premiere+%22Kabal...</td>\n",
       "      <td>0</td>\n",
       "      <td>unknown</td>\n",
       "    </tr>\n",
       "    <tr>\n",
       "      <th>3</th>\n",
       "      <td>100055559</td>\n",
       "      <td>NO</td>\n",
       "      <td>108268529</td>\n",
       "      <td>2020-05-19 20:46:32</td>\n",
       "      <td>|msg=NL_Mai_2|userAgent=Apple Mail (OS X / Per...</td>\n",
       "      <td>0</td>\n",
       "      <td>Apple Mail (OS X / Personal computer)</td>\n",
       "    </tr>\n",
       "    <tr>\n",
       "      <th>4</th>\n",
       "      <td>100055559</td>\n",
       "      <td>HY</td>\n",
       "      <td>108552325</td>\n",
       "      <td>2020-06-02 18:13:24</td>\n",
       "      <td>|msg=NL_Corona_1|subject=Sondernewsletter%3A+J...</td>\n",
       "      <td>1</td>\n",
       "      <td>unknown</td>\n",
       "    </tr>\n",
       "  </tbody>\n",
       "</table>\n",
       "</div>"
      ],
      "text/plain": [
       "         iid attrtype       akey                 date  \\\n",
       "0  100055559       HY  107601295  2020-05-07 11:53:17   \n",
       "1  100055559       NO  107601295  2020-05-08 09:50:15   \n",
       "2  100055559       HY  108268529  2020-05-19 11:22:22   \n",
       "3  100055559       NO  108268529  2020-05-19 20:46:32   \n",
       "4  100055559       HY  108552325  2020-06-02 18:13:24   \n",
       "\n",
       "                                                text  month_count  \\\n",
       "0  |msg=NL_Mai_1|subject=St%C3%BCck+der+Stunde%3A...            0   \n",
       "1  |msg=NL_Mai_1|userAgent=Apple Mail (OS X / Per...            0   \n",
       "2  |msg=NL_Mai_2|subject=Online+Premiere+%22Kabal...            0   \n",
       "3  |msg=NL_Mai_2|userAgent=Apple Mail (OS X / Per...            0   \n",
       "4  |msg=NL_Corona_1|subject=Sondernewsletter%3A+J...            1   \n",
       "\n",
       "                              User Agent  \n",
       "0                                unknown  \n",
       "1  Apple Mail (OS X / Personal computer)  \n",
       "2                                unknown  \n",
       "3  Apple Mail (OS X / Personal computer)  \n",
       "4                                unknown  "
      ]
     },
     "execution_count": 27,
     "metadata": {},
     "output_type": "execute_result"
    }
   ],
   "source": [
    "df_user_agent[\"User Agent\"].fillna(\"unknown\", inplace=True)\n",
    "df_h[\"User Agent\"] = df_user_agent[\"User Agent\"]\n",
    "df_h.head()"
   ]
  },
  {
   "cell_type": "code",
   "execution_count": 28,
   "id": "bf7899ac",
   "metadata": {},
   "outputs": [
    {
     "data": {
      "text/plain": [
       "array([100055559, 100073610, 100073862, 100074164, 100074334, 100076440,\n",
       "       100081532, 100082082, 100085998, 100090142, 100093208, 100093892,\n",
       "       100096030, 100110624, 100113202, 100115022, 100119358, 100122034,\n",
       "       100130428, 100132080, 100132768, 100133030, 100139030, 100142018,\n",
       "       100147350, 100151884, 100152028, 100153641, 100164202, 100164234,\n",
       "       100169851, 100171937, 100175321, 100175705, 100183114, 100190662,\n",
       "       100193728, 100195684, 100200038, 100205305, 100211515, 100213298,\n",
       "       100215224, 100223814, 100224006, 100228942, 100230944, 100234324,\n",
       "       100235192, 100247657, 100248875, 100254033, 100256403, 100256545,\n",
       "       100258522, 100262870, 100274332, 100274876, 100278566, 100292914,\n",
       "       100302334, 100304874, 100319212, 100336776, 100338930, 100343874,\n",
       "       100344474, 100346743, 100347353, 100348939, 100352609, 100357367,\n",
       "       100360041, 100405724, 100406788, 100412492, 100412709, 100416898,\n",
       "       100419841, 100421193, 100422305, 100424543, 100424791, 100428258,\n",
       "       100428801, 100433284, 100434116, 100434366, 100435118, 100440612,\n",
       "       100444487, 100448151, 100456245, 100464210, 100468353, 100499348,\n",
       "       100502928, 100508893, 100513373, 100513469, 100535524, 100538599,\n",
       "       100542958, 100563396, 100573289, 100578798, 100585687, 100608404,\n",
       "       100608479, 100627483, 100632353, 100641582, 100657987, 100666175,\n",
       "       100669695, 100803581, 100808975, 100836672, 100844784, 100860971,\n",
       "       100865751, 100895802, 100906069, 100914204, 100917948, 100940591,\n",
       "       100967118, 100992016, 101051034, 101053777, 101056024, 101057944,\n",
       "       101062070, 101063897, 101075084, 101101682, 101115162, 101117905,\n",
       "       101130465, 101135782, 101155983, 101157192, 101211888, 101216920,\n",
       "       101233630, 101234378, 101244144, 101254711, 101257656, 101267989,\n",
       "       101281680, 101282126, 101287943, 101288972, 101289848, 101309706,\n",
       "       101310576, 101326339, 101327168, 101327234, 101334480, 101350814,\n",
       "       101790229, 101812477, 107204610, 107205634, 107205724, 107205922,\n",
       "       107205942, 107206566, 107206591, 107206616, 107206755, 107206880,\n",
       "       107207014, 107207223, 107207366, 107208038, 107208386, 107208580,\n",
       "       107208947, 107209290, 107209500, 107210018, 107210073, 107211255,\n",
       "       107212350, 107213268, 107213448, 107213638, 107213698, 107213758,\n",
       "       107214618, 107216383, 107218702, 107219132, 107220570, 107221550,\n",
       "       107221670, 107222134, 107222651, 107222994, 107223033, 107223623,\n",
       "       107224756, 107226851, 107228262, 107228621, 107230965, 107233293,\n",
       "       107233636, 107233930, 107235213, 107238411, 107239983, 107240905,\n",
       "       107241962, 107242707, 107243631, 107245267, 107246646, 107253086,\n",
       "       107253414, 107254722, 107255002, 107255598, 107256524, 107261089,\n",
       "       107261292, 107261562, 107269556, 107271702, 107273108, 107274746,\n",
       "       107278538, 107280198, 107284217, 107287946, 107288758, 107289390,\n",
       "       107290296, 107292293, 107292393, 107292453, 107294594, 107295502,\n",
       "       107296050, 107296862, 107297762, 107298205, 107299255, 107299459,\n",
       "       107299908, 107300069, 107300179, 107302610, 107302839, 107303190,\n",
       "       107303414, 107303768, 107303989, 107304327, 107304427, 107305240,\n",
       "       107305986, 107307384, 107326342, 110024603, 110501153, 110710402,\n",
       "       114840223, 116815061, 116833584, 117913037, 117928344, 137237883,\n",
       "       137438870, 137591463, 137945160, 138385454, 142365551, 152180091,\n",
       "       157331776, 157346557, 157347049, 157435631, 157656003, 157658777,\n",
       "       157677892, 157703978, 157795125, 157826335, 157835482, 157845183,\n",
       "       157876827, 157899691, 157967094, 158029717, 158092717, 158147102],\n",
       "      dtype=int64)"
      ]
     },
     "execution_count": 28,
     "metadata": {},
     "output_type": "execute_result"
    }
   ],
   "source": [
    "irrelevante_iids = df_h[df_h[\"User Agent\"].str.contains('Proxy|Apple Mail|Gmail', case=False)][\"iid\"].unique()\n",
    "irrelevante_iids"
   ]
  },
  {
   "cell_type": "code",
   "execution_count": 29,
   "id": "881fbf09",
   "metadata": {},
   "outputs": [],
   "source": [
    "relevant_iids = df_relevante_iids[\"iid\"].copy()\n",
    "\n",
    "filtered_iids = [iid for iid in relevant_iids if iid not in irrelevante_iids]"
   ]
  },
  {
   "cell_type": "code",
   "execution_count": 30,
   "id": "b7e3ea34",
   "metadata": {},
   "outputs": [
    {
     "data": {
      "text/html": [
       "<div>\n",
       "<style scoped>\n",
       "    .dataframe tbody tr th:only-of-type {\n",
       "        vertical-align: middle;\n",
       "    }\n",
       "\n",
       "    .dataframe tbody tr th {\n",
       "        vertical-align: top;\n",
       "    }\n",
       "\n",
       "    .dataframe thead th {\n",
       "        text-align: right;\n",
       "    }\n",
       "</style>\n",
       "<table border=\"1\" class=\"dataframe\">\n",
       "  <thead>\n",
       "    <tr style=\"text-align: right;\">\n",
       "      <th></th>\n",
       "      <th>iid</th>\n",
       "    </tr>\n",
       "  </thead>\n",
       "  <tbody>\n",
       "    <tr>\n",
       "      <th>0</th>\n",
       "      <td>157982720</td>\n",
       "    </tr>\n",
       "    <tr>\n",
       "      <th>1</th>\n",
       "      <td>100425731</td>\n",
       "    </tr>\n",
       "    <tr>\n",
       "      <th>2</th>\n",
       "      <td>107233288</td>\n",
       "    </tr>\n",
       "    <tr>\n",
       "      <th>3</th>\n",
       "      <td>137986060</td>\n",
       "    </tr>\n",
       "    <tr>\n",
       "      <th>4</th>\n",
       "      <td>158056463</td>\n",
       "    </tr>\n",
       "  </tbody>\n",
       "</table>\n",
       "</div>"
      ],
      "text/plain": [
       "         iid\n",
       "0  157982720\n",
       "1  100425731\n",
       "2  107233288\n",
       "3  137986060\n",
       "4  158056463"
      ]
     },
     "execution_count": 30,
     "metadata": {},
     "output_type": "execute_result"
    }
   ],
   "source": [
    "df_filtered_iids = pd.DataFrame(filtered_iids, columns = [\"iid\"])\n",
    "df_filtered_iids.head()"
   ]
  },
  {
   "cell_type": "code",
   "execution_count": 14,
   "id": "0df4ede7",
   "metadata": {},
   "outputs": [],
   "source": [
    "path = x\n",
    "filename = 'privatkunden.iid.Thalia.ohneAppleEtc.csv'\n",
    "df_filtered_iids.to_csv(os.path.join(path, filename), index=False)"
   ]
  },
  {
   "cell_type": "markdown",
   "id": "6d647dc5",
   "metadata": {},
   "source": [
    "# Erweiterte Analysen zum Verständnis"
   ]
  },
  {
   "cell_type": "markdown",
   "id": "59de6db8",
   "metadata": {},
   "source": [
    "##### Ergänzung duch Infos für welche Datenpunkte Probleme bei der Genauigkeit der Öffnungsrate besteht"
   ]
  },
  {
   "cell_type": "code",
   "execution_count": 8,
   "id": "0931ee83",
   "metadata": {},
   "outputs": [
    {
     "data": {
      "text/html": [
       "<div>\n",
       "<style scoped>\n",
       "    .dataframe tbody tr th:only-of-type {\n",
       "        vertical-align: middle;\n",
       "    }\n",
       "\n",
       "    .dataframe tbody tr th {\n",
       "        vertical-align: top;\n",
       "    }\n",
       "\n",
       "    .dataframe thead th {\n",
       "        text-align: right;\n",
       "    }\n",
       "</style>\n",
       "<table border=\"1\" class=\"dataframe\">\n",
       "  <thead>\n",
       "    <tr style=\"text-align: right;\">\n",
       "      <th></th>\n",
       "      <th>User Agent</th>\n",
       "      <th>unknown</th>\n",
       "      <th>Apple-Mail-Nutzer</th>\n",
       "      <th>Gmail-Nutzer</th>\n",
       "      <th>Proxy-Server</th>\n",
       "    </tr>\n",
       "  </thead>\n",
       "  <tbody>\n",
       "    <tr>\n",
       "      <th>0</th>\n",
       "      <td>unknown</td>\n",
       "      <td>True</td>\n",
       "      <td>False</td>\n",
       "      <td>False</td>\n",
       "      <td>False</td>\n",
       "    </tr>\n",
       "    <tr>\n",
       "      <th>1</th>\n",
       "      <td>Apple Mail (OS X / Personal computer)</td>\n",
       "      <td>False</td>\n",
       "      <td>True</td>\n",
       "      <td>False</td>\n",
       "      <td>False</td>\n",
       "    </tr>\n",
       "    <tr>\n",
       "      <th>2</th>\n",
       "      <td>unknown</td>\n",
       "      <td>True</td>\n",
       "      <td>False</td>\n",
       "      <td>False</td>\n",
       "      <td>False</td>\n",
       "    </tr>\n",
       "    <tr>\n",
       "      <th>3</th>\n",
       "      <td>Apple Mail (OS X / Personal computer)</td>\n",
       "      <td>False</td>\n",
       "      <td>True</td>\n",
       "      <td>False</td>\n",
       "      <td>False</td>\n",
       "    </tr>\n",
       "    <tr>\n",
       "      <th>4</th>\n",
       "      <td>unknown</td>\n",
       "      <td>True</td>\n",
       "      <td>False</td>\n",
       "      <td>False</td>\n",
       "      <td>False</td>\n",
       "    </tr>\n",
       "  </tbody>\n",
       "</table>\n",
       "</div>"
      ],
      "text/plain": [
       "                              User Agent  unknown  Apple-Mail-Nutzer  \\\n",
       "0                                unknown     True              False   \n",
       "1  Apple Mail (OS X / Personal computer)    False               True   \n",
       "2                                unknown     True              False   \n",
       "3  Apple Mail (OS X / Personal computer)    False               True   \n",
       "4                                unknown     True              False   \n",
       "\n",
       "   Gmail-Nutzer  Proxy-Server  \n",
       "0         False         False  \n",
       "1         False         False  \n",
       "2         False         False  \n",
       "3         False         False  \n",
       "4         False         False  "
      ]
     },
     "execution_count": 8,
     "metadata": {},
     "output_type": "execute_result"
    }
   ],
   "source": [
    "df_user_agent[\"User Agent\"].fillna(\"unknown\", inplace=True)\n",
    "df_user_agent_aufgeteilt = df_user_agent\n",
    "\n",
    "# Spalten mit Ja/Nein-Werten erstellen\n",
    "df_user_agent_aufgeteilt[\"unknown\"] = df_user_agent['User Agent'].str.contains('unknown', case=False)\n",
    "#df_user_agent_aufgeteilt['iOS-Nutzer'] = df_user_agent['User Agent'].str.contains('iOS', case=False)\n",
    "#df_user_agent_aufgeteilt['OS-X-Nutzer'] = df_user_agent['User Agent'].str.contains('OS X|Macintosh', case=False)\n",
    "df_user_agent_aufgeteilt['Apple-Mail-Nutzer'] = df_user_agent['User Agent'].str.contains('Apple Mail', case=False)\n",
    "df_user_agent_aufgeteilt['Gmail-Nutzer'] = df_user_agent['User Agent'].str.contains('Gmail', case=False)\n",
    "df_user_agent_aufgeteilt['Proxy-Server'] = df_user_agent['User Agent'].str.contains('Proxy', case=False)\n",
    "df_user_agent_aufgeteilt.head()"
   ]
  },
  {
   "cell_type": "code",
   "execution_count": 9,
   "id": "22cd23f8",
   "metadata": {},
   "outputs": [
    {
     "name": "stdout",
     "output_type": "stream",
     "text": [
      "True     80292\n",
      "False    30918\n",
      "Name: unknown, dtype: int64\n",
      "False    106187\n",
      "True       5023\n",
      "Name: Apple-Mail-Nutzer, dtype: int64\n",
      "False    108781\n",
      "True       2429\n",
      "Name: Gmail-Nutzer, dtype: int64\n",
      "False    108781\n",
      "True       2429\n",
      "Name: Proxy-Server, dtype: int64\n"
     ]
    }
   ],
   "source": [
    "for col in df_user_agent.columns[1:]:\n",
    "    print(df_user_agent[col].value_counts())"
   ]
  },
  {
   "cell_type": "markdown",
   "id": "abcc2119",
   "metadata": {},
   "source": [
    "##### Tests"
   ]
  },
  {
   "cell_type": "code",
   "execution_count": 10,
   "id": "d0a1e9b9",
   "metadata": {},
   "outputs": [
    {
     "data": {
      "text/plain": [
       "<bound method DataFrame.info of             iid\n",
       "0     157982720\n",
       "1     100425731\n",
       "2     107233288\n",
       "3     137986060\n",
       "4     107233293\n",
       "...         ...\n",
       "1757  158031844\n",
       "1758  100319212\n",
       "1759  101253103\n",
       "1760  100466672\n",
       "1761  100687856\n",
       "\n",
       "[1762 rows x 1 columns]>"
      ]
     },
     "execution_count": 10,
     "metadata": {},
     "output_type": "execute_result"
    }
   ],
   "source": [
    "df_relevante_iids.info"
   ]
  },
  {
   "cell_type": "code",
   "execution_count": null,
   "id": "7c9b3c61",
   "metadata": {},
   "outputs": [],
   "source": []
  }
 ],
 "metadata": {
  "kernelspec": {
   "display_name": "Python 3 (ipykernel)",
   "language": "python",
   "name": "python3"
  },
  "language_info": {
   "codemirror_mode": {
    "name": "ipython",
    "version": 3
   },
   "file_extension": ".py",
   "mimetype": "text/x-python",
   "name": "python",
   "nbconvert_exporter": "python",
   "pygments_lexer": "ipython3",
   "version": "3.9.13"
  }
 },
 "nbformat": 4,
 "nbformat_minor": 5
}
