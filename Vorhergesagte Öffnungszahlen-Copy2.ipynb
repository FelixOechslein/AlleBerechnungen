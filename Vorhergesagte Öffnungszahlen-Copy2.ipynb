{
 "cells": [
  {
   "cell_type": "code",
   "execution_count": 1,
   "id": "139bbb41",
   "metadata": {},
   "outputs": [],
   "source": [
    "from scipy.stats import nbinom, binom, poisson\n",
    "from statsmodels.discrete.count_model import ZeroInflatedNegativeBinomialP\n",
    "import pandas as pd\n",
    "import numpy as np\n",
    "import matplotlib.pyplot as plt\n",
    "import scipy.stats as stats\n",
    "import math\n",
    "import seaborn as sns\n",
    "from datetime import datetime, timedelta\n",
    "from scipy.stats import pearsonr\n",
    "from scipy.stats import kendalltau\n",
    "from scipy.stats import spearmanr\n",
    "import os\n",
    "from scipy.optimize import minimize, Bounds, LinearConstraint, NonlinearConstraint\n",
    "import inspect"
   ]
  },
  {
   "cell_type": "markdown",
   "id": "daafe716",
   "metadata": {},
   "source": [
    "### Relevante Parameter:\n",
    "\n",
    "array_lambda = np.exp(np.log(0.63*EM_monat) + alpha_o[state] + beta_o[0] * np.log(LO_monat))\n",
    "\n",
    "Die Öffungszahlen sind mit einer Poissonverteilung modelliert und die Werte folgender Tabellen haben Einfluss:\n",
    "\n",
    "1. EM_monat\n",
    "2. LO_monat\n",
    "\n",
    "folgende Parameter haben einen Einfluss:\n",
    "1. alpha_o (1 x anzahl_states array, also state abhängig)\n",
    "2. beta_o (1 x 1 array, state unabhängig)"
   ]
  },
  {
   "cell_type": "code",
   "execution_count": 2,
   "id": "ea5ccfc6",
   "metadata": {},
   "outputs": [],
   "source": [
    "# EM_monat aus der HY Zahlen der versendeten Mails ziehen\n",
    "path = r'C:/Users/felix.oechslein/Desktop/Analysen Thalia, Mai/verarbeitete_daten'\n",
    "filename = 'Pivot_HY_Privat_ohneApple_Langzeitkunde.csv'\n",
    "\n",
    "df_HY = pd.read_csv(os.path.join(path, filename))"
   ]
  },
  {
   "cell_type": "code",
   "execution_count": 3,
   "id": "a7a70f4e",
   "metadata": {},
   "outputs": [],
   "source": [
    "# LO monat\n",
    "path = r'C:/Users/felix.oechslein/Desktop/Analysen Thalia, Mai/verarbeitete_daten'\n",
    "filename = 'Pivot_LO_Privat_ohneApple_Langzeitkunde.csv'\n",
    "\n",
    "df_LO = pd.read_csv(os.path.join(path, filename))"
   ]
  },
  {
   "cell_type": "markdown",
   "id": "51914c9c",
   "metadata": {},
   "source": [
    "### Datenanpassung wie bei der Berechnung der optimalen Parameter"
   ]
  },
  {
   "cell_type": "code",
   "execution_count": 4,
   "id": "db0df8d7",
   "metadata": {},
   "outputs": [],
   "source": [
    "## Alle DataFrame Werte von Float zu int\n",
    "df_HY = df_HY.astype(int)\n",
    "df_LO = df_LO.astype(int)"
   ]
  },
  {
   "cell_type": "markdown",
   "id": "a9706904",
   "metadata": {},
   "source": [
    "### Sicherstellen dass alle df dieselben Kunden verwenden"
   ]
  },
  {
   "cell_type": "code",
   "execution_count": 5,
   "id": "4b66f142",
   "metadata": {},
   "outputs": [],
   "source": [
    "# Entfernen der Zeilen aus df_LO, die nicht in df_HY enthalten sind\n",
    "df_LO = df_LO[df_LO['iid'].isin(df_HY['iid'])]\n",
    "df_HY = df_HY[df_HY['iid'].isin(df_LO['iid'])]"
   ]
  },
  {
   "cell_type": "code",
   "execution_count": 6,
   "id": "91d9c314",
   "metadata": {},
   "outputs": [
    {
     "data": {
      "text/plain": [
       "647"
      ]
     },
     "execution_count": 6,
     "metadata": {},
     "output_type": "execute_result"
    }
   ],
   "source": [
    "len(df_LO)"
   ]
  },
  {
   "cell_type": "code",
   "execution_count": 7,
   "id": "b6a193f7",
   "metadata": {},
   "outputs": [
    {
     "data": {
      "text/plain": [
       "647"
      ]
     },
     "execution_count": 7,
     "metadata": {},
     "output_type": "execute_result"
    }
   ],
   "source": [
    "len(df_HY)"
   ]
  },
  {
   "cell_type": "markdown",
   "id": "d46ee54e",
   "metadata": {},
   "source": [
    "### Ausreißer bei den Kunden löschen (wie bei den Berechnungen)"
   ]
  },
  {
   "cell_type": "code",
   "execution_count": 8,
   "id": "506afd63",
   "metadata": {},
   "outputs": [],
   "source": [
    "kunden_pos = [384, 446, 502, 599, 421, 285, 407, 499, 348, 351, 364, 449, 528, 414]"
   ]
  },
  {
   "cell_type": "code",
   "execution_count": 9,
   "id": "5387e57e",
   "metadata": {},
   "outputs": [],
   "source": [
    "# Zeilen löschen\n",
    "df_HY = df_HY.drop(kunden_pos).reset_index(drop = True)\n",
    "df_LO = df_LO.drop(kunden_pos).reset_index(drop = True)"
   ]
  },
  {
   "cell_type": "markdown",
   "id": "eb6e8d04",
   "metadata": {},
   "source": [
    "### Spezifikation des Modells"
   ]
  },
  {
   "cell_type": "code",
   "execution_count": 10,
   "id": "48b3a46c",
   "metadata": {},
   "outputs": [
    {
     "data": {
      "text/plain": [
       "633"
      ]
     },
     "execution_count": 10,
     "metadata": {},
     "output_type": "execute_result"
    }
   ],
   "source": [
    "anzahl_kunden = len(df_HY[\"iid\"])\n",
    "anzahl_kunden"
   ]
  },
  {
   "cell_type": "code",
   "execution_count": 11,
   "id": "065acf68",
   "metadata": {},
   "outputs": [
    {
     "data": {
      "text/plain": [
       "15"
      ]
     },
     "execution_count": 11,
     "metadata": {},
     "output_type": "execute_result"
    }
   ],
   "source": [
    "anzahl_monate = len(df_HY.columns[df_HY.columns != 'iid'])\n",
    "anzahl_monate"
   ]
  },
  {
   "cell_type": "code",
   "execution_count": 12,
   "id": "1da5204f",
   "metadata": {},
   "outputs": [],
   "source": [
    "anzahl_states = 3"
   ]
  },
  {
   "cell_type": "markdown",
   "id": "31dab4c9",
   "metadata": {},
   "source": [
    "### 1. Herauslesen der Parameter aus dem array der gesamten geschätzten Parameter"
   ]
  },
  {
   "cell_type": "code",
   "execution_count": 13,
   "id": "d64bfb09",
   "metadata": {},
   "outputs": [],
   "source": [
    "estimted_params=[ 0.00000000e+00, -8.42324287e+01,  1.69437089e+01,  0.00000000e+00,\n",
    "       -1.51114259e+01, -1.27787560e+01,  0.00000000e+00, -4.66039409e+00,\n",
    "        3.23378060e+01,  0.00000000e+00, -3.42059247e+01, -3.03032101e-01,\n",
    "        0.00000000e+00, -1.16969644e+01, -4.21223535e+01,  0.00000000e+00,\n",
    "       -3.23512569e+01,  5.10330353e+00,  0.00000000e+00, -1.34546356e+00,\n",
    "       -1.45060842e+00,  0.00000000e+00,  1.05242438e+00, -1.51554184e+01,\n",
    "        0.00000000e+00,  6.50267936e-01,  1.11128688e+00,  0.00000000e+00,\n",
    "        7.18149941e+01,  5.07482709e-01,  0.00000000e+00,  1.65202863e+01,\n",
    "        1.50351002e+01,  0.00000000e+00,  9.40601150e+00, -1.66324994e+01,\n",
    "        0.00000000e+00, -1.05955017e+01, -1.72078495e-01,  0.00000000e+00,\n",
    "        2.62869932e+01,  2.28266666e+01,  0.00000000e+00, -1.69422693e+00,\n",
    "        7.29303793e+00,  4.87220599e-01,  7.01288616e-01,  1.24299189e+00,\n",
    "       -1.36993482e+00,  1.80247785e+01,  2.12346810e+01,  1.55971024e+01,\n",
    "        0.00000000e+00,  1.72348151e-01, -5.49982853e-01, -2.11311398e-01,\n",
    "       -3.31995657e+00, -1.50224012e+00,  2.04106841e-01,  1.71997448e+00,\n",
    "       -8.41039175e-02, -2.74031043e-01, -4.31434986e-01,  1.32125605e-02,\n",
    "        1.07630364e+00]"
   ]
  },
  {
   "cell_type": "code",
   "execution_count": 14,
   "id": "55b568cf",
   "metadata": {},
   "outputs": [],
   "source": [
    "alpha_size = anzahl_states**2\n",
    "gamma_size = anzahl_states**2 * 4\n",
    "\n",
    "alpha = estimted_params[:alpha_size]\n",
    "gamma = estimted_params[alpha_size:alpha_size+gamma_size]\n",
    "alpha_o = estimted_params[alpha_size+gamma_size:alpha_size+gamma_size+anzahl_states]\n",
    "beta_o = estimted_params[alpha_size+gamma_size+anzahl_states:alpha_size+gamma_size+anzahl_states+1]\n",
    "delta_0 = estimted_params[alpha_size+gamma_size+anzahl_states+1:alpha_size+gamma_size+anzahl_states*2+1]\n",
    "delta_1 = estimted_params[alpha_size+gamma_size+anzahl_states*2+1:alpha_size+gamma_size+anzahl_states*3+1]\n",
    "alpha_p = estimted_params[alpha_size+gamma_size+anzahl_states*3+1:alpha_size+gamma_size+anzahl_states*4+1]\n",
    "beta_p_1 = estimted_params[alpha_size+gamma_size+anzahl_states*4+1:alpha_size+gamma_size+anzahl_states*5+1]\n",
    "beta_p_2 = estimted_params[alpha_size+gamma_size+anzahl_states*5+1:alpha_size+gamma_size+anzahl_states*6+1]\n",
    "theta = estimted_params[alpha_size+gamma_size+anzahl_states*6+1:]"
   ]
  },
  {
   "cell_type": "code",
   "execution_count": 15,
   "id": "02f0d78c",
   "metadata": {},
   "outputs": [
    {
     "data": {
      "text/plain": [
       "[0.487220599, 0.701288616, 1.24299189]"
      ]
     },
     "execution_count": 15,
     "metadata": {},
     "output_type": "execute_result"
    }
   ],
   "source": [
    "alpha_o"
   ]
  },
  {
   "cell_type": "code",
   "execution_count": 16,
   "id": "d644f866",
   "metadata": {},
   "outputs": [
    {
     "data": {
      "text/plain": [
       "[-1.36993482]"
      ]
     },
     "execution_count": 16,
     "metadata": {},
     "output_type": "execute_result"
    }
   ],
   "source": [
    "beta_o"
   ]
  },
  {
   "cell_type": "markdown",
   "id": "d59ee85f",
   "metadata": {},
   "source": [
    "### Erstellen der erwarteten Öffungen in den jeweiligen Monaten"
   ]
  },
  {
   "cell_type": "code",
   "execution_count": 17,
   "id": "279fd943",
   "metadata": {},
   "outputs": [],
   "source": [
    "erwartete_oeffungen = np.zeros((anzahl_kunden, anzahl_states, anzahl_monate))"
   ]
  },
  {
   "cell_type": "code",
   "execution_count": 18,
   "id": "6eb7a4bf",
   "metadata": {},
   "outputs": [],
   "source": [
    "for kunde in range(0, anzahl_kunden):    \n",
    "    for state in range(0, anzahl_states):\n",
    "        for monat in range(1, anzahl_monate +1):\n",
    "            erwartete_oeffungen[kunde, state-1, monat-1] =\\\n",
    "                    np.exp(np.log(0.63)*df_HY.iloc[kunde][str(monat)] + alpha_o[state] +\\\n",
    "                           beta_o[0] * np.log(df_LO.iloc[kunde][str(monat)]))"
   ]
  },
  {
   "cell_type": "code",
   "execution_count": 19,
   "id": "9ae026ec",
   "metadata": {},
   "outputs": [
    {
     "data": {
      "text/plain": [
       "0.6736191562238436"
      ]
     },
     "execution_count": 19,
     "metadata": {},
     "output_type": "execute_result"
    }
   ],
   "source": [
    "np.sum(erwartete_oeffungen[:,0,:])/erwartete_oeffungen[:,0,:].size"
   ]
  },
  {
   "cell_type": "code",
   "execution_count": 20,
   "id": "38d70e01",
   "metadata": {},
   "outputs": [
    {
     "data": {
      "text/plain": [
       "1.157905646490088"
      ]
     },
     "execution_count": 20,
     "metadata": {},
     "output_type": "execute_result"
    }
   ],
   "source": [
    "np.sum(erwartete_oeffungen[:,1,:])/erwartete_oeffungen[:,1,:].size"
   ]
  },
  {
   "cell_type": "code",
   "execution_count": 21,
   "id": "feddc379",
   "metadata": {},
   "outputs": [
    {
     "data": {
      "text/plain": [
       "0.5438083484272844"
      ]
     },
     "execution_count": 21,
     "metadata": {},
     "output_type": "execute_result"
    }
   ],
   "source": [
    "np.sum(erwartete_oeffungen[:,2,:])/erwartete_oeffungen[:,1,:].size"
   ]
  },
  {
   "cell_type": "markdown",
   "id": "1bd4ca1c",
   "metadata": {},
   "source": [
    "### Nelder-Mead mit poisite Wahresceinlichkeiten nach state 1"
   ]
  },
  {
   "cell_type": "markdown",
   "id": "6b588581",
   "metadata": {},
   "source": [
    "### 1. Herauslesen der Parameter aus dem array der gesamten geschätzten Parameter"
   ]
  },
  {
   "cell_type": "code",
   "execution_count": 52,
   "id": "4286bb00",
   "metadata": {},
   "outputs": [],
   "source": [
    "estimated_params_2 = [-7.44841087e-01, -8.85139802e+02, -2.40481934e+02, -2.05213086e+00,\n",
    "       -5.60706087e+02, -5.35441302e+02, -9.63275246e-03, -4.27150076e+02,\n",
    "       -1.92413334e+01,  1.87679188e+00,  1.58999244e-01, -9.03253128e-02,\n",
    "       -3.28630690e-01, -2.43215232e-01, -1.37190579e-01,  3.42037204e-01,\n",
    "        2.51357509e-01,  2.06682854e-01, -4.73934832e-01, -2.71680222e-01,\n",
    "        1.60689390e-01, -1.72473497e-01, -2.60376329e-01,  2.51404015e-01,\n",
    "       -1.00917729e-02, -7.52990475e-01,  2.61244903e-02,  7.95823527e-01,\n",
    "       -5.31101017e-02, -2.62763614e-01,  8.73203616e-01, -7.32946413e-01,\n",
    "       -3.99863957e-01,  5.41473133e-01,  1.89988509e+00, -7.65683186e-01,\n",
    "        5.79608497e-01,  1.28236010e-01,  9.41770971e-01, -8.84228191e-01,\n",
    "       -7.05129175e-01, -2.51729254e+00, -1.31076750e+00,  1.76696263e-01,\n",
    "        3.34715279e-01,  1.11964744e+00,  3.44350612e-01,  3.11862570e+00,\n",
    "       -1.35299604e+00,  9.91086034e+01,  5.99497355e+00, -4.56900519e+01,\n",
    "       -4.73360515e-01, -7.11949781e-01,  6.54292220e-02, -1.26160660e+00,\n",
    "        7.29158556e+01, -3.38290584e+01, -2.22817443e-01,  8.27814530e-02,\n",
    "       -4.07211009e-01,  5.30692948e-02, -8.46733418e-01, -5.21951998e-01,\n",
    "        4.65391969e-01]"
   ]
  },
  {
   "cell_type": "code",
   "execution_count": 53,
   "id": "f9f22bed",
   "metadata": {},
   "outputs": [],
   "source": [
    "alpha_size = anzahl_states**2\n",
    "gamma_size = anzahl_states**2 * 4\n",
    "\n",
    "alpha_2 = estimated_params_2[:alpha_size]\n",
    "gamma_2 = estimated_params_2[alpha_size:alpha_size+gamma_size]\n",
    "alpha_o_2 = estimated_params_2[alpha_size+gamma_size:alpha_size+gamma_size+anzahl_states]\n",
    "beta_o_2 = estimated_params_2[alpha_size+gamma_size+anzahl_states:alpha_size+gamma_size+anzahl_states+1]\n",
    "delta_0_2 = estimated_params_2[alpha_size+gamma_size+anzahl_states+1:alpha_size+gamma_size+anzahl_states*2+1]\n",
    "delta_1_2 = estimated_params_2[alpha_size+gamma_size+anzahl_states*2+1:alpha_size+gamma_size+anzahl_states*3+1]\n",
    "alpha_p_2 = estimated_params_2[alpha_size+gamma_size+anzahl_states*3+1:alpha_size+gamma_size+anzahl_states*4+1]\n",
    "beta_p_1_2 = estimated_params_2[alpha_size+gamma_size+anzahl_states*4+1:alpha_size+gamma_size+anzahl_states*5+1]\n",
    "beta_p_2_2 = estimated_params_2[alpha_size+gamma_size+anzahl_states*5+1:alpha_size+gamma_size+anzahl_states*6+1]\n",
    "theta_2 = estimated_params_2[alpha_size+gamma_size+anzahl_states*6+1:]"
   ]
  },
  {
   "cell_type": "code",
   "execution_count": 54,
   "id": "4d683d5d",
   "metadata": {},
   "outputs": [
    {
     "data": {
      "text/plain": [
       "[1.11964744, 0.344350612, 3.1186257]"
      ]
     },
     "execution_count": 54,
     "metadata": {},
     "output_type": "execute_result"
    }
   ],
   "source": [
    "alpha_o_2"
   ]
  },
  {
   "cell_type": "code",
   "execution_count": 55,
   "id": "c1c49bfb",
   "metadata": {},
   "outputs": [
    {
     "data": {
      "text/plain": [
       "[-1.35299604]"
      ]
     },
     "execution_count": 55,
     "metadata": {},
     "output_type": "execute_result"
    }
   ],
   "source": [
    "beta_o_2"
   ]
  },
  {
   "cell_type": "markdown",
   "id": "90f4207d",
   "metadata": {},
   "source": [
    "### Berechnung erwartetete Öffungen"
   ]
  },
  {
   "cell_type": "code",
   "execution_count": 56,
   "id": "35914d14",
   "metadata": {},
   "outputs": [],
   "source": [
    "erwartete_oeffungen_2 = np.zeros((anzahl_kunden, anzahl_states, anzahl_monate))"
   ]
  },
  {
   "cell_type": "code",
   "execution_count": 70,
   "id": "f0e398b7",
   "metadata": {},
   "outputs": [],
   "source": [
    "for kunde in range(0, anzahl_kunden):    \n",
    "    for state in range(0, anzahl_states):\n",
    "        for monat in range(1, anzahl_monate +1):\n",
    "            erwartete_oeffungen_2[kunde, state, monat-1] =\\\n",
    "                    np.exp(np.log(0.63)*df_HY.iloc[kunde][str(monat)] + alpha_o_2[state] +\\\n",
    "                           beta_o_2[0] * np.log(df_LO.iloc[kunde][str(monat)]))"
   ]
  },
  {
   "cell_type": "code",
   "execution_count": 71,
   "id": "cd20d2aa",
   "metadata": {},
   "outputs": [
    {
     "data": {
      "text/plain": [
       "0.9933553870601063"
      ]
     },
     "execution_count": 71,
     "metadata": {},
     "output_type": "execute_result"
    }
   ],
   "source": [
    "np.sum(erwartete_oeffungen_2[:,0,:])/erwartete_oeffungen_2[:,0,:].size"
   ]
  },
  {
   "cell_type": "code",
   "execution_count": 72,
   "id": "803e7687",
   "metadata": {},
   "outputs": [
    {
     "data": {
      "text/plain": [
       "0.45750676172047744"
      ]
     },
     "execution_count": 72,
     "metadata": {},
     "output_type": "execute_result"
    }
   ],
   "source": [
    "np.sum(erwartete_oeffungen_2[:,1,:])/erwartete_oeffungen_2[:,1,:].size"
   ]
  },
  {
   "cell_type": "code",
   "execution_count": 73,
   "id": "7fdd6600",
   "metadata": {},
   "outputs": [
    {
     "data": {
      "text/plain": [
       "7.332462981759254"
      ]
     },
     "execution_count": 73,
     "metadata": {},
     "output_type": "execute_result"
    }
   ],
   "source": [
    "np.sum(erwartete_oeffungen_2[:,2,:])/erwartete_oeffungen_2[:,2,:].size"
   ]
  },
  {
   "cell_type": "code",
   "execution_count": 74,
   "id": "6b99dd81",
   "metadata": {},
   "outputs": [
    {
     "data": {
      "text/plain": [
       "iid    160436094\n",
       "1              2\n",
       "2              3\n",
       "3              2\n",
       "4              3\n",
       "5              2\n",
       "6              3\n",
       "7              2\n",
       "8              2\n",
       "9              2\n",
       "10             1\n",
       "11             1\n",
       "12             3\n",
       "13             2\n",
       "14             3\n",
       "15             1\n",
       "dtype: int32"
      ]
     },
     "execution_count": 74,
     "metadata": {},
     "output_type": "execute_result"
    }
   ],
   "source": [
    "df_HY.max()"
   ]
  },
  {
   "cell_type": "markdown",
   "id": "fb77b9c9",
   "metadata": {},
   "source": [
    "### Nelder-Mead mit poisite Wahresceinlichkeiten nach state 1, 30k Berechungen"
   ]
  },
  {
   "cell_type": "markdown",
   "id": "105bc713",
   "metadata": {},
   "source": [
    "### 1. Herauslesen der Parameter aus dem array der gesamten geschätzten Parameter"
   ]
  },
  {
   "cell_type": "code",
   "execution_count": 76,
   "id": "da499391",
   "metadata": {},
   "outputs": [],
   "source": [
    "estimated_params_3 = [ 4.17928553e-01, -4.22285316e+02, -1.98242290e+00, -8.79879518e-01,\n",
    "       -1.94045445e+03,  6.99046727e+02,  9.13766559e-01, -5.31026400e+02,\n",
    "        4.31211962e+01, -2.14401838e+00, -1.67642789e+00,  6.08254147e-01,\n",
    "       -5.04744507e-03,  1.87801747e-02,  6.87473148e-01, -3.36485684e-01,\n",
    "        1.29745132e+00,  8.72972789e-01, -3.52212973e-01, -4.02096620e-01,\n",
    "        4.45619697e-01, -6.69209684e-01,  1.44688445e+00,  2.53356872e-01,\n",
    "        1.80355515e-02, -1.11375261e+00, -4.15990883e-01, -4.54538186e-01,\n",
    "       -8.26245723e-01, -4.51785453e-01,  5.19280797e-01, -1.28267812e+00,\n",
    "        1.47131184e+00, -5.86812259e-01,  6.62504829e-01,  1.97691597e+00,\n",
    "        4.27950006e-01, -3.43138559e+00,  1.03359822e+00,  7.07554502e-02,\n",
    "        7.10101998e-01,  5.84550086e-01,  1.33027166e+00,  2.22558553e-01,\n",
    "        1.00029849e+00,  1.36650013e-01, -1.19263433e+00,  1.21048688e+00,\n",
    "       -1.13572566e+00,  9.56897194e+01,  1.37166797e+01,  2.70925515e+01,\n",
    "        1.93039105e+00, -1.72773597e+00, -5.83161966e-01, -1.23828420e+00,\n",
    "        7.92906253e+01, -2.04200635e+00, -3.80553587e-01,  8.20922389e-04,\n",
    "        5.60347879e-01,  3.41695867e-01,  9.78048662e-01, -1.52109959e-01,\n",
    "        6.57095859e-01]"
   ]
  },
  {
   "cell_type": "code",
   "execution_count": 77,
   "id": "0375b533",
   "metadata": {},
   "outputs": [],
   "source": [
    "alpha_3 = estimated_params_3[:alpha_size]\n",
    "gamma_3 = estimated_params_3[alpha_size:alpha_size+gamma_size]\n",
    "\n",
    "alpha_o_3 = estimated_params_3[alpha_size+gamma_size:alpha_size+gamma_size+anzahl_states]\n",
    "beta_o_3 = estimated_params_3[alpha_size+gamma_size+anzahl_states:alpha_size+gamma_size+anzahl_states+1]\n",
    "delta_0_3 = estimated_params_3[alpha_size+gamma_size+anzahl_states+1:alpha_size+gamma_size+anzahl_states*2+1]\n",
    "delta_1_3 = estimated_params_3[alpha_size+gamma_size+anzahl_states*2+1:alpha_size+gamma_size+anzahl_states*3+1]\n",
    "alpha_p_3 = estimated_params_3[alpha_size+gamma_size+anzahl_states*3+1:alpha_size+gamma_size+anzahl_states*4+1]\n",
    "beta_p_1_3 = estimated_params_3[alpha_size+gamma_size+anzahl_states*4+1:alpha_size+gamma_size+anzahl_states*5+1]\n",
    "beta_p_2_3 = estimated_params_3[alpha_size+gamma_size+anzahl_states*5+1:alpha_size+gamma_size+anzahl_states*6+1]\n",
    "theta_3 = estimated_params_3[alpha_size+gamma_size+anzahl_states*6+1:]"
   ]
  },
  {
   "cell_type": "code",
   "execution_count": 78,
   "id": "9966a5a4",
   "metadata": {},
   "outputs": [
    {
     "data": {
      "text/plain": [
       "[0.136650013, -1.19263433, 1.21048688]"
      ]
     },
     "execution_count": 78,
     "metadata": {},
     "output_type": "execute_result"
    }
   ],
   "source": [
    "alpha_o_3"
   ]
  },
  {
   "cell_type": "code",
   "execution_count": 79,
   "id": "84be5b32",
   "metadata": {},
   "outputs": [
    {
     "data": {
      "text/plain": [
       "[-1.13572566]"
      ]
     },
     "execution_count": 79,
     "metadata": {},
     "output_type": "execute_result"
    }
   ],
   "source": [
    "beta_o_3"
   ]
  },
  {
   "cell_type": "markdown",
   "id": "475424ec",
   "metadata": {},
   "source": [
    "### Erstellen der erwarteten Öffungen in den jeweiligen Monaten"
   ]
  },
  {
   "cell_type": "code",
   "execution_count": 80,
   "id": "19518960",
   "metadata": {},
   "outputs": [],
   "source": [
    "erwartete_oeffungen_3 = np.zeros((anzahl_kunden, anzahl_states, anzahl_monate))"
   ]
  },
  {
   "cell_type": "code",
   "execution_count": 81,
   "id": "8f3c75bf",
   "metadata": {},
   "outputs": [],
   "source": [
    "for kunde in range(0, anzahl_kunden):    \n",
    "    for state in range(0, anzahl_states):\n",
    "        for monat in range(1, anzahl_monate +1):\n",
    "            erwartete_oeffungen_3[kunde, state, monat-1] =\\\n",
    "                    np.exp(np.log(0.63)*df_HY.iloc[kunde][str(monat)] + alpha_o_3[state] +\\\n",
    "                           beta_o_3[0] * np.log(df_LO.iloc[kunde][str(monat)]))"
   ]
  },
  {
   "cell_type": "code",
   "execution_count": 82,
   "id": "711c5e97",
   "metadata": {},
   "outputs": [
    {
     "data": {
      "text/plain": [
       "0.38624154286745543"
      ]
     },
     "execution_count": 82,
     "metadata": {},
     "output_type": "execute_result"
    }
   ],
   "source": [
    "np.sum(erwartete_oeffungen_3[:,0,:])/erwartete_oeffungen_3[:,0,:].size"
   ]
  },
  {
   "cell_type": "code",
   "execution_count": 83,
   "id": "868edfca",
   "metadata": {},
   "outputs": [
    {
     "data": {
      "text/plain": [
       "0.10222523749274383"
      ]
     },
     "execution_count": 83,
     "metadata": {},
     "output_type": "execute_result"
    }
   ],
   "source": [
    "np.sum(erwartete_oeffungen_3[:,1,:])/erwartete_oeffungen_3[:,1,:].size"
   ]
  },
  {
   "cell_type": "code",
   "execution_count": 84,
   "id": "de8fc19e",
   "metadata": {},
   "outputs": [
    {
     "data": {
      "text/plain": [
       "1.1303694435680933"
      ]
     },
     "execution_count": 84,
     "metadata": {},
     "output_type": "execute_result"
    }
   ],
   "source": [
    "np.sum(erwartete_oeffungen_3[:,2,:])/erwartete_oeffungen_3[:,2,:].size"
   ]
  },
  {
   "cell_type": "code",
   "execution_count": null,
   "id": "7cfc8085",
   "metadata": {},
   "outputs": [],
   "source": []
  }
 ],
 "metadata": {
  "kernelspec": {
   "display_name": "Python 3 (ipykernel)",
   "language": "python",
   "name": "python3"
  },
  "language_info": {
   "codemirror_mode": {
    "name": "ipython",
    "version": 3
   },
   "file_extension": ".py",
   "mimetype": "text/x-python",
   "name": "python",
   "nbconvert_exporter": "python",
   "pygments_lexer": "ipython3",
   "version": "3.9.13"
  }
 },
 "nbformat": 4,
 "nbformat_minor": 5
}
