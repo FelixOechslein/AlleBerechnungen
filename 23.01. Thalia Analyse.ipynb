{
 "cells": [
  {
   "cell_type": "code",
   "execution_count": 1,
   "id": "c2f8ae06",
   "metadata": {},
   "outputs": [],
   "source": [
    "import pandas as pd\n",
    "import numpy\n",
    "import matplotlib.pyplot as plt\n",
    "import scipy.stats as stats\n",
    "import math\n",
    "import seaborn as sns\n",
    "from datetime import datetime, timedelta\n",
    "from scipy.stats import pearsonr\n",
    "from scipy.stats import kendalltau\n",
    "from scipy.stats import spearmanr"
   ]
  },
  {
   "cell_type": "code",
   "execution_count": 2,
   "id": "d58f5fe4",
   "metadata": {},
   "outputs": [],
   "source": [
    "df_transactions_wofirstname = pd.read_csv(\"C:/Users/felix.oechslein/Desktop/Daten, 13.12.22/Rohdaten/\" +\n",
    "                                    \"Thalia_transactions_ohne_vorname.csv\")\n",
    "\n",
    "df_history_wofirstname = pd.read_csv(\"C:/Users/felix.oechslein/Desktop/Daten, 13.12.22/Rohdaten/\" +\n",
    "                                    \"Thalia_history_ohne_vorname.csv\")"
   ]
  },
  {
   "cell_type": "code",
   "execution_count": 3,
   "id": "34e72b64",
   "metadata": {},
   "outputs": [],
   "source": [
    "df_privatkunden_iids = pd.read_csv(\"C:/Users/felix.oechslein/Desktop/Daten, 13.12.22/\" +\n",
    "                                    \"privatkunden.iid.thalia.csv\", index_col = [0])"
   ]
  },
  {
   "cell_type": "markdown",
   "id": "7a4c4551",
   "metadata": {},
   "source": [
    "# 1. Daten bereinigen"
   ]
  },
  {
   "cell_type": "markdown",
   "id": "77696e1e",
   "metadata": {},
   "source": [
    "#### 1.1 Transaktions-Daten bereinigen"
   ]
  },
  {
   "cell_type": "code",
   "execution_count": 4,
   "id": "398384d3",
   "metadata": {},
   "outputs": [
    {
     "data": {
      "text/html": [
       "<div>\n",
       "<style scoped>\n",
       "    .dataframe tbody tr th:only-of-type {\n",
       "        vertical-align: middle;\n",
       "    }\n",
       "\n",
       "    .dataframe tbody tr th {\n",
       "        vertical-align: top;\n",
       "    }\n",
       "\n",
       "    .dataframe thead th {\n",
       "        text-align: right;\n",
       "    }\n",
       "</style>\n",
       "<table border=\"1\" class=\"dataframe\">\n",
       "  <thead>\n",
       "    <tr style=\"text-align: right;\">\n",
       "      <th></th>\n",
       "      <th>iid</th>\n",
       "      <th>key</th>\n",
       "      <th>attrtype</th>\n",
       "      <th>status</th>\n",
       "      <th>pricetotal</th>\n",
       "      <th>createdprovider</th>\n",
       "    </tr>\n",
       "  </thead>\n",
       "  <tbody>\n",
       "    <tr>\n",
       "      <th>1</th>\n",
       "      <td>100279806</td>\n",
       "      <td>JET_1_a1179092</td>\n",
       "      <td>TI</td>\n",
       "      <td>Order</td>\n",
       "      <td>20.5</td>\n",
       "      <td>20220630111759</td>\n",
       "    </tr>\n",
       "    <tr>\n",
       "      <th>4</th>\n",
       "      <td>262428540</td>\n",
       "      <td>JET_1_a1179095</td>\n",
       "      <td>TI</td>\n",
       "      <td>Order</td>\n",
       "      <td>5.0</td>\n",
       "      <td>20220630113800</td>\n",
       "    </tr>\n",
       "    <tr>\n",
       "      <th>5</th>\n",
       "      <td>262429050</td>\n",
       "      <td>JET_1_a1179096</td>\n",
       "      <td>TI</td>\n",
       "      <td>Order</td>\n",
       "      <td>20.5</td>\n",
       "      <td>20220630115500</td>\n",
       "    </tr>\n",
       "    <tr>\n",
       "      <th>7</th>\n",
       "      <td>262429050</td>\n",
       "      <td>JET_1_a1179096</td>\n",
       "      <td>TI</td>\n",
       "      <td>Order</td>\n",
       "      <td>9.0</td>\n",
       "      <td>20220630115500</td>\n",
       "    </tr>\n",
       "    <tr>\n",
       "      <th>10</th>\n",
       "      <td>262429655</td>\n",
       "      <td>JET_1_a1179100</td>\n",
       "      <td>TI</td>\n",
       "      <td>Order</td>\n",
       "      <td>55.0</td>\n",
       "      <td>20220630121500</td>\n",
       "    </tr>\n",
       "  </tbody>\n",
       "</table>\n",
       "</div>"
      ],
      "text/plain": [
       "          iid             key attrtype status  pricetotal  createdprovider\n",
       "1   100279806  JET_1_a1179092       TI  Order        20.5   20220630111759\n",
       "4   262428540  JET_1_a1179095       TI  Order         5.0   20220630113800\n",
       "5   262429050  JET_1_a1179096       TI  Order        20.5   20220630115500\n",
       "7   262429050  JET_1_a1179096       TI  Order         9.0   20220630115500\n",
       "10  262429655  JET_1_a1179100       TI  Order        55.0   20220630121500"
      ]
     },
     "execution_count": 4,
     "metadata": {},
     "output_type": "execute_result"
    }
   ],
   "source": [
    "df_t_bereinigt = df_transactions_wofirstname[[\"iid\", \"key\", \"attrtype\", \"status\", \"pricetotal\", \"createdprovider\"]]\n",
    "#df_t_bereinigt[\"pricetotal\"] = pd.to_numeric(df_t_bereinigt[\"pricetotal\"], errors = \"coerce\")\n",
    "df_t_bereinigt = df_t_bereinigt.query('attrtype == \"TI\"')\n",
    "df_t_bereinigt = df_t_bereinigt.query('status == \"Buchung\" or status == \"Order\"')\n",
    "df_t_bereinigt = df_t_bereinigt.query('pricetotal >= 0.01')\n",
    "#searchfor = ['TEST']\n",
    "#searchfor = ['TEST', 'JET', \"WS\"]\n",
    "#df_t_bereinigt = df_t_bereinigt[~df_t_bereinigt[\"key\"].str.contains('|'.join(searchfor))]\n",
    "df_t_bereinigt.head()"
   ]
  },
  {
   "cell_type": "code",
   "execution_count": 5,
   "id": "d634aac3",
   "metadata": {},
   "outputs": [
    {
     "data": {
      "text/html": [
       "<div>\n",
       "<style scoped>\n",
       "    .dataframe tbody tr th:only-of-type {\n",
       "        vertical-align: middle;\n",
       "    }\n",
       "\n",
       "    .dataframe tbody tr th {\n",
       "        vertical-align: top;\n",
       "    }\n",
       "\n",
       "    .dataframe thead th {\n",
       "        text-align: right;\n",
       "    }\n",
       "</style>\n",
       "<table border=\"1\" class=\"dataframe\">\n",
       "  <thead>\n",
       "    <tr style=\"text-align: right;\">\n",
       "      <th></th>\n",
       "      <th>mandator</th>\n",
       "      <th>id</th>\n",
       "      <th>iid</th>\n",
       "      <th>attrtype</th>\n",
       "      <th>key</th>\n",
       "      <th>itemkey</th>\n",
       "      <th>status</th>\n",
       "      <th>productid</th>\n",
       "      <th>productname</th>\n",
       "      <th>modifiedprovider</th>\n",
       "      <th>createdprovider</th>\n",
       "      <th>startdate</th>\n",
       "      <th>quantity</th>\n",
       "      <th>discountname</th>\n",
       "      <th>saleschannelname</th>\n",
       "      <th>price</th>\n",
       "      <th>discountgroup</th>\n",
       "      <th>discountamount</th>\n",
       "      <th>pricetotal</th>\n",
       "    </tr>\n",
       "  </thead>\n",
       "  <tbody>\n",
       "    <tr>\n",
       "      <th>0</th>\n",
       "      <td>100000490</td>\n",
       "      <td>262615460</td>\n",
       "      <td>100279806</td>\n",
       "      <td>OR</td>\n",
       "      <td>JET_1_a1179092</td>\n",
       "      <td>NaN</td>\n",
       "      <td>Order</td>\n",
       "      <td>NaN</td>\n",
       "      <td>NaN</td>\n",
       "      <td>20220701153023</td>\n",
       "      <td>20220630111759</td>\n",
       "      <td>NaN</td>\n",
       "      <td>NaN</td>\n",
       "      <td>NaN</td>\n",
       "      <td>NaN</td>\n",
       "      <td>NaN</td>\n",
       "      <td>NaN</td>\n",
       "      <td>NaN</td>\n",
       "      <td>NaN</td>\n",
       "    </tr>\n",
       "    <tr>\n",
       "      <th>1</th>\n",
       "      <td>100000490</td>\n",
       "      <td>262615461</td>\n",
       "      <td>100279806</td>\n",
       "      <td>TI</td>\n",
       "      <td>JET_1_a1179092</td>\n",
       "      <td>JET_1_a1179092_1_1_0</td>\n",
       "      <td>Order</td>\n",
       "      <td>JET_1_3941</td>\n",
       "      <td>Maria Stuart und Elisabeth</td>\n",
       "      <td>20220701153023</td>\n",
       "      <td>20220630111759</td>\n",
       "      <td>2.022063e+13</td>\n",
       "      <td>1.0</td>\n",
       "      <td>NaN</td>\n",
       "      <td>Kasse</td>\n",
       "      <td>20.5</td>\n",
       "      <td>NaN</td>\n",
       "      <td>NaN</td>\n",
       "      <td>20.5</td>\n",
       "    </tr>\n",
       "    <tr>\n",
       "      <th>2</th>\n",
       "      <td>100000490</td>\n",
       "      <td>262617949</td>\n",
       "      <td>101270948</td>\n",
       "      <td>OR</td>\n",
       "      <td>JET_1_a1179145</td>\n",
       "      <td>NaN</td>\n",
       "      <td>Order</td>\n",
       "      <td>NaN</td>\n",
       "      <td>NaN</td>\n",
       "      <td>20220701153507</td>\n",
       "      <td>20220630135500</td>\n",
       "      <td>NaN</td>\n",
       "      <td>NaN</td>\n",
       "      <td>NaN</td>\n",
       "      <td>NaN</td>\n",
       "      <td>NaN</td>\n",
       "      <td>NaN</td>\n",
       "      <td>NaN</td>\n",
       "      <td>NaN</td>\n",
       "    </tr>\n",
       "    <tr>\n",
       "      <th>3</th>\n",
       "      <td>100000490</td>\n",
       "      <td>262616022</td>\n",
       "      <td>262428540</td>\n",
       "      <td>OR</td>\n",
       "      <td>JET_1_a1179095</td>\n",
       "      <td>NaN</td>\n",
       "      <td>Order</td>\n",
       "      <td>NaN</td>\n",
       "      <td>NaN</td>\n",
       "      <td>20220701153131</td>\n",
       "      <td>20220630113800</td>\n",
       "      <td>NaN</td>\n",
       "      <td>NaN</td>\n",
       "      <td>NaN</td>\n",
       "      <td>NaN</td>\n",
       "      <td>NaN</td>\n",
       "      <td>NaN</td>\n",
       "      <td>NaN</td>\n",
       "      <td>NaN</td>\n",
       "    </tr>\n",
       "    <tr>\n",
       "      <th>4</th>\n",
       "      <td>100000490</td>\n",
       "      <td>262616023</td>\n",
       "      <td>262428540</td>\n",
       "      <td>TI</td>\n",
       "      <td>JET_1_a1179095</td>\n",
       "      <td>JET_1_a1179095_1_1_0</td>\n",
       "      <td>Order</td>\n",
       "      <td>JET_1_3618</td>\n",
       "      <td>book.beat</td>\n",
       "      <td>20220701153131</td>\n",
       "      <td>20220630113800</td>\n",
       "      <td>2.022063e+13</td>\n",
       "      <td>1.0</td>\n",
       "      <td>NaN</td>\n",
       "      <td>Gateway</td>\n",
       "      <td>5.0</td>\n",
       "      <td>NaN</td>\n",
       "      <td>NaN</td>\n",
       "      <td>5.0</td>\n",
       "    </tr>\n",
       "  </tbody>\n",
       "</table>\n",
       "</div>"
      ],
      "text/plain": [
       "    mandator         id        iid attrtype             key  \\\n",
       "0  100000490  262615460  100279806       OR  JET_1_a1179092   \n",
       "1  100000490  262615461  100279806       TI  JET_1_a1179092   \n",
       "2  100000490  262617949  101270948       OR  JET_1_a1179145   \n",
       "3  100000490  262616022  262428540       OR  JET_1_a1179095   \n",
       "4  100000490  262616023  262428540       TI  JET_1_a1179095   \n",
       "\n",
       "                itemkey status   productid                 productname  \\\n",
       "0                   NaN  Order         NaN                         NaN   \n",
       "1  JET_1_a1179092_1_1_0  Order  JET_1_3941  Maria Stuart und Elisabeth   \n",
       "2                   NaN  Order         NaN                         NaN   \n",
       "3                   NaN  Order         NaN                         NaN   \n",
       "4  JET_1_a1179095_1_1_0  Order  JET_1_3618                   book.beat   \n",
       "\n",
       "   modifiedprovider  createdprovider     startdate  quantity discountname  \\\n",
       "0    20220701153023   20220630111759           NaN       NaN          NaN   \n",
       "1    20220701153023   20220630111759  2.022063e+13       1.0          NaN   \n",
       "2    20220701153507   20220630135500           NaN       NaN          NaN   \n",
       "3    20220701153131   20220630113800           NaN       NaN          NaN   \n",
       "4    20220701153131   20220630113800  2.022063e+13       1.0          NaN   \n",
       "\n",
       "  saleschannelname  price discountgroup  discountamount  pricetotal  \n",
       "0              NaN    NaN           NaN             NaN         NaN  \n",
       "1            Kasse   20.5           NaN             NaN        20.5  \n",
       "2              NaN    NaN           NaN             NaN         NaN  \n",
       "3              NaN    NaN           NaN             NaN         NaN  \n",
       "4          Gateway    5.0           NaN             NaN         5.0  "
      ]
     },
     "execution_count": 5,
     "metadata": {},
     "output_type": "execute_result"
    }
   ],
   "source": [
    "df_transactions_wofirstname.head()"
   ]
  },
  {
   "cell_type": "code",
   "execution_count": 6,
   "id": "dfc9181f",
   "metadata": {},
   "outputs": [
    {
     "data": {
      "text/plain": [
       "20050712145407"
      ]
     },
     "execution_count": 6,
     "metadata": {},
     "output_type": "execute_result"
    }
   ],
   "source": [
    "df_transactions_wofirstname[\"createdprovider\"].min()"
   ]
  },
  {
   "cell_type": "code",
   "execution_count": 7,
   "id": "a3dff0b4",
   "metadata": {},
   "outputs": [
    {
     "name": "stdout",
     "output_type": "stream",
     "text": [
      "Anzahl Einträge ohne Bereinigung: 1925405\n",
      "Anzahl Einträge mit Bereinigung: 1236067\n"
     ]
    }
   ],
   "source": [
    "print(\"Anzahl Einträge ohne Bereinigung:\" + \" \" + str(len(df_transactions_wofirstname.index)))\n",
    "print(\"Anzahl Einträge mit Bereinigung:\" + \" \" + str(len(df_t_bereinigt.index)))"
   ]
  },
  {
   "cell_type": "markdown",
   "id": "6083abf0",
   "metadata": {},
   "source": [
    "#### 1.2 Historien-Daten bereinigen\n",
    "##### ausschließlich Öffungen als Interaktionen betrachtet"
   ]
  },
  {
   "cell_type": "code",
   "execution_count": 8,
   "id": "8155a546",
   "metadata": {},
   "outputs": [
    {
     "data": {
      "text/html": [
       "<div>\n",
       "<style scoped>\n",
       "    .dataframe tbody tr th:only-of-type {\n",
       "        vertical-align: middle;\n",
       "    }\n",
       "\n",
       "    .dataframe tbody tr th {\n",
       "        vertical-align: top;\n",
       "    }\n",
       "\n",
       "    .dataframe thead th {\n",
       "        text-align: right;\n",
       "    }\n",
       "</style>\n",
       "<table border=\"1\" class=\"dataframe\">\n",
       "  <thead>\n",
       "    <tr style=\"text-align: right;\">\n",
       "      <th></th>\n",
       "      <th>iid</th>\n",
       "      <th>attrtype</th>\n",
       "      <th>akey</th>\n",
       "      <th>creation</th>\n",
       "    </tr>\n",
       "  </thead>\n",
       "  <tbody>\n",
       "    <tr>\n",
       "      <th>0</th>\n",
       "      <td>100253777</td>\n",
       "      <td>NO</td>\n",
       "      <td>240805772</td>\n",
       "      <td>20220330211124</td>\n",
       "    </tr>\n",
       "    <tr>\n",
       "      <th>1</th>\n",
       "      <td>100256545</td>\n",
       "      <td>NO</td>\n",
       "      <td>240805772</td>\n",
       "      <td>20220330204021</td>\n",
       "    </tr>\n",
       "    <tr>\n",
       "      <th>2</th>\n",
       "      <td>100083508</td>\n",
       "      <td>NO</td>\n",
       "      <td>232751147</td>\n",
       "      <td>20220330204142</td>\n",
       "    </tr>\n",
       "    <tr>\n",
       "      <th>3</th>\n",
       "      <td>100256545</td>\n",
       "      <td>NO</td>\n",
       "      <td>240805772</td>\n",
       "      <td>20220330204152</td>\n",
       "    </tr>\n",
       "    <tr>\n",
       "      <th>4</th>\n",
       "      <td>100922912</td>\n",
       "      <td>NO</td>\n",
       "      <td>227354388</td>\n",
       "      <td>20220330204217</td>\n",
       "    </tr>\n",
       "  </tbody>\n",
       "</table>\n",
       "</div>"
      ],
      "text/plain": [
       "         iid attrtype       akey        creation\n",
       "0  100253777       NO  240805772  20220330211124\n",
       "1  100256545       NO  240805772  20220330204021\n",
       "2  100083508       NO  232751147  20220330204142\n",
       "3  100256545       NO  240805772  20220330204152\n",
       "4  100922912       NO  227354388  20220330204217"
      ]
     },
     "execution_count": 8,
     "metadata": {},
     "output_type": "execute_result"
    }
   ],
   "source": [
    "df_h_bereinigt = df_history_wofirstname[[\"iid\", \"attrtype\", \"akey\",  \"creation\"]]\n",
    "df_h_bereinigt = df_h_bereinigt.query('attrtype == \"NO\" or attrtype == \"HY\"')\n",
    "df_h_bereinigt.head()"
   ]
  },
  {
   "cell_type": "code",
   "execution_count": 9,
   "id": "b95cc484",
   "metadata": {},
   "outputs": [
    {
     "name": "stdout",
     "output_type": "stream",
     "text": [
      "Anzahl Einträge ohne Bereinigung: 4854430\n",
      "Anzahl Einträge mit Bereinigung: 4571990\n"
     ]
    }
   ],
   "source": [
    "print(\"Anzahl Einträge ohne Bereinigung:\" + \" \" + str(len(df_history_wofirstname.index)))\n",
    "print(\"Anzahl Einträge mit Bereinigung:\" + \" \" + str(len(df_h_bereinigt.index)))"
   ]
  },
  {
   "cell_type": "markdown",
   "id": "bf78e584",
   "metadata": {},
   "source": [
    "# 2. Privatkunden iids mit Transaktionsdaten mergen"
   ]
  },
  {
   "cell_type": "markdown",
   "id": "f8396c42",
   "metadata": {},
   "source": [
    "#### 2.1 ... für Transaktionsdaten"
   ]
  },
  {
   "cell_type": "code",
   "execution_count": 10,
   "id": "c04533f2",
   "metadata": {},
   "outputs": [
    {
     "data": {
      "text/html": [
       "<div>\n",
       "<style scoped>\n",
       "    .dataframe tbody tr th:only-of-type {\n",
       "        vertical-align: middle;\n",
       "    }\n",
       "\n",
       "    .dataframe tbody tr th {\n",
       "        vertical-align: top;\n",
       "    }\n",
       "\n",
       "    .dataframe thead th {\n",
       "        text-align: right;\n",
       "    }\n",
       "</style>\n",
       "<table border=\"1\" class=\"dataframe\">\n",
       "  <thead>\n",
       "    <tr style=\"text-align: right;\">\n",
       "      <th></th>\n",
       "      <th>iid</th>\n",
       "      <th>key</th>\n",
       "      <th>attrtype</th>\n",
       "      <th>status</th>\n",
       "      <th>pricetotal</th>\n",
       "      <th>createdprovider</th>\n",
       "    </tr>\n",
       "  </thead>\n",
       "  <tbody>\n",
       "    <tr>\n",
       "      <th>0</th>\n",
       "      <td>100279806</td>\n",
       "      <td>JET_1_a1179092</td>\n",
       "      <td>TI</td>\n",
       "      <td>Order</td>\n",
       "      <td>20.5</td>\n",
       "      <td>20220630111759</td>\n",
       "    </tr>\n",
       "    <tr>\n",
       "      <th>1</th>\n",
       "      <td>100279806</td>\n",
       "      <td>JET_1_a1192486</td>\n",
       "      <td>TI</td>\n",
       "      <td>Order</td>\n",
       "      <td>25.0</td>\n",
       "      <td>20220924182326</td>\n",
       "    </tr>\n",
       "    <tr>\n",
       "      <th>2</th>\n",
       "      <td>100279806</td>\n",
       "      <td>JET_1_a1192486</td>\n",
       "      <td>TI</td>\n",
       "      <td>Order</td>\n",
       "      <td>25.0</td>\n",
       "      <td>20220924182326</td>\n",
       "    </tr>\n",
       "    <tr>\n",
       "      <th>3</th>\n",
       "      <td>100279806</td>\n",
       "      <td>JET_1_a1064841</td>\n",
       "      <td>TI</td>\n",
       "      <td>Buchung</td>\n",
       "      <td>28.9</td>\n",
       "      <td>20200904205800</td>\n",
       "    </tr>\n",
       "    <tr>\n",
       "      <th>4</th>\n",
       "      <td>100279806</td>\n",
       "      <td>JET_1_a1064841</td>\n",
       "      <td>TI</td>\n",
       "      <td>Buchung</td>\n",
       "      <td>28.9</td>\n",
       "      <td>20200904205800</td>\n",
       "    </tr>\n",
       "  </tbody>\n",
       "</table>\n",
       "</div>"
      ],
      "text/plain": [
       "         iid             key attrtype   status  pricetotal  createdprovider\n",
       "0  100279806  JET_1_a1179092       TI    Order        20.5   20220630111759\n",
       "1  100279806  JET_1_a1192486       TI    Order        25.0   20220924182326\n",
       "2  100279806  JET_1_a1192486       TI    Order        25.0   20220924182326\n",
       "3  100279806  JET_1_a1064841       TI  Buchung        28.9   20200904205800\n",
       "4  100279806  JET_1_a1064841       TI  Buchung        28.9   20200904205800"
      ]
     },
     "execution_count": 10,
     "metadata": {},
     "output_type": "execute_result"
    }
   ],
   "source": [
    "df_t_merged = pd.merge(df_t_bereinigt, df_privatkunden_iids, on = [\"iid\"])\n",
    "df_t_merged.head()"
   ]
  },
  {
   "cell_type": "code",
   "execution_count": 11,
   "id": "448c61d6",
   "metadata": {
    "scrolled": true
   },
   "outputs": [
    {
     "name": "stdout",
     "output_type": "stream",
     "text": [
      "Anzahl Einträge ohne Bereinigung: 1236067\n",
      "Anzahl Einträge mit Bereinigung: 835238\n"
     ]
    }
   ],
   "source": [
    "print(\"Anzahl Einträge ohne Bereinigung:\" + \" \" + str(len(df_t_bereinigt.index)))\n",
    "print(\"Anzahl Einträge mit Bereinigung:\" + \" \" + str(len(df_t_merged.index)))"
   ]
  },
  {
   "cell_type": "markdown",
   "id": "fd1212a5",
   "metadata": {},
   "source": [
    "#### 2.2 ... für Historiendaten"
   ]
  },
  {
   "cell_type": "code",
   "execution_count": 12,
   "id": "ac01365f",
   "metadata": {},
   "outputs": [
    {
     "data": {
      "text/html": [
       "<div>\n",
       "<style scoped>\n",
       "    .dataframe tbody tr th:only-of-type {\n",
       "        vertical-align: middle;\n",
       "    }\n",
       "\n",
       "    .dataframe tbody tr th {\n",
       "        vertical-align: top;\n",
       "    }\n",
       "\n",
       "    .dataframe thead th {\n",
       "        text-align: right;\n",
       "    }\n",
       "</style>\n",
       "<table border=\"1\" class=\"dataframe\">\n",
       "  <thead>\n",
       "    <tr style=\"text-align: right;\">\n",
       "      <th></th>\n",
       "      <th>iid</th>\n",
       "      <th>attrtype</th>\n",
       "      <th>akey</th>\n",
       "      <th>creation</th>\n",
       "    </tr>\n",
       "  </thead>\n",
       "  <tbody>\n",
       "    <tr>\n",
       "      <th>0</th>\n",
       "      <td>100256545</td>\n",
       "      <td>NO</td>\n",
       "      <td>240805772</td>\n",
       "      <td>20220330204021</td>\n",
       "    </tr>\n",
       "    <tr>\n",
       "      <th>1</th>\n",
       "      <td>100256545</td>\n",
       "      <td>NO</td>\n",
       "      <td>240805772</td>\n",
       "      <td>20220330204152</td>\n",
       "    </tr>\n",
       "    <tr>\n",
       "      <th>2</th>\n",
       "      <td>100256545</td>\n",
       "      <td>NO</td>\n",
       "      <td>284987833</td>\n",
       "      <td>20221117172146</td>\n",
       "    </tr>\n",
       "    <tr>\n",
       "      <th>3</th>\n",
       "      <td>100256545</td>\n",
       "      <td>NO</td>\n",
       "      <td>284987833</td>\n",
       "      <td>20221117173447</td>\n",
       "    </tr>\n",
       "    <tr>\n",
       "      <th>4</th>\n",
       "      <td>100256545</td>\n",
       "      <td>NO</td>\n",
       "      <td>207410494</td>\n",
       "      <td>20220212170553</td>\n",
       "    </tr>\n",
       "  </tbody>\n",
       "</table>\n",
       "</div>"
      ],
      "text/plain": [
       "         iid attrtype       akey        creation\n",
       "0  100256545       NO  240805772  20220330204021\n",
       "1  100256545       NO  240805772  20220330204152\n",
       "2  100256545       NO  284987833  20221117172146\n",
       "3  100256545       NO  284987833  20221117173447\n",
       "4  100256545       NO  207410494  20220212170553"
      ]
     },
     "execution_count": 12,
     "metadata": {},
     "output_type": "execute_result"
    }
   ],
   "source": [
    "df_h_merged = pd.merge(df_h_bereinigt, df_privatkunden_iids, on = [\"iid\"])\n",
    "df_h_merged.head()"
   ]
  },
  {
   "cell_type": "code",
   "execution_count": 13,
   "id": "6dae0bdd",
   "metadata": {},
   "outputs": [
    {
     "name": "stdout",
     "output_type": "stream",
     "text": [
      "Anzahl Einträge ohne Bereinigung: 4571990\n",
      "Anzahl Einträge mit Bereinigung: 2612931\n"
     ]
    }
   ],
   "source": [
    "print(\"Anzahl Einträge ohne Bereinigung:\" + \" \" + str(len(df_h_bereinigt.index)))\n",
    "print(\"Anzahl Einträge mit Bereinigung:\" + \" \" + str(len(df_h_merged.index)))"
   ]
  },
  {
   "cell_type": "markdown",
   "id": "ed8604e1",
   "metadata": {},
   "source": [
    "# 3 Datum als datetime type und rename"
   ]
  },
  {
   "cell_type": "markdown",
   "id": "c02025d3",
   "metadata": {},
   "source": [
    "#### 3.1 Createdprovider als datetime type und rename"
   ]
  },
  {
   "cell_type": "code",
   "execution_count": 14,
   "id": "70971ca9",
   "metadata": {},
   "outputs": [
    {
     "data": {
      "text/html": [
       "<div>\n",
       "<style scoped>\n",
       "    .dataframe tbody tr th:only-of-type {\n",
       "        vertical-align: middle;\n",
       "    }\n",
       "\n",
       "    .dataframe tbody tr th {\n",
       "        vertical-align: top;\n",
       "    }\n",
       "\n",
       "    .dataframe thead th {\n",
       "        text-align: right;\n",
       "    }\n",
       "</style>\n",
       "<table border=\"1\" class=\"dataframe\">\n",
       "  <thead>\n",
       "    <tr style=\"text-align: right;\">\n",
       "      <th></th>\n",
       "      <th>iid</th>\n",
       "      <th>key</th>\n",
       "      <th>attrtype</th>\n",
       "      <th>status</th>\n",
       "      <th>pricetotal</th>\n",
       "      <th>date</th>\n",
       "    </tr>\n",
       "  </thead>\n",
       "  <tbody>\n",
       "    <tr>\n",
       "      <th>0</th>\n",
       "      <td>100279806</td>\n",
       "      <td>JET_1_a1179092</td>\n",
       "      <td>TI</td>\n",
       "      <td>Order</td>\n",
       "      <td>20.5</td>\n",
       "      <td>2022-06-30 11:17:59</td>\n",
       "    </tr>\n",
       "    <tr>\n",
       "      <th>1</th>\n",
       "      <td>100279806</td>\n",
       "      <td>JET_1_a1192486</td>\n",
       "      <td>TI</td>\n",
       "      <td>Order</td>\n",
       "      <td>25.0</td>\n",
       "      <td>2022-09-24 18:23:26</td>\n",
       "    </tr>\n",
       "    <tr>\n",
       "      <th>2</th>\n",
       "      <td>100279806</td>\n",
       "      <td>JET_1_a1192486</td>\n",
       "      <td>TI</td>\n",
       "      <td>Order</td>\n",
       "      <td>25.0</td>\n",
       "      <td>2022-09-24 18:23:26</td>\n",
       "    </tr>\n",
       "    <tr>\n",
       "      <th>3</th>\n",
       "      <td>100279806</td>\n",
       "      <td>JET_1_a1064841</td>\n",
       "      <td>TI</td>\n",
       "      <td>Buchung</td>\n",
       "      <td>28.9</td>\n",
       "      <td>2020-09-04 20:58:00</td>\n",
       "    </tr>\n",
       "    <tr>\n",
       "      <th>4</th>\n",
       "      <td>100279806</td>\n",
       "      <td>JET_1_a1064841</td>\n",
       "      <td>TI</td>\n",
       "      <td>Buchung</td>\n",
       "      <td>28.9</td>\n",
       "      <td>2020-09-04 20:58:00</td>\n",
       "    </tr>\n",
       "  </tbody>\n",
       "</table>\n",
       "</div>"
      ],
      "text/plain": [
       "         iid             key attrtype   status  pricetotal                date\n",
       "0  100279806  JET_1_a1179092       TI    Order        20.5 2022-06-30 11:17:59\n",
       "1  100279806  JET_1_a1192486       TI    Order        25.0 2022-09-24 18:23:26\n",
       "2  100279806  JET_1_a1192486       TI    Order        25.0 2022-09-24 18:23:26\n",
       "3  100279806  JET_1_a1064841       TI  Buchung        28.9 2020-09-04 20:58:00\n",
       "4  100279806  JET_1_a1064841       TI  Buchung        28.9 2020-09-04 20:58:00"
      ]
     },
     "execution_count": 14,
     "metadata": {},
     "output_type": "execute_result"
    }
   ],
   "source": [
    "df_t_datetime = df_t_merged\n",
    "df_t_datetime[\"createdprovider\"] = pd.to_datetime(df_t_datetime['createdprovider'], format='%Y%m%d%H%M%S')\n",
    "df_t_datetime.rename(columns = {\"createdprovider\" : \"date\"}, inplace = True)\n",
    "df_t_datetime.head()"
   ]
  },
  {
   "cell_type": "markdown",
   "id": "ffbfd520",
   "metadata": {},
   "source": [
    "#### 3.2 creation als datetime type und rename"
   ]
  },
  {
   "cell_type": "code",
   "execution_count": 15,
   "id": "e32756ad",
   "metadata": {},
   "outputs": [
    {
     "data": {
      "text/html": [
       "<div>\n",
       "<style scoped>\n",
       "    .dataframe tbody tr th:only-of-type {\n",
       "        vertical-align: middle;\n",
       "    }\n",
       "\n",
       "    .dataframe tbody tr th {\n",
       "        vertical-align: top;\n",
       "    }\n",
       "\n",
       "    .dataframe thead th {\n",
       "        text-align: right;\n",
       "    }\n",
       "</style>\n",
       "<table border=\"1\" class=\"dataframe\">\n",
       "  <thead>\n",
       "    <tr style=\"text-align: right;\">\n",
       "      <th></th>\n",
       "      <th>iid</th>\n",
       "      <th>attrtype</th>\n",
       "      <th>akey</th>\n",
       "      <th>date</th>\n",
       "    </tr>\n",
       "  </thead>\n",
       "  <tbody>\n",
       "    <tr>\n",
       "      <th>0</th>\n",
       "      <td>100256545</td>\n",
       "      <td>NO</td>\n",
       "      <td>240805772</td>\n",
       "      <td>2022-03-30 20:40:21</td>\n",
       "    </tr>\n",
       "    <tr>\n",
       "      <th>1</th>\n",
       "      <td>100256545</td>\n",
       "      <td>NO</td>\n",
       "      <td>240805772</td>\n",
       "      <td>2022-03-30 20:41:52</td>\n",
       "    </tr>\n",
       "    <tr>\n",
       "      <th>2</th>\n",
       "      <td>100256545</td>\n",
       "      <td>NO</td>\n",
       "      <td>284987833</td>\n",
       "      <td>2022-11-17 17:21:46</td>\n",
       "    </tr>\n",
       "    <tr>\n",
       "      <th>3</th>\n",
       "      <td>100256545</td>\n",
       "      <td>NO</td>\n",
       "      <td>284987833</td>\n",
       "      <td>2022-11-17 17:34:47</td>\n",
       "    </tr>\n",
       "    <tr>\n",
       "      <th>4</th>\n",
       "      <td>100256545</td>\n",
       "      <td>NO</td>\n",
       "      <td>207410494</td>\n",
       "      <td>2022-02-12 17:05:53</td>\n",
       "    </tr>\n",
       "  </tbody>\n",
       "</table>\n",
       "</div>"
      ],
      "text/plain": [
       "         iid attrtype       akey                date\n",
       "0  100256545       NO  240805772 2022-03-30 20:40:21\n",
       "1  100256545       NO  240805772 2022-03-30 20:41:52\n",
       "2  100256545       NO  284987833 2022-11-17 17:21:46\n",
       "3  100256545       NO  284987833 2022-11-17 17:34:47\n",
       "4  100256545       NO  207410494 2022-02-12 17:05:53"
      ]
     },
     "execution_count": 15,
     "metadata": {},
     "output_type": "execute_result"
    }
   ],
   "source": [
    "df_h_datetime = df_h_merged\n",
    "df_h_datetime[\"creation\"] = pd.to_datetime(df_h_datetime['creation'], format='%Y%m%d%H%M%S')\n",
    "df_h_datetime.rename(columns = {\"creation\" : \"date\"}, inplace = True)\n",
    "df_h_datetime.head()"
   ]
  },
  {
   "cell_type": "markdown",
   "id": "44b281fb",
   "metadata": {},
   "source": [
    "# 4. Status, key und attrtype droppen für Transaktionsdaten, da redundant"
   ]
  },
  {
   "cell_type": "code",
   "execution_count": 16,
   "id": "c2dd0a18",
   "metadata": {},
   "outputs": [
    {
     "data": {
      "text/html": [
       "<div>\n",
       "<style scoped>\n",
       "    .dataframe tbody tr th:only-of-type {\n",
       "        vertical-align: middle;\n",
       "    }\n",
       "\n",
       "    .dataframe tbody tr th {\n",
       "        vertical-align: top;\n",
       "    }\n",
       "\n",
       "    .dataframe thead th {\n",
       "        text-align: right;\n",
       "    }\n",
       "</style>\n",
       "<table border=\"1\" class=\"dataframe\">\n",
       "  <thead>\n",
       "    <tr style=\"text-align: right;\">\n",
       "      <th></th>\n",
       "      <th>iid</th>\n",
       "      <th>pricetotal</th>\n",
       "      <th>date</th>\n",
       "    </tr>\n",
       "  </thead>\n",
       "  <tbody>\n",
       "    <tr>\n",
       "      <th>0</th>\n",
       "      <td>100279806</td>\n",
       "      <td>20.5</td>\n",
       "      <td>2022-06-30 11:17:59</td>\n",
       "    </tr>\n",
       "    <tr>\n",
       "      <th>1</th>\n",
       "      <td>100279806</td>\n",
       "      <td>25.0</td>\n",
       "      <td>2022-09-24 18:23:26</td>\n",
       "    </tr>\n",
       "    <tr>\n",
       "      <th>2</th>\n",
       "      <td>100279806</td>\n",
       "      <td>25.0</td>\n",
       "      <td>2022-09-24 18:23:26</td>\n",
       "    </tr>\n",
       "    <tr>\n",
       "      <th>3</th>\n",
       "      <td>100279806</td>\n",
       "      <td>28.9</td>\n",
       "      <td>2020-09-04 20:58:00</td>\n",
       "    </tr>\n",
       "    <tr>\n",
       "      <th>4</th>\n",
       "      <td>100279806</td>\n",
       "      <td>28.9</td>\n",
       "      <td>2020-09-04 20:58:00</td>\n",
       "    </tr>\n",
       "  </tbody>\n",
       "</table>\n",
       "</div>"
      ],
      "text/plain": [
       "         iid  pricetotal                date\n",
       "0  100279806        20.5 2022-06-30 11:17:59\n",
       "1  100279806        25.0 2022-09-24 18:23:26\n",
       "2  100279806        25.0 2022-09-24 18:23:26\n",
       "3  100279806        28.9 2020-09-04 20:58:00\n",
       "4  100279806        28.9 2020-09-04 20:58:00"
      ]
     },
     "execution_count": 16,
     "metadata": {},
     "output_type": "execute_result"
    }
   ],
   "source": [
    "df_t_ohne_redundanz = df_t_datetime[[\"iid\", \"pricetotal\", \"date\"]]\n",
    "df_t_ohne_redundanz.head()"
   ]
  },
  {
   "cell_type": "markdown",
   "id": "106c6092",
   "metadata": {},
   "source": [
    "# 5. #empfangene NL, #oeffnungen und oeffnungsrate zu df_h hinzufügen"
   ]
  },
  {
   "cell_type": "code",
   "execution_count": 17,
   "id": "f0de8d63",
   "metadata": {},
   "outputs": [
    {
     "data": {
      "text/html": [
       "<div>\n",
       "<style scoped>\n",
       "    .dataframe tbody tr th:only-of-type {\n",
       "        vertical-align: middle;\n",
       "    }\n",
       "\n",
       "    .dataframe tbody tr th {\n",
       "        vertical-align: top;\n",
       "    }\n",
       "\n",
       "    .dataframe thead th {\n",
       "        text-align: right;\n",
       "    }\n",
       "</style>\n",
       "<table border=\"1\" class=\"dataframe\">\n",
       "  <thead>\n",
       "    <tr style=\"text-align: right;\">\n",
       "      <th></th>\n",
       "      <th>iid</th>\n",
       "      <th>attrtype</th>\n",
       "      <th>akey</th>\n",
       "      <th>date</th>\n",
       "    </tr>\n",
       "  </thead>\n",
       "  <tbody>\n",
       "    <tr>\n",
       "      <th>0</th>\n",
       "      <td>100256545</td>\n",
       "      <td>NO</td>\n",
       "      <td>240805772</td>\n",
       "      <td>2022-03-30 20:40:21</td>\n",
       "    </tr>\n",
       "    <tr>\n",
       "      <th>1</th>\n",
       "      <td>100256545</td>\n",
       "      <td>NO</td>\n",
       "      <td>240805772</td>\n",
       "      <td>2022-03-30 20:41:52</td>\n",
       "    </tr>\n",
       "    <tr>\n",
       "      <th>2</th>\n",
       "      <td>100256545</td>\n",
       "      <td>NO</td>\n",
       "      <td>284987833</td>\n",
       "      <td>2022-11-17 17:21:46</td>\n",
       "    </tr>\n",
       "    <tr>\n",
       "      <th>3</th>\n",
       "      <td>100256545</td>\n",
       "      <td>NO</td>\n",
       "      <td>284987833</td>\n",
       "      <td>2022-11-17 17:34:47</td>\n",
       "    </tr>\n",
       "    <tr>\n",
       "      <th>4</th>\n",
       "      <td>100256545</td>\n",
       "      <td>NO</td>\n",
       "      <td>207410494</td>\n",
       "      <td>2022-02-12 17:05:53</td>\n",
       "    </tr>\n",
       "  </tbody>\n",
       "</table>\n",
       "</div>"
      ],
      "text/plain": [
       "         iid attrtype       akey                date\n",
       "0  100256545       NO  240805772 2022-03-30 20:40:21\n",
       "1  100256545       NO  240805772 2022-03-30 20:41:52\n",
       "2  100256545       NO  284987833 2022-11-17 17:21:46\n",
       "3  100256545       NO  284987833 2022-11-17 17:34:47\n",
       "4  100256545       NO  207410494 2022-02-12 17:05:53"
      ]
     },
     "execution_count": 17,
     "metadata": {},
     "output_type": "execute_result"
    }
   ],
   "source": [
    "df_h_bearbetiung5 = df_h_datetime\n",
    "df_h_bearbetiung5.head()"
   ]
  },
  {
   "cell_type": "markdown",
   "id": "62f6c685",
   "metadata": {},
   "source": [
    "#### 5.1 Anzahl Oeffnungen pro iid ermitteln"
   ]
  },
  {
   "cell_type": "code",
   "execution_count": 18,
   "id": "bcbc67c2",
   "metadata": {
    "scrolled": false
   },
   "outputs": [
    {
     "data": {
      "text/html": [
       "<div>\n",
       "<style scoped>\n",
       "    .dataframe tbody tr th:only-of-type {\n",
       "        vertical-align: middle;\n",
       "    }\n",
       "\n",
       "    .dataframe tbody tr th {\n",
       "        vertical-align: top;\n",
       "    }\n",
       "\n",
       "    .dataframe thead th {\n",
       "        text-align: right;\n",
       "    }\n",
       "</style>\n",
       "<table border=\"1\" class=\"dataframe\">\n",
       "  <thead>\n",
       "    <tr style=\"text-align: right;\">\n",
       "      <th></th>\n",
       "      <th>iid</th>\n",
       "      <th>#Oeffnungen</th>\n",
       "    </tr>\n",
       "  </thead>\n",
       "  <tbody>\n",
       "    <tr>\n",
       "      <th>0</th>\n",
       "      <td>100002747</td>\n",
       "      <td>5</td>\n",
       "    </tr>\n",
       "    <tr>\n",
       "      <th>1</th>\n",
       "      <td>100011333</td>\n",
       "      <td>28</td>\n",
       "    </tr>\n",
       "    <tr>\n",
       "      <th>2</th>\n",
       "      <td>100011954</td>\n",
       "      <td>65</td>\n",
       "    </tr>\n",
       "    <tr>\n",
       "      <th>3</th>\n",
       "      <td>100013945</td>\n",
       "      <td>3</td>\n",
       "    </tr>\n",
       "    <tr>\n",
       "      <th>4</th>\n",
       "      <td>100016146</td>\n",
       "      <td>19</td>\n",
       "    </tr>\n",
       "  </tbody>\n",
       "</table>\n",
       "</div>"
      ],
      "text/plain": [
       "         iid  #Oeffnungen\n",
       "0  100002747            5\n",
       "1  100011333           28\n",
       "2  100011954           65\n",
       "3  100013945            3\n",
       "4  100016146           19"
      ]
     },
     "execution_count": 18,
     "metadata": {},
     "output_type": "execute_result"
    }
   ],
   "source": [
    "df_h_oeffnungen = df_h_bearbetiung5[df_h_bearbetiung5[\"attrtype\"] == \"NO\"].groupby([\"iid\"]).agg(\"count\")\n",
    "df_h_oeffnungen = df_h_oeffnungen[\"attrtype\"].to_frame().reset_index().rename(columns = {\"attrtype\": \"#Oeffnungen\"})\n",
    "df_h_oeffnungen.head()"
   ]
  },
  {
   "cell_type": "markdown",
   "id": "4f4b4027",
   "metadata": {},
   "source": [
    "#### 5.2 Anzahl empfangene Newsletter pro iid ermitteln"
   ]
  },
  {
   "cell_type": "code",
   "execution_count": 19,
   "id": "8b0c0713",
   "metadata": {},
   "outputs": [
    {
     "data": {
      "text/html": [
       "<div>\n",
       "<style scoped>\n",
       "    .dataframe tbody tr th:only-of-type {\n",
       "        vertical-align: middle;\n",
       "    }\n",
       "\n",
       "    .dataframe tbody tr th {\n",
       "        vertical-align: top;\n",
       "    }\n",
       "\n",
       "    .dataframe thead th {\n",
       "        text-align: right;\n",
       "    }\n",
       "</style>\n",
       "<table border=\"1\" class=\"dataframe\">\n",
       "  <thead>\n",
       "    <tr style=\"text-align: right;\">\n",
       "      <th></th>\n",
       "      <th>iid</th>\n",
       "      <th>#empfangen</th>\n",
       "    </tr>\n",
       "  </thead>\n",
       "  <tbody>\n",
       "    <tr>\n",
       "      <th>0</th>\n",
       "      <td>100002747</td>\n",
       "      <td>36</td>\n",
       "    </tr>\n",
       "    <tr>\n",
       "      <th>1</th>\n",
       "      <td>100009615</td>\n",
       "      <td>42</td>\n",
       "    </tr>\n",
       "    <tr>\n",
       "      <th>2</th>\n",
       "      <td>100011333</td>\n",
       "      <td>65</td>\n",
       "    </tr>\n",
       "    <tr>\n",
       "      <th>3</th>\n",
       "      <td>100011954</td>\n",
       "      <td>57</td>\n",
       "    </tr>\n",
       "    <tr>\n",
       "      <th>4</th>\n",
       "      <td>100013175</td>\n",
       "      <td>35</td>\n",
       "    </tr>\n",
       "  </tbody>\n",
       "</table>\n",
       "</div>"
      ],
      "text/plain": [
       "         iid  #empfangen\n",
       "0  100002747          36\n",
       "1  100009615          42\n",
       "2  100011333          65\n",
       "3  100011954          57\n",
       "4  100013175          35"
      ]
     },
     "execution_count": 19,
     "metadata": {},
     "output_type": "execute_result"
    }
   ],
   "source": [
    "df_h_versendet = df_h_bearbetiung5[df_h_bearbetiung5[\"attrtype\"] == \"HY\"].groupby([\"iid\"]).agg(\"count\")\n",
    "df_h_versendet = df_h_versendet[\"attrtype\"].to_frame().reset_index().rename(columns = {\"attrtype\": \"#empfangen\"})\n",
    "df_h_versendet.head()"
   ]
  },
  {
   "cell_type": "markdown",
   "id": "261b799a",
   "metadata": {},
   "source": [
    "#### 5.3 #empfangen und #oeffungen in df überführen"
   ]
  },
  {
   "cell_type": "code",
   "execution_count": 20,
   "id": "aeb93e77",
   "metadata": {},
   "outputs": [
    {
     "data": {
      "text/html": [
       "<div>\n",
       "<style scoped>\n",
       "    .dataframe tbody tr th:only-of-type {\n",
       "        vertical-align: middle;\n",
       "    }\n",
       "\n",
       "    .dataframe tbody tr th {\n",
       "        vertical-align: top;\n",
       "    }\n",
       "\n",
       "    .dataframe thead th {\n",
       "        text-align: right;\n",
       "    }\n",
       "</style>\n",
       "<table border=\"1\" class=\"dataframe\">\n",
       "  <thead>\n",
       "    <tr style=\"text-align: right;\">\n",
       "      <th></th>\n",
       "      <th>iid</th>\n",
       "      <th>attrtype</th>\n",
       "      <th>akey</th>\n",
       "      <th>date</th>\n",
       "      <th>#Oeffnungen</th>\n",
       "      <th>#empfangen</th>\n",
       "      <th>oeffnungsrate</th>\n",
       "    </tr>\n",
       "  </thead>\n",
       "  <tbody>\n",
       "    <tr>\n",
       "      <th>0</th>\n",
       "      <td>100256545</td>\n",
       "      <td>NO</td>\n",
       "      <td>240805772</td>\n",
       "      <td>2022-03-30 20:40:21</td>\n",
       "      <td>331</td>\n",
       "      <td>136</td>\n",
       "      <td>2.433824</td>\n",
       "    </tr>\n",
       "    <tr>\n",
       "      <th>1</th>\n",
       "      <td>100256545</td>\n",
       "      <td>NO</td>\n",
       "      <td>240805772</td>\n",
       "      <td>2022-03-30 20:41:52</td>\n",
       "      <td>331</td>\n",
       "      <td>136</td>\n",
       "      <td>2.433824</td>\n",
       "    </tr>\n",
       "    <tr>\n",
       "      <th>2</th>\n",
       "      <td>100256545</td>\n",
       "      <td>NO</td>\n",
       "      <td>284987833</td>\n",
       "      <td>2022-11-17 17:21:46</td>\n",
       "      <td>331</td>\n",
       "      <td>136</td>\n",
       "      <td>2.433824</td>\n",
       "    </tr>\n",
       "    <tr>\n",
       "      <th>3</th>\n",
       "      <td>100256545</td>\n",
       "      <td>NO</td>\n",
       "      <td>284987833</td>\n",
       "      <td>2022-11-17 17:34:47</td>\n",
       "      <td>331</td>\n",
       "      <td>136</td>\n",
       "      <td>2.433824</td>\n",
       "    </tr>\n",
       "    <tr>\n",
       "      <th>4</th>\n",
       "      <td>100256545</td>\n",
       "      <td>NO</td>\n",
       "      <td>207410494</td>\n",
       "      <td>2022-02-12 17:05:53</td>\n",
       "      <td>331</td>\n",
       "      <td>136</td>\n",
       "      <td>2.433824</td>\n",
       "    </tr>\n",
       "  </tbody>\n",
       "</table>\n",
       "</div>"
      ],
      "text/plain": [
       "         iid attrtype       akey                date  #Oeffnungen  #empfangen  \\\n",
       "0  100256545       NO  240805772 2022-03-30 20:40:21          331         136   \n",
       "1  100256545       NO  240805772 2022-03-30 20:41:52          331         136   \n",
       "2  100256545       NO  284987833 2022-11-17 17:21:46          331         136   \n",
       "3  100256545       NO  284987833 2022-11-17 17:34:47          331         136   \n",
       "4  100256545       NO  207410494 2022-02-12 17:05:53          331         136   \n",
       "\n",
       "   oeffnungsrate  \n",
       "0       2.433824  \n",
       "1       2.433824  \n",
       "2       2.433824  \n",
       "3       2.433824  \n",
       "4       2.433824  "
      ]
     },
     "execution_count": 20,
     "metadata": {},
     "output_type": "execute_result"
    }
   ],
   "source": [
    "df_h_oeffnungsrate = pd.merge(df_h_datetime, df_h_oeffnungen, on = [\"iid\"])\n",
    "df_h_oeffnungsrate = pd.merge(df_h_oeffnungsrate, df_h_versendet, on = [\"iid\"])\n",
    "df_h_oeffnungsrate[\"oeffnungsrate\"] = df_h_oeffnungsrate[\"#Oeffnungen\"] / df_h_oeffnungsrate[\"#empfangen\"]\n",
    "df_h_oeffnungsrate.head()"
   ]
  },
  {
   "cell_type": "markdown",
   "id": "1c7d1265",
   "metadata": {},
   "source": [
    "# 6. Korrelation Öffnungsrate und Costumer Value von Kunden seit Einführung der EMS"
   ]
  },
  {
   "cell_type": "markdown",
   "id": "1fb83752",
   "metadata": {},
   "source": [
    "#### 6.1 Ermittlung des Einführungs-Datums der EMS anhand erster versandter NL"
   ]
  },
  {
   "cell_type": "code",
   "execution_count": 21,
   "id": "83ce899b",
   "metadata": {},
   "outputs": [
    {
     "data": {
      "text/plain": [
       "Timestamp('2020-04-02 14:00:03')"
      ]
     },
     "execution_count": 21,
     "metadata": {},
     "output_type": "execute_result"
    }
   ],
   "source": [
    "einfuehrung = pd.to_datetime(df_history_wofirstname[\"creation\"].min(), format='%Y%m%d%H%M%S')\n",
    "einfuehrung"
   ]
  },
  {
   "cell_type": "markdown",
   "id": "63f989a2",
   "metadata": {},
   "source": [
    "#### 6.2 Reduktion der Transdaten auf Daten nach Einführung der EMS"
   ]
  },
  {
   "cell_type": "code",
   "execution_count": 22,
   "id": "444e03a3",
   "metadata": {},
   "outputs": [
    {
     "data": {
      "text/html": [
       "<div>\n",
       "<style scoped>\n",
       "    .dataframe tbody tr th:only-of-type {\n",
       "        vertical-align: middle;\n",
       "    }\n",
       "\n",
       "    .dataframe tbody tr th {\n",
       "        vertical-align: top;\n",
       "    }\n",
       "\n",
       "    .dataframe thead th {\n",
       "        text-align: right;\n",
       "    }\n",
       "</style>\n",
       "<table border=\"1\" class=\"dataframe\">\n",
       "  <thead>\n",
       "    <tr style=\"text-align: right;\">\n",
       "      <th></th>\n",
       "      <th>iid</th>\n",
       "      <th>pricetotal</th>\n",
       "      <th>date</th>\n",
       "    </tr>\n",
       "  </thead>\n",
       "  <tbody>\n",
       "    <tr>\n",
       "      <th>0</th>\n",
       "      <td>100279806</td>\n",
       "      <td>20.5</td>\n",
       "      <td>2022-06-30 11:17:59</td>\n",
       "    </tr>\n",
       "    <tr>\n",
       "      <th>1</th>\n",
       "      <td>100279806</td>\n",
       "      <td>25.0</td>\n",
       "      <td>2022-09-24 18:23:26</td>\n",
       "    </tr>\n",
       "    <tr>\n",
       "      <th>2</th>\n",
       "      <td>100279806</td>\n",
       "      <td>25.0</td>\n",
       "      <td>2022-09-24 18:23:26</td>\n",
       "    </tr>\n",
       "    <tr>\n",
       "      <th>3</th>\n",
       "      <td>100279806</td>\n",
       "      <td>28.9</td>\n",
       "      <td>2020-09-04 20:58:00</td>\n",
       "    </tr>\n",
       "    <tr>\n",
       "      <th>4</th>\n",
       "      <td>100279806</td>\n",
       "      <td>28.9</td>\n",
       "      <td>2020-09-04 20:58:00</td>\n",
       "    </tr>\n",
       "  </tbody>\n",
       "</table>\n",
       "</div>"
      ],
      "text/plain": [
       "         iid  pricetotal                date\n",
       "0  100279806        20.5 2022-06-30 11:17:59\n",
       "1  100279806        25.0 2022-09-24 18:23:26\n",
       "2  100279806        25.0 2022-09-24 18:23:26\n",
       "3  100279806        28.9 2020-09-04 20:58:00\n",
       "4  100279806        28.9 2020-09-04 20:58:00"
      ]
     },
     "execution_count": 22,
     "metadata": {},
     "output_type": "execute_result"
    }
   ],
   "source": [
    "df_t_seit_einfuehrung = df_t_ohne_redundanz.query('date >= @einfuehrung')\n",
    "df_t_seit_einfuehrung.head()"
   ]
  },
  {
   "cell_type": "markdown",
   "id": "e8c0aa7c",
   "metadata": {},
   "source": [
    "#### 6.3 Ermittlung des Costumer Value pro iid"
   ]
  },
  {
   "cell_type": "code",
   "execution_count": 23,
   "id": "f47a5d2c",
   "metadata": {},
   "outputs": [
    {
     "data": {
      "text/html": [
       "<div>\n",
       "<style scoped>\n",
       "    .dataframe tbody tr th:only-of-type {\n",
       "        vertical-align: middle;\n",
       "    }\n",
       "\n",
       "    .dataframe tbody tr th {\n",
       "        vertical-align: top;\n",
       "    }\n",
       "\n",
       "    .dataframe thead th {\n",
       "        text-align: right;\n",
       "    }\n",
       "</style>\n",
       "<table border=\"1\" class=\"dataframe\">\n",
       "  <thead>\n",
       "    <tr style=\"text-align: right;\">\n",
       "      <th></th>\n",
       "      <th>iid</th>\n",
       "      <th>pricetotal</th>\n",
       "    </tr>\n",
       "  </thead>\n",
       "  <tbody>\n",
       "    <tr>\n",
       "      <th>0</th>\n",
       "      <td>100002747</td>\n",
       "      <td>155.0</td>\n",
       "    </tr>\n",
       "    <tr>\n",
       "      <th>1</th>\n",
       "      <td>100011333</td>\n",
       "      <td>172.0</td>\n",
       "    </tr>\n",
       "    <tr>\n",
       "      <th>2</th>\n",
       "      <td>100011954</td>\n",
       "      <td>397.8</td>\n",
       "    </tr>\n",
       "    <tr>\n",
       "      <th>3</th>\n",
       "      <td>100016146</td>\n",
       "      <td>22.0</td>\n",
       "    </tr>\n",
       "    <tr>\n",
       "      <th>4</th>\n",
       "      <td>100021341</td>\n",
       "      <td>145.0</td>\n",
       "    </tr>\n",
       "  </tbody>\n",
       "</table>\n",
       "</div>"
      ],
      "text/plain": [
       "         iid  pricetotal\n",
       "0  100002747       155.0\n",
       "1  100011333       172.0\n",
       "2  100011954       397.8\n",
       "3  100016146        22.0\n",
       "4  100021341       145.0"
      ]
     },
     "execution_count": 23,
     "metadata": {},
     "output_type": "execute_result"
    }
   ],
   "source": [
    "df_t_CV = df_t_seit_einfuehrung.groupby(['iid'])['pricetotal'].agg('sum').to_frame().reset_index()\n",
    "df_t_CV.head()"
   ]
  },
  {
   "cell_type": "markdown",
   "id": "ee556a5d",
   "metadata": {},
   "source": [
    "#### 6.4 Oeffnungsrate zu df mit CV hinzufügen"
   ]
  },
  {
   "cell_type": "code",
   "execution_count": 24,
   "id": "714bd952",
   "metadata": {},
   "outputs": [
    {
     "data": {
      "text/html": [
       "<div>\n",
       "<style scoped>\n",
       "    .dataframe tbody tr th:only-of-type {\n",
       "        vertical-align: middle;\n",
       "    }\n",
       "\n",
       "    .dataframe tbody tr th {\n",
       "        vertical-align: top;\n",
       "    }\n",
       "\n",
       "    .dataframe thead th {\n",
       "        text-align: right;\n",
       "    }\n",
       "</style>\n",
       "<table border=\"1\" class=\"dataframe\">\n",
       "  <thead>\n",
       "    <tr style=\"text-align: right;\">\n",
       "      <th></th>\n",
       "      <th>iid</th>\n",
       "      <th>pricetotal</th>\n",
       "      <th>oeffnungsrate</th>\n",
       "    </tr>\n",
       "  </thead>\n",
       "  <tbody>\n",
       "    <tr>\n",
       "      <th>0</th>\n",
       "      <td>100002747</td>\n",
       "      <td>155.0</td>\n",
       "      <td>0.138889</td>\n",
       "    </tr>\n",
       "    <tr>\n",
       "      <th>41</th>\n",
       "      <td>100011333</td>\n",
       "      <td>172.0</td>\n",
       "      <td>0.430769</td>\n",
       "    </tr>\n",
       "    <tr>\n",
       "      <th>134</th>\n",
       "      <td>100011954</td>\n",
       "      <td>397.8</td>\n",
       "      <td>1.140351</td>\n",
       "    </tr>\n",
       "    <tr>\n",
       "      <th>256</th>\n",
       "      <td>100016146</td>\n",
       "      <td>22.0</td>\n",
       "      <td>0.296875</td>\n",
       "    </tr>\n",
       "    <tr>\n",
       "      <th>339</th>\n",
       "      <td>100021341</td>\n",
       "      <td>145.0</td>\n",
       "      <td>0.272727</td>\n",
       "    </tr>\n",
       "  </tbody>\n",
       "</table>\n",
       "</div>"
      ],
      "text/plain": [
       "           iid  pricetotal  oeffnungsrate\n",
       "0    100002747       155.0       0.138889\n",
       "41   100011333       172.0       0.430769\n",
       "134  100011954       397.8       1.140351\n",
       "256  100016146        22.0       0.296875\n",
       "339  100021341       145.0       0.272727"
      ]
     },
     "execution_count": 24,
     "metadata": {},
     "output_type": "execute_result"
    }
   ],
   "source": [
    "df_h_oeffnungsrate_reduziert = df_h_oeffnungsrate[[\"iid\", \"oeffnungsrate\"]]\n",
    "df_korrelation = pd.merge(df_t_CV, df_h_oeffnungsrate_reduziert, on = [\"iid\"])\n",
    "df_korrelation = df_korrelation.drop_duplicates()\n",
    "df_korrelation.head()"
   ]
  },
  {
   "cell_type": "markdown",
   "id": "c67d3dae",
   "metadata": {},
   "source": [
    "#### 6.5 Berechnung der Korrelation"
   ]
  },
  {
   "cell_type": "code",
   "execution_count": 25,
   "id": "4e8ef01f",
   "metadata": {
    "scrolled": true
   },
   "outputs": [
    {
     "name": "stdout",
     "output_type": "stream",
     "text": [
      "Korrelation zwischen pricetotal und oeffnungsrate\n"
     ]
    },
    {
     "data": {
      "text/html": [
       "<div>\n",
       "<style scoped>\n",
       "    .dataframe tbody tr th:only-of-type {\n",
       "        vertical-align: middle;\n",
       "    }\n",
       "\n",
       "    .dataframe tbody tr th {\n",
       "        vertical-align: top;\n",
       "    }\n",
       "\n",
       "    .dataframe thead th {\n",
       "        text-align: right;\n",
       "    }\n",
       "</style>\n",
       "<table border=\"1\" class=\"dataframe\">\n",
       "  <thead>\n",
       "    <tr style=\"text-align: right;\">\n",
       "      <th></th>\n",
       "      <th>pricetotal</th>\n",
       "      <th>oeffnungsrate</th>\n",
       "    </tr>\n",
       "  </thead>\n",
       "  <tbody>\n",
       "    <tr>\n",
       "      <th>pricetotal</th>\n",
       "      <td>1.000000</td>\n",
       "      <td>0.057263</td>\n",
       "    </tr>\n",
       "    <tr>\n",
       "      <th>oeffnungsrate</th>\n",
       "      <td>0.057263</td>\n",
       "      <td>1.000000</td>\n",
       "    </tr>\n",
       "  </tbody>\n",
       "</table>\n",
       "</div>"
      ],
      "text/plain": [
       "               pricetotal  oeffnungsrate\n",
       "pricetotal       1.000000       0.057263\n",
       "oeffnungsrate    0.057263       1.000000"
      ]
     },
     "execution_count": 25,
     "metadata": {},
     "output_type": "execute_result"
    }
   ],
   "source": [
    "correlation = df_korrelation[[\"pricetotal\", \"oeffnungsrate\"]].corr(method='pearson')\n",
    "print(\"Korrelation zwischen pricetotal und oeffnungsrate\")\n",
    "correlation\n",
    "\n",
    "#sns.heatmap(df_korrelation[[\"pricetotal\", \"oeffnungsrate\"]].corr(method='pearson'),annot=True)"
   ]
  },
  {
   "cell_type": "markdown",
   "id": "a5eac591",
   "metadata": {},
   "source": [
    "# 7. Korrelation Öffnungsrate und Costumer Value von Kunden seit Einführung der EMS mit standardisierten Variablen"
   ]
  },
  {
   "cell_type": "code",
   "execution_count": 26,
   "id": "0931f9c1",
   "metadata": {},
   "outputs": [
    {
     "data": {
      "text/html": [
       "<div>\n",
       "<style scoped>\n",
       "    .dataframe tbody tr th:only-of-type {\n",
       "        vertical-align: middle;\n",
       "    }\n",
       "\n",
       "    .dataframe tbody tr th {\n",
       "        vertical-align: top;\n",
       "    }\n",
       "\n",
       "    .dataframe thead th {\n",
       "        text-align: right;\n",
       "    }\n",
       "</style>\n",
       "<table border=\"1\" class=\"dataframe\">\n",
       "  <thead>\n",
       "    <tr style=\"text-align: right;\">\n",
       "      <th></th>\n",
       "      <th>iid</th>\n",
       "      <th>pricetotal</th>\n",
       "      <th>oeffnungsrate</th>\n",
       "      <th>pricetotal_standard</th>\n",
       "      <th>oeffnungsrate_standard</th>\n",
       "    </tr>\n",
       "  </thead>\n",
       "  <tbody>\n",
       "    <tr>\n",
       "      <th>0</th>\n",
       "      <td>100002747</td>\n",
       "      <td>155.0</td>\n",
       "      <td>0.138889</td>\n",
       "      <td>0.396592</td>\n",
       "      <td>-0.677056</td>\n",
       "    </tr>\n",
       "    <tr>\n",
       "      <th>41</th>\n",
       "      <td>100011333</td>\n",
       "      <td>172.0</td>\n",
       "      <td>0.430769</td>\n",
       "      <td>0.516634</td>\n",
       "      <td>-0.575405</td>\n",
       "    </tr>\n",
       "    <tr>\n",
       "      <th>134</th>\n",
       "      <td>100011954</td>\n",
       "      <td>397.8</td>\n",
       "      <td>1.140351</td>\n",
       "      <td>2.111075</td>\n",
       "      <td>-0.328284</td>\n",
       "    </tr>\n",
       "    <tr>\n",
       "      <th>256</th>\n",
       "      <td>100016146</td>\n",
       "      <td>22.0</td>\n",
       "      <td>0.296875</td>\n",
       "      <td>-0.542560</td>\n",
       "      <td>-0.622035</td>\n",
       "    </tr>\n",
       "    <tr>\n",
       "      <th>339</th>\n",
       "      <td>100021341</td>\n",
       "      <td>145.0</td>\n",
       "      <td>0.272727</td>\n",
       "      <td>0.325979</td>\n",
       "      <td>-0.630445</td>\n",
       "    </tr>\n",
       "  </tbody>\n",
       "</table>\n",
       "</div>"
      ],
      "text/plain": [
       "           iid  pricetotal  oeffnungsrate  pricetotal_standard  \\\n",
       "0    100002747       155.0       0.138889             0.396592   \n",
       "41   100011333       172.0       0.430769             0.516634   \n",
       "134  100011954       397.8       1.140351             2.111075   \n",
       "256  100016146        22.0       0.296875            -0.542560   \n",
       "339  100021341       145.0       0.272727             0.325979   \n",
       "\n",
       "     oeffnungsrate_standard  \n",
       "0                 -0.677056  \n",
       "41                -0.575405  \n",
       "134               -0.328284  \n",
       "256               -0.622035  \n",
       "339               -0.630445  "
      ]
     },
     "execution_count": 26,
     "metadata": {},
     "output_type": "execute_result"
    }
   ],
   "source": [
    "df_korrelation[[\"pricetotal_standard\",\"oeffnungsrate_standard\"]] =\\\n",
    "            (df_korrelation[[\"pricetotal\",\"oeffnungsrate\"]] - df_korrelation[[\"pricetotal\",\"oeffnungsrate\"]].mean())\\\n",
    "            /df_korrelation[[\"pricetotal\",\"oeffnungsrate\"]].std()\n",
    "df_korrelation.head()"
   ]
  },
  {
   "cell_type": "code",
   "execution_count": 27,
   "id": "77b70d96",
   "metadata": {},
   "outputs": [
    {
     "name": "stdout",
     "output_type": "stream",
     "text": [
      "Korrelation zwischen pricetotal und oeffnungsrate\n"
     ]
    },
    {
     "data": {
      "text/plain": [
       "0.057262822673302495"
      ]
     },
     "execution_count": 27,
     "metadata": {},
     "output_type": "execute_result"
    }
   ],
   "source": [
    "corr = df_korrelation['pricetotal_standard'].corr(df_korrelation['oeffnungsrate_standard'])\n",
    "print(\"Korrelation zwischen pricetotal und oeffnungsrate\")\n",
    "corr"
   ]
  },
  {
   "cell_type": "markdown",
   "id": "c3626a77",
   "metadata": {},
   "source": [
    "# 8. Betrachtung der Korrelation für verschiedene Gruppen von Kunden (Einteilung über den CV der vorangegegangenen 5 Jahren)\n",
    "#### Idee: die geringe Korrelation hat möglicherweise damit zu tun, dass es viele \"Einmalkunden\" gibt"
   ]
  },
  {
   "cell_type": "markdown",
   "id": "6ee147aa",
   "metadata": {},
   "source": [
    "#### 8.1 Hinzufügen einer Spalte \"CV_letzte_5_jahre\" zu den trans df"
   ]
  },
  {
   "cell_type": "code",
   "execution_count": 28,
   "id": "95d26ece",
   "metadata": {},
   "outputs": [
    {
     "data": {
      "text/html": [
       "<div>\n",
       "<style scoped>\n",
       "    .dataframe tbody tr th:only-of-type {\n",
       "        vertical-align: middle;\n",
       "    }\n",
       "\n",
       "    .dataframe tbody tr th {\n",
       "        vertical-align: top;\n",
       "    }\n",
       "\n",
       "    .dataframe thead th {\n",
       "        text-align: right;\n",
       "    }\n",
       "</style>\n",
       "<table border=\"1\" class=\"dataframe\">\n",
       "  <thead>\n",
       "    <tr style=\"text-align: right;\">\n",
       "      <th></th>\n",
       "      <th>iid</th>\n",
       "      <th>pricetotal</th>\n",
       "      <th>date</th>\n",
       "    </tr>\n",
       "  </thead>\n",
       "  <tbody>\n",
       "    <tr>\n",
       "      <th>16</th>\n",
       "      <td>100520650</td>\n",
       "      <td>11.4</td>\n",
       "      <td>2020-03-02 10:00:00</td>\n",
       "    </tr>\n",
       "    <tr>\n",
       "      <th>22</th>\n",
       "      <td>100520650</td>\n",
       "      <td>18.9</td>\n",
       "      <td>2016-11-04 14:00:05</td>\n",
       "    </tr>\n",
       "    <tr>\n",
       "      <th>23</th>\n",
       "      <td>100520650</td>\n",
       "      <td>18.9</td>\n",
       "      <td>2017-03-09 10:30:00</td>\n",
       "    </tr>\n",
       "    <tr>\n",
       "      <th>24</th>\n",
       "      <td>100520650</td>\n",
       "      <td>20.6</td>\n",
       "      <td>2017-04-22 16:34:46</td>\n",
       "    </tr>\n",
       "    <tr>\n",
       "      <th>25</th>\n",
       "      <td>100520650</td>\n",
       "      <td>18.0</td>\n",
       "      <td>2017-04-22 16:34:46</td>\n",
       "    </tr>\n",
       "  </tbody>\n",
       "</table>\n",
       "</div>"
      ],
      "text/plain": [
       "          iid  pricetotal                date\n",
       "16  100520650        11.4 2020-03-02 10:00:00\n",
       "22  100520650        18.9 2016-11-04 14:00:05\n",
       "23  100520650        18.9 2017-03-09 10:30:00\n",
       "24  100520650        20.6 2017-04-22 16:34:46\n",
       "25  100520650        18.0 2017-04-22 16:34:46"
      ]
     },
     "execution_count": 28,
     "metadata": {},
     "output_type": "execute_result"
    }
   ],
   "source": [
    "datum_vor_5_jahren = einfuehrung - timedelta(days=365*5)\n",
    "df_t_5_Jahre_davor = df_t_ohne_redundanz.query('@datum_vor_5_jahren <= date <= @einfuehrung')\n",
    "df_t_5_Jahre_davor.head()"
   ]
  },
  {
   "cell_type": "code",
   "execution_count": 29,
   "id": "bbd6704e",
   "metadata": {},
   "outputs": [
    {
     "data": {
      "text/html": [
       "<div>\n",
       "<style scoped>\n",
       "    .dataframe tbody tr th:only-of-type {\n",
       "        vertical-align: middle;\n",
       "    }\n",
       "\n",
       "    .dataframe tbody tr th {\n",
       "        vertical-align: top;\n",
       "    }\n",
       "\n",
       "    .dataframe thead th {\n",
       "        text-align: right;\n",
       "    }\n",
       "</style>\n",
       "<table border=\"1\" class=\"dataframe\">\n",
       "  <thead>\n",
       "    <tr style=\"text-align: right;\">\n",
       "      <th></th>\n",
       "      <th>iid</th>\n",
       "      <th>CV_letzte_5_jahre</th>\n",
       "    </tr>\n",
       "  </thead>\n",
       "  <tbody>\n",
       "    <tr>\n",
       "      <th>0</th>\n",
       "      <td>100009615</td>\n",
       "      <td>131.6</td>\n",
       "    </tr>\n",
       "    <tr>\n",
       "      <th>1</th>\n",
       "      <td>100011954</td>\n",
       "      <td>763.6</td>\n",
       "    </tr>\n",
       "    <tr>\n",
       "      <th>2</th>\n",
       "      <td>100013945</td>\n",
       "      <td>74.7</td>\n",
       "    </tr>\n",
       "    <tr>\n",
       "      <th>3</th>\n",
       "      <td>100017834</td>\n",
       "      <td>15.0</td>\n",
       "    </tr>\n",
       "    <tr>\n",
       "      <th>4</th>\n",
       "      <td>100022607</td>\n",
       "      <td>41.0</td>\n",
       "    </tr>\n",
       "  </tbody>\n",
       "</table>\n",
       "</div>"
      ],
      "text/plain": [
       "         iid  CV_letzte_5_jahre\n",
       "0  100009615              131.6\n",
       "1  100011954              763.6\n",
       "2  100013945               74.7\n",
       "3  100017834               15.0\n",
       "4  100022607               41.0"
      ]
     },
     "execution_count": 29,
     "metadata": {},
     "output_type": "execute_result"
    }
   ],
   "source": [
    "df_t_5_Jahre_davor_CV = df_t_5_Jahre_davor.groupby(['iid'])['pricetotal'].agg('sum').to_frame().reset_index()\n",
    "df_t_5_Jahre_davor_CV.rename(columns = {\"pricetotal\":\"CV_letzte_5_jahre\"}, inplace = True)\n",
    "df_t_5_Jahre_davor_CV.head()"
   ]
  },
  {
   "cell_type": "code",
   "execution_count": 30,
   "id": "b852df69",
   "metadata": {},
   "outputs": [
    {
     "data": {
      "text/html": [
       "<div>\n",
       "<style scoped>\n",
       "    .dataframe tbody tr th:only-of-type {\n",
       "        vertical-align: middle;\n",
       "    }\n",
       "\n",
       "    .dataframe tbody tr th {\n",
       "        vertical-align: top;\n",
       "    }\n",
       "\n",
       "    .dataframe thead th {\n",
       "        text-align: right;\n",
       "    }\n",
       "</style>\n",
       "<table border=\"1\" class=\"dataframe\">\n",
       "  <thead>\n",
       "    <tr style=\"text-align: right;\">\n",
       "      <th></th>\n",
       "      <th>iid</th>\n",
       "      <th>pricetotal</th>\n",
       "      <th>oeffnungsrate</th>\n",
       "      <th>CV_letzte_5_jahre</th>\n",
       "    </tr>\n",
       "  </thead>\n",
       "  <tbody>\n",
       "    <tr>\n",
       "      <th>0</th>\n",
       "      <td>100011954</td>\n",
       "      <td>397.8</td>\n",
       "      <td>1.140351</td>\n",
       "      <td>763.6</td>\n",
       "    </tr>\n",
       "    <tr>\n",
       "      <th>1</th>\n",
       "      <td>100046320</td>\n",
       "      <td>119.7</td>\n",
       "      <td>0.061224</td>\n",
       "      <td>128.4</td>\n",
       "    </tr>\n",
       "    <tr>\n",
       "      <th>2</th>\n",
       "      <td>100057001</td>\n",
       "      <td>126.9</td>\n",
       "      <td>1.666667</td>\n",
       "      <td>18.0</td>\n",
       "    </tr>\n",
       "    <tr>\n",
       "      <th>3</th>\n",
       "      <td>100057363</td>\n",
       "      <td>103.5</td>\n",
       "      <td>0.695652</td>\n",
       "      <td>50.0</td>\n",
       "    </tr>\n",
       "    <tr>\n",
       "      <th>4</th>\n",
       "      <td>100057681</td>\n",
       "      <td>1007.6</td>\n",
       "      <td>0.636364</td>\n",
       "      <td>62.0</td>\n",
       "    </tr>\n",
       "  </tbody>\n",
       "</table>\n",
       "</div>"
      ],
      "text/plain": [
       "         iid  pricetotal  oeffnungsrate  CV_letzte_5_jahre\n",
       "0  100011954       397.8       1.140351              763.6\n",
       "1  100046320       119.7       0.061224              128.4\n",
       "2  100057001       126.9       1.666667               18.0\n",
       "3  100057363       103.5       0.695652               50.0\n",
       "4  100057681      1007.6       0.636364               62.0"
      ]
     },
     "execution_count": 30,
     "metadata": {},
     "output_type": "execute_result"
    }
   ],
   "source": [
    "df_t_5_Jahre_davor_CV = pd.merge(df_korrelation[[\"iid\", \"pricetotal\", \"oeffnungsrate\"]], df_t_5_Jahre_davor_CV, on = [\"iid\"])\n",
    "df_t_5_Jahre_davor_CV.head()"
   ]
  },
  {
   "cell_type": "markdown",
   "id": "457d5486",
   "metadata": {},
   "source": [
    "#### 8.3 Korrelation in Abhängigkeit von CV"
   ]
  },
  {
   "cell_type": "code",
   "execution_count": 31,
   "id": "033415fa",
   "metadata": {},
   "outputs": [
    {
     "data": {
      "text/plain": [
       "<AxesSubplot:xlabel='obergrenze'>"
      ]
     },
     "execution_count": 31,
     "metadata": {},
     "output_type": "execute_result"
    },
    {
     "data": {
      "image/png": "[encoded data removed]",
      "text/plain": [
       "<Figure size 640x480 with 1 Axes>"
      ]
     },
     "metadata": {},
     "output_type": "display_data"
    }
   ],
   "source": [
    "# Erstelle leeren DataFrame\n",
    "df_korrelation_mit_CV_davor_zusammen = pd.DataFrame()\n",
    "# Liste zum Sammeln der neuen Zeilen\n",
    "rows = []\n",
    "\n",
    "for i in range(40):\n",
    "    schritte = 40\n",
    "    darunter = schritte * i\n",
    "    darüber = schritte * (i + 1)\n",
    "    df_korrelation_mit_CV_davor = df_t_5_Jahre_davor_CV.query(\"@darunter <= CV_letzte_5_jahre <= @darüber\")\n",
    "    corr = df_korrelation_mit_CV_davor['pricetotal'].corr(df_korrelation_mit_CV_davor['oeffnungsrate'])\n",
    "    data = {'obergrenze': darüber, 'corr': corr}\n",
    "    rows.append(data)\n",
    "\n",
    "df_korrelation_mit_CV_davor_zusammen = pd.DataFrame(rows)\n",
    "df_korrelation_mit_CV_davor_zusammen.plot(x = \"obergrenze\", y = \"corr\")"
   ]
  },
  {
   "cell_type": "code",
   "execution_count": 32,
   "id": "3b59b54e",
   "metadata": {},
   "outputs": [
    {
     "data": {
      "text/plain": [
       "<AxesSubplot:xlabel='obergrenze'>"
      ]
     },
     "execution_count": 32,
     "metadata": {},
     "output_type": "execute_result"
    },
    {
     "data": {
      "image/png": "[encoded data removed]",
      "text/plain": [
       "<Figure size 640x480 with 1 Axes>"
      ]
     },
     "metadata": {},
     "output_type": "display_data"
    }
   ],
   "source": [
    "# Erstelle leeren DataFrame\n",
    "df_korrelation_pValue_mit_CV_davor_zusammen = pd.DataFrame()\n",
    "# Liste zum Sammeln der neuen Zeilen\n",
    "rows = []\n",
    "\n",
    "for i in range(10):\n",
    "    schritte = 100\n",
    "    darunter = schritte * i\n",
    "    darüber = schritte * (i + 1)\n",
    "    df_korrelation_mit_CV_davor = df_t_5_Jahre_davor_CV.query(\"@darunter <= CV_letzte_5_jahre <= @darüber\")\n",
    "    r, p_value = pearsonr(df_korrelation_mit_CV_davor['pricetotal'], df_korrelation_mit_CV_davor['oeffnungsrate'])\n",
    "    data = {'obergrenze': darüber, 'corr': r, \"p_value\": p_value}\n",
    "    rows.append(data)\n",
    "\n",
    "df_korrelation_pValue_mit_CV_davor_zusammen = pd.DataFrame(rows)\n",
    "df_korrelation_pValue_mit_CV_davor_zusammen.plot(x = \"obergrenze\", y = [\"corr\", \"p_value\"])"
   ]
  },
  {
   "cell_type": "code",
   "execution_count": 33,
   "id": "d23f108a",
   "metadata": {},
   "outputs": [
    {
     "data": {
      "text/plain": [
       "array([[<AxesSubplot:title={'center':'iid'}>,\n",
       "        <AxesSubplot:title={'center':'pricetotal'}>],\n",
       "       [<AxesSubplot:title={'center':'oeffnungsrate'}>,\n",
       "        <AxesSubplot:title={'center':'CV_letzte_5_jahre'}>]], dtype=object)"
      ]
     },
     "execution_count": 33,
     "metadata": {},
     "output_type": "execute_result"
    },
    {
     "data": {
      "image/png": "[encoded data removed]",
      "text/plain": [
       "<Figure size 640x480 with 4 Axes>"
      ]
     },
     "metadata": {},
     "output_type": "display_data"
    }
   ],
   "source": [
    "df_t_5_Jahre_davor_CV[df_t_5_Jahre_davor_CV[\"CV_letzte_5_jahre\"] < 2000].hist(bins = 100)"
   ]
  },
  {
   "cell_type": "markdown",
   "id": "1e90adb6",
   "metadata": {},
   "source": [
    "#### 8.5 Verteilung von pricetotal in Abhängigkeit von voherigen CV"
   ]
  },
  {
   "cell_type": "code",
   "execution_count": 34,
   "id": "f68c0c5b",
   "metadata": {},
   "outputs": [
    {
     "data": {
      "image/png": "[encoded data removed]",
      "text/plain": [
       "<Figure size 1500x600 with 10 Axes>"
      ]
     },
     "metadata": {},
     "output_type": "display_data"
    }
   ],
   "source": [
    "fig, axs = plt.subplots(2, 5, figsize=(15, 6), tight_layout=True)\n",
    "axs = axs.ravel()\n",
    "\n",
    "for i in range(10):\n",
    "    schritte = 100\n",
    "    darunter = schritte * i\n",
    "    darüber = schritte * (i + 1)\n",
    "    axs[i].hist(df_t_5_Jahre_davor_CV.query(\"@darunter <= CV_letzte_5_jahre <= @darüber and pricetotal <= 1000\")\\\n",
    "                [\"pricetotal\"], bins = 60)\n",
    "    axs[i].set_xlabel(darüber)\n",
    "    axs[i].set_ylabel('Frequency')\n",
    "plt.show()"
   ]
  },
  {
   "cell_type": "code",
   "execution_count": null,
   "id": "26f12864",
   "metadata": {},
   "outputs": [],
   "source": []
  },
  {
   "cell_type": "code",
   "execution_count": null,
   "id": "f31e4f2a",
   "metadata": {},
   "outputs": [],
   "source": []
  },
  {
   "cell_type": "code",
   "execution_count": null,
   "id": "bf7e7636",
   "metadata": {},
   "outputs": [],
   "source": []
  },
  {
   "cell_type": "code",
   "execution_count": null,
   "id": "2a6802d1",
   "metadata": {},
   "outputs": [],
   "source": []
  },
  {
   "cell_type": "code",
   "execution_count": null,
   "id": "92acab0b",
   "metadata": {},
   "outputs": [],
   "source": []
  },
  {
   "cell_type": "code",
   "execution_count": null,
   "id": "19c84f2f",
   "metadata": {},
   "outputs": [],
   "source": []
  },
  {
   "cell_type": "code",
   "execution_count": null,
   "id": "103eed17",
   "metadata": {},
   "outputs": [],
   "source": []
  },
  {
   "cell_type": "code",
   "execution_count": null,
   "id": "121e2711",
   "metadata": {},
   "outputs": [],
   "source": []
  }
 ],
 "metadata": {
  "kernelspec": {
   "display_name": "Python 3 (ipykernel)",
   "language": "python",
   "name": "python3"
  },
  "language_info": {
   "codemirror_mode": {
    "name": "ipython",
    "version": 3
   },
   "file_extension": ".py",
   "mimetype": "text/x-python",
   "name": "python",
   "nbconvert_exporter": "python",
   "pygments_lexer": "ipython3",
   "version": "3.9.13"
  }
 },
 "nbformat": 4,
 "nbformat_minor": 5
}
