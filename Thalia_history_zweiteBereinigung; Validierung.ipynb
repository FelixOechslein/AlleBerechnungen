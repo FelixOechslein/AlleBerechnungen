{
 "cells": [
  {
   "cell_type": "code",
   "execution_count": 1,
   "id": "6770a3c7",
   "metadata": {},
   "outputs": [],
   "source": [
    "import pandas as pd\n",
    "import numpy as np\n",
    "import matplotlib.pyplot as plt\n",
    "import scipy.stats as stats\n",
    "import math\n",
    "import seaborn as sns\n",
    "from datetime import datetime, timedelta\n",
    "from scipy.stats import pearsonr\n",
    "from scipy.stats import kendalltau\n",
    "from scipy.stats import spearmanr\n",
    "import os"
   ]
  },
  {
   "cell_type": "code",
   "execution_count": 2,
   "id": "1e6e2ca6",
   "metadata": {},
   "outputs": [],
   "source": [
    "df_history = pd.read_csv(\"C:/Users/felix.oechslein/Desktop/Analysen Thalia, Mai/verarbeitete_daten/\"\n",
    "                                    \"Thalia_history_ersteBereinigung.csv\")"
   ]
  },
  {
   "cell_type": "code",
   "execution_count": 3,
   "id": "de01735f",
   "metadata": {},
   "outputs": [],
   "source": [
    "df_relevante_iids = pd.read_csv(\"C:/Users/felix.oechslein/Desktop/Analysen Thalia, Mai/verarbeitete_daten/\" +\n",
    "                                    \"Thalia_transactions_zweiteBereinigung_iids_Validierung.csv\")"
   ]
  },
  {
   "cell_type": "markdown",
   "id": "78806709",
   "metadata": {},
   "source": [
    "##### Relevante Kunden und Hist mergen"
   ]
  },
  {
   "cell_type": "code",
   "execution_count": 4,
   "id": "4618c5d5",
   "metadata": {
    "scrolled": true
   },
   "outputs": [
    {
     "data": {
      "text/html": [
       "<div>\n",
       "<style scoped>\n",
       "    .dataframe tbody tr th:only-of-type {\n",
       "        vertical-align: middle;\n",
       "    }\n",
       "\n",
       "    .dataframe tbody tr th {\n",
       "        vertical-align: top;\n",
       "    }\n",
       "\n",
       "    .dataframe thead th {\n",
       "        text-align: right;\n",
       "    }\n",
       "</style>\n",
       "<table border=\"1\" class=\"dataframe\">\n",
       "  <thead>\n",
       "    <tr style=\"text-align: right;\">\n",
       "      <th></th>\n",
       "      <th>iid</th>\n",
       "      <th>attrtype</th>\n",
       "      <th>text</th>\n",
       "      <th>month_count</th>\n",
       "    </tr>\n",
       "  </thead>\n",
       "  <tbody>\n",
       "    <tr>\n",
       "      <th>0</th>\n",
       "      <td>100011954</td>\n",
       "      <td>HY</td>\n",
       "      <td>|msg=NL_Mai_1|subject=St%C3%BCck+der+Stunde%3A...</td>\n",
       "      <td>0</td>\n",
       "    </tr>\n",
       "    <tr>\n",
       "      <th>1</th>\n",
       "      <td>100011954</td>\n",
       "      <td>HY</td>\n",
       "      <td>|msg=NL_Mai_2|subject=Online+Premiere+%22Kabal...</td>\n",
       "      <td>0</td>\n",
       "    </tr>\n",
       "    <tr>\n",
       "      <th>2</th>\n",
       "      <td>100011954</td>\n",
       "      <td>HY</td>\n",
       "      <td>|msg=NL_Corona_1|subject=Sondernewsletter%3A+J...</td>\n",
       "      <td>1</td>\n",
       "    </tr>\n",
       "    <tr>\n",
       "      <th>3</th>\n",
       "      <td>100011954</td>\n",
       "      <td>HY</td>\n",
       "      <td>|msg=NL_Programm_Spielzeit20_21|subject=Das+Pr...</td>\n",
       "      <td>1</td>\n",
       "    </tr>\n",
       "    <tr>\n",
       "      <th>4</th>\n",
       "      <td>100011954</td>\n",
       "      <td>HY</td>\n",
       "      <td>|msg=NL_Abschluss Saison 19_20|subject=Zum+End...</td>\n",
       "      <td>1</td>\n",
       "    </tr>\n",
       "  </tbody>\n",
       "</table>\n",
       "</div>"
      ],
      "text/plain": [
       "         iid attrtype                                               text  \\\n",
       "0  100011954       HY  |msg=NL_Mai_1|subject=St%C3%BCck+der+Stunde%3A...   \n",
       "1  100011954       HY  |msg=NL_Mai_2|subject=Online+Premiere+%22Kabal...   \n",
       "2  100011954       HY  |msg=NL_Corona_1|subject=Sondernewsletter%3A+J...   \n",
       "3  100011954       HY  |msg=NL_Programm_Spielzeit20_21|subject=Das+Pr...   \n",
       "4  100011954       HY  |msg=NL_Abschluss Saison 19_20|subject=Zum+End...   \n",
       "\n",
       "   month_count  \n",
       "0            0  \n",
       "1            0  \n",
       "2            1  \n",
       "3            1  \n",
       "4            1  "
      ]
     },
     "execution_count": 4,
     "metadata": {},
     "output_type": "execute_result"
    }
   ],
   "source": [
    "df_h = pd.merge(df_history, df_relevante_iids, on = [\"iid\"])\n",
    "df_h[[\"iid\",\"attrtype\", \"text\", \"month_count\"]].head(5)"
   ]
  },
  {
   "cell_type": "code",
   "execution_count": 5,
   "id": "820692f0",
   "metadata": {},
   "outputs": [
    {
     "data": {
      "text/html": [
       "<div>\n",
       "<style scoped>\n",
       "    .dataframe tbody tr th:only-of-type {\n",
       "        vertical-align: middle;\n",
       "    }\n",
       "\n",
       "    .dataframe tbody tr th {\n",
       "        vertical-align: top;\n",
       "    }\n",
       "\n",
       "    .dataframe thead th {\n",
       "        text-align: right;\n",
       "    }\n",
       "</style>\n",
       "<table border=\"1\" class=\"dataframe\">\n",
       "  <thead>\n",
       "    <tr style=\"text-align: right;\">\n",
       "      <th></th>\n",
       "      <th>iid</th>\n",
       "      <th>attrtype</th>\n",
       "      <th>month_count</th>\n",
       "    </tr>\n",
       "  </thead>\n",
       "  <tbody>\n",
       "    <tr>\n",
       "      <th>0</th>\n",
       "      <td>100011954</td>\n",
       "      <td>HY</td>\n",
       "      <td>0</td>\n",
       "    </tr>\n",
       "    <tr>\n",
       "      <th>1</th>\n",
       "      <td>100011954</td>\n",
       "      <td>HY</td>\n",
       "      <td>0</td>\n",
       "    </tr>\n",
       "    <tr>\n",
       "      <th>2</th>\n",
       "      <td>100011954</td>\n",
       "      <td>HY</td>\n",
       "      <td>1</td>\n",
       "    </tr>\n",
       "    <tr>\n",
       "      <th>3</th>\n",
       "      <td>100011954</td>\n",
       "      <td>HY</td>\n",
       "      <td>1</td>\n",
       "    </tr>\n",
       "    <tr>\n",
       "      <th>4</th>\n",
       "      <td>100011954</td>\n",
       "      <td>HY</td>\n",
       "      <td>1</td>\n",
       "    </tr>\n",
       "  </tbody>\n",
       "</table>\n",
       "</div>"
      ],
      "text/plain": [
       "         iid attrtype  month_count\n",
       "0  100011954       HY            0\n",
       "1  100011954       HY            0\n",
       "2  100011954       HY            1\n",
       "3  100011954       HY            1\n",
       "4  100011954       HY            1"
      ]
     },
     "execution_count": 5,
     "metadata": {},
     "output_type": "execute_result"
    }
   ],
   "source": [
    "df_h[[\"iid\",\"attrtype\", \"month_count\"]].head(5)"
   ]
  },
  {
   "cell_type": "markdown",
   "id": "095bfd34",
   "metadata": {},
   "source": [
    "##### Erstellung des \"df_neueSpalte\" für die Betrachtung sämtlicher Infos zwischen den \"|\""
   ]
  },
  {
   "cell_type": "code",
   "execution_count": 6,
   "id": "d4d529e2",
   "metadata": {},
   "outputs": [],
   "source": [
    "neueSpalten = [ line.strip().split('|') for line in df_h[\"text\"] ]"
   ]
  },
  {
   "cell_type": "markdown",
   "id": "001c9624",
   "metadata": {},
   "source": [
    "##### Ein neues DataFrame df_user_agent und eine neue Spalte \"User agent\", die noch sämtliche Informationen danach enthält"
   ]
  },
  {
   "cell_type": "code",
   "execution_count": 7,
   "id": "30439998",
   "metadata": {},
   "outputs": [],
   "source": [
    "df_user_agent = pd.DataFrame()\n",
    "df_user_agent[\"User Agent\"] = df_h[\"text\"].str.extract(r'userAgent=(.*)', expand=False)\n",
    "df_user_agent[\"User Agent\"] = df_user_agent[\"User Agent\"].apply(lambda zeile: zeile.split(\"|\")[0] if isinstance(zeile, str) else zeile)"
   ]
  },
  {
   "cell_type": "code",
   "execution_count": 8,
   "id": "8fccb272",
   "metadata": {},
   "outputs": [
    {
     "data": {
      "text/html": [
       "<div>\n",
       "<style scoped>\n",
       "    .dataframe tbody tr th:only-of-type {\n",
       "        vertical-align: middle;\n",
       "    }\n",
       "\n",
       "    .dataframe tbody tr th {\n",
       "        vertical-align: top;\n",
       "    }\n",
       "\n",
       "    .dataframe thead th {\n",
       "        text-align: right;\n",
       "    }\n",
       "</style>\n",
       "<table border=\"1\" class=\"dataframe\">\n",
       "  <thead>\n",
       "    <tr style=\"text-align: right;\">\n",
       "      <th></th>\n",
       "      <th>User Agent</th>\n",
       "    </tr>\n",
       "  </thead>\n",
       "  <tbody>\n",
       "    <tr>\n",
       "      <th>0</th>\n",
       "      <td>NaN</td>\n",
       "    </tr>\n",
       "    <tr>\n",
       "      <th>1</th>\n",
       "      <td>NaN</td>\n",
       "    </tr>\n",
       "    <tr>\n",
       "      <th>2</th>\n",
       "      <td>NaN</td>\n",
       "    </tr>\n",
       "    <tr>\n",
       "      <th>3</th>\n",
       "      <td>NaN</td>\n",
       "    </tr>\n",
       "    <tr>\n",
       "      <th>4</th>\n",
       "      <td>NaN</td>\n",
       "    </tr>\n",
       "  </tbody>\n",
       "</table>\n",
       "</div>"
      ],
      "text/plain": [
       "  User Agent\n",
       "0        NaN\n",
       "1        NaN\n",
       "2        NaN\n",
       "3        NaN\n",
       "4        NaN"
      ]
     },
     "execution_count": 8,
     "metadata": {},
     "output_type": "execute_result"
    }
   ],
   "source": [
    "df_user_agent.head()"
   ]
  },
  {
   "cell_type": "markdown",
   "id": "ce477544",
   "metadata": {},
   "source": [
    "##### Ermittlun aller iids die mindestens einmal mit Apple Mail/Gmail oder Proxy-Server eine Email geöffnet haben"
   ]
  },
  {
   "cell_type": "code",
   "execution_count": 9,
   "id": "39ac7c1e",
   "metadata": {},
   "outputs": [
    {
     "data": {
      "text/html": [
       "<div>\n",
       "<style scoped>\n",
       "    .dataframe tbody tr th:only-of-type {\n",
       "        vertical-align: middle;\n",
       "    }\n",
       "\n",
       "    .dataframe tbody tr th {\n",
       "        vertical-align: top;\n",
       "    }\n",
       "\n",
       "    .dataframe thead th {\n",
       "        text-align: right;\n",
       "    }\n",
       "</style>\n",
       "<table border=\"1\" class=\"dataframe\">\n",
       "  <thead>\n",
       "    <tr style=\"text-align: right;\">\n",
       "      <th></th>\n",
       "      <th>iid</th>\n",
       "      <th>attrtype</th>\n",
       "      <th>akey</th>\n",
       "      <th>date</th>\n",
       "      <th>text</th>\n",
       "      <th>month_count</th>\n",
       "      <th>User Agent</th>\n",
       "    </tr>\n",
       "  </thead>\n",
       "  <tbody>\n",
       "    <tr>\n",
       "      <th>0</th>\n",
       "      <td>100011954</td>\n",
       "      <td>HY</td>\n",
       "      <td>107601295</td>\n",
       "      <td>2020-05-07 11:49:16</td>\n",
       "      <td>|msg=NL_Mai_1|subject=St%C3%BCck+der+Stunde%3A...</td>\n",
       "      <td>0</td>\n",
       "      <td>unknown</td>\n",
       "    </tr>\n",
       "    <tr>\n",
       "      <th>1</th>\n",
       "      <td>100011954</td>\n",
       "      <td>HY</td>\n",
       "      <td>108268529</td>\n",
       "      <td>2020-05-19 11:15:17</td>\n",
       "      <td>|msg=NL_Mai_2|subject=Online+Premiere+%22Kabal...</td>\n",
       "      <td>0</td>\n",
       "      <td>unknown</td>\n",
       "    </tr>\n",
       "    <tr>\n",
       "      <th>2</th>\n",
       "      <td>100011954</td>\n",
       "      <td>HY</td>\n",
       "      <td>108552325</td>\n",
       "      <td>2020-06-02 18:07:17</td>\n",
       "      <td>|msg=NL_Corona_1|subject=Sondernewsletter%3A+J...</td>\n",
       "      <td>1</td>\n",
       "      <td>unknown</td>\n",
       "    </tr>\n",
       "    <tr>\n",
       "      <th>3</th>\n",
       "      <td>100011954</td>\n",
       "      <td>HY</td>\n",
       "      <td>108668409</td>\n",
       "      <td>2020-06-17 13:13:00</td>\n",
       "      <td>|msg=NL_Programm_Spielzeit20_21|subject=Das+Pr...</td>\n",
       "      <td>1</td>\n",
       "      <td>unknown</td>\n",
       "    </tr>\n",
       "    <tr>\n",
       "      <th>4</th>\n",
       "      <td>100011954</td>\n",
       "      <td>HY</td>\n",
       "      <td>109328444</td>\n",
       "      <td>2020-06-25 16:52:03</td>\n",
       "      <td>|msg=NL_Abschluss Saison 19_20|subject=Zum+End...</td>\n",
       "      <td>1</td>\n",
       "      <td>unknown</td>\n",
       "    </tr>\n",
       "  </tbody>\n",
       "</table>\n",
       "</div>"
      ],
      "text/plain": [
       "         iid attrtype       akey                 date  \\\n",
       "0  100011954       HY  107601295  2020-05-07 11:49:16   \n",
       "1  100011954       HY  108268529  2020-05-19 11:15:17   \n",
       "2  100011954       HY  108552325  2020-06-02 18:07:17   \n",
       "3  100011954       HY  108668409  2020-06-17 13:13:00   \n",
       "4  100011954       HY  109328444  2020-06-25 16:52:03   \n",
       "\n",
       "                                                text  month_count User Agent  \n",
       "0  |msg=NL_Mai_1|subject=St%C3%BCck+der+Stunde%3A...            0    unknown  \n",
       "1  |msg=NL_Mai_2|subject=Online+Premiere+%22Kabal...            0    unknown  \n",
       "2  |msg=NL_Corona_1|subject=Sondernewsletter%3A+J...            1    unknown  \n",
       "3  |msg=NL_Programm_Spielzeit20_21|subject=Das+Pr...            1    unknown  \n",
       "4  |msg=NL_Abschluss Saison 19_20|subject=Zum+End...            1    unknown  "
      ]
     },
     "execution_count": 9,
     "metadata": {},
     "output_type": "execute_result"
    }
   ],
   "source": [
    "df_user_agent[\"User Agent\"].fillna(\"unknown\", inplace=True)\n",
    "df_h[\"User Agent\"] = df_user_agent[\"User Agent\"]\n",
    "df_h.head()"
   ]
  },
  {
   "cell_type": "code",
   "execution_count": 10,
   "id": "bf7899ac",
   "metadata": {},
   "outputs": [
    {
     "data": {
      "text/plain": [
       "array([100074164, 100074334, 100074740, 100076440, 100077574, 100081532,\n",
       "       100086688, 100090142, 100094500, 100095830, 100096030, 100104100,\n",
       "       100106042, 100110624, 100113202, 100122034, 100127080, 100127698,\n",
       "       100128412, 100132768, 100139030, 100146782, 100154819, 100155545,\n",
       "       100156117, 100159959, 100161211, 100162457, 100171937, 100174389,\n",
       "       100183114, 100193728, 100201123, 100201267, 100211515, 100230944,\n",
       "       100241333, 100242563, 100245941, 100247657, 100248875, 100256545,\n",
       "       100262038, 100274332, 100276744, 100279344, 100280330, 100290122,\n",
       "       100300172, 100302744, 100304874, 100309090, 100343874, 100352609,\n",
       "       100357367, 100360041, 100372373, 100412492, 100415993, 100416328,\n",
       "       100418184, 100423388, 100424543, 100426217, 100428193, 100428258,\n",
       "       100429785, 100433284, 100441760, 100443613, 100444487, 100448151,\n",
       "       100456245, 100457982, 100461063, 100482266, 100491620, 100497684,\n",
       "       100499348, 100502928, 100513469, 100513501, 100528706, 100535524,\n",
       "       100565854, 100598869, 100608404, 100638929, 100657987, 100660766,\n",
       "       100666175, 100669695, 100672828, 100717665, 100730758, 100749081,\n",
       "       100774044, 100836672, 100844784, 100894052, 100895021, 100897472,\n",
       "       100907062, 100914190, 100917948, 100941664, 100944088, 100945982,\n",
       "       100959791, 100972067, 100992016, 101005343, 101053777, 101062070,\n",
       "       101079664, 101116499, 101130465, 101131900, 101152817, 101152907,\n",
       "       101155983, 101175795, 101186641, 101187103, 101188898, 101211888,\n",
       "       101216920, 101222870, 101227883, 101233630, 101244144, 101252543,\n",
       "       101253885, 101257656, 101267641, 101282126, 101288358, 101288972,\n",
       "       101310759, 101320579, 101327168, 101339381, 101349688, 101350814,\n",
       "       101351839, 101353230, 101809579, 101812477, 101825074, 101838013,\n",
       "       101848837, 107205047, 107205526, 107205634, 107205922, 107206402,\n",
       "       107206566, 107206641, 107206745, 107207223, 107207366, 107207681,\n",
       "       107207785, 107207973, 107208580, 107208779, 107208927, 107209215,\n",
       "       107209290, 107209500, 107210018, 107210038, 107210073, 107211694,\n",
       "       107212350, 107213638, 107213758, 107213828, 107213873, 107216383,\n",
       "       107216737, 107217096, 107217764, 107221625, 107222099, 107222134,\n",
       "       107222651, 107222994, 107223623, 107224756, 107226307, 107226851,\n",
       "       107227600, 107228262, 107228800, 107230965, 107234219, 107235892,\n",
       "       107239983, 107240905, 107248201, 107253414, 107253593, 107254327,\n",
       "       107255290, 107255598, 107256081, 107257628, 107261292, 107261562,\n",
       "       107263235, 107272135, 107273298, 107273846, 107280198, 107281663,\n",
       "       107285315, 107289794, 107290296, 107291052, 107291730, 107292293,\n",
       "       107293420, 107294594, 107294769, 107296448, 107296822, 107298205,\n",
       "       107299758, 107300069, 107300094, 107302610, 107303930, 107303994,\n",
       "       107304327, 107305230, 107305240, 107305334, 107306533, 107307135,\n",
       "       107307210, 107326063, 110024603, 110557071, 117928344, 122798744,\n",
       "       123005815, 137237883, 137335184, 137507031, 157435631, 157703978,\n",
       "       157826335, 158433155, 158470863, 158497269, 158620928, 158645873,\n",
       "       158648797, 158680257, 158698401, 158743950, 158747485, 158798224,\n",
       "       158838985, 158911365, 158925102, 158934700, 159068359], dtype=int64)"
      ]
     },
     "execution_count": 10,
     "metadata": {},
     "output_type": "execute_result"
    }
   ],
   "source": [
    "irrelevante_iids = df_h[df_h[\"User Agent\"].str.contains('Proxy|Apple Mail|Gmail', case=False)][\"iid\"].unique()\n",
    "irrelevante_iids"
   ]
  },
  {
   "cell_type": "code",
   "execution_count": 11,
   "id": "881fbf09",
   "metadata": {},
   "outputs": [],
   "source": [
    "relevant_iids = df_relevante_iids[\"iid\"]\n",
    "\n",
    "filtered_iids = [iid for iid in relevant_iids if iid not in irrelevante_iids]"
   ]
  },
  {
   "cell_type": "code",
   "execution_count": 12,
   "id": "b7e3ea34",
   "metadata": {},
   "outputs": [
    {
     "data": {
      "text/html": [
       "<div>\n",
       "<style scoped>\n",
       "    .dataframe tbody tr th:only-of-type {\n",
       "        vertical-align: middle;\n",
       "    }\n",
       "\n",
       "    .dataframe tbody tr th {\n",
       "        vertical-align: top;\n",
       "    }\n",
       "\n",
       "    .dataframe thead th {\n",
       "        text-align: right;\n",
       "    }\n",
       "</style>\n",
       "<table border=\"1\" class=\"dataframe\">\n",
       "  <thead>\n",
       "    <tr style=\"text-align: right;\">\n",
       "      <th></th>\n",
       "      <th>iid</th>\n",
       "    </tr>\n",
       "  </thead>\n",
       "  <tbody>\n",
       "    <tr>\n",
       "      <th>0</th>\n",
       "      <td>158646281</td>\n",
       "    </tr>\n",
       "    <tr>\n",
       "      <th>1</th>\n",
       "      <td>137986060</td>\n",
       "    </tr>\n",
       "    <tr>\n",
       "      <th>2</th>\n",
       "      <td>107208724</td>\n",
       "    </tr>\n",
       "    <tr>\n",
       "      <th>3</th>\n",
       "      <td>100778018</td>\n",
       "    </tr>\n",
       "    <tr>\n",
       "      <th>4</th>\n",
       "      <td>100679736</td>\n",
       "    </tr>\n",
       "  </tbody>\n",
       "</table>\n",
       "</div>"
      ],
      "text/plain": [
       "         iid\n",
       "0  158646281\n",
       "1  137986060\n",
       "2  107208724\n",
       "3  100778018\n",
       "4  100679736"
      ]
     },
     "execution_count": 12,
     "metadata": {},
     "output_type": "execute_result"
    }
   ],
   "source": [
    "df_filtered_iids = pd.DataFrame(filtered_iids, columns = [\"iid\"])\n",
    "df_filtered_iids.head()"
   ]
  },
  {
   "cell_type": "code",
   "execution_count": 13,
   "id": "0df4ede7",
   "metadata": {},
   "outputs": [],
   "source": [
    "path = r'C:/Users/felix.oechslein/Desktop/Analysen Thalia, Mai/verarbeitete_daten/'\n",
    "filename = 'privatkunden.iid.ELPHI.ohneAppleEtc_Validierung.csv'\n",
    "df_filtered_iids.to_csv(os.path.join(path, filename), index=False)"
   ]
  },
  {
   "cell_type": "markdown",
   "id": "6d647dc5",
   "metadata": {},
   "source": [
    "# Erweiterte Analysen zum Verständnis"
   ]
  },
  {
   "cell_type": "markdown",
   "id": "59de6db8",
   "metadata": {},
   "source": [
    "##### Ergänzung duch Infos für welche Datenpunkte Probleme bei der Genauigkeit der Öffnungsrate besteht"
   ]
  },
  {
   "cell_type": "code",
   "execution_count": 8,
   "id": "0931ee83",
   "metadata": {},
   "outputs": [
    {
     "data": {
      "text/html": [
       "<div>\n",
       "<style scoped>\n",
       "    .dataframe tbody tr th:only-of-type {\n",
       "        vertical-align: middle;\n",
       "    }\n",
       "\n",
       "    .dataframe tbody tr th {\n",
       "        vertical-align: top;\n",
       "    }\n",
       "\n",
       "    .dataframe thead th {\n",
       "        text-align: right;\n",
       "    }\n",
       "</style>\n",
       "<table border=\"1\" class=\"dataframe\">\n",
       "  <thead>\n",
       "    <tr style=\"text-align: right;\">\n",
       "      <th></th>\n",
       "      <th>User Agent</th>\n",
       "      <th>unknown</th>\n",
       "      <th>Apple-Mail-Nutzer</th>\n",
       "      <th>Gmail-Nutzer</th>\n",
       "      <th>Proxy-Server</th>\n",
       "    </tr>\n",
       "  </thead>\n",
       "  <tbody>\n",
       "    <tr>\n",
       "      <th>0</th>\n",
       "      <td>unknown</td>\n",
       "      <td>True</td>\n",
       "      <td>False</td>\n",
       "      <td>False</td>\n",
       "      <td>False</td>\n",
       "    </tr>\n",
       "    <tr>\n",
       "      <th>1</th>\n",
       "      <td>Apple Mail (OS X / Personal computer)</td>\n",
       "      <td>False</td>\n",
       "      <td>True</td>\n",
       "      <td>False</td>\n",
       "      <td>False</td>\n",
       "    </tr>\n",
       "    <tr>\n",
       "      <th>2</th>\n",
       "      <td>unknown</td>\n",
       "      <td>True</td>\n",
       "      <td>False</td>\n",
       "      <td>False</td>\n",
       "      <td>False</td>\n",
       "    </tr>\n",
       "    <tr>\n",
       "      <th>3</th>\n",
       "      <td>Apple Mail (OS X / Personal computer)</td>\n",
       "      <td>False</td>\n",
       "      <td>True</td>\n",
       "      <td>False</td>\n",
       "      <td>False</td>\n",
       "    </tr>\n",
       "    <tr>\n",
       "      <th>4</th>\n",
       "      <td>unknown</td>\n",
       "      <td>True</td>\n",
       "      <td>False</td>\n",
       "      <td>False</td>\n",
       "      <td>False</td>\n",
       "    </tr>\n",
       "  </tbody>\n",
       "</table>\n",
       "</div>"
      ],
      "text/plain": [
       "                              User Agent  unknown  Apple-Mail-Nutzer  \\\n",
       "0                                unknown     True              False   \n",
       "1  Apple Mail (OS X / Personal computer)    False               True   \n",
       "2                                unknown     True              False   \n",
       "3  Apple Mail (OS X / Personal computer)    False               True   \n",
       "4                                unknown     True              False   \n",
       "\n",
       "   Gmail-Nutzer  Proxy-Server  \n",
       "0         False         False  \n",
       "1         False         False  \n",
       "2         False         False  \n",
       "3         False         False  \n",
       "4         False         False  "
      ]
     },
     "execution_count": 8,
     "metadata": {},
     "output_type": "execute_result"
    }
   ],
   "source": [
    "df_user_agent[\"User Agent\"].fillna(\"unknown\", inplace=True)\n",
    "df_user_agent_aufgeteilt = df_user_agent\n",
    "\n",
    "# Spalten mit Ja/Nein-Werten erstellen\n",
    "df_user_agent_aufgeteilt[\"unknown\"] = df_user_agent['User Agent'].str.contains('unknown', case=False)\n",
    "#df_user_agent_aufgeteilt['iOS-Nutzer'] = df_user_agent['User Agent'].str.contains('iOS', case=False)\n",
    "#df_user_agent_aufgeteilt['OS-X-Nutzer'] = df_user_agent['User Agent'].str.contains('OS X|Macintosh', case=False)\n",
    "df_user_agent_aufgeteilt['Apple-Mail-Nutzer'] = df_user_agent['User Agent'].str.contains('Apple Mail', case=False)\n",
    "df_user_agent_aufgeteilt['Gmail-Nutzer'] = df_user_agent['User Agent'].str.contains('Gmail', case=False)\n",
    "df_user_agent_aufgeteilt['Proxy-Server'] = df_user_agent['User Agent'].str.contains('Proxy', case=False)\n",
    "df_user_agent_aufgeteilt.head()"
   ]
  },
  {
   "cell_type": "code",
   "execution_count": 9,
   "id": "22cd23f8",
   "metadata": {},
   "outputs": [
    {
     "name": "stdout",
     "output_type": "stream",
     "text": [
      "True     80292\n",
      "False    30918\n",
      "Name: unknown, dtype: int64\n",
      "False    106187\n",
      "True       5023\n",
      "Name: Apple-Mail-Nutzer, dtype: int64\n",
      "False    108781\n",
      "True       2429\n",
      "Name: Gmail-Nutzer, dtype: int64\n",
      "False    108781\n",
      "True       2429\n",
      "Name: Proxy-Server, dtype: int64\n"
     ]
    }
   ],
   "source": [
    "for col in df_user_agent.columns[1:]:\n",
    "    print(df_user_agent[col].value_counts())"
   ]
  },
  {
   "cell_type": "markdown",
   "id": "abcc2119",
   "metadata": {},
   "source": [
    "##### Tests"
   ]
  },
  {
   "cell_type": "code",
   "execution_count": 10,
   "id": "d0a1e9b9",
   "metadata": {},
   "outputs": [
    {
     "data": {
      "text/plain": [
       "<bound method DataFrame.info of             iid\n",
       "0     157982720\n",
       "1     100425731\n",
       "2     107233288\n",
       "3     137986060\n",
       "4     107233293\n",
       "...         ...\n",
       "1757  158031844\n",
       "1758  100319212\n",
       "1759  101253103\n",
       "1760  100466672\n",
       "1761  100687856\n",
       "\n",
       "[1762 rows x 1 columns]>"
      ]
     },
     "execution_count": 10,
     "metadata": {},
     "output_type": "execute_result"
    }
   ],
   "source": [
    "df_relevante_iids.info"
   ]
  },
  {
   "cell_type": "code",
   "execution_count": null,
   "id": "7c9b3c61",
   "metadata": {},
   "outputs": [],
   "source": []
  }
 ],
 "metadata": {
  "kernelspec": {
   "display_name": "Python 3 (ipykernel)",
   "language": "python",
   "name": "python3"
  },
  "language_info": {
   "codemirror_mode": {
    "name": "ipython",
    "version": 3
   },
   "file_extension": ".py",
   "mimetype": "text/x-python",
   "name": "python",
   "nbconvert_exporter": "python",
   "pygments_lexer": "ipython3",
   "version": "3.9.13"
  }
 },
 "nbformat": 4,
 "nbformat_minor": 5
}
