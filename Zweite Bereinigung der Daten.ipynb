{
 "cells": [
  {
   "cell_type": "code",
   "execution_count": 1,
   "id": "c18988c6",
   "metadata": {},
   "outputs": [],
   "source": [
    "import pandas as pd\n",
    "import numpy as np\n",
    "import matplotlib.pyplot as plt\n",
    "import scipy.stats as stats\n",
    "import math\n",
    "import seaborn as sns\n",
    "from datetime import datetime, timedelta\n",
    "from scipy.stats import pearsonr\n",
    "from scipy.stats import kendalltau\n",
    "from scipy.stats import spearmanr\n",
    "import os"
   ]
  },
  {
   "cell_type": "code",
   "execution_count": 2,
   "id": "bfe6acf9",
   "metadata": {},
   "outputs": [],
   "source": [
    "df_transactions = pd.read_csv(x\n",
    "                                    \"Thalia_transactions_ersteBereinigung.csv\")"
   ]
  },
  {
   "cell_type": "code",
   "execution_count": 3,
   "id": "5e393518",
   "metadata": {},
   "outputs": [],
   "source": [
    "df_privatkunden_iids = pd.read_csv(x+\n",
    "                                    \"privatkunden.iid.thalia.csv\", index_col = [0])"
   ]
  },
  {
   "cell_type": "markdown",
   "id": "2a1db09b",
   "metadata": {},
   "source": [
    "##### Privatkunden und Trans mergen"
   ]
  },
  {
   "cell_type": "code",
   "execution_count": 4,
   "id": "a62f1676",
   "metadata": {},
   "outputs": [
    {
     "data": {
      "text/html": [
       "<div>\n",
       "<style scoped>\n",
       "    .dataframe tbody tr th:only-of-type {\n",
       "        vertical-align: middle;\n",
       "    }\n",
       "\n",
       "    .dataframe tbody tr th {\n",
       "        vertical-align: top;\n",
       "    }\n",
       "\n",
       "    .dataframe thead th {\n",
       "        text-align: right;\n",
       "    }\n",
       "</style>\n",
       "<table border=\"1\" class=\"dataframe\">\n",
       "  <thead>\n",
       "    <tr style=\"text-align: right;\">\n",
       "      <th></th>\n",
       "      <th>iid</th>\n",
       "      <th>date</th>\n",
       "      <th>month_count</th>\n",
       "    </tr>\n",
       "  </thead>\n",
       "  <tbody>\n",
       "    <tr>\n",
       "      <th>0</th>\n",
       "      <td>100002747</td>\n",
       "      <td>2022-02-03 12:44:22</td>\n",
       "      <td>21</td>\n",
       "    </tr>\n",
       "    <tr>\n",
       "      <th>1</th>\n",
       "      <td>100002747</td>\n",
       "      <td>2022-04-29 14:03:00</td>\n",
       "      <td>23</td>\n",
       "    </tr>\n",
       "    <tr>\n",
       "      <th>2</th>\n",
       "      <td>100009615</td>\n",
       "      <td>2018-09-10 09:52:00</td>\n",
       "      <td>-20</td>\n",
       "    </tr>\n",
       "    <tr>\n",
       "      <th>3</th>\n",
       "      <td>100009615</td>\n",
       "      <td>2018-10-22 10:32:00</td>\n",
       "      <td>-19</td>\n",
       "    </tr>\n",
       "    <tr>\n",
       "      <th>4</th>\n",
       "      <td>100011333</td>\n",
       "      <td>2022-05-27 10:24:33</td>\n",
       "      <td>24</td>\n",
       "    </tr>\n",
       "  </tbody>\n",
       "</table>\n",
       "</div>"
      ],
      "text/plain": [
       "         iid                 date  month_count\n",
       "0  100002747  2022-02-03 12:44:22           21\n",
       "1  100002747  2022-04-29 14:03:00           23\n",
       "2  100009615  2018-09-10 09:52:00          -20\n",
       "3  100009615  2018-10-22 10:32:00          -19\n",
       "4  100011333  2022-05-27 10:24:33           24"
      ]
     },
     "execution_count": 4,
     "metadata": {},
     "output_type": "execute_result"
    }
   ],
   "source": [
    "# Privatkunden iids mit Transaktionsdaten mergen\n",
    "df_t = pd.merge(df_transactions, df_privatkunden_iids, on = [\"iid\"])\n",
    "df_t.head()"
   ]
  },
  {
   "cell_type": "markdown",
   "id": "d7296652",
   "metadata": {},
   "source": [
    "##### Auswahl der Kunden: Transaktion im Oktober 2021 und mindestes eine Transaktion nach Mai 2022"
   ]
  },
  {
   "cell_type": "code",
   "execution_count": 7,
   "id": "61f1f327",
   "metadata": {},
   "outputs": [],
   "source": [
    "# Alle \"iid\" mit \"month_count\" = 0\n",
    "iid_month_0 = df_t.groupby(\"iid\").filter(lambda x: (x[\"month_count\"] == 17).any())[\"iid\"].unique()\n",
    "\n",
    "# Alle \"iid\" mit \"month_count\" >= 7\n",
    "iid_month_7 = df_t.groupby(\"iid\").filter(lambda x: (x[\"month_count\"] >= 23).any())[\"iid\"].unique()\n",
    "\n",
    "# Die Schnittmenge beider Listen gibt alle \"iid\" aus, die beide Bedingungen erfüllen\n",
    "iid_both = list(set(iid_month_0) & set(iid_month_7))"
   ]
  },
  {
   "cell_type": "markdown",
   "id": "d80f50d7",
   "metadata": {},
   "source": [
    "##### Mergen der Auswahl mit Trans_df"
   ]
  },
  {
   "cell_type": "code",
   "execution_count": 8,
   "id": "1acdeda4",
   "metadata": {},
   "outputs": [],
   "source": [
    "# Annahme: iid_both ist eine Liste von eindeutigen iids\n",
    "df_t_filtered = df_t[df_t['iid'].isin(iid_both)]"
   ]
  },
  {
   "cell_type": "markdown",
   "id": "efba2e35",
   "metadata": {},
   "source": [
    "##### Filter nach Trans nach t > 16"
   ]
  },
  {
   "cell_type": "code",
   "execution_count": 9,
   "id": "48add88c",
   "metadata": {},
   "outputs": [],
   "source": [
    "# Ausschließlich Transaktionen nach t > -1 relevant\n",
    "df_t_filtered = df_t_filtered[df_t_filtered[\"month_count\"] > 16]"
   ]
  },
  {
   "cell_type": "code",
   "execution_count": 10,
   "id": "8e0aeda0",
   "metadata": {},
   "outputs": [
    {
     "name": "stdout",
     "output_type": "stream",
     "text": [
      "2021-10-01 08:22:00\n"
     ]
    }
   ],
   "source": [
    "minimum_date = df_t_filtered['date'].min()\n",
    "print(minimum_date)"
   ]
  },
  {
   "cell_type": "markdown",
   "id": "5dface43",
   "metadata": {},
   "source": [
    "#### Speichern der Daten"
   ]
  },
  {
   "cell_type": "code",
   "execution_count": 14,
   "id": "b3dfbf27",
   "metadata": {},
   "outputs": [],
   "source": [
    "path = x\n",
    "filename = 'Thalia_transactions_zweiteBereinigung.csv'\n",
    "\n",
    "df_t_filtered.to_csv(os.path.join(path, filename), index=False)"
   ]
  },
  {
   "cell_type": "markdown",
   "id": "c127430b",
   "metadata": {},
   "source": [
    "#### Ermittlung relevanter iids"
   ]
  },
  {
   "cell_type": "code",
   "execution_count": 15,
   "id": "d675743b",
   "metadata": {},
   "outputs": [],
   "source": [
    "path = x\n",
    "filename = 'Thalia_transactions_zweiteBereinigung_iids.csv'\n",
    "\n",
    "df_iid_both = pd.DataFrame(iid_both, columns=[\"iid\"])\n",
    "df_iid_both.to_csv(os.path.join(path, filename), index=False)"
   ]
  },
  {
   "cell_type": "code",
   "execution_count": null,
   "id": "e907a9d6",
   "metadata": {},
   "outputs": [],
   "source": []
  }
 ],
 "metadata": {
  "kernelspec": {
   "display_name": "Python 3 (ipykernel)",
   "language": "python",
   "name": "python3"
  },
  "language_info": {
   "codemirror_mode": {
    "name": "ipython",
    "version": 3
   },
   "file_extension": ".py",
   "mimetype": "text/x-python",
   "name": "python",
   "nbconvert_exporter": "python",
   "pygments_lexer": "ipython3",
   "version": "3.9.13"
  }
 },
 "nbformat": 4,
 "nbformat_minor": 5
}
