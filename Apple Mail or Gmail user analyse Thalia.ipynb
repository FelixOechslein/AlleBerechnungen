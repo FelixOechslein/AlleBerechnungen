{
 "cells": [
  {
   "cell_type": "code",
   "execution_count": 29,
   "id": "865b5245",
   "metadata": {},
   "outputs": [],
   "source": [
    "import pandas as pd\n",
    "import numpy as np\n",
    "import matplotlib.pyplot as plt\n",
    "import scipy.stats as stats\n",
    "import math\n",
    "import seaborn as sns\n",
    "from datetime import datetime, timedelta\n",
    "from scipy.stats import pearsonr\n",
    "from scipy.stats import kendalltau\n",
    "from scipy.stats import spearmanr"
   ]
  },
  {
   "cell_type": "code",
   "execution_count": 2,
   "id": "7921d389",
   "metadata": {},
   "outputs": [],
   "source": [
    "df_transactions_wofirstname = pd.read_csv(\"C:/Users/felix.oechslein/Desktop/Daten, 13.12.22/Rohdaten/\" +\n",
    "                                    \"Thalia_transactions_ohne_vorname.csv\")\n",
    "\n",
    "df_history_wofirstname = pd.read_csv(\"C:/Users/felix.oechslein/Desktop/Daten, 13.12.22/Rohdaten/\" +\n",
    "                                    \"Thalia_history_ohne_vorname.csv\")"
   ]
  },
  {
   "cell_type": "markdown",
   "id": "1fdb0d9a",
   "metadata": {},
   "source": [
    "## 0. Daten betrachten und \"df_test\" als Test DataFrame"
   ]
  },
  {
   "cell_type": "code",
   "execution_count": 3,
   "id": "87f19d06",
   "metadata": {},
   "outputs": [
    {
     "name": "stdout",
     "output_type": "stream",
     "text": [
      "<class 'pandas.core.frame.DataFrame'>\n",
      "RangeIndex: 4854430 entries, 0 to 4854429\n",
      "Data columns (total 7 columns):\n",
      " #   Column    Dtype \n",
      "---  ------    ----- \n",
      " 0   mandator  int64 \n",
      " 1   id        int64 \n",
      " 2   iid       int64 \n",
      " 3   attrtype  object\n",
      " 4   akey      int64 \n",
      " 5   text      object\n",
      " 6   creation  int64 \n",
      "dtypes: int64(5), object(2)\n",
      "memory usage: 259.3+ MB\n"
     ]
    }
   ],
   "source": [
    "df_history_wofirstname.info()"
   ]
  },
  {
   "cell_type": "code",
   "execution_count": 4,
   "id": "e501639b",
   "metadata": {},
   "outputs": [],
   "source": [
    "df_test = df_history_wofirstname[\"text\"]"
   ]
  },
  {
   "cell_type": "code",
   "execution_count": 5,
   "id": "b2821fa8",
   "metadata": {},
   "outputs": [
    {
     "data": {
      "text/plain": [
       "0    |msg=Einladung_Fraternitee_Lounge|userAgent=Ap...\n",
       "1    |msg=Einladung_Fraternitee_Lounge|userAgent=Mo...\n",
       "2    |msg=NL_April_1_2022|userAgent=Thunderbird 91....\n",
       "3    |msg=Einladung_Fraternitee_Lounge|userAgent=Mo...\n",
       "4    |msg=NL_März_2_2022|userAgent=Apple Mail (OS X...\n",
       "5    |msg=NL_Dezember_1_2022|hidden=true|fullUserAg...\n",
       "6    |msg=NL_November_2_2022|hidden=true|fullUserAg...\n",
       "7    |msg=Save the Date_Fraternite_Tartuffe|userAge...\n",
       "8    |msg=SM: Network 31.03.2022|userAgent=Mobile S...\n",
       "9    |msg=NL_April_1_2022|userAgent=unknown (unknow...\n",
       "Name: text, dtype: object"
      ]
     },
     "execution_count": 5,
     "metadata": {},
     "output_type": "execute_result"
    }
   ],
   "source": [
    "df_test.head(10)"
   ]
  },
  {
   "cell_type": "code",
   "execution_count": 6,
   "id": "87572c98",
   "metadata": {},
   "outputs": [
    {
     "name": "stdout",
     "output_type": "stream",
     "text": [
      "<class 'pandas.core.series.Series'>\n",
      "RangeIndex: 4854430 entries, 0 to 4854429\n",
      "Series name: text\n",
      "Non-Null Count    Dtype \n",
      "--------------    ----- \n",
      "4854430 non-null  object\n",
      "dtypes: object(1)\n",
      "memory usage: 37.0+ MB\n"
     ]
    }
   ],
   "source": [
    "df_test.info()"
   ]
  },
  {
   "cell_type": "markdown",
   "id": "ff2704e1",
   "metadata": {},
   "source": [
    "## 1. Erstellung des \"df_neueSpalte\" für die Betrachtung sämtlicher Infos zwischen den \"|\""
   ]
  },
  {
   "cell_type": "code",
   "execution_count": 7,
   "id": "e64d592d",
   "metadata": {},
   "outputs": [],
   "source": [
    "neueSpalten = [ line.strip().split('|') for line in df_test ]"
   ]
  },
  {
   "cell_type": "code",
   "execution_count": 8,
   "id": "ce9c480a",
   "metadata": {},
   "outputs": [
    {
     "data": {
      "text/html": [
       "<div>\n",
       "<style scoped>\n",
       "    .dataframe tbody tr th:only-of-type {\n",
       "        vertical-align: middle;\n",
       "    }\n",
       "\n",
       "    .dataframe tbody tr th {\n",
       "        vertical-align: top;\n",
       "    }\n",
       "\n",
       "    .dataframe thead th {\n",
       "        text-align: right;\n",
       "    }\n",
       "</style>\n",
       "<table border=\"1\" class=\"dataframe\">\n",
       "  <thead>\n",
       "    <tr style=\"text-align: right;\">\n",
       "      <th></th>\n",
       "      <th>0</th>\n",
       "      <th>1</th>\n",
       "      <th>2</th>\n",
       "      <th>3</th>\n",
       "      <th>4</th>\n",
       "      <th>5</th>\n",
       "      <th>6</th>\n",
       "      <th>7</th>\n",
       "      <th>8</th>\n",
       "      <th>9</th>\n",
       "      <th>...</th>\n",
       "      <th>15</th>\n",
       "      <th>16</th>\n",
       "      <th>17</th>\n",
       "      <th>18</th>\n",
       "      <th>19</th>\n",
       "      <th>20</th>\n",
       "      <th>21</th>\n",
       "      <th>22</th>\n",
       "      <th>23</th>\n",
       "      <th>24</th>\n",
       "    </tr>\n",
       "  </thead>\n",
       "  <tbody>\n",
       "    <tr>\n",
       "      <th>0</th>\n",
       "      <td></td>\n",
       "      <td>msg=Einladung_Fraternitee_Lounge</td>\n",
       "      <td>userAgent=Apple Mail (OS X / Personal computer)</td>\n",
       "      <td>hidden=true</td>\n",
       "      <td>ip=192.119.58.218</td>\n",
       "      <td>userLanguage=de</td>\n",
       "      <td></td>\n",
       "      <td>None</td>\n",
       "      <td>None</td>\n",
       "      <td>None</td>\n",
       "      <td>...</td>\n",
       "      <td>None</td>\n",
       "      <td>None</td>\n",
       "      <td>None</td>\n",
       "      <td>None</td>\n",
       "      <td>None</td>\n",
       "      <td>None</td>\n",
       "      <td>None</td>\n",
       "      <td>None</td>\n",
       "      <td>None</td>\n",
       "      <td>None</td>\n",
       "    </tr>\n",
       "    <tr>\n",
       "      <th>1</th>\n",
       "      <td></td>\n",
       "      <td>msg=Einladung_Fraternitee_Lounge</td>\n",
       "      <td>userAgent=Mobile Safari (iOS / Smartphone)</td>\n",
       "      <td>hidden=true</td>\n",
       "      <td>ip=80.133.234.253</td>\n",
       "      <td>userLanguage=de</td>\n",
       "      <td></td>\n",
       "      <td>None</td>\n",
       "      <td>None</td>\n",
       "      <td>None</td>\n",
       "      <td>...</td>\n",
       "      <td>None</td>\n",
       "      <td>None</td>\n",
       "      <td>None</td>\n",
       "      <td>None</td>\n",
       "      <td>None</td>\n",
       "      <td>None</td>\n",
       "      <td>None</td>\n",
       "      <td>None</td>\n",
       "      <td>None</td>\n",
       "      <td>None</td>\n",
       "    </tr>\n",
       "    <tr>\n",
       "      <th>2</th>\n",
       "      <td></td>\n",
       "      <td>msg=NL_April_1_2022</td>\n",
       "      <td>userAgent=Thunderbird 91.7 (Windows 8.1 / Pers...</td>\n",
       "      <td>hidden=true</td>\n",
       "      <td>ip=95.33.57.78</td>\n",
       "      <td>userLanguage=de</td>\n",
       "      <td></td>\n",
       "      <td>None</td>\n",
       "      <td>None</td>\n",
       "      <td>None</td>\n",
       "      <td>...</td>\n",
       "      <td>None</td>\n",
       "      <td>None</td>\n",
       "      <td>None</td>\n",
       "      <td>None</td>\n",
       "      <td>None</td>\n",
       "      <td>None</td>\n",
       "      <td>None</td>\n",
       "      <td>None</td>\n",
       "      <td>None</td>\n",
       "      <td>None</td>\n",
       "    </tr>\n",
       "    <tr>\n",
       "      <th>3</th>\n",
       "      <td></td>\n",
       "      <td>msg=Einladung_Fraternitee_Lounge</td>\n",
       "      <td>userAgent=Mobile Safari (iOS / Smartphone)</td>\n",
       "      <td>hidden=true</td>\n",
       "      <td>ip=80.133.234.253</td>\n",
       "      <td>userLanguage=de</td>\n",
       "      <td></td>\n",
       "      <td>None</td>\n",
       "      <td>None</td>\n",
       "      <td>None</td>\n",
       "      <td>...</td>\n",
       "      <td>None</td>\n",
       "      <td>None</td>\n",
       "      <td>None</td>\n",
       "      <td>None</td>\n",
       "      <td>None</td>\n",
       "      <td>None</td>\n",
       "      <td>None</td>\n",
       "      <td>None</td>\n",
       "      <td>None</td>\n",
       "      <td>None</td>\n",
       "    </tr>\n",
       "    <tr>\n",
       "      <th>4</th>\n",
       "      <td></td>\n",
       "      <td>msg=NL_März_2_2022</td>\n",
       "      <td>userAgent=Apple Mail (OS X / Personal computer)</td>\n",
       "      <td>hidden=true</td>\n",
       "      <td>ip=79.197.199.159</td>\n",
       "      <td>userLanguage=de</td>\n",
       "      <td></td>\n",
       "      <td>None</td>\n",
       "      <td>None</td>\n",
       "      <td>None</td>\n",
       "      <td>...</td>\n",
       "      <td>None</td>\n",
       "      <td>None</td>\n",
       "      <td>None</td>\n",
       "      <td>None</td>\n",
       "      <td>None</td>\n",
       "      <td>None</td>\n",
       "      <td>None</td>\n",
       "      <td>None</td>\n",
       "      <td>None</td>\n",
       "      <td>None</td>\n",
       "    </tr>\n",
       "  </tbody>\n",
       "</table>\n",
       "<p>5 rows × 25 columns</p>\n",
       "</div>"
      ],
      "text/plain": [
       "  0                                 1   \\\n",
       "0     msg=Einladung_Fraternitee_Lounge   \n",
       "1     msg=Einladung_Fraternitee_Lounge   \n",
       "2                  msg=NL_April_1_2022   \n",
       "3     msg=Einladung_Fraternitee_Lounge   \n",
       "4                   msg=NL_März_2_2022   \n",
       "\n",
       "                                                  2            3   \\\n",
       "0    userAgent=Apple Mail (OS X / Personal computer)  hidden=true   \n",
       "1         userAgent=Mobile Safari (iOS / Smartphone)  hidden=true   \n",
       "2  userAgent=Thunderbird 91.7 (Windows 8.1 / Pers...  hidden=true   \n",
       "3         userAgent=Mobile Safari (iOS / Smartphone)  hidden=true   \n",
       "4    userAgent=Apple Mail (OS X / Personal computer)  hidden=true   \n",
       "\n",
       "                  4                5  6     7     8     9   ...    15    16  \\\n",
       "0  ip=192.119.58.218  userLanguage=de     None  None  None  ...  None  None   \n",
       "1  ip=80.133.234.253  userLanguage=de     None  None  None  ...  None  None   \n",
       "2     ip=95.33.57.78  userLanguage=de     None  None  None  ...  None  None   \n",
       "3  ip=80.133.234.253  userLanguage=de     None  None  None  ...  None  None   \n",
       "4  ip=79.197.199.159  userLanguage=de     None  None  None  ...  None  None   \n",
       "\n",
       "     17    18    19    20    21    22    23    24  \n",
       "0  None  None  None  None  None  None  None  None  \n",
       "1  None  None  None  None  None  None  None  None  \n",
       "2  None  None  None  None  None  None  None  None  \n",
       "3  None  None  None  None  None  None  None  None  \n",
       "4  None  None  None  None  None  None  None  None  \n",
       "\n",
       "[5 rows x 25 columns]"
      ]
     },
     "execution_count": 8,
     "metadata": {},
     "output_type": "execute_result"
    }
   ],
   "source": [
    "df_neueSpalte = pd.DataFrame(neueSpalten)\n",
    "df_neueSpalte.head(5)"
   ]
  },
  {
   "cell_type": "markdown",
   "id": "17fc2a3c",
   "metadata": {},
   "source": [
    "## 2. Ein neues DataFrame df_user_agent und eine neue Spalte \"User agent\", die noch sämtliche Informationen danach enthält"
   ]
  },
  {
   "cell_type": "code",
   "execution_count": 71,
   "id": "3e6933b5",
   "metadata": {},
   "outputs": [],
   "source": [
    "df_user_agent = pd.DataFrame()\n",
    "df_user_agent[\"User Agent\"] = df_test.str.extract(r'userAgent=(.*)', expand=False)"
   ]
  },
  {
   "cell_type": "code",
   "execution_count": 72,
   "id": "26cddb63",
   "metadata": {},
   "outputs": [
    {
     "data": {
      "text/html": [
       "<div>\n",
       "<style scoped>\n",
       "    .dataframe tbody tr th:only-of-type {\n",
       "        vertical-align: middle;\n",
       "    }\n",
       "\n",
       "    .dataframe tbody tr th {\n",
       "        vertical-align: top;\n",
       "    }\n",
       "\n",
       "    .dataframe thead th {\n",
       "        text-align: right;\n",
       "    }\n",
       "</style>\n",
       "<table border=\"1\" class=\"dataframe\">\n",
       "  <thead>\n",
       "    <tr style=\"text-align: right;\">\n",
       "      <th></th>\n",
       "      <th>User Agent</th>\n",
       "    </tr>\n",
       "  </thead>\n",
       "  <tbody>\n",
       "    <tr>\n",
       "      <th>0</th>\n",
       "      <td>Apple Mail (OS X / Personal computer)|hidden=t...</td>\n",
       "    </tr>\n",
       "    <tr>\n",
       "      <th>1</th>\n",
       "      <td>Mobile Safari (iOS / Smartphone)|hidden=true|i...</td>\n",
       "    </tr>\n",
       "    <tr>\n",
       "      <th>2</th>\n",
       "      <td>Thunderbird 91.7 (Windows 8.1 / Personal compu...</td>\n",
       "    </tr>\n",
       "    <tr>\n",
       "      <th>3</th>\n",
       "      <td>Mobile Safari (iOS / Smartphone)|hidden=true|i...</td>\n",
       "    </tr>\n",
       "    <tr>\n",
       "      <th>4</th>\n",
       "      <td>Apple Mail (OS X / Personal computer)|hidden=t...</td>\n",
       "    </tr>\n",
       "  </tbody>\n",
       "</table>\n",
       "</div>"
      ],
      "text/plain": [
       "                                          User Agent\n",
       "0  Apple Mail (OS X / Personal computer)|hidden=t...\n",
       "1  Mobile Safari (iOS / Smartphone)|hidden=true|i...\n",
       "2  Thunderbird 91.7 (Windows 8.1 / Personal compu...\n",
       "3  Mobile Safari (iOS / Smartphone)|hidden=true|i...\n",
       "4  Apple Mail (OS X / Personal computer)|hidden=t..."
      ]
     },
     "execution_count": 72,
     "metadata": {},
     "output_type": "execute_result"
    }
   ],
   "source": [
    "df_user_agent.head()"
   ]
  },
  {
   "cell_type": "markdown",
   "id": "ab2ebcf8",
   "metadata": {},
   "source": [
    "## 3. Reduktion auf \"User Agent\" Daten"
   ]
  },
  {
   "cell_type": "code",
   "execution_count": 73,
   "id": "ee8b56e2",
   "metadata": {},
   "outputs": [],
   "source": [
    "df_user_agent[\"User Agent\"] = df_user_agent[\"User Agent\"].apply(lambda zeile: zeile.split(\"|\")[0] if isinstance(zeile, str) else zeile)"
   ]
  },
  {
   "cell_type": "code",
   "execution_count": 74,
   "id": "1e3568cb",
   "metadata": {
    "scrolled": true
   },
   "outputs": [
    {
     "data": {
      "text/html": [
       "<div>\n",
       "<style scoped>\n",
       "    .dataframe tbody tr th:only-of-type {\n",
       "        vertical-align: middle;\n",
       "    }\n",
       "\n",
       "    .dataframe tbody tr th {\n",
       "        vertical-align: top;\n",
       "    }\n",
       "\n",
       "    .dataframe thead th {\n",
       "        text-align: right;\n",
       "    }\n",
       "</style>\n",
       "<table border=\"1\" class=\"dataframe\">\n",
       "  <thead>\n",
       "    <tr style=\"text-align: right;\">\n",
       "      <th></th>\n",
       "      <th>User Agent</th>\n",
       "    </tr>\n",
       "  </thead>\n",
       "  <tbody>\n",
       "    <tr>\n",
       "      <th>0</th>\n",
       "      <td>Apple Mail (OS X / Personal computer)</td>\n",
       "    </tr>\n",
       "    <tr>\n",
       "      <th>1</th>\n",
       "      <td>Mobile Safari (iOS / Smartphone)</td>\n",
       "    </tr>\n",
       "    <tr>\n",
       "      <th>2</th>\n",
       "      <td>Thunderbird 91.7 (Windows 8.1 / Personal compu...</td>\n",
       "    </tr>\n",
       "    <tr>\n",
       "      <th>3</th>\n",
       "      <td>Mobile Safari (iOS / Smartphone)</td>\n",
       "    </tr>\n",
       "    <tr>\n",
       "      <th>4</th>\n",
       "      <td>Apple Mail (OS X / Personal computer)</td>\n",
       "    </tr>\n",
       "  </tbody>\n",
       "</table>\n",
       "</div>"
      ],
      "text/plain": [
       "                                          User Agent\n",
       "0              Apple Mail (OS X / Personal computer)\n",
       "1                   Mobile Safari (iOS / Smartphone)\n",
       "2  Thunderbird 91.7 (Windows 8.1 / Personal compu...\n",
       "3                   Mobile Safari (iOS / Smartphone)\n",
       "4              Apple Mail (OS X / Personal computer)"
      ]
     },
     "execution_count": 74,
     "metadata": {},
     "output_type": "execute_result"
    }
   ],
   "source": [
    "df_user_agent.head()"
   ]
  },
  {
   "cell_type": "markdown",
   "id": "5588b14b",
   "metadata": {},
   "source": [
    "## 4. Ergänzung duch Infos für welche Datenpunkte Probleme bei der Genauigkeit der Öffnungsrate besteht"
   ]
  },
  {
   "cell_type": "code",
   "execution_count": 75,
   "id": "5b72c8dc",
   "metadata": {},
   "outputs": [
    {
     "data": {
      "text/html": [
       "<div>\n",
       "<style scoped>\n",
       "    .dataframe tbody tr th:only-of-type {\n",
       "        vertical-align: middle;\n",
       "    }\n",
       "\n",
       "    .dataframe tbody tr th {\n",
       "        vertical-align: top;\n",
       "    }\n",
       "\n",
       "    .dataframe thead th {\n",
       "        text-align: right;\n",
       "    }\n",
       "</style>\n",
       "<table border=\"1\" class=\"dataframe\">\n",
       "  <thead>\n",
       "    <tr style=\"text-align: right;\">\n",
       "      <th></th>\n",
       "      <th>User Agent</th>\n",
       "      <th>unknown</th>\n",
       "      <th>Apple-Mail-Nutzer</th>\n",
       "      <th>Gmail-Nutzer</th>\n",
       "      <th>Proxy-Server</th>\n",
       "    </tr>\n",
       "  </thead>\n",
       "  <tbody>\n",
       "    <tr>\n",
       "      <th>0</th>\n",
       "      <td>Apple Mail (OS X / Personal computer)</td>\n",
       "      <td>False</td>\n",
       "      <td>True</td>\n",
       "      <td>False</td>\n",
       "      <td>False</td>\n",
       "    </tr>\n",
       "    <tr>\n",
       "      <th>1</th>\n",
       "      <td>Mobile Safari (iOS / Smartphone)</td>\n",
       "      <td>False</td>\n",
       "      <td>False</td>\n",
       "      <td>False</td>\n",
       "      <td>False</td>\n",
       "    </tr>\n",
       "    <tr>\n",
       "      <th>2</th>\n",
       "      <td>Thunderbird 91.7 (Windows 8.1 / Personal compu...</td>\n",
       "      <td>False</td>\n",
       "      <td>False</td>\n",
       "      <td>False</td>\n",
       "      <td>False</td>\n",
       "    </tr>\n",
       "    <tr>\n",
       "      <th>3</th>\n",
       "      <td>Mobile Safari (iOS / Smartphone)</td>\n",
       "      <td>False</td>\n",
       "      <td>False</td>\n",
       "      <td>False</td>\n",
       "      <td>False</td>\n",
       "    </tr>\n",
       "    <tr>\n",
       "      <th>4</th>\n",
       "      <td>Apple Mail (OS X / Personal computer)</td>\n",
       "      <td>False</td>\n",
       "      <td>True</td>\n",
       "      <td>False</td>\n",
       "      <td>False</td>\n",
       "    </tr>\n",
       "  </tbody>\n",
       "</table>\n",
       "</div>"
      ],
      "text/plain": [
       "                                          User Agent unknown  \\\n",
       "0              Apple Mail (OS X / Personal computer)   False   \n",
       "1                   Mobile Safari (iOS / Smartphone)   False   \n",
       "2  Thunderbird 91.7 (Windows 8.1 / Personal compu...   False   \n",
       "3                   Mobile Safari (iOS / Smartphone)   False   \n",
       "4              Apple Mail (OS X / Personal computer)   False   \n",
       "\n",
       "  Apple-Mail-Nutzer Gmail-Nutzer Proxy-Server  \n",
       "0              True        False        False  \n",
       "1             False        False        False  \n",
       "2             False        False        False  \n",
       "3             False        False        False  \n",
       "4              True        False        False  "
      ]
     },
     "execution_count": 75,
     "metadata": {},
     "output_type": "execute_result"
    }
   ],
   "source": [
    "df_user_agent_aufgeteilt = df_user_agent\n",
    "\n",
    "# Spalten mit Ja/Nein-Werten erstellen\n",
    "df_user_agent_aufgeteilt[\"unknown\"] = df_user_agent['User Agent'].str.contains('unknown', case=False)\n",
    "#df_user_agent_aufgeteilt['iOS-Nutzer'] = df_user_agent['User Agent'].str.contains('iOS', case=False)\n",
    "#df_user_agent_aufgeteilt['OS-X-Nutzer'] = df_user_agent['User Agent'].str.contains('OS X|Macintosh', case=False)\n",
    "df_user_agent_aufgeteilt['Apple-Mail-Nutzer'] = df_user_agent['User Agent'].str.contains('Apple Mail', case=False)\n",
    "df_user_agent_aufgeteilt['Gmail-Nutzer'] = df_user_agent['User Agent'].str.contains('Gmail', case=False)\n",
    "df_user_agent_aufgeteilt['Proxy-Server'] = df_user_agent['User Agent'].str.contains('Proxy', case=False)\n",
    "df_user_agent_aufgeteilt.head()"
   ]
  },
  {
   "cell_type": "markdown",
   "id": "9906d35e",
   "metadata": {},
   "source": [
    "## 5. Berechnung wie viel Prozent der Datenpunkte nicht für die Berechnung der Öffnungsrate verwendet werden können\n",
    "\n",
    "## -> rund 40%"
   ]
  },
  {
   "cell_type": "code",
   "execution_count": 76,
   "id": "37deafd8",
   "metadata": {
    "scrolled": true
   },
   "outputs": [
    {
     "name": "stdout",
     "output_type": "stream",
     "text": [
      "False    1743162\n",
      "True      821182\n",
      "Name: unknown, dtype: int64\n",
      "False    2131020\n",
      "True      433324\n",
      "Name: Apple-Mail-Nutzer, dtype: int64\n",
      "False    2434587\n",
      "True      129757\n",
      "Name: Gmail-Nutzer, dtype: int64\n",
      "False    2434587\n",
      "True      129757\n",
      "Name: Proxy-Server, dtype: int64\n"
     ]
    }
   ],
   "source": [
    "for col in df_user_agent.columns[1:]:\n",
    "    print(df_user_agent[col].value_counts())"
   ]
  },
  {
   "cell_type": "code",
   "execution_count": 77,
   "id": "b84205c5",
   "metadata": {},
   "outputs": [
    {
     "name": "stdout",
     "output_type": "stream",
     "text": [
      "Anzahl der Zeilen mit mindestens einem True (ohne erste Spalte): 1384263\n",
      "Gesamtzahl der Zeilen: 4854430\n",
      "Prozentsatz verwendeter Datenpunkte: 0.7148454092447517\n"
     ]
    }
   ],
   "source": [
    "anzahl = (df_user_agent.iloc[:, 1:] == True).any(axis=1).sum()\n",
    "print(f\"Anzahl der Zeilen mit mindestens einem True (ohne erste Spalte): {anzahl}\")\n",
    "gesamtzahl = df_test.size\n",
    "print(f\"Gesamtzahl der Zeilen: {gesamtzahl}\")\n",
    "prozentsatz = 1 - anzahl / gesamtzahl\n",
    "print(f\"Prozentsatz verwendeter Datenpunkte: {prozentsatz}\")"
   ]
  },
  {
   "cell_type": "code",
   "execution_count": null,
   "id": "7b0e91bd",
   "metadata": {},
   "outputs": [],
   "source": []
  },
  {
   "cell_type": "code",
   "execution_count": null,
   "id": "49383d1b",
   "metadata": {},
   "outputs": [],
   "source": []
  },
  {
   "cell_type": "code",
   "execution_count": null,
   "id": "cf297c0b",
   "metadata": {},
   "outputs": [],
   "source": []
  },
  {
   "cell_type": "markdown",
   "id": "fb2537da",
   "metadata": {},
   "source": [
    "# Tryouts"
   ]
  },
  {
   "cell_type": "code",
   "execution_count": 39,
   "id": "ff18704c",
   "metadata": {
    "scrolled": true
   },
   "outputs": [
    {
     "data": {
      "text/plain": [
       "1787"
      ]
     },
     "execution_count": 39,
     "metadata": {},
     "output_type": "execute_result"
    }
   ],
   "source": [
    "df_neueSpalte[\"User Agent\"].nunique()"
   ]
  },
  {
   "cell_type": "code",
   "execution_count": 70,
   "id": "c83c867a",
   "metadata": {},
   "outputs": [
    {
     "data": {
      "text/plain": [
       "                                                        2290086\n",
       "unknown (unknown / Personal computer)                    797754\n",
       "Apple Mail (OS X / Personal computer)                    416920\n",
       "Mobile Safari (iOS / Smartphone)                         370916\n",
       "Gmail image proxy (Linux / Other)                        106224\n",
       "Mobile Safari (iOS / Tablet)                              34535\n",
       "Android browser 4.0 (Android / Smartphone)                24430\n",
       "Gmail image proxy (Windows / Other)                       23533\n",
       "Chrome Mobile 92.0 (Android / Smartphone)                 18197\n",
       "Chrome Mobile 83.0 (Android / Smartphone)                 17822\n",
       "Chrome Mobile 107.0 (Android / Smartphone)                17100\n",
       "Chrome Mobile 106.0 (Android / Smartphone)                17026\n",
       "Chrome Mobile 96.0 (Android / Smartphone)                 16784\n",
       "Outlook 16 (unknown / Personal computer)                  15455\n",
       "Mobile Safari 14.1 (iOS / Smartphone)                     12898\n",
       "Chrome Mobile 102.0 (Android / Smartphone)                11950\n",
       "Chrome Mobile 94.0 (Android / Smartphone)                 11529\n",
       "Apple Mail (OS X 10.10 Yosemite / Personal computer)      11165\n",
       "Chrome Mobile 98.0 (Android / Smartphone)                 10029\n",
       "Chrome Mobile 90.0 (Android / Smartphone)                  9604\n",
       "Chrome Mobile 105.0 (Android / Smartphone)                 9570\n",
       "Chrome Mobile 99.0 (Android / Smartphone)                  9529\n",
       "Mobile Safari 15.6 (iOS / Smartphone)                      8882\n",
       "Chrome Mobile 95.0 (Android / Smartphone)                  8762\n",
       "Safari 13.1 (OS X / Personal computer)                     8676\n",
       "Chrome Mobile 85.0 (Android / Smartphone)                  8553\n",
       "Chrome Mobile 101.0 (Android / Smartphone)                 8509\n",
       "Chrome Mobile 86.0 (Android / Smartphone)                  8382\n",
       "Chrome Mobile 88.0 (Android / Smartphone)                  8334\n",
       "IE 7.0 (Windows / Personal computer)                       8230\n",
       "Mobile Safari 13.1 (iOS / Smartphone)                      7486\n",
       "Mobile Safari 14.0 (iOS / Smartphone)                      7322\n",
       "Chrome Mobile 87.0 (Android / Smartphone)                  7264\n",
       "Chrome Mobile 97.0 (Android / Smartphone)                  7210\n",
       "Firefox 106.0 (Windows 10 / Personal computer)             6924\n",
       "Safari 14.1 (OS X / Personal computer)                     6912\n",
       "Safari 14.0 (OS X / Personal computer)                     6523\n",
       "Chrome 107.0 (Windows 10 / Personal computer)              6480\n",
       "Outlook 2013 (Windows / Personal computer)                 6430\n",
       "Chrome Mobile 91.0 (Android / Smartphone)                  6209\n",
       "Chrome Mobile 93.0 (Android / Smartphone)                  6167\n",
       "Chrome Mobile 100.0 (Android / Smartphone)                 6153\n",
       "Outlook 2010 (Windows 8 / Personal computer)               5971\n",
       "Windows Live Mail (Windows 8 / Personal computer)          5865\n",
       "Chrome Mobile 103.0 (Android / Smartphone)                 5610\n",
       "Chrome Mobile 89.0 (Android / Smartphone)                  5422\n",
       "Chrome Mobile 81.0 (Android / Smartphone)                  5288\n",
       "Chrome 92.0 (Windows / Personal computer)                  5216\n",
       "Chrome Mobile 104.0 (Android / Smartphone)                 5155\n",
       "Firefox 77.0 (Windows / Personal computer)                 4993\n",
       "Name: User Agent, dtype: int64"
      ]
     },
     "execution_count": 70,
     "metadata": {},
     "output_type": "execute_result"
    }
   ],
   "source": [
    "df_neueSpalte[\"User Agent\"].value_counts().head(50)"
   ]
  },
  {
   "cell_type": "code",
   "execution_count": null,
   "id": "fef4a000",
   "metadata": {},
   "outputs": [],
   "source": []
  }
 ],
 "metadata": {
  "kernelspec": {
   "display_name": "Python 3 (ipykernel)",
   "language": "python",
   "name": "python3"
  },
  "language_info": {
   "codemirror_mode": {
    "name": "ipython",
    "version": 3
   },
   "file_extension": ".py",
   "mimetype": "text/x-python",
   "name": "python",
   "nbconvert_exporter": "python",
   "pygments_lexer": "ipython3",
   "version": "3.9.13"
  }
 },
 "nbformat": 4,
 "nbformat_minor": 5
}
