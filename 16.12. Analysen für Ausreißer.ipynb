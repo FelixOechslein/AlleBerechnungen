{
 "cells": [
  {
   "cell_type": "code",
   "execution_count": 1,
   "id": "8aad2ea2",
   "metadata": {},
   "outputs": [],
   "source": [
    "import pandas as pd\n",
    "import numpy\n",
    "import matplotlib.pyplot as plt\n",
    "import scipy.stats as stats\n",
    "import math\n",
    "import seaborn as sns"
   ]
  },
  {
   "cell_type": "code",
   "execution_count": 2,
   "id": "33b06bcb",
   "metadata": {},
   "outputs": [],
   "source": [
    "df_transactions_wofirstname = pd.read_csv(\"C:/Users/felix.oechslein/Desktop/Daten, 13.12.22/Rohdaten/\" +\n",
    "                                    \"Thalia_transactions_ohne_vorname.csv\")\n",
    "\n",
    "df_history_wofirstname = pd.read_csv(\"C:/Users/felix.oechslein/Desktop/Daten, 13.12.22/Rohdaten/\" +\n",
    "                                    \"Thalia_history_ohne_vorname.csv\")"
   ]
  },
  {
   "cell_type": "markdown",
   "id": "158e7fa1",
   "metadata": {},
   "source": [
    "# Analyse 1: Test, ob pricetotal geeignete Größe für Ausreißer ist, wenn man nur Leute betrachtet, die mehr als eine Transaktion tätigten\n",
    "\n",
    "## ----> NEIN\n",
    "\n",
    "### df_t_grouped gibt Höhe und Anzahl an gesamten Transaktionen eines Kunden an"
   ]
  },
  {
   "cell_type": "code",
   "execution_count": 3,
   "id": "403ef6fc",
   "metadata": {},
   "outputs": [],
   "source": [
    "#Transaktions-Daten bereinigen\n",
    "\n",
    "df_t_bereinigt = df_transactions_wofirstname[[\"iid\", \"key\", \"attrtype\", \"status\", \"pricetotal\"]]\n",
    "df_t_bereinigt = df_t_bereinigt.query('attrtype == \"TI\"')\n",
    "df_t_bereinigt = df_t_bereinigt.query('status == \"Buchung\" or status == \"Order\"')\n",
    "df_t_bereinigt = df_t_bereinigt.query('pricetotal >= 0.01')\n",
    "#df_t_bereinigt = df_t2_bereinigt.sort_values(\"pricetotal\")"
   ]
  },
  {
   "cell_type": "code",
   "execution_count": 4,
   "id": "cc5f67ca",
   "metadata": {},
   "outputs": [
    {
     "data": {
      "text/html": [
       "<div>\n",
       "<style scoped>\n",
       "    .dataframe tbody tr th:only-of-type {\n",
       "        vertical-align: middle;\n",
       "    }\n",
       "\n",
       "    .dataframe tbody tr th {\n",
       "        vertical-align: top;\n",
       "    }\n",
       "\n",
       "    .dataframe thead th {\n",
       "        text-align: right;\n",
       "    }\n",
       "</style>\n",
       "<table border=\"1\" class=\"dataframe\">\n",
       "  <thead>\n",
       "    <tr style=\"text-align: right;\">\n",
       "      <th></th>\n",
       "      <th>pricetotal</th>\n",
       "      <th>AnzahlTrans</th>\n",
       "    </tr>\n",
       "    <tr>\n",
       "      <th>iid</th>\n",
       "      <th></th>\n",
       "      <th></th>\n",
       "    </tr>\n",
       "  </thead>\n",
       "  <tbody>\n",
       "    <tr>\n",
       "      <th>100002747</th>\n",
       "      <td>155.0</td>\n",
       "      <td>5</td>\n",
       "    </tr>\n",
       "    <tr>\n",
       "      <th>100009615</th>\n",
       "      <td>131.6</td>\n",
       "      <td>4</td>\n",
       "    </tr>\n",
       "    <tr>\n",
       "      <th>100009745</th>\n",
       "      <td>781.0</td>\n",
       "      <td>24</td>\n",
       "    </tr>\n",
       "    <tr>\n",
       "      <th>100011333</th>\n",
       "      <td>172.0</td>\n",
       "      <td>4</td>\n",
       "    </tr>\n",
       "    <tr>\n",
       "      <th>100011954</th>\n",
       "      <td>1206.1</td>\n",
       "      <td>63</td>\n",
       "    </tr>\n",
       "  </tbody>\n",
       "</table>\n",
       "</div>"
      ],
      "text/plain": [
       "           pricetotal  AnzahlTrans\n",
       "iid                               \n",
       "100002747       155.0            5\n",
       "100009615       131.6            4\n",
       "100009745       781.0           24\n",
       "100011333       172.0            4\n",
       "100011954      1206.1           63"
      ]
     },
     "execution_count": 4,
     "metadata": {},
     "output_type": "execute_result"
    }
   ],
   "source": [
    "#Daten gruppieren\n",
    "\n",
    "list_t_grouped = df_t_bereinigt.groupby([\"iid\"])[\"pricetotal\"].agg(\"sum\")\n",
    "df_t_grouped = list_t_grouped.to_frame()\n",
    "df_t_grouped[\"AnzahlTrans\"] = df_t_bereinigt.groupby([\"iid\"])[\"key\"].agg(\"count\")\n",
    "#df_t_grouped = df_t_grouped.sort_values(\"pricetotal\")\n",
    "df_t_grouped.head()"
   ]
  },
  {
   "cell_type": "code",
   "execution_count": 5,
   "id": "fe617780",
   "metadata": {},
   "outputs": [
    {
     "name": "stdout",
     "output_type": "stream",
     "text": [
      "158.70000000000002\n"
     ]
    }
   ],
   "source": [
    "# Computing IQR\n",
    "#Q1 = df_t_grouped.query(\"AnzahlTrans > 1\")['pricetotal'].quantile(0.25)\n",
    "#Q3 = df_t_grouped.query(\"AnzahlTrans > 1\")['pricetotal'].quantile(0.75)\n",
    "Q1 = df_t_grouped['pricetotal'].quantile(0.25)\n",
    "Q3 = df_t_grouped['pricetotal'].quantile(0.75)\n",
    "IQR = Q3 - Q1\n",
    "IQR_neu = 1.5 * IQR\n",
    "print(IQR_neu)"
   ]
  },
  {
   "cell_type": "code",
   "execution_count": 6,
   "id": "6796207f",
   "metadata": {},
   "outputs": [
    {
     "name": "stdout",
     "output_type": "stream",
     "text": [
      "894.375\n"
     ]
    }
   ],
   "source": [
    "# Computing IQR\n",
    "Q1 = df_t_grouped.query(\"AnzahlTrans > 10\")['pricetotal'].quantile(0.25)\n",
    "Q3 = df_t_grouped.query(\"AnzahlTrans > 10\")['pricetotal'].quantile(0.75)\n",
    "IQR = Q3 - Q1\n",
    "IQR_neu = 1.5 * IQR\n",
    "print(IQR_neu)"
   ]
  },
  {
   "cell_type": "markdown",
   "id": "b6f351d8",
   "metadata": {},
   "source": [
    "# Analyse 2: Ergänzung der Transaktionsdaten mit FirstTrans und LastTrans Spalte\n",
    "\n",
    "### df_t4 enthält FirstTrans, LastTrans, CostumerValue, AnzahlTrans"
   ]
  },
  {
   "cell_type": "code",
   "execution_count": 7,
   "id": "9ffaf382",
   "metadata": {},
   "outputs": [],
   "source": [
    "# Daten bereinigen\n",
    "\n",
    "df_t_bereinigt2 = df_transactions_wofirstname[[\"iid\", \"key\", \"attrtype\", \"status\", \"pricetotal\", \"createdprovider\"]]\n",
    "df_t_bereinigt2 = df_t_bereinigt2.query('attrtype == \"TI\"')\n",
    "df_t_bereinigt2 = df_t_bereinigt2.query('status == \"Buchung\" or status == \"Order\"')\n",
    "df_t_bereinigt2 = df_t_bereinigt2.query('pricetotal >= 0.01')\n",
    "\n",
    "# Daten-Datum\n",
    "\n",
    "df_t_bereinigt2[\"CreatedProvider\"] = pd.to_datetime(df_t_bereinigt2['createdprovider'], format='%Y%m%d%H%M%S')\n",
    "df_t_bereinigt2['month_year'] = df_t_bereinigt2['CreatedProvider'].dt.to_period('M')\n",
    "\n",
    "# Daten erste Transaktion, gespeichert in dt_3\n",
    "\n",
    "list_t_first_trans = df_t_bereinigt2.groupby([\"iid\"])[\"createdprovider\"].agg(\"min\")\n",
    "df_t_first_trans = list_t_first_trans.to_frame()\n",
    "df_t_first_trans = df_t_first_trans.rename(columns = {\"createdprovider\" : \"FirstTrans\"})\n",
    "df_t3 = pd.merge(df_t_bereinigt2, df_t_first_trans, on=[\"iid\"])\n",
    "df_t3[\"FirstTrans\"] = pd.to_datetime(df_t3['FirstTrans'], format='%Y%m%d%H%M%S')\n",
    "\n",
    "# Daten letzte Transaktion, gespeichert in dt_3\n",
    "\n",
    "list_t_last_trans = df_t_bereinigt2.groupby([\"iid\"])[\"createdprovider\"].agg(\"max\")\n",
    "df_t_last_trans = list_t_last_trans.to_frame()\n",
    "df_t_last_trans = df_t_last_trans.rename(columns = {\"createdprovider\" : \"LastTrans\"})\n",
    "df_t3 = pd.merge(df_t3, df_t_last_trans, on=[\"iid\"])\n",
    "df_t3[\"LastTrans\"] = pd.to_datetime(df_t3['LastTrans'], format='%Y%m%d%H%M%S')"
   ]
  },
  {
   "cell_type": "code",
   "execution_count": 8,
   "id": "b26ca4ca",
   "metadata": {
    "scrolled": true
   },
   "outputs": [],
   "source": [
    "#Daten gruppieren\n",
    "\n",
    "list_t3 = df_t3.groupby([\"iid\", \"FirstTrans\", \"LastTrans\"])[\"pricetotal\"].agg(\"sum\")\n",
    "df_t3 = list_t3.to_frame()\n",
    "df_t3 = df_t3.reset_index()\n",
    "list_Anzahl_trans = df_t_bereinigt2.groupby([\"iid\"])[\"key\"].agg(\"count\")\n",
    "df_Anzahl_trans = list_Anzahl_trans.to_frame()\n",
    "df_Anzahl_trans = df_Anzahl_trans.rename(columns = {\"key\" : \"AnzahlTrans\"})\n",
    "df_t4 = pd.merge(df_t3, df_Anzahl_trans, on=[\"iid\"])\n",
    "df_t4 = df_t4.rename(columns = {\"pricetotal\" : \"CostumerValue\"})\n",
    "#df_t_grouped = df_t_grouped.sort_values(\"pricetotal\")"
   ]
  },
  {
   "cell_type": "code",
   "execution_count": 9,
   "id": "c19c0013",
   "metadata": {},
   "outputs": [
    {
     "data": {
      "text/html": [
       "<div>\n",
       "<style scoped>\n",
       "    .dataframe tbody tr th:only-of-type {\n",
       "        vertical-align: middle;\n",
       "    }\n",
       "\n",
       "    .dataframe tbody tr th {\n",
       "        vertical-align: top;\n",
       "    }\n",
       "\n",
       "    .dataframe thead th {\n",
       "        text-align: right;\n",
       "    }\n",
       "</style>\n",
       "<table border=\"1\" class=\"dataframe\">\n",
       "  <thead>\n",
       "    <tr style=\"text-align: right;\">\n",
       "      <th></th>\n",
       "      <th>iid</th>\n",
       "      <th>FirstTrans</th>\n",
       "      <th>LastTrans</th>\n",
       "      <th>CostumerValue</th>\n",
       "      <th>AnzahlTrans</th>\n",
       "    </tr>\n",
       "  </thead>\n",
       "  <tbody>\n",
       "    <tr>\n",
       "      <th>0</th>\n",
       "      <td>100002747</td>\n",
       "      <td>2022-02-03 12:44:22</td>\n",
       "      <td>2022-04-29 14:03:00</td>\n",
       "      <td>155.0</td>\n",
       "      <td>5</td>\n",
       "    </tr>\n",
       "    <tr>\n",
       "      <th>1</th>\n",
       "      <td>100009615</td>\n",
       "      <td>2018-09-10 09:52:00</td>\n",
       "      <td>2018-10-22 10:32:00</td>\n",
       "      <td>131.6</td>\n",
       "      <td>4</td>\n",
       "    </tr>\n",
       "    <tr>\n",
       "      <th>2</th>\n",
       "      <td>100009745</td>\n",
       "      <td>2021-10-29 11:52:50</td>\n",
       "      <td>2022-05-16 15:41:14</td>\n",
       "      <td>781.0</td>\n",
       "      <td>24</td>\n",
       "    </tr>\n",
       "    <tr>\n",
       "      <th>3</th>\n",
       "      <td>100011333</td>\n",
       "      <td>2022-05-27 10:24:33</td>\n",
       "      <td>2022-07-02 19:28:37</td>\n",
       "      <td>172.0</td>\n",
       "      <td>4</td>\n",
       "    </tr>\n",
       "    <tr>\n",
       "      <th>4</th>\n",
       "      <td>100011954</td>\n",
       "      <td>2010-03-24 22:07:00</td>\n",
       "      <td>2022-09-29 15:01:00</td>\n",
       "      <td>1206.1</td>\n",
       "      <td>63</td>\n",
       "    </tr>\n",
       "  </tbody>\n",
       "</table>\n",
       "</div>"
      ],
      "text/plain": [
       "         iid          FirstTrans           LastTrans  CostumerValue  \\\n",
       "0  100002747 2022-02-03 12:44:22 2022-04-29 14:03:00          155.0   \n",
       "1  100009615 2018-09-10 09:52:00 2018-10-22 10:32:00          131.6   \n",
       "2  100009745 2021-10-29 11:52:50 2022-05-16 15:41:14          781.0   \n",
       "3  100011333 2022-05-27 10:24:33 2022-07-02 19:28:37          172.0   \n",
       "4  100011954 2010-03-24 22:07:00 2022-09-29 15:01:00         1206.1   \n",
       "\n",
       "   AnzahlTrans  \n",
       "0            5  \n",
       "1            4  \n",
       "2           24  \n",
       "3            4  \n",
       "4           63  "
      ]
     },
     "execution_count": 9,
     "metadata": {},
     "output_type": "execute_result"
    }
   ],
   "source": [
    "df_t4.head()"
   ]
  },
  {
   "cell_type": "markdown",
   "id": "688f3bc5",
   "metadata": {},
   "source": [
    "# Analyse 3: Test, ob TIs pro CO geeignete Größe für Ausreißer ist\n",
    "\n",
    "## -----> JA! 2/4 der größten Privatkunden sind immer noch enthalten (100405468, 100433284 ---  100445313, 100434361 nicht enthalten, obwohl wahrscheinlich Privatkunde)\n",
    "\n",
    "## 18771193.56 / 26243302.33 = 71.53% des Gesamtumsatzes werden erfasst\n",
    "\n",
    "### df_t_grouped_ohneAusreiser enthält nur Transaktionsdaten die weniger als 3.25 (Q3 + 1.5 * IQR des TIproOR Durchschnitts pro Kunden) TIs pro CO haben"
   ]
  },
  {
   "cell_type": "code",
   "execution_count": 10,
   "id": "e4efa1bd",
   "metadata": {},
   "outputs": [],
   "source": [
    "#Transaktions-Daten bereinigen\n",
    "\n",
    "df_t_OR = df_transactions_wofirstname[[\"iid\", \"key\", \"attrtype\", \"status\", \"pricetotal\"]]\n",
    "df_t_OR = df_t_OR.query('attrtype == \"TI\"')\n",
    "df_t_OR = df_t_OR.query('status == \"Buchung\" or status == \"Order\"')\n",
    "df_t_OR = df_t_OR.query('pricetotal >= 0.01')\n",
    "#df_t_bereinigt = df_t2_bereinigt.sort_values(\"pricetotal\")"
   ]
  },
  {
   "cell_type": "code",
   "execution_count": 11,
   "id": "4ac22da3",
   "metadata": {},
   "outputs": [
    {
     "data": {
      "text/html": [
       "<div>\n",
       "<style scoped>\n",
       "    .dataframe tbody tr th:only-of-type {\n",
       "        vertical-align: middle;\n",
       "    }\n",
       "\n",
       "    .dataframe tbody tr th {\n",
       "        vertical-align: top;\n",
       "    }\n",
       "\n",
       "    .dataframe thead th {\n",
       "        text-align: right;\n",
       "    }\n",
       "</style>\n",
       "<table border=\"1\" class=\"dataframe\">\n",
       "  <thead>\n",
       "    <tr style=\"text-align: right;\">\n",
       "      <th></th>\n",
       "      <th>iid</th>\n",
       "      <th>MeanTIperOR</th>\n",
       "    </tr>\n",
       "  </thead>\n",
       "  <tbody>\n",
       "    <tr>\n",
       "      <th>0</th>\n",
       "      <td>100002747</td>\n",
       "      <td>2.5</td>\n",
       "    </tr>\n",
       "    <tr>\n",
       "      <th>1</th>\n",
       "      <td>100009615</td>\n",
       "      <td>2.0</td>\n",
       "    </tr>\n",
       "    <tr>\n",
       "      <th>2</th>\n",
       "      <td>100009745</td>\n",
       "      <td>4.8</td>\n",
       "    </tr>\n",
       "    <tr>\n",
       "      <th>3</th>\n",
       "      <td>100011333</td>\n",
       "      <td>2.0</td>\n",
       "    </tr>\n",
       "    <tr>\n",
       "      <th>4</th>\n",
       "      <td>100011954</td>\n",
       "      <td>2.1</td>\n",
       "    </tr>\n",
       "  </tbody>\n",
       "</table>\n",
       "</div>"
      ],
      "text/plain": [
       "         iid  MeanTIperOR\n",
       "0  100002747          2.5\n",
       "1  100009615          2.0\n",
       "2  100009745          4.8\n",
       "3  100011333          2.0\n",
       "4  100011954          2.1"
      ]
     },
     "execution_count": 11,
     "metadata": {},
     "output_type": "execute_result"
    }
   ],
   "source": [
    "df_t_OR_grouped = df_t_OR.groupby([\"iid\", \"key\"])[\"key\"].agg(\"count\")\n",
    "df_t_OR_grouped = df_t_OR_grouped.to_frame()\n",
    "df_t_OR_grouped = df_t_OR_grouped.rename(columns = {\"key\" : \"AnzahlTIsProOrder\"})\n",
    "df_t_OR_grouped = df_t_OR_grouped.reset_index()\n",
    "\n",
    "df_t_OR_grouped = df_t_OR_grouped.groupby(\"iid\")[\"AnzahlTIsProOrder\"].agg(\"mean\")\n",
    "df_t_OR_grouped = df_t_OR_grouped.to_frame()\n",
    "df_t_OR_grouped = df_t_OR_grouped.rename(columns = {\"AnzahlTIsProOrder\" : \"MeanTIperOR\"})\n",
    "df_t_OR_grouped = df_t_OR_grouped.reset_index()\n",
    "df_t_OR_grouped.head()"
   ]
  },
  {
   "cell_type": "code",
   "execution_count": 12,
   "id": "41cd1166",
   "metadata": {},
   "outputs": [
    {
     "name": "stdout",
     "output_type": "stream",
     "text": [
      "3.25\n"
     ]
    }
   ],
   "source": [
    "# Computing IQR\n",
    "Q1 = df_t_OR_grouped[\"MeanTIperOR\"].quantile(0.25)\n",
    "Q3 = df_t_OR_grouped[\"MeanTIperOR\"].quantile(0.75)\n",
    "IQR = Q3 - Q1\n",
    "IQR_neu = Q3 + 1.5 * IQR\n",
    "print(IQR_neu)"
   ]
  },
  {
   "cell_type": "code",
   "execution_count": 13,
   "id": "d1a3af84",
   "metadata": {},
   "outputs": [],
   "source": [
    "#Merging iids der Nicht-Ausreiser mit Transaktionsdaten\n",
    "\n",
    "df_Kunden_kein_Ausreißer_Anzahl_TIsProCO = df_t_OR_grouped.query(\"MeanTIperOR <= 3.25\")\n",
    "df_Kunden_kein_Ausreißer_Anzahl_TIsProCO_merged = pd.merge(df_t_OR, df_Kunden_kein_Ausreißer_Anzahl_TIsProCO, on=[\"iid\"])\n",
    "\n",
    "#Merging iids der Ausreisser mit Transaktionsdaten\n",
    "\n",
    "df_Kunden_mit_Ausreißer_Anzahl_TIsProCO = df_t_OR_grouped.query(\"MeanTIperOR > 3.25\")\n",
    "df_Kunden_mit_Ausreißer_Anzahl_TIsProCO_merged = pd.merge(df_t_OR, df_Kunden_mit_Ausreißer_Anzahl_TIsProCO, on=[\"iid\"])"
   ]
  },
  {
   "cell_type": "code",
   "execution_count": 14,
   "id": "f0cbdcf4",
   "metadata": {},
   "outputs": [],
   "source": [
    "#Daten gruppieren\n",
    "#ohne Ausreisser\n",
    "list_t_ohneAusreiser = df_Kunden_kein_Ausreißer_Anzahl_TIsProCO_merged.groupby([\"iid\"])[\"pricetotal\"].agg(\"sum\")\n",
    "df_t_grouped_ohneAusreiser = list_t_ohneAusreiser.to_frame()\n",
    "df_t_grouped_ohneAusreiser = df_t_grouped_ohneAusreiser.sort_values(\"pricetotal\")\n",
    "#mit Ausreisser\n",
    "list_t_mitAusreiser = df_Kunden_mit_Ausreißer_Anzahl_TIsProCO_merged.groupby([\"iid\"])[\"pricetotal\"].agg(\"sum\")\n",
    "df_t_grouped_mitAusreiser = list_t_mitAusreiser.to_frame()\n",
    "df_t_grouped_mitAusreiser = df_t_grouped_mitAusreiser.sort_values(\"pricetotal\")"
   ]
  },
  {
   "cell_type": "code",
   "execution_count": 15,
   "id": "78c1fe96",
   "metadata": {},
   "outputs": [
    {
     "name": "stdout",
     "output_type": "stream",
     "text": [
      "Umsatz ohne Ausreisser:18771193.560000002\n",
      "Umsatz mit Ausreisser:7472108.7700000005\n"
     ]
    }
   ],
   "source": [
    "#Messung wie viel vom Gesamtumsatz 26,24 Mio erfasst wird\n",
    "\n",
    "print(\"Umsatz ohne Ausreisser:\" + str(df_Kunden_kein_Ausreißer_Anzahl_TIsProCO_merged[\"pricetotal\"].sum()))\n",
    "print(\"Umsatz mit Ausreisser:\" + str(df_Kunden_mit_Ausreißer_Anzahl_TIsProCO_merged[\"pricetotal\"].sum()))"
   ]
  },
  {
   "cell_type": "markdown",
   "id": "e2ad7840",
   "metadata": {},
   "source": [
    "# Analyse 4: Betrachtung der Privatkunden"
   ]
  },
  {
   "cell_type": "code",
   "execution_count": 16,
   "id": "16382d94",
   "metadata": {},
   "outputs": [],
   "source": [
    "#Transaktions-Daten von Privatkunden mit History Daten mergen\n",
    "\n",
    "df_t_ohneAusreißer_Betrachtung = df_t_grouped_ohneAusreiser\n",
    "df_ohneAusreißer_Betrachtung_merged = pd.merge(df_t_ohneAusreißer_Betrachtung, df_history_wofirstname, on=[\"iid\"])"
   ]
  },
  {
   "cell_type": "code",
   "execution_count": 17,
   "id": "d29548d0",
   "metadata": {},
   "outputs": [
    {
     "data": {
      "text/html": [
       "<div>\n",
       "<style scoped>\n",
       "    .dataframe tbody tr th:only-of-type {\n",
       "        vertical-align: middle;\n",
       "    }\n",
       "\n",
       "    .dataframe tbody tr th {\n",
       "        vertical-align: top;\n",
       "    }\n",
       "\n",
       "    .dataframe thead th {\n",
       "        text-align: right;\n",
       "    }\n",
       "</style>\n",
       "<table border=\"1\" class=\"dataframe\">\n",
       "  <thead>\n",
       "    <tr style=\"text-align: right;\">\n",
       "      <th></th>\n",
       "      <th>iid</th>\n",
       "      <th>pricetotal</th>\n",
       "      <th>mandator</th>\n",
       "      <th>id</th>\n",
       "      <th>attrtype</th>\n",
       "      <th>akey</th>\n",
       "      <th>text</th>\n",
       "      <th>creation</th>\n",
       "    </tr>\n",
       "  </thead>\n",
       "  <tbody>\n",
       "    <tr>\n",
       "      <th>0</th>\n",
       "      <td>116868126</td>\n",
       "      <td>1.0</td>\n",
       "      <td>100000490</td>\n",
       "      <td>262840660</td>\n",
       "      <td>HY</td>\n",
       "      <td>261801331</td>\n",
       "      <td>|msg=CRM_Programm Spielzeit 22_23|subject=Ausb...</td>\n",
       "      <td>20220701193553</td>\n",
       "    </tr>\n",
       "    <tr>\n",
       "      <th>1</th>\n",
       "      <td>116868126</td>\n",
       "      <td>1.0</td>\n",
       "      <td>100000490</td>\n",
       "      <td>281712600</td>\n",
       "      <td>HY</td>\n",
       "      <td>280291785</td>\n",
       "      <td>|msg=Save the date_Lessingtage 2023|subject=Le...</td>\n",
       "      <td>20221101135410</td>\n",
       "    </tr>\n",
       "    <tr>\n",
       "      <th>2</th>\n",
       "      <td>116868126</td>\n",
       "      <td>1.0</td>\n",
       "      <td>100000490</td>\n",
       "      <td>158430668</td>\n",
       "      <td>NO</td>\n",
       "      <td>157893070</td>\n",
       "      <td>|msg=Save the Date_Lessingtage_2022|userAgent=...</td>\n",
       "      <td>20211103044451</td>\n",
       "    </tr>\n",
       "    <tr>\n",
       "      <th>3</th>\n",
       "      <td>116868126</td>\n",
       "      <td>1.0</td>\n",
       "      <td>100000490</td>\n",
       "      <td>158430952</td>\n",
       "      <td>NO</td>\n",
       "      <td>157893070</td>\n",
       "      <td>|msg=Save the Date_Lessingtage_2022|userAgent=...</td>\n",
       "      <td>20211103071745</td>\n",
       "    </tr>\n",
       "    <tr>\n",
       "      <th>4</th>\n",
       "      <td>116868126</td>\n",
       "      <td>1.0</td>\n",
       "      <td>100000490</td>\n",
       "      <td>158163331</td>\n",
       "      <td>HY</td>\n",
       "      <td>157893070</td>\n",
       "      <td>|msg=Save the Date_Lessingtage_2022|subject=Le...</td>\n",
       "      <td>20211101110323</td>\n",
       "    </tr>\n",
       "  </tbody>\n",
       "</table>\n",
       "</div>"
      ],
      "text/plain": [
       "         iid  pricetotal   mandator         id attrtype       akey  \\\n",
       "0  116868126         1.0  100000490  262840660       HY  261801331   \n",
       "1  116868126         1.0  100000490  281712600       HY  280291785   \n",
       "2  116868126         1.0  100000490  158430668       NO  157893070   \n",
       "3  116868126         1.0  100000490  158430952       NO  157893070   \n",
       "4  116868126         1.0  100000490  158163331       HY  157893070   \n",
       "\n",
       "                                                text        creation  \n",
       "0  |msg=CRM_Programm Spielzeit 22_23|subject=Ausb...  20220701193553  \n",
       "1  |msg=Save the date_Lessingtage 2023|subject=Le...  20221101135410  \n",
       "2  |msg=Save the Date_Lessingtage_2022|userAgent=...  20211103044451  \n",
       "3  |msg=Save the Date_Lessingtage_2022|userAgent=...  20211103071745  \n",
       "4  |msg=Save the Date_Lessingtage_2022|subject=Le...  20211101110323  "
      ]
     },
     "execution_count": 17,
     "metadata": {},
     "output_type": "execute_result"
    }
   ],
   "source": [
    "df_ohneAusreißer_Betrachtung_merged.head()"
   ]
  },
  {
   "cell_type": "code",
   "execution_count": 18,
   "id": "39f61a4e",
   "metadata": {},
   "outputs": [
    {
     "ename": "NameError",
     "evalue": "name 'df_t_ohneAusreißer_Betrachtung_merged' is not defined",
     "output_type": "error",
     "traceback": [
      "\u001b[1;31m---------------------------------------------------------------------------\u001b[0m",
      "\u001b[1;31mNameError\u001b[0m                                 Traceback (most recent call last)",
      "\u001b[1;32m~\\AppData\\Local\\Temp\\ipykernel_6924\\1670975199.py\u001b[0m in \u001b[0;36m<module>\u001b[1;34m\u001b[0m\n\u001b[1;32m----> 1\u001b[1;33m \u001b[0mdf_t_ohneAusreißer_Betrachtung_merged\u001b[0m\u001b[1;33m[\u001b[0m\u001b[1;34m\"attrtype\"\u001b[0m\u001b[1;33m]\u001b[0m\u001b[1;33m.\u001b[0m\u001b[0mvalue_counts\u001b[0m\u001b[1;33m(\u001b[0m\u001b[1;33m)\u001b[0m\u001b[1;33m\u001b[0m\u001b[1;33m\u001b[0m\u001b[0m\n\u001b[0m",
      "\u001b[1;31mNameError\u001b[0m: name 'df_t_ohneAusreißer_Betrachtung_merged' is not defined"
     ]
    }
   ],
   "source": [
    "df_t_ohneAusreißer_Betrachtung_merged[\"attrtype\"].value_counts()"
   ]
  },
  {
   "cell_type": "code",
   "execution_count": null,
   "id": "cbac79cd",
   "metadata": {},
   "outputs": [],
   "source": [
    "df_t_ohneAusreißer_Betrachtung_merged_and_grouped =\\\n",
    "            df_t_ohneAusreißer_Betrachtung_merged.groupby([\"iid\", \"pricetotal\"])[\"attrtype\"].value_counts().unstack()"
   ]
  },
  {
   "cell_type": "code",
   "execution_count": null,
   "id": "364cdfe7",
   "metadata": {},
   "outputs": [],
   "source": [
    "df_t_ohneAusreißer_Betrachtung_merged_and_grouped.head()"
   ]
  },
  {
   "cell_type": "code",
   "execution_count": null,
   "id": "c4d64c59",
   "metadata": {},
   "outputs": [],
   "source": [
    "df_t_ohneAusreißer_Betrachtung_merged_and_grouped =\\\n",
    "                df_t_ohneAusreißer_Betrachtung_merged_and_grouped.reset_index()\n",
    "df_t_ohneAusreißer_Betrachtung_merged_and_grouped.head()"
   ]
  },
  {
   "cell_type": "code",
   "execution_count": null,
   "id": "9cfb0d75",
   "metadata": {},
   "outputs": [],
   "source": [
    "df_t_ohneAusreißer_Betrachtung_merged_and_grouped[\"Öffnungsrate\"] =\\\n",
    "        df_t_ohneAusreißer_Betrachtung_merged_and_grouped[\"NO\"] / df_t_ohneAusreißer_Betrachtung_merged_and_grouped[\"HY\"]"
   ]
  },
  {
   "cell_type": "code",
   "execution_count": null,
   "id": "f97c8384",
   "metadata": {},
   "outputs": [],
   "source": [
    "df_t_ohneAusreißer_Betrachtung_merged_and_grouped.head()"
   ]
  },
  {
   "cell_type": "code",
   "execution_count": null,
   "id": "c855755b",
   "metadata": {},
   "outputs": [],
   "source": [
    "df_t_ohneAusreißer_Betrachtung_merged_and_grouped.query(\"Öffnungsrate < 0.5 & pricetotal < 1000\")\\\n",
    "                [\"pricetotal\"].plot(kind = \"hist\", bins = 100)"
   ]
  },
  {
   "cell_type": "code",
   "execution_count": null,
   "id": "15869bfd",
   "metadata": {},
   "outputs": [],
   "source": [
    "df_t_ohneAusreißer_Betrachtung_merged_and_grouped.query(\"Öffnungsrate >= 0.5 & pricetotal < 1000\")\\\n",
    "                [\"pricetotal\"].plot(kind = \"hist\", bins = 100)"
   ]
  },
  {
   "cell_type": "code",
   "execution_count": null,
   "id": "284bbc6d",
   "metadata": {},
   "outputs": [],
   "source": []
  }
 ],
 "metadata": {
  "kernelspec": {
   "display_name": "Python 3 (ipykernel)",
   "language": "python",
   "name": "python3"
  },
  "language_info": {
   "codemirror_mode": {
    "name": "ipython",
    "version": 3
   },
   "file_extension": ".py",
   "mimetype": "text/x-python",
   "name": "python",
   "nbconvert_exporter": "python",
   "pygments_lexer": "ipython3",
   "version": "3.9.13"
  }
 },
 "nbformat": 4,
 "nbformat_minor": 5
}
