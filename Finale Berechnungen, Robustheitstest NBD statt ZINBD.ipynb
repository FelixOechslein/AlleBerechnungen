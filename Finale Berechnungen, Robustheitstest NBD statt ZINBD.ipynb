{
 "cells": [
  {
   "cell_type": "code",
   "execution_count": 70,
   "id": "b196d4bb",
   "metadata": {},
   "outputs": [],
   "source": [
    "from scipy.stats import nbinom, binom, poisson\n",
    "from statsmodels.discrete.count_model import ZeroInflatedNegativeBinomialP\n",
    "import pandas as pd\n",
    "import numpy as np\n",
    "import matplotlib.pyplot as plt\n",
    "import scipy.stats as stats\n",
    "import math\n",
    "import seaborn as sns\n",
    "from datetime import datetime, timedelta\n",
    "from scipy.stats import pearsonr\n",
    "from scipy.stats import kendalltau\n",
    "from scipy.stats import spearmanr\n",
    "import os\n",
    "from scipy.optimize import minimize, Bounds, LinearConstraint, NonlinearConstraint\n",
    "import inspect"
   ]
  },
  {
   "cell_type": "code",
   "execution_count": 71,
   "id": "d7f24c1e",
   "metadata": {},
   "outputs": [],
   "source": [
    "path = r'C:/Users/x'\n",
    "filename = 'Pivot_Trans_Privat_ohneApple_Langzeitkunde.csv'\n",
    "\n",
    "df_trans_werte = pd.read_csv(os.path.join(path, filename))"
   ]
  },
  {
   "cell_type": "code",
   "execution_count": 72,
   "id": "4d1d8cdf",
   "metadata": {},
   "outputs": [],
   "source": [
    "path = r'C:/Users/x'\n",
    "filename = 'Pivot_LY_Privat_ohneApple_Langzeitkunde.csv'\n",
    "\n",
    "df_LY = pd.read_csv(os.path.join(path, filename))"
   ]
  },
  {
   "cell_type": "code",
   "execution_count": 73,
   "id": "1c371a2b",
   "metadata": {},
   "outputs": [],
   "source": [
    "path = r'C:/Users/x'\n",
    "filename = 'Pivot_HY_Privat_ohneApple_Langzeitkunde.csv'\n",
    "\n",
    "df_HY = pd.read_csv(os.path.join(path, filename))"
   ]
  },
  {
   "cell_type": "code",
   "execution_count": 74,
   "id": "1fcaab9d",
   "metadata": {},
   "outputs": [],
   "source": [
    "path = r'C:/Users/x'\n",
    "filename = 'Pivot_NO_Privat_ohneApple_Langzeitkunde.csv'\n",
    "\n",
    "df_NO_werte = pd.read_csv(os.path.join(path, filename))"
   ]
  },
  {
   "cell_type": "code",
   "execution_count": 75,
   "id": "68ae15da",
   "metadata": {},
   "outputs": [],
   "source": [
    "path = r'C:/Users/x'\n",
    "filename = 'Pivot_LO_Privat_ohneApple_Langzeitkunde.csv'\n",
    "\n",
    "df_LO = pd.read_csv(os.path.join(path, filename))"
   ]
  },
  {
   "cell_type": "code",
   "execution_count": 76,
   "id": "62c55e83",
   "metadata": {},
   "outputs": [],
   "source": [
    "## Alle DataFrame Werte von Float zu int\n",
    "df_trans_werte = df_trans_werte.astype(int)\n",
    "df_LY = df_LY.astype(int)\n",
    "df_HY = df_HY.astype(int)\n",
    "df_NO_werte = df_NO_werte.astype(int)\n",
    "df_LO = df_LO.astype(int)\n",
    "\n",
    "# Transwerte-1 definiert für spätere Berecnungen in der Copula\n",
    "#df_trans_werte_minusEins = df_trans_werte.loc[:, df_NO_werte.columns != 'iid'] -1\n",
    "#df_trans_werte_minusEins = df_trans_werte_minusEins.astype(int)"
   ]
  },
  {
   "cell_type": "markdown",
   "id": "75901ee7",
   "metadata": {},
   "source": [
    "### Sicherstellen dass alle df dieselben Kunden verwenden"
   ]
  },
  {
   "cell_type": "code",
   "execution_count": 82,
   "id": "e691c85a",
   "metadata": {},
   "outputs": [],
   "source": [
    "# Entfernen der Zeilen aus df_HY, die nicht in df_trans_werte und df_LO enthalten sind\n",
    "df_HY = df_HY[df_HY['iid'].isin(df_trans_werte['iid'])]\n",
    "df_HY = df_HY[df_HY['iid'].isin(df_LO['iid'])]\n",
    "\n",
    "# Entfernen der Zeilen aus df_trans_werte, die nicht in df_HY, df_NO_werte und df_LY enthalten sind\n",
    "df_trans_werte = df_trans_werte[df_trans_werte['iid'].isin(df_HY['iid'])]\n",
    "df_trans_werte = df_trans_werte[df_trans_werte['iid'].isin(df_NO_werte['iid'])]\n",
    "df_trans_werte = df_trans_werte[df_trans_werte['iid'].isin(df_LY['iid'])]\n",
    "\n",
    "# Entfernen der Zeilen aus df_LO, die nicht in df_HY enthalten sind\n",
    "df_LO = df_LO[df_LO['iid'].isin(df_HY['iid'])]\n",
    "\n",
    "# Entfernen der Zeilen aus df_NO_werte, die nicht in df_trans_werte enthalten sind\n",
    "df_NO_werte = df_NO_werte[df_NO_werte['iid'].isin(df_trans_werte['iid'])]\n",
    "\n",
    "# Entfernen der Zeilen aus df_LY, die nicht in df_trans_werte enthalten sind\n",
    "df_LY = df_LY[df_LY['iid'].isin(df_trans_werte['iid'])]\n",
    "\n",
    "### Alle DataFrames Indizes resetten, damit man sie gemeinsam identifiziere kann\n",
    "df_HY = df_HY.reset_index(drop=True)\n",
    "df_trans_werte = df_trans_werte.reset_index(drop=True)\n",
    "df_LO = df_LO.reset_index(drop=True)\n",
    "df_NO_werte = df_NO_werte.reset_index(drop=True)\n",
    "df_LY = df_LY.reset_index(drop=True)\n",
    "\n",
    "# NO-1 definiert für spätere Berechnung inder Copula\n",
    "df_NO_minusEins = df_NO_werte.copy()\n",
    "df_NO_minusEins.loc[:, df_NO_minusEins.columns != 'iid'] = df_NO_minusEins.loc[:, df_NO_minusEins.columns != 'iid'] -1\n",
    "df_NO_minusEins = df_NO_minusEins.astype(int)\n",
    "# transwerte -1 definiert für spätere Berechnung inder Copula\n",
    "df_trans_werte_minusEins = df_trans_werte.copy()\n",
    "df_trans_werte_minusEins.loc[:, df_trans_werte_minusEins.columns != 'iid'] = df_trans_werte_minusEins.loc[:, df_trans_werte_minusEins.columns != 'iid'] -1\n",
    "df_trans_werte_minusEins = df_trans_werte_minusEins.astype(int)"
   ]
  },
  {
   "cell_type": "markdown",
   "id": "452a123b",
   "metadata": {},
   "source": [
    "#### Tests"
   ]
  },
  {
   "cell_type": "code",
   "execution_count": null,
   "id": "fa9fafe3",
   "metadata": {},
   "outputs": [],
   "source": []
  },
  {
   "cell_type": "markdown",
   "id": "e1480ee7",
   "metadata": {},
   "source": [
    "## Ausreißer bei den Kunden löschen"
   ]
  },
  {
   "cell_type": "code",
   "execution_count": null,
   "id": "4b13012c",
   "metadata": {},
   "outputs": [],
   "source": [
    "# Ausreißer wurde vorher ermittelt, weisen außergewöhnlich hohe Ergebisse bei den Öffnugen oder Käufen auf"
   ]
  },
  {
   "cell_type": "code",
   "execution_count": 83,
   "id": "bf8e171f",
   "metadata": {},
   "outputs": [],
   "source": [
    "kunden_pos = [384, 446, 502, 599, 421, 285, 407, 499, 348, 351, 364, 449, 528, 414]"
   ]
  },
  {
   "cell_type": "code",
   "execution_count": 84,
   "id": "950add22",
   "metadata": {},
   "outputs": [],
   "source": [
    "# Zeilen löschen\n",
    "df_NO_minusEins = df_NO_minusEins.drop(kunden_pos).reset_index(drop = True)\n",
    "df_HY = df_HY.drop(kunden_pos).reset_index(drop = True)\n",
    "df_trans_werte = df_trans_werte.drop(kunden_pos).reset_index(drop = True)\n",
    "df_LO = df_LO.drop(kunden_pos).reset_index(drop = True)\n",
    "df_NO_werte = df_NO_werte.drop(kunden_pos).reset_index(drop = True)\n",
    "df_LY = df_LY.drop(kunden_pos).reset_index(drop = True)\n",
    "df_trans_werte_minusEins = df_trans_werte_minusEins.drop(kunden_pos).reset_index(drop = True)"
   ]
  },
  {
   "cell_type": "markdown",
   "id": "8b6b4194",
   "metadata": {},
   "source": [
    "## Spezifikation des Modells"
   ]
  },
  {
   "cell_type": "code",
   "execution_count": 85,
   "id": "fb05ab22",
   "metadata": {},
   "outputs": [
    {
     "data": {
      "text/plain": [
       "633"
      ]
     },
     "execution_count": 85,
     "metadata": {},
     "output_type": "execute_result"
    }
   ],
   "source": [
    "anzahl_kunden = len(df_trans_werte[\"iid\"])\n",
    "anzahl_kunden"
   ]
  },
  {
   "cell_type": "code",
   "execution_count": 86,
   "id": "e71e572f",
   "metadata": {},
   "outputs": [
    {
     "data": {
      "text/plain": [
       "15"
      ]
     },
     "execution_count": 86,
     "metadata": {},
     "output_type": "execute_result"
    }
   ],
   "source": [
    "anzahl_monate = len(df_trans_werte.columns[df_trans_werte.columns != 'iid'])\n",
    "anzahl_monate"
   ]
  },
  {
   "cell_type": "code",
   "execution_count": 87,
   "id": "97faae5f",
   "metadata": {},
   "outputs": [],
   "source": [
    "anzahl_states = 2"
   ]
  },
  {
   "cell_type": "markdown",
   "id": "7f59f07b",
   "metadata": {},
   "source": [
    "##### Definition der Transitionmatrix"
   ]
  },
  {
   "cell_type": "code",
   "execution_count": 88,
   "id": "1430b8ec",
   "metadata": {},
   "outputs": [],
   "source": [
    "# Definition der Erfolgswahrscheinlichkeit p_t als 1 x anzhal_kunden array \n",
    "def Q_v_state_t_minusEins_state_t_monat(alpha, gamma, state_t_minusEins, state, monat):\n",
    "    \n",
    "    state_t_minusEins = state_t_minusEins -1\n",
    "    state = state -1\n",
    "    str_monat = str(monat-1)\n",
    "    \n",
    "    # Definition der X_t_minusEins\n",
    "    # verwendete Parameter\n",
    "    EM_monat_minusEins = df_HY[str_monat]\n",
    "    Y_monat_minusEins = df_trans_werte[str_monat]\n",
    "    O_monat_minusEins = df_NO_werte[str_monat]\n",
    "    # Definition\n",
    "    X_t_minusEins = [O_monat_minusEins.apply(lambda x: int(x > 0)),\\\n",
    "                     Y_monat_minusEins.apply(lambda x: int(x > 0)),\\\n",
    "                     EM_monat_minusEins, np.square(EM_monat_minusEins)]\n",
    "    \n",
    "    X_t_minusEins = np.array(X_t_minusEins)\n",
    "    array_v = alpha[anzahl_states*state_t_minusEins + state] +\\\n",
    "                    gamma[anzahl_states*state_t_minusEins + state] * X_t_minusEins[0] +\\\n",
    "                    gamma[(np.square(anzahl_states)) + anzahl_states*state_t_minusEins + state] * X_t_minusEins[1] +\\\n",
    "                    gamma[(2* np.square(anzahl_states)) + anzahl_states*state_t_minusEins + state] * X_t_minusEins[2] +\\\n",
    "                    gamma[(3* np.square(anzahl_states)) + anzahl_states*state_t_minusEins + state] * X_t_minusEins[3]\n",
    "\n",
    "    return array_v\n",
    "\n",
    "# Definition der Transitionmatrix\n",
    "def probability_Q_state_monat(alpha, gamma):\n",
    "    \n",
    "    ### Erstellung leerer anzahl_states x anzahl_states arrays für jeden Kunden und jeden Monat\n",
    "    Q = np.zeros((anzahl_kunden, anzahl_monate - 1, anzahl_states, anzahl_states))\n",
    "                \n",
    "    for monat in range(2, anzahl_monate + 1):\n",
    "        \n",
    "        for state_t_minusEins in range(1, anzahl_states +1):\n",
    "            \n",
    "            # Erste Spalte besteht aus Nullen, da eine Trasition zurück in state 1 nicht möglich ist\n",
    "            for state in range(2, anzahl_states +1):\n",
    "                \n",
    "                q_array_iid_monat_state = Q_v_state_t_minusEins_state_t_monat(alpha, gamma, state_t_minusEins, state, monat)\n",
    "\n",
    "                # Speicherung der Werte in den leeren arrays\n",
    "                for iid in range(0, anzahl_kunden):\n",
    "                    \n",
    "                    #Neue Definition ohne die Verwedung von Namen\n",
    "                    Q[iid, monat-2, state_t_minusEins-1, state-1] = q_array_iid_monat_state[iid]\n",
    "                    \n",
    "    # Wenn einmal in state 2, kann nicht mehr zurück in state 1\n",
    "    Q[:,:,:,0] = 0.0\n",
    "    \n",
    "    denominator = np.sum(np.exp(Q[..., 1:]), axis=3, keepdims=True)\n",
    "    Q = np.exp(Q)/(1+denominator)\n",
    "    \n",
    "    return Q"
   ]
  },
  {
   "cell_type": "markdown",
   "id": "9b0021ec",
   "metadata": {},
   "source": [
    "#### Tests"
   ]
  },
  {
   "cell_type": "markdown",
   "id": "197ba00b",
   "metadata": {},
   "source": [
    "##### Definition der Verteilungsfunktion F_1 von CEOM aals anzahl_kunden x 1 Array für jeden state und Monat"
   ]
  },
  {
   "cell_type": "code",
   "execution_count": 93,
   "id": "a1af4196",
   "metadata": {},
   "outputs": [],
   "source": [
    "# Definition der Erfolgswahrscheinlichkeit p_t als 1 x anzhal_kunden array \n",
    "def lambda_O_state_monat(alpha_o, beta_o, state, monat):\n",
    "    \n",
    "    state = state -1\n",
    "    \n",
    "    # Definitio von str_monat um auf den spaltennamen zugreifen zu können\n",
    "    str_monat = str(monat)\n",
    "    \n",
    "    # EM_iidt:Anzahl dversendeter Mails in Monat t an Kunde mit iid\n",
    "    EM_monat = df_HY[str_monat]\n",
    "    LO_monat = df_LO[str_monat]\n",
    "    \n",
    "    # Erhalten der Werte für die Verarbeitung in der Formel\n",
    "    array_lambda = np.exp(np.log(0.63)*EM_monat + alpha_o[state] + beta_o[0] * np.log(LO_monat))\n",
    "\n",
    "    return array_lambda\n",
    "\n",
    "# Array der Verteilungsfunktion der Öffungen O für Monat und state\n",
    "def F_O_state_monat(alpha_o, beta_o, state, monat):\n",
    "    \n",
    "    # Definitio von str_monat um auf den spaltennamen zugreifen zu können\n",
    "    str_monat = str(monat)\n",
    "    \n",
    "    # o_iidt: Anzahl geöffneter Mails in Monat t von allen Kunden\n",
    "    o_monat = df_NO_werte[str_monat]\n",
    "    \n",
    "    lambda_O_state_monat_berechnung = lambda_O_state_monat(alpha_o, beta_o, state, monat)\n",
    "    \n",
    "    array_F_O_berechnung = poisson.cdf(o_monat, lambda_O_state_monat_berechnung)\n",
    "         \n",
    "    return array_F_O_berechnung\n",
    "\n",
    "# Array der Verteilungsfunktion der Öffungen O -1 für Monat und state\n",
    "def F_O_state_monat_minusEins(alpha_o, beta_o, state, monat):\n",
    "    \n",
    "    # Definitio von str_monat um auf den spaltennamen zugreifen zu können\n",
    "    str_monat = str(monat)\n",
    "    \n",
    "    # o_iidt: Anzahl geöffneter Mails in Monat t von allen Kunden\n",
    "    o_monat = df_NO_minusEins[str_monat]\n",
    "    \n",
    "    lambda_O_state_monat_berechnung = lambda_O_state_monat(alpha_o, beta_o, state, monat)\n",
    "    \n",
    "    array_F_O_berechnung = poisson.cdf(o_monat, lambda_O_state_monat_berechnung)\n",
    "\n",
    "    return array_F_O_berechnung"
   ]
  },
  {
   "cell_type": "markdown",
   "id": "42b2c544",
   "metadata": {},
   "source": [
    "#### Tests"
   ]
  },
  {
   "cell_type": "markdown",
   "id": "a762e9fd",
   "metadata": {},
   "source": [
    "##### Definition der Verteilungsfunktio F_2 von CPM als anzahl_kunden x 1 Array für jeden state und Monat"
   ]
  },
  {
   "cell_type": "code",
   "execution_count": 94,
   "id": "69d53554",
   "metadata": {},
   "outputs": [],
   "source": [
    "# Definition der lambdaY als anzahl_iids x 1 array für monat und state\n",
    "def p_state_monat(delta_0, delta_1, alpha_p, beta_p_1, beta_p_2, state, monat):\n",
    "    \n",
    "    state = state -1\n",
    "    \n",
    "    # Definitio von str_monat um auf den spaltennamen zugreifen zu können\n",
    "    str_monat = str(monat)\n",
    "    EM_monat = df_HY[str_monat]\n",
    "    LY_monat = df_LY[str_monat]\n",
    "    \n",
    "    array_exp = np.exp(alpha_p[state] + beta_p_1[state] * EM_monat + beta_p_2[state] * np.square(EM_monat) +\\\n",
    "                      + delta_1[state] * np.log(LY_monat))\n",
    "    array_p = array_exp / (1+ array_exp)\n",
    "    \n",
    "    return array_p\n",
    "\n",
    "# Array der Verteilungsfunktion der Käufe Y für Monat und state\n",
    "def F_Y_state_monat(delta_0, delta_1, alpha_p, beta_p_1, beta_p_2, state, monat):\n",
    "    \n",
    "    # Definitio von str_monat um auf den spaltennamen zugreifen zu können\n",
    "    str_monat = str(monat)\n",
    "    # y_monat ist das array mit der Anzahl an Käufen in monat str_monat\n",
    "    y_monat = df_trans_werte[str_monat]\n",
    "    LY_monat = df_LY[str_monat]\n",
    "    # p ist das 1 x anzahl_iids array mit p für jeden kunden mit gegegebenem monat und state\n",
    "    array_p = p_state_monat(delta_0, delta_1, alpha_p, beta_p_1, beta_p_2, state, monat)\n",
    "    # cdf berechnen\n",
    "    cdf = nbinom.cdf(y_monat, 0.779, array_p)\n",
    "    \n",
    "    return cdf\n",
    "\n",
    "# Array der Verteilungsfunktion der Käufe Y-1 für Monat und state\n",
    "def F_Y_state_monat_minusEins(delta_0, delta_1, alpha_p, beta_p_1, beta_p_2, state, monat):\n",
    "    \n",
    "    # Definitio von str_monat um auf den spaltennamen zugreifen zu können\n",
    "    str_monat = str(monat)\n",
    "    # y_monat ist das array mit der Anzahl an Käufen in monat str_monat\n",
    "    y_monat = df_trans_werte[str_monat] -1\n",
    "    LY_monat = df_LY[str_monat]\n",
    "    # p ist das 1 x anzahl_iids array mit p für jeden kunden mit gegegebenem monat und state\n",
    "    array_p = p_state_monat(delta_0, delta_1, alpha_p, beta_p_1, beta_p_2, state, monat)\n",
    "    # cdf berechnen\n",
    "    cdf = nbinom.cdf(y_monat, 0.779, array_p)\n",
    "    \n",
    "    return cdf"
   ]
  },
  {
   "cell_type": "markdown",
   "id": "da44f57e",
   "metadata": {},
   "source": [
    "#### Tests"
   ]
  },
  {
   "cell_type": "markdown",
   "id": "1b3cd732",
   "metadata": {},
   "source": [
    "##### Definition der Frank-copula"
   ]
  },
  {
   "cell_type": "code",
   "execution_count": 95,
   "id": "93d54445",
   "metadata": {},
   "outputs": [],
   "source": [
    "# Frank Copula, theta fehlt\n",
    "def Frank_copula(u_1, u_2, theta):\n",
    "    numerator = (np.exp(-theta[0]*u_1) - 1) * (np.exp(-theta[0]*u_2) - 1)\n",
    "    denominator = np.exp(-theta[0]) - 1\n",
    "    fraction = numerator / denominator\n",
    "    return (-1 / theta[0]) * np.log(1 + fraction)"
   ]
  },
  {
   "cell_type": "markdown",
   "id": "94ff64e7",
   "metadata": {},
   "source": [
    "##### Definition der Likelihoodfunktion"
   ]
  },
  {
   "cell_type": "code",
   "execution_count": 96,
   "id": "847bd7e2",
   "metadata": {},
   "outputs": [],
   "source": [
    "# alpha_o, delta_0, delta_1, alpha_p, beta_p_1, beta_p_2 sind state dependent\n",
    "# beta_o, r sind state independent\n",
    "def likelihood_function(params):\n",
    "    \n",
    "    alpha_size = anzahl_states**2\n",
    "    gamma_size = anzahl_states**2 * 4\n",
    "\n",
    "    alpha = params[:alpha_size]\n",
    "    gamma = params[alpha_size:alpha_size+gamma_size]\n",
    "    alpha_o = params[alpha_size+gamma_size:alpha_size+gamma_size+anzahl_states]\n",
    "    beta_o = params[alpha_size+gamma_size+anzahl_states:alpha_size+gamma_size+anzahl_states+1]\n",
    "    delta_0 = params[alpha_size+gamma_size+anzahl_states+1:alpha_size+gamma_size+anzahl_states*2+1]\n",
    "    delta_1 = params[alpha_size+gamma_size+anzahl_states*2+1:alpha_size+gamma_size+anzahl_states*3+1]\n",
    "    alpha_p = params[alpha_size+gamma_size+anzahl_states*3+1:alpha_size+gamma_size+anzahl_states*4+1]\n",
    "    beta_p_1 = params[alpha_size+gamma_size+anzahl_states*4+1:alpha_size+gamma_size+anzahl_states*5+1]\n",
    "    beta_p_2 = params[alpha_size+gamma_size+anzahl_states*5+1:alpha_size+gamma_size+anzahl_states*6+1]\n",
    "    theta = params[alpha_size+gamma_size+anzahl_states*6+1:]\n",
    "\n",
    "\n",
    "    #alpha, gamma, alpha_o, beta_o, delta_0, delta_1, alpha_p, beta_p_1, beta_p_2, r, theta = params\n",
    "    ### Erstellung einer Liste H die alle H_it enthalten\n",
    "    H = np.zeros((anzahl_kunden, anzahl_monate, anzahl_states))\n",
    "                \n",
    "                \n",
    "    for monat in range(1,anzahl_monate+1):\n",
    "        for state in range(1, anzahl_states +1):\n",
    "            \n",
    "            # Berechnung von arrays für die Verteilungsfunktionen\n",
    "            F_O_state_monat_berechnung = F_O_state_monat(alpha_o, beta_o, state, monat)\n",
    "            \n",
    "            F_O_state_monat_berechnung_minusEins = F_O_state_monat_minusEins(alpha_o, beta_o, state, monat)\n",
    "            \n",
    "            F_Y_state_monat_berechnung = F_Y_state_monat(delta_0, delta_1, alpha_p, beta_p_1, beta_p_2, state, monat)\n",
    "            \n",
    "            F_Y_state_monat_berechnung_minusEins =\\\n",
    "                    F_Y_state_monat_minusEins(delta_0, delta_1, alpha_p, beta_p_1, beta_p_2, state, monat)\n",
    "            \n",
    "            # Berechnung der gemeinsamen Verteilungen\n",
    "            H_state_monat_berechnung =\\\n",
    "                            Frank_copula(F_O_state_monat_berechnung, F_Y_state_monat_berechnung, theta) -\\\n",
    "                            Frank_copula(F_O_state_monat_berechnung_minusEins, F_Y_state_monat_berechnung, theta) -\\\n",
    "                            Frank_copula(F_O_state_monat_berechnung, F_Y_state_monat_berechnung_minusEins, theta) +\\\n",
    "                            Frank_copula(F_O_state_monat_berechnung_minusEins, F_Y_state_monat_berechnung_minusEins, theta)\n",
    "            \n",
    "            # Speicherung der Werte in den leeren arrays\n",
    "            H[:, monat-1, state-1] = H_state_monat_berechnung\n",
    "\n",
    "    # Startverteilung ist (1, 0,..., 0)\n",
    "    startverteilung = np.zeros((1, anzahl_states))\n",
    "    startverteilung[0, 0] = 1\n",
    "    \n",
    "    # Transitionmatrix Q, liste von 3x3 Arrays, wobei für Monate 2, ..., 15 die Q_it angegeben werden und die Q_it fü die\n",
    "    # nächsten Kunden dahinter angehängt werden\n",
    "    Q = probability_Q_state_monat(alpha, gamma)\n",
    "    \n",
    "    eins_vektor = np.ones((anzahl_states, 1))\n",
    "    \n",
    "    likelihood = np.array([])\n",
    "    \n",
    "    for iid in range(anzahl_kunden):\n",
    "        result = startverteilung\n",
    "        result = np.matmul(result, np.diag(H[iid, 0]))\n",
    "        H_iid = np.eye(anzahl_states)\n",
    "        for monat in range(2, anzahl_monate+1):\n",
    "                H_iid_monat = np.matmul(np.diag(H[iid, monat-1]), Q[iid, monat-2])\n",
    "                H_iid = np.matmul(H_iid, H_iid_monat)\n",
    "        result = np.matmul(result, H_iid)\n",
    "        result = np.matmul(result, eins_vektor)\n",
    "        likelihood = np.concatenate((likelihood, result[0]))\n",
    "        \n",
    "    return abs(np.sum(np.log(likelihood)))"
   ]
  },
  {
   "cell_type": "markdown",
   "id": "2553a878",
   "metadata": {},
   "source": [
    "#### Tests"
   ]
  },
  {
   "cell_type": "markdown",
   "id": "aebd4d8b",
   "metadata": {},
   "source": [
    "# Berechnung der Likelihoodfunktion und Schätzung der Parameter"
   ]
  },
  {
   "cell_type": "markdown",
   "id": "42091ca4",
   "metadata": {},
   "source": [
    "### Dispersion Parameter r für die ZINBD Verteilun wurde vorhergeschätzt"
   ]
  },
  {
   "cell_type": "code",
   "execution_count": 98,
   "id": "b3bad52f",
   "metadata": {},
   "outputs": [],
   "source": [
    "r = [1.29]"
   ]
  },
  {
   "cell_type": "markdown",
   "id": "2f1899b5",
   "metadata": {},
   "source": [
    "### Definition der Startwerte"
   ]
  },
  {
   "cell_type": "code",
   "execution_count": 99,
   "id": "0128d379",
   "metadata": {
    "scrolled": true
   },
   "outputs": [],
   "source": [
    "# Parameter für Transitionmatrix, 2 states\n",
    "values_quelle_alpha = [0, 0, 0, 0]\n",
    "alpha = np.array(values_quelle_alpha)\n",
    "gamma = np.zeros((anzahl_states, anzahl_states, 4)).flatten()\n",
    "\n",
    "# Parameter für CEOM\n",
    "# values_quelle_alpha_o wurde aus einer vorherigen Optimierung übernommen\n",
    "values_quelle_alpha_o = [0]\n",
    "alpha_o = values_quelle_alpha_o * anzahl_states\n",
    "# values_quelle_beta_o wurdevorher nicht geschätzt\n",
    "values_quelle_beta_o = [0]\n",
    "beta_o = values_quelle_beta_o\n",
    "\n",
    "# Parameter für CPM\n",
    "# values_quelle_alpha_o wurde aus einer vorherigen Optimierung übernommen\n",
    "values_quelle_delta_0 = [np.log(1.29)]\n",
    "delta_0 = values_quelle_delta_0 * anzahl_states\n",
    "# values_quelle_delta_1 wurde nicht aus einer vorherigen Optimierung übernommen\n",
    "values_quelle_delta_1 = [0]\n",
    "delta_1 = values_quelle_delta_1 * anzahl_states\n",
    "# values_quelle_alpha_p wurde aus einer vorherigen Optimierung übernommen\n",
    "values_quelle_alpha_p = [1]\n",
    "alpha_p = values_quelle_alpha_p * anzahl_states\n",
    "# beta_p_1 wurde nicht aus einer vorherigen Optimierung übernommen\n",
    "values_quelle_beta_p_1 = [0]\n",
    "beta_p_1 = values_quelle_beta_p_1 * anzahl_states\n",
    "# beta_p_2 wurde nicht aus einer vorherigen Optimierung übernommen\n",
    "values_quelle_beta_p_2 = [0]\n",
    "beta_p_2 = values_quelle_beta_p_2 * anzahl_states\n",
    "\n",
    "# Parameter für Frank_copula\n",
    "theta = np.array([0.324])"
   ]
  },
  {
   "cell_type": "code",
   "execution_count": 100,
   "id": "e92a28a0",
   "metadata": {},
   "outputs": [],
   "source": [
    "# Startwerte\n",
    "x0 = np.concatenate((\n",
    "    alpha,\n",
    "    gamma,\n",
    "    alpha_o,\n",
    "    beta_o,\n",
    "    delta_0,\n",
    "    delta_1,\n",
    "    alpha_p,\n",
    "    beta_p_1,\n",
    "    beta_p_2,\n",
    "    theta))"
   ]
  },
  {
   "cell_type": "markdown",
   "id": "27e180c8",
   "metadata": {},
   "source": [
    "### Sonderfall"
   ]
  },
  {
   "cell_type": "code",
   "execution_count": 101,
   "id": "626d2941",
   "metadata": {},
   "outputs": [],
   "source": [
    "#x0 = estimated_params_4"
   ]
  },
  {
   "cell_type": "markdown",
   "id": "b82a73b6",
   "metadata": {},
   "source": [
    "### Definition der Bounds und Constraints"
   ]
  },
  {
   "cell_type": "code",
   "execution_count": 102,
   "id": "21aee4aa",
   "metadata": {},
   "outputs": [],
   "source": [
    "#Definiere bounds\n",
    "bounds =    [(-3, 3)] * len(alpha) +\\\n",
    "            [(-3, 3)] * len(gamma) +\\\n",
    "            [(-3, 3)] * len(alpha_o) +\\\n",
    "            [(-3, 3)] * len(beta_o) +\\\n",
    "            [(-8, 8)] * len(delta_0) +\\\n",
    "            [(-3, 2)] * len(delta_1) +\\\n",
    "            [(-3, 3)] * len(alpha_p) +\\\n",
    "            [(-3, 3)] * len(beta_p_1) +\\\n",
    "            [(-3, 3)] * len(beta_p_2) +\\\n",
    "            [(0.1, None)] * len(theta)"
   ]
  },
  {
   "cell_type": "code",
   "execution_count": 103,
   "id": "7d54274d",
   "metadata": {},
   "outputs": [],
   "source": [
    "#Für die Definition der constraint relevant\n",
    "alpha_size = anzahl_states**2\n",
    "gamma_size = anzahl_states**2 * 4\n",
    "# alpha_o = params[alpha_size+gamma_size:alpha_size+gamma_size+anzahl_states]\n",
    "constraint_matrix = np.zeros((2, len(x0)))\n",
    "# Positionen für alpha_o\n",
    "alpha_o_1_pos = alpha_size + gamma_size\n",
    "alpha_o_2_pos = alpha_size + gamma_size + 1\n",
    "alpha_o_3_pos = alpha_size + gamma_size + 2\n",
    "# -1 und 1 an den entsprechenden Positionen setzen\n",
    "constraint_matrix[0][alpha_o_1_pos] = -1\n",
    "constraint_matrix[0][alpha_o_2_pos] = 1\n",
    "constraint_matrix[1][alpha_o_2_pos] = -1\n",
    "constraint_matrix[1][alpha_o_3_pos] = 1"
   ]
  },
  {
   "cell_type": "code",
   "execution_count": 104,
   "id": "858d94bb",
   "metadata": {
    "scrolled": false
   },
   "outputs": [
    {
     "data": {
      "text/plain": [
       "array([[ 0.,  0.,  0.,  0.,  0.,  0.,  0.,  0.,  0.,  0.,  0.,  0.,  0.,\n",
       "         0.,  0.,  0.,  0.,  0.,  0.,  0., -1.,  1.,  0.,  0.,  0.,  0.,\n",
       "         0.,  0.,  0.,  0.,  0.,  0.,  0.,  0.],\n",
       "       [ 0.,  0.,  0.,  0.,  0.,  0.,  0.,  0.,  0.,  0.,  0.,  0.,  0.,\n",
       "         0.,  0.,  0.,  0.,  0.,  0.,  0.,  0., -1.,  1.,  0.,  0.,  0.,\n",
       "         0.,  0.,  0.,  0.,  0.,  0.,  0.,  0.]])"
      ]
     },
     "execution_count": 104,
     "metadata": {},
     "output_type": "execute_result"
    }
   ],
   "source": [
    "constraint_matrix"
   ]
  },
  {
   "cell_type": "code",
   "execution_count": 105,
   "id": "42242e75",
   "metadata": {},
   "outputs": [],
   "source": [
    "linear_constraint = LinearConstraint(constraint_matrix, [0, 0], [np.inf, np.inf])"
   ]
  },
  {
   "cell_type": "markdown",
   "id": "2a3dc1b8",
   "metadata": {},
   "source": [
    "### Berechnung per minimize Funktion"
   ]
  },
  {
   "cell_type": "code",
   "execution_count": 106,
   "id": "48ee675b",
   "metadata": {
    "scrolled": false
   },
   "outputs": [
    {
     "name": "stdout",
     "output_type": "stream",
     "text": [
      "[ 0.         -2.19735202  0.          2.37972066  0.          1.30515936\n",
      "  0.          2.58464387  0.          0.1361597   0.         -0.24350485\n",
      "  0.          1.62238721  0.         -3.          0.         -0.29968159\n",
      "  0.          0.78316849  0.28249055  1.43691363 -1.08553567  0.25464222\n",
      "  0.25464222  0.7767828   0.13663523 -0.15226754  0.77264837  0.43711191\n",
      "  0.07582639 -0.17356914 -0.06043485  1.03787197]\n"
     ]
    }
   ],
   "source": [
    "options = {'maxiter': 200} \n",
    "# Rufen Sie minimize() auf und übergeben Sie die zusätzlichen Parameter mit args=\n",
    "result = minimize(likelihood_function, x0, options=options, bounds = bounds) \n",
    "                  #constraints=linear_constraint)\n",
    "                  #args=(alpha, gamma, alpha_o, beta_o, delta_0, delta_1, alpha_p, beta_p_1, beta_p_2, r, theta), bounds=bounds)\n",
    "\n",
    "# Gib die geschätzten Parameter aus\n",
    "print(result.x)"
   ]
  },
  {
   "cell_type": "code",
   "execution_count": 107,
   "id": "4b0604b9",
   "metadata": {},
   "outputs": [
    {
     "name": "stdout",
     "output_type": "stream",
     "text": [
      "Likelihood für optimale Parameter:\n",
      "20927.456287632907\n"
     ]
    }
   ],
   "source": [
    "# Berechne die Likelihood für die optimalen Parameter\n",
    "likelihood = likelihood_function(result.x)\n",
    "print(\"Likelihood für optimale Parameter:\")\n",
    "print(likelihood)"
   ]
  },
  {
   "cell_type": "code",
   "execution_count": 108,
   "id": "cb21a0e4",
   "metadata": {},
   "outputs": [
    {
     "name": "stdout",
     "output_type": "stream",
     "text": [
      "False\n"
     ]
    }
   ],
   "source": [
    "print(result.success)"
   ]
  },
  {
   "cell_type": "code",
   "execution_count": 151,
   "id": "e3c3d3f9",
   "metadata": {},
   "outputs": [
    {
     "data": {
      "text/plain": [
       "      fun: 20927.456287632907\n",
       " hess_inv: <34x34 LbfgsInvHessProduct with dtype=float64>\n",
       "      jac: array([ 0.00000000e+00, -3.81987777e-02,  0.00000000e+00,  4.32919481e-02,\n",
       "        0.00000000e+00,  1.49884728e-01,  0.00000000e+00, -7.63975554e-03,\n",
       "        0.00000000e+00,  1.54977897e-01,  0.00000000e+00, -4.29281499e-02,\n",
       "        0.00000000e+00, -3.82715373e-01,  0.00000000e+00,  1.50241250e+01,\n",
       "        0.00000000e+00, -9.45874490e-03,  0.00000000e+00,  2.07364791e-01,\n",
       "        3.74711817e-01, -5.31144909e-01,  8.05448513e-01,  0.00000000e+00,\n",
       "        0.00000000e+00,  4.03088050e-01,  3.87808541e-01,  2.58296495e-01,\n",
       "       -7.27595758e-03,  7.34871719e-02,  1.76805770e-01,  4.29281499e-02,\n",
       "        1.07102096e+00, -2.71029423e-01])\n",
       "  message: 'STOP: TOTAL NO. of ITERATIONS REACHED LIMIT'\n",
       "     nfev: 7945\n",
       "      nit: 200\n",
       "     njev: 227\n",
       "   status: 1\n",
       "  success: False\n",
       "        x: array([ 0.        , -2.19735202,  0.        ,  2.37972066,  0.        ,\n",
       "        1.30515936,  0.        ,  2.58464387,  0.        ,  0.1361597 ,\n",
       "        0.        , -0.24350485,  0.        ,  1.62238721,  0.        ,\n",
       "       -3.        ,  0.        , -0.29968159,  0.        ,  0.78316849,\n",
       "        0.28249055,  1.43691363, -1.08553567,  0.25464222,  0.25464222,\n",
       "        0.7767828 ,  0.13663523, -0.15226754,  0.77264837,  0.43711191,\n",
       "        0.07582639, -0.17356914, -0.06043485,  1.03787197])"
      ]
     },
     "execution_count": 151,
     "metadata": {},
     "output_type": "execute_result"
    }
   ],
   "source": [
    "result"
   ]
  },
  {
   "cell_type": "markdown",
   "id": "1dc6b0b2",
   "metadata": {},
   "source": [
    "# Ergebisse:"
   ]
  },
  {
   "cell_type": "code",
   "execution_count": 122,
   "id": "c1328a39",
   "metadata": {},
   "outputs": [
    {
     "name": "stdout",
     "output_type": "stream",
     "text": [
      "array_lambda = np.exp(np.log(0.63*EM_monat) + alpha_o[state] + beta_o[0] * np.log(LO_monat))\n",
      "array_lambda = array_lambda / 1 + array_lambda\n",
      "array_exp = np.exp(alpha_p[state] + beta_p_1[state] * EM_monat + beta_p_2[state] * np.square(EM_monat))\n",
      "Likelihood für optimale Parameter: 17812\n"
     ]
    }
   ],
   "source": [
    "# Ausgangssituation\n",
    "print(\"array_lambda = np.exp(np.log(0.63*EM_monat) + alpha_o[state] + beta_o[0] * np.log(LO_monat))\")\n",
    "print(\"array_lambda = array_lambda / 1 + array_lambda\")\n",
    "print(\"array_exp = np.exp(alpha_p[state] + beta_p_1[state] * EM_monat + beta_p_2[state] * np.square(EM_monat))\")\n",
    "print(\"Likelihood für optimale Parameter: 17812\")"
   ]
  },
  {
   "cell_type": "code",
   "execution_count": 123,
   "id": "9c2e7da3",
   "metadata": {},
   "outputs": [
    {
     "name": "stdout",
     "output_type": "stream",
     "text": [
      "array_lambda = np.exp(np.log(0.63*EM_monat) + alpha_o[state] + beta_o[0] * np.log(LO_monat))\n",
      "array_lambda = array_lambda\n",
      "array_exp = np.exp(alpha_p[state] + beta_p_1[state] * EM_monat + beta_p_2[state] * np.square(EM_monat))\n",
      "Likelihood für optimale Parameter: 17812\n"
     ]
    }
   ],
   "source": [
    "# Test ob array_lambda = array_lambda / 1 + array_lambda bessere oder schlechtere Ergebnisse liefert \n",
    "print(\"array_lambda = np.exp(np.log(0.63*EM_monat) + alpha_o[state] + beta_o[0] * np.log(LO_monat))\")\n",
    "print(\"array_lambda = array_lambda\")\n",
    "print(\"array_exp = np.exp(alpha_p[state] + beta_p_1[state] * EM_monat + beta_p_2[state] * np.square(EM_monat))\")\n",
    "print(\"Likelihood für optimale Parameter: 17812\")"
   ]
  },
  {
   "cell_type": "code",
   "execution_count": 124,
   "id": "57000de5",
   "metadata": {},
   "outputs": [
    {
     "name": "stdout",
     "output_type": "stream",
     "text": [
      "array_lambda = np.exp(np.log(0.63*EM_monat) + alpha_o[state] + beta_o[0] * np.log(LO_monat))\n",
      "array_lambda = array_lambda\n",
      "array_exp = np.exp(alpha_p[state] + beta_p_1[state] * EM_monat)\n",
      "Likelihood für optimale Parameter: 17812\n"
     ]
    }
   ],
   "source": [
    "# Test kein quadratischer Einfluss des EM auf Käufe\n",
    "print(\"array_lambda = np.exp(np.log(0.63*EM_monat) + alpha_o[state] + beta_o[0] * np.log(LO_monat))\")\n",
    "print(\"array_lambda = array_lambda\")\n",
    "print(\"array_exp = np.exp(alpha_p[state] + beta_p_1[state] * EM_monat)\")\n",
    "print(\"Likelihood für optimale Parameter: 17812\")"
   ]
  },
  {
   "cell_type": "code",
   "execution_count": 125,
   "id": "2fbf7a56",
   "metadata": {},
   "outputs": [
    {
     "name": "stdout",
     "output_type": "stream",
     "text": [
      "array_lambda = np.exp(np.log(0.63*EM_monat) + alpha_o[state] + beta_o[0] * np.log(LO_monat))\n",
      "array_lambda = array_lambda\n",
      "array_exp = np.exp(alpha_p[state] + beta_p_1[state] * EM_monat + beta_p_2[state] * np.square(EM_monat))\n",
      "Likelihood für optimale Parameter: 17547\n"
     ]
    }
   ],
   "source": [
    "# Test, ob keine \"keine constraints\" zu besseren Ergebnissen führt\n",
    "print(\"array_lambda = np.exp(np.log(0.63*EM_monat) + alpha_o[state] + beta_o[0] * np.log(LO_monat))\")\n",
    "print(\"array_lambda = array_lambda\")\n",
    "print(\"array_exp = np.exp(alpha_p[state] + beta_p_1[state] * EM_monat + beta_p_2[state] * np.square(EM_monat))\")\n",
    "print(\"Likelihood für optimale Parameter: 17547\")"
   ]
  },
  {
   "cell_type": "code",
   "execution_count": 126,
   "id": "8442ee3e",
   "metadata": {},
   "outputs": [
    {
     "name": "stdout",
     "output_type": "stream",
     "text": [
      "likelihood mit ZINBD: 14451\n"
     ]
    }
   ],
   "source": [
    "#Ob nach Anpassungen die schönere Schreibweise auch für die ZINBD Definition funktioeiert und dieselben Ergebnisse liefert\n",
    "print(\"likelihood mit ZINBD: 14451\")"
   ]
  },
  {
   "cell_type": "code",
   "execution_count": 127,
   "id": "02f9d767",
   "metadata": {
    "scrolled": true
   },
   "outputs": [
    {
     "name": "stdout",
     "output_type": "stream",
     "text": [
      "likelihood mit ZINBD:\n",
      "array_lambda = np.exp(np.log(0.63*EM_monat) + alpha_o[state] + beta_o[0] * np.log(LO_monat))\n",
      "array_lambda = array_lambda\n",
      "array_exp = np.exp(alpha_p[state] + beta_p_1[state] * EM_monat + beta_p_2[state] * np.square(EM_monat))\n",
      "Likelihood für optimale Parameter: 14451\n",
      "Parameter:\n"
     ]
    }
   ],
   "source": [
    "# Test ob für Standardspezifikation\n",
    "print(\"likelihood mit ZINBD:\")\n",
    "print(\"array_lambda = np.exp(np.log(0.63*EM_monat) + alpha_o[state] + beta_o[0] * np.log(LO_monat))\")\n",
    "print(\"array_lambda = array_lambda\")\n",
    "print(\"array_exp = np.exp(alpha_p[state] + beta_p_1[state] * EM_monat + beta_p_2[state] * np.square(EM_monat))\")\n",
    "print(\"Likelihood für optimale Parameter: 14451\")\n",
    "print(\"Parameter:\")"
   ]
  },
  {
   "cell_type": "code",
   "execution_count": 128,
   "id": "dddde613",
   "metadata": {},
   "outputs": [],
   "source": [
    "optim_param = [ 0.00000000e+00, -8.42013774e+01,  1.69986125e+01,  0.00000000e+00,\n",
    "       -1.25200153e+01, -1.53060979e+01,  0.00000000e+00, -4.01802666e+00,\n",
    "        3.14514828e+01,  0.00000000e+00, -3.40875207e+01, -2.82844507e-01,\n",
    "        0.00000000e+00, -1.16977610e+01, -4.21223535e+01,  0.00000000e+00,\n",
    "       -3.23512569e+01,  5.05520432e+00,  0.00000000e+00, -1.36423722e+00,\n",
    "       -1.19458664e+00,  0.00000000e+00,  1.05242438e+00, -1.51554184e+01,\n",
    "        0.00000000e+00,  1.02752609e+00,  8.49398978e-01,  0.00000000e+00,\n",
    "        7.18296331e+01,  4.41698548e-01,  0.00000000e+00,  1.58841432e+01,\n",
    "        1.58119714e+01,  0.00000000e+00,  1.02333573e+01, -1.84782829e+01,\n",
    "        0.00000000e+00, -1.06581824e+01, -4.26447692e-01,  0.00000000e+00,\n",
    "        2.48374764e+01,  2.47507462e+01,  0.00000000e+00, -1.02161982e+00,\n",
    "        4.57256224e+00,  2.68038255e-02, -9.78697275e-01,  2.34488631e-01,\n",
    "       -2.46871753e-01,  1.80545838e+01,  2.12346810e+01,  1.49348847e+01,\n",
    "        0.00000000e+00,  1.72348151e-01, -3.64387979e-01, -5.53773619e-01,\n",
    "       -2.76890669e+00, -1.66599130e+00,  4.94843823e-01,  8.64751297e-01,\n",
    "       -6.48676929e-02, -2.92112867e-01, -1.55380568e-01,  5.61001901e-02,\n",
    "        1.47689589e+00]"
   ]
  },
  {
   "cell_type": "code",
   "execution_count": 129,
   "id": "31bc225a",
   "metadata": {},
   "outputs": [
    {
     "name": "stdout",
     "output_type": "stream",
     "text": [
      "likelihood mit ZINBD:\n",
      "array_lambda = np.exp(np.log(0.63)*EM_monat + alpha_o[state] + beta_o[0] * np.log(LO_monat))\n",
      "array_lambda = array_lambda\n",
      "array_exp = np.exp(alpha_p[state] + beta_p_1[state] * EM_monat + beta_p_2[state] * np.square(EM_monat))\n",
      "Likelihood für optimale Parameter: 18522\n"
     ]
    }
   ],
   "source": [
    "# Test ob np.log(0.63)*EM_monat besser als np.log(0.63*EM_monat)läuft und evtl terminiert\n",
    "print(\"likelihood mit ZINBD:\")\n",
    "print(\"array_lambda = np.exp(np.log(0.63)*EM_monat + alpha_o[state] + beta_o[0] * np.log(LO_monat))\")\n",
    "print(\"array_lambda = array_lambda\")\n",
    "print(\"array_exp = np.exp(alpha_p[state] + beta_p_1[state] * EM_monat + beta_p_2[state] * np.square(EM_monat))\")\n",
    "print(\"Likelihood für optimale Parameter: 18522\")"
   ]
  },
  {
   "cell_type": "code",
   "execution_count": 130,
   "id": "f80a56f8",
   "metadata": {},
   "outputs": [],
   "source": [
    "optim_param = [ 0.00000000e+00, -8.42324287e+01,  1.69437089e+01,  0.00000000e+00,\n",
    "       -1.51114259e+01, -1.27787560e+01,  0.00000000e+00, -4.66039409e+00,\n",
    "        3.23378060e+01,  0.00000000e+00, -3.42059247e+01, -3.03032101e-01,\n",
    "        0.00000000e+00, -1.16969644e+01, -4.21223535e+01,  0.00000000e+00,\n",
    "       -3.23512569e+01,  5.10330353e+00,  0.00000000e+00, -1.34546356e+00,\n",
    "       -1.45060842e+00,  0.00000000e+00,  1.05242438e+00, -1.51554184e+01,\n",
    "        0.00000000e+00,  6.50267936e-01,  1.11128688e+00,  0.00000000e+00,\n",
    "        7.18149941e+01,  5.07482709e-01,  0.00000000e+00,  1.65202863e+01,\n",
    "        1.50351002e+01,  0.00000000e+00,  9.40601150e+00, -1.66324994e+01,\n",
    "        0.00000000e+00, -1.05955017e+01, -1.72078495e-01,  0.00000000e+00,\n",
    "        2.62869932e+01,  2.28266666e+01,  0.00000000e+00, -1.69422693e+00,\n",
    "        7.29303793e+00,  4.87220599e-01,  7.01288616e-01,  1.24299189e+00,\n",
    "       -1.36993482e+00,  1.80247785e+01,  2.12346810e+01,  1.55971024e+01,\n",
    "        0.00000000e+00,  1.72348151e-01, -5.49982853e-01, -2.11311398e-01,\n",
    "       -3.31995657e+00, -1.50224012e+00,  2.04106841e-01,  1.71997448e+00,\n",
    "       -8.41039175e-02, -2.74031043e-01, -4.31434986e-01,  1.32125605e-02,\n",
    "        1.07630364e+00]"
   ]
  },
  {
   "cell_type": "code",
   "execution_count": 131,
   "id": "91473699",
   "metadata": {
    "scrolled": true
   },
   "outputs": [
    {
     "name": "stdout",
     "output_type": "stream",
     "text": [
      "likelihood mit ZINBD:\n",
      "array_lambda = np.exp(np.log(0.63)*EM_monat + alpha_o[state] + beta_o[0] * np.log(LO_monat))\n",
      "array_lambda = array_lambda\n",
      "array_exp = np.exp(alpha_p[state] + beta_p_1[state] * EM_monat + beta_p_2[state] * np.square(EM_monat))\n",
      "Likelihood für optimale Parameter: 18522\n",
      "result.success: False\n"
     ]
    }
   ],
   "source": [
    "# Test ob np.log(0.63)*EM_monat besser als np.log(0.63*EM_monat)läuft und evtl terminiert\n",
    "print(\"likelihood mit ZINBD:\")\n",
    "print(\"array_lambda = np.exp(np.log(0.63)*EM_monat + alpha_o[state] + beta_o[0] * np.log(LO_monat))\")\n",
    "print(\"array_lambda = array_lambda\")\n",
    "print(\"array_exp = np.exp(alpha_p[state] + beta_p_1[state] * EM_monat + beta_p_2[state] * np.square(EM_monat))\")\n",
    "print(\"Likelihood für optimale Parameter: 18522\")\n",
    "print(\"result.success: False\")"
   ]
  },
  {
   "cell_type": "markdown",
   "id": "2647f91f",
   "metadata": {},
   "source": [
    "#### Einzige Interpretierbare Ergebnisse: ZINBD und 2 states"
   ]
  },
  {
   "cell_type": "code",
   "execution_count": 132,
   "id": "6b8a77f7",
   "metadata": {},
   "outputs": [],
   "source": [
    "interpretierbare_param = [  0.        , -18.15053611,   0.        , -58.29432985,\n",
    "         0.        ,  -2.90055678,   0.        ,  14.34443851,\n",
    "         0.        ,   0.45459921,   0.        , -15.93902142,\n",
    "         0.        ,  26.45959452,   0.        ,  44.41306213,\n",
    "         0.        ,  -7.85441467,   0.        , -11.04343658,\n",
    "         0.73832154,   1.79246772,  -1.25828191,   8.15200577,\n",
    "        14.28575254,  -0.76026437,  -1.58603474,  -1.21677622,\n",
    "        -2.79459761,  -0.25805106,   0.73952882,   0.08644445,\n",
    "        -0.11602983,   0.81965572]"
   ]
  },
  {
   "cell_type": "code",
   "execution_count": 133,
   "id": "0e3b28ed",
   "metadata": {},
   "outputs": [
    {
     "name": "stdout",
     "output_type": "stream",
     "text": [
      "likelihood: 17988\n",
      "options = {'maxiter': 100}\n",
      "result = minimize(likelihood_function, x0, options=options)\n",
      " success: False\n"
     ]
    }
   ],
   "source": [
    "print(\"likelihood: 17988\")\n",
    "print(\"options = {'maxiter': 100}\") \n",
    "print(\"result = minimize(likelihood_function, x0, options=options)\")\n",
    "print(\" success: False\")"
   ]
  },
  {
   "cell_type": "markdown",
   "id": "461427c7",
   "metadata": {},
   "source": [
    "### Weitere Testsmit 2 states"
   ]
  },
  {
   "cell_type": "code",
   "execution_count": 134,
   "id": "b19044f2",
   "metadata": {},
   "outputs": [
    {
     "name": "stdout",
     "output_type": "stream",
     "text": [
      "likelihood mit ZINBD:\n",
      "array_lambda = np.exp(np.log(0.63)*EM_monat + alpha_o[state] + beta_o[0] * np.log(LO_monat))\n",
      "array_lambda = array_lambda\n",
      "array_exp = np.exp(alpha_p[state] + beta_p_1[state] * EM_monat + beta_p_2[state] * np.square(EM_monat))\n",
      "Likelihood für optimale Parameter: 18293\n",
      " success: True\n"
     ]
    }
   ],
   "source": [
    "# Test für 2 states und 1000 Iterationen und bounds\n",
    "print(\"likelihood mit ZINBD:\")\n",
    "print(\"array_lambda = np.exp(np.log(0.63)*EM_monat + alpha_o[state] + beta_o[0] * np.log(LO_monat))\")\n",
    "print(\"array_lambda = array_lambda\")\n",
    "print(\"array_exp = np.exp(alpha_p[state] + beta_p_1[state] * EM_monat + beta_p_2[state] * np.square(EM_monat))\")\n",
    "print(\"Likelihood für optimale Parameter: 18293\")\n",
    "print(\" success: True\")"
   ]
  },
  {
   "cell_type": "code",
   "execution_count": 135,
   "id": "ca8e0cdb",
   "metadata": {},
   "outputs": [],
   "source": [
    "results_param = [ 0.        ,  3.13291287,  0.        ,  1.60263079,  0.        ,\n",
    "        0.06988214,  0.        ,  0.79140532,  0.        ,  0.91950281,\n",
    "        0.        , -1.10907081,  0.        , -3.41801979,  0.        ,\n",
    "       -3.41917121,  0.        , -4.23594507,  0.        , -3.9000474 ,\n",
    "        1.10129257, -5.        , -0.79042102,  5.        ,  5.        ,\n",
    "        4.63925216,  1.95999501, -0.53922688, -1.71813938, -0.86955723,\n",
    "       -1.45737121,  0.18195139,  1.1       ,  0.90651293]"
   ]
  },
  {
   "cell_type": "code",
   "execution_count": null,
   "id": "248a548f",
   "metadata": {},
   "outputs": [],
   "source": []
  }
 ],
 "metadata": {
  "kernelspec": {
   "display_name": "Python 3 (ipykernel)",
   "language": "python",
   "name": "python3"
  },
  "language_info": {
   "codemirror_mode": {
    "name": "ipython",
    "version": 3
   },
   "file_extension": ".py",
   "mimetype": "text/x-python",
   "name": "python",
   "nbconvert_exporter": "python",
   "pygments_lexer": "ipython3",
   "version": "3.9.13"
  }
 },
 "nbformat": 4,
 "nbformat_minor": 5
}
