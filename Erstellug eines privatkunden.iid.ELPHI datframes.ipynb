{
 "cells": [
  {
   "cell_type": "code",
   "execution_count": 1,
   "id": "fe465f7b",
   "metadata": {},
   "outputs": [],
   "source": [
    "import pandas as pd\n",
    "import numpy\n",
    "import matplotlib.pyplot as plt\n",
    "import scipy.stats as stats\n",
    "import math\n",
    "import seaborn as sns"
   ]
  },
  {
   "cell_type": "code",
   "execution_count": 3,
   "id": "95089bc1",
   "metadata": {},
   "outputs": [
    {
     "name": "stderr",
     "output_type": "stream",
     "text": [
      "C:\\Users\\felix.oechslein\\AppData\\Local\\Temp\\ipykernel_12700\\2977916244.py:1: DtypeWarning: Columns (13,15,16,18) have mixed types. Specify dtype option on import or set low_memory=False.\n",
      "  df_transactions_wofirstname = pd.read_csv(\"C:/Users/felix.oechslein/Desktop/Daten, 13.12.22/Rohdaten/ELPHI_transactions_ohne_vorname.csv\")\n"
     ]
    }
   ],
   "source": [
    "df_transactions_wofirstname = pd.read_csv(\"C:/Users/felix.oechslein/Desktop/Daten, 13.12.22/Rohdaten/ELPHI_transactions_ohne_vorname.csv\")"
   ]
  },
  {
   "cell_type": "markdown",
   "id": "15cf633c",
   "metadata": {},
   "source": [
    "# Datenbereinigung und Erstellung einer Privatkunden Dataframe"
   ]
  },
  {
   "cell_type": "code",
   "execution_count": 25,
   "id": "adc6b6d8",
   "metadata": {},
   "outputs": [
    {
     "name": "stderr",
     "output_type": "stream",
     "text": [
      "C:\\Users\\felix.oechslein\\AppData\\Local\\Temp\\ipykernel_12700\\2983063296.py:4: SettingWithCopyWarning: \n",
      "A value is trying to be set on a copy of a slice from a DataFrame.\n",
      "Try using .loc[row_indexer,col_indexer] = value instead\n",
      "\n",
      "See the caveats in the documentation: https://pandas.pydata.org/pandas-docs/stable/user_guide/indexing.html#returning-a-view-versus-a-copy\n",
      "  df_t[\"pricetotal\"] = pd.to_numeric(df_t[\"pricetotal\"], errors = \"coerce\")\n"
     ]
    },
    {
     "data": {
      "text/html": [
       "<div>\n",
       "<style scoped>\n",
       "    .dataframe tbody tr th:only-of-type {\n",
       "        vertical-align: middle;\n",
       "    }\n",
       "\n",
       "    .dataframe tbody tr th {\n",
       "        vertical-align: top;\n",
       "    }\n",
       "\n",
       "    .dataframe thead th {\n",
       "        text-align: right;\n",
       "    }\n",
       "</style>\n",
       "<table border=\"1\" class=\"dataframe\">\n",
       "  <thead>\n",
       "    <tr style=\"text-align: right;\">\n",
       "      <th></th>\n",
       "      <th>iid</th>\n",
       "      <th>MeanTIperOR</th>\n",
       "    </tr>\n",
       "  </thead>\n",
       "  <tbody>\n",
       "    <tr>\n",
       "      <th>0</th>\n",
       "      <td>163094976</td>\n",
       "      <td>2.857143</td>\n",
       "    </tr>\n",
       "    <tr>\n",
       "      <th>1</th>\n",
       "      <td>163095007</td>\n",
       "      <td>2.000000</td>\n",
       "    </tr>\n",
       "    <tr>\n",
       "      <th>2</th>\n",
       "      <td>163095129</td>\n",
       "      <td>2.000000</td>\n",
       "    </tr>\n",
       "    <tr>\n",
       "      <th>3</th>\n",
       "      <td>163095218</td>\n",
       "      <td>2.000000</td>\n",
       "    </tr>\n",
       "    <tr>\n",
       "      <th>4</th>\n",
       "      <td>163095249</td>\n",
       "      <td>2.000000</td>\n",
       "    </tr>\n",
       "  </tbody>\n",
       "</table>\n",
       "</div>"
      ],
      "text/plain": [
       "         iid  MeanTIperOR\n",
       "0  163094976     2.857143\n",
       "1  163095007     2.000000\n",
       "2  163095129     2.000000\n",
       "3  163095218     2.000000\n",
       "4  163095249     2.000000"
      ]
     },
     "execution_count": 25,
     "metadata": {},
     "output_type": "execute_result"
    }
   ],
   "source": [
    "#Transaktions-Daten bereinigen\n",
    "\n",
    "df_t = df_transactions_wofirstname[[\"iid\", \"key\", \"attrtype\", \"status\", \"pricetotal\"]]\n",
    "df_t[\"pricetotal\"] = pd.to_numeric(df_t[\"pricetotal\"], errors = \"coerce\")\n",
    "df_t = df_t.query('attrtype == \"TI\"')\n",
    "df_t = df_t.query('status == \"Buchung\" or status == \"Order\"')\n",
    "df_t = df_t.query('pricetotal >= 0.01')\n",
    "\n",
    "# Spalte mit Mean-TIs erstellen\n",
    "df_t = df_t.groupby([\"iid\", \"key\"])[\"key\"].agg(\"count\")\n",
    "df_t = df_t.to_frame()\n",
    "df_t = df_t.rename(columns = {\"key\" : \"AnzahlTIsProOrder\"})\n",
    "df_t = df_t.reset_index()\n",
    "\n",
    "df_t = df_t.groupby(\"iid\")[\"AnzahlTIsProOrder\"].agg(\"mean\")\n",
    "df_t = df_t.to_frame()\n",
    "df_t = df_t.rename(columns = {\"AnzahlTIsProOrder\" : \"MeanTIperOR\"})\n",
    "df_t = df_t.reset_index()\n",
    "df_t.head()"
   ]
  },
  {
   "cell_type": "code",
   "execution_count": 26,
   "id": "82044dca",
   "metadata": {},
   "outputs": [
    {
     "name": "stdout",
     "output_type": "stream",
     "text": [
      "4.5\n"
     ]
    }
   ],
   "source": [
    "# Computing IQR\n",
    "Q1 = df_t[\"MeanTIperOR\"].quantile(0.25)\n",
    "Q3 = df_t[\"MeanTIperOR\"].quantile(0.75)\n",
    "IQR = Q3 - Q1\n",
    "IQR_neu = Q3 + 1.5 * IQR\n",
    "print(IQR_neu)"
   ]
  },
  {
   "cell_type": "code",
   "execution_count": 27,
   "id": "c40e424f",
   "metadata": {},
   "outputs": [],
   "source": [
    "#Ausgabe der iids die als Privatkunden klassifiziert werden\n",
    "\n",
    "df_t = df_t.query(\"MeanTIperOR <= @IQR_neu\")\n",
    "df_t = df_t[\"iid\"]"
   ]
  },
  {
   "cell_type": "code",
   "execution_count": 28,
   "id": "f5163fd6",
   "metadata": {},
   "outputs": [],
   "source": [
    "#Exportieren der Privatkunden iids\n",
    "\n",
    "export_csv = df_t.to_csv('privatkunden.iid.ELPHI.csv')"
   ]
  }
 ],
 "metadata": {
  "kernelspec": {
   "display_name": "Python 3 (ipykernel)",
   "language": "python",
   "name": "python3"
  },
  "language_info": {
   "codemirror_mode": {
    "name": "ipython",
    "version": 3
   },
   "file_extension": ".py",
   "mimetype": "text/x-python",
   "name": "python",
   "nbconvert_exporter": "python",
   "pygments_lexer": "ipython3",
   "version": "3.9.13"
  }
 },
 "nbformat": 4,
 "nbformat_minor": 5
}
