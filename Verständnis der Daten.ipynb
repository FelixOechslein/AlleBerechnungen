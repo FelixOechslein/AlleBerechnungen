{
 "cells": [
  {
   "cell_type": "code",
   "execution_count": 1,
   "id": "dedc2658",
   "metadata": {},
   "outputs": [],
   "source": [
    "import pandas as pd"
   ]
  },
  {
   "cell_type": "code",
   "execution_count": 2,
   "id": "ecb602c5",
   "metadata": {},
   "outputs": [],
   "source": [
    "df_history = pd.read_csv(\"./history_thalia.csv\")\n",
    "df_transactions = pd.read_csv(\"./transactions_thalia.csv\")"
   ]
  },
  {
   "cell_type": "code",
   "execution_count": 3,
   "id": "c45047a8",
   "metadata": {},
   "outputs": [],
   "source": [
    "df_transactions_t = df_transactions"
   ]
  },
  {
   "cell_type": "code",
   "execution_count": 4,
   "id": "8e379260",
   "metadata": {},
   "outputs": [
    {
     "data": {
      "text/html": [
       "<div>\n",
       "<style scoped>\n",
       "    .dataframe tbody tr th:only-of-type {\n",
       "        vertical-align: middle;\n",
       "    }\n",
       "\n",
       "    .dataframe tbody tr th {\n",
       "        vertical-align: top;\n",
       "    }\n",
       "\n",
       "    .dataframe thead th {\n",
       "        text-align: right;\n",
       "    }\n",
       "</style>\n",
       "<table border=\"1\" class=\"dataframe\">\n",
       "  <thead>\n",
       "    <tr style=\"text-align: right;\">\n",
       "      <th></th>\n",
       "      <th>mandator</th>\n",
       "      <th>id</th>\n",
       "      <th>iid</th>\n",
       "      <th>attrtype</th>\n",
       "      <th>key</th>\n",
       "      <th>itemkey</th>\n",
       "      <th>status</th>\n",
       "      <th>productid</th>\n",
       "      <th>productname</th>\n",
       "      <th>modifiedprovider</th>\n",
       "      <th>createdprovider</th>\n",
       "      <th>startdate</th>\n",
       "      <th>quantity</th>\n",
       "      <th>discountname</th>\n",
       "      <th>saleschannelname</th>\n",
       "      <th>price</th>\n",
       "      <th>discountgroup</th>\n",
       "      <th>discountamount</th>\n",
       "      <th>pricetotal</th>\n",
       "    </tr>\n",
       "  </thead>\n",
       "  <tbody>\n",
       "    <tr>\n",
       "      <th>0</th>\n",
       "      <td>100000490</td>\n",
       "      <td>121212221</td>\n",
       "      <td>101850880</td>\n",
       "      <td>TI</td>\n",
       "      <td>JET_1_a390747</td>\n",
       "      <td>JET_1_a390747_1_31_0</td>\n",
       "      <td>Buchung</td>\n",
       "      <td>JET_1_1183</td>\n",
       "      <td>Geisterritter</td>\n",
       "      <td>20130830104643</td>\n",
       "      <td>20130830104643</td>\n",
       "      <td>2.013121e+13</td>\n",
       "      <td>1.0</td>\n",
       "      <td>Schulgruppe Saison 10/11</td>\n",
       "      <td>UT_Abo</td>\n",
       "      <td>10.0</td>\n",
       "      <td>Ermäßigungen Fixpreis</td>\n",
       "      <td>2.1</td>\n",
       "      <td>7.9</td>\n",
       "    </tr>\n",
       "    <tr>\n",
       "      <th>1</th>\n",
       "      <td>100000490</td>\n",
       "      <td>121212218</td>\n",
       "      <td>101850880</td>\n",
       "      <td>TI</td>\n",
       "      <td>JET_1_a390747</td>\n",
       "      <td>JET_1_a390747_1_25_0</td>\n",
       "      <td>Buchung</td>\n",
       "      <td>JET_1_1183</td>\n",
       "      <td>Geisterritter</td>\n",
       "      <td>20130830104643</td>\n",
       "      <td>20130830104643</td>\n",
       "      <td>2.013121e+13</td>\n",
       "      <td>1.0</td>\n",
       "      <td>Schulgruppe Saison 10/11</td>\n",
       "      <td>UT_Abo</td>\n",
       "      <td>10.0</td>\n",
       "      <td>Ermäßigungen Fixpreis</td>\n",
       "      <td>2.1</td>\n",
       "      <td>7.9</td>\n",
       "    </tr>\n",
       "    <tr>\n",
       "      <th>2</th>\n",
       "      <td>100000490</td>\n",
       "      <td>121212213</td>\n",
       "      <td>101850880</td>\n",
       "      <td>TI</td>\n",
       "      <td>JET_1_a390747</td>\n",
       "      <td>JET_1_a390747_1_24_0</td>\n",
       "      <td>Buchung</td>\n",
       "      <td>JET_1_1183</td>\n",
       "      <td>Geisterritter</td>\n",
       "      <td>20130830104643</td>\n",
       "      <td>20130830104643</td>\n",
       "      <td>2.013121e+13</td>\n",
       "      <td>1.0</td>\n",
       "      <td>Schulgruppe Saison 10/11</td>\n",
       "      <td>UT_Abo</td>\n",
       "      <td>10.0</td>\n",
       "      <td>Ermäßigungen Fixpreis</td>\n",
       "      <td>2.1</td>\n",
       "      <td>7.9</td>\n",
       "    </tr>\n",
       "    <tr>\n",
       "      <th>3</th>\n",
       "      <td>100000490</td>\n",
       "      <td>121266546</td>\n",
       "      <td>100817681</td>\n",
       "      <td>TI</td>\n",
       "      <td>JET_1_a416011</td>\n",
       "      <td>JET_1_a416011_2_49_0</td>\n",
       "      <td>Buchung</td>\n",
       "      <td>JET_1_1370</td>\n",
       "      <td>Eva Hesse/ Gego: Lebens-Linien</td>\n",
       "      <td>20131113083428</td>\n",
       "      <td>20131113083428</td>\n",
       "      <td>2.014020e+13</td>\n",
       "      <td>1.0</td>\n",
       "      <td>Jugendkarte</td>\n",
       "      <td>UT</td>\n",
       "      <td>15.0</td>\n",
       "      <td>Jugend / Sozialkarte</td>\n",
       "      <td>6.0</td>\n",
       "      <td>9.0</td>\n",
       "    </tr>\n",
       "    <tr>\n",
       "      <th>4</th>\n",
       "      <td>100000490</td>\n",
       "      <td>121266547</td>\n",
       "      <td>100817681</td>\n",
       "      <td>TI</td>\n",
       "      <td>JET_1_a416011</td>\n",
       "      <td>JET_1_a416011_2_34_0</td>\n",
       "      <td>Buchung</td>\n",
       "      <td>JET_1_1370</td>\n",
       "      <td>Eva Hesse/ Gego: Lebens-Linien</td>\n",
       "      <td>20131113083428</td>\n",
       "      <td>20131113083428</td>\n",
       "      <td>2.014020e+13</td>\n",
       "      <td>1.0</td>\n",
       "      <td>NaN</td>\n",
       "      <td>UT</td>\n",
       "      <td>15.0</td>\n",
       "      <td>NaN</td>\n",
       "      <td>1.0</td>\n",
       "      <td>14.0</td>\n",
       "    </tr>\n",
       "  </tbody>\n",
       "</table>\n",
       "</div>"
      ],
      "text/plain": [
       "    mandator         id        iid attrtype            key  \\\n",
       "0  100000490  121212221  101850880       TI  JET_1_a390747   \n",
       "1  100000490  121212218  101850880       TI  JET_1_a390747   \n",
       "2  100000490  121212213  101850880       TI  JET_1_a390747   \n",
       "3  100000490  121266546  100817681       TI  JET_1_a416011   \n",
       "4  100000490  121266547  100817681       TI  JET_1_a416011   \n",
       "\n",
       "                itemkey   status   productid                     productname  \\\n",
       "0  JET_1_a390747_1_31_0  Buchung  JET_1_1183                   Geisterritter   \n",
       "1  JET_1_a390747_1_25_0  Buchung  JET_1_1183                   Geisterritter   \n",
       "2  JET_1_a390747_1_24_0  Buchung  JET_1_1183                   Geisterritter   \n",
       "3  JET_1_a416011_2_49_0  Buchung  JET_1_1370  Eva Hesse/ Gego: Lebens-Linien   \n",
       "4  JET_1_a416011_2_34_0  Buchung  JET_1_1370  Eva Hesse/ Gego: Lebens-Linien   \n",
       "\n",
       "   modifiedprovider  createdprovider     startdate  quantity  \\\n",
       "0    20130830104643   20130830104643  2.013121e+13       1.0   \n",
       "1    20130830104643   20130830104643  2.013121e+13       1.0   \n",
       "2    20130830104643   20130830104643  2.013121e+13       1.0   \n",
       "3    20131113083428   20131113083428  2.014020e+13       1.0   \n",
       "4    20131113083428   20131113083428  2.014020e+13       1.0   \n",
       "\n",
       "               discountname saleschannelname  price          discountgroup  \\\n",
       "0  Schulgruppe Saison 10/11           UT_Abo   10.0  Ermäßigungen Fixpreis   \n",
       "1  Schulgruppe Saison 10/11           UT_Abo   10.0  Ermäßigungen Fixpreis   \n",
       "2  Schulgruppe Saison 10/11           UT_Abo   10.0  Ermäßigungen Fixpreis   \n",
       "3               Jugendkarte               UT   15.0   Jugend / Sozialkarte   \n",
       "4                       NaN               UT   15.0                    NaN   \n",
       "\n",
       "   discountamount  pricetotal  \n",
       "0             2.1         7.9  \n",
       "1             2.1         7.9  \n",
       "2             2.1         7.9  \n",
       "3             6.0         9.0  \n",
       "4             1.0        14.0  "
      ]
     },
     "execution_count": 4,
     "metadata": {},
     "output_type": "execute_result"
    }
   ],
   "source": [
    "df_transactions_t.head()"
   ]
  },
  {
   "cell_type": "code",
   "execution_count": 5,
   "id": "fa6c2ef2",
   "metadata": {},
   "outputs": [
    {
     "data": {
      "text/plain": [
       "0    JET_1_a390747_1_31_0\n",
       "1    JET_1_a390747_1_25_0\n",
       "2    JET_1_a390747_1_24_0\n",
       "3    JET_1_a416011_2_49_0\n",
       "4    JET_1_a416011_2_34_0\n",
       "Name: itemkey, dtype: object"
      ]
     },
     "execution_count": 5,
     "metadata": {},
     "output_type": "execute_result"
    }
   ],
   "source": [
    "df_transactions_t[\"itemkey\"].head()"
   ]
  },
  {
   "cell_type": "code",
   "execution_count": 6,
   "id": "dd23994e",
   "metadata": {},
   "outputs": [
    {
     "data": {
      "text/plain": [
       "2354094"
      ]
     },
     "execution_count": 6,
     "metadata": {},
     "output_type": "execute_result"
    }
   ],
   "source": [
    "df_transactions_t[\"itemkey\"].nunique()"
   ]
  },
  {
   "cell_type": "code",
   "execution_count": 7,
   "id": "37fb7b1f",
   "metadata": {},
   "outputs": [
    {
     "name": "stdout",
     "output_type": "stream",
     "text": [
      "<class 'pandas.core.series.Series'>\n",
      "RangeIndex: 3104695 entries, 0 to 3104694\n",
      "Series name: itemkey\n",
      "Non-Null Count    Dtype \n",
      "--------------    ----- \n",
      "2357081 non-null  object\n",
      "dtypes: object(1)\n",
      "memory usage: 23.7+ MB\n"
     ]
    }
   ],
   "source": [
    "df_transactions_t[\"itemkey\"].info()"
   ]
  },
  {
   "cell_type": "code",
   "execution_count": 8,
   "id": "12c86aaf",
   "metadata": {},
   "outputs": [
    {
     "name": "stdout",
     "output_type": "stream",
     "text": [
      "<class 'pandas.core.series.Series'>\n",
      "RangeIndex: 3104695 entries, 0 to 3104694\n",
      "Series name: status\n",
      "Non-Null Count    Dtype \n",
      "--------------    ----- \n",
      "3102420 non-null  object\n",
      "dtypes: object(1)\n",
      "memory usage: 23.7+ MB\n"
     ]
    }
   ],
   "source": [
    "df_transactions_t[\"status\"].info()"
   ]
  },
  {
   "cell_type": "code",
   "execution_count": 9,
   "id": "85fdd19a",
   "metadata": {},
   "outputs": [
    {
     "data": {
      "text/plain": [
       "Buchung         2860005\n",
       "Order            125196\n",
       "cancelled         87997\n",
       "Reservierung      18503\n",
       "Reservation       10719\n",
       "Name: status, dtype: int64"
      ]
     },
     "execution_count": 9,
     "metadata": {},
     "output_type": "execute_result"
    }
   ],
   "source": [
    "df_transactions_t[\"status\"].value_counts()"
   ]
  },
  {
   "cell_type": "code",
   "execution_count": 10,
   "id": "a0948194",
   "metadata": {},
   "outputs": [
    {
     "data": {
      "text/plain": [
       "Thalia Vista Social Club              43597\n",
       "Die unendliche Geschichte             40226\n",
       "Die Dreigroschenoper                  37531\n",
       "Moby Dick                             32646\n",
       "Die Tragödie von Romeo und Julia      28399\n",
       "                                      ...  \n",
       "Lehrer-Fortbildung \"Erzähltheater\"        1\n",
       "Bachmann - Celan                          1\n",
       "Ins Spiel kommen mit Deutschstunde        1\n",
       "Der Name                                  1\n",
       "TP: Bitte Lächeln!                        1\n",
       "Name: productname, Length: 1702, dtype: int64"
      ]
     },
     "execution_count": 10,
     "metadata": {},
     "output_type": "execute_result"
    }
   ],
   "source": [
    "df_transactions_t[\"productname\"].value_counts()"
   ]
  },
  {
   "cell_type": "code",
   "execution_count": 11,
   "id": "cb39c9bd",
   "metadata": {},
   "outputs": [
    {
     "data": {
      "text/plain": [
       "TI    2357081\n",
       "OR     740735\n",
       "RV       5001\n",
       "         1878\n",
       "Name: attrtype, dtype: int64"
      ]
     },
     "execution_count": 11,
     "metadata": {},
     "output_type": "execute_result"
    }
   ],
   "source": [
    "df_transactions_t[\"attrtype\"].value_counts()"
   ]
  },
  {
   "cell_type": "code",
   "execution_count": 12,
   "id": "501e8008",
   "metadata": {},
   "outputs": [
    {
     "name": "stdout",
     "output_type": "stream",
     "text": [
      "<class 'pandas.core.series.Series'>\n",
      "RangeIndex: 3104695 entries, 0 to 3104694\n",
      "Series name: attrtype\n",
      "Non-Null Count    Dtype \n",
      "--------------    ----- \n",
      "3104695 non-null  object\n",
      "dtypes: object(1)\n",
      "memory usage: 23.7+ MB\n"
     ]
    }
   ],
   "source": [
    "df_transactions_t[\"attrtype\"].info()"
   ]
  },
  {
   "cell_type": "code",
   "execution_count": 13,
   "id": "285e9869",
   "metadata": {},
   "outputs": [
    {
     "name": "stdout",
     "output_type": "stream",
     "text": [
      "<class 'pandas.core.series.Series'>\n",
      "RangeIndex: 3104695 entries, 0 to 3104694\n",
      "Series name: saleschannelname\n",
      "Non-Null Count    Dtype \n",
      "--------------    ----- \n",
      "2353031 non-null  object\n",
      "dtypes: object(1)\n",
      "memory usage: 23.7+ MB\n"
     ]
    }
   ],
   "source": [
    "df_transactions_t[\"saleschannelname\"].info()"
   ]
  },
  {
   "cell_type": "code",
   "execution_count": 14,
   "id": "bb34802d",
   "metadata": {},
   "outputs": [
    {
     "data": {
      "text/plain": [
       "UT_Abo     765767\n",
       "Gateway    653922\n",
       "Kasse      438878\n",
       "Admin      367139\n",
       "UT         118646\n",
       "VVK          6302\n",
       "HHT          1037\n",
       "UT_MARK       968\n",
       "UT_Uni        370\n",
       "UT_Buch         2\n",
       "Name: saleschannelname, dtype: int64"
      ]
     },
     "execution_count": 14,
     "metadata": {},
     "output_type": "execute_result"
    }
   ],
   "source": [
    "df_transactions_t[\"saleschannelname\"].value_counts()"
   ]
  },
  {
   "cell_type": "code",
   "execution_count": null,
   "id": "e031a85c",
   "metadata": {},
   "outputs": [],
   "source": []
  }
 ],
 "metadata": {
  "kernelspec": {
   "display_name": "Python 3 (ipykernel)",
   "language": "python",
   "name": "python3"
  },
  "language_info": {
   "codemirror_mode": {
    "name": "ipython",
    "version": 3
   },
   "file_extension": ".py",
   "mimetype": "text/x-python",
   "name": "python",
   "nbconvert_exporter": "python",
   "pygments_lexer": "ipython3",
   "version": "3.9.13"
  }
 },
 "nbformat": 4,
 "nbformat_minor": 5
}
