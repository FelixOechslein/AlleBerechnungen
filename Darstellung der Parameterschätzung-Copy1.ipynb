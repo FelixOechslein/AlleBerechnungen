{
 "cells": [
  {
   "cell_type": "code",
   "execution_count": 1,
   "id": "902e458a",
   "metadata": {},
   "outputs": [],
   "source": [
    "from scipy.stats import nbinom, binom, poisson\n",
    "from statsmodels.discrete.count_model import ZeroInflatedNegativeBinomialP\n",
    "import pandas as pd\n",
    "import numpy as np\n",
    "import matplotlib.pyplot as plt\n",
    "import scipy.stats as stats\n",
    "import math\n",
    "import seaborn as sns\n",
    "from datetime import datetime, timedelta\n",
    "from scipy.stats import pearsonr\n",
    "from scipy.stats import kendalltau\n",
    "from scipy.stats import spearmanr\n",
    "import os\n",
    "from scipy.optimize import minimize, Bounds, LinearConstraint, NonlinearConstraint\n",
    "import inspect"
   ]
  },
  {
   "cell_type": "code",
   "execution_count": 2,
   "id": "2b63f4bc",
   "metadata": {},
   "outputs": [],
   "source": [
    "path = r'C:/Users/felix.oechslein/Desktop/Analysen Thalia, Mai/verarbeitete_daten'\n",
    "filename = 'Pivot_Trans_Privat_ohneApple_Langzeitkunde.csv'\n",
    "\n",
    "df_trans_werte = pd.read_csv(os.path.join(path, filename))"
   ]
  },
  {
   "cell_type": "code",
   "execution_count": 3,
   "id": "6a22b7ac",
   "metadata": {},
   "outputs": [],
   "source": [
    "path = r'C:/Users/felix.oechslein/Desktop/Analysen Thalia, Mai/verarbeitete_daten'\n",
    "filename = 'Pivot_LY_Privat_ohneApple_Langzeitkunde.csv'\n",
    "\n",
    "df_LY = pd.read_csv(os.path.join(path, filename))"
   ]
  },
  {
   "cell_type": "code",
   "execution_count": 4,
   "id": "9246a11c",
   "metadata": {},
   "outputs": [],
   "source": [
    "path = r'C:/Users/felix.oechslein/Desktop/Analysen Thalia, Mai/verarbeitete_daten'\n",
    "filename = 'Pivot_HY_Privat_ohneApple_Langzeitkunde.csv'\n",
    "\n",
    "df_HY = pd.read_csv(os.path.join(path, filename))"
   ]
  },
  {
   "cell_type": "code",
   "execution_count": 5,
   "id": "150cef64",
   "metadata": {},
   "outputs": [],
   "source": [
    "path = r'C:/Users/felix.oechslein/Desktop/Analysen Thalia, Mai/verarbeitete_daten'\n",
    "filename = 'Pivot_NO_Privat_ohneApple_Langzeitkunde.csv'\n",
    "\n",
    "df_NO_werte = pd.read_csv(os.path.join(path, filename))"
   ]
  },
  {
   "cell_type": "code",
   "execution_count": 6,
   "id": "c2453d65",
   "metadata": {},
   "outputs": [],
   "source": [
    "path = r'C:/Users/felix.oechslein/Desktop/Analysen Thalia, Mai/verarbeitete_daten'\n",
    "filename = 'Pivot_LO_Privat_ohneApple_Langzeitkunde.csv'\n",
    "\n",
    "df_LO = pd.read_csv(os.path.join(path, filename))"
   ]
  },
  {
   "cell_type": "code",
   "execution_count": 7,
   "id": "153ee840",
   "metadata": {},
   "outputs": [],
   "source": [
    "## Alle DataFrame Werte von Float zu int\n",
    "df_trans_werte = df_trans_werte.astype(int)\n",
    "df_LY = df_LY.astype(int)\n",
    "df_HY = df_HY.astype(int)\n",
    "df_NO_werte = df_NO_werte.astype(int)\n",
    "df_LO = df_LO.astype(int)\n",
    "\n",
    "# Transwerte-1 definiert für spätere Berecnungen in der Copula\n",
    "#df_trans_werte_minusEins = df_trans_werte.loc[:, df_NO_werte.columns != 'iid'] -1\n",
    "#df_trans_werte_minusEins = df_trans_werte_minusEins.astype(int)"
   ]
  },
  {
   "cell_type": "code",
   "execution_count": 8,
   "id": "0f0c7af4",
   "metadata": {},
   "outputs": [],
   "source": [
    "# Entfernen der Zeilen aus df_HY, die nicht in df_trans_werte und df_LO enthalten sind\n",
    "df_HY = df_HY[df_HY['iid'].isin(df_trans_werte['iid'])]\n",
    "df_HY = df_HY[df_HY['iid'].isin(df_LO['iid'])]\n",
    "\n",
    "# Entfernen der Zeilen aus df_trans_werte, die nicht in df_HY, df_NO_werte und df_LY enthalten sind\n",
    "df_trans_werte = df_trans_werte[df_trans_werte['iid'].isin(df_HY['iid'])]\n",
    "df_trans_werte = df_trans_werte[df_trans_werte['iid'].isin(df_NO_werte['iid'])]\n",
    "df_trans_werte = df_trans_werte[df_trans_werte['iid'].isin(df_LY['iid'])]\n",
    "\n",
    "# Entfernen der Zeilen aus df_LO, die nicht in df_HY enthalten sind\n",
    "df_LO = df_LO[df_LO['iid'].isin(df_HY['iid'])]\n",
    "\n",
    "# Entfernen der Zeilen aus df_NO_werte, die nicht in df_trans_werte enthalten sind\n",
    "df_NO_werte = df_NO_werte[df_NO_werte['iid'].isin(df_trans_werte['iid'])]\n",
    "\n",
    "# Entfernen der Zeilen aus df_LY, die nicht in df_trans_werte enthalten sind\n",
    "df_LY = df_LY[df_LY['iid'].isin(df_trans_werte['iid'])]\n",
    "\n",
    "### Alle DataFrames Indizes resetten, damit man sie gemeinsam identifiziere kann\n",
    "df_HY = df_HY.reset_index(drop=True)\n",
    "df_trans_werte = df_trans_werte.reset_index(drop=True)\n",
    "df_LO = df_LO.reset_index(drop=True)\n",
    "df_NO_werte = df_NO_werte.reset_index(drop=True)\n",
    "df_LY = df_LY.reset_index(drop=True)\n",
    "\n",
    "# NO-1 definiert für spätere Berechnung inder Copula\n",
    "df_NO_minusEins = df_NO_werte.copy()\n",
    "df_NO_minusEins.loc[:, df_NO_minusEins.columns != 'iid'] = df_NO_minusEins.loc[:, df_NO_minusEins.columns != 'iid'] -1\n",
    "df_NO_minusEins = df_NO_minusEins.astype(int)\n",
    "# transwerte -1 definiert für spätere Berechnung inder Copula\n",
    "df_trans_werte_minusEins = df_trans_werte.copy()\n",
    "df_trans_werte_minusEins.loc[:, df_trans_werte_minusEins.columns != 'iid'] = df_trans_werte_minusEins.loc[:, df_trans_werte_minusEins.columns != 'iid'] -1\n",
    "df_trans_werte_minusEins = df_trans_werte_minusEins.astype(int)"
   ]
  },
  {
   "cell_type": "code",
   "execution_count": 9,
   "id": "ada69ef9",
   "metadata": {},
   "outputs": [],
   "source": [
    "# Siherstellen dass alle dataframes die Kunden in derselben Reihenfolge auflisten\n",
    "df_NO_minusEins = df_NO_minusEins.sort_values('iid')\n",
    "df_HY = df_HY.sort_values('iid')\n",
    "df_trans_werte = df_trans_werte.sort_values('iid')\n",
    "df_LO = df_LO.sort_values('iid')\n",
    "df_NO_werte = df_NO_werte.sort_values('iid')\n",
    "df_LY = df_LY.sort_values('iid')\n",
    "df_trans_werte_minusEins = df_trans_werte_minusEins.sort_values('iid')"
   ]
  },
  {
   "cell_type": "code",
   "execution_count": 10,
   "id": "129f8cfb",
   "metadata": {},
   "outputs": [],
   "source": [
    "# Ausreißer\n",
    "arr = np.sum(df_trans_werte[df_trans_werte.columns[df_trans_werte.columns != 'iid']], axis=1)\n",
    "indices_ausreisser_käufe = np.argsort(arr)[-10:]\n",
    "indices_ausreisser_käufe_2 = [251, 220]\n",
    "indices_ausreisser_käufe = np.concatenate([indices_ausreisser_käufe, indices_ausreisser_käufe_2])\n",
    "indices_ausreisser_öffnungen = [443, 387, 408]\n",
    "ausreisser_pos = np.concatenate([indices_ausreisser_öffnungen, indices_ausreisser_käufe])"
   ]
  },
  {
   "cell_type": "code",
   "execution_count": 11,
   "id": "db8a35b1",
   "metadata": {},
   "outputs": [],
   "source": [
    "# Zeilen löschen\n",
    "df_NO_minusEins = df_NO_minusEins.drop(ausreisser_pos).reset_index(drop = True)\n",
    "df_HY = df_HY.drop(ausreisser_pos).reset_index(drop = True)\n",
    "df_trans_werte = df_trans_werte.drop(ausreisser_pos).reset_index(drop = True)\n",
    "df_LO = df_LO.drop(ausreisser_pos).reset_index(drop = True)\n",
    "df_NO_werte = df_NO_werte.drop(ausreisser_pos).reset_index(drop = True)\n",
    "df_LY = df_LY.drop(ausreisser_pos).reset_index(drop = True)\n",
    "df_trans_werte_minusEins = df_trans_werte_minusEins.drop(ausreisser_pos).reset_index(drop = True)"
   ]
  },
  {
   "cell_type": "code",
   "execution_count": 2,
   "id": "a075ac4f",
   "metadata": {},
   "outputs": [],
   "source": [
    "estimated_params = [ 4.17928553e-01, -4.22285316e+02, -1.98242290e+00, -8.79879518e-01,\n",
    "       -1.94045445e+03,  6.99046727e+02,  9.13766559e-01, -5.31026400e+02,\n",
    "        4.31211962e+01, -2.14401838e+00, -1.67642789e+00,  6.08254147e-01,\n",
    "       -5.04744507e-03,  1.87801747e-02,  6.87473148e-01, -3.36485684e-01,\n",
    "        1.29745132e+00,  8.72972789e-01, -3.52212973e-01, -4.02096620e-01,\n",
    "        4.45619697e-01, -6.69209684e-01,  1.44688445e+00,  2.53356872e-01,\n",
    "        1.80355515e-02, -1.11375261e+00, -4.15990883e-01, -4.54538186e-01,\n",
    "       -8.26245723e-01, -4.51785453e-01,  5.19280797e-01, -1.28267812e+00,\n",
    "        1.47131184e+00, -5.86812259e-01,  6.62504829e-01,  1.97691597e+00,\n",
    "        4.27950006e-01, -3.43138559e+00,  1.03359822e+00,  7.07554502e-02,\n",
    "        7.10101998e-01,  5.84550086e-01,  1.33027166e+00,  2.22558553e-01,\n",
    "        1.00029849e+00,  1.36650013e-01, -1.19263433e+00,  1.21048688e+00,\n",
    "       -1.13572566e+00,  9.56897194e+01,  1.37166797e+01,  2.70925515e+01,\n",
    "        1.93039105e+00, -1.72773597e+00, -5.83161966e-01, -1.23828420e+00,\n",
    "        7.92906253e+01, -2.04200635e+00, -3.80553587e-01,  8.20922389e-04,\n",
    "        5.60347879e-01,  3.41695867e-01,  9.78048662e-01, -1.52109959e-01,\n",
    "        6.57095859e-01]"
   ]
  },
  {
   "cell_type": "code",
   "execution_count": 4,
   "id": "f1df70b6",
   "metadata": {},
   "outputs": [],
   "source": [
    "anzahl_states = 3"
   ]
  },
  {
   "cell_type": "code",
   "execution_count": 5,
   "id": "65070254",
   "metadata": {},
   "outputs": [],
   "source": [
    "alpha_size = anzahl_states**2\n",
    "gamma_size = anzahl_states**2 * 4\n",
    "\n",
    "alpha = estimated_params[:alpha_size]\n",
    "gamma = estimated_params[alpha_size:alpha_size+gamma_size]\n",
    "alpha_o = estimated_params[alpha_size+gamma_size:alpha_size+gamma_size+anzahl_states]\n",
    "beta_o = estimated_params[alpha_size+gamma_size+anzahl_states:alpha_size+gamma_size+anzahl_states+1]\n",
    "delta_0 = estimated_params[alpha_size+gamma_size+anzahl_states+1:alpha_size+gamma_size+anzahl_states*2+1]\n",
    "delta_1 = estimated_params[alpha_size+gamma_size+anzahl_states*2+1:alpha_size+gamma_size+anzahl_states*3+1]\n",
    "alpha_p = estimated_params[alpha_size+gamma_size+anzahl_states*3+1:alpha_size+gamma_size+anzahl_states*4+1]\n",
    "beta_p_1 = estimated_params[alpha_size+gamma_size+anzahl_states*4+1:alpha_size+gamma_size+anzahl_states*5+1]\n",
    "beta_p_2 = estimated_params[alpha_size+gamma_size+anzahl_states*5+1:alpha_size+gamma_size+anzahl_states*6+1]\n",
    "theta = estimated_params[alpha_size+gamma_size+anzahl_states*6+1:]"
   ]
  },
  {
   "cell_type": "code",
   "execution_count": 6,
   "id": "8a8c74e9",
   "metadata": {},
   "outputs": [
    {
     "data": {
      "text/plain": [
       "[95.6897194, 13.7166797, 27.0925515]"
      ]
     },
     "execution_count": 6,
     "metadata": {},
     "output_type": "execute_result"
    }
   ],
   "source": [
    "delta_0"
   ]
  },
  {
   "cell_type": "code",
   "execution_count": 7,
   "id": "b7a1deb5",
   "metadata": {},
   "outputs": [
    {
     "data": {
      "text/plain": [
       "[1.93039105, -1.72773597, -0.583161966]"
      ]
     },
     "execution_count": 7,
     "metadata": {},
     "output_type": "execute_result"
    }
   ],
   "source": [
    "delta_1"
   ]
  },
  {
   "cell_type": "code",
   "execution_count": 8,
   "id": "2cb38ceb",
   "metadata": {},
   "outputs": [
    {
     "data": {
      "text/plain": [
       "[-1.2382842, 79.2906253, -2.04200635]"
      ]
     },
     "execution_count": 8,
     "metadata": {},
     "output_type": "execute_result"
    }
   ],
   "source": [
    "alpha_p"
   ]
  },
  {
   "cell_type": "code",
   "execution_count": 9,
   "id": "7a021cf3",
   "metadata": {},
   "outputs": [
    {
     "data": {
      "text/plain": [
       "[-0.380553587, 0.000820922389, 0.560347879]"
      ]
     },
     "execution_count": 9,
     "metadata": {},
     "output_type": "execute_result"
    }
   ],
   "source": [
    "beta_p_1"
   ]
  },
  {
   "cell_type": "code",
   "execution_count": 10,
   "id": "04c3d02e",
   "metadata": {},
   "outputs": [
    {
     "data": {
      "text/plain": [
       "[0.341695867, 0.978048662, -0.152109959]"
      ]
     },
     "execution_count": 10,
     "metadata": {},
     "output_type": "execute_result"
    }
   ],
   "source": [
    "beta_p_2"
   ]
  },
  {
   "cell_type": "markdown",
   "id": "2ebf3692",
   "metadata": {},
   "source": [
    "# Tests"
   ]
  },
  {
   "cell_type": "markdown",
   "id": "ada56fee",
   "metadata": {},
   "source": [
    "#### Maximum LY"
   ]
  },
  {
   "cell_type": "code",
   "execution_count": 67,
   "id": "5d1815cd",
   "metadata": {},
   "outputs": [
    {
     "data": {
      "text/plain": [
       "1     1\n",
       "2     1\n",
       "3     1\n",
       "4     1\n",
       "5     1\n",
       "6     1\n",
       "7     1\n",
       "8     1\n",
       "9     1\n",
       "10    1\n",
       "11    1\n",
       "12    1\n",
       "13    1\n",
       "14    1\n",
       "15    1\n",
       "dtype: int32"
      ]
     },
     "execution_count": 67,
     "metadata": {},
     "output_type": "execute_result"
    }
   ],
   "source": [
    "df_LY[df_LY.columns[df_LY.columns !=\"iid\"]].min()"
   ]
  },
  {
   "cell_type": "code",
   "execution_count": 70,
   "id": "a2937333",
   "metadata": {},
   "outputs": [
    {
     "data": {
      "text/plain": [
       "1.1035248375531423e-06"
      ]
     },
     "execution_count": 70,
     "metadata": {},
     "output_type": "execute_result"
    }
   ],
   "source": [
    "1/(1+np.exp(13.717 - 1.728 * np.log(1)))"
   ]
  },
  {
   "cell_type": "markdown",
   "id": "600dae66",
   "metadata": {},
   "source": [
    "#### Lambda Interpretation"
   ]
  },
  {
   "cell_type": "code",
   "execution_count": 71,
   "id": "80d2afef",
   "metadata": {},
   "outputs": [],
   "source": [
    "r = [1.29]"
   ]
  },
  {
   "cell_type": "code",
   "execution_count": null,
   "id": "a24b66d8",
   "metadata": {},
   "outputs": [],
   "source": [
    "            \n",
    "    numerator = math.gamma(value + r[0])\n",
    "    denominator = math.factorial(value) * math.gamma(r[0])\n",
    "    gamma_term = numerator / denominator\n",
    "    pmf = (1 - phi[i]) * gamma_term * (1 + lambdaY / r[0])**(-r[0]) * (1 + r[0] / lambdaY)**(-(value))"
   ]
  },
  {
   "cell_type": "code",
   "execution_count": 114,
   "id": "f39377bf",
   "metadata": {},
   "outputs": [
    {
     "data": {
      "image/png": "[encoded data removed]",
      "text/plain": [
       "<Figure size 640x480 with 1 Axes>"
      ]
     },
     "metadata": {},
     "output_type": "display_data"
    }
   ],
   "source": [
    "histogram_data = np.zeros((10, 10))\n",
    "\n",
    "r = [1.29]  # Beispielwert für r\n",
    "phi = [0]  # Beispielwert für phi\n",
    "\n",
    "for lambdaY in np.linspace(0.5, 9.5, num=10):\n",
    "    for value in range(10):\n",
    "        numerator = math.gamma(value + r[0])\n",
    "        denominator = math.factorial(value) * math.gamma(r[0])\n",
    "        gamma_term = numerator / denominator\n",
    "        pmf = (1 - phi[0]) * gamma_term * (1 + lambdaY / r[0])**(-r[0]) * (1 + r[0] / lambdaY)**(-(value))\n",
    "        histogram_data[lambdaY.astype(int), value] = pmf\n",
    "\n",
    "#plt.plot(value_values, histogram_data)\n",
    "\n",
    "# Farben für die Linien\n",
    "colors = ['red', 'blue', 'green', 'orange', 'purple', 'cyan', 'magenta', 'yellow', 'brown', 'pink']\n",
    "\n",
    "# Linien mit verschiedenen Farben plotten\n",
    "for i in range(histogram_data.shape[0]):\n",
    "    plt.plot(range(10), histogram_data[i], color=colors[i], label=f'Lambda = {i+0.5}')\n",
    "\n",
    "plt.xlabel('x')\n",
    "plt.ylabel('pmf(x)')\n",
    "plt.title('Wahrscheinlichkeitsfunktion der Käufe für verschiedene Werte von lambda')\n",
    "# Legende anzeigen\n",
    "plt.legend()\n",
    "\n",
    "plt.savefig(\"C:/Users/felix.oechslein/Desktop/Analysen Thalia, Mai/Grafiken/\" +\n",
    "            'Lambda_Veranschaulichung.png', dpi=300)\n",
    "plt.show()"
   ]
  },
  {
   "cell_type": "code",
   "execution_count": null,
   "id": "d432b154",
   "metadata": {},
   "outputs": [],
   "source": []
  }
 ],
 "metadata": {
  "kernelspec": {
   "display_name": "Python 3 (ipykernel)",
   "language": "python",
   "name": "python3"
  },
  "language_info": {
   "codemirror_mode": {
    "name": "ipython",
    "version": 3
   },
   "file_extension": ".py",
   "mimetype": "text/x-python",
   "name": "python",
   "nbconvert_exporter": "python",
   "pygments_lexer": "ipython3",
   "version": "3.9.13"
  }
 },
 "nbformat": 4,
 "nbformat_minor": 5
}
