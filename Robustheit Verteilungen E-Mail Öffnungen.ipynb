{
 "cells": [
  {
   "cell_type": "code",
   "execution_count": 2,
   "id": "580ad7dc",
   "metadata": {},
   "outputs": [],
   "source": [
    "from scipy.stats import nbinom, binom, poisson\n",
    "from statsmodels.discrete.count_model import ZeroInflatedNegativeBinomialP\n",
    "import pandas as pd\n",
    "import numpy as np\n",
    "import matplotlib.pyplot as plt\n",
    "import scipy.stats as stats\n",
    "import math\n",
    "import seaborn as sns\n",
    "from datetime import datetime, timedelta\n",
    "from scipy.stats import pearsonr\n",
    "from scipy.stats import kendalltau\n",
    "from scipy.stats import spearmanr\n",
    "import os\n",
    "from scipy.optimize import minimize, Bounds\n",
    "import inspect\n",
    "from scipy.stats import poisson\n",
    "from scipy.stats import chisquare\n",
    "import statsmodels as sm\n",
    "from scipy.optimize import minimize"
   ]
  },
  {
   "cell_type": "code",
   "execution_count": 3,
   "id": "69bdfacd",
   "metadata": {},
   "outputs": [],
   "source": [
    "path = x\n",
    "filename = 'Pivot_NO_Privat_ohneApple_Langzeitkunde.csv'\n",
    "\n",
    "df_NO_werte = pd.read_csv(os.path.join(path, filename))"
   ]
  },
  {
   "cell_type": "code",
   "execution_count": 4,
   "id": "983e94e6",
   "metadata": {},
   "outputs": [
    {
     "data": {
      "text/html": [
       "<div>\n",
       "<style scoped>\n",
       "    .dataframe tbody tr th:only-of-type {\n",
       "        vertical-align: middle;\n",
       "    }\n",
       "\n",
       "    .dataframe tbody tr th {\n",
       "        vertical-align: top;\n",
       "    }\n",
       "\n",
       "    .dataframe thead th {\n",
       "        text-align: right;\n",
       "    }\n",
       "</style>\n",
       "<table border=\"1\" class=\"dataframe\">\n",
       "  <thead>\n",
       "    <tr style=\"text-align: right;\">\n",
       "      <th></th>\n",
       "      <th>iid</th>\n",
       "      <th>1</th>\n",
       "      <th>2</th>\n",
       "      <th>3</th>\n",
       "      <th>4</th>\n",
       "      <th>5</th>\n",
       "      <th>6</th>\n",
       "      <th>7</th>\n",
       "      <th>8</th>\n",
       "      <th>9</th>\n",
       "      <th>10</th>\n",
       "      <th>11</th>\n",
       "      <th>12</th>\n",
       "      <th>13</th>\n",
       "      <th>14</th>\n",
       "      <th>15</th>\n",
       "    </tr>\n",
       "  </thead>\n",
       "  <tbody>\n",
       "    <tr>\n",
       "      <th>0</th>\n",
       "      <td>100056041</td>\n",
       "      <td>1.0</td>\n",
       "      <td>1.0</td>\n",
       "      <td>1.0</td>\n",
       "      <td>3.0</td>\n",
       "      <td>0.0</td>\n",
       "      <td>0.0</td>\n",
       "      <td>1.0</td>\n",
       "      <td>0.0</td>\n",
       "      <td>1.0</td>\n",
       "      <td>0.0</td>\n",
       "      <td>1.0</td>\n",
       "      <td>0.0</td>\n",
       "      <td>0.0</td>\n",
       "      <td>1.0</td>\n",
       "      <td>0.0</td>\n",
       "    </tr>\n",
       "    <tr>\n",
       "      <th>1</th>\n",
       "      <td>100057957</td>\n",
       "      <td>2.0</td>\n",
       "      <td>2.0</td>\n",
       "      <td>2.0</td>\n",
       "      <td>3.0</td>\n",
       "      <td>2.0</td>\n",
       "      <td>3.0</td>\n",
       "      <td>2.0</td>\n",
       "      <td>0.0</td>\n",
       "      <td>2.0</td>\n",
       "      <td>1.0</td>\n",
       "      <td>1.0</td>\n",
       "      <td>2.0</td>\n",
       "      <td>2.0</td>\n",
       "      <td>3.0</td>\n",
       "      <td>0.0</td>\n",
       "    </tr>\n",
       "    <tr>\n",
       "      <th>2</th>\n",
       "      <td>100059553</td>\n",
       "      <td>0.0</td>\n",
       "      <td>0.0</td>\n",
       "      <td>1.0</td>\n",
       "      <td>1.0</td>\n",
       "      <td>1.0</td>\n",
       "      <td>1.0</td>\n",
       "      <td>0.0</td>\n",
       "      <td>0.0</td>\n",
       "      <td>1.0</td>\n",
       "      <td>0.0</td>\n",
       "      <td>0.0</td>\n",
       "      <td>1.0</td>\n",
       "      <td>1.0</td>\n",
       "      <td>1.0</td>\n",
       "      <td>0.0</td>\n",
       "    </tr>\n",
       "    <tr>\n",
       "      <th>3</th>\n",
       "      <td>100062565</td>\n",
       "      <td>2.0</td>\n",
       "      <td>2.0</td>\n",
       "      <td>2.0</td>\n",
       "      <td>3.0</td>\n",
       "      <td>2.0</td>\n",
       "      <td>3.0</td>\n",
       "      <td>2.0</td>\n",
       "      <td>2.0</td>\n",
       "      <td>1.0</td>\n",
       "      <td>1.0</td>\n",
       "      <td>1.0</td>\n",
       "      <td>2.0</td>\n",
       "      <td>2.0</td>\n",
       "      <td>3.0</td>\n",
       "      <td>1.0</td>\n",
       "    </tr>\n",
       "    <tr>\n",
       "      <th>4</th>\n",
       "      <td>100062713</td>\n",
       "      <td>1.0</td>\n",
       "      <td>1.0</td>\n",
       "      <td>0.0</td>\n",
       "      <td>0.0</td>\n",
       "      <td>0.0</td>\n",
       "      <td>0.0</td>\n",
       "      <td>0.0</td>\n",
       "      <td>0.0</td>\n",
       "      <td>0.0</td>\n",
       "      <td>0.0</td>\n",
       "      <td>0.0</td>\n",
       "      <td>0.0</td>\n",
       "      <td>0.0</td>\n",
       "      <td>0.0</td>\n",
       "      <td>0.0</td>\n",
       "    </tr>\n",
       "  </tbody>\n",
       "</table>\n",
       "</div>"
      ],
      "text/plain": [
       "         iid    1    2    3    4    5    6    7    8    9   10   11   12   13  \\\n",
       "0  100056041  1.0  1.0  1.0  3.0  0.0  0.0  1.0  0.0  1.0  0.0  1.0  0.0  0.0   \n",
       "1  100057957  2.0  2.0  2.0  3.0  2.0  3.0  2.0  0.0  2.0  1.0  1.0  2.0  2.0   \n",
       "2  100059553  0.0  0.0  1.0  1.0  1.0  1.0  0.0  0.0  1.0  0.0  0.0  1.0  1.0   \n",
       "3  100062565  2.0  2.0  2.0  3.0  2.0  3.0  2.0  2.0  1.0  1.0  1.0  2.0  2.0   \n",
       "4  100062713  1.0  1.0  0.0  0.0  0.0  0.0  0.0  0.0  0.0  0.0  0.0  0.0  0.0   \n",
       "\n",
       "    14   15  \n",
       "0  1.0  0.0  \n",
       "1  3.0  0.0  \n",
       "2  1.0  0.0  \n",
       "3  3.0  1.0  \n",
       "4  0.0  0.0  "
      ]
     },
     "execution_count": 4,
     "metadata": {},
     "output_type": "execute_result"
    }
   ],
   "source": [
    "df_NO_werte.head()"
   ]
  },
  {
   "cell_type": "code",
   "execution_count": 5,
   "id": "54e32f09",
   "metadata": {},
   "outputs": [
    {
     "data": {
      "image/png": "[encoded data removed]",
      "text/plain": [
       "<Figure size 640x480 with 1 Axes>"
      ]
     },
     "metadata": {},
     "output_type": "display_data"
    }
   ],
   "source": [
    "# Alle Spalten auswählen außer 'iid'\n",
    "columns_to_plot = df_NO_werte.columns[df_NO_werte.columns != 'iid']\n",
    "\n",
    "# Histogramm erstellen\n",
    "plt.hist(df_NO_werte[columns_to_plot].values.flatten(), bins=\"auto\")\n",
    "plt.xlabel('Werte')\n",
    "plt.ylabel('Anzahl')\n",
    "plt.title('Histogramm der Werte')\n",
    "plt.show()"
   ]
  },
  {
   "cell_type": "code",
   "execution_count": 6,
   "id": "cbd18aa6",
   "metadata": {},
   "outputs": [
    {
     "data": {
      "text/plain": [
       "array([1., 1., 1., ..., 2., 2., 1.])"
      ]
     },
     "execution_count": 6,
     "metadata": {},
     "output_type": "execute_result"
    }
   ],
   "source": [
    "data = df_NO_werte[columns_to_plot].values.flatten()\n",
    "data"
   ]
  },
  {
   "cell_type": "markdown",
   "id": "321000c1",
   "metadata": {},
   "source": [
    "# Definition der Daten und Ermittlung der empirischen cdf"
   ]
  },
  {
   "cell_type": "code",
   "execution_count": 7,
   "id": "bf59b876",
   "metadata": {},
   "outputs": [],
   "source": [
    "int_data = data.astype(int)"
   ]
  },
  {
   "cell_type": "code",
   "execution_count": 8,
   "id": "61fec800",
   "metadata": {},
   "outputs": [],
   "source": [
    "ecdf = sm.distributions.ECDF(int_data)"
   ]
  },
  {
   "cell_type": "code",
   "execution_count": 9,
   "id": "7e055f40",
   "metadata": {},
   "outputs": [
    {
     "data": {
      "text/plain": [
       "array([0.67717671, 0.67717671, 0.67717671, ..., 0.92756311, 0.92756311,\n",
       "       0.67717671])"
      ]
     },
     "execution_count": 9,
     "metadata": {},
     "output_type": "execute_result"
    }
   ],
   "source": [
    "ecdf(int_data)"
   ]
  },
  {
   "cell_type": "markdown",
   "id": "30fb099a",
   "metadata": {},
   "source": [
    "# Optimierung ZINBD"
   ]
  },
  {
   "cell_type": "code",
   "execution_count": 10,
   "id": "86ec81b4",
   "metadata": {},
   "outputs": [
    {
     "name": "stdout",
     "output_type": "stream",
     "text": [
      "Geschätzte Parameter: [  0.18057701   1.25155251 100.        ]\n",
      "True\n"
     ]
    }
   ],
   "source": [
    "def my_distribution_ZINBD(y, phi, lambdaY, r):\n",
    "    cdf = np.zeros_like(y, dtype=float)\n",
    "    if r > 0:\n",
    "        for i in range(len(y)):\n",
    "            for j in range(y[i] + 1):\n",
    "                if j == 0:\n",
    "                    pmf = phi + (1 - phi) * (1 + lambdaY / r)**(-r)\n",
    "                elif j > 0:\n",
    "                    numerator = math.gamma(j + r)\n",
    "                    denominator = math.factorial(j) * math.gamma(r)\n",
    "                    gamma_term = numerator / denominator\n",
    "                    pmf= (1 - phi) * gamma_term * (1 + lambdaY / r)**(-r) * (1 + r / lambdaY)**(-j)\n",
    "                cdf[i] += pmf\n",
    "    return cdf\n",
    "\n",
    "# Funktion zur Berechnung der Summe der quadratischen Abweichungen\n",
    "def squared_error(params):\n",
    "    phi, lambdaY, r = params\n",
    "    predicted_values = my_distribution_ZINBD(int_data, phi, lambdaY, r)\n",
    "    error = ecdf(int_data) - predicted_values\n",
    "    squared_error = np.sum(error**2)\n",
    "    return squared_error\n",
    "\n",
    "# Anfangsschätzwerte für die Parameter\n",
    "initial_guess = [1, 1, 1.5]\n",
    "# Grenzen (Bounds)\n",
    "bounds = [(0, 1), (0, 9999), (0,100)]\n",
    "\n",
    "\n",
    "# Parameter schätzen\n",
    "result = minimize(squared_error, initial_guess, bounds=bounds, method = \"L-BFGS-B\")\n",
    "\n",
    "# Geschätzte Parameter auslesen\n",
    "estimated_params_ZINBD = result.x\n",
    "\n",
    "# Ergebnis ausgeben\n",
    "print(\"Geschätzte Parameter:\", estimated_params_ZINBD)\n",
    "print(result.success)"
   ]
  },
  {
   "cell_type": "markdown",
   "id": "328e841b",
   "metadata": {},
   "source": [
    "# Optimierung NBD"
   ]
  },
  {
   "cell_type": "code",
   "execution_count": 11,
   "id": "06933087",
   "metadata": {},
   "outputs": [
    {
     "name": "stdout",
     "output_type": "stream",
     "text": [
      "Geschätzte Parameter: [3.12572205 0.75083728]\n",
      "True\n"
     ]
    }
   ],
   "source": [
    "# Funktion zur Berechnung der Summe der quadratischen Abweichungen\n",
    "def squared_error_nbinom(params):\n",
    "    n, p = params\n",
    "    predicted_values = nbinom.cdf(int_data, n, p)\n",
    "    error = ecdf(int_data) - predicted_values\n",
    "    squared_error = np.sum(error**2)\n",
    "    return squared_error\n",
    "\n",
    "# Anfangsschätzwerte für die Parameter\n",
    "initial_guess = [3, 0.3]\n",
    "# Grenzen (Bounds)\n",
    "bounds = [(0, 9999), (0, 9999)]\n",
    "\n",
    "# Parameter schätzen\n",
    "result = minimize(squared_error_nbinom, initial_guess, bounds=bounds, method = \"Nelder-Mead\")\n",
    "\n",
    "# Geschätzte Parameter auslesen\n",
    "estimated_params_NBD = result.x\n",
    "\n",
    "# Ergebnis ausgeben\n",
    "print(\"Geschätzte Parameter:\", estimated_params_NBD)\n",
    "print(result.success)"
   ]
  },
  {
   "cell_type": "markdown",
   "id": "d835f341",
   "metadata": {},
   "source": [
    "# Optimierung Poisson"
   ]
  },
  {
   "cell_type": "code",
   "execution_count": 12,
   "id": "1025a862",
   "metadata": {},
   "outputs": [
    {
     "name": "stdout",
     "output_type": "stream",
     "text": [
      "Geschätzte Parameter: [0.96475456]\n",
      "True\n"
     ]
    }
   ],
   "source": [
    "from scipy.stats import poisson\n",
    "\n",
    "# Funktion zur Berechnung der Summe der quadratischen Abweichungen\n",
    "def squared_error_poisson(params):\n",
    "    mu = params\n",
    "    predicted_values = poisson.cdf(int_data, mu)\n",
    "    error = ecdf(int_data) - predicted_values\n",
    "    squared_error = np.sum(error**2)\n",
    "    return squared_error\n",
    "\n",
    "# Anfangsschätzwerte für die Parameter\n",
    "initial_guess = [0.3]\n",
    "# Grenzen (Bounds)\n",
    "bounds = [(0, 9999)]\n",
    "\n",
    "# Parameter schätzen\n",
    "result = minimize(squared_error_poisson, initial_guess, bounds=bounds, method = \"L-BFGS-B\")\n",
    "\n",
    "# Geschätzte Parameter auslesen\n",
    "estimated_params_poisson = result.x\n",
    "\n",
    "# Ergebnis ausgeben\n",
    "print(\"Geschätzte Parameter:\", estimated_params_poisson)\n",
    "print(result.success)"
   ]
  },
  {
   "cell_type": "markdown",
   "id": "bfe6356b",
   "metadata": {},
   "source": [
    "# Grafischer Vergleich mit optimierten Parametern"
   ]
  },
  {
   "cell_type": "code",
   "execution_count": 39,
   "id": "b41d855f",
   "metadata": {},
   "outputs": [
    {
     "data": {
      "image/png": "[encoded data removed]",
      "text/plain": [
       "<Figure size 640x480 with 1 Axes>"
      ]
     },
     "metadata": {},
     "output_type": "display_data"
    }
   ],
   "source": [
    "# Definitionsbereich der CDF\n",
    "x_values = np.linspace(0, 10, 10).astype(int)\n",
    "\n",
    "# Daten für ZINBD\n",
    "x1 = np.linspace(0, 10, 10)\n",
    "y1 = my_distribution_ZINBD(x_values, estimated_params_ZINBD[0], estimated_params_ZINBD[1], estimated_params_ZINBD[2])\n",
    "\n",
    "# Daten für NBD\n",
    "x2 = np.linspace(0, 10, 10)\n",
    "y2 = nbinom.cdf(x_values, estimated_params_NBD[0], estimated_params_NBD[1])\n",
    "\n",
    "# Daten für Poisson\n",
    "x3 = np.linspace(0, 10, 10)\n",
    "y3 = poisson.cdf(x_values, estimated_params_poisson[0])\n",
    "\n",
    "# Daten für Empirische\n",
    "x4 = np.linspace(0, 10, 10)\n",
    "y4 = ecdf(x2)\n",
    "\n",
    "# Plot der ersten CDF\n",
    "#plt.plot(x1, y1, label='ZINBD')\n",
    "\n",
    "# Plot der zweiten CDF\n",
    "plt.plot(x2, y2, label='NBD')\n",
    "\n",
    "# Plot der ersten CDF\n",
    "plt.plot(x3, y3, label='Poisson')\n",
    "\n",
    "# Plot der zweiten CDF\n",
    "plt.plot(x4, y4, label='Empirische')\n",
    "\n",
    "\n",
    "# Achsentitel und Legende hinzufügen\n",
    "plt.xlabel('x')\n",
    "plt.ylabel('cdf(x)')\n",
    "plt.legend()\n",
    "plt.savefig(\"C:/Users/felix.oechslein/Desktop/Analysen Thalia, Mai/Grafiken/\" +\n",
    "            'Validierung_Öffungsverteilung.png', dpi=300)\n",
    "\n",
    "# Plot anzeigen\n",
    "plt.show()"
   ]
  },
  {
   "cell_type": "markdown",
   "id": "3b790631",
   "metadata": {},
   "source": [
    "# Ch Quadrat Test"
   ]
  },
  {
   "cell_type": "markdown",
   "id": "868a5e0f",
   "metadata": {},
   "source": [
    "#### Festlegen der relevanten bins"
   ]
  },
  {
   "cell_type": "code",
   "execution_count": 14,
   "id": "188d756b",
   "metadata": {},
   "outputs": [],
   "source": [
    "# Maximaler Eintrag von int_data\n",
    "max_value = np.max(np.unique(int_data))\n",
    "\n",
    "# Array erstellen\n",
    "array = np.arange(max_value + 1)"
   ]
  },
  {
   "cell_type": "markdown",
   "id": "616c11d2",
   "metadata": {},
   "source": [
    "## Datensimulation ZINBD"
   ]
  },
  {
   "cell_type": "code",
   "execution_count": 15,
   "id": "bb09cc8c",
   "metadata": {},
   "outputs": [],
   "source": [
    "test = np.histogram(my_distribution_ZINBD(int_data, estimated_params_ZINBD[0], estimated_params_ZINBD[1], estimated_params_ZINBD[2]))"
   ]
  },
  {
   "cell_type": "code",
   "execution_count": 16,
   "id": "8d6b4dae",
   "metadata": {},
   "outputs": [
    {
     "data": {
      "text/plain": [
       "array([0.41680918, 0.70881158, 0.89108577, 0.96768978, 0.99207216,\n",
       "       0.998341  , 0.99969704, 0.99995086, 0.99999282])"
      ]
     },
     "execution_count": 16,
     "metadata": {},
     "output_type": "execute_result"
    }
   ],
   "source": [
    "test= my_distribution_ZINBD(array, estimated_params_ZINBD[0], estimated_params_ZINBD[1], estimated_params_ZINBD[2])\n",
    "test"
   ]
  },
  {
   "cell_type": "code",
   "execution_count": 17,
   "id": "d1fe50d6",
   "metadata": {},
   "outputs": [
    {
     "data": {
      "text/plain": [
       "array([4.16809180e-01, 2.92002402e-01, 1.82274193e-01, 7.66040067e-02,\n",
       "       2.43823804e-02, 6.26883474e-03, 1.35603923e-03, 2.53820948e-04])"
      ]
     },
     "execution_count": 17,
     "metadata": {},
     "output_type": "execute_result"
    }
   ],
   "source": [
    "test_prob = np.zeros(max_value)\n",
    "\n",
    "for i in range(0, max_value):\n",
    "    if i == 0:\n",
    "        test_prob[i] = test[i]\n",
    "    else:\n",
    "        test_prob[i] = test[i] - test[i-1]\n",
    "        \n",
    "test_prob"
   ]
  },
  {
   "cell_type": "code",
   "execution_count": 18,
   "id": "a18d4a16",
   "metadata": {},
   "outputs": [],
   "source": [
    "hist_dist = test_prob * len(int_data)\n",
    "hist_dist_int = hist_dist.astype(int)\n",
    "hist_dist_int[0] += 5"
   ]
  },
  {
   "cell_type": "markdown",
   "id": "3b21e8d5",
   "metadata": {},
   "source": [
    "## Anpassung beobachtete Werte"
   ]
  },
  {
   "cell_type": "code",
   "execution_count": 19,
   "id": "49762976",
   "metadata": {},
   "outputs": [],
   "source": [
    "observed_freq = np.histogram(int_data, bins=array)[0]"
   ]
  },
  {
   "cell_type": "code",
   "execution_count": 20,
   "id": "118f9b8c",
   "metadata": {},
   "outputs": [
    {
     "data": {
      "text/plain": [
       "array([4095, 2476, 2430,  672,   28,    2,    1,    1], dtype=int64)"
      ]
     },
     "execution_count": 20,
     "metadata": {},
     "output_type": "execute_result"
    }
   ],
   "source": [
    "observed_freq[6] += 1\n",
    "observed_freq[0] -=1\n",
    "observed_freq"
   ]
  },
  {
   "cell_type": "markdown",
   "id": "348d1b7f",
   "metadata": {},
   "source": [
    "## Chi Quadrat Test ZINBD"
   ]
  },
  {
   "cell_type": "code",
   "execution_count": 21,
   "id": "56ee9361",
   "metadata": {},
   "outputs": [
    {
     "name": "stdout",
     "output_type": "stream",
     "text": [
      "Chi-Quadrat-Wert: 551.1131386721859\n",
      "p-Wert: 8.131990902620096e-115\n"
     ]
    }
   ],
   "source": [
    "# Chi-Quadrat-Test\n",
    "chi2, p_value = chisquare(f_obs=observed_freq, f_exp=hist_dist_int, ddof=0)\n",
    "\n",
    "# Ergebnis ausgeben\n",
    "print(\"Chi-Quadrat-Wert:\", chi2)\n",
    "print(\"p-Wert:\", p_value)"
   ]
  },
  {
   "cell_type": "markdown",
   "id": "66f2f42a",
   "metadata": {},
   "source": [
    "## Chi Quadrat Test Poisson"
   ]
  },
  {
   "cell_type": "code",
   "execution_count": 22,
   "id": "d7a1cbbb",
   "metadata": {},
   "outputs": [],
   "source": [
    "# Poisson-Zufallsvariablen erzeugen\n",
    "poisson_data = poisson.rvs(mu=estimated_params_poisson, size=len(int_data))"
   ]
  },
  {
   "cell_type": "code",
   "execution_count": 23,
   "id": "bc3437bc",
   "metadata": {},
   "outputs": [],
   "source": [
    "test_poisson = np.histogram(poisson_data, bins = array)[0]"
   ]
  },
  {
   "cell_type": "code",
   "execution_count": 24,
   "id": "52d8199a",
   "metadata": {},
   "outputs": [
    {
     "data": {
      "text/plain": [
       "array([3710, 3563, 1685,  577,  144,   23,    2,    1], dtype=int64)"
      ]
     },
     "execution_count": 24,
     "metadata": {},
     "output_type": "execute_result"
    }
   ],
   "source": [
    "test_poisson[7] = 1\n",
    "test_poisson[0] -= 1\n",
    "test_poisson"
   ]
  },
  {
   "cell_type": "code",
   "execution_count": 25,
   "id": "50bb5f5c",
   "metadata": {},
   "outputs": [
    {
     "name": "stdout",
     "output_type": "stream",
     "text": [
      "Chi-Quadrat-Wert: 829.7260747016834\n",
      "p-Wert: 7.129785098102549e-175\n"
     ]
    }
   ],
   "source": [
    "# Chi-Quadrat-Test\n",
    "chi2, p_value = chisquare(f_obs=observed_freq, f_exp=test_poisson, ddof=0)\n",
    "\n",
    "# Ergebnis ausgeben\n",
    "print(\"Chi-Quadrat-Wert:\", chi2)\n",
    "print(\"p-Wert:\", p_value)"
   ]
  },
  {
   "cell_type": "markdown",
   "id": "98e479a9",
   "metadata": {},
   "source": [
    "## Chi Quadrat Test NBD"
   ]
  },
  {
   "cell_type": "code",
   "execution_count": 41,
   "id": "fb94bfc3",
   "metadata": {},
   "outputs": [],
   "source": [
    "# NBD-Zufallsvariablen erzeugen\n",
    "NBD_data = nbinom.rvs(estimated_params_NBD[0], estimated_params_NBD[1], size=len(int_data))"
   ]
  },
  {
   "cell_type": "code",
   "execution_count": 42,
   "id": "f23edfe7",
   "metadata": {},
   "outputs": [],
   "source": [
    "test_NBD = np.histogram(NBD_data, bins = array)[0]\n",
    "test_NBD[0] += 1"
   ]
  },
  {
   "cell_type": "code",
   "execution_count": 43,
   "id": "dcf1fb4a",
   "metadata": {
    "scrolled": true
   },
   "outputs": [
    {
     "name": "stdout",
     "output_type": "stream",
     "text": [
      "Chi-Quadrat-Wert: 922.9744233706331\n",
      "p-Wert: 2.835728512927258e-197\n"
     ]
    }
   ],
   "source": [
    "# Chi-Quadrat-Test\n",
    "chi2, p_value = chisquare(f_obs=observed_freq, f_exp=test_NBD, ddof=2)\n",
    "\n",
    "# Ergebnis ausgeben\n",
    "print(\"Chi-Quadrat-Wert:\", chi2)\n",
    "print(\"p-Wert:\", p_value)"
   ]
  },
  {
   "cell_type": "code",
   "execution_count": null,
   "id": "0f4cb482",
   "metadata": {},
   "outputs": [],
   "source": []
  }
 ],
 "metadata": {
  "kernelspec": {
   "display_name": "Python 3 (ipykernel)",
   "language": "python",
   "name": "python3"
  },
  "language_info": {
   "codemirror_mode": {
    "name": "ipython",
    "version": 3
   },
   "file_extension": ".py",
   "mimetype": "text/x-python",
   "name": "python",
   "nbconvert_exporter": "python",
   "pygments_lexer": "ipython3",
   "version": "3.9.13"
  }
 },
 "nbformat": 4,
 "nbformat_minor": 5
}
