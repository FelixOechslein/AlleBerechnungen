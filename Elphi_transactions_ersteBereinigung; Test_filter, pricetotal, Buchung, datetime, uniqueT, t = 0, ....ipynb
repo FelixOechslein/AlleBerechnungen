{
 "cells": [
  {
   "cell_type": "code",
   "execution_count": 1,
   "id": "7740e57b",
   "metadata": {},
   "outputs": [],
   "source": [
    "import pandas as pd\n",
    "import numpy as np\n",
    "import matplotlib.pyplot as plt\n",
    "import scipy.stats as stats\n",
    "import math\n",
    "import seaborn as sns\n",
    "from datetime import datetime, timedelta\n",
    "from scipy.stats import pearsonr\n",
    "from scipy.stats import kendalltau\n",
    "from scipy.stats import spearmanr\n",
    "import os"
   ]
  },
  {
   "cell_type": "code",
   "execution_count": 2,
   "id": "959ca99b",
   "metadata": {
    "scrolled": true
   },
   "outputs": [
    {
     "name": "stderr",
     "output_type": "stream",
     "text": [
      "C:\\Users\\felix.oechslein\\AppData\\Local\\Temp\\ipykernel_16176\\3138028382.py:1: DtypeWarning: Columns (15,18) have mixed types. Specify dtype option on import or set low_memory=False.\n",
      "  df_transactions = pd.read_csv(\"C:/Users/felix.oechslein/Desktop/Analysen Elphi, Mai/Rohdaten/\"\n"
     ]
    }
   ],
   "source": [
    "df_transactions = pd.read_csv(\"C:/Users/felix.oechslein/Desktop/Analysen Elphi, Mai/Rohdaten/\"\n",
    "                                    \"transactions_ohne_vorname.csv\")"
   ]
  },
  {
   "cell_type": "markdown",
   "id": "3fcb1e54",
   "metadata": {},
   "source": [
    "### 1. Transactions Bereinigung"
   ]
  },
  {
   "cell_type": "code",
   "execution_count": 7,
   "id": "cf5ad4e1",
   "metadata": {},
   "outputs": [
    {
     "name": "stderr",
     "output_type": "stream",
     "text": [
      "C:\\Users\\felix.oechslein\\AppData\\Local\\Temp\\ipykernel_16176\\2812688266.py:2: SettingWithCopyWarning: \n",
      "A value is trying to be set on a copy of a slice from a DataFrame.\n",
      "Try using .loc[row_indexer,col_indexer] = value instead\n",
      "\n",
      "See the caveats in the documentation: https://pandas.pydata.org/pandas-docs/stable/user_guide/indexing.html#returning-a-view-versus-a-copy\n",
      "  df_t_bereinigt[\"pricetotal\"] = pd.to_numeric(df_t_bereinigt[\"pricetotal\"], errors = \"coerce\")\n"
     ]
    },
    {
     "data": {
      "text/html": [
       "<div>\n",
       "<style scoped>\n",
       "    .dataframe tbody tr th:only-of-type {\n",
       "        vertical-align: middle;\n",
       "    }\n",
       "\n",
       "    .dataframe tbody tr th {\n",
       "        vertical-align: top;\n",
       "    }\n",
       "\n",
       "    .dataframe thead th {\n",
       "        text-align: right;\n",
       "    }\n",
       "</style>\n",
       "<table border=\"1\" class=\"dataframe\">\n",
       "  <thead>\n",
       "    <tr style=\"text-align: right;\">\n",
       "      <th></th>\n",
       "      <th>iid</th>\n",
       "      <th>key</th>\n",
       "      <th>attrtype</th>\n",
       "      <th>status</th>\n",
       "      <th>pricetotal</th>\n",
       "      <th>createdprovider</th>\n",
       "    </tr>\n",
       "  </thead>\n",
       "  <tbody>\n",
       "    <tr>\n",
       "      <th>0</th>\n",
       "      <td>186997381</td>\n",
       "      <td>JET_1_a502170</td>\n",
       "      <td>TI</td>\n",
       "      <td>Order</td>\n",
       "      <td>29.0</td>\n",
       "      <td>20181001161200</td>\n",
       "    </tr>\n",
       "    <tr>\n",
       "      <th>1</th>\n",
       "      <td>186997381</td>\n",
       "      <td>JET_1_a502170</td>\n",
       "      <td>TI</td>\n",
       "      <td>Order</td>\n",
       "      <td>29.0</td>\n",
       "      <td>20181001161200</td>\n",
       "    </tr>\n",
       "    <tr>\n",
       "      <th>2</th>\n",
       "      <td>176001157</td>\n",
       "      <td>JET_1_a502171</td>\n",
       "      <td>TI</td>\n",
       "      <td>Order</td>\n",
       "      <td>52.0</td>\n",
       "      <td>20181001161300</td>\n",
       "    </tr>\n",
       "    <tr>\n",
       "      <th>3</th>\n",
       "      <td>176001157</td>\n",
       "      <td>JET_1_a502171</td>\n",
       "      <td>TI</td>\n",
       "      <td>Order</td>\n",
       "      <td>52.0</td>\n",
       "      <td>20181001161300</td>\n",
       "    </tr>\n",
       "    <tr>\n",
       "      <th>5</th>\n",
       "      <td>176001157</td>\n",
       "      <td>JET_1_a502171</td>\n",
       "      <td>TI</td>\n",
       "      <td>Order</td>\n",
       "      <td>52.0</td>\n",
       "      <td>20181001161300</td>\n",
       "    </tr>\n",
       "  </tbody>\n",
       "</table>\n",
       "</div>"
      ],
      "text/plain": [
       "         iid            key attrtype status  pricetotal  createdprovider\n",
       "0  186997381  JET_1_a502170       TI  Order        29.0   20181001161200\n",
       "1  186997381  JET_1_a502170       TI  Order        29.0   20181001161200\n",
       "2  176001157  JET_1_a502171       TI  Order        52.0   20181001161300\n",
       "3  176001157  JET_1_a502171       TI  Order        52.0   20181001161300\n",
       "5  176001157  JET_1_a502171       TI  Order        52.0   20181001161300"
      ]
     },
     "execution_count": 7,
     "metadata": {},
     "output_type": "execute_result"
    }
   ],
   "source": [
    "df_t_bereinigt = df_transactions[[\"iid\", \"key\", \"attrtype\", \"status\", \"pricetotal\", \"createdprovider\"]]\n",
    "df_t_bereinigt[\"pricetotal\"] = pd.to_numeric(df_t_bereinigt[\"pricetotal\"], errors = \"coerce\")\n",
    "df_t_bereinigt = df_t_bereinigt.query('attrtype == \"TI\"')\n",
    "df_t_bereinigt = df_t_bereinigt.query('status == \"Buchung\" or status == \"Order\"')\n",
    "df_t_bereinigt = df_t_bereinigt.query('pricetotal >= 0.01')\n",
    "searchfor = ['TEST']\n",
    "#searchfor = ['TEST', 'JET', \"WS\"]\n",
    "df_t_bereinigt = df_t_bereinigt[~df_t_bereinigt[\"key\"].str.contains('|'.join(searchfor))]\n",
    "df_t_bereinigt.head()"
   ]
  },
  {
   "cell_type": "markdown",
   "id": "9ebb5444",
   "metadata": {},
   "source": [
    "##### creation als datetime"
   ]
  },
  {
   "cell_type": "code",
   "execution_count": 8,
   "id": "7cee0425",
   "metadata": {},
   "outputs": [
    {
     "data": {
      "text/html": [
       "<div>\n",
       "<style scoped>\n",
       "    .dataframe tbody tr th:only-of-type {\n",
       "        vertical-align: middle;\n",
       "    }\n",
       "\n",
       "    .dataframe tbody tr th {\n",
       "        vertical-align: top;\n",
       "    }\n",
       "\n",
       "    .dataframe thead th {\n",
       "        text-align: right;\n",
       "    }\n",
       "</style>\n",
       "<table border=\"1\" class=\"dataframe\">\n",
       "  <thead>\n",
       "    <tr style=\"text-align: right;\">\n",
       "      <th></th>\n",
       "      <th>iid</th>\n",
       "      <th>key</th>\n",
       "      <th>attrtype</th>\n",
       "      <th>status</th>\n",
       "      <th>pricetotal</th>\n",
       "      <th>date</th>\n",
       "    </tr>\n",
       "  </thead>\n",
       "  <tbody>\n",
       "    <tr>\n",
       "      <th>0</th>\n",
       "      <td>186997381</td>\n",
       "      <td>JET_1_a502170</td>\n",
       "      <td>TI</td>\n",
       "      <td>Order</td>\n",
       "      <td>29.0</td>\n",
       "      <td>2018-10-01 16:12:00</td>\n",
       "    </tr>\n",
       "    <tr>\n",
       "      <th>1</th>\n",
       "      <td>186997381</td>\n",
       "      <td>JET_1_a502170</td>\n",
       "      <td>TI</td>\n",
       "      <td>Order</td>\n",
       "      <td>29.0</td>\n",
       "      <td>2018-10-01 16:12:00</td>\n",
       "    </tr>\n",
       "    <tr>\n",
       "      <th>2</th>\n",
       "      <td>176001157</td>\n",
       "      <td>JET_1_a502171</td>\n",
       "      <td>TI</td>\n",
       "      <td>Order</td>\n",
       "      <td>52.0</td>\n",
       "      <td>2018-10-01 16:13:00</td>\n",
       "    </tr>\n",
       "    <tr>\n",
       "      <th>3</th>\n",
       "      <td>176001157</td>\n",
       "      <td>JET_1_a502171</td>\n",
       "      <td>TI</td>\n",
       "      <td>Order</td>\n",
       "      <td>52.0</td>\n",
       "      <td>2018-10-01 16:13:00</td>\n",
       "    </tr>\n",
       "    <tr>\n",
       "      <th>5</th>\n",
       "      <td>176001157</td>\n",
       "      <td>JET_1_a502171</td>\n",
       "      <td>TI</td>\n",
       "      <td>Order</td>\n",
       "      <td>52.0</td>\n",
       "      <td>2018-10-01 16:13:00</td>\n",
       "    </tr>\n",
       "  </tbody>\n",
       "</table>\n",
       "</div>"
      ],
      "text/plain": [
       "         iid            key attrtype status  pricetotal                date\n",
       "0  186997381  JET_1_a502170       TI  Order        29.0 2018-10-01 16:12:00\n",
       "1  186997381  JET_1_a502170       TI  Order        29.0 2018-10-01 16:12:00\n",
       "2  176001157  JET_1_a502171       TI  Order        52.0 2018-10-01 16:13:00\n",
       "3  176001157  JET_1_a502171       TI  Order        52.0 2018-10-01 16:13:00\n",
       "5  176001157  JET_1_a502171       TI  Order        52.0 2018-10-01 16:13:00"
      ]
     },
     "execution_count": 8,
     "metadata": {},
     "output_type": "execute_result"
    }
   ],
   "source": [
    "df_t_bereinigt[\"createdprovider\"] = pd.to_datetime(df_t_bereinigt['createdprovider'], format='%Y%m%d%H%M%S')\n",
    "df_t_bereinigt.rename(columns = {\"createdprovider\" : \"date\"}, inplace = True)\n",
    "df_t_bereinigt.head()"
   ]
  },
  {
   "cell_type": "markdown",
   "id": "eb494a10",
   "metadata": {},
   "source": [
    "##### Einträge für jede iid im Zeitverlauf sortieren"
   ]
  },
  {
   "cell_type": "code",
   "execution_count": 9,
   "id": "7df8d0b9",
   "metadata": {},
   "outputs": [],
   "source": [
    "df_t_bereinigt = df_t_bereinigt.sort_values(by=[\"iid\", \"date\"])"
   ]
  },
  {
   "cell_type": "code",
   "execution_count": 10,
   "id": "d345c857",
   "metadata": {},
   "outputs": [
    {
     "data": {
      "text/html": [
       "<div>\n",
       "<style scoped>\n",
       "    .dataframe tbody tr th:only-of-type {\n",
       "        vertical-align: middle;\n",
       "    }\n",
       "\n",
       "    .dataframe tbody tr th {\n",
       "        vertical-align: top;\n",
       "    }\n",
       "\n",
       "    .dataframe thead th {\n",
       "        text-align: right;\n",
       "    }\n",
       "</style>\n",
       "<table border=\"1\" class=\"dataframe\">\n",
       "  <thead>\n",
       "    <tr style=\"text-align: right;\">\n",
       "      <th></th>\n",
       "      <th>iid</th>\n",
       "      <th>key</th>\n",
       "      <th>attrtype</th>\n",
       "      <th>status</th>\n",
       "      <th>pricetotal</th>\n",
       "      <th>date</th>\n",
       "    </tr>\n",
       "  </thead>\n",
       "  <tbody>\n",
       "    <tr>\n",
       "      <th>2777553</th>\n",
       "      <td>163094976</td>\n",
       "      <td>JET_1_a702292</td>\n",
       "      <td>TI</td>\n",
       "      <td>Order</td>\n",
       "      <td>10.0</td>\n",
       "      <td>2019-06-30 16:57:00</td>\n",
       "    </tr>\n",
       "    <tr>\n",
       "      <th>2777554</th>\n",
       "      <td>163094976</td>\n",
       "      <td>JET_1_a702292</td>\n",
       "      <td>TI</td>\n",
       "      <td>Order</td>\n",
       "      <td>10.0</td>\n",
       "      <td>2019-06-30 16:57:00</td>\n",
       "    </tr>\n",
       "    <tr>\n",
       "      <th>3123185</th>\n",
       "      <td>163094976</td>\n",
       "      <td>JET_1_a1094864</td>\n",
       "      <td>TI</td>\n",
       "      <td>Order</td>\n",
       "      <td>10.0</td>\n",
       "      <td>2021-06-04 16:33:00</td>\n",
       "    </tr>\n",
       "    <tr>\n",
       "      <th>3123186</th>\n",
       "      <td>163094976</td>\n",
       "      <td>JET_1_a1094864</td>\n",
       "      <td>TI</td>\n",
       "      <td>Order</td>\n",
       "      <td>10.0</td>\n",
       "      <td>2021-06-04 16:33:00</td>\n",
       "    </tr>\n",
       "    <tr>\n",
       "      <th>3123788</th>\n",
       "      <td>163094976</td>\n",
       "      <td>JET_1_a1095070</td>\n",
       "      <td>TI</td>\n",
       "      <td>Order</td>\n",
       "      <td>8.0</td>\n",
       "      <td>2021-06-04 19:54:00</td>\n",
       "    </tr>\n",
       "  </tbody>\n",
       "</table>\n",
       "</div>"
      ],
      "text/plain": [
       "               iid             key attrtype status  pricetotal  \\\n",
       "2777553  163094976   JET_1_a702292       TI  Order        10.0   \n",
       "2777554  163094976   JET_1_a702292       TI  Order        10.0   \n",
       "3123185  163094976  JET_1_a1094864       TI  Order        10.0   \n",
       "3123186  163094976  JET_1_a1094864       TI  Order        10.0   \n",
       "3123788  163094976  JET_1_a1095070       TI  Order         8.0   \n",
       "\n",
       "                       date  \n",
       "2777553 2019-06-30 16:57:00  \n",
       "2777554 2019-06-30 16:57:00  \n",
       "3123185 2021-06-04 16:33:00  \n",
       "3123186 2021-06-04 16:33:00  \n",
       "3123788 2021-06-04 19:54:00  "
      ]
     },
     "execution_count": 10,
     "metadata": {},
     "output_type": "execute_result"
    }
   ],
   "source": [
    "df_t_bereinigt.head()"
   ]
  },
  {
   "cell_type": "markdown",
   "id": "b3886d21",
   "metadata": {},
   "source": [
    "##### Anzahl der unique Käufe "
   ]
  },
  {
   "cell_type": "code",
   "execution_count": 18,
   "id": "8b83fe10",
   "metadata": {},
   "outputs": [
    {
     "data": {
      "text/html": [
       "<div>\n",
       "<style scoped>\n",
       "    .dataframe tbody tr th:only-of-type {\n",
       "        vertical-align: middle;\n",
       "    }\n",
       "\n",
       "    .dataframe tbody tr th {\n",
       "        vertical-align: top;\n",
       "    }\n",
       "\n",
       "    .dataframe thead th {\n",
       "        text-align: right;\n",
       "    }\n",
       "</style>\n",
       "<table border=\"1\" class=\"dataframe\">\n",
       "  <thead>\n",
       "    <tr style=\"text-align: right;\">\n",
       "      <th></th>\n",
       "      <th>iid</th>\n",
       "      <th>date</th>\n",
       "    </tr>\n",
       "  </thead>\n",
       "  <tbody>\n",
       "    <tr>\n",
       "      <th>3123185</th>\n",
       "      <td>163094976</td>\n",
       "      <td>2021-06-04 16:33:00</td>\n",
       "    </tr>\n",
       "    <tr>\n",
       "      <th>3123788</th>\n",
       "      <td>163094976</td>\n",
       "      <td>2021-06-04 19:54:00</td>\n",
       "    </tr>\n",
       "    <tr>\n",
       "      <th>626619</th>\n",
       "      <td>163094976</td>\n",
       "      <td>2021-09-28 12:01:00</td>\n",
       "    </tr>\n",
       "    <tr>\n",
       "      <th>970102</th>\n",
       "      <td>163094976</td>\n",
       "      <td>2021-10-28 17:43:00</td>\n",
       "    </tr>\n",
       "    <tr>\n",
       "      <th>1549632</th>\n",
       "      <td>163094976</td>\n",
       "      <td>2021-12-21 18:20:00</td>\n",
       "    </tr>\n",
       "  </tbody>\n",
       "</table>\n",
       "</div>"
      ],
      "text/plain": [
       "               iid                date\n",
       "3123185  163094976 2021-06-04 16:33:00\n",
       "3123788  163094976 2021-06-04 19:54:00\n",
       "626619   163094976 2021-09-28 12:01:00\n",
       "970102   163094976 2021-10-28 17:43:00\n",
       "1549632  163094976 2021-12-21 18:20:00"
      ]
     },
     "execution_count": 18,
     "metadata": {},
     "output_type": "execute_result"
    }
   ],
   "source": [
    "df_t_bereinigt = df_t_bereinigt.loc[df_t_bereinigt.groupby([\"iid\", \"key\"])[\"date\"].idxmin()]\n",
    "df_t_bereinigt = df_t_bereinigt[[\"iid\", \"date\"]]\n",
    "df_t_bereinigt.head()"
   ]
  },
  {
   "cell_type": "markdown",
   "id": "54d35e31",
   "metadata": {},
   "source": [
    "##### Monate als t = 1, .... abspeichern"
   ]
  },
  {
   "cell_type": "code",
   "execution_count": 19,
   "id": "8f152f22",
   "metadata": {},
   "outputs": [
    {
     "data": {
      "text/html": [
       "<div>\n",
       "<style scoped>\n",
       "    .dataframe tbody tr th:only-of-type {\n",
       "        vertical-align: middle;\n",
       "    }\n",
       "\n",
       "    .dataframe tbody tr th {\n",
       "        vertical-align: top;\n",
       "    }\n",
       "\n",
       "    .dataframe thead th {\n",
       "        text-align: right;\n",
       "    }\n",
       "</style>\n",
       "<table border=\"1\" class=\"dataframe\">\n",
       "  <thead>\n",
       "    <tr style=\"text-align: right;\">\n",
       "      <th></th>\n",
       "      <th>iid</th>\n",
       "      <th>date</th>\n",
       "      <th>month_count</th>\n",
       "    </tr>\n",
       "  </thead>\n",
       "  <tbody>\n",
       "    <tr>\n",
       "      <th>3123185</th>\n",
       "      <td>163094976</td>\n",
       "      <td>2021-06-04 16:33:00</td>\n",
       "      <td>-10</td>\n",
       "    </tr>\n",
       "    <tr>\n",
       "      <th>3123788</th>\n",
       "      <td>163094976</td>\n",
       "      <td>2021-06-04 19:54:00</td>\n",
       "      <td>-10</td>\n",
       "    </tr>\n",
       "    <tr>\n",
       "      <th>626619</th>\n",
       "      <td>163094976</td>\n",
       "      <td>2021-09-28 12:01:00</td>\n",
       "      <td>-7</td>\n",
       "    </tr>\n",
       "    <tr>\n",
       "      <th>970102</th>\n",
       "      <td>163094976</td>\n",
       "      <td>2021-10-28 17:43:00</td>\n",
       "      <td>-6</td>\n",
       "    </tr>\n",
       "    <tr>\n",
       "      <th>1549632</th>\n",
       "      <td>163094976</td>\n",
       "      <td>2021-12-21 18:20:00</td>\n",
       "      <td>-4</td>\n",
       "    </tr>\n",
       "  </tbody>\n",
       "</table>\n",
       "</div>"
      ],
      "text/plain": [
       "               iid                date  month_count\n",
       "3123185  163094976 2021-06-04 16:33:00          -10\n",
       "3123788  163094976 2021-06-04 19:54:00          -10\n",
       "626619   163094976 2021-09-28 12:01:00           -7\n",
       "970102   163094976 2021-10-28 17:43:00           -6\n",
       "1549632  163094976 2021-12-21 18:20:00           -4"
      ]
     },
     "execution_count": 19,
     "metadata": {},
     "output_type": "execute_result"
    }
   ],
   "source": [
    "# Berechnung der neuen Spalte \"month_count\"\n",
    "df_t_bereinigt['month_count'] = (df_t_bereinigt['date'].dt.year - 2022) * 12 + df_t_bereinigt['date'].dt.month - 3 - 1\n",
    "df_t_bereinigt.head()"
   ]
  },
  {
   "cell_type": "code",
   "execution_count": 23,
   "id": "c98689b9",
   "metadata": {},
   "outputs": [
    {
     "data": {
      "text/plain": [
       "(array([22153., 22507., 28690., 11254., 16401., 21436., 15369., 22363.,\n",
       "        23946., 21312., 16763., 22891., 22639.]),\n",
       " array([ 0.,  1.,  2.,  3.,  4.,  5.,  6.,  7.,  8.,  9., 10., 11., 12.,\n",
       "        13.]),\n",
       " <BarContainer object of 13 artists>)"
      ]
     },
     "execution_count": 23,
     "metadata": {},
     "output_type": "execute_result"
    },
    {
     "data": {
      "image/png": "[encoded data removed]",
      "text/plain": [
       "<Figure size 640x480 with 1 Axes>"
      ]
     },
     "metadata": {},
     "output_type": "display_data"
    }
   ],
   "source": [
    "plt.hist(df_t_bereinigt[df_t_bereinigt['month_count'] >= 0][\"month_count\"], bins = 13)"
   ]
  },
  {
   "cell_type": "code",
   "execution_count": 25,
   "id": "ffa5c64d",
   "metadata": {},
   "outputs": [
    {
     "data": {
      "text/plain": [
       "13"
      ]
     },
     "execution_count": 25,
     "metadata": {},
     "output_type": "execute_result"
    }
   ],
   "source": [
    "df_t_bereinigt[df_t_bereinigt['month_count'] >= 0][\"month_count\"].max()"
   ]
  },
  {
   "cell_type": "markdown",
   "id": "24631cfa",
   "metadata": {},
   "source": [
    "#### 2. verarbeiteteDaten als Elphi_transactions_ersteBereinigung.csv in dem Ordner verarbeitete_Daten abspeichern"
   ]
  },
  {
   "cell_type": "code",
   "execution_count": 26,
   "id": "79b11e91",
   "metadata": {},
   "outputs": [],
   "source": [
    "path = r'C:/Users/felix.oechslein/Desktop/Analysen Elphi, Mai/verarbeitete_daten/'\n",
    "filename = 'Elphi_transactions_ersteBereinigung.csv'\n",
    "\n",
    "df_t_bereinigt.to_csv(os.path.join(path, filename), index=False)"
   ]
  },
  {
   "cell_type": "code",
   "execution_count": null,
   "id": "bcd3961d",
   "metadata": {},
   "outputs": [],
   "source": []
  }
 ],
 "metadata": {
  "kernelspec": {
   "display_name": "Python 3 (ipykernel)",
   "language": "python",
   "name": "python3"
  },
  "language_info": {
   "codemirror_mode": {
    "name": "ipython",
    "version": 3
   },
   "file_extension": ".py",
   "mimetype": "text/x-python",
   "name": "python",
   "nbconvert_exporter": "python",
   "pygments_lexer": "ipython3",
   "version": "3.9.13"
  }
 },
 "nbformat": 4,
 "nbformat_minor": 5
}
