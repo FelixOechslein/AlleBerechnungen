{
 "cells": [
  {
   "cell_type": "code",
   "execution_count": 2,
   "id": "b196d4bb",
   "metadata": {},
   "outputs": [],
   "source": [
    "from scipy.stats import nbinom, binom, poisson\n",
    "from statsmodels.discrete.count_model import ZeroInflatedNegativeBinomialP\n",
    "import pandas as pd\n",
    "import numpy as np\n",
    "import matplotlib.pyplot as plt\n",
    "import scipy.stats as stats\n",
    "import math\n",
    "import seaborn as sns\n",
    "from datetime import datetime, timedelta\n",
    "from scipy.stats import pearsonr\n",
    "from scipy.stats import kendalltau\n",
    "from scipy.stats import spearmanr\n",
    "import os\n",
    "from scipy.optimize import minimize, Bounds, LinearConstraint, NonlinearConstraint\n",
    "import inspect"
   ]
  },
  {
   "cell_type": "code",
   "execution_count": 3,
   "id": "d7f24c1e",
   "metadata": {},
   "outputs": [],
   "source": [
    "path = r'C:/Users/felix.oechslein/Desktop/Analysen Thalia, Mai/verarbeitete_daten'\n",
    "filename = 'Pivot_Trans_Privat_ohneApple_Langzeitkunde.csv'\n",
    "\n",
    "df_trans_werte = pd.read_csv(os.path.join(path, filename))"
   ]
  },
  {
   "cell_type": "code",
   "execution_count": 4,
   "id": "4d1d8cdf",
   "metadata": {},
   "outputs": [],
   "source": [
    "path = r'C:/Users/felix.oechslein/Desktop/Analysen Thalia, Mai/verarbeitete_daten'\n",
    "filename = 'Pivot_LY_Privat_ohneApple_Langzeitkunde.csv'\n",
    "\n",
    "df_LY = pd.read_csv(os.path.join(path, filename))"
   ]
  },
  {
   "cell_type": "code",
   "execution_count": 5,
   "id": "1c371a2b",
   "metadata": {},
   "outputs": [],
   "source": [
    "path = r'C:/Users/felix.oechslein/Desktop/Analysen Thalia, Mai/verarbeitete_daten'\n",
    "filename = 'Pivot_HY_Privat_ohneApple_Langzeitkunde.csv'\n",
    "\n",
    "df_HY = pd.read_csv(os.path.join(path, filename))"
   ]
  },
  {
   "cell_type": "code",
   "execution_count": 6,
   "id": "1fcaab9d",
   "metadata": {},
   "outputs": [],
   "source": [
    "path = r'C:/Users/felix.oechslein/Desktop/Analysen Thalia, Mai/verarbeitete_daten'\n",
    "filename = 'Pivot_NO_Privat_ohneApple_Langzeitkunde.csv'\n",
    "\n",
    "df_NO_werte = pd.read_csv(os.path.join(path, filename))"
   ]
  },
  {
   "cell_type": "code",
   "execution_count": 7,
   "id": "68ae15da",
   "metadata": {},
   "outputs": [],
   "source": [
    "path = r'C:/Users/felix.oechslein/Desktop/Analysen Thalia, Mai/verarbeitete_daten'\n",
    "filename = 'Pivot_LO_Privat_ohneApple_Langzeitkunde.csv'\n",
    "\n",
    "df_LO = pd.read_csv(os.path.join(path, filename))"
   ]
  },
  {
   "cell_type": "code",
   "execution_count": 8,
   "id": "62c55e83",
   "metadata": {},
   "outputs": [],
   "source": [
    "## Alle DataFrame Werte von Float zu int\n",
    "df_trans_werte = df_trans_werte.astype(int)\n",
    "df_LY = df_LY.astype(int)\n",
    "df_HY = df_HY.astype(int)\n",
    "df_NO_werte = df_NO_werte.astype(int)\n",
    "df_LO = df_LO.astype(int)\n",
    "\n",
    "# Transwerte-1 definiert für spätere Berecnungen in der Copula\n",
    "#df_trans_werte_minusEins = df_trans_werte.loc[:, df_NO_werte.columns != 'iid'] -1\n",
    "#df_trans_werte_minusEins = df_trans_werte_minusEins.astype(int)"
   ]
  },
  {
   "cell_type": "code",
   "execution_count": 9,
   "id": "781124ed",
   "metadata": {},
   "outputs": [
    {
     "data": {
      "text/plain": [
       "1462"
      ]
     },
     "execution_count": 9,
     "metadata": {},
     "output_type": "execute_result"
    }
   ],
   "source": [
    "len(df_trans_werte)"
   ]
  },
  {
   "cell_type": "code",
   "execution_count": 10,
   "id": "1d382f33",
   "metadata": {},
   "outputs": [
    {
     "data": {
      "text/plain": [
       "1462"
      ]
     },
     "execution_count": 10,
     "metadata": {},
     "output_type": "execute_result"
    }
   ],
   "source": [
    "len(df_LY)"
   ]
  },
  {
   "cell_type": "code",
   "execution_count": 11,
   "id": "3dc6152d",
   "metadata": {},
   "outputs": [
    {
     "data": {
      "text/plain": [
       "697"
      ]
     },
     "execution_count": 11,
     "metadata": {},
     "output_type": "execute_result"
    }
   ],
   "source": [
    "len(df_HY)"
   ]
  },
  {
   "cell_type": "code",
   "execution_count": 12,
   "id": "5e8b7cd5",
   "metadata": {},
   "outputs": [
    {
     "data": {
      "text/plain": [
       "647"
      ]
     },
     "execution_count": 12,
     "metadata": {},
     "output_type": "execute_result"
    }
   ],
   "source": [
    "len(df_NO_werte)"
   ]
  },
  {
   "cell_type": "code",
   "execution_count": 13,
   "id": "2b15d1c6",
   "metadata": {},
   "outputs": [
    {
     "data": {
      "text/plain": [
       "647"
      ]
     },
     "execution_count": 13,
     "metadata": {},
     "output_type": "execute_result"
    }
   ],
   "source": [
    "len(df_LO)"
   ]
  },
  {
   "cell_type": "markdown",
   "id": "1bec2103",
   "metadata": {},
   "source": [
    "# Siherstellen dass alle dataframes dieselben Kunden verwenden"
   ]
  },
  {
   "cell_type": "code",
   "execution_count": 14,
   "id": "c0beeb53",
   "metadata": {},
   "outputs": [],
   "source": [
    "# Entfernen der Zeilen aus df_HY, die nicht in df_trans_werte und df_LO enthalten sind\n",
    "df_HY = df_HY[df_HY['iid'].isin(df_trans_werte['iid'])]\n",
    "df_HY = df_HY[df_HY['iid'].isin(df_LO['iid'])]\n",
    "\n",
    "# Entfernen der Zeilen aus df_trans_werte, die nicht in df_HY, df_NO_werte und df_LY enthalten sind\n",
    "df_trans_werte = df_trans_werte[df_trans_werte['iid'].isin(df_HY['iid'])]\n",
    "df_trans_werte = df_trans_werte[df_trans_werte['iid'].isin(df_NO_werte['iid'])]\n",
    "df_trans_werte = df_trans_werte[df_trans_werte['iid'].isin(df_LY['iid'])]\n",
    "\n",
    "# Entfernen der Zeilen aus df_LO, die nicht in df_HY enthalten sind\n",
    "df_LO = df_LO[df_LO['iid'].isin(df_HY['iid'])]\n",
    "\n",
    "# Entfernen der Zeilen aus df_NO_werte, die nicht in df_trans_werte enthalten sind\n",
    "df_NO_werte = df_NO_werte[df_NO_werte['iid'].isin(df_trans_werte['iid'])]\n",
    "\n",
    "# Entfernen der Zeilen aus df_LY, die nicht in df_trans_werte enthalten sind\n",
    "df_LY = df_LY[df_LY['iid'].isin(df_trans_werte['iid'])]\n",
    "\n",
    "### Alle DataFrames Indizes resetten, damit man sie gemeinsam identifiziere kann\n",
    "df_HY = df_HY.reset_index(drop=True)\n",
    "df_trans_werte = df_trans_werte.reset_index(drop=True)\n",
    "df_LO = df_LO.reset_index(drop=True)\n",
    "df_NO_werte = df_NO_werte.reset_index(drop=True)\n",
    "df_LY = df_LY.reset_index(drop=True)\n",
    "\n",
    "# NO-1 definiert für spätere Berechnung inder Copula\n",
    "df_NO_minusEins = df_NO_werte.copy()\n",
    "df_NO_minusEins.loc[:, df_NO_minusEins.columns != 'iid'] = df_NO_minusEins.loc[:, df_NO_minusEins.columns != 'iid'] -1\n",
    "df_NO_minusEins = df_NO_minusEins.astype(int)\n",
    "# transwerte -1 definiert für spätere Berechnung inder Copula\n",
    "df_trans_werte_minusEins = df_trans_werte.copy()\n",
    "df_trans_werte_minusEins.loc[:, df_trans_werte_minusEins.columns != 'iid'] = df_trans_werte_minusEins.loc[:, df_trans_werte_minusEins.columns != 'iid'] -1\n",
    "df_trans_werte_minusEins = df_trans_werte_minusEins.astype(int)"
   ]
  },
  {
   "cell_type": "markdown",
   "id": "8de42bcf",
   "metadata": {},
   "source": [
    "## Ausreißer bei den Kunden löschen"
   ]
  },
  {
   "cell_type": "code",
   "execution_count": 15,
   "id": "7ab76b5d",
   "metadata": {},
   "outputs": [],
   "source": [
    "kunden_pos = [384, 446, 502, 599]"
   ]
  },
  {
   "cell_type": "code",
   "execution_count": 16,
   "id": "fb34dbdc",
   "metadata": {},
   "outputs": [],
   "source": [
    "# Zeilen löschen\n",
    "df_NO_minusEins = df_NO_minusEins.drop(kunden_pos).reset_index(drop = True)\n",
    "df_HY = df_HY.drop(kunden_pos).reset_index(drop = True)\n",
    "df_trans_werte = df_trans_werte.drop(kunden_pos).reset_index(drop = True)\n",
    "df_LO = df_LO.drop(kunden_pos).reset_index(drop = True)\n",
    "df_NO_werte = df_NO_werte.drop(kunden_pos).reset_index(drop = True)\n",
    "df_LY = df_LY.drop(kunden_pos).reset_index(drop = True)\n",
    "df_trans_werte_minusEins = df_trans_werte_minusEins.drop(kunden_pos).reset_index(drop = True)"
   ]
  },
  {
   "cell_type": "markdown",
   "id": "b45a4d6a",
   "metadata": {},
   "source": [
    "## Spezifikation des Modells"
   ]
  },
  {
   "cell_type": "code",
   "execution_count": 17,
   "id": "b99681dd",
   "metadata": {},
   "outputs": [
    {
     "data": {
      "text/plain": [
       "643"
      ]
     },
     "execution_count": 17,
     "metadata": {},
     "output_type": "execute_result"
    }
   ],
   "source": [
    "anzahl_kunden = len(df_trans_werte[\"iid\"])\n",
    "anzahl_kunden"
   ]
  },
  {
   "cell_type": "code",
   "execution_count": 18,
   "id": "d543c59a",
   "metadata": {},
   "outputs": [
    {
     "data": {
      "text/plain": [
       "15"
      ]
     },
     "execution_count": 18,
     "metadata": {},
     "output_type": "execute_result"
    }
   ],
   "source": [
    "anzahl_monate = len(df_trans_werte.columns[df_trans_werte.columns != 'iid'])\n",
    "anzahl_monate"
   ]
  },
  {
   "cell_type": "code",
   "execution_count": 19,
   "id": "79d03cf3",
   "metadata": {},
   "outputs": [],
   "source": [
    "anzahl_states = 3"
   ]
  },
  {
   "cell_type": "markdown",
   "id": "7f59f07b",
   "metadata": {},
   "source": [
    "##### Definition der Transitionmatrix"
   ]
  },
  {
   "cell_type": "code",
   "execution_count": 20,
   "id": "1430b8ec",
   "metadata": {},
   "outputs": [],
   "source": [
    "# Definition der Erfolgswahrscheinlichkeit p_t als 1 x anzhal_kunden array \n",
    "def Q_v_state_t_minusEins_state_t_monat(alpha, gamma, state_t_minusEins, state, monat):\n",
    "    \n",
    "    state_t_minusEins = state_t_minusEins -1\n",
    "    state = state -1\n",
    "    str_monat = str(monat)\n",
    "    \n",
    "    # Definition der X_t_minusEins\n",
    "    # verwendete Parameter\n",
    "    EM_monat_minusEins = df_HY[str_monat]\n",
    "    Y_monat_minusEins = df_trans_werte[str_monat]\n",
    "    O_monat_minusEins = df_NO_werte[str_monat]\n",
    "    # Definition\n",
    "    X_t_minusEins = [O_monat_minusEins.apply(lambda x: int(x > 0)),\\\n",
    "                     Y_monat_minusEins.apply(lambda x: int(x > 0)),\\\n",
    "                     EM_monat_minusEins, np.square(EM_monat_minusEins)]\n",
    "    \n",
    "    X_t_minusEins = np.array(X_t_minusEins)\n",
    "    array_v = alpha[3*state_t_minusEins + state] +\\\n",
    "                    gamma[3*state_t_minusEins + state] * X_t_minusEins[0] +\\\n",
    "                    gamma[(np.square(anzahl_states)) + 3*state_t_minusEins + state] * X_t_minusEins[1] +\\\n",
    "                    gamma[(2* np.square(anzahl_states)) + 3*state_t_minusEins + state] * X_t_minusEins[2] +\\\n",
    "                    gamma[(3* np.square(anzahl_states)) + 3*state_t_minusEins + state] * X_t_minusEins[3]\n",
    "\n",
    "    return array_v\n",
    "\n",
    "# Definition der Transitionmatrix\n",
    "def probability_Q_state_monat(alpha, gamma):\n",
    "    \n",
    "    ### Erstellung leerer anzahl_states x anzahl_states arrays für jeden Kunden und jeden Monat\n",
    "    Q = np.zeros((anzahl_kunden, anzahl_monate - 1, anzahl_states, anzahl_states))\n",
    "                \n",
    "    for monat in range(2, anzahl_monate + 1):\n",
    "        \n",
    "        for state_t_minusEins in range(1, anzahl_states +1):\n",
    "            \n",
    "            # Erste Spalte besteht aus Nullen, da eine Trasition zurück in state 1 nicht möglich ist\n",
    "            for state in range(2, anzahl_states +1):\n",
    "                \n",
    "                q_array_iid_monat_state = Q_v_state_t_minusEins_state_t_monat(alpha, gamma, state_t_minusEins, state, monat)\n",
    "\n",
    "                # Speicherung der Werte in den leeren arrays\n",
    "                for iid in range(0, anzahl_kunden):\n",
    "                    \n",
    "                    #Neue Definition ohne die Verwedung von Namen\n",
    "                    Q[iid, monat-2, state_t_minusEins-1, state-1] = q_array_iid_monat_state[iid]\n",
    "                    \n",
    "    \n",
    "    denominator = 1 + np.sum(np.exp(Q[..., 1:]), axis=3, keepdims=True)\n",
    "    Q = np.exp(Q)/denominator\n",
    "    \n",
    "    # Wenn einmal in state 2, kann nicht mehr zurück in state 1\n",
    "    Q[:,:,:,0] = 0.0\n",
    "    \n",
    "    return Q"
   ]
  },
  {
   "cell_type": "markdown",
   "id": "9b0021ec",
   "metadata": {},
   "source": [
    "#### Tests"
   ]
  },
  {
   "cell_type": "code",
   "execution_count": null,
   "id": "f1e7d2f8",
   "metadata": {},
   "outputs": [],
   "source": []
  },
  {
   "cell_type": "markdown",
   "id": "197ba00b",
   "metadata": {},
   "source": [
    "##### Definition der Verteilungsfunktion F_1 von CEOM aals anzahl_kunden x 1 Array für jeden state und Monat"
   ]
  },
  {
   "cell_type": "code",
   "execution_count": 21,
   "id": "a1af4196",
   "metadata": {},
   "outputs": [],
   "source": [
    "# Definition der Erfolgswahrscheinlichkeit p_t als 1 x anzhal_kunden array \n",
    "def lambda_O_state_monat(alpha_o, beta_o, state, monat):\n",
    "    \n",
    "    state = state -1\n",
    "    \n",
    "    # Definitio von str_monat um auf den spaltennamen zugreifen zu können\n",
    "    str_monat = str(monat)\n",
    "    \n",
    "    # EM_iidt:Anzahl dversendeter Mails in Monat t an Kunde mit iid\n",
    "    EM_monat = df_HY[str_monat]\n",
    "    LO_monat = df_LO[str_monat]\n",
    "    \n",
    "    # Erhalten der Werte für die Verarbeitung in der Formel\n",
    "    array_lambda = np.exp(np.log(0.63*EM_monat) + alpha_o[state] + beta_o[0] * np.log(LO_monat))\n",
    "\n",
    "    return array_lambda\n",
    "\n",
    "# Array der Verteilungsfunktion der Öffungen O für Monat und state\n",
    "def F_O_state_monat(alpha_o, beta_o, state, monat):\n",
    "    \n",
    "    # Definitio von str_monat um auf den spaltennamen zugreifen zu können\n",
    "    str_monat = str(monat)\n",
    "    \n",
    "    # o_iidt: Anzahl geöffneter Mails in Monat t von allen Kunden\n",
    "    o_monat = df_NO_werte[str_monat]\n",
    "    \n",
    "    lambda_O_state_monat_berechnung = lambda_O_state_monat(alpha_o, beta_o, state, monat)\n",
    "    \n",
    "    array_F_O_berechnung = poisson.cdf(o_monat, lambda_O_state_monat_berechnung)\n",
    "         \n",
    "    return array_F_O_berechnung\n",
    "\n",
    "# Array der Verteilungsfunktion der Öffungen O -1 für Monat und state\n",
    "def F_O_state_monat_minusEins(alpha_o, beta_o, state, monat):\n",
    "    \n",
    "    # Definitio von str_monat um auf den spaltennamen zugreifen zu können\n",
    "    str_monat = str(monat)\n",
    "    \n",
    "    # o_iidt: Anzahl geöffneter Mails in Monat t von allen Kunden\n",
    "    o_monat = df_NO_minusEins[str_monat]\n",
    "    \n",
    "    lambda_O_state_monat_berechnung = lambda_O_state_monat(alpha_o, beta_o, state, monat)\n",
    "    \n",
    "    array_F_O_berechnung = poisson.cdf(o_monat, lambda_O_state_monat_berechnung)\n",
    "\n",
    "    return array_F_O_berechnung"
   ]
  },
  {
   "cell_type": "markdown",
   "id": "42b2c544",
   "metadata": {},
   "source": [
    "#### Tests"
   ]
  },
  {
   "cell_type": "code",
   "execution_count": null,
   "id": "59930dbd",
   "metadata": {},
   "outputs": [],
   "source": []
  },
  {
   "cell_type": "markdown",
   "id": "a762e9fd",
   "metadata": {},
   "source": [
    "##### Definition der Verteilungsfunktio F_2 von CPM als anzahl_kunden x 1 Array für jeden state und Monat"
   ]
  },
  {
   "cell_type": "code",
   "execution_count": 22,
   "id": "69d53554",
   "metadata": {},
   "outputs": [],
   "source": [
    "# Definition der Wahrscheinlichkeit des Eintretens eines Erfolges im Einzelversuch phi als anzahl_iids x T df\n",
    "def r_state_monat(delta_0, delta_1, state, monat):\n",
    "    \n",
    "    state = state -1\n",
    "    \n",
    "    # Definitio von str_monat um auf den spaltennamen zugreifen zu können\n",
    "    str_monat = str(monat)\n",
    "    \n",
    "    LY_monat = df_LY[str_monat]\n",
    "    array_r = np.exp(delta_0[state] + delta_1[state] * np.log(LY_monat))\n",
    "    \n",
    "    return array_r\n",
    "\n",
    "# Definition der lambdaY als anzahl_iids x 1 array für monat und state\n",
    "def p_state_monat(alpha_p, beta_p_1, beta_p_2, state, monat):\n",
    "    \n",
    "    state = state -1\n",
    "    \n",
    "    # Definitio von str_monat um auf den spaltennamen zugreifen zu können\n",
    "    str_monat = str(monat)\n",
    "    EM_monat = df_HY[str_monat]\n",
    "    \n",
    "    array_exp = np.exp(alpha_p[state] + beta_p_1[state] * EM_monat + beta_p_2[state] * np.square(EM_monat))\n",
    "    array_p = array_exp / (1+ array_exp)\n",
    "    \n",
    "    return array_p\n",
    "\n",
    "# Array der Verteilungsfunktion der Käufe Y für Monat und state\n",
    "def F_Y_state_monat(delta_0, delta_1, alpha_p, beta_p_1, beta_p_2, state, monat):\n",
    "    \n",
    "    # Definitio von str_monat um auf den spaltennamen zugreifen zu können\n",
    "    str_monat = str(monat)\n",
    "    # y_monat ist das array mit der Anzahl an Käufen in monat str_monat\n",
    "    y_monat = df_trans_werte[str_monat]\n",
    "    # r ist das 1 x anzahl_iids array mit r für jeden kunden mit gegegebenem monat und state\n",
    "    array_r = r_state_monat(delta_0, delta_1, state, monat)\n",
    "    # p ist das 1 x anzahl_iids array mit p für jeden kunden mit gegegebenem monat und state\n",
    "    array_p = p_state_monat(alpha_p, beta_p_1, beta_p_2, state, monat)\n",
    "    # cdf berechnen\n",
    "    cdf = nbinom.cdf(y_monat, array_r, array_p)\n",
    "    \n",
    "    return cdf\n",
    "\n",
    "# Array der Verteilungsfunktion der Käufe Y-1 für Monat und state\n",
    "def F_Y_state_monat_minusEins(delta_0, delta_1, alpha_p, beta_p_1, beta_p_2, state, monat):\n",
    "    \n",
    "    # Definitio von str_monat um auf den spaltennamen zugreifen zu können\n",
    "    str_monat = str(monat)\n",
    "    # y_monat ist das array mit der Anzahl an Käufen in monat str_monat\n",
    "    y_monat = df_trans_werte[str_monat] -1\n",
    "    # r ist das 1 x anzahl_iids array mit r für jeden kunden mit gegegebenem monat und state\n",
    "    array_r = r_state_monat(delta_0, delta_1, state, monat)\n",
    "    # p ist das 1 x anzahl_iids array mit p für jeden kunden mit gegegebenem monat und state\n",
    "    array_p = p_state_monat(alpha_p, beta_p_1, beta_p_2, state, monat)\n",
    "    # cdf berechnen\n",
    "    cdf = nbinom.cdf(y_monat, array_r, array_p)\n",
    "    \n",
    "    return cdf"
   ]
  },
  {
   "cell_type": "markdown",
   "id": "da44f57e",
   "metadata": {},
   "source": [
    "#### Tests"
   ]
  },
  {
   "cell_type": "code",
   "execution_count": null,
   "id": "a472e562",
   "metadata": {},
   "outputs": [],
   "source": []
  },
  {
   "cell_type": "markdown",
   "id": "1b3cd732",
   "metadata": {},
   "source": [
    "##### Definition der Frank-copula"
   ]
  },
  {
   "cell_type": "code",
   "execution_count": 23,
   "id": "93d54445",
   "metadata": {},
   "outputs": [],
   "source": [
    "# Frank Copula, theta fehlt\n",
    "def Frank_copula(u_1, u_2, theta):\n",
    "    numerator = (np.exp(-theta[0]*u_1) - 1) * (np.exp(-theta[0]*u_2) - 1)\n",
    "    denominator = np.exp(-theta[0]) - 1\n",
    "    fraction = numerator / denominator\n",
    "    return (-1 / theta[0]) * np.log(1 + fraction)"
   ]
  },
  {
   "cell_type": "markdown",
   "id": "94ff64e7",
   "metadata": {},
   "source": [
    "##### Definition der Likelihoodfunktion"
   ]
  },
  {
   "cell_type": "code",
   "execution_count": 24,
   "id": "847bd7e2",
   "metadata": {},
   "outputs": [],
   "source": [
    "# alpha_o, delta_0, delta_1, alpha_p, beta_p_1, beta_p_2 sind state dependent\n",
    "# beta_o, r sind state independent\n",
    "def likelihood_function(params):\n",
    "    \n",
    "    alpha_size = anzahl_states**2\n",
    "    gamma_size = anzahl_states**2 * 4\n",
    "\n",
    "    alpha = params[:alpha_size]\n",
    "    gamma = params[alpha_size:alpha_size+gamma_size]\n",
    "    alpha_o = params[alpha_size+gamma_size:alpha_size+gamma_size+anzahl_states]\n",
    "    beta_o = params[alpha_size+gamma_size+anzahl_states:alpha_size+gamma_size+anzahl_states+1]\n",
    "    delta_0 = params[alpha_size+gamma_size+anzahl_states+1:alpha_size+gamma_size+anzahl_states*2+1]\n",
    "    delta_1 = params[alpha_size+gamma_size+anzahl_states*2+1:alpha_size+gamma_size+anzahl_states*3+1]\n",
    "    alpha_p = params[alpha_size+gamma_size+anzahl_states*3+1:alpha_size+gamma_size+anzahl_states*4+1]\n",
    "    beta_p_1 = params[alpha_size+gamma_size+anzahl_states*4+1:alpha_size+gamma_size+anzahl_states*5+1]\n",
    "    beta_p_2 = params[alpha_size+gamma_size+anzahl_states*5+1:alpha_size+gamma_size+anzahl_states*6+1]\n",
    "    theta = params[alpha_size+gamma_size+anzahl_states*6+1:]\n",
    "\n",
    "\n",
    "    #alpha, gamma, alpha_o, beta_o, delta_0, delta_1, alpha_p, beta_p_1, beta_p_2, r, theta = params\n",
    "    ### Erstellung einer Liste H die alle H_it enthalten\n",
    "    H = np.zeros((anzahl_kunden, anzahl_monate, anzahl_states))\n",
    "                \n",
    "                \n",
    "    for monat in range(1,anzahl_monate+1):\n",
    "        for state in range(1, anzahl_states +1):\n",
    "            \n",
    "            # Berechnung von arrays für die Verteilungsfunktionen\n",
    "            F_O_state_monat_berechnung = F_O_state_monat(alpha_o, beta_o, state, monat)\n",
    "            \n",
    "            F_O_state_monat_berechnung_minusEins = F_O_state_monat_minusEins(alpha_o, beta_o, state, monat)\n",
    "            \n",
    "            F_Y_state_monat_berechnung = F_Y_state_monat(delta_0, delta_1, alpha_p, beta_p_1, beta_p_2, state, monat)\n",
    "            \n",
    "            F_Y_state_monat_berechnung_minusEins =\\\n",
    "                    F_Y_state_monat_minusEins(delta_0, delta_1, alpha_p, beta_p_1, beta_p_2, state, monat)\n",
    "            \n",
    "            # Berechnung der gemeinsamen Verteilungen\n",
    "            H_state_monat_berechnung =\\\n",
    "                            Frank_copula(F_O_state_monat_berechnung, F_Y_state_monat_berechnung, theta) -\\\n",
    "                            Frank_copula(F_O_state_monat_berechnung_minusEins, F_Y_state_monat_berechnung, theta) -\\\n",
    "                            Frank_copula(F_O_state_monat_berechnung, F_Y_state_monat_berechnung_minusEins, theta) +\\\n",
    "                            Frank_copula(F_O_state_monat_berechnung_minusEins, F_Y_state_monat_berechnung_minusEins, theta)\n",
    "            \n",
    "            # Speicherung der Werte in den leeren arrays\n",
    "            H[:, monat-1, state-1] = H_state_monat_berechnung\n",
    "\n",
    "    # Startverteilung ist (1, 0,..., 0)\n",
    "    startverteilung = np.zeros((1, anzahl_states))\n",
    "    startverteilung[0, 0] = 1\n",
    "    \n",
    "    # Transitionmatrix Q, liste von 3x3 Arrays, wobei für Monate 2, ..., 15 die Q_it angegeben werden und die Q_it fü die\n",
    "    # nächsten Kunden dahinter angehängt werden\n",
    "    Q = probability_Q_state_monat(alpha, gamma)\n",
    "    \n",
    "    eins_vektor = np.ones((anzahl_states, 1))\n",
    "    \n",
    "    likelihood = np.array([])\n",
    "    \n",
    "    for iid in range(anzahl_kunden):\n",
    "        result = startverteilung\n",
    "        result = np.dot(result, np.diag(H[iid, 0]))\n",
    "        H_iid = np.eye(anzahl_states)\n",
    "        for monat in range(2, anzahl_monate+1):\n",
    "                H_iid_monat = np.dot(np.diag(H[iid, monat-1]), Q[iid, monat-2])\n",
    "                H_iid = np.dot(H_iid, H_iid_monat)\n",
    "        result = np.dot(result, H_iid)\n",
    "        result = np.dot(result, eins_vektor)\n",
    "        likelihood = np.concatenate((likelihood, result[0]))\n",
    "        \n",
    "    return abs(np.sum(np.log(likelihood)))"
   ]
  },
  {
   "cell_type": "markdown",
   "id": "2553a878",
   "metadata": {},
   "source": [
    "#### Tests"
   ]
  },
  {
   "cell_type": "code",
   "execution_count": null,
   "id": "f14f4e42",
   "metadata": {},
   "outputs": [],
   "source": []
  },
  {
   "cell_type": "markdown",
   "id": "aebd4d8b",
   "metadata": {},
   "source": [
    "# Berechnung der Likelihoodfunktion und Schätzung der Parameter"
   ]
  },
  {
   "cell_type": "markdown",
   "id": "2ec83978",
   "metadata": {},
   "source": [
    "### Definition der Startwerte"
   ]
  },
  {
   "cell_type": "code",
   "execution_count": 25,
   "id": "0128d379",
   "metadata": {
    "scrolled": true
   },
   "outputs": [],
   "source": [
    "# Parameter für Transitionmatrix\n",
    "#alpha = np.zeros((anzahl_states, anzahl_states)).flatten()\n",
    "values_quelle_alpha = [0, -2.647, -1.432, 0, 2.829, -3.815, 0, -2.398, 0.61]\n",
    "alpha = np.array(values_quelle_alpha)\n",
    "gamma = np.zeros((anzahl_states, anzahl_states, 4)).flatten()\n",
    "\n",
    "# Parameter für CEOM\n",
    "# values_quelle_alpha_o wurde aus einer vorherigen Optimierung übernommen\n",
    "values_quelle_alpha_o = [0]\n",
    "alpha_o = values_quelle_alpha_o * anzahl_states\n",
    "# values_quelle_beta_o wurdevorher nicht geschätzt\n",
    "values_quelle_beta_o = [0]\n",
    "beta_o = values_quelle_beta_o\n",
    "\n",
    "# Parameter für CPM\n",
    "# values_quelle_alpha_o wurde aus einer vorherigen Optimierung übernommen\n",
    "values_quelle_delta_0 = [np.log(1.29)]\n",
    "delta_0 = values_quelle_delta_0 * anzahl_states\n",
    "# values_quelle_delta_1 wurde nicht aus einer vorherigen Optimierung übernommen\n",
    "values_quelle_delta_1 = [0]\n",
    "delta_1 = values_quelle_delta_1 * anzahl_states\n",
    "# values_quelle_alpha_p wurde aus einer vorherigen Optimierung übernommen\n",
    "values_quelle_alpha_p = [np.log(0.779)]\n",
    "alpha_p = values_quelle_alpha_p * anzahl_states\n",
    "# beta_p_1 wurde nicht aus einer vorherigen Optimierung übernommen\n",
    "values_quelle_beta_p_1 = [0]\n",
    "beta_p_1 = values_quelle_beta_p_1 * anzahl_states\n",
    "# beta_p_2 wurde nicht aus einer vorherigen Optimierung übernommen\n",
    "values_quelle_beta_p_2 = [0]\n",
    "beta_p_2 = values_quelle_beta_p_2 * anzahl_states\n",
    "\n",
    "# Parameter für Frank_copula\n",
    "theta = np.array([0.324])"
   ]
  },
  {
   "cell_type": "code",
   "execution_count": 26,
   "id": "f1256a55",
   "metadata": {},
   "outputs": [],
   "source": [
    "# Setzen Sie die Startwerte\n",
    "x0 = np.concatenate((\n",
    "    alpha,\n",
    "    gamma,\n",
    "    alpha_o,\n",
    "    beta_o,\n",
    "    delta_0,\n",
    "    delta_1,\n",
    "    alpha_p,\n",
    "    beta_p_1,\n",
    "    beta_p_2,\n",
    "    theta))"
   ]
  },
  {
   "cell_type": "markdown",
   "id": "e74c5eb1",
   "metadata": {},
   "source": [
    "### Definition der Bounds und Constraints"
   ]
  },
  {
   "cell_type": "code",
   "execution_count": 27,
   "id": "4990e107",
   "metadata": {},
   "outputs": [],
   "source": [
    "# Definiere bounds\n",
    "#bounds = [(None, None)] * (len(x0) - 2) + [(1.1, 5)] + [(0.1, None)]"
   ]
  },
  {
   "cell_type": "code",
   "execution_count": 28,
   "id": "1a99f79f",
   "metadata": {},
   "outputs": [],
   "source": [
    "#Für die Definition der constraint relevant\n",
    "alpha_size = anzahl_states**2\n",
    "gamma_size = anzahl_states**2 * 4\n",
    "# alpha_o = params[alpha_size+gamma_size:alpha_size+gamma_size+anzahl_states]\n",
    "constraint_matrix = np.zeros((2, len(x0)))\n",
    "# Positionen für alpha_o\n",
    "alpha_o_1_pos = alpha_size + gamma_size\n",
    "alpha_o_2_pos = alpha_size + gamma_size + 1\n",
    "alpha_o_3_pos = alpha_size + gamma_size + 2\n",
    "# -1 und 1 an den entsprechenden Positionen setzen\n",
    "constraint_matrix[0][alpha_o_1_pos] = -1\n",
    "constraint_matrix[0][alpha_o_2_pos] = 1\n",
    "constraint_matrix[1][alpha_o_2_pos] = -1\n",
    "constraint_matrix[1][alpha_o_3_pos] = 1"
   ]
  },
  {
   "cell_type": "code",
   "execution_count": 29,
   "id": "53e2aefb",
   "metadata": {
    "scrolled": false
   },
   "outputs": [
    {
     "data": {
      "text/plain": [
       "array([[ 0.,  0.,  0.,  0.,  0.,  0.,  0.,  0.,  0.,  0.,  0.,  0.,  0.,\n",
       "         0.,  0.,  0.,  0.,  0.,  0.,  0.,  0.,  0.,  0.,  0.,  0.,  0.,\n",
       "         0.,  0.,  0.,  0.,  0.,  0.,  0.,  0.,  0.,  0.,  0.,  0.,  0.,\n",
       "         0.,  0.,  0.,  0.,  0.,  0., -1.,  1.,  0.,  0.,  0.,  0.,  0.,\n",
       "         0.,  0.,  0.,  0.,  0.,  0.,  0.,  0.,  0.,  0.,  0.,  0.,  0.],\n",
       "       [ 0.,  0.,  0.,  0.,  0.,  0.,  0.,  0.,  0.,  0.,  0.,  0.,  0.,\n",
       "         0.,  0.,  0.,  0.,  0.,  0.,  0.,  0.,  0.,  0.,  0.,  0.,  0.,\n",
       "         0.,  0.,  0.,  0.,  0.,  0.,  0.,  0.,  0.,  0.,  0.,  0.,  0.,\n",
       "         0.,  0.,  0.,  0.,  0.,  0.,  0., -1.,  1.,  0.,  0.,  0.,  0.,\n",
       "         0.,  0.,  0.,  0.,  0.,  0.,  0.,  0.,  0.,  0.,  0.,  0.,  0.]])"
      ]
     },
     "execution_count": 29,
     "metadata": {},
     "output_type": "execute_result"
    }
   ],
   "source": [
    "constraint_matrix"
   ]
  },
  {
   "cell_type": "code",
   "execution_count": 30,
   "id": "0c82415f",
   "metadata": {},
   "outputs": [],
   "source": [
    "linear_constraint = LinearConstraint(constraint_matrix, [0, 0], [np.inf, np.inf])"
   ]
  },
  {
   "cell_type": "markdown",
   "id": "dd0aea4d",
   "metadata": {},
   "source": [
    "### Berechnung per minimize Funktion"
   ]
  },
  {
   "cell_type": "code",
   "execution_count": 31,
   "id": "48ee675b",
   "metadata": {
    "scrolled": false
   },
   "outputs": [
    {
     "name": "stderr",
     "output_type": "stream",
     "text": [
      "C:\\Users\\felix.oechslein\\Anaconda3\\lib\\site-packages\\pandas\\core\\arraylike.py:397: RuntimeWarning: divide by zero encountered in log\n",
      "  result = getattr(ufunc, method)(*inputs, **kwargs)\n",
      "C:\\Users\\felix.oechslein\\Anaconda3\\lib\\site-packages\\pandas\\core\\arraylike.py:397: RuntimeWarning: divide by zero encountered in log\n",
      "  result = getattr(ufunc, method)(*inputs, **kwargs)\n"
     ]
    },
    {
     "name": "stdout",
     "output_type": "stream",
     "text": [
      "[ 0.00000000e+00 -1.08065873e+01  1.86319601e+01  0.00000000e+00\n",
      " -2.46579307e+01  7.23046373e-01  0.00000000e+00 -3.62911892e+00\n",
      "  1.70149354e+01  0.00000000e+00  1.22702980e+00 -2.31363378e+00\n",
      "  0.00000000e+00  1.03831097e+00  3.98501866e+00  0.00000000e+00\n",
      " -1.03933137e+00 -8.77566481e-01  0.00000000e+00  1.76273515e+00\n",
      " -7.10962468e-01  0.00000000e+00 -8.89512765e+00 -4.63643365e-01\n",
      "  0.00000000e+00  4.95599353e+00 -9.10157573e-01  0.00000000e+00\n",
      "  3.03642274e+00 -5.63131592e+00  0.00000000e+00  4.61318628e-01\n",
      "  1.15359884e+01  0.00000000e+00 -1.57901445e-01  2.92499573e+00\n",
      "  0.00000000e+00 -1.14498657e+00  2.40136701e+00  0.00000000e+00\n",
      "  9.19527616e-01  2.09920057e+01  0.00000000e+00 -9.65897727e-02\n",
      " -7.85542900e-01  1.09629299e-01  3.29483116e+01  1.57798185e-01\n",
      " -6.12830973e-01  2.22484973e+00 -1.07644136e+01  6.86142125e-03\n",
      "  0.00000000e+00 -1.18898698e+00 -2.74512446e-01  2.20371399e+00\n",
      " -2.17264903e+01  8.45242511e-01 -1.45726730e-01  1.31132997e+01\n",
      "  2.68518247e-01  8.92791031e-02 -2.06771370e+00 -1.52907385e-01\n",
      "  1.14177604e+00]\n"
     ]
    }
   ],
   "source": [
    "options = {'maxiter': 100} \n",
    "# Rufen Sie minimize() auf und übergeben Sie die zusätzlichen Parameter mit args=\n",
    "result = minimize(likelihood_function, x0, options=options)\n",
    "                  #constraints=linear_constraint, method = \"Powell\")\n",
    "                  #args=(alpha, gamma, alpha_o, beta_o, delta_0, delta_1, alpha_p, beta_p_1, beta_p_2, r, theta), bounds=bounds)\n",
    "\n",
    "# Gib die geschätzten Parameter aus\n",
    "print(result.x)"
   ]
  },
  {
   "cell_type": "code",
   "execution_count": 32,
   "id": "4b0604b9",
   "metadata": {},
   "outputs": [
    {
     "name": "stderr",
     "output_type": "stream",
     "text": [
      "C:\\Users\\felix.oechslein\\Anaconda3\\lib\\site-packages\\pandas\\core\\arraylike.py:397: RuntimeWarning: divide by zero encountered in log\n",
      "  result = getattr(ufunc, method)(*inputs, **kwargs)\n"
     ]
    },
    {
     "name": "stdout",
     "output_type": "stream",
     "text": [
      "Likelihood für optimale Parameter:\n",
      "17828.46196369611\n"
     ]
    }
   ],
   "source": [
    "# Berechne die Likelihood für die optimalen Parameter\n",
    "likelihood = likelihood_function(result.x)\n",
    "print(\"Likelihood für optimale Parameter:\")\n",
    "print(likelihood)"
   ]
  },
  {
   "cell_type": "code",
   "execution_count": 33,
   "id": "cb21a0e4",
   "metadata": {},
   "outputs": [
    {
     "name": "stdout",
     "output_type": "stream",
     "text": [
      "False\n"
     ]
    }
   ],
   "source": [
    "print(result.success)"
   ]
  },
  {
   "cell_type": "code",
   "execution_count": 41,
   "id": "d87b2db8",
   "metadata": {},
   "outputs": [
    {
     "data": {
      "text/plain": [
       "      fun: 17828.46196369611\n",
       " hess_inv: array([[ 1.00000000e+00,  0.00000000e+00,  0.00000000e+00, ...,\n",
       "         0.00000000e+00,  0.00000000e+00,  0.00000000e+00],\n",
       "       [ 0.00000000e+00,  1.64944836e+01, -3.44963671e+01, ...,\n",
       "         8.00987824e+00, -7.72627689e-03,  4.21449004e-01],\n",
       "       [ 0.00000000e+00, -3.44963671e+01,  7.65481790e+01, ...,\n",
       "        -1.77049096e+01,  2.23918421e-02, -9.32269990e-01],\n",
       "       ...,\n",
       "       [ 0.00000000e+00,  8.00987824e+00, -1.77049096e+01, ...,\n",
       "         4.30627383e+00, -5.68680778e-03,  2.15974958e-01],\n",
       "       [ 0.00000000e+00, -7.72627689e-03,  2.23918421e-02, ...,\n",
       "        -5.68680778e-03,  4.16338150e-04, -1.95705557e-04],\n",
       "       [ 0.00000000e+00,  4.21449004e-01, -9.32269990e-01, ...,\n",
       "         2.15974958e-01, -1.95705557e-04,  1.14849637e-02]])\n",
       "      jac: array([ 0.        ,  0.        , -0.00024414,  0.        ,  0.        ,\n",
       "        0.        ,  0.        ,  0.        , -0.00024414,  0.        ,\n",
       "        0.        , -0.00024414,  0.        ,  0.        ,  0.        ,\n",
       "        0.        ,  0.        , -0.00024414,  0.        ,  0.        ,\n",
       "       -0.00024414,  0.        ,  0.        ,  0.        ,  0.        ,\n",
       "        0.        , -0.00024414,  0.        ,  0.        , -0.00048828,\n",
       "        0.        ,  0.        ,  0.        ,  0.        ,  0.        ,\n",
       "       -0.00024414,  0.        ,  0.        , -0.00073242,  0.        ,\n",
       "        0.        ,  0.        ,  0.        ,  0.00024414, -0.00073242,\n",
       "       -0.06738281,  0.        ,  0.01879883,  0.13110352,  0.03808594,\n",
       "        0.        ,  0.19165039,  0.        ,  0.        ,  0.12280273,\n",
       "        0.00097656,  0.        ,  0.14599609, -0.05029297,  0.        ,\n",
       "        0.10327148, -0.03100586,  0.        , -0.03320312,  0.07055664])\n",
       "  message: 'Desired error not necessarily achieved due to precision loss.'\n",
       "     nfev: 9516\n",
       "      nit: 51\n",
       "     njev: 144\n",
       "   status: 2\n",
       "  success: False\n",
       "        x: array([ 0.00000000e+00, -1.08065873e+01,  1.86319601e+01,  0.00000000e+00,\n",
       "       -2.46579307e+01,  7.23046373e-01,  0.00000000e+00, -3.62911892e+00,\n",
       "        1.70149354e+01,  0.00000000e+00,  1.22702980e+00, -2.31363378e+00,\n",
       "        0.00000000e+00,  1.03831097e+00,  3.98501866e+00,  0.00000000e+00,\n",
       "       -1.03933137e+00, -8.77566481e-01,  0.00000000e+00,  1.76273515e+00,\n",
       "       -7.10962468e-01,  0.00000000e+00, -8.89512765e+00, -4.63643365e-01,\n",
       "        0.00000000e+00,  4.95599353e+00, -9.10157573e-01,  0.00000000e+00,\n",
       "        3.03642274e+00, -5.63131592e+00,  0.00000000e+00,  4.61318628e-01,\n",
       "        1.15359884e+01,  0.00000000e+00, -1.57901445e-01,  2.92499573e+00,\n",
       "        0.00000000e+00, -1.14498657e+00,  2.40136701e+00,  0.00000000e+00,\n",
       "        9.19527616e-01,  2.09920057e+01,  0.00000000e+00, -9.65897727e-02,\n",
       "       -7.85542900e-01,  1.09629299e-01,  3.29483116e+01,  1.57798185e-01,\n",
       "       -6.12830973e-01,  2.22484973e+00, -1.07644136e+01,  6.86142125e-03,\n",
       "        0.00000000e+00, -1.18898698e+00, -2.74512446e-01,  2.20371399e+00,\n",
       "       -2.17264903e+01,  8.45242511e-01, -1.45726730e-01,  1.31132997e+01,\n",
       "        2.68518247e-01,  8.92791031e-02, -2.06771370e+00, -1.52907385e-01,\n",
       "        1.14177604e+00])"
      ]
     },
     "execution_count": 41,
     "metadata": {},
     "output_type": "execute_result"
    }
   ],
   "source": [
    "result"
   ]
  },
  {
   "cell_type": "markdown",
   "id": "3539ce3f",
   "metadata": {},
   "source": [
    "# Ergebisse:"
   ]
  },
  {
   "cell_type": "code",
   "execution_count": 34,
   "id": "041f0093",
   "metadata": {},
   "outputs": [
    {
     "name": "stdout",
     "output_type": "stream",
     "text": [
      "array_lambda = np.exp(np.log(0.63*EM_monat) + alpha_o[state] + beta_o[0] * np.log(LO_monat))\n",
      "array_lambda = array_lambda / 1 + array_lambda\n",
      "array_exp = np.exp(alpha_p[state] + beta_p_1[state] * EM_monat + beta_p_2[state] * np.square(EM_monat))\n",
      "Likelihood für optimale Parameter: 17812\n"
     ]
    }
   ],
   "source": [
    "# Ausgangssituation\n",
    "print(\"array_lambda = np.exp(np.log(0.63*EM_monat) + alpha_o[state] + beta_o[0] * np.log(LO_monat))\")\n",
    "print(\"array_lambda = array_lambda / 1 + array_lambda\")\n",
    "print(\"array_exp = np.exp(alpha_p[state] + beta_p_1[state] * EM_monat + beta_p_2[state] * np.square(EM_monat))\")\n",
    "print(\"Likelihood für optimale Parameter: 17812\")"
   ]
  },
  {
   "cell_type": "code",
   "execution_count": 35,
   "id": "f0ed9508",
   "metadata": {},
   "outputs": [
    {
     "name": "stdout",
     "output_type": "stream",
     "text": [
      "array_lambda = np.exp(np.log(0.63*EM_monat) + alpha_o[state] + beta_o[0] * np.log(LO_monat))\n",
      "array_lambda = array_lambda\n",
      "array_exp = np.exp(alpha_p[state] + beta_p_1[state] * EM_monat + beta_p_2[state] * np.square(EM_monat))\n",
      "Likelihood für optimale Parameter: 17812\n"
     ]
    }
   ],
   "source": [
    "# Test ob array_lambda = array_lambda / 1 + array_lambda bessere oder schlechtere Ergebnisse liefert \n",
    "print(\"array_lambda = np.exp(np.log(0.63*EM_monat) + alpha_o[state] + beta_o[0] * np.log(LO_monat))\")\n",
    "print(\"array_lambda = array_lambda\")\n",
    "print(\"array_exp = np.exp(alpha_p[state] + beta_p_1[state] * EM_monat + beta_p_2[state] * np.square(EM_monat))\")\n",
    "print(\"Likelihood für optimale Parameter: 17812\")"
   ]
  },
  {
   "cell_type": "code",
   "execution_count": 36,
   "id": "0b67212b",
   "metadata": {},
   "outputs": [
    {
     "name": "stdout",
     "output_type": "stream",
     "text": [
      "array_lambda = np.exp(np.log(0.63*EM_monat) + alpha_o[state] + beta_o[0] * np.log(LO_monat))\n",
      "array_lambda = array_lambda\n",
      "array_exp = np.exp(alpha_p[state] + beta_p_1[state] * EM_monat)\n",
      "Likelihood für optimale Parameter: 17812\n"
     ]
    }
   ],
   "source": [
    "# Test kein quadratischer Einfluss des EM auf Käufe\n",
    "print(\"array_lambda = np.exp(np.log(0.63*EM_monat) + alpha_o[state] + beta_o[0] * np.log(LO_monat))\")\n",
    "print(\"array_lambda = array_lambda\")\n",
    "print(\"array_exp = np.exp(alpha_p[state] + beta_p_1[state] * EM_monat)\")\n",
    "print(\"Likelihood für optimale Parameter: 17812\")"
   ]
  },
  {
   "cell_type": "code",
   "execution_count": 37,
   "id": "102cbd23",
   "metadata": {},
   "outputs": [
    {
     "name": "stdout",
     "output_type": "stream",
     "text": [
      "array_lambda = np.exp(np.log(0.63*EM_monat) + alpha_o[state] + beta_o[0] * np.log(LO_monat))\n",
      "array_lambda = array_lambda\n",
      "array_exp = np.exp(alpha_p[state] + beta_p_1[state] * EM_monat + beta_p_2[state] * np.square(EM_monat))\n",
      "Likelihood für optimale Parameter: 17547\n"
     ]
    }
   ],
   "source": [
    "# Test, ob keine \"keine constraints\" zu besseren Ergebnissen führt\n",
    "print(\"array_lambda = np.exp(np.log(0.63*EM_monat) + alpha_o[state] + beta_o[0] * np.log(LO_monat))\")\n",
    "print(\"array_lambda = array_lambda\")\n",
    "print(\"array_exp = np.exp(alpha_p[state] + beta_p_1[state] * EM_monat + beta_p_2[state] * np.square(EM_monat))\")\n",
    "print(\"Likelihood für optimale Parameter: 17547\")"
   ]
  },
  {
   "cell_type": "code",
   "execution_count": 38,
   "id": "7a96578c",
   "metadata": {},
   "outputs": [
    {
     "name": "stdout",
     "output_type": "stream",
     "text": [
      "minimize-Funktion: Nelder Mead\n",
      "array_lambda = np.exp(np.log(0.63*EM_monat) + alpha_o[state] + beta_o[0] * np.log(LO_monat))\n",
      "array_lambda = array_lambda\n",
      "array_exp = np.exp(alpha_p[state] + beta_p_1[state] * EM_monat + beta_p_2[state] * np.square(EM_monat))\n",
      "Likelihood für optimale Parameter: 17873\n"
     ]
    }
   ],
   "source": [
    "# Test, ob verschiedene minimize Fuktion zu besseren Ergebnissen führt\n",
    "print(\"minimize-Funktion: Nelder Mead\")\n",
    "print(\"array_lambda = np.exp(np.log(0.63*EM_monat) + alpha_o[state] + beta_o[0] * np.log(LO_monat))\")\n",
    "print(\"array_lambda = array_lambda\")\n",
    "print(\"array_exp = np.exp(alpha_p[state] + beta_p_1[state] * EM_monat + beta_p_2[state] * np.square(EM_monat))\")\n",
    "print(\"Likelihood für optimale Parameter: 17873\")"
   ]
  },
  {
   "cell_type": "markdown",
   "id": "2bf91fc5",
   "metadata": {},
   "source": [
    "### Minimize method test"
   ]
  },
  {
   "cell_type": "code",
   "execution_count": 39,
   "id": "655cecc3",
   "metadata": {},
   "outputs": [
    {
     "name": "stdout",
     "output_type": "stream",
     "text": [
      "minimize-Funktion: Powell\n",
      "schlechter\n",
      "minimize-Funktion: CG\n",
      "schlechter\n",
      "minimize-Funktion: BFGS\n",
      "gleichbleibend\n",
      "minimize-Funktion: Newton-CG\n",
      "schlechter\n",
      "minimize-Funktion: L-BFGS-B:\n",
      "gleichbleibend\n",
      "minimize-Funktion: TNC:\n",
      "viel shlechter: 23955\n",
      "minimize-Funktion: COBYLA:\n",
      "schlechter: 19172\n",
      "minimize-Funktion: SLSQP:\n",
      "gleichbleibend: 17815\n"
     ]
    }
   ],
   "source": [
    "print(\"minimize-Funktion: Powell\")\n",
    "print(\"schlechter\")\n",
    "print(\"minimize-Funktion: CG\")\n",
    "print(\"schlechter\")\n",
    "print(\"minimize-Funktion: BFGS\")\n",
    "print(\"gleichbleibend\")\n",
    "print(\"minimize-Funktion: Newton-CG\")\n",
    "print(\"schlechter\")\n",
    "print(\"minimize-Funktion: L-BFGS-B:\")\n",
    "print(\"gleichbleibend\")\n",
    "print(\"minimize-Funktion: TNC:\")\n",
    "print(\"viel shlechter: 23955\")\n",
    "print(\"minimize-Funktion: COBYLA:\")\n",
    "print(\"schlechter: 19172\")\n",
    "print(\"minimize-Funktion: SLSQP:\")\n",
    "print(\"gleichbleibend: 17815\")"
   ]
  },
  {
   "cell_type": "markdown",
   "id": "1fddb23d",
   "metadata": {},
   "source": [
    "### Aktueller Test"
   ]
  },
  {
   "cell_type": "code",
   "execution_count": 40,
   "id": "b7e4440b",
   "metadata": {},
   "outputs": [
    {
     "name": "stdout",
     "output_type": "stream",
     "text": [
      "minimize-Funktion: trust-constr:\n",
      "17828.46196369611\n"
     ]
    }
   ],
   "source": [
    "# Test, ob verschiedene minimize Fuktion zu besseren Ergebnissen führt\n",
    "print(\"minimize-Funktion: trust-constr:\")\n",
    "print(likelihood)"
   ]
  },
  {
   "cell_type": "markdown",
   "id": "633b62fd",
   "metadata": {},
   "source": [
    "# Code Graveyard"
   ]
  },
  {
   "cell_type": "markdown",
   "id": "9c1ad14f",
   "metadata": {},
   "source": [
    "Vorherige Definition der Verteilungsfunktion von O_it über Schleifen"
   ]
  },
  {
   "cell_type": "markdown",
   "id": "b18d0a3c",
   "metadata": {},
   "source": [
    "##### Definition der Erfolgswahrscheinlichkeit p_it als 1 x anzhal_states array \n",
    "def p_alt(iid, t, alpha_o, beta_o):\n",
    "    LO_iddt = df_LO.loc[df_LO['iid'] == iid, t].values[0]\n",
    "    p = exp(alpha_o + beta_o * np.log(LO_iddt)) / (1 + exp(alpha + beta * log(LO_iddt)))\n",
    "    return p\n",
    "\n",
    "#Wahrscheinlichkeiten werden in Array von Arrays zurückgegeben\n",
    "def F_O_iidt_alt(alpha_o, beta_o):\n",
    "    # P_O_iidt_speicher als Zwischenspeicher\n",
    "    P_O_iidt_speicher_gesamt = []\n",
    "    \n",
    "    for iid in trans[\"iid\"]:\n",
    "        # P_O_iidt_speicher als Zwischenspeicher für jede iid\n",
    "        P_O_iidt_speicher_jede_iid = []\n",
    "        \n",
    "        for t in range(1, 16):\n",
    "            # Defintion der Erfolgswahrscheinlichkeit p_it mit alpha_o_gegeben_s und beta_o als Paramater\n",
    "            # erfolgs_p = p(iid, t, alpha_o, beta_o)\n",
    "            \n",
    "            # EM_iidt:Anzahl dversendeter Mails in Monat t an Kunde mit iid\n",
    "            EM_iidt = df_HY.loc[df_HY['iid'] == iid, t].values[0]\n",
    "            \n",
    "            # o_iidt: Anzahl geöffneter Mails von Kunde iid in Monat t\n",
    "            o_iidt = df_NO.loc[df_NO['iid'] == iid, t].values[0]\n",
    "            \n",
    "            # Wahrscheinlichkeiten der Binomialverteilung für jeden Zustand\n",
    "            P_O_it = binom.cdf(o_iidt, EM_iidt, p(iid, t, alpha_o, beta_o))\n",
    "        \n",
    "            # Speichern der Wahrscheinlichkeiten im Zwischenspeicher\n",
    "            P_O_iidt_speicher_jede_iid = P_O_iidt_speicher_jede_iid.extend(P_O_it)\n",
    "\n",
    "        # In einer neuen Zeile für jede iid in dem Zwischenspeicher abspeichern\n",
    "        P_O_iidt_speicher_gesamt = np.vstack([P_O_iidt_speicher_gesamt, P_O_iidt_speicher])\n",
    "        \n",
    "    return P_O_iidt_speicher_gesamt\n",
    "\n",
    "\n",
    "##### Tests mit Diagonalmatrizen\n",
    "            # Erstellen des Namens der Diagonalmatrix\n",
    "            # name = f\"diagonal_matrix_PO_{iid}_{t}\"\n",
    "        \n",
    "            # Erstellen der Diagonalmatrix mit den Wahrscheinlichkeiten und dem Namen\n",
    "            # diagonal_matrix = np.diag(probabilities)\n",
    "            # diagonal_matrix.name = name"
   ]
  },
  {
   "cell_type": "code",
   "execution_count": null,
   "id": "ae328397",
   "metadata": {},
   "outputs": [],
   "source": []
  },
  {
   "cell_type": "markdown",
   "id": "7e376845",
   "metadata": {},
   "source": [
    "# Code wo veruscht wurde die arrays mit namen zu identifizieren"
   ]
  },
  {
   "cell_type": "markdown",
   "id": "73e50168",
   "metadata": {},
   "source": [
    "#### Definition der Erfolgswahrscheinlichkeit p_t als 1 x anzhal_kunden array \n",
    "def Q_v_state_t_minusEins_state_t_monat(alpha, gamma, state_t_minusEins, state_t, monat):\n",
    "    \n",
    "    state_t_minusEins = state_t_minusEins -1\n",
    "    state_t = state_t -1\n",
    "    str_monat = str(monat)\n",
    "    \n",
    "    # Definition der X_t_minusEins\n",
    "    # verwendete Parameter\n",
    "    EM_monat_minusEins = df_HY[str_monat]\n",
    "    Y_monat_minusEins = df_trans_werte[str_monat]\n",
    "    O_monat_minusEins = df_NO[str_monat]\n",
    "    # Definition\n",
    "    X_t_minusEins = [int(O_monat_minusEins > 0), int(Y_monat_minusEins > 0),\\\n",
    "                     EM_monat_minusEins, np.square(EM_monat_minusEins)]\n",
    "    \n",
    "    array_v = alpha[12*state_t_minusEins + 4*state + state] + gamma[12*state_t_minusEins + 4*state + state] * X_t_minusEins\n",
    "\n",
    "    return array_v\n",
    "\n",
    "##### Definition der Transitionmatrix\n",
    "def probability_Q_state_monat(alpha, gamma):\n",
    "    \n",
    "    ### Erstellung leerer anzahl_states x anzahl_states arrays für jeden Kunden und jeden Monat\n",
    "    Q = []\n",
    "    for iid in df_trans_werte[\"iid\"]:\n",
    "        for monat in range(2,16):\n",
    "                empty_array = np.zeros((anzahl_states, anzahl_states))\n",
    "                Q.append(empty_array)\n",
    "                \n",
    "                #name = f\"matrix_Q_{iid}_{monat}\"\n",
    "                #empty_array.name = name\n",
    "                \n",
    "    for monat in range(2,16):\n",
    "        \n",
    "        for state_t_minusEins in range(1, anzahl_states +1):\n",
    "            \n",
    "            # Erste Spalte besteht aus Nullen, da eine Trasition zurück in state 1 nicht möglich ist\n",
    "            for state in range(2, anzahl_states +1):\n",
    "                \n",
    "                q_array_iid_monat_state = Q_v_state_t_minusEins_state_t_monat(alpha, gamma, state_t_minusEins, state_t, monat)\n",
    "                #name = f\"Q_{iid}_{monat}\"\n",
    "\n",
    "                # Überführen zu df und Hinzufügen einer iid Spalte zur Identifikation\n",
    "                q_array_iid_monat_state = pd.DataFrame(q_array_iid_monat_state)\n",
    "                q_array_iid_monat_state[\"iid\"] = df_trans_werte[\"iid\"]\n",
    "\n",
    "                # Speicherung der Werte in den leeren arrays\n",
    "                for index in q_array_iid_monat_state:\n",
    "                    #name = f\"matrix_Q_{iid}_{monat}\"\n",
    "                    #array_iid_monat = Q[name]\n",
    "                    \n",
    "                    #Neue Definition ohne die Verwedung von Namen\n",
    "                    Q[index][state_t_minusEins-1, state-1] =\\\n",
    "                                    q_array_iid_monat_state[index]\n",
    "                   \n",
    "                    #array_iid_monat[state_t_minusEins-1, state-1] =\\\n",
    "                                    #q_array_iid_monat_state[q_array_iid_monat_state[\"iid\"] == \"iid\"]\n",
    "    \n",
    "    return Q"
   ]
  },
  {
   "cell_type": "markdown",
   "id": "3224fdde",
   "metadata": {},
   "source": [
    "#### alpha_o, delta_0, delta_1, alpha_p, beta_p_1, beta_p_2 sind state dependent\n",
    "#### beta_o, r sind state independent\n",
    "def likelihood_function(alpha, gamma, alpha_o, beta_o, delta_0, delta_1,\\\n",
    "                        alpha_p, beta_p_1, beta_p_2, r, theta):\n",
    "    \n",
    "    ### Erstellung einer Liste H die alle H_it enthalten\n",
    "    H = []\n",
    "    \n",
    "    ### Erstellung leerer 1xanzahl_states arrays für jeden Kunden und jeden Monat\n",
    "    for iid in df_trans_werte[\"iid\"]:\n",
    "        for monat in range(1,16):\n",
    "                empty_array = np.zeros((1, anzahl_states))\n",
    "                H.append(empty_array)\n",
    "                \n",
    "                name = f\"diagonal_matrix_H_{iid}_{monat}\"\n",
    "                empty_array.name = name\n",
    "                \n",
    "    for monat in range(1,16):\n",
    "        for state in range(1, anzahl_states +1):\n",
    "            \n",
    "            # Berechnung von arrays für die Verteilungsfunktionen\n",
    "            F_O_state_monat_berechnung = F_O_state_monat(alpha_o, beta_o, state, monat)\n",
    "            \n",
    "            F_O_state_monat_berechnung_minusEins = F_O_state_monat_minusEins(alpha_o, beta_o, state, monat)\n",
    "            \n",
    "            F_Y_state_monat_berechnung =\\\n",
    "                            F_Y_state_monat(delta_0, delta_1, alpha_p, beta_p_1, beta_p_2, state, monat, r)\n",
    "            \n",
    "            F_Y_state_monat_berechnung_minusEins =\\\n",
    "                            F_Y_state_monat_minusEins(delta_0, delta_1, alpha_p, beta_p_1, beta_p_2, state, monat, r)\n",
    "            \n",
    "            # Berechnung der gemeinsamen Verteilungen\n",
    "            H_state_monat_berechnung =\\\n",
    "                            Frank_Copula(F_O_state_monat_berechnung, F_Y_state_monat_berechnung, theta) -\\\n",
    "                            Frank_Copula(F_O_state_monat_berechnung_minusEins, F_Y_state_monat_berechnung, theta) -\\\n",
    "                            Frank_Copula(F_O_state_monat_berechnung, F_Y_state_monat_berechnung_minusEins, theta) +\\\n",
    "                            Frank_Copula(F_O_state_monat_berechnung_minusEins, F_Y_state_monat_berechnung_minusEins, theta)\n",
    "            \n",
    "            # Überführen zu df und Hinzufügen einer iid Spalte zur Identifikation\n",
    "            H_state_monat_berechnung = pd.DataFrame(H_state_monat_berechnung)\n",
    "            H_state_monat_berechnung[\"iid\"] = df_trans_werte[\"iid\"]\n",
    "            \n",
    "            # Speicherung der Werte in den leeren arrays\n",
    "            for iid in H_state_monat_berechnung[\"iid\"]:\n",
    "                name = f\"diagonal_matrix_H_{iid}_{monat}\"\n",
    "                H[name][state-1] = H_state_monat_berechnung[H_state_monat_berechnung[\"iid\"] == \"iid\"]\n",
    "                \n",
    "    # Überführen der Arrays in H in Diagonalmatrizen\n",
    "    for array in H:\n",
    "        H[array] = np.diag(H[array])\n",
    "        \n",
    "    # Berechnung der Likelihood Function\n",
    "    likelihood = 1\n",
    "    \n",
    "    # Startverteilung ist (1, 0,..., 0)\n",
    "    startverteilung = np.zeros((1, anzahl_states))\n",
    "    startverteilung[0, 0] = 1\n",
    "    \n",
    "    # Transitionmatrix Q\n",
    "    Q = probability_Q_state_monat(alpha, gamma)\n",
    "    \n",
    "    Q_iid_prod = []\n",
    "    for iid in df_trans_werte[\"iid\"]:\n",
    "        Q_iid = np.dot(startverteilung, H[f\"diagonal_matrix_H_{iid}_1\"])\n",
    "\n",
    "        for monat in range(2,16):\n",
    "            name = f\"diagonal_matrix_H_{iid}_{monat}\"\n",
    "            name_Q = f\"matrix_Q_{iid}_{monat}\"\n",
    "            H_iid_monat = np.dot(H[name], Q[name_Q])\n",
    "            H_iid = np.dot(H_iid, H_iid_monat)\n",
    "            \n",
    "        Q_iid_prod.append(np.dot(Q_iid, H_iid))\n",
    "        \n",
    "    return np.prod(Q_iid_prod)"
   ]
  },
  {
   "cell_type": "markdown",
   "id": "8f1dfe91",
   "metadata": {},
   "source": [
    "# ZINBD Verteilungsfunktion mit Model modelliert"
   ]
  },
  {
   "cell_type": "markdown",
   "id": "d11a5b26",
   "metadata": {},
   "source": [
    "#### Definition der Wahrscheinlichkeit des Eintretens eines Erfolges im Einzelversuch phi als anzahl_iids x T df\n",
    "def phi_state_monat(delta_0, delta_1, state, monat):\n",
    "    \n",
    "    state = state -1\n",
    "    \n",
    "    # Definitio von str_monat um auf den spaltennamen zugreifen zu können\n",
    "    str_monat = str(monat)\n",
    "    \n",
    "    LY_monat = df_LY[str_monat]\n",
    "    array_phi = 1 / (1 + np.exp(delta_0[state] + delta_1[state] * np.log(LY_monat)))\n",
    "    \n",
    "    return array_phi\n",
    "\n",
    "#### Definition der lambdaY als anzahl_iids x 1 array für monat und state\n",
    "def lambdaY_state_monat(alpha_p, beta_p_1, beta_p_2, state, monat):\n",
    "    \n",
    "    state = state -1\n",
    "    \n",
    "    # Definitio von str_monat um auf den spaltennamen zugreifen zu können\n",
    "    str_monat = str(monat)\n",
    "    EM_monat = df_HY[str_monat]\n",
    "    \n",
    "    array_lambdaY = np.exp(alpha_p[state] + beta_p_1[state] * EM_monat + beta_p_2[state] * np.square(EM_monat))\n",
    "    \n",
    "    return array_lambdaY\n",
    "\n",
    "#### Array der Verteilungsfunktion der Käufe Y für Monat und state\n",
    "def F_Y_state_monat(delta_0, delta_1, alpha_p, beta_p_1, beta_p_2, state, monat, r):\n",
    "    \n",
    "    # Definitio von str_monat um auf den spaltennamen zugreifen zu können\n",
    "    str_monat = str(monat)\n",
    "    \n",
    "    # Erstellen Sie ein Zero-Inflated Negative Binomial Modell\n",
    "    zinb_model = ZeroInflatedNegativeBinomialP(endog=None, exog=None, exposure=None, offset=None, missing='none')\n",
    "\n",
    "    # Setzen Sie die offenen Parameter als Modellparameter\n",
    "    zinb_model.update({'params': [1- phi_state_monat(delta_0, delta_1, state, monat),\\\n",
    "                                  lambdaY_state_monat(alpha_p, beta_p_1, beta_p_2, state, monat),\\\n",
    "                                  r]})\n",
    "    \n",
    "    # y_iid ist das DataFrame mit der Anzahl an Käufen\n",
    "    y_monat = df_trans_werte[str_monat]\n",
    "    \n",
    "    # Verteilungsfunktion der ZINBD für jeden Zustand state\n",
    "    F_Y_it = zinb_model.cdf(y_monat)\n",
    "       \n",
    "    return F_Y_it\n",
    "\n",
    "#### Array der Verteilungsfunktion der Käufe Y-1 für Monat und state\n",
    "def F_Y_state_monat_minusEins(delta_0, delta_1, alpha_p, beta_p_1, beta_p_2, state, monat, r):\n",
    "    \n",
    "    # Berechnung der Werte minus Eins für spätere Berechnung der gemeinsamen Verteilung via Frank-Copula\n",
    "    df_trans_werte_minusEins = df_trans_werte.loc[:, df_NO_werte.columns != 'iid'] -1\n",
    "    \n",
    "    # Definitio von str_monat um auf den spaltennamen zugreifen zu können\n",
    "    str_monat = str(monat)\n",
    "    \n",
    "    # Erstellen Sie ein Zero-Inflated Negative Binomial Modell\n",
    "    zinb_model = ZeroInflatedNegativeBinomialP(endog=None, exog=None, exposure=None, offset=None, missing='none')\n",
    "\n",
    "    # Setzen Sie die offenen Parameter als Modellparameter\n",
    "    zinb_model.update({'params': [1- phi_state_monat(delta_0, delta_1, state, monat),\\\n",
    "                                  lambdaY_state_monat(alpha_p, beta_p_1, beta_p_2, state, monat),\\\n",
    "                                  r]})\n",
    "    \n",
    "    # y_iid ist das DataFrame mit der Anzahl an Käufen\n",
    "    y_monat = df_trans_werte_minusEins[str_monat]\n",
    "    \n",
    "    # Verteilungsfunktion der ZINBD für jeden Zustand state\n",
    "    F_Y_it = zinb_model.cdf(y_monat)\n",
    "       \n",
    "    return F_Y_it"
   ]
  },
  {
   "cell_type": "markdown",
   "id": "e632841e",
   "metadata": {},
   "source": [
    "# CEOM als BD"
   ]
  },
  {
   "cell_type": "markdown",
   "id": "dc2468e1",
   "metadata": {},
   "source": [
    "#### Definition der Erfolgswahrscheinlichkeit p_t als 1 x anzhal_kunden array \n",
    "def probability_O_state_monat(alpha_o, beta_o, state, monat):\n",
    "    \n",
    "    state = state -1\n",
    "    \n",
    "    # Definitio von str_monat um auf den spaltennamen zugreifen zu können\n",
    "    str_monat = str(monat)\n",
    "    \n",
    "    # Erhalten der Werte für die Verarbeitung in der Formel\n",
    "    LO_monat = df_LO[str_monat]\n",
    "    array_p = np.exp(alpha_o[state] + beta_o[0] * np.log(LO_monat)) / (1 + np.exp(alpha_o[state] + beta_o[0] * np.log(LO_monat)))\n",
    "\n",
    "    return array_p\n",
    "\n",
    "#### Array der Verteilungsfunktion der Öffungen O für Monat und state\n",
    "def F_O_state_monat(alpha_o, beta_o, state, monat):\n",
    "    \n",
    "    # Definitio von str_monat um auf den spaltennamen zugreifen zu können\n",
    "    str_monat = str(monat)\n",
    "    \n",
    "    # o_iidt: Anzahl geöffneter Mails in Monat t von allen Kunden\n",
    "    o_monat = df_NO_werte[str_monat]\n",
    "    \n",
    "    # EM_iidt:Anzahl dversendeter Mails in Monat t an Kunde mit iid\n",
    "    EM_monat = df_HY[str_monat]\n",
    "    \n",
    "    probs = probability_O_state_monat(alpha_o, beta_o, state, monat)\n",
    "    array_F_O_berechnung = binom.cdf(o_monat, EM_monat, probs)\n",
    "         \n",
    "    return array_F_O_berechnung\n",
    "\n",
    "#### Array der Verteilungsfunktion der Öffungen O -1 für Monat und state\n",
    "def F_O_state_monat_minusEins(alpha_o, beta_o, state, monat):\n",
    "    \n",
    "    # Definitio von str_monat um auf den spaltennamen zugreifen zu können\n",
    "    str_monat = str(monat)\n",
    "    \n",
    "    # o_iidt: Anzahl geöffneter Mails in Monat t von allen Kunden\n",
    "    o_monat = df_NO_minusEins[str_monat]\n",
    "    \n",
    "    # EM_iidt:Anzahl dversendeter Mails in Monat t an Kunde mit iid\n",
    "    EM_monat = df_HY[str_monat]\n",
    "    \n",
    "    probs = probability_O_state_monat(alpha_o, beta_o, state, monat)\n",
    "    array_F_O_berechnung = binom.cdf(o_monat, EM_monat, probs)\n",
    "\n",
    "    return array_F_O_berechnung"
   ]
  },
  {
   "cell_type": "markdown",
   "id": "01dec94b",
   "metadata": {},
   "source": [
    "#### Umständliche Defiitio Matrixmultiplikation\n",
    "    Q_iid_prod = np.array([1])\n",
    "    for j in range(len(df_trans_werte)):\n",
    "        Q_iid = np.dot(startverteilung, H[15 * j])\n",
    "        H_iid = np.eye(anzahl_states)\n",
    "        for monat in range(2,16):\n",
    "            H_iid_monat = np.dot(H[j * 15 + (monat-1)], Q[j * 14 + (monat-2)])\n",
    "            H_iid = np.dot(H_iid, H_iid_monat)\n",
    "            \n",
    "        Q_iid_prod.append(np.dot(Q_iid, H_iid))"
   ]
  },
  {
   "cell_type": "code",
   "execution_count": null,
   "id": "248a548f",
   "metadata": {},
   "outputs": [],
   "source": []
  }
 ],
 "metadata": {
  "kernelspec": {
   "display_name": "Python 3 (ipykernel)",
   "language": "python",
   "name": "python3"
  },
  "language_info": {
   "codemirror_mode": {
    "name": "ipython",
    "version": 3
   },
   "file_extension": ".py",
   "mimetype": "text/x-python",
   "name": "python",
   "nbconvert_exporter": "python",
   "pygments_lexer": "ipython3",
   "version": "3.9.13"
  }
 },
 "nbformat": 4,
 "nbformat_minor": 5
}
