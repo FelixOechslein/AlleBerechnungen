{
 "cells": [
  {
   "cell_type": "code",
   "execution_count": 1,
   "id": "c2f8ae06",
   "metadata": {},
   "outputs": [],
   "source": [
    "import pandas as pd\n",
    "import numpy\n",
    "import matplotlib.pyplot as plt\n",
    "import scipy.stats as stats\n",
    "import math\n",
    "import seaborn as sns\n",
    "from datetime import datetime, timedelta\n",
    "from scipy.stats import pearsonr\n",
    "from scipy.stats import kendalltau\n",
    "from scipy.stats import spearmanr"
   ]
  },
  {
   "cell_type": "code",
   "execution_count": 2,
   "id": "d58f5fe4",
   "metadata": {},
   "outputs": [
    {
     "name": "stderr",
     "output_type": "stream",
     "text": [
      "C:\\Users\\felix.oechslein\\AppData\\Local\\Temp\\ipykernel_8528\\3453601399.py:1: DtypeWarning: Columns (13,15,16,18) have mixed types. Specify dtype option on import or set low_memory=False.\n",
      "  df_transactions_wofirstname = pd.read_csv(\"C:/Users/felix.oechslein/Desktop/Daten, 13.12.22/Rohdaten/\" +\n"
     ]
    }
   ],
   "source": [
    "df_transactions_wofirstname = pd.read_csv(\"C:/Users/felix.oechslein/Desktop/Daten, 13.12.22/Rohdaten/\" +\n",
    "                                    \"ELPHI_transactions_ohne_vorname.csv\")\n",
    "\n",
    "df_history_wofirstname = pd.read_csv(\"C:/Users/felix.oechslein/Desktop/Daten, 13.12.22/Rohdaten/\" +\n",
    "                                    \"ELPHI_history_ohne_vorname.csv\")"
   ]
  },
  {
   "cell_type": "code",
   "execution_count": 3,
   "id": "34e72b64",
   "metadata": {},
   "outputs": [],
   "source": [
    "df_privatkunden_iids = pd.read_csv(\"C:/Users/felix.oechslein/Desktop/Daten, 13.12.22/\" +\n",
    "                                    \"privatkunden.iid.ELPHI.csv\", index_col = [0])"
   ]
  },
  {
   "cell_type": "markdown",
   "id": "7a4c4551",
   "metadata": {},
   "source": [
    "# 1. Daten bereinigen"
   ]
  },
  {
   "cell_type": "markdown",
   "id": "77696e1e",
   "metadata": {},
   "source": [
    "#### 1.1 Transaktions-Daten bereinigen"
   ]
  },
  {
   "cell_type": "code",
   "execution_count": 4,
   "id": "398384d3",
   "metadata": {},
   "outputs": [
    {
     "name": "stderr",
     "output_type": "stream",
     "text": [
      "C:\\Users\\felix.oechslein\\AppData\\Local\\Temp\\ipykernel_8528\\687719975.py:2: SettingWithCopyWarning: \n",
      "A value is trying to be set on a copy of a slice from a DataFrame.\n",
      "Try using .loc[row_indexer,col_indexer] = value instead\n",
      "\n",
      "See the caveats in the documentation: https://pandas.pydata.org/pandas-docs/stable/user_guide/indexing.html#returning-a-view-versus-a-copy\n",
      "  df_t_bereinigt[\"pricetotal\"] = pd.to_numeric(df_t_bereinigt[\"pricetotal\"], errors = \"coerce\")\n"
     ]
    },
    {
     "data": {
      "text/html": [
       "<div>\n",
       "<style scoped>\n",
       "    .dataframe tbody tr th:only-of-type {\n",
       "        vertical-align: middle;\n",
       "    }\n",
       "\n",
       "    .dataframe tbody tr th {\n",
       "        vertical-align: top;\n",
       "    }\n",
       "\n",
       "    .dataframe thead th {\n",
       "        text-align: right;\n",
       "    }\n",
       "</style>\n",
       "<table border=\"1\" class=\"dataframe\">\n",
       "  <thead>\n",
       "    <tr style=\"text-align: right;\">\n",
       "      <th></th>\n",
       "      <th>iid</th>\n",
       "      <th>key</th>\n",
       "      <th>attrtype</th>\n",
       "      <th>status</th>\n",
       "      <th>pricetotal</th>\n",
       "      <th>createdprovider</th>\n",
       "    </tr>\n",
       "  </thead>\n",
       "  <tbody>\n",
       "    <tr>\n",
       "      <th>2</th>\n",
       "      <td>278172159</td>\n",
       "      <td>JET_1_a1516015</td>\n",
       "      <td>TI</td>\n",
       "      <td>Order</td>\n",
       "      <td>48.0</td>\n",
       "      <td>20221011174600</td>\n",
       "    </tr>\n",
       "    <tr>\n",
       "      <th>3</th>\n",
       "      <td>278172159</td>\n",
       "      <td>JET_1_a1516015</td>\n",
       "      <td>TI</td>\n",
       "      <td>Order</td>\n",
       "      <td>48.0</td>\n",
       "      <td>20221011174600</td>\n",
       "    </tr>\n",
       "    <tr>\n",
       "      <th>6</th>\n",
       "      <td>164989410</td>\n",
       "      <td>JET_1_a1511645</td>\n",
       "      <td>TI</td>\n",
       "      <td>Order</td>\n",
       "      <td>18.0</td>\n",
       "      <td>20221004092200</td>\n",
       "    </tr>\n",
       "    <tr>\n",
       "      <th>9</th>\n",
       "      <td>187970535</td>\n",
       "      <td>JET_1_a1516031</td>\n",
       "      <td>TI</td>\n",
       "      <td>Order</td>\n",
       "      <td>5.0</td>\n",
       "      <td>20221011180300</td>\n",
       "    </tr>\n",
       "    <tr>\n",
       "      <th>14</th>\n",
       "      <td>180392654</td>\n",
       "      <td>WS-1342745</td>\n",
       "      <td>TI</td>\n",
       "      <td>Order</td>\n",
       "      <td>75.0</td>\n",
       "      <td>20220701162008</td>\n",
       "    </tr>\n",
       "  </tbody>\n",
       "</table>\n",
       "</div>"
      ],
      "text/plain": [
       "          iid             key attrtype status  pricetotal  createdprovider\n",
       "2   278172159  JET_1_a1516015       TI  Order        48.0   20221011174600\n",
       "3   278172159  JET_1_a1516015       TI  Order        48.0   20221011174600\n",
       "6   164989410  JET_1_a1511645       TI  Order        18.0   20221004092200\n",
       "9   187970535  JET_1_a1516031       TI  Order         5.0   20221011180300\n",
       "14  180392654      WS-1342745       TI  Order        75.0   20220701162008"
      ]
     },
     "execution_count": 4,
     "metadata": {},
     "output_type": "execute_result"
    }
   ],
   "source": [
    "df_t_bereinigt = df_transactions_wofirstname[[\"iid\", \"key\", \"attrtype\", \"status\", \"pricetotal\", \"createdprovider\"]]\n",
    "df_t_bereinigt[\"pricetotal\"] = pd.to_numeric(df_t_bereinigt[\"pricetotal\"], errors = \"coerce\")\n",
    "df_t_bereinigt = df_t_bereinigt.query('attrtype == \"TI\"')\n",
    "df_t_bereinigt = df_t_bereinigt.query('status == \"Buchung\" or status == \"Order\"')\n",
    "df_t_bereinigt = df_t_bereinigt.query('pricetotal >= 0.01')\n",
    "searchfor = ['TEST']\n",
    "#searchfor = ['TEST', 'JET', \"WS\"]\n",
    "df_t_bereinigt = df_t_bereinigt[~df_t_bereinigt[\"key\"].str.contains('|'.join(searchfor))]\n",
    "df_t_bereinigt.head()"
   ]
  },
  {
   "cell_type": "code",
   "execution_count": 5,
   "id": "a3dff0b4",
   "metadata": {},
   "outputs": [
    {
     "name": "stdout",
     "output_type": "stream",
     "text": [
      "Anzahl Einträge ohne Bereinigung: 5037142\n",
      "Anzahl Einträge mit Bereinigung: 3303141\n"
     ]
    }
   ],
   "source": [
    "print(\"Anzahl Einträge ohne Bereinigung:\" + \" \" + str(len(df_transactions_wofirstname.index)))\n",
    "print(\"Anzahl Einträge mit Bereinigung:\" + \" \" + str(len(df_t_bereinigt.index)))"
   ]
  },
  {
   "cell_type": "markdown",
   "id": "6083abf0",
   "metadata": {},
   "source": [
    "#### 1.2 Historien-Daten bereinigen\n",
    "##### ausschließlich Öffungen als Interaktionen betrachtet"
   ]
  },
  {
   "cell_type": "code",
   "execution_count": 6,
   "id": "8155a546",
   "metadata": {},
   "outputs": [
    {
     "data": {
      "text/html": [
       "<div>\n",
       "<style scoped>\n",
       "    .dataframe tbody tr th:only-of-type {\n",
       "        vertical-align: middle;\n",
       "    }\n",
       "\n",
       "    .dataframe tbody tr th {\n",
       "        vertical-align: top;\n",
       "    }\n",
       "\n",
       "    .dataframe thead th {\n",
       "        text-align: right;\n",
       "    }\n",
       "</style>\n",
       "<table border=\"1\" class=\"dataframe\">\n",
       "  <thead>\n",
       "    <tr style=\"text-align: right;\">\n",
       "      <th></th>\n",
       "      <th>iid</th>\n",
       "      <th>attrtype</th>\n",
       "      <th>akey</th>\n",
       "      <th>creation</th>\n",
       "    </tr>\n",
       "  </thead>\n",
       "  <tbody>\n",
       "    <tr>\n",
       "      <th>0</th>\n",
       "      <td>165888639</td>\n",
       "      <td>NO</td>\n",
       "      <td>262370023</td>\n",
       "      <td>20220714001502</td>\n",
       "    </tr>\n",
       "    <tr>\n",
       "      <th>1</th>\n",
       "      <td>172138098</td>\n",
       "      <td>NO</td>\n",
       "      <td>262370023</td>\n",
       "      <td>20220714001511</td>\n",
       "    </tr>\n",
       "    <tr>\n",
       "      <th>2</th>\n",
       "      <td>186134667</td>\n",
       "      <td>NO</td>\n",
       "      <td>284155779</td>\n",
       "      <td>20221117073119</td>\n",
       "    </tr>\n",
       "    <tr>\n",
       "      <th>3</th>\n",
       "      <td>175952454</td>\n",
       "      <td>NO</td>\n",
       "      <td>262370023</td>\n",
       "      <td>20220714001511</td>\n",
       "    </tr>\n",
       "    <tr>\n",
       "      <th>4</th>\n",
       "      <td>180175750</td>\n",
       "      <td>NO</td>\n",
       "      <td>262370023</td>\n",
       "      <td>20220714001515</td>\n",
       "    </tr>\n",
       "  </tbody>\n",
       "</table>\n",
       "</div>"
      ],
      "text/plain": [
       "         iid attrtype       akey        creation\n",
       "0  165888639       NO  262370023  20220714001502\n",
       "1  172138098       NO  262370023  20220714001511\n",
       "2  186134667       NO  284155779  20221117073119\n",
       "3  175952454       NO  262370023  20220714001511\n",
       "4  180175750       NO  262370023  20220714001515"
      ]
     },
     "execution_count": 6,
     "metadata": {},
     "output_type": "execute_result"
    }
   ],
   "source": [
    "df_h_bereinigt = df_history_wofirstname[[\"iid\", \"attrtype\", \"akey\",  \"creation\"]]\n",
    "df_h_bereinigt = df_h_bereinigt.query('attrtype == \"NO\" or attrtype == \"HY\"')\n",
    "df_h_bereinigt.head()"
   ]
  },
  {
   "cell_type": "code",
   "execution_count": 7,
   "id": "b95cc484",
   "metadata": {},
   "outputs": [
    {
     "name": "stdout",
     "output_type": "stream",
     "text": [
      "Anzahl Einträge ohne Bereinigung: 11788072\n",
      "Anzahl Einträge mit Bereinigung: 11208660\n"
     ]
    }
   ],
   "source": [
    "print(\"Anzahl Einträge ohne Bereinigung:\" + \" \" + str(len(df_history_wofirstname.index)))\n",
    "print(\"Anzahl Einträge mit Bereinigung:\" + \" \" + str(len(df_h_bereinigt.index)))"
   ]
  },
  {
   "cell_type": "markdown",
   "id": "bf78e584",
   "metadata": {},
   "source": [
    "# 2. Privatkunden iids mit Transaktionsdaten mergen"
   ]
  },
  {
   "cell_type": "markdown",
   "id": "f8396c42",
   "metadata": {},
   "source": [
    "#### 2.1 ... für Transaktionsdaten"
   ]
  },
  {
   "cell_type": "code",
   "execution_count": 8,
   "id": "c04533f2",
   "metadata": {},
   "outputs": [
    {
     "data": {
      "text/html": [
       "<div>\n",
       "<style scoped>\n",
       "    .dataframe tbody tr th:only-of-type {\n",
       "        vertical-align: middle;\n",
       "    }\n",
       "\n",
       "    .dataframe tbody tr th {\n",
       "        vertical-align: top;\n",
       "    }\n",
       "\n",
       "    .dataframe thead th {\n",
       "        text-align: right;\n",
       "    }\n",
       "</style>\n",
       "<table border=\"1\" class=\"dataframe\">\n",
       "  <thead>\n",
       "    <tr style=\"text-align: right;\">\n",
       "      <th></th>\n",
       "      <th>iid</th>\n",
       "      <th>key</th>\n",
       "      <th>attrtype</th>\n",
       "      <th>status</th>\n",
       "      <th>pricetotal</th>\n",
       "      <th>createdprovider</th>\n",
       "    </tr>\n",
       "  </thead>\n",
       "  <tbody>\n",
       "    <tr>\n",
       "      <th>0</th>\n",
       "      <td>164989410</td>\n",
       "      <td>JET_1_a1511645</td>\n",
       "      <td>TI</td>\n",
       "      <td>Order</td>\n",
       "      <td>18.0</td>\n",
       "      <td>20221004092200</td>\n",
       "    </tr>\n",
       "    <tr>\n",
       "      <th>1</th>\n",
       "      <td>164989410</td>\n",
       "      <td>JET_1_a1511642</td>\n",
       "      <td>TI</td>\n",
       "      <td>Order</td>\n",
       "      <td>28.0</td>\n",
       "      <td>20221004091800</td>\n",
       "    </tr>\n",
       "    <tr>\n",
       "      <th>2</th>\n",
       "      <td>164989410</td>\n",
       "      <td>JET_1_a1511642</td>\n",
       "      <td>TI</td>\n",
       "      <td>Order</td>\n",
       "      <td>28.0</td>\n",
       "      <td>20221004091800</td>\n",
       "    </tr>\n",
       "    <tr>\n",
       "      <th>3</th>\n",
       "      <td>164989410</td>\n",
       "      <td>JET_1_a1337703</td>\n",
       "      <td>TI</td>\n",
       "      <td>Order</td>\n",
       "      <td>16.0</td>\n",
       "      <td>20220303093500</td>\n",
       "    </tr>\n",
       "    <tr>\n",
       "      <th>4</th>\n",
       "      <td>164989410</td>\n",
       "      <td>JET_1_a1337703</td>\n",
       "      <td>TI</td>\n",
       "      <td>Order</td>\n",
       "      <td>16.0</td>\n",
       "      <td>20220303093500</td>\n",
       "    </tr>\n",
       "  </tbody>\n",
       "</table>\n",
       "</div>"
      ],
      "text/plain": [
       "         iid             key attrtype status  pricetotal  createdprovider\n",
       "0  164989410  JET_1_a1511645       TI  Order        18.0   20221004092200\n",
       "1  164989410  JET_1_a1511642       TI  Order        28.0   20221004091800\n",
       "2  164989410  JET_1_a1511642       TI  Order        28.0   20221004091800\n",
       "3  164989410  JET_1_a1337703       TI  Order        16.0   20220303093500\n",
       "4  164989410  JET_1_a1337703       TI  Order        16.0   20220303093500"
      ]
     },
     "execution_count": 8,
     "metadata": {},
     "output_type": "execute_result"
    }
   ],
   "source": [
    "df_t_merged = pd.merge(df_t_bereinigt, df_privatkunden_iids, on = [\"iid\"])\n",
    "df_t_merged.head()"
   ]
  },
  {
   "cell_type": "code",
   "execution_count": 9,
   "id": "448c61d6",
   "metadata": {
    "scrolled": true
   },
   "outputs": [
    {
     "name": "stdout",
     "output_type": "stream",
     "text": [
      "Anzahl Einträge ohne Bereinigung: 3303141\n",
      "Anzahl Einträge mit Bereinigung: 2233255\n"
     ]
    }
   ],
   "source": [
    "print(\"Anzahl Einträge ohne Bereinigung:\" + \" \" + str(len(df_t_bereinigt.index)))\n",
    "print(\"Anzahl Einträge mit Bereinigung:\" + \" \" + str(len(df_t_merged.index)))"
   ]
  },
  {
   "cell_type": "markdown",
   "id": "fd1212a5",
   "metadata": {},
   "source": [
    "#### 2.2 ... für Historiendaten"
   ]
  },
  {
   "cell_type": "code",
   "execution_count": 10,
   "id": "ac01365f",
   "metadata": {},
   "outputs": [
    {
     "data": {
      "text/html": [
       "<div>\n",
       "<style scoped>\n",
       "    .dataframe tbody tr th:only-of-type {\n",
       "        vertical-align: middle;\n",
       "    }\n",
       "\n",
       "    .dataframe tbody tr th {\n",
       "        vertical-align: top;\n",
       "    }\n",
       "\n",
       "    .dataframe thead th {\n",
       "        text-align: right;\n",
       "    }\n",
       "</style>\n",
       "<table border=\"1\" class=\"dataframe\">\n",
       "  <thead>\n",
       "    <tr style=\"text-align: right;\">\n",
       "      <th></th>\n",
       "      <th>iid</th>\n",
       "      <th>attrtype</th>\n",
       "      <th>akey</th>\n",
       "      <th>creation</th>\n",
       "    </tr>\n",
       "  </thead>\n",
       "  <tbody>\n",
       "    <tr>\n",
       "      <th>0</th>\n",
       "      <td>172138098</td>\n",
       "      <td>NO</td>\n",
       "      <td>262370023</td>\n",
       "      <td>20220714001511</td>\n",
       "    </tr>\n",
       "    <tr>\n",
       "      <th>1</th>\n",
       "      <td>172138098</td>\n",
       "      <td>NO</td>\n",
       "      <td>277468177</td>\n",
       "      <td>20221010220435</td>\n",
       "    </tr>\n",
       "    <tr>\n",
       "      <th>2</th>\n",
       "      <td>172138098</td>\n",
       "      <td>NO</td>\n",
       "      <td>277468177</td>\n",
       "      <td>20221010221255</td>\n",
       "    </tr>\n",
       "    <tr>\n",
       "      <th>3</th>\n",
       "      <td>172138098</td>\n",
       "      <td>NO</td>\n",
       "      <td>277468177</td>\n",
       "      <td>20221010221301</td>\n",
       "    </tr>\n",
       "    <tr>\n",
       "      <th>4</th>\n",
       "      <td>172138098</td>\n",
       "      <td>NO</td>\n",
       "      <td>277468177</td>\n",
       "      <td>20221010221324</td>\n",
       "    </tr>\n",
       "  </tbody>\n",
       "</table>\n",
       "</div>"
      ],
      "text/plain": [
       "         iid attrtype       akey        creation\n",
       "0  172138098       NO  262370023  20220714001511\n",
       "1  172138098       NO  277468177  20221010220435\n",
       "2  172138098       NO  277468177  20221010221255\n",
       "3  172138098       NO  277468177  20221010221301\n",
       "4  172138098       NO  277468177  20221010221324"
      ]
     },
     "execution_count": 10,
     "metadata": {},
     "output_type": "execute_result"
    }
   ],
   "source": [
    "df_h_merged = pd.merge(df_h_bereinigt, df_privatkunden_iids, on = [\"iid\"])\n",
    "df_h_merged.head()"
   ]
  },
  {
   "cell_type": "code",
   "execution_count": 11,
   "id": "6dae0bdd",
   "metadata": {},
   "outputs": [
    {
     "name": "stdout",
     "output_type": "stream",
     "text": [
      "Anzahl Einträge ohne Bereinigung: 11208660\n",
      "Anzahl Einträge mit Bereinigung: 5645196\n"
     ]
    }
   ],
   "source": [
    "print(\"Anzahl Einträge ohne Bereinigung:\" + \" \" + str(len(df_h_bereinigt.index)))\n",
    "print(\"Anzahl Einträge mit Bereinigung:\" + \" \" + str(len(df_h_merged.index)))"
   ]
  },
  {
   "cell_type": "markdown",
   "id": "ed8604e1",
   "metadata": {},
   "source": [
    "# 3 Datum als datetime type und rename"
   ]
  },
  {
   "cell_type": "markdown",
   "id": "c02025d3",
   "metadata": {},
   "source": [
    "#### 3.1 Createdprovider als datetime type und rename"
   ]
  },
  {
   "cell_type": "code",
   "execution_count": 12,
   "id": "70971ca9",
   "metadata": {},
   "outputs": [
    {
     "data": {
      "text/html": [
       "<div>\n",
       "<style scoped>\n",
       "    .dataframe tbody tr th:only-of-type {\n",
       "        vertical-align: middle;\n",
       "    }\n",
       "\n",
       "    .dataframe tbody tr th {\n",
       "        vertical-align: top;\n",
       "    }\n",
       "\n",
       "    .dataframe thead th {\n",
       "        text-align: right;\n",
       "    }\n",
       "</style>\n",
       "<table border=\"1\" class=\"dataframe\">\n",
       "  <thead>\n",
       "    <tr style=\"text-align: right;\">\n",
       "      <th></th>\n",
       "      <th>iid</th>\n",
       "      <th>key</th>\n",
       "      <th>attrtype</th>\n",
       "      <th>status</th>\n",
       "      <th>pricetotal</th>\n",
       "      <th>date</th>\n",
       "    </tr>\n",
       "  </thead>\n",
       "  <tbody>\n",
       "    <tr>\n",
       "      <th>0</th>\n",
       "      <td>164989410</td>\n",
       "      <td>JET_1_a1511645</td>\n",
       "      <td>TI</td>\n",
       "      <td>Order</td>\n",
       "      <td>18.0</td>\n",
       "      <td>2022-10-04 09:22:00</td>\n",
       "    </tr>\n",
       "    <tr>\n",
       "      <th>1</th>\n",
       "      <td>164989410</td>\n",
       "      <td>JET_1_a1511642</td>\n",
       "      <td>TI</td>\n",
       "      <td>Order</td>\n",
       "      <td>28.0</td>\n",
       "      <td>2022-10-04 09:18:00</td>\n",
       "    </tr>\n",
       "    <tr>\n",
       "      <th>2</th>\n",
       "      <td>164989410</td>\n",
       "      <td>JET_1_a1511642</td>\n",
       "      <td>TI</td>\n",
       "      <td>Order</td>\n",
       "      <td>28.0</td>\n",
       "      <td>2022-10-04 09:18:00</td>\n",
       "    </tr>\n",
       "    <tr>\n",
       "      <th>3</th>\n",
       "      <td>164989410</td>\n",
       "      <td>JET_1_a1337703</td>\n",
       "      <td>TI</td>\n",
       "      <td>Order</td>\n",
       "      <td>16.0</td>\n",
       "      <td>2022-03-03 09:35:00</td>\n",
       "    </tr>\n",
       "    <tr>\n",
       "      <th>4</th>\n",
       "      <td>164989410</td>\n",
       "      <td>JET_1_a1337703</td>\n",
       "      <td>TI</td>\n",
       "      <td>Order</td>\n",
       "      <td>16.0</td>\n",
       "      <td>2022-03-03 09:35:00</td>\n",
       "    </tr>\n",
       "  </tbody>\n",
       "</table>\n",
       "</div>"
      ],
      "text/plain": [
       "         iid             key attrtype status  pricetotal                date\n",
       "0  164989410  JET_1_a1511645       TI  Order        18.0 2022-10-04 09:22:00\n",
       "1  164989410  JET_1_a1511642       TI  Order        28.0 2022-10-04 09:18:00\n",
       "2  164989410  JET_1_a1511642       TI  Order        28.0 2022-10-04 09:18:00\n",
       "3  164989410  JET_1_a1337703       TI  Order        16.0 2022-03-03 09:35:00\n",
       "4  164989410  JET_1_a1337703       TI  Order        16.0 2022-03-03 09:35:00"
      ]
     },
     "execution_count": 12,
     "metadata": {},
     "output_type": "execute_result"
    }
   ],
   "source": [
    "df_t_datetime = df_t_merged\n",
    "df_t_datetime[\"createdprovider\"] = pd.to_datetime(df_t_datetime['createdprovider'], format='%Y%m%d%H%M%S')\n",
    "df_t_datetime.rename(columns = {\"createdprovider\" : \"date\"}, inplace = True)\n",
    "df_t_datetime.head()"
   ]
  },
  {
   "cell_type": "markdown",
   "id": "ffbfd520",
   "metadata": {},
   "source": [
    "#### 3.2 creation als datetime type und rename"
   ]
  },
  {
   "cell_type": "code",
   "execution_count": 13,
   "id": "e32756ad",
   "metadata": {},
   "outputs": [
    {
     "data": {
      "text/html": [
       "<div>\n",
       "<style scoped>\n",
       "    .dataframe tbody tr th:only-of-type {\n",
       "        vertical-align: middle;\n",
       "    }\n",
       "\n",
       "    .dataframe tbody tr th {\n",
       "        vertical-align: top;\n",
       "    }\n",
       "\n",
       "    .dataframe thead th {\n",
       "        text-align: right;\n",
       "    }\n",
       "</style>\n",
       "<table border=\"1\" class=\"dataframe\">\n",
       "  <thead>\n",
       "    <tr style=\"text-align: right;\">\n",
       "      <th></th>\n",
       "      <th>iid</th>\n",
       "      <th>attrtype</th>\n",
       "      <th>akey</th>\n",
       "      <th>date</th>\n",
       "    </tr>\n",
       "  </thead>\n",
       "  <tbody>\n",
       "    <tr>\n",
       "      <th>0</th>\n",
       "      <td>172138098</td>\n",
       "      <td>NO</td>\n",
       "      <td>262370023</td>\n",
       "      <td>2022-07-14 00:15:11</td>\n",
       "    </tr>\n",
       "    <tr>\n",
       "      <th>1</th>\n",
       "      <td>172138098</td>\n",
       "      <td>NO</td>\n",
       "      <td>277468177</td>\n",
       "      <td>2022-10-10 22:04:35</td>\n",
       "    </tr>\n",
       "    <tr>\n",
       "      <th>2</th>\n",
       "      <td>172138098</td>\n",
       "      <td>NO</td>\n",
       "      <td>277468177</td>\n",
       "      <td>2022-10-10 22:12:55</td>\n",
       "    </tr>\n",
       "    <tr>\n",
       "      <th>3</th>\n",
       "      <td>172138098</td>\n",
       "      <td>NO</td>\n",
       "      <td>277468177</td>\n",
       "      <td>2022-10-10 22:13:01</td>\n",
       "    </tr>\n",
       "    <tr>\n",
       "      <th>4</th>\n",
       "      <td>172138098</td>\n",
       "      <td>NO</td>\n",
       "      <td>277468177</td>\n",
       "      <td>2022-10-10 22:13:24</td>\n",
       "    </tr>\n",
       "  </tbody>\n",
       "</table>\n",
       "</div>"
      ],
      "text/plain": [
       "         iid attrtype       akey                date\n",
       "0  172138098       NO  262370023 2022-07-14 00:15:11\n",
       "1  172138098       NO  277468177 2022-10-10 22:04:35\n",
       "2  172138098       NO  277468177 2022-10-10 22:12:55\n",
       "3  172138098       NO  277468177 2022-10-10 22:13:01\n",
       "4  172138098       NO  277468177 2022-10-10 22:13:24"
      ]
     },
     "execution_count": 13,
     "metadata": {},
     "output_type": "execute_result"
    }
   ],
   "source": [
    "df_h_datetime = df_h_merged\n",
    "df_h_datetime[\"creation\"] = pd.to_datetime(df_h_datetime['creation'], format='%Y%m%d%H%M%S')\n",
    "df_h_datetime.rename(columns = {\"creation\" : \"date\"}, inplace = True)\n",
    "df_h_datetime.head()"
   ]
  },
  {
   "cell_type": "markdown",
   "id": "44b281fb",
   "metadata": {},
   "source": [
    "# 4. Status, key und attrtype droppen für Transaktionsdaten, da redundant"
   ]
  },
  {
   "cell_type": "code",
   "execution_count": 14,
   "id": "c2dd0a18",
   "metadata": {},
   "outputs": [
    {
     "data": {
      "text/html": [
       "<div>\n",
       "<style scoped>\n",
       "    .dataframe tbody tr th:only-of-type {\n",
       "        vertical-align: middle;\n",
       "    }\n",
       "\n",
       "    .dataframe tbody tr th {\n",
       "        vertical-align: top;\n",
       "    }\n",
       "\n",
       "    .dataframe thead th {\n",
       "        text-align: right;\n",
       "    }\n",
       "</style>\n",
       "<table border=\"1\" class=\"dataframe\">\n",
       "  <thead>\n",
       "    <tr style=\"text-align: right;\">\n",
       "      <th></th>\n",
       "      <th>iid</th>\n",
       "      <th>pricetotal</th>\n",
       "      <th>date</th>\n",
       "    </tr>\n",
       "  </thead>\n",
       "  <tbody>\n",
       "    <tr>\n",
       "      <th>0</th>\n",
       "      <td>164989410</td>\n",
       "      <td>18.0</td>\n",
       "      <td>2022-10-04 09:22:00</td>\n",
       "    </tr>\n",
       "    <tr>\n",
       "      <th>1</th>\n",
       "      <td>164989410</td>\n",
       "      <td>28.0</td>\n",
       "      <td>2022-10-04 09:18:00</td>\n",
       "    </tr>\n",
       "    <tr>\n",
       "      <th>2</th>\n",
       "      <td>164989410</td>\n",
       "      <td>28.0</td>\n",
       "      <td>2022-10-04 09:18:00</td>\n",
       "    </tr>\n",
       "    <tr>\n",
       "      <th>3</th>\n",
       "      <td>164989410</td>\n",
       "      <td>16.0</td>\n",
       "      <td>2022-03-03 09:35:00</td>\n",
       "    </tr>\n",
       "    <tr>\n",
       "      <th>4</th>\n",
       "      <td>164989410</td>\n",
       "      <td>16.0</td>\n",
       "      <td>2022-03-03 09:35:00</td>\n",
       "    </tr>\n",
       "  </tbody>\n",
       "</table>\n",
       "</div>"
      ],
      "text/plain": [
       "         iid  pricetotal                date\n",
       "0  164989410        18.0 2022-10-04 09:22:00\n",
       "1  164989410        28.0 2022-10-04 09:18:00\n",
       "2  164989410        28.0 2022-10-04 09:18:00\n",
       "3  164989410        16.0 2022-03-03 09:35:00\n",
       "4  164989410        16.0 2022-03-03 09:35:00"
      ]
     },
     "execution_count": 14,
     "metadata": {},
     "output_type": "execute_result"
    }
   ],
   "source": [
    "df_t_ohne_redundanz = df_t_datetime[[\"iid\", \"pricetotal\", \"date\"]]\n",
    "df_t_ohne_redundanz.head()"
   ]
  },
  {
   "cell_type": "markdown",
   "id": "106c6092",
   "metadata": {},
   "source": [
    "# 5. #empfangene NL, #oeffnungen und oeffnungsrate zu df_h hinzufügen"
   ]
  },
  {
   "cell_type": "code",
   "execution_count": 15,
   "id": "f0de8d63",
   "metadata": {},
   "outputs": [
    {
     "data": {
      "text/html": [
       "<div>\n",
       "<style scoped>\n",
       "    .dataframe tbody tr th:only-of-type {\n",
       "        vertical-align: middle;\n",
       "    }\n",
       "\n",
       "    .dataframe tbody tr th {\n",
       "        vertical-align: top;\n",
       "    }\n",
       "\n",
       "    .dataframe thead th {\n",
       "        text-align: right;\n",
       "    }\n",
       "</style>\n",
       "<table border=\"1\" class=\"dataframe\">\n",
       "  <thead>\n",
       "    <tr style=\"text-align: right;\">\n",
       "      <th></th>\n",
       "      <th>iid</th>\n",
       "      <th>attrtype</th>\n",
       "      <th>akey</th>\n",
       "      <th>date</th>\n",
       "    </tr>\n",
       "  </thead>\n",
       "  <tbody>\n",
       "    <tr>\n",
       "      <th>0</th>\n",
       "      <td>172138098</td>\n",
       "      <td>NO</td>\n",
       "      <td>262370023</td>\n",
       "      <td>2022-07-14 00:15:11</td>\n",
       "    </tr>\n",
       "    <tr>\n",
       "      <th>1</th>\n",
       "      <td>172138098</td>\n",
       "      <td>NO</td>\n",
       "      <td>277468177</td>\n",
       "      <td>2022-10-10 22:04:35</td>\n",
       "    </tr>\n",
       "    <tr>\n",
       "      <th>2</th>\n",
       "      <td>172138098</td>\n",
       "      <td>NO</td>\n",
       "      <td>277468177</td>\n",
       "      <td>2022-10-10 22:12:55</td>\n",
       "    </tr>\n",
       "    <tr>\n",
       "      <th>3</th>\n",
       "      <td>172138098</td>\n",
       "      <td>NO</td>\n",
       "      <td>277468177</td>\n",
       "      <td>2022-10-10 22:13:01</td>\n",
       "    </tr>\n",
       "    <tr>\n",
       "      <th>4</th>\n",
       "      <td>172138098</td>\n",
       "      <td>NO</td>\n",
       "      <td>277468177</td>\n",
       "      <td>2022-10-10 22:13:24</td>\n",
       "    </tr>\n",
       "  </tbody>\n",
       "</table>\n",
       "</div>"
      ],
      "text/plain": [
       "         iid attrtype       akey                date\n",
       "0  172138098       NO  262370023 2022-07-14 00:15:11\n",
       "1  172138098       NO  277468177 2022-10-10 22:04:35\n",
       "2  172138098       NO  277468177 2022-10-10 22:12:55\n",
       "3  172138098       NO  277468177 2022-10-10 22:13:01\n",
       "4  172138098       NO  277468177 2022-10-10 22:13:24"
      ]
     },
     "execution_count": 15,
     "metadata": {},
     "output_type": "execute_result"
    }
   ],
   "source": [
    "df_h_bearbetiung5 = df_h_datetime\n",
    "df_h_bearbetiung5.head()"
   ]
  },
  {
   "cell_type": "markdown",
   "id": "62f6c685",
   "metadata": {},
   "source": [
    "#### 5.1 Anzahl Oeffnungen pro iid ermitteln"
   ]
  },
  {
   "cell_type": "code",
   "execution_count": 16,
   "id": "bcbc67c2",
   "metadata": {
    "scrolled": false
   },
   "outputs": [
    {
     "data": {
      "text/html": [
       "<div>\n",
       "<style scoped>\n",
       "    .dataframe tbody tr th:only-of-type {\n",
       "        vertical-align: middle;\n",
       "    }\n",
       "\n",
       "    .dataframe tbody tr th {\n",
       "        vertical-align: top;\n",
       "    }\n",
       "\n",
       "    .dataframe thead th {\n",
       "        text-align: right;\n",
       "    }\n",
       "</style>\n",
       "<table border=\"1\" class=\"dataframe\">\n",
       "  <thead>\n",
       "    <tr style=\"text-align: right;\">\n",
       "      <th></th>\n",
       "      <th>iid</th>\n",
       "      <th>#Oeffnungen</th>\n",
       "    </tr>\n",
       "  </thead>\n",
       "  <tbody>\n",
       "    <tr>\n",
       "      <th>0</th>\n",
       "      <td>163094976</td>\n",
       "      <td>51</td>\n",
       "    </tr>\n",
       "    <tr>\n",
       "      <th>1</th>\n",
       "      <td>163095129</td>\n",
       "      <td>27</td>\n",
       "    </tr>\n",
       "    <tr>\n",
       "      <th>2</th>\n",
       "      <td>163095218</td>\n",
       "      <td>2</td>\n",
       "    </tr>\n",
       "    <tr>\n",
       "      <th>3</th>\n",
       "      <td>163095369</td>\n",
       "      <td>2</td>\n",
       "    </tr>\n",
       "    <tr>\n",
       "      <th>4</th>\n",
       "      <td>163095518</td>\n",
       "      <td>43</td>\n",
       "    </tr>\n",
       "  </tbody>\n",
       "</table>\n",
       "</div>"
      ],
      "text/plain": [
       "         iid  #Oeffnungen\n",
       "0  163094976           51\n",
       "1  163095129           27\n",
       "2  163095218            2\n",
       "3  163095369            2\n",
       "4  163095518           43"
      ]
     },
     "execution_count": 16,
     "metadata": {},
     "output_type": "execute_result"
    }
   ],
   "source": [
    "df_h_oeffnungen = df_h_bearbetiung5[df_h_bearbetiung5[\"attrtype\"] == \"NO\"].groupby([\"iid\"]).agg(\"count\")\n",
    "df_h_oeffnungen = df_h_oeffnungen[\"attrtype\"].to_frame().reset_index().rename(columns = {\"attrtype\": \"#Oeffnungen\"})\n",
    "df_h_oeffnungen.head()"
   ]
  },
  {
   "cell_type": "markdown",
   "id": "4f4b4027",
   "metadata": {},
   "source": [
    "#### 5.2 Anzahl empfangene Newsletter pro iid ermitteln"
   ]
  },
  {
   "cell_type": "code",
   "execution_count": 17,
   "id": "8b0c0713",
   "metadata": {},
   "outputs": [
    {
     "data": {
      "text/html": [
       "<div>\n",
       "<style scoped>\n",
       "    .dataframe tbody tr th:only-of-type {\n",
       "        vertical-align: middle;\n",
       "    }\n",
       "\n",
       "    .dataframe tbody tr th {\n",
       "        vertical-align: top;\n",
       "    }\n",
       "\n",
       "    .dataframe thead th {\n",
       "        text-align: right;\n",
       "    }\n",
       "</style>\n",
       "<table border=\"1\" class=\"dataframe\">\n",
       "  <thead>\n",
       "    <tr style=\"text-align: right;\">\n",
       "      <th></th>\n",
       "      <th>iid</th>\n",
       "      <th>#empfangen</th>\n",
       "    </tr>\n",
       "  </thead>\n",
       "  <tbody>\n",
       "    <tr>\n",
       "      <th>0</th>\n",
       "      <td>163094976</td>\n",
       "      <td>34</td>\n",
       "    </tr>\n",
       "    <tr>\n",
       "      <th>1</th>\n",
       "      <td>163095129</td>\n",
       "      <td>22</td>\n",
       "    </tr>\n",
       "    <tr>\n",
       "      <th>2</th>\n",
       "      <td>163095218</td>\n",
       "      <td>2</td>\n",
       "    </tr>\n",
       "    <tr>\n",
       "      <th>3</th>\n",
       "      <td>163095369</td>\n",
       "      <td>22</td>\n",
       "    </tr>\n",
       "    <tr>\n",
       "      <th>4</th>\n",
       "      <td>163095518</td>\n",
       "      <td>22</td>\n",
       "    </tr>\n",
       "  </tbody>\n",
       "</table>\n",
       "</div>"
      ],
      "text/plain": [
       "         iid  #empfangen\n",
       "0  163094976          34\n",
       "1  163095129          22\n",
       "2  163095218           2\n",
       "3  163095369          22\n",
       "4  163095518          22"
      ]
     },
     "execution_count": 17,
     "metadata": {},
     "output_type": "execute_result"
    }
   ],
   "source": [
    "df_h_versendet = df_h_bearbetiung5[df_h_bearbetiung5[\"attrtype\"] == \"HY\"].groupby([\"iid\"]).agg(\"count\")\n",
    "df_h_versendet = df_h_versendet[\"attrtype\"].to_frame().reset_index().rename(columns = {\"attrtype\": \"#empfangen\"})\n",
    "df_h_versendet.head()"
   ]
  },
  {
   "cell_type": "markdown",
   "id": "261b799a",
   "metadata": {},
   "source": [
    "#### 5.3 #empfangen und #oeffungen in df überführen"
   ]
  },
  {
   "cell_type": "code",
   "execution_count": 18,
   "id": "aeb93e77",
   "metadata": {},
   "outputs": [
    {
     "data": {
      "text/html": [
       "<div>\n",
       "<style scoped>\n",
       "    .dataframe tbody tr th:only-of-type {\n",
       "        vertical-align: middle;\n",
       "    }\n",
       "\n",
       "    .dataframe tbody tr th {\n",
       "        vertical-align: top;\n",
       "    }\n",
       "\n",
       "    .dataframe thead th {\n",
       "        text-align: right;\n",
       "    }\n",
       "</style>\n",
       "<table border=\"1\" class=\"dataframe\">\n",
       "  <thead>\n",
       "    <tr style=\"text-align: right;\">\n",
       "      <th></th>\n",
       "      <th>iid</th>\n",
       "      <th>attrtype</th>\n",
       "      <th>akey</th>\n",
       "      <th>date</th>\n",
       "      <th>#Oeffnungen</th>\n",
       "      <th>#empfangen</th>\n",
       "      <th>oeffnungsrate</th>\n",
       "    </tr>\n",
       "  </thead>\n",
       "  <tbody>\n",
       "    <tr>\n",
       "      <th>0</th>\n",
       "      <td>172138098</td>\n",
       "      <td>NO</td>\n",
       "      <td>262370023</td>\n",
       "      <td>2022-07-14 00:15:11</td>\n",
       "      <td>57</td>\n",
       "      <td>23</td>\n",
       "      <td>2.478261</td>\n",
       "    </tr>\n",
       "    <tr>\n",
       "      <th>1</th>\n",
       "      <td>172138098</td>\n",
       "      <td>NO</td>\n",
       "      <td>277468177</td>\n",
       "      <td>2022-10-10 22:04:35</td>\n",
       "      <td>57</td>\n",
       "      <td>23</td>\n",
       "      <td>2.478261</td>\n",
       "    </tr>\n",
       "    <tr>\n",
       "      <th>2</th>\n",
       "      <td>172138098</td>\n",
       "      <td>NO</td>\n",
       "      <td>277468177</td>\n",
       "      <td>2022-10-10 22:12:55</td>\n",
       "      <td>57</td>\n",
       "      <td>23</td>\n",
       "      <td>2.478261</td>\n",
       "    </tr>\n",
       "    <tr>\n",
       "      <th>3</th>\n",
       "      <td>172138098</td>\n",
       "      <td>NO</td>\n",
       "      <td>277468177</td>\n",
       "      <td>2022-10-10 22:13:01</td>\n",
       "      <td>57</td>\n",
       "      <td>23</td>\n",
       "      <td>2.478261</td>\n",
       "    </tr>\n",
       "    <tr>\n",
       "      <th>4</th>\n",
       "      <td>172138098</td>\n",
       "      <td>NO</td>\n",
       "      <td>277468177</td>\n",
       "      <td>2022-10-10 22:13:24</td>\n",
       "      <td>57</td>\n",
       "      <td>23</td>\n",
       "      <td>2.478261</td>\n",
       "    </tr>\n",
       "  </tbody>\n",
       "</table>\n",
       "</div>"
      ],
      "text/plain": [
       "         iid attrtype       akey                date  #Oeffnungen  #empfangen  \\\n",
       "0  172138098       NO  262370023 2022-07-14 00:15:11           57          23   \n",
       "1  172138098       NO  277468177 2022-10-10 22:04:35           57          23   \n",
       "2  172138098       NO  277468177 2022-10-10 22:12:55           57          23   \n",
       "3  172138098       NO  277468177 2022-10-10 22:13:01           57          23   \n",
       "4  172138098       NO  277468177 2022-10-10 22:13:24           57          23   \n",
       "\n",
       "   oeffnungsrate  \n",
       "0       2.478261  \n",
       "1       2.478261  \n",
       "2       2.478261  \n",
       "3       2.478261  \n",
       "4       2.478261  "
      ]
     },
     "execution_count": 18,
     "metadata": {},
     "output_type": "execute_result"
    }
   ],
   "source": [
    "df_h_oeffnungsrate = pd.merge(df_h_datetime, df_h_oeffnungen, on = [\"iid\"])\n",
    "df_h_oeffnungsrate = pd.merge(df_h_oeffnungsrate, df_h_versendet, on = [\"iid\"])\n",
    "df_h_oeffnungsrate[\"oeffnungsrate\"] = df_h_oeffnungsrate[\"#Oeffnungen\"] / df_h_oeffnungsrate[\"#empfangen\"]\n",
    "df_h_oeffnungsrate.head()"
   ]
  },
  {
   "cell_type": "markdown",
   "id": "1c7d1265",
   "metadata": {},
   "source": [
    "# 6. Korrelation Öffnungsrate und Costumer Value von Kunden seit Einführung der EMS"
   ]
  },
  {
   "cell_type": "markdown",
   "id": "1fb83752",
   "metadata": {},
   "source": [
    "#### 6.1 Ermittlung des Einführungs-Datums der EMS anhand erster versandter NL"
   ]
  },
  {
   "cell_type": "code",
   "execution_count": 19,
   "id": "83ce899b",
   "metadata": {},
   "outputs": [
    {
     "data": {
      "text/plain": [
       "Timestamp('2022-02-03 12:46:03')"
      ]
     },
     "execution_count": 19,
     "metadata": {},
     "output_type": "execute_result"
    }
   ],
   "source": [
    "einfuehrung = pd.to_datetime(df_history_wofirstname[\"creation\"].min(), format='%Y%m%d%H%M%S')\n",
    "einfuehrung"
   ]
  },
  {
   "cell_type": "markdown",
   "id": "63f989a2",
   "metadata": {},
   "source": [
    "#### 6.2 Reduktion der Transdaten auf Daten nach Einführung der EMS"
   ]
  },
  {
   "cell_type": "code",
   "execution_count": 20,
   "id": "444e03a3",
   "metadata": {},
   "outputs": [
    {
     "data": {
      "text/html": [
       "<div>\n",
       "<style scoped>\n",
       "    .dataframe tbody tr th:only-of-type {\n",
       "        vertical-align: middle;\n",
       "    }\n",
       "\n",
       "    .dataframe tbody tr th {\n",
       "        vertical-align: top;\n",
       "    }\n",
       "\n",
       "    .dataframe thead th {\n",
       "        text-align: right;\n",
       "    }\n",
       "</style>\n",
       "<table border=\"1\" class=\"dataframe\">\n",
       "  <thead>\n",
       "    <tr style=\"text-align: right;\">\n",
       "      <th></th>\n",
       "      <th>iid</th>\n",
       "      <th>pricetotal</th>\n",
       "      <th>date</th>\n",
       "    </tr>\n",
       "  </thead>\n",
       "  <tbody>\n",
       "    <tr>\n",
       "      <th>0</th>\n",
       "      <td>164989410</td>\n",
       "      <td>18.0</td>\n",
       "      <td>2022-10-04 09:22:00</td>\n",
       "    </tr>\n",
       "    <tr>\n",
       "      <th>1</th>\n",
       "      <td>164989410</td>\n",
       "      <td>28.0</td>\n",
       "      <td>2022-10-04 09:18:00</td>\n",
       "    </tr>\n",
       "    <tr>\n",
       "      <th>2</th>\n",
       "      <td>164989410</td>\n",
       "      <td>28.0</td>\n",
       "      <td>2022-10-04 09:18:00</td>\n",
       "    </tr>\n",
       "    <tr>\n",
       "      <th>3</th>\n",
       "      <td>164989410</td>\n",
       "      <td>16.0</td>\n",
       "      <td>2022-03-03 09:35:00</td>\n",
       "    </tr>\n",
       "    <tr>\n",
       "      <th>4</th>\n",
       "      <td>164989410</td>\n",
       "      <td>16.0</td>\n",
       "      <td>2022-03-03 09:35:00</td>\n",
       "    </tr>\n",
       "  </tbody>\n",
       "</table>\n",
       "</div>"
      ],
      "text/plain": [
       "         iid  pricetotal                date\n",
       "0  164989410        18.0 2022-10-04 09:22:00\n",
       "1  164989410        28.0 2022-10-04 09:18:00\n",
       "2  164989410        28.0 2022-10-04 09:18:00\n",
       "3  164989410        16.0 2022-03-03 09:35:00\n",
       "4  164989410        16.0 2022-03-03 09:35:00"
      ]
     },
     "execution_count": 20,
     "metadata": {},
     "output_type": "execute_result"
    }
   ],
   "source": [
    "df_t_seit_einfuehrung = df_t_ohne_redundanz.query('date >= @einfuehrung')\n",
    "df_t_seit_einfuehrung.head()"
   ]
  },
  {
   "cell_type": "markdown",
   "id": "e8c0aa7c",
   "metadata": {},
   "source": [
    "#### 6.3 Ermittlung des Costumer Value pro iid"
   ]
  },
  {
   "cell_type": "code",
   "execution_count": 21,
   "id": "f47a5d2c",
   "metadata": {},
   "outputs": [
    {
     "data": {
      "text/html": [
       "<div>\n",
       "<style scoped>\n",
       "    .dataframe tbody tr th:only-of-type {\n",
       "        vertical-align: middle;\n",
       "    }\n",
       "\n",
       "    .dataframe tbody tr th {\n",
       "        vertical-align: top;\n",
       "    }\n",
       "\n",
       "    .dataframe thead th {\n",
       "        text-align: right;\n",
       "    }\n",
       "</style>\n",
       "<table border=\"1\" class=\"dataframe\">\n",
       "  <thead>\n",
       "    <tr style=\"text-align: right;\">\n",
       "      <th></th>\n",
       "      <th>iid</th>\n",
       "      <th>pricetotal</th>\n",
       "    </tr>\n",
       "  </thead>\n",
       "  <tbody>\n",
       "    <tr>\n",
       "      <th>0</th>\n",
       "      <td>163094976</td>\n",
       "      <td>280.0</td>\n",
       "    </tr>\n",
       "    <tr>\n",
       "      <th>1</th>\n",
       "      <td>163095518</td>\n",
       "      <td>74.0</td>\n",
       "    </tr>\n",
       "    <tr>\n",
       "      <th>2</th>\n",
       "      <td>163095607</td>\n",
       "      <td>100.0</td>\n",
       "    </tr>\n",
       "    <tr>\n",
       "      <th>3</th>\n",
       "      <td>163095722</td>\n",
       "      <td>238.2</td>\n",
       "    </tr>\n",
       "    <tr>\n",
       "      <th>4</th>\n",
       "      <td>163096080</td>\n",
       "      <td>219.0</td>\n",
       "    </tr>\n",
       "  </tbody>\n",
       "</table>\n",
       "</div>"
      ],
      "text/plain": [
       "         iid  pricetotal\n",
       "0  163094976       280.0\n",
       "1  163095518        74.0\n",
       "2  163095607       100.0\n",
       "3  163095722       238.2\n",
       "4  163096080       219.0"
      ]
     },
     "execution_count": 21,
     "metadata": {},
     "output_type": "execute_result"
    }
   ],
   "source": [
    "df_t_CV = df_t_seit_einfuehrung.groupby(['iid'])['pricetotal'].agg('sum').to_frame().reset_index()\n",
    "df_t_CV.head()"
   ]
  },
  {
   "cell_type": "markdown",
   "id": "ee556a5d",
   "metadata": {},
   "source": [
    "#### 6.4 Oeffnungsrate zu df mit CV hinzufügen"
   ]
  },
  {
   "cell_type": "code",
   "execution_count": 22,
   "id": "714bd952",
   "metadata": {},
   "outputs": [
    {
     "data": {
      "text/html": [
       "<div>\n",
       "<style scoped>\n",
       "    .dataframe tbody tr th:only-of-type {\n",
       "        vertical-align: middle;\n",
       "    }\n",
       "\n",
       "    .dataframe tbody tr th {\n",
       "        vertical-align: top;\n",
       "    }\n",
       "\n",
       "    .dataframe thead th {\n",
       "        text-align: right;\n",
       "    }\n",
       "</style>\n",
       "<table border=\"1\" class=\"dataframe\">\n",
       "  <thead>\n",
       "    <tr style=\"text-align: right;\">\n",
       "      <th></th>\n",
       "      <th>iid</th>\n",
       "      <th>pricetotal</th>\n",
       "      <th>oeffnungsrate</th>\n",
       "    </tr>\n",
       "  </thead>\n",
       "  <tbody>\n",
       "    <tr>\n",
       "      <th>0</th>\n",
       "      <td>163094976</td>\n",
       "      <td>280.0</td>\n",
       "      <td>1.500000</td>\n",
       "    </tr>\n",
       "    <tr>\n",
       "      <th>85</th>\n",
       "      <td>163095518</td>\n",
       "      <td>74.0</td>\n",
       "      <td>1.954545</td>\n",
       "    </tr>\n",
       "    <tr>\n",
       "      <th>150</th>\n",
       "      <td>163095607</td>\n",
       "      <td>100.0</td>\n",
       "      <td>1.826087</td>\n",
       "    </tr>\n",
       "    <tr>\n",
       "      <th>215</th>\n",
       "      <td>163095722</td>\n",
       "      <td>238.2</td>\n",
       "      <td>3.136364</td>\n",
       "    </tr>\n",
       "    <tr>\n",
       "      <th>306</th>\n",
       "      <td>163097142</td>\n",
       "      <td>10.0</td>\n",
       "      <td>0.875000</td>\n",
       "    </tr>\n",
       "  </tbody>\n",
       "</table>\n",
       "</div>"
      ],
      "text/plain": [
       "           iid  pricetotal  oeffnungsrate\n",
       "0    163094976       280.0       1.500000\n",
       "85   163095518        74.0       1.954545\n",
       "150  163095607       100.0       1.826087\n",
       "215  163095722       238.2       3.136364\n",
       "306  163097142        10.0       0.875000"
      ]
     },
     "execution_count": 22,
     "metadata": {},
     "output_type": "execute_result"
    }
   ],
   "source": [
    "df_h_oeffnungsrate_reduziert = df_h_oeffnungsrate[[\"iid\", \"oeffnungsrate\"]]\n",
    "df_korrelation = pd.merge(df_t_CV, df_h_oeffnungsrate_reduziert, on = [\"iid\"])\n",
    "df_korrelation = df_korrelation.drop_duplicates()\n",
    "df_korrelation.head()"
   ]
  },
  {
   "cell_type": "markdown",
   "id": "c67d3dae",
   "metadata": {},
   "source": [
    "#### 6.5 Berechnung der Korrelation"
   ]
  },
  {
   "cell_type": "code",
   "execution_count": 23,
   "id": "4e8ef01f",
   "metadata": {
    "scrolled": true
   },
   "outputs": [
    {
     "name": "stdout",
     "output_type": "stream",
     "text": [
      "Korrelation zwischen pricetotal und oeffnungsrate\n"
     ]
    },
    {
     "data": {
      "text/html": [
       "<div>\n",
       "<style scoped>\n",
       "    .dataframe tbody tr th:only-of-type {\n",
       "        vertical-align: middle;\n",
       "    }\n",
       "\n",
       "    .dataframe tbody tr th {\n",
       "        vertical-align: top;\n",
       "    }\n",
       "\n",
       "    .dataframe thead th {\n",
       "        text-align: right;\n",
       "    }\n",
       "</style>\n",
       "<table border=\"1\" class=\"dataframe\">\n",
       "  <thead>\n",
       "    <tr style=\"text-align: right;\">\n",
       "      <th></th>\n",
       "      <th>pricetotal</th>\n",
       "      <th>oeffnungsrate</th>\n",
       "    </tr>\n",
       "  </thead>\n",
       "  <tbody>\n",
       "    <tr>\n",
       "      <th>pricetotal</th>\n",
       "      <td>1.000000</td>\n",
       "      <td>0.007903</td>\n",
       "    </tr>\n",
       "    <tr>\n",
       "      <th>oeffnungsrate</th>\n",
       "      <td>0.007903</td>\n",
       "      <td>1.000000</td>\n",
       "    </tr>\n",
       "  </tbody>\n",
       "</table>\n",
       "</div>"
      ],
      "text/plain": [
       "               pricetotal  oeffnungsrate\n",
       "pricetotal       1.000000       0.007903\n",
       "oeffnungsrate    0.007903       1.000000"
      ]
     },
     "execution_count": 23,
     "metadata": {},
     "output_type": "execute_result"
    }
   ],
   "source": [
    "correlation = df_korrelation[[\"pricetotal\", \"oeffnungsrate\"]].corr(method='pearson')\n",
    "print(\"Korrelation zwischen pricetotal und oeffnungsrate\")\n",
    "correlation\n",
    "\n",
    "#sns.heatmap(df_korrelation[[\"pricetotal\", \"oeffnungsrate\"]].corr(method='pearson'),annot=True)"
   ]
  },
  {
   "cell_type": "markdown",
   "id": "a5eac591",
   "metadata": {},
   "source": [
    "# 7. Korrelation Öffnungsrate und Costumer Value von Kunden seit Einführung der EMS mit standardisierten Variablen"
   ]
  },
  {
   "cell_type": "code",
   "execution_count": 24,
   "id": "0931f9c1",
   "metadata": {},
   "outputs": [
    {
     "data": {
      "text/html": [
       "<div>\n",
       "<style scoped>\n",
       "    .dataframe tbody tr th:only-of-type {\n",
       "        vertical-align: middle;\n",
       "    }\n",
       "\n",
       "    .dataframe tbody tr th {\n",
       "        vertical-align: top;\n",
       "    }\n",
       "\n",
       "    .dataframe thead th {\n",
       "        text-align: right;\n",
       "    }\n",
       "</style>\n",
       "<table border=\"1\" class=\"dataframe\">\n",
       "  <thead>\n",
       "    <tr style=\"text-align: right;\">\n",
       "      <th></th>\n",
       "      <th>iid</th>\n",
       "      <th>pricetotal</th>\n",
       "      <th>oeffnungsrate</th>\n",
       "      <th>pricetotal_standard</th>\n",
       "      <th>oeffnungsrate_standard</th>\n",
       "    </tr>\n",
       "  </thead>\n",
       "  <tbody>\n",
       "    <tr>\n",
       "      <th>0</th>\n",
       "      <td>163094976</td>\n",
       "      <td>280.0</td>\n",
       "      <td>1.500000</td>\n",
       "      <td>0.272380</td>\n",
       "      <td>-0.337025</td>\n",
       "    </tr>\n",
       "    <tr>\n",
       "      <th>85</th>\n",
       "      <td>163095518</td>\n",
       "      <td>74.0</td>\n",
       "      <td>1.954545</td>\n",
       "      <td>-0.335753</td>\n",
       "      <td>-0.228957</td>\n",
       "    </tr>\n",
       "    <tr>\n",
       "      <th>150</th>\n",
       "      <td>163095607</td>\n",
       "      <td>100.0</td>\n",
       "      <td>1.826087</td>\n",
       "      <td>-0.258998</td>\n",
       "      <td>-0.259498</td>\n",
       "    </tr>\n",
       "    <tr>\n",
       "      <th>215</th>\n",
       "      <td>163095722</td>\n",
       "      <td>238.2</td>\n",
       "      <td>3.136364</td>\n",
       "      <td>0.148982</td>\n",
       "      <td>0.052021</td>\n",
       "    </tr>\n",
       "    <tr>\n",
       "      <th>306</th>\n",
       "      <td>163097142</td>\n",
       "      <td>10.0</td>\n",
       "      <td>0.875000</td>\n",
       "      <td>-0.524688</td>\n",
       "      <td>-0.485619</td>\n",
       "    </tr>\n",
       "  </tbody>\n",
       "</table>\n",
       "</div>"
      ],
      "text/plain": [
       "           iid  pricetotal  oeffnungsrate  pricetotal_standard  \\\n",
       "0    163094976       280.0       1.500000             0.272380   \n",
       "85   163095518        74.0       1.954545            -0.335753   \n",
       "150  163095607       100.0       1.826087            -0.258998   \n",
       "215  163095722       238.2       3.136364             0.148982   \n",
       "306  163097142        10.0       0.875000            -0.524688   \n",
       "\n",
       "     oeffnungsrate_standard  \n",
       "0                 -0.337025  \n",
       "85                -0.228957  \n",
       "150               -0.259498  \n",
       "215                0.052021  \n",
       "306               -0.485619  "
      ]
     },
     "execution_count": 24,
     "metadata": {},
     "output_type": "execute_result"
    }
   ],
   "source": [
    "df_korrelation[[\"pricetotal_standard\",\"oeffnungsrate_standard\"]] =\\\n",
    "            (df_korrelation[[\"pricetotal\",\"oeffnungsrate\"]] - df_korrelation[[\"pricetotal\",\"oeffnungsrate\"]].mean())\\\n",
    "            /df_korrelation[[\"pricetotal\",\"oeffnungsrate\"]].std()\n",
    "df_korrelation.head()"
   ]
  },
  {
   "cell_type": "code",
   "execution_count": 25,
   "id": "77b70d96",
   "metadata": {},
   "outputs": [
    {
     "name": "stdout",
     "output_type": "stream",
     "text": [
      "Korrelation zwischen pricetotal und oeffnungsrate\n"
     ]
    },
    {
     "data": {
      "text/plain": [
       "0.00790278592386889"
      ]
     },
     "execution_count": 25,
     "metadata": {},
     "output_type": "execute_result"
    }
   ],
   "source": [
    "corr = df_korrelation['pricetotal_standard'].corr(df_korrelation['oeffnungsrate_standard'])\n",
    "print(\"Korrelation zwischen pricetotal und oeffnungsrate\")\n",
    "corr"
   ]
  },
  {
   "cell_type": "markdown",
   "id": "c3626a77",
   "metadata": {},
   "source": [
    "# 8. Betrachtung der Korrelation für verschiedene Gruppen von Kunden (Einteilung über den CV der vorangegegangenen 5 Jahren)\n",
    "#### Idee: die geringe Korrelation hat möglicherweise damit zu tun, dass es viele \"Einmalkunden\" gibt"
   ]
  },
  {
   "cell_type": "markdown",
   "id": "6ee147aa",
   "metadata": {},
   "source": [
    "#### 8.1 Hinzufügen einer Spalte \"CV_letzte_5_jahre\" zu den trans df"
   ]
  },
  {
   "cell_type": "code",
   "execution_count": 26,
   "id": "95d26ece",
   "metadata": {},
   "outputs": [
    {
     "data": {
      "text/html": [
       "<div>\n",
       "<style scoped>\n",
       "    .dataframe tbody tr th:only-of-type {\n",
       "        vertical-align: middle;\n",
       "    }\n",
       "\n",
       "    .dataframe tbody tr th {\n",
       "        vertical-align: top;\n",
       "    }\n",
       "\n",
       "    .dataframe thead th {\n",
       "        text-align: right;\n",
       "    }\n",
       "</style>\n",
       "<table border=\"1\" class=\"dataframe\">\n",
       "  <thead>\n",
       "    <tr style=\"text-align: right;\">\n",
       "      <th></th>\n",
       "      <th>iid</th>\n",
       "      <th>pricetotal</th>\n",
       "      <th>date</th>\n",
       "    </tr>\n",
       "  </thead>\n",
       "  <tbody>\n",
       "    <tr>\n",
       "      <th>6</th>\n",
       "      <td>164989410</td>\n",
       "      <td>16.0</td>\n",
       "      <td>2019-04-09 10:51:00</td>\n",
       "    </tr>\n",
       "    <tr>\n",
       "      <th>7</th>\n",
       "      <td>164989410</td>\n",
       "      <td>16.0</td>\n",
       "      <td>2019-04-09 10:51:00</td>\n",
       "    </tr>\n",
       "    <tr>\n",
       "      <th>8</th>\n",
       "      <td>164989410</td>\n",
       "      <td>25.0</td>\n",
       "      <td>2019-11-06 09:28:00</td>\n",
       "    </tr>\n",
       "    <tr>\n",
       "      <th>9</th>\n",
       "      <td>164989410</td>\n",
       "      <td>25.0</td>\n",
       "      <td>2019-11-06 09:28:00</td>\n",
       "    </tr>\n",
       "    <tr>\n",
       "      <th>10</th>\n",
       "      <td>164989410</td>\n",
       "      <td>18.0</td>\n",
       "      <td>2021-08-03 13:15:00</td>\n",
       "    </tr>\n",
       "  </tbody>\n",
       "</table>\n",
       "</div>"
      ],
      "text/plain": [
       "          iid  pricetotal                date\n",
       "6   164989410        16.0 2019-04-09 10:51:00\n",
       "7   164989410        16.0 2019-04-09 10:51:00\n",
       "8   164989410        25.0 2019-11-06 09:28:00\n",
       "9   164989410        25.0 2019-11-06 09:28:00\n",
       "10  164989410        18.0 2021-08-03 13:15:00"
      ]
     },
     "execution_count": 26,
     "metadata": {},
     "output_type": "execute_result"
    }
   ],
   "source": [
    "datum_vor_5_jahren = einfuehrung - timedelta(days=365*5)\n",
    "df_t_5_Jahre_davor = df_t_ohne_redundanz.query('@datum_vor_5_jahren <= date <= @einfuehrung')\n",
    "df_t_5_Jahre_davor.head()"
   ]
  },
  {
   "cell_type": "code",
   "execution_count": 27,
   "id": "bbd6704e",
   "metadata": {},
   "outputs": [
    {
     "data": {
      "text/html": [
       "<div>\n",
       "<style scoped>\n",
       "    .dataframe tbody tr th:only-of-type {\n",
       "        vertical-align: middle;\n",
       "    }\n",
       "\n",
       "    .dataframe tbody tr th {\n",
       "        vertical-align: top;\n",
       "    }\n",
       "\n",
       "    .dataframe thead th {\n",
       "        text-align: right;\n",
       "    }\n",
       "</style>\n",
       "<table border=\"1\" class=\"dataframe\">\n",
       "  <thead>\n",
       "    <tr style=\"text-align: right;\">\n",
       "      <th></th>\n",
       "      <th>iid</th>\n",
       "      <th>CV_letzte_5_jahre</th>\n",
       "    </tr>\n",
       "  </thead>\n",
       "  <tbody>\n",
       "    <tr>\n",
       "      <th>0</th>\n",
       "      <td>163094976</td>\n",
       "      <td>154.0</td>\n",
       "    </tr>\n",
       "    <tr>\n",
       "      <th>1</th>\n",
       "      <td>163095007</td>\n",
       "      <td>144.0</td>\n",
       "    </tr>\n",
       "    <tr>\n",
       "      <th>2</th>\n",
       "      <td>163095129</td>\n",
       "      <td>50.0</td>\n",
       "    </tr>\n",
       "    <tr>\n",
       "      <th>3</th>\n",
       "      <td>163095218</td>\n",
       "      <td>85.8</td>\n",
       "    </tr>\n",
       "    <tr>\n",
       "      <th>4</th>\n",
       "      <td>163095249</td>\n",
       "      <td>44.0</td>\n",
       "    </tr>\n",
       "  </tbody>\n",
       "</table>\n",
       "</div>"
      ],
      "text/plain": [
       "         iid  CV_letzte_5_jahre\n",
       "0  163094976              154.0\n",
       "1  163095007              144.0\n",
       "2  163095129               50.0\n",
       "3  163095218               85.8\n",
       "4  163095249               44.0"
      ]
     },
     "execution_count": 27,
     "metadata": {},
     "output_type": "execute_result"
    }
   ],
   "source": [
    "df_t_5_Jahre_davor_CV = df_t_5_Jahre_davor.groupby(['iid'])['pricetotal'].agg('sum').to_frame().reset_index()\n",
    "df_t_5_Jahre_davor_CV.rename(columns = {\"pricetotal\":\"CV_letzte_5_jahre\"}, inplace = True)\n",
    "df_t_5_Jahre_davor_CV.head()"
   ]
  },
  {
   "cell_type": "code",
   "execution_count": 28,
   "id": "b852df69",
   "metadata": {},
   "outputs": [
    {
     "data": {
      "text/html": [
       "<div>\n",
       "<style scoped>\n",
       "    .dataframe tbody tr th:only-of-type {\n",
       "        vertical-align: middle;\n",
       "    }\n",
       "\n",
       "    .dataframe tbody tr th {\n",
       "        vertical-align: top;\n",
       "    }\n",
       "\n",
       "    .dataframe thead th {\n",
       "        text-align: right;\n",
       "    }\n",
       "</style>\n",
       "<table border=\"1\" class=\"dataframe\">\n",
       "  <thead>\n",
       "    <tr style=\"text-align: right;\">\n",
       "      <th></th>\n",
       "      <th>iid</th>\n",
       "      <th>pricetotal</th>\n",
       "      <th>oeffnungsrate</th>\n",
       "      <th>CV_letzte_5_jahre</th>\n",
       "    </tr>\n",
       "  </thead>\n",
       "  <tbody>\n",
       "    <tr>\n",
       "      <th>0</th>\n",
       "      <td>163094976</td>\n",
       "      <td>280.0</td>\n",
       "      <td>1.500000</td>\n",
       "      <td>154.0</td>\n",
       "    </tr>\n",
       "    <tr>\n",
       "      <th>1</th>\n",
       "      <td>163095518</td>\n",
       "      <td>74.0</td>\n",
       "      <td>1.954545</td>\n",
       "      <td>96.0</td>\n",
       "    </tr>\n",
       "    <tr>\n",
       "      <th>2</th>\n",
       "      <td>163095607</td>\n",
       "      <td>100.0</td>\n",
       "      <td>1.826087</td>\n",
       "      <td>145.0</td>\n",
       "    </tr>\n",
       "    <tr>\n",
       "      <th>3</th>\n",
       "      <td>163097142</td>\n",
       "      <td>10.0</td>\n",
       "      <td>0.875000</td>\n",
       "      <td>108.0</td>\n",
       "    </tr>\n",
       "    <tr>\n",
       "      <th>4</th>\n",
       "      <td>163097594</td>\n",
       "      <td>116.0</td>\n",
       "      <td>0.545455</td>\n",
       "      <td>173.0</td>\n",
       "    </tr>\n",
       "  </tbody>\n",
       "</table>\n",
       "</div>"
      ],
      "text/plain": [
       "         iid  pricetotal  oeffnungsrate  CV_letzte_5_jahre\n",
       "0  163094976       280.0       1.500000              154.0\n",
       "1  163095518        74.0       1.954545               96.0\n",
       "2  163095607       100.0       1.826087              145.0\n",
       "3  163097142        10.0       0.875000              108.0\n",
       "4  163097594       116.0       0.545455              173.0"
      ]
     },
     "execution_count": 28,
     "metadata": {},
     "output_type": "execute_result"
    }
   ],
   "source": [
    "df_t_5_Jahre_davor_CV = pd.merge(df_korrelation[[\"iid\", \"pricetotal\", \"oeffnungsrate\"]], df_t_5_Jahre_davor_CV, on = [\"iid\"])\n",
    "df_t_5_Jahre_davor_CV.head()"
   ]
  },
  {
   "cell_type": "markdown",
   "id": "457d5486",
   "metadata": {},
   "source": [
    "#### 8.3 Korrelation in Abhängigkeit von CV"
   ]
  },
  {
   "cell_type": "code",
   "execution_count": 29,
   "id": "033415fa",
   "metadata": {},
   "outputs": [
    {
     "data": {
      "text/plain": [
       "<AxesSubplot:xlabel='obergrenze'>"
      ]
     },
     "execution_count": 29,
     "metadata": {},
     "output_type": "execute_result"
    },
    {
     "data": {
      "image/png": "[encoded data removed]",
      "text/plain": [
       "<Figure size 640x480 with 1 Axes>"
      ]
     },
     "metadata": {},
     "output_type": "display_data"
    }
   ],
   "source": [
    "# Erstelle leeren DataFrame\n",
    "df_korrelation_mit_CV_davor_zusammen = pd.DataFrame()\n",
    "# Liste zum Sammeln der neuen Zeilen\n",
    "rows = []\n",
    "\n",
    "for i in range(40):\n",
    "    schritte = 40\n",
    "    darunter = schritte * i\n",
    "    darüber = schritte * (i + 1)\n",
    "    df_korrelation_mit_CV_davor = df_t_5_Jahre_davor_CV.query(\"@darunter <= CV_letzte_5_jahre <= @darüber\")\n",
    "    corr = df_korrelation_mit_CV_davor['pricetotal'].corr(df_korrelation_mit_CV_davor['oeffnungsrate'])\n",
    "    data = {'obergrenze': darüber, 'corr': corr}\n",
    "    rows.append(data)\n",
    "\n",
    "df_korrelation_mit_CV_davor_zusammen = pd.DataFrame(rows)\n",
    "df_korrelation_mit_CV_davor_zusammen.plot(x = \"obergrenze\", y = \"corr\")"
   ]
  },
  {
   "cell_type": "code",
   "execution_count": 30,
   "id": "3b59b54e",
   "metadata": {},
   "outputs": [
    {
     "data": {
      "text/plain": [
       "<AxesSubplot:xlabel='obergrenze'>"
      ]
     },
     "execution_count": 30,
     "metadata": {},
     "output_type": "execute_result"
    },
    {
     "data": {
      "image/png": "[encoded data removed]",
      "text/plain": [
       "<Figure size 640x480 with 1 Axes>"
      ]
     },
     "metadata": {},
     "output_type": "display_data"
    }
   ],
   "source": [
    "# Erstelle leeren DataFrame\n",
    "df_korrelation_pValue_mit_CV_davor_zusammen = pd.DataFrame()\n",
    "# Liste zum Sammeln der neuen Zeilen\n",
    "rows = []\n",
    "\n",
    "for i in range(20):\n",
    "    schritte = 100\n",
    "    darunter = schritte * i\n",
    "    darüber = schritte * (i + 1)\n",
    "    df_korrelation_mit_CV_davor = df_t_5_Jahre_davor_CV.query(\"@darunter <= CV_letzte_5_jahre <= @darüber\")\n",
    "    r, p_value = pearsonr(df_korrelation_mit_CV_davor['pricetotal'], df_korrelation_mit_CV_davor['oeffnungsrate'])\n",
    "    data = {'obergrenze': darüber, 'corr': r, \"p_value\": p_value}\n",
    "    rows.append(data)\n",
    "\n",
    "df_korrelation_pValue_mit_CV_davor_zusammen = pd.DataFrame(rows)\n",
    "df_korrelation_pValue_mit_CV_davor_zusammen.plot(x = \"obergrenze\", y = [\"corr\", \"p_value\"])"
   ]
  },
  {
   "cell_type": "markdown",
   "id": "a590cd78",
   "metadata": {},
   "source": [
    "#### 8.4 Testen"
   ]
  },
  {
   "cell_type": "code",
   "execution_count": 31,
   "id": "d23f108a",
   "metadata": {
    "scrolled": true
   },
   "outputs": [
    {
     "data": {
      "text/plain": [
       "array([[<AxesSubplot:title={'center':'iid'}>,\n",
       "        <AxesSubplot:title={'center':'pricetotal'}>],\n",
       "       [<AxesSubplot:title={'center':'oeffnungsrate'}>,\n",
       "        <AxesSubplot:title={'center':'CV_letzte_5_jahre'}>]], dtype=object)"
      ]
     },
     "execution_count": 31,
     "metadata": {},
     "output_type": "execute_result"
    },
    {
     "data": {
      "image/png": "[encoded data removed]",
      "text/plain": [
       "<Figure size 640x480 with 4 Axes>"
      ]
     },
     "metadata": {},
     "output_type": "display_data"
    }
   ],
   "source": [
    "df_t_5_Jahre_davor_CV[df_t_5_Jahre_davor_CV[\"CV_letzte_5_jahre\"] < 2000].hist(bins = 100)"
   ]
  },
  {
   "cell_type": "code",
   "execution_count": 32,
   "id": "0ee1a532",
   "metadata": {},
   "outputs": [
    {
     "name": "stdout",
     "output_type": "stream",
     "text": [
      "<class 'pandas.core.series.Series'>\n",
      "Int64Index: 27699 entries, 0 to 27698\n",
      "Series name: CV_letzte_5_jahre\n",
      "Non-Null Count  Dtype  \n",
      "--------------  -----  \n",
      "27699 non-null  float64\n",
      "dtypes: float64(1)\n",
      "memory usage: 432.8 KB\n"
     ]
    }
   ],
   "source": [
    "df_t_5_Jahre_davor_CV[\"CV_letzte_5_jahre\"].info()"
   ]
  },
  {
   "cell_type": "code",
   "execution_count": 33,
   "id": "f68c0c5b",
   "metadata": {},
   "outputs": [
    {
     "data": {
      "text/plain": [
       "(array([1.022e+03, 1.199e+03, 1.125e+03, 9.590e+02, 1.166e+03, 8.390e+02,\n",
       "        8.660e+02, 7.770e+02, 7.690e+02, 2.209e+03, 7.010e+02, 7.860e+02,\n",
       "        6.750e+02, 7.640e+02, 9.060e+02, 5.600e+02, 5.890e+02, 5.340e+02,\n",
       "        4.510e+02, 1.435e+03, 3.390e+02, 4.210e+02, 3.520e+02, 4.670e+02,\n",
       "        5.530e+02, 3.000e+02, 3.350e+02, 2.750e+02, 2.820e+02, 1.740e+02,\n",
       "        8.060e+02, 1.920e+02, 2.350e+02, 2.460e+02, 1.480e+02, 2.580e+02,\n",
       "        1.890e+02, 1.330e+02, 1.220e+02, 8.100e+01, 4.980e+02, 9.500e+01,\n",
       "        1.000e+02, 8.700e+01, 7.300e+01, 1.610e+02, 9.500e+01, 6.500e+01,\n",
       "        5.500e+01, 5.000e+01, 3.060e+02, 3.700e+01, 5.100e+01, 6.400e+01,\n",
       "        2.800e+01, 8.300e+01, 5.200e+01, 2.300e+01, 3.100e+01, 2.800e+01,\n",
       "        1.910e+02, 2.000e+01, 1.900e+01, 3.400e+01, 2.300e+01, 4.800e+01,\n",
       "        1.400e+01, 2.900e+01, 1.800e+01, 1.300e+01, 1.320e+02, 7.000e+00,\n",
       "        1.300e+01, 2.200e+01, 1.600e+01, 3.200e+01, 1.200e+01, 2.000e+01,\n",
       "        1.300e+01, 5.000e+00, 1.020e+02, 7.000e+00, 1.100e+01, 9.000e+00,\n",
       "        1.000e+01, 2.200e+01, 8.000e+00, 8.000e+00, 9.000e+00, 7.000e+00,\n",
       "        8.600e+01, 1.000e+00, 6.000e+00, 9.000e+00, 2.000e+00, 1.100e+01,\n",
       "        5.000e+00, 4.000e+00, 5.000e+00, 4.000e+00]),\n",
       " array([0.02272727, 0.121875  , 0.22102273, 0.32017045, 0.41931818,\n",
       "        0.51846591, 0.61761364, 0.71676136, 0.81590909, 0.91505682,\n",
       "        1.01420455, 1.11335227, 1.2125    , 1.31164773, 1.41079545,\n",
       "        1.50994318, 1.60909091, 1.70823864, 1.80738636, 1.90653409,\n",
       "        2.00568182, 2.10482955, 2.20397727, 2.303125  , 2.40227273,\n",
       "        2.50142045, 2.60056818, 2.69971591, 2.79886364, 2.89801136,\n",
       "        2.99715909, 3.09630682, 3.19545455, 3.29460227, 3.39375   ,\n",
       "        3.49289773, 3.59204545, 3.69119318, 3.79034091, 3.88948864,\n",
       "        3.98863636, 4.08778409, 4.18693182, 4.28607955, 4.38522727,\n",
       "        4.484375  , 4.58352273, 4.68267045, 4.78181818, 4.88096591,\n",
       "        4.98011364, 5.07926136, 5.17840909, 5.27755682, 5.37670455,\n",
       "        5.47585227, 5.575     , 5.67414773, 5.77329545, 5.87244318,\n",
       "        5.97159091, 6.07073864, 6.16988636, 6.26903409, 6.36818182,\n",
       "        6.46732955, 6.56647727, 6.665625  , 6.76477273, 6.86392045,\n",
       "        6.96306818, 7.06221591, 7.16136364, 7.26051136, 7.35965909,\n",
       "        7.45880682, 7.55795455, 7.65710227, 7.75625   , 7.85539773,\n",
       "        7.95454545, 8.05369318, 8.15284091, 8.25198864, 8.35113636,\n",
       "        8.45028409, 8.54943182, 8.64857955, 8.74772727, 8.846875  ,\n",
       "        8.94602273, 9.04517045, 9.14431818, 9.24346591, 9.34261364,\n",
       "        9.44176136, 9.54090909, 9.64005682, 9.73920455, 9.83835227,\n",
       "        9.9375    ]),\n",
       " <BarContainer object of 100 artists>)"
      ]
     },
     "execution_count": 33,
     "metadata": {},
     "output_type": "execute_result"
    },
    {
     "data": {
      "image/png": "[encoded data removed]",
      "text/plain": [
       "<Figure size 640x480 with 1 Axes>"
      ]
     },
     "metadata": {},
     "output_type": "display_data"
    }
   ],
   "source": [
    "plt.hist(df_t_5_Jahre_davor_CV['oeffnungsrate'][df_t_5_Jahre_davor_CV['oeffnungsrate'] < 10], bins = 100)"
   ]
  },
  {
   "cell_type": "code",
   "execution_count": 34,
   "id": "26f12864",
   "metadata": {},
   "outputs": [
    {
     "name": "stdout",
     "output_type": "stream",
     "text": [
      "Kendall's tau:  0.07766179970585901\n",
      "p-value:  1.1722639181001213e-82\n"
     ]
    }
   ],
   "source": [
    "x = df_t_5_Jahre_davor_CV['oeffnungsrate']\n",
    "y = df_t_5_Jahre_davor_CV['pricetotal']\n",
    "\n",
    "tau, p_value = kendalltau(x, y)\n",
    "print(\"Kendall's tau: \", tau)\n",
    "print(\"p-value: \", p_value)"
   ]
  },
  {
   "cell_type": "code",
   "execution_count": null,
   "id": "f31e4f2a",
   "metadata": {},
   "outputs": [],
   "source": []
  },
  {
   "cell_type": "code",
   "execution_count": null,
   "id": "bf7e7636",
   "metadata": {},
   "outputs": [],
   "source": []
  },
  {
   "cell_type": "code",
   "execution_count": null,
   "id": "2a6802d1",
   "metadata": {},
   "outputs": [],
   "source": []
  },
  {
   "cell_type": "code",
   "execution_count": null,
   "id": "92acab0b",
   "metadata": {},
   "outputs": [],
   "source": []
  },
  {
   "cell_type": "code",
   "execution_count": null,
   "id": "19c84f2f",
   "metadata": {},
   "outputs": [],
   "source": []
  },
  {
   "cell_type": "code",
   "execution_count": null,
   "id": "103eed17",
   "metadata": {},
   "outputs": [],
   "source": []
  },
  {
   "cell_type": "code",
   "execution_count": null,
   "id": "121e2711",
   "metadata": {},
   "outputs": [],
   "source": []
  }
 ],
 "metadata": {
  "kernelspec": {
   "display_name": "Python 3 (ipykernel)",
   "language": "python",
   "name": "python3"
  },
  "language_info": {
   "codemirror_mode": {
    "name": "ipython",
    "version": 3
   },
   "file_extension": ".py",
   "mimetype": "text/x-python",
   "name": "python",
   "nbconvert_exporter": "python",
   "pygments_lexer": "ipython3",
   "version": "3.9.13"
  }
 },
 "nbformat": 4,
 "nbformat_minor": 5
}
