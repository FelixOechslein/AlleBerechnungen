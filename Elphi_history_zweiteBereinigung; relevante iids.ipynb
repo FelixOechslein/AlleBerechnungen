{
 "cells": [
  {
   "cell_type": "code",
   "execution_count": 1,
   "id": "544c467b",
   "metadata": {},
   "outputs": [],
   "source": [
    "import pandas as pd\n",
    "import numpy as np\n",
    "import matplotlib.pyplot as plt\n",
    "import scipy.stats as stats\n",
    "import math\n",
    "import seaborn as sns\n",
    "from datetime import datetime, timedelta\n",
    "from scipy.stats import pearsonr\n",
    "from scipy.stats import kendalltau\n",
    "from scipy.stats import spearmanr\n",
    "import os"
   ]
  },
  {
   "cell_type": "code",
   "execution_count": 2,
   "id": "8ff62fc8",
   "metadata": {},
   "outputs": [],
   "source": [
    "df_history = pd.read_csv(\"C:/Users/felix.oechslein/Desktop/Analysen Elphi, Mai/verarbeitete_daten/\"\n",
    "                                    \"Elphi_history_ersteBereinigung.csv\")"
   ]
  },
  {
   "cell_type": "code",
   "execution_count": 3,
   "id": "2a2b8059",
   "metadata": {},
   "outputs": [],
   "source": [
    "df_relevante_iids = pd.read_csv(\"C:/Users/felix.oechslein/Desktop/Analysen Elphi, Mai/verarbeitete_daten/\" +\n",
    "                                    \"Elphi_transactions_zweiteBereinigung_iids.csv\")"
   ]
  },
  {
   "cell_type": "markdown",
   "id": "65129111",
   "metadata": {},
   "source": [
    "##### Relevante Kunden und Hist mergen"
   ]
  },
  {
   "cell_type": "code",
   "execution_count": 4,
   "id": "6b6b50d9",
   "metadata": {},
   "outputs": [
    {
     "data": {
      "text/html": [
       "<div>\n",
       "<style scoped>\n",
       "    .dataframe tbody tr th:only-of-type {\n",
       "        vertical-align: middle;\n",
       "    }\n",
       "\n",
       "    .dataframe tbody tr th {\n",
       "        vertical-align: top;\n",
       "    }\n",
       "\n",
       "    .dataframe thead th {\n",
       "        text-align: right;\n",
       "    }\n",
       "</style>\n",
       "<table border=\"1\" class=\"dataframe\">\n",
       "  <thead>\n",
       "    <tr style=\"text-align: right;\">\n",
       "      <th></th>\n",
       "      <th>iid</th>\n",
       "      <th>attrtype</th>\n",
       "      <th>akey</th>\n",
       "      <th>date</th>\n",
       "      <th>text</th>\n",
       "      <th>month_count</th>\n",
       "    </tr>\n",
       "  </thead>\n",
       "  <tbody>\n",
       "    <tr>\n",
       "      <th>0</th>\n",
       "      <td>163094976</td>\n",
       "      <td>HY</td>\n",
       "      <td>248941187</td>\n",
       "      <td>2022-04-12 22:31:07</td>\n",
       "      <td>|msg=2122 NL Konzerte 220412|subject=Musikfest...</td>\n",
       "      <td>0</td>\n",
       "    </tr>\n",
       "    <tr>\n",
       "      <th>1</th>\n",
       "      <td>163094976</td>\n",
       "      <td>HY</td>\n",
       "      <td>250740360</td>\n",
       "      <td>2022-04-21 13:17:09</td>\n",
       "      <td>|msg=2122 NL Konzerte 220421|subject=Sommer-Pr...</td>\n",
       "      <td>0</td>\n",
       "    </tr>\n",
       "    <tr>\n",
       "      <th>2</th>\n",
       "      <td>163094976</td>\n",
       "      <td>NO</td>\n",
       "      <td>250740360</td>\n",
       "      <td>2022-04-24 14:57:59</td>\n",
       "      <td>|msg=2122 NL Konzerte 220421|userAgent=Firefox...</td>\n",
       "      <td>0</td>\n",
       "    </tr>\n",
       "    <tr>\n",
       "      <th>3</th>\n",
       "      <td>163094976</td>\n",
       "      <td>HY</td>\n",
       "      <td>252063005</td>\n",
       "      <td>2022-04-26 17:12:51</td>\n",
       "      <td>|msg=2122 NL Konzerte 220426|subject=Open+Air+...</td>\n",
       "      <td>0</td>\n",
       "    </tr>\n",
       "    <tr>\n",
       "      <th>4</th>\n",
       "      <td>163094976</td>\n",
       "      <td>NO</td>\n",
       "      <td>252063005</td>\n",
       "      <td>2022-04-26 17:13:45</td>\n",
       "      <td>|msg=2122 NL Konzerte 220426|userAgent=Chrome ...</td>\n",
       "      <td>0</td>\n",
       "    </tr>\n",
       "  </tbody>\n",
       "</table>\n",
       "</div>"
      ],
      "text/plain": [
       "         iid attrtype       akey                 date  \\\n",
       "0  163094976       HY  248941187  2022-04-12 22:31:07   \n",
       "1  163094976       HY  250740360  2022-04-21 13:17:09   \n",
       "2  163094976       NO  250740360  2022-04-24 14:57:59   \n",
       "3  163094976       HY  252063005  2022-04-26 17:12:51   \n",
       "4  163094976       NO  252063005  2022-04-26 17:13:45   \n",
       "\n",
       "                                                text  month_count  \n",
       "0  |msg=2122 NL Konzerte 220412|subject=Musikfest...            0  \n",
       "1  |msg=2122 NL Konzerte 220421|subject=Sommer-Pr...            0  \n",
       "2  |msg=2122 NL Konzerte 220421|userAgent=Firefox...            0  \n",
       "3  |msg=2122 NL Konzerte 220426|subject=Open+Air+...            0  \n",
       "4  |msg=2122 NL Konzerte 220426|userAgent=Chrome ...            0  "
      ]
     },
     "execution_count": 4,
     "metadata": {},
     "output_type": "execute_result"
    }
   ],
   "source": [
    "df_h = pd.merge(df_history, df_relevante_iids, on = [\"iid\"])\n",
    "df_h.head()"
   ]
  },
  {
   "cell_type": "markdown",
   "id": "848ea43d",
   "metadata": {},
   "source": [
    "##### Erstellung des \"df_neueSpalte\" für die Betrachtung sämtlicher Infos zwischen den \"|\""
   ]
  },
  {
   "cell_type": "code",
   "execution_count": 5,
   "id": "c7e7b47a",
   "metadata": {},
   "outputs": [],
   "source": [
    "neueSpalten = [ line.strip().split('|') for line in df_h[\"text\"] ]"
   ]
  },
  {
   "cell_type": "markdown",
   "id": "0c142733",
   "metadata": {},
   "source": [
    "##### Ein neues DataFrame df_user_agent und eine neue Spalte \"User agent\", die noch sämtliche Informationen danach enthält"
   ]
  },
  {
   "cell_type": "code",
   "execution_count": 19,
   "id": "9fb57d36",
   "metadata": {},
   "outputs": [],
   "source": [
    "df_user_agent = pd.DataFrame()\n",
    "df_user_agent[\"User Agent\"] = df_h[\"text\"].str.extract(r'userAgent=(.*)', expand=False)\n",
    "df_user_agent[\"User Agent\"] = df_user_agent[\"User Agent\"].apply(lambda zeile: zeile.split(\"|\")[0] if isinstance(zeile, str) else zeile)"
   ]
  },
  {
   "cell_type": "code",
   "execution_count": 20,
   "id": "75efd239",
   "metadata": {},
   "outputs": [
    {
     "data": {
      "text/html": [
       "<div>\n",
       "<style scoped>\n",
       "    .dataframe tbody tr th:only-of-type {\n",
       "        vertical-align: middle;\n",
       "    }\n",
       "\n",
       "    .dataframe tbody tr th {\n",
       "        vertical-align: top;\n",
       "    }\n",
       "\n",
       "    .dataframe thead th {\n",
       "        text-align: right;\n",
       "    }\n",
       "</style>\n",
       "<table border=\"1\" class=\"dataframe\">\n",
       "  <thead>\n",
       "    <tr style=\"text-align: right;\">\n",
       "      <th></th>\n",
       "      <th>User Agent</th>\n",
       "    </tr>\n",
       "  </thead>\n",
       "  <tbody>\n",
       "    <tr>\n",
       "      <th>0</th>\n",
       "      <td>NaN</td>\n",
       "    </tr>\n",
       "    <tr>\n",
       "      <th>1</th>\n",
       "      <td>NaN</td>\n",
       "    </tr>\n",
       "    <tr>\n",
       "      <th>2</th>\n",
       "      <td>Firefox 99.0 (Windows 7 / Personal computer)</td>\n",
       "    </tr>\n",
       "    <tr>\n",
       "      <th>3</th>\n",
       "      <td>NaN</td>\n",
       "    </tr>\n",
       "    <tr>\n",
       "      <th>4</th>\n",
       "      <td>Chrome Mobile 100.0 (Android / Smartphone)</td>\n",
       "    </tr>\n",
       "  </tbody>\n",
       "</table>\n",
       "</div>"
      ],
      "text/plain": [
       "                                     User Agent\n",
       "0                                           NaN\n",
       "1                                           NaN\n",
       "2  Firefox 99.0 (Windows 7 / Personal computer)\n",
       "3                                           NaN\n",
       "4    Chrome Mobile 100.0 (Android / Smartphone)"
      ]
     },
     "execution_count": 20,
     "metadata": {},
     "output_type": "execute_result"
    }
   ],
   "source": [
    "df_user_agent.head()"
   ]
  },
  {
   "cell_type": "markdown",
   "id": "d07ed703",
   "metadata": {},
   "source": [
    "##### Ergänzung duch Infos für welche Datenpunkte Probleme bei der Genauigkeit der Öffnungsrate besteht"
   ]
  },
  {
   "cell_type": "code",
   "execution_count": 15,
   "id": "393069c1",
   "metadata": {},
   "outputs": [
    {
     "data": {
      "text/html": [
       "<div>\n",
       "<style scoped>\n",
       "    .dataframe tbody tr th:only-of-type {\n",
       "        vertical-align: middle;\n",
       "    }\n",
       "\n",
       "    .dataframe tbody tr th {\n",
       "        vertical-align: top;\n",
       "    }\n",
       "\n",
       "    .dataframe thead th {\n",
       "        text-align: right;\n",
       "    }\n",
       "</style>\n",
       "<table border=\"1\" class=\"dataframe\">\n",
       "  <thead>\n",
       "    <tr style=\"text-align: right;\">\n",
       "      <th></th>\n",
       "      <th>User Agent</th>\n",
       "      <th>unknown</th>\n",
       "      <th>Apple-Mail-Nutzer</th>\n",
       "      <th>Gmail-Nutzer</th>\n",
       "      <th>Proxy-Server</th>\n",
       "    </tr>\n",
       "  </thead>\n",
       "  <tbody>\n",
       "    <tr>\n",
       "      <th>0</th>\n",
       "      <td>unknown</td>\n",
       "      <td>True</td>\n",
       "      <td>False</td>\n",
       "      <td>False</td>\n",
       "      <td>False</td>\n",
       "    </tr>\n",
       "    <tr>\n",
       "      <th>1</th>\n",
       "      <td>unknown</td>\n",
       "      <td>True</td>\n",
       "      <td>False</td>\n",
       "      <td>False</td>\n",
       "      <td>False</td>\n",
       "    </tr>\n",
       "    <tr>\n",
       "      <th>2</th>\n",
       "      <td>Firefox 99.0 (Windows 7 / Personal computer)</td>\n",
       "      <td>False</td>\n",
       "      <td>False</td>\n",
       "      <td>False</td>\n",
       "      <td>False</td>\n",
       "    </tr>\n",
       "    <tr>\n",
       "      <th>3</th>\n",
       "      <td>unknown</td>\n",
       "      <td>True</td>\n",
       "      <td>False</td>\n",
       "      <td>False</td>\n",
       "      <td>False</td>\n",
       "    </tr>\n",
       "    <tr>\n",
       "      <th>4</th>\n",
       "      <td>Chrome Mobile 100.0 (Android / Smartphone)</td>\n",
       "      <td>False</td>\n",
       "      <td>False</td>\n",
       "      <td>False</td>\n",
       "      <td>False</td>\n",
       "    </tr>\n",
       "  </tbody>\n",
       "</table>\n",
       "</div>"
      ],
      "text/plain": [
       "                                     User Agent  unknown  Apple-Mail-Nutzer  \\\n",
       "0                                       unknown     True              False   \n",
       "1                                       unknown     True              False   \n",
       "2  Firefox 99.0 (Windows 7 / Personal computer)    False              False   \n",
       "3                                       unknown     True              False   \n",
       "4    Chrome Mobile 100.0 (Android / Smartphone)    False              False   \n",
       "\n",
       "   Gmail-Nutzer  Proxy-Server  \n",
       "0         False         False  \n",
       "1         False         False  \n",
       "2         False         False  \n",
       "3         False         False  \n",
       "4         False         False  "
      ]
     },
     "execution_count": 15,
     "metadata": {},
     "output_type": "execute_result"
    }
   ],
   "source": [
    "df_user_agent[\"User Agent\"].fillna(\"unknown\", inplace=True)\n",
    "df_user_agent_aufgeteilt = df_user_agent\n",
    "\n",
    "# Spalten mit Ja/Nein-Werten erstellen\n",
    "df_user_agent_aufgeteilt[\"unknown\"] = df_user_agent['User Agent'].str.contains('unknown', case=False)\n",
    "#df_user_agent_aufgeteilt['iOS-Nutzer'] = df_user_agent['User Agent'].str.contains('iOS', case=False)\n",
    "#df_user_agent_aufgeteilt['OS-X-Nutzer'] = df_user_agent['User Agent'].str.contains('OS X|Macintosh', case=False)\n",
    "df_user_agent_aufgeteilt['Apple-Mail-Nutzer'] = df_user_agent['User Agent'].str.contains('Apple Mail', case=False)\n",
    "df_user_agent_aufgeteilt['Gmail-Nutzer'] = df_user_agent['User Agent'].str.contains('Gmail', case=False)\n",
    "df_user_agent_aufgeteilt['Proxy-Server'] = df_user_agent['User Agent'].str.contains('Proxy', case=False)\n",
    "df_user_agent_aufgeteilt.head()"
   ]
  },
  {
   "cell_type": "code",
   "execution_count": 18,
   "id": "04d726cd",
   "metadata": {},
   "outputs": [
    {
     "name": "stdout",
     "output_type": "stream",
     "text": [
      "True     167763\n",
      "False     45171\n",
      "Name: unknown, dtype: int64\n",
      "False    208894\n",
      "True       4040\n",
      "Name: Apple-Mail-Nutzer, dtype: int64\n",
      "False    209278\n",
      "True       3656\n",
      "Name: Gmail-Nutzer, dtype: int64\n",
      "False    209278\n",
      "True       3656\n",
      "Name: Proxy-Server, dtype: int64\n"
     ]
    }
   ],
   "source": [
    "for col in df_user_agent.columns[1:]:\n",
    "    print(df_user_agent[col].value_counts())"
   ]
  },
  {
   "cell_type": "code",
   "execution_count": null,
   "id": "1f4b90fc",
   "metadata": {},
   "outputs": [],
   "source": []
  }
 ],
 "metadata": {
  "kernelspec": {
   "display_name": "Python 3 (ipykernel)",
   "language": "python",
   "name": "python3"
  },
  "language_info": {
   "codemirror_mode": {
    "name": "ipython",
    "version": 3
   },
   "file_extension": ".py",
   "mimetype": "text/x-python",
   "name": "python",
   "nbconvert_exporter": "python",
   "pygments_lexer": "ipython3",
   "version": "3.9.13"
  }
 },
 "nbformat": 4,
 "nbformat_minor": 5
}
