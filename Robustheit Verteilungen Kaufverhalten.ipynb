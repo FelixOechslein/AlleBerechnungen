{
 "cells": [
  {
   "cell_type": "code",
   "execution_count": 1,
   "id": "580ad7dc",
   "metadata": {},
   "outputs": [],
   "source": [
    "from scipy.stats import nbinom, binom, poisson\n",
    "from statsmodels.discrete.count_model import ZeroInflatedNegativeBinomialP\n",
    "import pandas as pd\n",
    "import numpy as np\n",
    "import matplotlib.pyplot as plt\n",
    "import scipy.stats as stats\n",
    "import math\n",
    "import seaborn as sns\n",
    "from datetime import datetime, timedelta\n",
    "from scipy.stats import pearsonr\n",
    "from scipy.stats import kendalltau\n",
    "from scipy.stats import spearmanr\n",
    "import os\n",
    "from scipy.optimize import minimize, Bounds\n",
    "import inspect\n",
    "from scipy.stats import poisson\n",
    "from scipy.stats import chisquare\n",
    "import statsmodels as sm\n",
    "from scipy.optimize import minimize"
   ]
  },
  {
   "cell_type": "code",
   "execution_count": 2,
   "id": "69bdfacd",
   "metadata": {},
   "outputs": [],
   "source": [
    "path = x\n",
    "filename = 'Pivot_Trans_Privat_ohneApple_Langzeitkunde.csv'\n",
    "\n",
    "df_trans_werte = pd.read_csv(os.path.join(path, filename))"
   ]
  },
  {
   "cell_type": "code",
   "execution_count": 3,
   "id": "983e94e6",
   "metadata": {},
   "outputs": [
    {
     "data": {
      "text/html": [
       "<div>\n",
       "<style scoped>\n",
       "    .dataframe tbody tr th:only-of-type {\n",
       "        vertical-align: middle;\n",
       "    }\n",
       "\n",
       "    .dataframe tbody tr th {\n",
       "        vertical-align: top;\n",
       "    }\n",
       "\n",
       "    .dataframe thead th {\n",
       "        text-align: right;\n",
       "    }\n",
       "</style>\n",
       "<table border=\"1\" class=\"dataframe\">\n",
       "  <thead>\n",
       "    <tr style=\"text-align: right;\">\n",
       "      <th></th>\n",
       "      <th>iid</th>\n",
       "      <th>1</th>\n",
       "      <th>2</th>\n",
       "      <th>3</th>\n",
       "      <th>4</th>\n",
       "      <th>5</th>\n",
       "      <th>6</th>\n",
       "      <th>7</th>\n",
       "      <th>8</th>\n",
       "      <th>9</th>\n",
       "      <th>10</th>\n",
       "      <th>11</th>\n",
       "      <th>12</th>\n",
       "      <th>13</th>\n",
       "      <th>14</th>\n",
       "      <th>15</th>\n",
       "    </tr>\n",
       "  </thead>\n",
       "  <tbody>\n",
       "    <tr>\n",
       "      <th>0</th>\n",
       "      <td>100056041</td>\n",
       "      <td>1.0</td>\n",
       "      <td>0.0</td>\n",
       "      <td>0.0</td>\n",
       "      <td>0.0</td>\n",
       "      <td>0.0</td>\n",
       "      <td>0.0</td>\n",
       "      <td>0.0</td>\n",
       "      <td>0.0</td>\n",
       "      <td>0.0</td>\n",
       "      <td>0.0</td>\n",
       "      <td>0.0</td>\n",
       "      <td>0.0</td>\n",
       "      <td>0.0</td>\n",
       "      <td>1.0</td>\n",
       "      <td>0.0</td>\n",
       "    </tr>\n",
       "    <tr>\n",
       "      <th>1</th>\n",
       "      <td>100057957</td>\n",
       "      <td>1.0</td>\n",
       "      <td>1.0</td>\n",
       "      <td>0.0</td>\n",
       "      <td>1.0</td>\n",
       "      <td>0.0</td>\n",
       "      <td>1.0</td>\n",
       "      <td>0.0</td>\n",
       "      <td>1.0</td>\n",
       "      <td>0.0</td>\n",
       "      <td>0.0</td>\n",
       "      <td>0.0</td>\n",
       "      <td>1.0</td>\n",
       "      <td>0.0</td>\n",
       "      <td>1.0</td>\n",
       "      <td>1.0</td>\n",
       "    </tr>\n",
       "    <tr>\n",
       "      <th>2</th>\n",
       "      <td>100059553</td>\n",
       "      <td>2.0</td>\n",
       "      <td>0.0</td>\n",
       "      <td>0.0</td>\n",
       "      <td>0.0</td>\n",
       "      <td>0.0</td>\n",
       "      <td>1.0</td>\n",
       "      <td>0.0</td>\n",
       "      <td>0.0</td>\n",
       "      <td>1.0</td>\n",
       "      <td>0.0</td>\n",
       "      <td>0.0</td>\n",
       "      <td>0.0</td>\n",
       "      <td>0.0</td>\n",
       "      <td>0.0</td>\n",
       "      <td>0.0</td>\n",
       "    </tr>\n",
       "    <tr>\n",
       "      <th>3</th>\n",
       "      <td>100062565</td>\n",
       "      <td>4.0</td>\n",
       "      <td>0.0</td>\n",
       "      <td>1.0</td>\n",
       "      <td>3.0</td>\n",
       "      <td>2.0</td>\n",
       "      <td>1.0</td>\n",
       "      <td>1.0</td>\n",
       "      <td>2.0</td>\n",
       "      <td>1.0</td>\n",
       "      <td>1.0</td>\n",
       "      <td>0.0</td>\n",
       "      <td>1.0</td>\n",
       "      <td>2.0</td>\n",
       "      <td>3.0</td>\n",
       "      <td>0.0</td>\n",
       "    </tr>\n",
       "    <tr>\n",
       "      <th>4</th>\n",
       "      <td>100062713</td>\n",
       "      <td>2.0</td>\n",
       "      <td>0.0</td>\n",
       "      <td>0.0</td>\n",
       "      <td>0.0</td>\n",
       "      <td>0.0</td>\n",
       "      <td>0.0</td>\n",
       "      <td>0.0</td>\n",
       "      <td>1.0</td>\n",
       "      <td>0.0</td>\n",
       "      <td>0.0</td>\n",
       "      <td>0.0</td>\n",
       "      <td>0.0</td>\n",
       "      <td>0.0</td>\n",
       "      <td>0.0</td>\n",
       "      <td>0.0</td>\n",
       "    </tr>\n",
       "  </tbody>\n",
       "</table>\n",
       "</div>"
      ],
      "text/plain": [
       "         iid    1    2    3    4    5    6    7    8    9   10   11   12   13  \\\n",
       "0  100056041  1.0  0.0  0.0  0.0  0.0  0.0  0.0  0.0  0.0  0.0  0.0  0.0  0.0   \n",
       "1  100057957  1.0  1.0  0.0  1.0  0.0  1.0  0.0  1.0  0.0  0.0  0.0  1.0  0.0   \n",
       "2  100059553  2.0  0.0  0.0  0.0  0.0  1.0  0.0  0.0  1.0  0.0  0.0  0.0  0.0   \n",
       "3  100062565  4.0  0.0  1.0  3.0  2.0  1.0  1.0  2.0  1.0  1.0  0.0  1.0  2.0   \n",
       "4  100062713  2.0  0.0  0.0  0.0  0.0  0.0  0.0  1.0  0.0  0.0  0.0  0.0  0.0   \n",
       "\n",
       "    14   15  \n",
       "0  1.0  0.0  \n",
       "1  1.0  1.0  \n",
       "2  0.0  0.0  \n",
       "3  3.0  0.0  \n",
       "4  0.0  0.0  "
      ]
     },
     "execution_count": 3,
     "metadata": {},
     "output_type": "execute_result"
    }
   ],
   "source": [
    "df_trans_werte.head()"
   ]
  },
  {
   "cell_type": "code",
   "execution_count": 7,
   "id": "54e32f09",
   "metadata": {},
   "outputs": [
    {
     "data": {
      "image/png": "[encoded data removed]",
      "text/plain": [
       "<Figure size 640x480 with 1 Axes>"
      ]
     },
     "metadata": {},
     "output_type": "display_data"
    }
   ],
   "source": [
    "# Alle Spalten auswählen außer 'iid'\n",
    "columns_to_plot = df_trans_werte.columns[df_trans_werte.columns != 'iid']\n",
    "\n",
    "# Histogramm erstellen\n",
    "plt.hist(df_trans_werte[columns_to_plot].values.flatten(), bins=\"auto\")\n",
    "plt.xlabel('Werte')\n",
    "plt.ylabel('Anzahl')\n",
    "plt.title('Histogramm der Käufe pro Monat und Kunde')\n",
    "plt.savefig(\"C:/Users/felix.oechslein/Desktop/Analysen Thalia, Mai/Grafiken/\" +\n",
    "            'Histogramm_käufe.png', dpi=300)\n",
    "plt.show()"
   ]
  },
  {
   "cell_type": "code",
   "execution_count": 8,
   "id": "cbd18aa6",
   "metadata": {},
   "outputs": [
    {
     "data": {
      "text/plain": [
       "array([1., 0., 0., ..., 0., 0., 0.])"
      ]
     },
     "execution_count": 8,
     "metadata": {},
     "output_type": "execute_result"
    }
   ],
   "source": [
    "data = df_trans_werte[columns_to_plot].values.flatten()\n",
    "data"
   ]
  },
  {
   "cell_type": "markdown",
   "id": "45223228",
   "metadata": {},
   "source": [
    "# Definition der Daten und Ermittlung der empirischen cdf"
   ]
  },
  {
   "cell_type": "code",
   "execution_count": 9,
   "id": "b3e9f799",
   "metadata": {},
   "outputs": [],
   "source": [
    "int_data = data.astype(int)"
   ]
  },
  {
   "cell_type": "code",
   "execution_count": 10,
   "id": "dea07bcd",
   "metadata": {},
   "outputs": [],
   "source": [
    "ecdf = sm.distributions.ECDF(int_data)"
   ]
  },
  {
   "cell_type": "code",
   "execution_count": 11,
   "id": "544f0e60",
   "metadata": {},
   "outputs": [
    {
     "data": {
      "text/plain": [
       "array([0.93173735, 0.72412221, 0.72412221, ..., 0.72412221, 0.72412221,\n",
       "       0.72412221])"
      ]
     },
     "execution_count": 11,
     "metadata": {},
     "output_type": "execute_result"
    }
   ],
   "source": [
    "ecdf(int_data)"
   ]
  },
  {
   "cell_type": "markdown",
   "id": "4a51484b",
   "metadata": {},
   "source": [
    "# Optimierung ZINBD"
   ]
  },
  {
   "cell_type": "code",
   "execution_count": 12,
   "id": "86ec81b4",
   "metadata": {},
   "outputs": [
    {
     "name": "stdout",
     "output_type": "stream",
     "text": [
      "Geschätzte Parameter: [0.         0.36653535 1.29445745]\n",
      "True\n"
     ]
    }
   ],
   "source": [
    "def my_distribution_ZINBD(y, phi, lambdaY, r):\n",
    "    cdf = np.zeros_like(y, dtype=float)\n",
    "    if r > 0:\n",
    "        for i in range(len(y)):\n",
    "            for j in range(y[i] + 1):\n",
    "                if j == 0:\n",
    "                    pmf = phi + (1 - phi) * (1 + lambdaY / r)**(-r)\n",
    "                elif j > 0:\n",
    "                    numerator = math.gamma(j + r)\n",
    "                    denominator = math.factorial(j) * math.gamma(r)\n",
    "                    gamma_term = numerator / denominator\n",
    "                    pmf= (1 - phi) * gamma_term * (1 + lambdaY / r)**(-r) * (1 + r / lambdaY)**(-j)\n",
    "                cdf[i] += pmf\n",
    "    return cdf\n",
    "\n",
    "# Funktion zur Berechnung der Summe der quadratischen Abweichungen\n",
    "def squared_error(params):\n",
    "    phi, lambdaY, r = params\n",
    "    predicted_values = my_distribution_ZINBD(int_data, phi, lambdaY, r)\n",
    "    error = ecdf(int_data) - predicted_values\n",
    "    squared_error = np.sum(error**2)\n",
    "    return squared_error\n",
    "\n",
    "# Anfangsschätzwerte für die Parameter\n",
    "initial_guess = [1, 1, 1.5]\n",
    "# Grenzen (Bounds)\n",
    "bounds = [(0, 1), (0, 9999), (0,10)]\n",
    "\n",
    "\n",
    "# Parameter schätzen\n",
    "result = minimize(squared_error, initial_guess, bounds=bounds, method = \"L-BFGS-B\")\n",
    "\n",
    "# Geschätzte Parameter auslesen\n",
    "estimated_params_ZINBD = result.x\n",
    "\n",
    "# Ergebnis ausgeben\n",
    "print(\"Geschätzte Parameter:\", estimated_params_ZINBD)\n",
    "print(result.success)"
   ]
  },
  {
   "cell_type": "markdown",
   "id": "0f225415",
   "metadata": {},
   "source": [
    "# Optimierung NBD"
   ]
  },
  {
   "cell_type": "code",
   "execution_count": 13,
   "id": "25ea5fe6",
   "metadata": {},
   "outputs": [
    {
     "name": "stdout",
     "output_type": "stream",
     "text": [
      "Geschätzte Parameter: [1.2944842  0.77933162]\n",
      "True\n"
     ]
    }
   ],
   "source": [
    "# Funktion zur Berechnung der Summe der quadratischen Abweichungen\n",
    "def squared_error_nbinom(params):\n",
    "    n, p = params\n",
    "    predicted_values = nbinom.cdf(int_data, n, p)\n",
    "    error = ecdf(int_data) - predicted_values\n",
    "    squared_error = np.sum(error**2)\n",
    "    return squared_error\n",
    "\n",
    "# Anfangsschätzwerte für die Parameter\n",
    "initial_guess = [3, 0.3]\n",
    "# Grenzen (Bounds)\n",
    "bounds = [(0, 9999), (0, 9999)]\n",
    "\n",
    "# Parameter schätzen\n",
    "result = minimize(squared_error_nbinom, initial_guess, bounds=bounds, method = \"Nelder-Mead\")\n",
    "\n",
    "# Geschätzte Parameter auslesen\n",
    "estimated_params_NBD = result.x\n",
    "\n",
    "# Ergebnis ausgeben\n",
    "print(\"Geschätzte Parameter:\", estimated_params_NBD)\n",
    "print(result.success)"
   ]
  },
  {
   "cell_type": "markdown",
   "id": "09561e6d",
   "metadata": {},
   "source": [
    "# Optimierung Poisson"
   ]
  },
  {
   "cell_type": "code",
   "execution_count": 14,
   "id": "4b228bc3",
   "metadata": {},
   "outputs": [
    {
     "name": "stdout",
     "output_type": "stream",
     "text": [
      "Geschätzte Parameter: [0.32615484]\n",
      "True\n"
     ]
    }
   ],
   "source": [
    "from scipy.stats import poisson\n",
    "\n",
    "# Funktion zur Berechnung der Summe der quadratischen Abweichungen\n",
    "def squared_error_poisson(params):\n",
    "    mu = params\n",
    "    predicted_values = poisson.cdf(int_data, mu)\n",
    "    error = ecdf(int_data) - predicted_values\n",
    "    squared_error = np.sum(error**2)\n",
    "    return squared_error\n",
    "\n",
    "# Anfangsschätzwerte für die Parameter\n",
    "initial_guess = [0.3]\n",
    "# Grenzen (Bounds)\n",
    "bounds = [(0, 9999)]\n",
    "\n",
    "# Parameter schätzen\n",
    "result = minimize(squared_error_poisson, initial_guess, bounds=bounds, method = \"L-BFGS-B\")\n",
    "\n",
    "# Geschätzte Parameter auslesen\n",
    "estimated_params_poisson = result.x\n",
    "\n",
    "# Ergebnis ausgeben\n",
    "print(\"Geschätzte Parameter:\", estimated_params_poisson)\n",
    "print(result.success)"
   ]
  },
  {
   "cell_type": "markdown",
   "id": "9c3f2254",
   "metadata": {},
   "source": [
    "# Grafischer Vergleich mit optimierten Parametern"
   ]
  },
  {
   "cell_type": "code",
   "execution_count": 18,
   "id": "956f28f3",
   "metadata": {},
   "outputs": [
    {
     "data": {
      "image/png": "[encoded data removed]",
      "text/plain": [
       "<Figure size 640x480 with 1 Axes>"
      ]
     },
     "metadata": {},
     "output_type": "display_data"
    }
   ],
   "source": [
    "# Definitionsbereich der CDF\n",
    "x_values = np.linspace(0, 10, 10).astype(int)\n",
    "\n",
    "# Daten für ZINBD\n",
    "x1 = np.linspace(0, 10, 10)\n",
    "y1 = my_distribution_ZINBD(x_values, estimated_params_ZINBD[0], estimated_params_ZINBD[1], estimated_params_ZINBD[2])\n",
    "\n",
    "# Daten für NBD\n",
    "x2 = np.linspace(0, 10, 10)\n",
    "y2 = nbinom.cdf(x_values, estimated_params_NBD[0], estimated_params_NBD[1])\n",
    "\n",
    "# Daten für Poisson\n",
    "x3 = np.linspace(0, 10, 10)\n",
    "y3 = poisson.cdf(x_values, estimated_params_poisson[0])\n",
    "\n",
    "# Daten für Empirische\n",
    "x4 = np.linspace(0, 10, 10)\n",
    "y4 = ecdf(x2)\n",
    "\n",
    "# Plot der ersten CDF\n",
    "plt.plot(x1, y1, label='ZINBD')\n",
    "\n",
    "# Plot der zweiten CDF\n",
    "plt.plot(x2, y2, label='NBD')\n",
    "\n",
    "# Plot der ersten CDF\n",
    "plt.plot(x3, y3, label='Poisson')\n",
    "\n",
    "# Plot der zweiten CDF\n",
    "plt.plot(x4, y4, label='Empirische')\n",
    "\n",
    "\n",
    "# Achsentitel und Legende hinzufügen\n",
    "plt.xlabel('x')\n",
    "plt.ylabel('CDF(x)')\n",
    "plt.legend()\n",
    "plt.show()"
   ]
  },
  {
   "cell_type": "markdown",
   "id": "ac60009a",
   "metadata": {},
   "source": [
    "# Chi Quadrat Tests"
   ]
  },
  {
   "cell_type": "code",
   "execution_count": 16,
   "id": "27930f00",
   "metadata": {},
   "outputs": [],
   "source": [
    "# Maximaler Eintrag von int_data\n",
    "max_value = np.max(np.unique(int_data))\n",
    "\n",
    "# Array erstellen\n",
    "array = np.arange(max_value + 1)"
   ]
  },
  {
   "cell_type": "markdown",
   "id": "e39708eb",
   "metadata": {},
   "source": [
    "## Datensimulation ZINBD"
   ]
  },
  {
   "cell_type": "code",
   "execution_count": 56,
   "id": "27e398dc",
   "metadata": {},
   "outputs": [],
   "source": [
    "test = np.histogram(my_distribution_ZINBD(int_data, estimated_params_ZINBD[0], estimated_params_ZINBD[1], estimated_params_ZINBD[2]))"
   ]
  },
  {
   "cell_type": "code",
   "execution_count": 57,
   "id": "ed1508db",
   "metadata": {},
   "outputs": [
    {
     "data": {
      "text/plain": [
       "array([0.72416275, 0.93102064, 0.98338915, 0.99607972, 0.99908633,\n",
       "       0.99978888, 0.99995152, 0.99998892, 0.99999748, 0.99999943,\n",
       "       0.99999987, 0.99999997, 0.99999999, 1.        , 1.        ,\n",
       "       1.        ])"
      ]
     },
     "execution_count": 57,
     "metadata": {},
     "output_type": "execute_result"
    }
   ],
   "source": [
    "test= my_distribution_ZINBD(array, estimated_params_ZINBD[0], estimated_params_ZINBD[1], estimated_params_ZINBD[2])\n",
    "test"
   ]
  },
  {
   "cell_type": "code",
   "execution_count": 58,
   "id": "c0380c22",
   "metadata": {},
   "outputs": [
    {
     "data": {
      "text/plain": [
       "array([7.24162755e-01, 2.06857886e-01, 5.23685096e-02, 1.26905657e-02,\n",
       "       3.00661219e-03, 7.02549600e-04, 1.62641796e-04, 3.74003130e-05,\n",
       "       8.55699647e-06, 1.95007362e-06, 4.42998840e-07, 1.00374500e-07,\n",
       "       2.26934037e-08, 5.12123877e-09, 1.15388565e-09])"
      ]
     },
     "execution_count": 58,
     "metadata": {},
     "output_type": "execute_result"
    }
   ],
   "source": [
    "test_prob = np.zeros(max_value)\n",
    "\n",
    "for i in range(0, max_value):\n",
    "    if i == 0:\n",
    "        test_prob[i] = test[i]\n",
    "    else:\n",
    "        test_prob[i] = test[i] - test[i-1]\n",
    "        \n",
    "test_prob"
   ]
  },
  {
   "cell_type": "code",
   "execution_count": 59,
   "id": "4dbc1070",
   "metadata": {},
   "outputs": [],
   "source": [
    "hist_dist = test_prob * len(int_data)\n",
    "hist_dist_int = hist_dist.astype(int)\n",
    "hist_dist_int[0] += 5"
   ]
  },
  {
   "cell_type": "markdown",
   "id": "0d9ecb3f",
   "metadata": {},
   "source": [
    "## Anpassung beobachtete Werte"
   ]
  },
  {
   "cell_type": "code",
   "execution_count": 66,
   "id": "6f8f5c5b",
   "metadata": {},
   "outputs": [],
   "source": [
    "observed_freq = np.histogram(int_data, bins=array)[0]"
   ]
  },
  {
   "cell_type": "code",
   "execution_count": 67,
   "id": "b0e3d2bb",
   "metadata": {},
   "outputs": [
    {
     "data": {
      "text/plain": [
       "array([15880,  4553,  1025,   284,   117,    35,     9,    15,     4,\n",
       "           4,     1,     2,     0,     0,     1], dtype=int64)"
      ]
     },
     "execution_count": 67,
     "metadata": {},
     "output_type": "execute_result"
    }
   ],
   "source": [
    "observed_freq"
   ]
  },
  {
   "cell_type": "markdown",
   "id": "f7733e8e",
   "metadata": {},
   "source": [
    "## Chi Quadrat Test ZINBD"
   ]
  },
  {
   "cell_type": "code",
   "execution_count": 64,
   "id": "cf63af1a",
   "metadata": {},
   "outputs": [],
   "source": [
    "# Null-Werte durch Einsen ersetzen\n",
    "hist_dist_int = np.where(hist_dist_int == 0, 1, hist_dist_int)"
   ]
  },
  {
   "cell_type": "code",
   "execution_count": 70,
   "id": "428fd27c",
   "metadata": {},
   "outputs": [
    {
     "name": "stdout",
     "output_type": "stream",
     "text": [
      "hist_dist Werte 21938\n",
      "empirische Werte 21930\n"
     ]
    }
   ],
   "source": [
    "# Test ob gleichviele Werte i beiden ethalten sind\n",
    "print(\"hist_dist Werte\" + \" \" + str(np.sum(hist_dist_int)))\n",
    "print(\"empirische Werte\" + \" \" + str(np.sum(observed_freq)))"
   ]
  },
  {
   "cell_type": "code",
   "execution_count": 71,
   "id": "6140f7d3",
   "metadata": {},
   "outputs": [],
   "source": [
    "hist_dist_int[0] -= 8"
   ]
  },
  {
   "cell_type": "code",
   "execution_count": 72,
   "id": "aab9342f",
   "metadata": {},
   "outputs": [
    {
     "name": "stdout",
     "output_type": "stream",
     "text": [
      "Chi-Quadrat-Wert: 310.63901387788036\n",
      "p-Wert: 7.122179633502471e-58\n"
     ]
    }
   ],
   "source": [
    "# Chi-Quadrat-Test\n",
    "chi2, p_value = chisquare(f_obs=observed_freq, f_exp=hist_dist_int, ddof=0)\n",
    "\n",
    "# Ergebnis ausgeben\n",
    "print(\"Chi-Quadrat-Wert:\", chi2)\n",
    "print(\"p-Wert:\", p_value)"
   ]
  },
  {
   "cell_type": "markdown",
   "id": "77ac07af",
   "metadata": {},
   "source": [
    "## Chi Quadrat Test Poisson"
   ]
  },
  {
   "cell_type": "code",
   "execution_count": 73,
   "id": "07bf7da4",
   "metadata": {},
   "outputs": [],
   "source": [
    "# Poisson-Zufallsvariablen erzeugen\n",
    "poisson_data = poisson.rvs(mu=estimated_params_poisson, size=len(int_data))"
   ]
  },
  {
   "cell_type": "code",
   "execution_count": 74,
   "id": "d76d01da",
   "metadata": {},
   "outputs": [],
   "source": [
    "test_poisson = np.histogram(poisson_data, bins = array)[0]"
   ]
  },
  {
   "cell_type": "code",
   "execution_count": 76,
   "id": "c540fb79",
   "metadata": {},
   "outputs": [],
   "source": [
    "# Null-Werte durch Einsen ersetzen\n",
    "test_poisson = np.where(test_poisson == 0, 1, test_poisson)"
   ]
  },
  {
   "cell_type": "code",
   "execution_count": 78,
   "id": "f0bdcda8",
   "metadata": {},
   "outputs": [
    {
     "name": "stdout",
     "output_type": "stream",
     "text": [
      "Verteilung Werte 21938\n",
      "empirische Werte 21930\n"
     ]
    }
   ],
   "source": [
    "# Test ob gleichviele Werte i beiden ethalten sind\n",
    "print(\"Verteilung Werte\" + \" \" + str(np.sum(test_poisson)))\n",
    "print(\"empirische Werte\" + \" \" + str(np.sum(observed_freq)))"
   ]
  },
  {
   "cell_type": "code",
   "execution_count": 79,
   "id": "20c4cb9c",
   "metadata": {},
   "outputs": [],
   "source": [
    "test_poisson[0] -= 8"
   ]
  },
  {
   "cell_type": "code",
   "execution_count": 80,
   "id": "f8d7086a",
   "metadata": {},
   "outputs": [
    {
     "name": "stdout",
     "output_type": "stream",
     "text": [
      "Chi-Quadrat-Wert: 2220.081662395682\n",
      "p-Wert: 0.0\n"
     ]
    }
   ],
   "source": [
    "# Chi-Quadrat-Test\n",
    "chi2, p_value = chisquare(f_obs=observed_freq, f_exp=test_poisson, ddof=0)\n",
    "\n",
    "# Ergebnis ausgeben\n",
    "print(\"Chi-Quadrat-Wert:\", chi2)\n",
    "print(\"p-Wert:\", p_value)"
   ]
  },
  {
   "cell_type": "markdown",
   "id": "74b12865",
   "metadata": {},
   "source": [
    "## Chi Quadrat Test NBD"
   ]
  },
  {
   "cell_type": "code",
   "execution_count": 81,
   "id": "8e6c0684",
   "metadata": {},
   "outputs": [],
   "source": [
    "# NBD-Zufallsvariablen erzeugen\n",
    "NBD_data = nbinom.rvs(estimated_params_NBD[0], estimated_params_NBD[1], size=len(int_data))"
   ]
  },
  {
   "cell_type": "code",
   "execution_count": 84,
   "id": "800043f7",
   "metadata": {},
   "outputs": [],
   "source": [
    "test_NBD = np.histogram(NBD_data, bins = array)[0]"
   ]
  },
  {
   "cell_type": "code",
   "execution_count": 85,
   "id": "dbcbc287",
   "metadata": {},
   "outputs": [],
   "source": [
    "# Null-Werte durch Einsen ersetzen\n",
    "test_NBD = np.where(test_NBD == 0, 1, test_NBD)"
   ]
  },
  {
   "cell_type": "code",
   "execution_count": 86,
   "id": "de7f84eb",
   "metadata": {},
   "outputs": [
    {
     "name": "stdout",
     "output_type": "stream",
     "text": [
      "Verteilung Werte 21938\n",
      "empirische Werte 21930\n"
     ]
    }
   ],
   "source": [
    "# Test ob gleichviele Werte i beiden ethalten sind\n",
    "print(\"Verteilung Werte\" + \" \" + str(np.sum(test_NBD)))\n",
    "print(\"empirische Werte\" + \" \" + str(np.sum(observed_freq)))"
   ]
  },
  {
   "cell_type": "code",
   "execution_count": 87,
   "id": "d29175ee",
   "metadata": {},
   "outputs": [],
   "source": [
    "test_NBD[0] -= 8"
   ]
  },
  {
   "cell_type": "code",
   "execution_count": 88,
   "id": "df1e97c4",
   "metadata": {},
   "outputs": [
    {
     "name": "stdout",
     "output_type": "stream",
     "text": [
      "Chi-Quadrat-Wert: 306.39984889956196\n",
      "p-Wert: 2.1258996228406985e-58\n"
     ]
    }
   ],
   "source": [
    "# Chi-Quadrat-Test\n",
    "chi2, p_value = chisquare(f_obs=observed_freq, f_exp=test_NBD, ddof=2)\n",
    "\n",
    "# Ergebnis ausgeben\n",
    "print(\"Chi-Quadrat-Wert:\", chi2)\n",
    "print(\"p-Wert:\", p_value)"
   ]
  },
  {
   "cell_type": "code",
   "execution_count": null,
   "id": "1ec4fb9f",
   "metadata": {},
   "outputs": [],
   "source": []
  }
 ],
 "metadata": {
  "kernelspec": {
   "display_name": "Python 3 (ipykernel)",
   "language": "python",
   "name": "python3"
  },
  "language_info": {
   "codemirror_mode": {
    "name": "ipython",
    "version": 3
   },
   "file_extension": ".py",
   "mimetype": "text/x-python",
   "name": "python",
   "nbconvert_exporter": "python",
   "pygments_lexer": "ipython3",
   "version": "3.9.13"
  }
 },
 "nbformat": 4,
 "nbformat_minor": 5
}
