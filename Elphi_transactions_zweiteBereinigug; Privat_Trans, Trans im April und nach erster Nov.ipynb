{
 "cells": [
  {
   "cell_type": "code",
   "execution_count": 2,
   "id": "6660449a",
   "metadata": {},
   "outputs": [],
   "source": [
    "import pandas as pd\n",
    "import numpy as np\n",
    "import matplotlib.pyplot as plt\n",
    "import scipy.stats as stats\n",
    "import math\n",
    "import seaborn as sns\n",
    "from datetime import datetime, timedelta\n",
    "from scipy.stats import pearsonr\n",
    "from scipy.stats import kendalltau\n",
    "from scipy.stats import spearmanr\n",
    "import os"
   ]
  },
  {
   "cell_type": "code",
   "execution_count": 3,
   "id": "477ef4e2",
   "metadata": {},
   "outputs": [],
   "source": [
    "df_transactions = pd.read_csv(\"C:/Users/felix.oechslein/Desktop/Analysen Elphi, Mai/verarbeitete_daten/\"\n",
    "                                    \"Elphi_transactions_ersteBereinigung.csv\")"
   ]
  },
  {
   "cell_type": "code",
   "execution_count": 4,
   "id": "f86ee647",
   "metadata": {},
   "outputs": [],
   "source": [
    "df_privatkunden_iids = pd.read_csv(\"C:/Users/felix.oechslein/Desktop/Daten, 13.12.22/\" +\n",
    "                                    \"privatkunden.iid.ELPHI.csv\", index_col = [0])"
   ]
  },
  {
   "cell_type": "markdown",
   "id": "467bd1b2",
   "metadata": {},
   "source": [
    "##### Privatkunden und Trans mergen"
   ]
  },
  {
   "cell_type": "code",
   "execution_count": 5,
   "id": "cada1b57",
   "metadata": {},
   "outputs": [
    {
     "data": {
      "text/html": [
       "<div>\n",
       "<style scoped>\n",
       "    .dataframe tbody tr th:only-of-type {\n",
       "        vertical-align: middle;\n",
       "    }\n",
       "\n",
       "    .dataframe tbody tr th {\n",
       "        vertical-align: top;\n",
       "    }\n",
       "\n",
       "    .dataframe thead th {\n",
       "        text-align: right;\n",
       "    }\n",
       "</style>\n",
       "<table border=\"1\" class=\"dataframe\">\n",
       "  <thead>\n",
       "    <tr style=\"text-align: right;\">\n",
       "      <th></th>\n",
       "      <th>iid</th>\n",
       "      <th>date</th>\n",
       "      <th>month_count</th>\n",
       "    </tr>\n",
       "  </thead>\n",
       "  <tbody>\n",
       "    <tr>\n",
       "      <th>0</th>\n",
       "      <td>163094976</td>\n",
       "      <td>2021-06-04 16:33:00</td>\n",
       "      <td>-10</td>\n",
       "    </tr>\n",
       "    <tr>\n",
       "      <th>1</th>\n",
       "      <td>163094976</td>\n",
       "      <td>2021-06-04 19:54:00</td>\n",
       "      <td>-10</td>\n",
       "    </tr>\n",
       "    <tr>\n",
       "      <th>2</th>\n",
       "      <td>163094976</td>\n",
       "      <td>2021-09-28 12:01:00</td>\n",
       "      <td>-7</td>\n",
       "    </tr>\n",
       "    <tr>\n",
       "      <th>3</th>\n",
       "      <td>163094976</td>\n",
       "      <td>2021-10-28 17:43:00</td>\n",
       "      <td>-6</td>\n",
       "    </tr>\n",
       "    <tr>\n",
       "      <th>4</th>\n",
       "      <td>163094976</td>\n",
       "      <td>2021-12-21 18:20:00</td>\n",
       "      <td>-4</td>\n",
       "    </tr>\n",
       "  </tbody>\n",
       "</table>\n",
       "</div>"
      ],
      "text/plain": [
       "         iid                 date  month_count\n",
       "0  163094976  2021-06-04 16:33:00          -10\n",
       "1  163094976  2021-06-04 19:54:00          -10\n",
       "2  163094976  2021-09-28 12:01:00           -7\n",
       "3  163094976  2021-10-28 17:43:00           -6\n",
       "4  163094976  2021-12-21 18:20:00           -4"
      ]
     },
     "execution_count": 5,
     "metadata": {},
     "output_type": "execute_result"
    }
   ],
   "source": [
    "# Privatkunden iids mit Transaktionsdaten mergen\n",
    "df_t = pd.merge(df_transactions, df_privatkunden_iids, on = [\"iid\"])\n",
    "df_t.head()"
   ]
  },
  {
   "cell_type": "markdown",
   "id": "33f23c6c",
   "metadata": {},
   "source": [
    "##### Auswahl der Kunden: Transaktion im April 2022 und mindestes eine Transaktion nach August 2022"
   ]
  },
  {
   "cell_type": "code",
   "execution_count": 6,
   "id": "503a84e1",
   "metadata": {},
   "outputs": [],
   "source": [
    "# Alle \"iid\" mit \"month_count\" = 0\n",
    "iid_month_0 = df_t.groupby(\"iid\").filter(lambda x: (x[\"month_count\"] == 0).any())[\"iid\"].unique()\n",
    "\n",
    "# Alle \"iid\" mit \"month_count\" >= 7\n",
    "iid_month_7 = df_t.groupby(\"iid\").filter(lambda x: (x[\"month_count\"] >= 7).any())[\"iid\"].unique()\n",
    "\n",
    "# Die Schnittmenge beider Listen gibt alle \"iid\" aus, die beide Bedingungen erfüllen\n",
    "iid_both = list(set(iid_month_0) & set(iid_month_7))"
   ]
  },
  {
   "cell_type": "markdown",
   "id": "1daef93e",
   "metadata": {},
   "source": [
    "##### Mergen der Auswahl mit Trans_df"
   ]
  },
  {
   "cell_type": "code",
   "execution_count": 7,
   "id": "f83bb405",
   "metadata": {},
   "outputs": [],
   "source": [
    "# Annahme: iid_both ist eine Liste von eindeutigen iids\n",
    "df_t_filtered = df_t[df_t['iid'].isin(iid_both)]"
   ]
  },
  {
   "cell_type": "markdown",
   "id": "2ccf0855",
   "metadata": {},
   "source": [
    "##### Filter nach Trans nach t = -1"
   ]
  },
  {
   "cell_type": "code",
   "execution_count": 8,
   "id": "114dd0b2",
   "metadata": {},
   "outputs": [],
   "source": [
    "# Ausschließlich Transaktionen nach t > -1 relevant\n",
    "df_t_filtered = df_t_filtered[df_t_filtered[\"month_count\"] > -1]"
   ]
  },
  {
   "cell_type": "markdown",
   "id": "a6236491",
   "metadata": {},
   "source": [
    "#### 2. verarbeiteteDaten als Elphi_transactions_zweiteBereinigug.csv in dem Ordner verarbeitete_Daten abspeichern"
   ]
  },
  {
   "cell_type": "code",
   "execution_count": 9,
   "id": "ef7a3666",
   "metadata": {},
   "outputs": [],
   "source": [
    "path = r'C:/Users/felix.oechslein/Desktop/Analysen Elphi, Mai/verarbeitete_daten/'\n",
    "filename = 'Elphi_transactions_zweiteBereinigung.csv'\n",
    "\n",
    "df_t_filtered.to_csv(os.path.join(path, filename), index=False)"
   ]
  },
  {
   "cell_type": "markdown",
   "id": "c241e8aa",
   "metadata": {},
   "source": [
    "##### 3. Relevante iids als Elphi_transactions_zweiteBereinigug_iids.csv in dem Ordner verarbeitete_Daten abspeichern"
   ]
  },
  {
   "cell_type": "code",
   "execution_count": 11,
   "id": "4354a740",
   "metadata": {},
   "outputs": [],
   "source": [
    "path = r'C:/Users/felix.oechslein/Desktop/Analysen Elphi, Mai/verarbeitete_daten/'\n",
    "filename = 'Elphi_transactions_zweiteBereinigung_iids.csv'\n",
    "\n",
    "df_iid_both = pd.DataFrame(iid_both, columns=[\"iid\"])\n",
    "df_iid_both.to_csv(os.path.join(path, filename), index=False)"
   ]
  },
  {
   "cell_type": "code",
   "execution_count": null,
   "id": "3f458cc5",
   "metadata": {},
   "outputs": [],
   "source": []
  },
  {
   "cell_type": "code",
   "execution_count": null,
   "id": "29f8d291",
   "metadata": {},
   "outputs": [],
   "source": []
  }
 ],
 "metadata": {
  "kernelspec": {
   "display_name": "Python 3 (ipykernel)",
   "language": "python",
   "name": "python3"
  },
  "language_info": {
   "codemirror_mode": {
    "name": "ipython",
    "version": 3
   },
   "file_extension": ".py",
   "mimetype": "text/x-python",
   "name": "python",
   "nbconvert_exporter": "python",
   "pygments_lexer": "ipython3",
   "version": "3.9.13"
  }
 },
 "nbformat": 4,
 "nbformat_minor": 5
}
