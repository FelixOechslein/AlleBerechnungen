{
 "cells": [
  {
   "cell_type": "code",
   "execution_count": 1,
   "id": "edebbe62",
   "metadata": {},
   "outputs": [],
   "source": [
    "import pandas as pd\n",
    "import numpy as np\n",
    "import matplotlib.pyplot as plt\n",
    "import scipy.stats as stats\n",
    "import math\n",
    "import seaborn as sns\n",
    "from datetime import datetime, timedelta\n",
    "from scipy.stats import pearsonr\n",
    "from scipy.stats import kendalltau\n",
    "from scipy.stats import spearmanr\n",
    "import os\n",
    "from scipy.stats import binom\n",
    "from scipy.special import comb"
   ]
  },
  {
   "cell_type": "code",
   "execution_count": null,
   "id": "87f97244",
   "metadata": {},
   "outputs": [],
   "source": []
  },
  {
   "cell_type": "code",
   "execution_count": 2,
   "id": "2aedbc35",
   "metadata": {},
   "outputs": [],
   "source": [
    "## Definition der Transitionmatrix\n",
    "def get_Q(i, t, alpha, gamma, EM_it_1, Y_it, O_it, NS):\n",
    "    X_it_1 = [EM_it_1, EM_it_1**2, int(Y_it > 0), int(O_it > 0)]\n",
    "    \n",
    "    # v_(it,s→s')\n",
    "    v = np.zeros((NS, NS))\n",
    "    for s in range(NS):\n",
    "        for s_prime in range(NS):\n",
    "            v[s, s_prime] = alpha[s, s_prime] + gamma[s, s_prime] * X_it_1\n",
    "    \n",
    "    # q_(it, s->s')\n",
    "    q = np.zeros((NS, NS))\n",
    "    for s in range(NS):\n",
    "        denominator = 1 + np.sum(np.exp(v[s, 1:]))\n",
    "        for s_prime in range(NS):\n",
    "            if s_prime == 0:\n",
    "                q[s, s_prime] = 1 / denominator\n",
    "            else:\n",
    "                q[s, s_prime] = np.exp(v[s, s_prime]) / denominator\n",
    "    \n",
    "    return q"
   ]
  },
  {
   "cell_type": "code",
   "execution_count": null,
   "id": "69fcab2b",
   "metadata": {},
   "outputs": [],
   "source": [
    "def emission_prob_o(o_it, s, EM_it, O_it, alpha_os, beta_io, sigma_alpha_o, sigma_beta_o):\n",
    "    # Compute the parameter p_it_s\n",
    "    LO_it = O_it[s][EM_it]\n",
    "    alpha_io = alpha_os.reshape(1, -1) + np.random.normal(scale=sigma_alpha_o, size=(NS, 1))\n",
    "    beta_io = beta_io + np.random.normal(scale=sigma_beta_o, size=NS)\n",
    "    p_it_s = np.exp(alpha_io + beta_io * np.log(LO_it)) / (1 + np.exp(alpha_io + beta_io * np.log(LO_it)))\n",
    "    \n",
    "    # Compute the probability of the observed value\n",
    "    prob = 0\n",
    "    for i in range(EM_it + 1):\n",
    "        prob += comb(EM_it, i) * (p_it_s ** i) * ((1 - p_it_s) ** (EM_it - i)) * (o_it ** i) * ((1 - o_it) ** (EM_it - i))\n",
    "    \n",
    "    return prob\n"
   ]
  },
  {
   "cell_type": "code",
   "execution_count": null,
   "id": "6718596a",
   "metadata": {},
   "outputs": [],
   "source": [
    "def P_O_it_given_s(o_it, s, EM_it, LO_it, alpha_os, beta_io, sigma_alpha_o, sigma_beta_o):\n",
    "    # Berechne die Wahrscheinlichkeit p_it_s\n",
    "    p_it_s = 1 / (1 + np.exp(-(alpha_os[s] + beta_io * np.log(LO_it))))\n",
    "    \n",
    "    # Berechne die Anzahl der Öffnungen\n",
    "    k = o_it\n",
    "    \n",
    "    # Berechne die Wahrscheinlichkeit P(O_it = o_it | s)\n",
    "    p_O_it_given_s = binom.pmf(k=k, n=EM_it, p=p_it_s)\n",
    "    \n",
    "    return p_O_it_given_s\n"
   ]
  },
  {
   "cell_type": "code",
   "execution_count": null,
   "id": "5a10394d",
   "metadata": {},
   "outputs": [],
   "source": [
    "def P_O_it_given_s(o_it, s, EM_it, LO_it, alpha_o_s, beta_io, sigma_alpha_o, sigma_beta_o):\n",
    "    p_it_given_s = 1 / (1 + np.exp(-(alpha_o_s[s] + beta_io * np.log(LO_it))))\n",
    "    p = binom.pmf(o_it, EM_it, p_it_given_s)\n",
    "    alpha_io = alpha_o_s[s] + np.random.normal(scale=sigma_alpha_o, size=NS)\n",
    "    beta_io = beta_io + np.random.normal(scale=sigma_beta_o, size=NS)\n",
    "    return p, alpha_io, beta_io\n"
   ]
  },
  {
   "cell_type": "code",
   "execution_count": null,
   "id": "59cf38e2",
   "metadata": {},
   "outputs": [],
   "source": [
    "def P_O_it_given_s(LO_it, o_it, s, EM_it, alpha_o, beta_io, sigma_alpha_o, sigma_beta_o):\n",
    "    \"\"\"\n",
    "    Berechnet die Wahrscheinlichkeit P(O_it=o_it | s) für gegebenen Zustand s und\n",
    "    Beobachtung LO_it=o_it unter Verwendung der Binomialverteilung.\n",
    "\n",
    "    Args:\n",
    "        LO_it (float): Beobachtung von Variable LO zur Zeit t im Zustand i\n",
    "        o_it (int): Beobachtung von Variable O zur Zeit t im Zustand i\n",
    "        s (int): Zustand s\n",
    "        EM_it (int): Anzahl der Versuche (Emissionen) zur Zeit t im Zustand i\n",
    "        alpha_o (array): Array mit den Alpha-Parametern für jeden Zustand\n",
    "        beta_io (float): Beta-Parameter für Zustand i und Variable O\n",
    "        sigma_alpha_o (float): Standardabweichung von Alpha\n",
    "        sigma_beta_o (float): Standardabweichung von Beta\n",
    "\n",
    "    Returns:\n",
    "        float: Wahrscheinlichkeit P(O_it=o_it | s)\n",
    "    \"\"\"\n",
    "    p_it_given_s = np.exp(alpha_o[s] + beta_io * np.log(LO_it)) / (1 + np.exp(alpha_o[s] + beta_io * np.log(LO_it)))\n",
    "    p_o_given_it = binom(EM_it, o_it) * np.power(p_it_given_s, o_it) * np.power(1 - p_it_given_s, EM_it - o_it)\n",
    "    return p_o_given_it\n"
   ]
  },
  {
   "cell_type": "code",
   "execution_count": null,
   "id": "2c7fe394",
   "metadata": {},
   "outputs": [],
   "source": [
    "def P_O_it_given_s(LO_it, o_it, s, alpha_o, beta_o, alpha_io, beta_io, sigma_alpha_o, sigma_beta_o, EM_it):\n",
    "    p_it_given_s = 1 / (1 + np.exp(-(alpha_io + beta_io * np.log(LO_it))))\n",
    "    likelihoods = binom.pmf(o_it, EM_it, p_it_given_s)\n",
    "    return likelihoods.prod(axis=1)\n"
   ]
  },
  {
   "cell_type": "code",
   "execution_count": null,
   "id": "23f78a86",
   "metadata": {},
   "outputs": [],
   "source": [
    "import numpy as np\n",
    "from scipy.optimize import minimize\n",
    "\n",
    "# Define the HMM model with a binomial emission distribution\n",
    "from hmmlearn import hmm\n",
    "\n",
    "model = hmm.MultinomialHMM(n_components=2, n_iter=100, tol=0.01, verbose=True)\n",
    "\n",
    "# Generate simulated data\n",
    "X = np.random.randint(0, 2, size=(100, 10))\n",
    "lengths = np.full(100, 10)\n",
    "\n",
    "# Define the negative log-likelihood function\n",
    "def neg_log_likelihood(params):\n",
    "    alpha, beta = params[:2], params[2:]\n",
    "    model.startprob_ = alpha / np.sum(alpha)\n",
    "    model.transmat_ = np.array([[beta[0], 1 - beta[0]], [1 - beta[1], beta[1]]])\n",
    "    model.emissionprob_ = np.array([[[1 - p, p], [p, 1 - p]] for p in params[4:]])\n",
    "    return -model.score(X, lengths)\n",
    "\n",
    "# Estimate the parameters using maximum likelihood\n",
    "init_params = np.array([1, 1, 0.5, 0.5, 0.5, 0.5, 0.5, 0.5])\n",
    "result = minimize(neg_log_likelihood, init_params, method='BFGS')\n",
    "alpha, beta, p = result.x[:2], result.x[2:4], result.x[4:]\n"
   ]
  }
 ],
 "metadata": {
  "kernelspec": {
   "display_name": "Python 3 (ipykernel)",
   "language": "python",
   "name": "python3"
  },
  "language_info": {
   "codemirror_mode": {
    "name": "ipython",
    "version": 3
   },
   "file_extension": ".py",
   "mimetype": "text/x-python",
   "name": "python",
   "nbconvert_exporter": "python",
   "pygments_lexer": "ipython3",
   "version": "3.9.13"
  }
 },
 "nbformat": 4,
 "nbformat_minor": 5
}
