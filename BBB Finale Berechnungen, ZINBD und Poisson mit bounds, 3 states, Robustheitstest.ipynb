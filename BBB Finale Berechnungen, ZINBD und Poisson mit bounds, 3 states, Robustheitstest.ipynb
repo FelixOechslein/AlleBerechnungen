{
 "cells": [
  {
   "cell_type": "code",
   "execution_count": 51,
   "id": "b196d4bb",
   "metadata": {},
   "outputs": [],
   "source": [
    "from scipy.stats import nbinom, binom, poisson\n",
    "from statsmodels.discrete.count_model import ZeroInflatedNegativeBinomialP\n",
    "import pandas as pd\n",
    "import numpy as np\n",
    "import matplotlib.pyplot as plt\n",
    "import scipy.stats as stats\n",
    "import math\n",
    "import seaborn as sns\n",
    "from datetime import datetime, timedelta\n",
    "from scipy.stats import pearsonr\n",
    "from scipy.stats import kendalltau\n",
    "from scipy.stats import spearmanr\n",
    "import os\n",
    "from scipy.optimize import minimize, Bounds, LinearConstraint, NonlinearConstraint\n",
    "import inspect"
   ]
  },
  {
   "cell_type": "code",
   "execution_count": 52,
   "id": "d7f24c1e",
   "metadata": {},
   "outputs": [],
   "source": [
    "path = r'C:/Users/felix.oechslein/Desktop/Analysen Thalia, Mai/verarbeitete_daten'\n",
    "filename = 'Pivot_Trans_Privat_ohneApple_Langzeitkunde.csv'\n",
    "\n",
    "df_trans_werte = pd.read_csv(os.path.join(path, filename))"
   ]
  },
  {
   "cell_type": "code",
   "execution_count": 53,
   "id": "4d1d8cdf",
   "metadata": {},
   "outputs": [],
   "source": [
    "path = r'C:/Users/felix.oechslein/Desktop/Analysen Thalia, Mai/verarbeitete_daten'\n",
    "filename = 'Pivot_LY_Privat_ohneApple_Langzeitkunde.csv'\n",
    "\n",
    "df_LY = pd.read_csv(os.path.join(path, filename))"
   ]
  },
  {
   "cell_type": "code",
   "execution_count": 54,
   "id": "1c371a2b",
   "metadata": {},
   "outputs": [],
   "source": [
    "path = r'C:/Users/felix.oechslein/Desktop/Analysen Thalia, Mai/verarbeitete_daten'\n",
    "filename = 'Pivot_HY_Privat_ohneApple_Langzeitkunde.csv'\n",
    "\n",
    "df_HY = pd.read_csv(os.path.join(path, filename))"
   ]
  },
  {
   "cell_type": "code",
   "execution_count": 55,
   "id": "1fcaab9d",
   "metadata": {},
   "outputs": [],
   "source": [
    "path = r'C:/Users/felix.oechslein/Desktop/Analysen Thalia, Mai/verarbeitete_daten'\n",
    "filename = 'Pivot_NO_Privat_ohneApple_Langzeitkunde.csv'\n",
    "\n",
    "df_NO_werte = pd.read_csv(os.path.join(path, filename))"
   ]
  },
  {
   "cell_type": "code",
   "execution_count": 56,
   "id": "68ae15da",
   "metadata": {},
   "outputs": [],
   "source": [
    "path = r'C:/Users/felix.oechslein/Desktop/Analysen Thalia, Mai/verarbeitete_daten'\n",
    "filename = 'Pivot_LO_Privat_ohneApple_Langzeitkunde.csv'\n",
    "\n",
    "df_LO = pd.read_csv(os.path.join(path, filename))"
   ]
  },
  {
   "cell_type": "code",
   "execution_count": 57,
   "id": "62c55e83",
   "metadata": {},
   "outputs": [],
   "source": [
    "## Alle DataFrame Werte von Float zu int\n",
    "df_trans_werte = df_trans_werte.astype(int)\n",
    "df_LY = df_LY.astype(int)\n",
    "df_HY = df_HY.astype(int)\n",
    "df_NO_werte = df_NO_werte.astype(int)\n",
    "df_LO = df_LO.astype(int)\n",
    "\n",
    "# Transwerte-1 definiert für spätere Berecnungen in der Copula\n",
    "#df_trans_werte_minusEins = df_trans_werte.loc[:, df_NO_werte.columns != 'iid'] -1\n",
    "#df_trans_werte_minusEins = df_trans_werte_minusEins.astype(int)"
   ]
  },
  {
   "cell_type": "code",
   "execution_count": 58,
   "id": "781124ed",
   "metadata": {},
   "outputs": [
    {
     "data": {
      "text/plain": [
       "1462"
      ]
     },
     "execution_count": 58,
     "metadata": {},
     "output_type": "execute_result"
    }
   ],
   "source": [
    "len(df_trans_werte)"
   ]
  },
  {
   "cell_type": "code",
   "execution_count": 59,
   "id": "1d382f33",
   "metadata": {},
   "outputs": [
    {
     "data": {
      "text/plain": [
       "1462"
      ]
     },
     "execution_count": 59,
     "metadata": {},
     "output_type": "execute_result"
    }
   ],
   "source": [
    "len(df_LY)"
   ]
  },
  {
   "cell_type": "code",
   "execution_count": 60,
   "id": "3dc6152d",
   "metadata": {},
   "outputs": [
    {
     "data": {
      "text/plain": [
       "697"
      ]
     },
     "execution_count": 60,
     "metadata": {},
     "output_type": "execute_result"
    }
   ],
   "source": [
    "len(df_HY)"
   ]
  },
  {
   "cell_type": "code",
   "execution_count": 61,
   "id": "5e8b7cd5",
   "metadata": {},
   "outputs": [
    {
     "data": {
      "text/plain": [
       "647"
      ]
     },
     "execution_count": 61,
     "metadata": {},
     "output_type": "execute_result"
    }
   ],
   "source": [
    "len(df_NO_werte)"
   ]
  },
  {
   "cell_type": "code",
   "execution_count": 62,
   "id": "2b15d1c6",
   "metadata": {},
   "outputs": [
    {
     "data": {
      "text/plain": [
       "647"
      ]
     },
     "execution_count": 62,
     "metadata": {},
     "output_type": "execute_result"
    }
   ],
   "source": [
    "len(df_LO)"
   ]
  },
  {
   "cell_type": "markdown",
   "id": "75901ee7",
   "metadata": {},
   "source": [
    "### Sicherstellen dass alle df dieselben Kunden verwenden"
   ]
  },
  {
   "cell_type": "code",
   "execution_count": 63,
   "id": "e691c85a",
   "metadata": {},
   "outputs": [],
   "source": [
    "# Entfernen der Zeilen aus df_HY, die nicht in df_trans_werte und df_LO enthalten sind\n",
    "df_HY = df_HY[df_HY['iid'].isin(df_trans_werte['iid'])]\n",
    "df_HY = df_HY[df_HY['iid'].isin(df_LO['iid'])]\n",
    "\n",
    "# Entfernen der Zeilen aus df_trans_werte, die nicht in df_HY, df_NO_werte und df_LY enthalten sind\n",
    "df_trans_werte = df_trans_werte[df_trans_werte['iid'].isin(df_HY['iid'])]\n",
    "df_trans_werte = df_trans_werte[df_trans_werte['iid'].isin(df_NO_werte['iid'])]\n",
    "df_trans_werte = df_trans_werte[df_trans_werte['iid'].isin(df_LY['iid'])]\n",
    "\n",
    "# Entfernen der Zeilen aus df_LO, die nicht in df_HY enthalten sind\n",
    "df_LO = df_LO[df_LO['iid'].isin(df_HY['iid'])]\n",
    "\n",
    "# Entfernen der Zeilen aus df_NO_werte, die nicht in df_trans_werte enthalten sind\n",
    "df_NO_werte = df_NO_werte[df_NO_werte['iid'].isin(df_trans_werte['iid'])]\n",
    "\n",
    "# Entfernen der Zeilen aus df_LY, die nicht in df_trans_werte enthalten sind\n",
    "df_LY = df_LY[df_LY['iid'].isin(df_trans_werte['iid'])]\n",
    "\n",
    "### Alle DataFrames Indizes resetten, damit man sie gemeinsam identifiziere kann\n",
    "df_HY = df_HY.reset_index(drop=True)\n",
    "df_trans_werte = df_trans_werte.reset_index(drop=True)\n",
    "df_LO = df_LO.reset_index(drop=True)\n",
    "df_NO_werte = df_NO_werte.reset_index(drop=True)\n",
    "df_LY = df_LY.reset_index(drop=True)\n",
    "\n",
    "# NO-1 definiert für spätere Berechnung inder Copula\n",
    "df_NO_minusEins = df_NO_werte.copy()\n",
    "df_NO_minusEins.loc[:, df_NO_minusEins.columns != 'iid'] = df_NO_minusEins.loc[:, df_NO_minusEins.columns != 'iid'] -1\n",
    "df_NO_minusEins = df_NO_minusEins.astype(int)\n",
    "# transwerte -1 definiert für spätere Berechnung inder Copula\n",
    "df_trans_werte_minusEins = df_trans_werte.copy()\n",
    "df_trans_werte_minusEins.loc[:, df_trans_werte_minusEins.columns != 'iid'] = df_trans_werte_minusEins.loc[:, df_trans_werte_minusEins.columns != 'iid'] -1\n",
    "df_trans_werte_minusEins = df_trans_werte_minusEins.astype(int)"
   ]
  },
  {
   "cell_type": "markdown",
   "id": "452a123b",
   "metadata": {},
   "source": [
    "#### Tests"
   ]
  },
  {
   "cell_type": "code",
   "execution_count": null,
   "id": "fa9fafe3",
   "metadata": {},
   "outputs": [],
   "source": []
  },
  {
   "cell_type": "markdown",
   "id": "e1480ee7",
   "metadata": {},
   "source": [
    "## Ausreißer bei den Kunden löschen"
   ]
  },
  {
   "cell_type": "code",
   "execution_count": 64,
   "id": "bf8e171f",
   "metadata": {},
   "outputs": [],
   "source": [
    "kunden_pos = [384, 446, 502, 599, 421, 285, 407, 499, 348, 351, 364, 449, 528, 414]"
   ]
  },
  {
   "cell_type": "code",
   "execution_count": 65,
   "id": "950add22",
   "metadata": {},
   "outputs": [],
   "source": [
    "# Zeilen löschen\n",
    "df_NO_minusEins = df_NO_minusEins.drop(kunden_pos).reset_index(drop = True)\n",
    "df_HY = df_HY.drop(kunden_pos).reset_index(drop = True)\n",
    "df_trans_werte = df_trans_werte.drop(kunden_pos).reset_index(drop = True)\n",
    "df_LO = df_LO.drop(kunden_pos).reset_index(drop = True)\n",
    "df_NO_werte = df_NO_werte.drop(kunden_pos).reset_index(drop = True)\n",
    "df_LY = df_LY.drop(kunden_pos).reset_index(drop = True)\n",
    "df_trans_werte_minusEins = df_trans_werte_minusEins.drop(kunden_pos).reset_index(drop = True)"
   ]
  },
  {
   "cell_type": "markdown",
   "id": "8b6b4194",
   "metadata": {},
   "source": [
    "## Spezifikation des Modells"
   ]
  },
  {
   "cell_type": "code",
   "execution_count": 66,
   "id": "fb05ab22",
   "metadata": {},
   "outputs": [
    {
     "data": {
      "text/plain": [
       "633"
      ]
     },
     "execution_count": 66,
     "metadata": {},
     "output_type": "execute_result"
    }
   ],
   "source": [
    "anzahl_kunden = len(df_trans_werte[\"iid\"])\n",
    "anzahl_kunden"
   ]
  },
  {
   "cell_type": "code",
   "execution_count": 67,
   "id": "e71e572f",
   "metadata": {},
   "outputs": [
    {
     "data": {
      "text/plain": [
       "15"
      ]
     },
     "execution_count": 67,
     "metadata": {},
     "output_type": "execute_result"
    }
   ],
   "source": [
    "anzahl_monate = len(df_trans_werte.columns[df_trans_werte.columns != 'iid'])\n",
    "anzahl_monate"
   ]
  },
  {
   "cell_type": "code",
   "execution_count": 68,
   "id": "97faae5f",
   "metadata": {},
   "outputs": [],
   "source": [
    "anzahl_states = 3"
   ]
  },
  {
   "cell_type": "markdown",
   "id": "7f59f07b",
   "metadata": {},
   "source": [
    "##### Definition der Transitionmatrix"
   ]
  },
  {
   "cell_type": "code",
   "execution_count": 69,
   "id": "1430b8ec",
   "metadata": {},
   "outputs": [],
   "source": [
    "# Definition der Erfolgswahrscheinlichkeit p_t als 1 x anzhal_kunden array \n",
    "def Q_v_state_t_minusEins_state_t_monat(alpha, gamma, state_t_minusEins, state, monat):\n",
    "    \n",
    "    state_t_minusEins = state_t_minusEins -1\n",
    "    state = state -1\n",
    "    str_monat = str(monat-1)\n",
    "    \n",
    "    # Definition der X_t_minusEins\n",
    "    # verwendete Parameter\n",
    "    EM_monat_minusEins = df_HY[str_monat]\n",
    "    Y_monat_minusEins = df_trans_werte[str_monat]\n",
    "    O_monat_minusEins = df_NO_werte[str_monat]\n",
    "    # Definition\n",
    "    X_t_minusEins = [O_monat_minusEins.apply(lambda x: int(x > 0)),\\\n",
    "                     Y_monat_minusEins.apply(lambda x: int(x > 0)),\\\n",
    "                     EM_monat_minusEins, np.square(EM_monat_minusEins)]\n",
    "    \n",
    "    X_t_minusEins = np.array(X_t_minusEins)\n",
    "    array_v = alpha[anzahl_states*state_t_minusEins + state] +\\\n",
    "                    gamma[anzahl_states*state_t_minusEins + state] * X_t_minusEins[0] +\\\n",
    "                    gamma[(np.square(anzahl_states)) + anzahl_states*state_t_minusEins + state] * X_t_minusEins[1] +\\\n",
    "                    gamma[(2* np.square(anzahl_states)) + anzahl_states*state_t_minusEins + state] * X_t_minusEins[2] +\\\n",
    "                    gamma[(3* np.square(anzahl_states)) + anzahl_states*state_t_minusEins + state] * X_t_minusEins[3]\n",
    "\n",
    "    return array_v\n",
    "\n",
    "# Definition der Transitionmatrix\n",
    "def probability_Q_state_monat(alpha, gamma):\n",
    "    \n",
    "    ### Erstellung leerer anzahl_states x anzahl_states arrays für jeden Kunden und jeden Monat\n",
    "    Q = np.zeros((anzahl_kunden, anzahl_monate - 1, anzahl_states, anzahl_states))\n",
    "                \n",
    "    for monat in range(2, anzahl_monate + 1):\n",
    "        \n",
    "        for state_t_minusEins in range(1, anzahl_states +1):\n",
    "            \n",
    "            # Erste Spalte besteht aus Nullen, da eine Trasition zurück in state 1 nicht möglich ist\n",
    "            for state in range(2, anzahl_states +1):\n",
    "                \n",
    "                q_array_iid_monat_state = Q_v_state_t_minusEins_state_t_monat(alpha, gamma, state_t_minusEins, state, monat)\n",
    "\n",
    "                # Speicherung der Werte in den leeren arrays\n",
    "                for iid in range(0, anzahl_kunden):\n",
    "                    \n",
    "                    #Neue Definition ohne die Verwedung von Namen\n",
    "                    Q[iid, monat-2, state_t_minusEins-1, state-1] = q_array_iid_monat_state[iid]\n",
    "                    \n",
    "    # Wenn einmal in state 2, kann nicht mehr zurück in state 1\n",
    "    Q[:,:,:,0] = 0.0\n",
    "    \n",
    "    denominator = np.sum(np.exp(Q[..., 1:]), axis=3, keepdims=True)\n",
    "    Q = np.exp(Q)/(1+denominator)\n",
    "    \n",
    "    return Q"
   ]
  },
  {
   "cell_type": "markdown",
   "id": "9b0021ec",
   "metadata": {},
   "source": [
    "#### Tests"
   ]
  },
  {
   "cell_type": "code",
   "execution_count": 70,
   "id": "b8e6c3d0",
   "metadata": {},
   "outputs": [
    {
     "name": "stdout",
     "output_type": "stream",
     "text": [
      "[[9.67640942e-01 6.62756677e-01 7.05218065e-01]\n",
      " [9.06966979e-01 1.82052380e-04 2.79303261e-01]\n",
      " [1.21227399e-01 7.98714075e-01 8.18306785e-01]]\n"
     ]
    }
   ],
   "source": [
    "# Definiere einen 3x3-Array mit zufälligen Werten\n",
    "array = np.random.random((3, 3))\n",
    "\n",
    "print(array)"
   ]
  },
  {
   "cell_type": "code",
   "execution_count": 71,
   "id": "24638e1c",
   "metadata": {},
   "outputs": [
    {
     "data": {
      "text/plain": [
       "array([[3.96442135],\n",
       "       [2.32239033],\n",
       "       [4.48933953]])"
      ]
     },
     "execution_count": 71,
     "metadata": {},
     "output_type": "execute_result"
    }
   ],
   "source": [
    "np.sum(np.exp(array[..., 1:]), axis=1, keepdims=True)"
   ]
  },
  {
   "cell_type": "code",
   "execution_count": 72,
   "id": "2d42dae4",
   "metadata": {},
   "outputs": [
    {
     "data": {
      "text/plain": [
       "array([[1.94013329, 2.02428806],\n",
       "       [1.00018207, 1.32220826],\n",
       "       [2.22268089, 2.26665865]])"
      ]
     },
     "execution_count": 72,
     "metadata": {},
     "output_type": "execute_result"
    }
   ],
   "source": [
    "np.exp(array[..., 1:])"
   ]
  },
  {
   "cell_type": "code",
   "execution_count": 73,
   "id": "61f3f216",
   "metadata": {},
   "outputs": [
    {
     "data": {
      "text/plain": [
       "array([[3.96442135],\n",
       "       [2.32239033],\n",
       "       [4.48933953]])"
      ]
     },
     "execution_count": 73,
     "metadata": {},
     "output_type": "execute_result"
    }
   ],
   "source": [
    "np.sum(np.exp(array[..., 1:]), axis=1, keepdims=True)"
   ]
  },
  {
   "cell_type": "markdown",
   "id": "197ba00b",
   "metadata": {},
   "source": [
    "##### Definition der Verteilungsfunktion F_1 von CEOM aals anzahl_kunden x 1 Array für jeden state und Monat"
   ]
  },
  {
   "cell_type": "code",
   "execution_count": 74,
   "id": "a1af4196",
   "metadata": {},
   "outputs": [],
   "source": [
    "# Definition der Erfolgswahrscheinlichkeit p_t als 1 x anzhal_kunden array \n",
    "def lambda_O_state_monat(alpha_o, beta_o, state, monat):\n",
    "    \n",
    "    state = state -1\n",
    "    \n",
    "    # Definitio von str_monat um auf den spaltennamen zugreifen zu können\n",
    "    str_monat = str(monat)\n",
    "    \n",
    "    # EM_iidt:Anzahl dversendeter Mails in Monat t an Kunde mit iid\n",
    "    EM_monat = df_HY[str_monat]\n",
    "    LO_monat = df_LO[str_monat]\n",
    "    \n",
    "    # Erhalten der Werte für die Verarbeitung in der Formel\n",
    "    array_lambda = np.exp(np.log(0.63)*EM_monat + alpha_o[state] + beta_o[0] * np.log(LO_monat))\n",
    "\n",
    "    return array_lambda\n",
    "\n",
    "# Array der Verteilungsfunktion der Öffungen O für Monat und state\n",
    "def F_O_state_monat(alpha_o, beta_o, state, monat):\n",
    "    \n",
    "    # Definitio von str_monat um auf den spaltennamen zugreifen zu können\n",
    "    str_monat = str(monat)\n",
    "    \n",
    "    # o_iidt: Anzahl geöffneter Mails in Monat t von allen Kunden\n",
    "    o_monat = df_NO_werte[str_monat]\n",
    "    \n",
    "    lambda_O_state_monat_berechnung = lambda_O_state_monat(alpha_o, beta_o, state, monat)\n",
    "    \n",
    "    array_F_O_berechnung = poisson.cdf(o_monat, lambda_O_state_monat_berechnung)\n",
    "         \n",
    "    return array_F_O_berechnung\n",
    "\n",
    "# Array der Verteilungsfunktion der Öffungen O -1 für Monat und state\n",
    "def F_O_state_monat_minusEins(alpha_o, beta_o, state, monat):\n",
    "    \n",
    "    # Definitio von str_monat um auf den spaltennamen zugreifen zu können\n",
    "    str_monat = str(monat)\n",
    "    \n",
    "    # o_iidt: Anzahl geöffneter Mails in Monat t von allen Kunden\n",
    "    o_monat = df_NO_minusEins[str_monat]\n",
    "    \n",
    "    lambda_O_state_monat_berechnung = lambda_O_state_monat(alpha_o, beta_o, state, monat)\n",
    "    \n",
    "    array_F_O_berechnung = poisson.cdf(o_monat, lambda_O_state_monat_berechnung)\n",
    "\n",
    "    return array_F_O_berechnung"
   ]
  },
  {
   "cell_type": "markdown",
   "id": "42b2c544",
   "metadata": {},
   "source": [
    "#### Tests"
   ]
  },
  {
   "cell_type": "code",
   "execution_count": null,
   "id": "59930dbd",
   "metadata": {},
   "outputs": [],
   "source": []
  },
  {
   "cell_type": "markdown",
   "id": "a762e9fd",
   "metadata": {},
   "source": [
    "##### Definition der Verteilungsfunktio F_2 von CPM als anzahl_kunden x 1 Array für jeden state und Monat"
   ]
  },
  {
   "cell_type": "code",
   "execution_count": 75,
   "id": "69d53554",
   "metadata": {},
   "outputs": [],
   "source": [
    "# Definition der Wahrscheinlichkeit des Eintretens eines Erfolges im Einzelversuch phi als anzahl_iids x T df\n",
    "def phi_state_monat(delta_0, delta_1, state, monat):\n",
    "    \n",
    "    state = state -1\n",
    "    \n",
    "    # Definitio von str_monat um auf den spaltennamen zugreifen zu können\n",
    "    str_monat = str(monat)\n",
    "    \n",
    "    LY_monat = df_LY[str_monat]\n",
    "    array_phi = 1 / (1 + np.exp(delta_0[state] + delta_1[state] * np.log(LY_monat)))\n",
    "    \n",
    "    return array_phi\n",
    "\n",
    "# Definition der lambdaY als anzahl_iids x 1 array für monat und state\n",
    "def lambdaY_state_monat(alpha_p, beta_p_1, beta_p_2, state, monat):\n",
    "    \n",
    "    state = state -1\n",
    "    \n",
    "    # Definitio von str_monat um auf den spaltennamen zugreifen zu können\n",
    "    str_monat = str(monat)\n",
    "    EM_monat = df_HY[str_monat]\n",
    "    \n",
    "    array_lambdaY = np.exp(alpha_p[state] +\\\n",
    "                           beta_p_1[state] * EM_monat +\\\n",
    "                           beta_p_2[state] * np.square(EM_monat))\n",
    "    \n",
    "    return array_lambdaY\n",
    "\n",
    "# Array der Verteilungsfunktion der Käufe Y für Monat und state\n",
    "def F_Y_state_monat(delta_0, delta_1, alpha_p, beta_p_1, beta_p_2, state, monat):\n",
    "    \n",
    "    # Definitio von str_monat um auf den spaltennamen zugreifen zu können\n",
    "    str_monat = str(monat)\n",
    "    # y_monat ist das array mit der Anzahl an Käufen in monat str_monat\n",
    "    y_monat = df_trans_werte[str_monat]\n",
    "    # phi ist das 1 x anzahl_iids array mit phi für jeden kunden mit gegegebenem monat und state\n",
    "    phi = phi_state_monat(delta_0, delta_1, state, monat)\n",
    "    # lambdaY ist das 1 x anzahl_iids array mit lammbda für jeden kunden mit gegegebenem monat und state\n",
    "    lambdaY = lambdaY_state_monat(alpha_p, beta_p_1, beta_p_2, state, monat)\n",
    "    # pmf als 1x anzahl_iids array mit Nullen initieren\n",
    "    cdf = np.zeros_like(y_monat, dtype=float)\n",
    "    \n",
    "    if r[0] > 0:\n",
    "        for i in range(len(y_monat)):\n",
    "            for j in range(y_monat[i] + 1):\n",
    "                if j == 0:\n",
    "                    pmf = phi[i] + (1 - phi[i]) * (1 + lambdaY[i] / r[0])**(-r[0])\n",
    "                elif j > 0:\n",
    "                    numerator = math.gamma(j + r[0])\n",
    "                    denominator = math.factorial(j) * math.gamma(r[0])\n",
    "                    gamma_term = numerator / denominator\n",
    "                    pmf= (1 - phi[i]) * gamma_term * (1 + lambdaY[i] / r[0])**(-r[0]) * (1 + r[0] / lambdaY[i])**(-j)\n",
    "                cdf[i] += pmf\n",
    "    return cdf\n",
    "\n",
    "# Array der Verteilungsfunktion der Käufe Y-1 für Monat und state\n",
    "def F_Y_state_monat_minusEins(delta_0, delta_1, alpha_p, beta_p_1, beta_p_2, state, monat):\n",
    "    \n",
    "    # Definitio von str_monat um auf den spaltennamen zugreifen zu können\n",
    "    str_monat = str(monat)\n",
    "    # y_monat ist das array mit der Anzahl an Käufen in monat str_monat\n",
    "    y_monat = df_trans_werte[str_monat] -1\n",
    "    # phi ist das 1 x anzahl_iids array mit phi für jeden kunden mit gegegebenem monat und state\n",
    "    phi = phi_state_monat(delta_0, delta_1, state, monat)\n",
    "    # lambdaY ist das 1 x anzahl_iids array mit lammbda für jeden kunden mit gegegebenem monat und state\n",
    "    lambdaY = lambdaY_state_monat(alpha_p, beta_p_1, beta_p_2, state, monat)\n",
    "    # pmf als 1x anzahl_iids array mit Nullen initieren\n",
    "    cdf = np.zeros_like(y_monat, dtype=float)\n",
    "    \n",
    "    if r[0] > 0:\n",
    "        for i in range(len(y_monat)):\n",
    "            if y_monat[i] < 0:\n",
    "                cdf[i] = 0\n",
    "            else:\n",
    "                for j in range(y_monat[i] + 1):\n",
    "                    if j == 0:\n",
    "                        pmf = phi[i] + (1 - phi[i]) * (1 + lambdaY[i] / r[0])**(-r[0])\n",
    "                    elif j > 0:\n",
    "                        numerator = math.gamma((j) + r[0])\n",
    "                        denominator = math.factorial((j)) * math.gamma(r[0])\n",
    "                        gamma_term = numerator / denominator\n",
    "                        pmf= (1 - phi[i]) * gamma_term * (1 + lambdaY[i] / r[0])**(-r[0]) * (1 + r[0] / lambdaY[i])**(-(j))\n",
    "                cdf[i] += pmf\n",
    "    return cdf"
   ]
  },
  {
   "cell_type": "markdown",
   "id": "da44f57e",
   "metadata": {},
   "source": [
    "#### Tests"
   ]
  },
  {
   "cell_type": "markdown",
   "id": "1b3cd732",
   "metadata": {},
   "source": [
    "##### Definition der Frank-copula"
   ]
  },
  {
   "cell_type": "code",
   "execution_count": 76,
   "id": "93d54445",
   "metadata": {},
   "outputs": [],
   "source": [
    "# Frank Copula, theta fehlt\n",
    "def Frank_copula(u_1, u_2, theta):\n",
    "    numerator = (np.exp(-theta[0]*u_1) - 1) * (np.exp(-theta[0]*u_2) - 1)\n",
    "    denominator = np.exp(-theta[0]) - 1\n",
    "    fraction = numerator / denominator\n",
    "    return (-1 / theta[0]) * np.log(1 + fraction)"
   ]
  },
  {
   "cell_type": "markdown",
   "id": "94ff64e7",
   "metadata": {},
   "source": [
    "##### Definition der Likelihoodfunktion"
   ]
  },
  {
   "cell_type": "code",
   "execution_count": 77,
   "id": "847bd7e2",
   "metadata": {},
   "outputs": [],
   "source": [
    "# alpha_o, delta_0, delta_1, alpha_p, beta_p_1, beta_p_2 sind state dependent\n",
    "# beta_o, r sind state independent\n",
    "def likelihood_function(params):\n",
    "    \n",
    "    alpha_size = anzahl_states**2\n",
    "    gamma_size = anzahl_states**2 * 4\n",
    "\n",
    "    alpha = params[:alpha_size]\n",
    "    gamma = params[alpha_size:alpha_size+gamma_size]\n",
    "    alpha_o = params[alpha_size+gamma_size:alpha_size+gamma_size+anzahl_states]\n",
    "    beta_o = params[alpha_size+gamma_size+anzahl_states:alpha_size+gamma_size+anzahl_states+1]\n",
    "    delta_0 = params[alpha_size+gamma_size+anzahl_states+1:alpha_size+gamma_size+anzahl_states*2+1]\n",
    "    delta_1 = params[alpha_size+gamma_size+anzahl_states*2+1:alpha_size+gamma_size+anzahl_states*3+1]\n",
    "    alpha_p = params[alpha_size+gamma_size+anzahl_states*3+1:alpha_size+gamma_size+anzahl_states*4+1]\n",
    "    beta_p_1 = params[alpha_size+gamma_size+anzahl_states*4+1:alpha_size+gamma_size+anzahl_states*5+1]\n",
    "    beta_p_2 = params[alpha_size+gamma_size+anzahl_states*5+1:alpha_size+gamma_size+anzahl_states*6+1]\n",
    "    theta = params[alpha_size+gamma_size+anzahl_states*6+1:]\n",
    "\n",
    "\n",
    "    #alpha, gamma, alpha_o, beta_o, delta_0, delta_1, alpha_p, beta_p_1, beta_p_2, r, theta = params\n",
    "    ### Erstellung einer Liste H die alle H_it enthalten\n",
    "    H = np.zeros((anzahl_kunden, anzahl_monate, anzahl_states))\n",
    "                \n",
    "                \n",
    "    for monat in range(1,anzahl_monate+1):\n",
    "        for state in range(1, anzahl_states +1):\n",
    "            \n",
    "            # Berechnung von arrays für die Verteilungsfunktionen\n",
    "            F_O_state_monat_berechnung = F_O_state_monat(alpha_o, beta_o, state, monat)\n",
    "            \n",
    "            F_O_state_monat_berechnung_minusEins = F_O_state_monat_minusEins(alpha_o, beta_o, state, monat)\n",
    "            \n",
    "            F_Y_state_monat_berechnung = F_Y_state_monat(delta_0, delta_1, alpha_p, beta_p_1, beta_p_2, state, monat)\n",
    "            \n",
    "            F_Y_state_monat_berechnung_minusEins =\\\n",
    "                    F_Y_state_monat_minusEins(delta_0, delta_1, alpha_p, beta_p_1, beta_p_2, state, monat)\n",
    "            \n",
    "            # Berechnung der gemeinsamen Verteilungen\n",
    "            H_state_monat_berechnung =\\\n",
    "                            Frank_copula(F_O_state_monat_berechnung, F_Y_state_monat_berechnung, theta) -\\\n",
    "                            Frank_copula(F_O_state_monat_berechnung_minusEins, F_Y_state_monat_berechnung, theta) -\\\n",
    "                            Frank_copula(F_O_state_monat_berechnung, F_Y_state_monat_berechnung_minusEins, theta) +\\\n",
    "                            Frank_copula(F_O_state_monat_berechnung_minusEins, F_Y_state_monat_berechnung_minusEins, theta)\n",
    "            \n",
    "            # Speicherung der Werte in den leeren arrays\n",
    "            H[:, monat-1, state-1] = H_state_monat_berechnung\n",
    "\n",
    "    # Startverteilung ist (1, 0,..., 0)\n",
    "    startverteilung = np.zeros((1, anzahl_states))\n",
    "    startverteilung[0, 0] = 1\n",
    "    \n",
    "    # Transitionmatrix Q, liste von 3x3 Arrays, wobei für Monate 2, ..., 15 die Q_it angegeben werden und die Q_it fü die\n",
    "    # nächsten Kunden dahinter angehängt werden\n",
    "    Q = probability_Q_state_monat(alpha, gamma)\n",
    "    \n",
    "    eins_vektor = np.ones((anzahl_states, 1))\n",
    "    \n",
    "    likelihood = np.array([])\n",
    "    \n",
    "    for iid in range(anzahl_kunden):\n",
    "        result = startverteilung\n",
    "        result = np.matmul(result, np.diag(H[iid, 0]))\n",
    "        H_iid = np.eye(anzahl_states)\n",
    "        for monat in range(2, anzahl_monate+1):\n",
    "                H_iid_monat = np.matmul(np.diag(H[iid, monat-1]), Q[iid, monat-2])\n",
    "                H_iid = np.matmul(H_iid, H_iid_monat)\n",
    "        result = np.matmul(result, H_iid)\n",
    "        result = np.matmul(result, eins_vektor)\n",
    "        likelihood = np.concatenate((likelihood, result[0]))\n",
    "        \n",
    "    return abs(np.sum(np.log(likelihood)))"
   ]
  },
  {
   "cell_type": "markdown",
   "id": "2553a878",
   "metadata": {},
   "source": [
    "#### Tests"
   ]
  },
  {
   "cell_type": "code",
   "execution_count": 78,
   "id": "86e9ef60",
   "metadata": {},
   "outputs": [
    {
     "data": {
      "text/plain": [
       "[0, 0, 0]"
      ]
     },
     "execution_count": 78,
     "metadata": {},
     "output_type": "execute_result"
    }
   ],
   "source": [
    "values_quelle_alpha_o = [0]\n",
    "alpha_o = values_quelle_alpha_o * anzahl_states\n",
    "alpha_o"
   ]
  },
  {
   "cell_type": "markdown",
   "id": "aebd4d8b",
   "metadata": {},
   "source": [
    "# Berechnung der Likelihoodfunktion und Schätzung der Parameter"
   ]
  },
  {
   "cell_type": "markdown",
   "id": "42091ca4",
   "metadata": {},
   "source": [
    "### Dispersion Parameter r für die ZINBD Verteilun wurde vorhergeschätzt"
   ]
  },
  {
   "cell_type": "code",
   "execution_count": 79,
   "id": "b3bad52f",
   "metadata": {},
   "outputs": [],
   "source": [
    "r = [1.29]"
   ]
  },
  {
   "cell_type": "markdown",
   "id": "2f1899b5",
   "metadata": {},
   "source": [
    "### Definition der Startwerte"
   ]
  },
  {
   "cell_type": "code",
   "execution_count": 80,
   "id": "0128d379",
   "metadata": {
    "scrolled": true
   },
   "outputs": [],
   "source": [
    "# Parameter für Transitionmatrix\n",
    "#values_quelle_alpha = [0, -2.647, -1.432, 0, 2.829, -3.815, 0, -2.398, 0.61]\n",
    "# Parameter für Transitionmatrix, 2 states\n",
    "values_quelle_alpha = [0, -2.647, -1.432, 0, 2.829, -3.815, 0, -2.398, 0.61]\n",
    "alpha = np.array(values_quelle_alpha)\n",
    "gamma = np.zeros((anzahl_states, anzahl_states, 4)).flatten()\n",
    "\n",
    "# Parameter für CEOM\n",
    "# values_quelle_alpha_o wurde aus einer vorherigen Optimierung übernommen\n",
    "values_quelle_alpha_o = [0]\n",
    "alpha_o = values_quelle_alpha_o * anzahl_states\n",
    "# values_quelle_beta_o wurdevorher nicht geschätzt\n",
    "values_quelle_beta_o = [0]\n",
    "beta_o = values_quelle_beta_o\n",
    "\n",
    "# Parameter für CPM\n",
    "# values_quelle_alpha_o wurde aus einer vorherigen Optimierung übernommen\n",
    "values_quelle_delta_0 = [np.log(1.29)]\n",
    "delta_0 = values_quelle_delta_0 * anzahl_states\n",
    "# values_quelle_delta_1 wurde nicht aus einer vorherigen Optimierung übernommen\n",
    "values_quelle_delta_1 = [0]\n",
    "delta_1 = values_quelle_delta_1 * anzahl_states\n",
    "# values_quelle_alpha_p wurde aus einer vorherigen Optimierung übernommen\n",
    "values_quelle_alpha_p = [np.log(0.779)]\n",
    "alpha_p = values_quelle_alpha_p * anzahl_states\n",
    "# beta_p_1 wurde nicht aus einer vorherigen Optimierung übernommen\n",
    "values_quelle_beta_p_1 = [0]\n",
    "beta_p_1 = values_quelle_beta_p_1 * anzahl_states\n",
    "# beta_p_2 wurde nicht aus einer vorherigen Optimierung übernommen\n",
    "values_quelle_beta_p_2 = [0]\n",
    "beta_p_2 = values_quelle_beta_p_2 * anzahl_states\n",
    "\n",
    "# Parameter für Frank_copula\n",
    "theta = np.array([0.324])"
   ]
  },
  {
   "cell_type": "code",
   "execution_count": 81,
   "id": "e92a28a0",
   "metadata": {},
   "outputs": [],
   "source": [
    "# Startwerte\n",
    "x0 = np.concatenate((\n",
    "    alpha,\n",
    "    gamma,\n",
    "    alpha_o,\n",
    "    beta_o,\n",
    "    delta_0,\n",
    "    delta_1,\n",
    "    alpha_p,\n",
    "    beta_p_1,\n",
    "    beta_p_2,\n",
    "    theta))"
   ]
  },
  {
   "cell_type": "markdown",
   "id": "27e180c8",
   "metadata": {},
   "source": [
    "### Sonderfall"
   ]
  },
  {
   "cell_type": "code",
   "execution_count": 82,
   "id": "626d2941",
   "metadata": {},
   "outputs": [],
   "source": [
    "#x0 = estimated_params_4"
   ]
  },
  {
   "cell_type": "markdown",
   "id": "b82a73b6",
   "metadata": {},
   "source": [
    "### Definition der Bounds und Constraints"
   ]
  },
  {
   "cell_type": "code",
   "execution_count": 83,
   "id": "21aee4aa",
   "metadata": {},
   "outputs": [],
   "source": [
    "#Definiere bounds\n",
    "bounds =    [(-3, 3)] * len(alpha) +\\\n",
    "            [(-3, 3)] * len(gamma) +\\\n",
    "            [(-3, 3)] * len(alpha_o) +\\\n",
    "            [(-3, 3)] * len(beta_o) +\\\n",
    "            [(-8, 8)] * len(delta_0) +\\\n",
    "            [(-3, 2)] * len(delta_1) +\\\n",
    "            [(-3, 3)] * len(alpha_p) +\\\n",
    "            [(-3, 3)] * len(beta_p_1) +\\\n",
    "            [(-3, 3)] * len(beta_p_2) +\\\n",
    "            [(0.1, None)] * len(theta)"
   ]
  },
  {
   "cell_type": "code",
   "execution_count": 84,
   "id": "7d54274d",
   "metadata": {},
   "outputs": [],
   "source": [
    "#Für die Definition der constraint relevant\n",
    "alpha_size = anzahl_states**2\n",
    "gamma_size = anzahl_states**2 * 4\n",
    "# alpha_o = params[alpha_size+gamma_size:alpha_size+gamma_size+anzahl_states]\n",
    "constraint_matrix = np.zeros((2, len(x0)))\n",
    "# Positionen für alpha_o\n",
    "alpha_o_1_pos = alpha_size + gamma_size\n",
    "alpha_o_2_pos = alpha_size + gamma_size + 1\n",
    "alpha_o_3_pos = alpha_size + gamma_size + 2\n",
    "# -1 und 1 an den entsprechenden Positionen setzen\n",
    "constraint_matrix[0][alpha_o_1_pos] = -1\n",
    "constraint_matrix[0][alpha_o_2_pos] = 1\n",
    "constraint_matrix[1][alpha_o_2_pos] = -1\n",
    "constraint_matrix[1][alpha_o_3_pos] = 1"
   ]
  },
  {
   "cell_type": "code",
   "execution_count": 85,
   "id": "858d94bb",
   "metadata": {
    "scrolled": false
   },
   "outputs": [
    {
     "data": {
      "text/plain": [
       "array([[ 0.,  0.,  0.,  0.,  0.,  0.,  0.,  0.,  0.,  0.,  0.,  0.,  0.,\n",
       "         0.,  0.,  0.,  0.,  0.,  0.,  0.,  0.,  0.,  0.,  0.,  0.,  0.,\n",
       "         0.,  0.,  0.,  0.,  0.,  0.,  0.,  0.,  0.,  0.,  0.,  0.,  0.,\n",
       "         0.,  0.,  0.,  0.,  0.,  0., -1.,  1.,  0.,  0.,  0.,  0.,  0.,\n",
       "         0.,  0.,  0.,  0.,  0.,  0.,  0.,  0.,  0.,  0.,  0.,  0.,  0.],\n",
       "       [ 0.,  0.,  0.,  0.,  0.,  0.,  0.,  0.,  0.,  0.,  0.,  0.,  0.,\n",
       "         0.,  0.,  0.,  0.,  0.,  0.,  0.,  0.,  0.,  0.,  0.,  0.,  0.,\n",
       "         0.,  0.,  0.,  0.,  0.,  0.,  0.,  0.,  0.,  0.,  0.,  0.,  0.,\n",
       "         0.,  0.,  0.,  0.,  0.,  0.,  0., -1.,  1.,  0.,  0.,  0.,  0.,\n",
       "         0.,  0.,  0.,  0.,  0.,  0.,  0.,  0.,  0.,  0.,  0.,  0.,  0.]])"
      ]
     },
     "execution_count": 85,
     "metadata": {},
     "output_type": "execute_result"
    }
   ],
   "source": [
    "constraint_matrix"
   ]
  },
  {
   "cell_type": "code",
   "execution_count": 86,
   "id": "42242e75",
   "metadata": {},
   "outputs": [],
   "source": [
    "linear_constraint = LinearConstraint(constraint_matrix, [0, 0], [np.inf, np.inf])"
   ]
  },
  {
   "cell_type": "markdown",
   "id": "2a3dc1b8",
   "metadata": {},
   "source": [
    "### Berechnung per minimize Funktion"
   ]
  },
  {
   "cell_type": "code",
   "execution_count": 87,
   "id": "48ee675b",
   "metadata": {
    "scrolled": false
   },
   "outputs": [
    {
     "name": "stdout",
     "output_type": "stream",
     "text": [
      "[ 0.          0.97910085 -1.08261068  0.          3.          0.96880455\n",
      "  0.         -3.         -3.          0.         -2.20035184 -1.71408435\n",
      "  0.          2.29944137 -0.35217784  0.         -0.36947497 -0.54287725\n",
      "  0.          0.43988798 -1.94973166  0.          0.90438441  1.03066734\n",
      "  0.         -0.87033868 -1.59807034  0.         -1.04829589 -2.0245216\n",
      "  0.         -1.31887198  1.33952552  0.          1.06261259 -0.85839289\n",
      "  0.         -1.91277344 -3.          0.         -0.34067167 -0.6339206\n",
      "  0.          2.16470043 -1.4517337   1.13642239 -3.          3.\n",
      " -1.07486814  8.          6.51485761  2.47577321  1.80146985  0.62366864\n",
      "  1.70005278 -0.57673086 -1.67901437 -1.13795493 -0.90321631  0.3998805\n",
      "  0.54789844  0.20269187 -0.22975051 -0.19591458  0.72008582]\n"
     ]
    }
   ],
   "source": [
    "options = {'maxiter': 200} \n",
    "# Rufen Sie minimize() auf und übergeben Sie die zusätzlichen Parameter mit args=\n",
    "result = minimize(likelihood_function, x0, options=options, bounds = bounds) \n",
    "                  #constraints=linear_constraint)\n",
    "                  #args=(alpha, gamma, alpha_o, beta_o, delta_0, delta_1, alpha_p, beta_p_1, beta_p_2, r, theta), bounds=bounds)\n",
    "\n",
    "# Gib die geschätzten Parameter aus\n",
    "print(result.x)"
   ]
  },
  {
   "cell_type": "code",
   "execution_count": 88,
   "id": "4b0604b9",
   "metadata": {},
   "outputs": [
    {
     "name": "stdout",
     "output_type": "stream",
     "text": [
      "Likelihood für optimale Parameter:\n",
      "18216.61283556221\n"
     ]
    }
   ],
   "source": [
    "# Berechne die Likelihood für die optimalen Parameter\n",
    "likelihood = likelihood_function(result.x)\n",
    "print(\"Likelihood für optimale Parameter:\")\n",
    "print(likelihood)"
   ]
  },
  {
   "cell_type": "code",
   "execution_count": 89,
   "id": "cb21a0e4",
   "metadata": {},
   "outputs": [
    {
     "name": "stdout",
     "output_type": "stream",
     "text": [
      "False\n"
     ]
    }
   ],
   "source": [
    "print(result.success)"
   ]
  },
  {
   "cell_type": "code",
   "execution_count": 117,
   "id": "df22eef0",
   "metadata": {},
   "outputs": [],
   "source": [
    "estimated_params_4 = [ 0.        ,  0.97910085, -1.08261068,  0.        ,  3.        ,\n",
    "        0.96880455,  0.        , -3.        , -3.        ,  0.        ,\n",
    "       -2.20035184, -1.71408435,  0.        ,  2.29944137, -0.35217784,\n",
    "        0.        , -0.36947497, -0.54287725,  0.        ,  0.43988798,\n",
    "       -1.94973166,  0.        ,  0.90438441,  1.03066734,  0.        ,\n",
    "       -0.87033868, -1.59807034,  0.        , -1.04829589, -2.0245216 ,\n",
    "        0.        , -1.31887198,  1.33952552,  0.        ,  1.06261259,\n",
    "       -0.85839289,  0.        , -1.91277344, -3.        ,  0.        ,\n",
    "       -0.34067167, -0.6339206 ,  0.        ,  2.16470043, -1.4517337 ,\n",
    "        1.13642239, -3.        ,  3.        , -1.07486814,  8.        ,\n",
    "        6.51485761,  2.47577321,  1.80146985,  0.62366864,  1.70005278,\n",
    "       -0.57673086, -1.67901437, -1.13795493, -0.90321631,  0.3998805 ,\n",
    "        0.54789844,  0.20269187, -0.22975051, -0.19591458,  0.72008582]"
   ]
  },
  {
   "cell_type": "code",
   "execution_count": 118,
   "id": "a209a224",
   "metadata": {},
   "outputs": [],
   "source": [
    "alpha_4 = estimated_params_4[:alpha_size]\n",
    "gamma_4 = estimated_params_4[alpha_size:alpha_size+gamma_size]\n",
    "\n",
    "alpha_4 = estimated_params_4[:alpha_size]\n",
    "gamma_4 = estimated_params_4[alpha_size:alpha_size+gamma_size]\n",
    "alpha_o_4 = estimated_params_4[alpha_size+gamma_size:alpha_size+gamma_size+anzahl_states]\n",
    "beta_o_4 = estimated_params_4[alpha_size+gamma_size+anzahl_states:alpha_size+gamma_size+anzahl_states+1]\n",
    "delta_0_4 = estimated_params_4[alpha_size+gamma_size+anzahl_states+1:alpha_size+gamma_size+anzahl_states*2+1]\n",
    "delta_1_4 = estimated_params_4[alpha_size+gamma_size+anzahl_states*2+1:alpha_size+gamma_size+anzahl_states*3+1]\n",
    "alpha_p_4 = estimated_params_4[alpha_size+gamma_size+anzahl_states*3+1:alpha_size+gamma_size+anzahl_states*4+1]\n",
    "beta_p_1_4 = estimated_params_4[alpha_size+gamma_size+anzahl_states*4+1:alpha_size+gamma_size+anzahl_states*5+1]\n",
    "beta_p_2_4 = estimated_params_4[alpha_size+gamma_size+anzahl_states*5+1:alpha_size+gamma_size+anzahl_states*6+1]\n",
    "theta_4 = estimated_params_4[alpha_size+gamma_size+anzahl_states*6+1:]"
   ]
  },
  {
   "cell_type": "code",
   "execution_count": 119,
   "id": "e97a9410",
   "metadata": {},
   "outputs": [
    {
     "data": {
      "text/plain": [
       "[0.0, 0.97910085, -1.08261068, 0.0, 3.0, 0.96880455, 0.0, -3.0, -3.0]"
      ]
     },
     "execution_count": 119,
     "metadata": {},
     "output_type": "execute_result"
    }
   ],
   "source": [
    "alpha_4"
   ]
  },
  {
   "cell_type": "code",
   "execution_count": 120,
   "id": "0c79afad",
   "metadata": {},
   "outputs": [
    {
     "data": {
      "text/plain": [
       "[0.0,\n",
       " -2.20035184,\n",
       " -1.71408435,\n",
       " 0.0,\n",
       " 2.29944137,\n",
       " -0.35217784,\n",
       " 0.0,\n",
       " -0.36947497,\n",
       " -0.54287725,\n",
       " 0.0,\n",
       " 0.43988798,\n",
       " -1.94973166,\n",
       " 0.0,\n",
       " 0.90438441,\n",
       " 1.03066734,\n",
       " 0.0,\n",
       " -0.87033868,\n",
       " -1.59807034,\n",
       " 0.0,\n",
       " -1.04829589,\n",
       " -2.0245216,\n",
       " 0.0,\n",
       " -1.31887198,\n",
       " 1.33952552,\n",
       " 0.0,\n",
       " 1.06261259,\n",
       " -0.85839289,\n",
       " 0.0,\n",
       " -1.91277344,\n",
       " -3.0,\n",
       " 0.0,\n",
       " -0.34067167,\n",
       " -0.6339206,\n",
       " 0.0,\n",
       " 2.16470043,\n",
       " -1.4517337]"
      ]
     },
     "execution_count": 120,
     "metadata": {},
     "output_type": "execute_result"
    }
   ],
   "source": [
    "gamma_4"
   ]
  },
  {
   "cell_type": "code",
   "execution_count": 121,
   "id": "5f991738",
   "metadata": {},
   "outputs": [
    {
     "data": {
      "text/plain": [
       "[1.13642239, -3.0, 3.0]"
      ]
     },
     "execution_count": 121,
     "metadata": {},
     "output_type": "execute_result"
    }
   ],
   "source": [
    "alpha_o_4"
   ]
  },
  {
   "cell_type": "code",
   "execution_count": 122,
   "id": "88e65b1c",
   "metadata": {},
   "outputs": [
    {
     "data": {
      "text/plain": [
       "[-1.07486814]"
      ]
     },
     "execution_count": 122,
     "metadata": {},
     "output_type": "execute_result"
    }
   ],
   "source": [
    "beta_o_4"
   ]
  },
  {
   "cell_type": "code",
   "execution_count": 123,
   "id": "894a6213",
   "metadata": {},
   "outputs": [
    {
     "data": {
      "text/plain": [
       "[8.0, 6.51485761, 2.47577321]"
      ]
     },
     "execution_count": 123,
     "metadata": {},
     "output_type": "execute_result"
    }
   ],
   "source": [
    "delta_0_4"
   ]
  },
  {
   "cell_type": "code",
   "execution_count": 124,
   "id": "c1a01971",
   "metadata": {},
   "outputs": [
    {
     "data": {
      "text/plain": [
       "[1.80146985, 0.62366864, 1.70005278]"
      ]
     },
     "execution_count": 124,
     "metadata": {},
     "output_type": "execute_result"
    }
   ],
   "source": [
    "delta_1_4"
   ]
  },
  {
   "cell_type": "code",
   "execution_count": 125,
   "id": "8a1763c5",
   "metadata": {},
   "outputs": [
    {
     "data": {
      "text/plain": [
       "[-0.57673086, -1.67901437, -1.13795493]"
      ]
     },
     "execution_count": 125,
     "metadata": {},
     "output_type": "execute_result"
    }
   ],
   "source": [
    "alpha_p_4"
   ]
  },
  {
   "cell_type": "code",
   "execution_count": 126,
   "id": "90728739",
   "metadata": {},
   "outputs": [
    {
     "data": {
      "text/plain": [
       "[-0.90321631, 0.3998805, 0.54789844]"
      ]
     },
     "execution_count": 126,
     "metadata": {},
     "output_type": "execute_result"
    }
   ],
   "source": [
    "beta_p_1_4"
   ]
  },
  {
   "cell_type": "code",
   "execution_count": 127,
   "id": "2c707f3f",
   "metadata": {},
   "outputs": [
    {
     "data": {
      "text/plain": [
       "[0.20269187, -0.22975051, -0.19591458]"
      ]
     },
     "execution_count": 127,
     "metadata": {},
     "output_type": "execute_result"
    }
   ],
   "source": [
    "beta_p_2_4"
   ]
  },
  {
   "cell_type": "code",
   "execution_count": 101,
   "id": "e3c3d3f9",
   "metadata": {},
   "outputs": [
    {
     "data": {
      "text/plain": [
       "      fun: 18216.61283556221\n",
       " hess_inv: <65x65 LbfgsInvHessProduct with dtype=float64>\n",
       "      jac: array([ 0.00000000e+00, -1.23509380e+00,  1.30603440e-01,  0.00000000e+00,\n",
       "       -6.38501664e+00, -3.33711794e+00,  0.00000000e+00,  2.60406525e+00,\n",
       "        2.87145669e+00,  0.00000000e+00,  4.86470529e+00,  1.86992112e-01,\n",
       "        0.00000000e+00,  2.14313333e+00, -3.49609764e-01,  0.00000000e+00,\n",
       "        2.89946911e-01,  7.27595758e-04,  0.00000000e+00,  2.03399395e+00,\n",
       "        5.70798878e-01,  0.00000000e+00,  8.49468047e-01,  1.89174899e-02,\n",
       "        0.00000000e+00,  1.64618540e+00,  4.35466066e-01,  0.00000000e+00,\n",
       "        2.54731278e+00,  2.86672732e-01,  0.00000000e+00, -9.02582548e-01,\n",
       "        9.07675718e-01,  0.00000000e+00,  1.41262718e+00,  2.00088833e-02,\n",
       "        0.00000000e+00,  2.32794265e+00,  2.87036530e-01,  0.00000000e+00,\n",
       "        3.51064955e-01,  1.86082615e+00,  0.00000000e+00,  1.47883839e+00,\n",
       "        2.00088836e-02, -7.19737732e+00,  1.90375432e+00, -7.29960452e+00,\n",
       "        8.25202738e+00, -1.38970791e-01, -7.09405872e-02, -4.86033972e-01,\n",
       "        1.10230759e-01, -9.82254273e-03, -1.42608770e-01, -1.09983375e+01,\n",
       "        1.07320375e-01,  1.86737453e+00, -2.53839970e+01, -1.05465006e+00,\n",
       "        3.00060491e+00, -4.79256414e+01, -3.33711796e+00,  7.14208000e+00,\n",
       "        2.35413607e+00])\n",
       "  message: 'STOP: TOTAL NO. of ITERATIONS REACHED LIMIT'\n",
       "     nfev: 14784\n",
       "      nit: 200\n",
       "     njev: 224\n",
       "   status: 1\n",
       "  success: False\n",
       "        x: array([ 0.        ,  0.97910085, -1.08261068,  0.        ,  3.        ,\n",
       "        0.96880455,  0.        , -3.        , -3.        ,  0.        ,\n",
       "       -2.20035184, -1.71408435,  0.        ,  2.29944137, -0.35217784,\n",
       "        0.        , -0.36947497, -0.54287725,  0.        ,  0.43988798,\n",
       "       -1.94973166,  0.        ,  0.90438441,  1.03066734,  0.        ,\n",
       "       -0.87033868, -1.59807034,  0.        , -1.04829589, -2.0245216 ,\n",
       "        0.        , -1.31887198,  1.33952552,  0.        ,  1.06261259,\n",
       "       -0.85839289,  0.        , -1.91277344, -3.        ,  0.        ,\n",
       "       -0.34067167, -0.6339206 ,  0.        ,  2.16470043, -1.4517337 ,\n",
       "        1.13642239, -3.        ,  3.        , -1.07486814,  8.        ,\n",
       "        6.51485761,  2.47577321,  1.80146985,  0.62366864,  1.70005278,\n",
       "       -0.57673086, -1.67901437, -1.13795493, -0.90321631,  0.3998805 ,\n",
       "        0.54789844,  0.20269187, -0.22975051, -0.19591458,  0.72008582])"
      ]
     },
     "execution_count": 101,
     "metadata": {},
     "output_type": "execute_result"
    }
   ],
   "source": [
    "result"
   ]
  },
  {
   "cell_type": "markdown",
   "id": "1dc6b0b2",
   "metadata": {},
   "source": [
    "# Ergebisse:"
   ]
  },
  {
   "cell_type": "code",
   "execution_count": 102,
   "id": "c1328a39",
   "metadata": {},
   "outputs": [
    {
     "name": "stdout",
     "output_type": "stream",
     "text": [
      "array_lambda = np.exp(np.log(0.63*EM_monat) + alpha_o[state] + beta_o[0] * np.log(LO_monat))\n",
      "array_lambda = array_lambda / 1 + array_lambda\n",
      "array_exp = np.exp(alpha_p[state] + beta_p_1[state] * EM_monat + beta_p_2[state] * np.square(EM_monat))\n",
      "Likelihood für optimale Parameter: 17812\n"
     ]
    }
   ],
   "source": [
    "# Ausgangssituation\n",
    "print(\"array_lambda = np.exp(np.log(0.63*EM_monat) + alpha_o[state] + beta_o[0] * np.log(LO_monat))\")\n",
    "print(\"array_lambda = array_lambda / 1 + array_lambda\")\n",
    "print(\"array_exp = np.exp(alpha_p[state] + beta_p_1[state] * EM_monat + beta_p_2[state] * np.square(EM_monat))\")\n",
    "print(\"Likelihood für optimale Parameter: 17812\")"
   ]
  },
  {
   "cell_type": "code",
   "execution_count": 103,
   "id": "9c2e7da3",
   "metadata": {},
   "outputs": [
    {
     "name": "stdout",
     "output_type": "stream",
     "text": [
      "array_lambda = np.exp(np.log(0.63*EM_monat) + alpha_o[state] + beta_o[0] * np.log(LO_monat))\n",
      "array_lambda = array_lambda\n",
      "array_exp = np.exp(alpha_p[state] + beta_p_1[state] * EM_monat + beta_p_2[state] * np.square(EM_monat))\n",
      "Likelihood für optimale Parameter: 17812\n"
     ]
    }
   ],
   "source": [
    "# Test ob array_lambda = array_lambda / 1 + array_lambda bessere oder schlechtere Ergebnisse liefert \n",
    "print(\"array_lambda = np.exp(np.log(0.63*EM_monat) + alpha_o[state] + beta_o[0] * np.log(LO_monat))\")\n",
    "print(\"array_lambda = array_lambda\")\n",
    "print(\"array_exp = np.exp(alpha_p[state] + beta_p_1[state] * EM_monat + beta_p_2[state] * np.square(EM_monat))\")\n",
    "print(\"Likelihood für optimale Parameter: 17812\")"
   ]
  },
  {
   "cell_type": "code",
   "execution_count": 104,
   "id": "57000de5",
   "metadata": {},
   "outputs": [
    {
     "name": "stdout",
     "output_type": "stream",
     "text": [
      "array_lambda = np.exp(np.log(0.63*EM_monat) + alpha_o[state] + beta_o[0] * np.log(LO_monat))\n",
      "array_lambda = array_lambda\n",
      "array_exp = np.exp(alpha_p[state] + beta_p_1[state] * EM_monat)\n",
      "Likelihood für optimale Parameter: 17812\n"
     ]
    }
   ],
   "source": [
    "# Test kein quadratischer Einfluss des EM auf Käufe\n",
    "print(\"array_lambda = np.exp(np.log(0.63*EM_monat) + alpha_o[state] + beta_o[0] * np.log(LO_monat))\")\n",
    "print(\"array_lambda = array_lambda\")\n",
    "print(\"array_exp = np.exp(alpha_p[state] + beta_p_1[state] * EM_monat)\")\n",
    "print(\"Likelihood für optimale Parameter: 17812\")"
   ]
  },
  {
   "cell_type": "code",
   "execution_count": 105,
   "id": "2fbf7a56",
   "metadata": {},
   "outputs": [
    {
     "name": "stdout",
     "output_type": "stream",
     "text": [
      "array_lambda = np.exp(np.log(0.63*EM_monat) + alpha_o[state] + beta_o[0] * np.log(LO_monat))\n",
      "array_lambda = array_lambda\n",
      "array_exp = np.exp(alpha_p[state] + beta_p_1[state] * EM_monat + beta_p_2[state] * np.square(EM_monat))\n",
      "Likelihood für optimale Parameter: 17547\n"
     ]
    }
   ],
   "source": [
    "# Test, ob keine \"keine constraints\" zu besseren Ergebnissen führt\n",
    "print(\"array_lambda = np.exp(np.log(0.63*EM_monat) + alpha_o[state] + beta_o[0] * np.log(LO_monat))\")\n",
    "print(\"array_lambda = array_lambda\")\n",
    "print(\"array_exp = np.exp(alpha_p[state] + beta_p_1[state] * EM_monat + beta_p_2[state] * np.square(EM_monat))\")\n",
    "print(\"Likelihood für optimale Parameter: 17547\")"
   ]
  },
  {
   "cell_type": "code",
   "execution_count": 106,
   "id": "8442ee3e",
   "metadata": {},
   "outputs": [
    {
     "name": "stdout",
     "output_type": "stream",
     "text": [
      "likelihood mit ZINBD: 14451\n"
     ]
    }
   ],
   "source": [
    "#Ob nach Anpassungen die schönere Schreibweise auch für die ZINBD Definition funktioeiert und dieselben Ergebnisse liefert\n",
    "print(\"likelihood mit ZINBD: 14451\")"
   ]
  },
  {
   "cell_type": "code",
   "execution_count": 107,
   "id": "02f9d767",
   "metadata": {
    "scrolled": true
   },
   "outputs": [
    {
     "name": "stdout",
     "output_type": "stream",
     "text": [
      "likelihood mit ZINBD:\n",
      "array_lambda = np.exp(np.log(0.63*EM_monat) + alpha_o[state] + beta_o[0] * np.log(LO_monat))\n",
      "array_lambda = array_lambda\n",
      "array_exp = np.exp(alpha_p[state] + beta_p_1[state] * EM_monat + beta_p_2[state] * np.square(EM_monat))\n",
      "Likelihood für optimale Parameter: 14451\n",
      "Parameter:\n"
     ]
    }
   ],
   "source": [
    "# Test ob für Standardspezifikation\n",
    "print(\"likelihood mit ZINBD:\")\n",
    "print(\"array_lambda = np.exp(np.log(0.63*EM_monat) + alpha_o[state] + beta_o[0] * np.log(LO_monat))\")\n",
    "print(\"array_lambda = array_lambda\")\n",
    "print(\"array_exp = np.exp(alpha_p[state] + beta_p_1[state] * EM_monat + beta_p_2[state] * np.square(EM_monat))\")\n",
    "print(\"Likelihood für optimale Parameter: 14451\")\n",
    "print(\"Parameter:\")"
   ]
  },
  {
   "cell_type": "code",
   "execution_count": 108,
   "id": "dddde613",
   "metadata": {},
   "outputs": [],
   "source": [
    "optim_param = [ 0.00000000e+00, -8.42013774e+01,  1.69986125e+01,  0.00000000e+00,\n",
    "       -1.25200153e+01, -1.53060979e+01,  0.00000000e+00, -4.01802666e+00,\n",
    "        3.14514828e+01,  0.00000000e+00, -3.40875207e+01, -2.82844507e-01,\n",
    "        0.00000000e+00, -1.16977610e+01, -4.21223535e+01,  0.00000000e+00,\n",
    "       -3.23512569e+01,  5.05520432e+00,  0.00000000e+00, -1.36423722e+00,\n",
    "       -1.19458664e+00,  0.00000000e+00,  1.05242438e+00, -1.51554184e+01,\n",
    "        0.00000000e+00,  1.02752609e+00,  8.49398978e-01,  0.00000000e+00,\n",
    "        7.18296331e+01,  4.41698548e-01,  0.00000000e+00,  1.58841432e+01,\n",
    "        1.58119714e+01,  0.00000000e+00,  1.02333573e+01, -1.84782829e+01,\n",
    "        0.00000000e+00, -1.06581824e+01, -4.26447692e-01,  0.00000000e+00,\n",
    "        2.48374764e+01,  2.47507462e+01,  0.00000000e+00, -1.02161982e+00,\n",
    "        4.57256224e+00,  2.68038255e-02, -9.78697275e-01,  2.34488631e-01,\n",
    "       -2.46871753e-01,  1.80545838e+01,  2.12346810e+01,  1.49348847e+01,\n",
    "        0.00000000e+00,  1.72348151e-01, -3.64387979e-01, -5.53773619e-01,\n",
    "       -2.76890669e+00, -1.66599130e+00,  4.94843823e-01,  8.64751297e-01,\n",
    "       -6.48676929e-02, -2.92112867e-01, -1.55380568e-01,  5.61001901e-02,\n",
    "        1.47689589e+00]"
   ]
  },
  {
   "cell_type": "code",
   "execution_count": 109,
   "id": "31bc225a",
   "metadata": {},
   "outputs": [
    {
     "name": "stdout",
     "output_type": "stream",
     "text": [
      "likelihood mit ZINBD:\n",
      "array_lambda = np.exp(np.log(0.63)*EM_monat + alpha_o[state] + beta_o[0] * np.log(LO_monat))\n",
      "array_lambda = array_lambda\n",
      "array_exp = np.exp(alpha_p[state] + beta_p_1[state] * EM_monat + beta_p_2[state] * np.square(EM_monat))\n",
      "Likelihood für optimale Parameter: 18522\n"
     ]
    }
   ],
   "source": [
    "# Test ob np.log(0.63)*EM_monat besser als np.log(0.63*EM_monat)läuft und evtl terminiert\n",
    "print(\"likelihood mit ZINBD:\")\n",
    "print(\"array_lambda = np.exp(np.log(0.63)*EM_monat + alpha_o[state] + beta_o[0] * np.log(LO_monat))\")\n",
    "print(\"array_lambda = array_lambda\")\n",
    "print(\"array_exp = np.exp(alpha_p[state] + beta_p_1[state] * EM_monat + beta_p_2[state] * np.square(EM_monat))\")\n",
    "print(\"Likelihood für optimale Parameter: 18522\")"
   ]
  },
  {
   "cell_type": "code",
   "execution_count": 110,
   "id": "f80a56f8",
   "metadata": {},
   "outputs": [],
   "source": [
    "optim_param = [ 0.00000000e+00, -8.42324287e+01,  1.69437089e+01,  0.00000000e+00,\n",
    "       -1.51114259e+01, -1.27787560e+01,  0.00000000e+00, -4.66039409e+00,\n",
    "        3.23378060e+01,  0.00000000e+00, -3.42059247e+01, -3.03032101e-01,\n",
    "        0.00000000e+00, -1.16969644e+01, -4.21223535e+01,  0.00000000e+00,\n",
    "       -3.23512569e+01,  5.10330353e+00,  0.00000000e+00, -1.34546356e+00,\n",
    "       -1.45060842e+00,  0.00000000e+00,  1.05242438e+00, -1.51554184e+01,\n",
    "        0.00000000e+00,  6.50267936e-01,  1.11128688e+00,  0.00000000e+00,\n",
    "        7.18149941e+01,  5.07482709e-01,  0.00000000e+00,  1.65202863e+01,\n",
    "        1.50351002e+01,  0.00000000e+00,  9.40601150e+00, -1.66324994e+01,\n",
    "        0.00000000e+00, -1.05955017e+01, -1.72078495e-01,  0.00000000e+00,\n",
    "        2.62869932e+01,  2.28266666e+01,  0.00000000e+00, -1.69422693e+00,\n",
    "        7.29303793e+00,  4.87220599e-01,  7.01288616e-01,  1.24299189e+00,\n",
    "       -1.36993482e+00,  1.80247785e+01,  2.12346810e+01,  1.55971024e+01,\n",
    "        0.00000000e+00,  1.72348151e-01, -5.49982853e-01, -2.11311398e-01,\n",
    "       -3.31995657e+00, -1.50224012e+00,  2.04106841e-01,  1.71997448e+00,\n",
    "       -8.41039175e-02, -2.74031043e-01, -4.31434986e-01,  1.32125605e-02,\n",
    "        1.07630364e+00]"
   ]
  },
  {
   "cell_type": "code",
   "execution_count": 111,
   "id": "91473699",
   "metadata": {
    "scrolled": true
   },
   "outputs": [
    {
     "name": "stdout",
     "output_type": "stream",
     "text": [
      "likelihood mit ZINBD:\n",
      "array_lambda = np.exp(np.log(0.63)*EM_monat + alpha_o[state] + beta_o[0] * np.log(LO_monat))\n",
      "array_lambda = array_lambda\n",
      "array_exp = np.exp(alpha_p[state] + beta_p_1[state] * EM_monat + beta_p_2[state] * np.square(EM_monat))\n",
      "Likelihood für optimale Parameter: 18522\n",
      "result.success: False\n"
     ]
    }
   ],
   "source": [
    "# Test ob np.log(0.63)*EM_monat besser als np.log(0.63*EM_monat)läuft und evtl terminiert\n",
    "print(\"likelihood mit ZINBD:\")\n",
    "print(\"array_lambda = np.exp(np.log(0.63)*EM_monat + alpha_o[state] + beta_o[0] * np.log(LO_monat))\")\n",
    "print(\"array_lambda = array_lambda\")\n",
    "print(\"array_exp = np.exp(alpha_p[state] + beta_p_1[state] * EM_monat + beta_p_2[state] * np.square(EM_monat))\")\n",
    "print(\"Likelihood für optimale Parameter: 18522\")\n",
    "print(\"result.success: False\")"
   ]
  },
  {
   "cell_type": "markdown",
   "id": "2647f91f",
   "metadata": {},
   "source": [
    "#### Einzige Interpretierbare Ergebnisse: ZINBD und 2 states"
   ]
  },
  {
   "cell_type": "code",
   "execution_count": 112,
   "id": "6b8a77f7",
   "metadata": {},
   "outputs": [],
   "source": [
    "interpretierbare_param = [  0.        , -18.15053611,   0.        , -58.29432985,\n",
    "         0.        ,  -2.90055678,   0.        ,  14.34443851,\n",
    "         0.        ,   0.45459921,   0.        , -15.93902142,\n",
    "         0.        ,  26.45959452,   0.        ,  44.41306213,\n",
    "         0.        ,  -7.85441467,   0.        , -11.04343658,\n",
    "         0.73832154,   1.79246772,  -1.25828191,   8.15200577,\n",
    "        14.28575254,  -0.76026437,  -1.58603474,  -1.21677622,\n",
    "        -2.79459761,  -0.25805106,   0.73952882,   0.08644445,\n",
    "        -0.11602983,   0.81965572]"
   ]
  },
  {
   "cell_type": "code",
   "execution_count": 113,
   "id": "0e3b28ed",
   "metadata": {},
   "outputs": [
    {
     "name": "stdout",
     "output_type": "stream",
     "text": [
      "likelihood: 17988\n",
      "options = {'maxiter': 100}\n",
      "result = minimize(likelihood_function, x0, options=options)\n",
      " success: False\n"
     ]
    }
   ],
   "source": [
    "print(\"likelihood: 17988\")\n",
    "print(\"options = {'maxiter': 100}\") \n",
    "print(\"result = minimize(likelihood_function, x0, options=options)\")\n",
    "print(\" success: False\")"
   ]
  },
  {
   "cell_type": "markdown",
   "id": "bf24efbc",
   "metadata": {},
   "source": [
    "### Weitere Testsmit 2 states"
   ]
  },
  {
   "cell_type": "code",
   "execution_count": 114,
   "id": "0808a9e6",
   "metadata": {},
   "outputs": [
    {
     "name": "stdout",
     "output_type": "stream",
     "text": [
      "likelihood mit ZINBD:\n",
      "array_lambda = np.exp(np.log(0.63)*EM_monat + alpha_o[state] + beta_o[0] * np.log(LO_monat))\n",
      "array_lambda = array_lambda\n",
      "array_exp = np.exp(alpha_p[state] + beta_p_1[state] * EM_monat + beta_p_2[state] * np.square(EM_monat))\n",
      "Likelihood für optimale Parameter: 18293\n",
      " success: True\n"
     ]
    }
   ],
   "source": [
    "# Test für 2 states und 1000 Iterationen und bounds\n",
    "print(\"likelihood mit ZINBD:\")\n",
    "print(\"array_lambda = np.exp(np.log(0.63)*EM_monat + alpha_o[state] + beta_o[0] * np.log(LO_monat))\")\n",
    "print(\"array_lambda = array_lambda\")\n",
    "print(\"array_exp = np.exp(alpha_p[state] + beta_p_1[state] * EM_monat + beta_p_2[state] * np.square(EM_monat))\")\n",
    "print(\"Likelihood für optimale Parameter: 18293\")\n",
    "print(\" success: True\")"
   ]
  },
  {
   "cell_type": "code",
   "execution_count": 115,
   "id": "fde4af47",
   "metadata": {},
   "outputs": [],
   "source": [
    "results_param = [ 0.        ,  3.13291287,  0.        ,  1.60263079,  0.        ,\n",
    "        0.06988214,  0.        ,  0.79140532,  0.        ,  0.91950281,\n",
    "        0.        , -1.10907081,  0.        , -3.41801979,  0.        ,\n",
    "       -3.41917121,  0.        , -4.23594507,  0.        , -3.9000474 ,\n",
    "        1.10129257, -5.        , -0.79042102,  5.        ,  5.        ,\n",
    "        4.63925216,  1.95999501, -0.53922688, -1.71813938, -0.86955723,\n",
    "       -1.45737121,  0.18195139,  1.1       ,  0.90651293]"
   ]
  },
  {
   "cell_type": "markdown",
   "id": "dae4c0ff",
   "metadata": {},
   "source": [
    "### Aktueller Test"
   ]
  },
  {
   "cell_type": "code",
   "execution_count": 116,
   "id": "b5c9d65c",
   "metadata": {},
   "outputs": [
    {
     "name": "stdout",
     "output_type": "stream",
     "text": [
      "likelihood mit ZINBD:\n",
      "array_lambda = np.exp(np.log(0.63)*EM_monat + alpha_o[state] + beta_o[0] * np.log(LO_monat))\n",
      "array_lambda = array_lambda\n",
      "array_exp = np.exp(alpha_p[state] + beta_p_1[state] * EM_monat + beta_p_2[state] * np.square(EM_monat))\n",
      "Likelihood für optimale Parameter:\n",
      "18216.61283556221\n"
     ]
    }
   ],
   "source": [
    "# Test für 3 states und 200 Iterationen und bounds, neue bounds\n",
    "print(\"likelihood mit ZINBD:\")\n",
    "print(\"array_lambda = np.exp(np.log(0.63)*EM_monat + alpha_o[state] + beta_o[0] * np.log(LO_monat))\")\n",
    "print(\"array_lambda = array_lambda\")\n",
    "print(\"array_exp = np.exp(alpha_p[state] + beta_p_1[state] * EM_monat + beta_p_2[state] * np.square(EM_monat))\")\n",
    "print(\"Likelihood für optimale Parameter:\")\n",
    "print(likelihood)"
   ]
  },
  {
   "cell_type": "markdown",
   "id": "633b62fd",
   "metadata": {},
   "source": [
    "# Code Graveyard"
   ]
  },
  {
   "cell_type": "markdown",
   "id": "9c1ad14f",
   "metadata": {},
   "source": [
    "Vorherige Definition der Verteilungsfunktion von O_it über Schleifen"
   ]
  },
  {
   "cell_type": "markdown",
   "id": "b18d0a3c",
   "metadata": {},
   "source": [
    "##### Definition der Erfolgswahrscheinlichkeit p_it als 1 x anzhal_states array \n",
    "def p_alt(iid, t, alpha_o, beta_o):\n",
    "    LO_iddt = df_LO.loc[df_LO['iid'] == iid, t].values[0]\n",
    "    p = exp(alpha_o + beta_o * np.log(LO_iddt)) / (1 + exp(alpha + beta * log(LO_iddt)))\n",
    "    return p\n",
    "\n",
    "#Wahrscheinlichkeiten werden in Array von Arrays zurückgegeben\n",
    "def F_O_iidt_alt(alpha_o, beta_o):\n",
    "    # P_O_iidt_speicher als Zwischenspeicher\n",
    "    P_O_iidt_speicher_gesamt = []\n",
    "    \n",
    "    for iid in trans[\"iid\"]:\n",
    "        # P_O_iidt_speicher als Zwischenspeicher für jede iid\n",
    "        P_O_iidt_speicher_jede_iid = []\n",
    "        \n",
    "        for t in range(1, 16):\n",
    "            # Defintion der Erfolgswahrscheinlichkeit p_it mit alpha_o_gegeben_s und beta_o als Paramater\n",
    "            # erfolgs_p = p(iid, t, alpha_o, beta_o)\n",
    "            \n",
    "            # EM_iidt:Anzahl dversendeter Mails in Monat t an Kunde mit iid\n",
    "            EM_iidt = df_HY.loc[df_HY['iid'] == iid, t].values[0]\n",
    "            \n",
    "            # o_iidt: Anzahl geöffneter Mails von Kunde iid in Monat t\n",
    "            o_iidt = df_NO.loc[df_NO['iid'] == iid, t].values[0]\n",
    "            \n",
    "            # Wahrscheinlichkeiten der Binomialverteilung für jeden Zustand\n",
    "            P_O_it = binom.cdf(o_iidt, EM_iidt, p(iid, t, alpha_o, beta_o))\n",
    "        \n",
    "            # Speichern der Wahrscheinlichkeiten im Zwischenspeicher\n",
    "            P_O_iidt_speicher_jede_iid = P_O_iidt_speicher_jede_iid.extend(P_O_it)\n",
    "\n",
    "        # In einer neuen Zeile für jede iid in dem Zwischenspeicher abspeichern\n",
    "        P_O_iidt_speicher_gesamt = np.vstack([P_O_iidt_speicher_gesamt, P_O_iidt_speicher])\n",
    "        \n",
    "    return P_O_iidt_speicher_gesamt\n",
    "\n",
    "\n",
    "##### Tests mit Diagonalmatrizen\n",
    "            # Erstellen des Namens der Diagonalmatrix\n",
    "            # name = f\"diagonal_matrix_PO_{iid}_{t}\"\n",
    "        \n",
    "            # Erstellen der Diagonalmatrix mit den Wahrscheinlichkeiten und dem Namen\n",
    "            # diagonal_matrix = np.diag(probabilities)\n",
    "            # diagonal_matrix.name = name"
   ]
  },
  {
   "cell_type": "code",
   "execution_count": null,
   "id": "ae328397",
   "metadata": {},
   "outputs": [],
   "source": []
  },
  {
   "cell_type": "markdown",
   "id": "7e376845",
   "metadata": {},
   "source": [
    "# Code wo veruscht wurde die arrays mit namen zu identifizieren"
   ]
  },
  {
   "cell_type": "markdown",
   "id": "73e50168",
   "metadata": {},
   "source": [
    "#### Definition der Erfolgswahrscheinlichkeit p_t als 1 x anzhal_kunden array \n",
    "def Q_v_state_t_minusEins_state_t_monat(alpha, gamma, state_t_minusEins, state_t, monat):\n",
    "    \n",
    "    state_t_minusEins = state_t_minusEins -1\n",
    "    state_t = state_t -1\n",
    "    str_monat = str(monat)\n",
    "    \n",
    "    # Definition der X_t_minusEins\n",
    "    # verwendete Parameter\n",
    "    EM_monat_minusEins = df_HY[str_monat]\n",
    "    Y_monat_minusEins = df_trans_werte[str_monat]\n",
    "    O_monat_minusEins = df_NO[str_monat]\n",
    "    # Definition\n",
    "    X_t_minusEins = [int(O_monat_minusEins > 0), int(Y_monat_minusEins > 0),\\\n",
    "                     EM_monat_minusEins, np.square(EM_monat_minusEins)]\n",
    "    \n",
    "    array_v = alpha[12*state_t_minusEins + 4*state + state] + gamma[12*state_t_minusEins + 4*state + state] * X_t_minusEins\n",
    "\n",
    "    return array_v\n",
    "\n",
    "##### Definition der Transitionmatrix\n",
    "def probability_Q_state_monat(alpha, gamma):\n",
    "    \n",
    "    ### Erstellung leerer anzahl_states x anzahl_states arrays für jeden Kunden und jeden Monat\n",
    "    Q = []\n",
    "    for iid in df_trans_werte[\"iid\"]:\n",
    "        for monat in range(2,16):\n",
    "                empty_array = np.zeros((anzahl_states, anzahl_states))\n",
    "                Q.append(empty_array)\n",
    "                \n",
    "                #name = f\"matrix_Q_{iid}_{monat}\"\n",
    "                #empty_array.name = name\n",
    "                \n",
    "    for monat in range(2,16):\n",
    "        \n",
    "        for state_t_minusEins in range(1, anzahl_states +1):\n",
    "            \n",
    "            # Erste Spalte besteht aus Nullen, da eine Trasition zurück in state 1 nicht möglich ist\n",
    "            for state in range(2, anzahl_states +1):\n",
    "                \n",
    "                q_array_iid_monat_state = Q_v_state_t_minusEins_state_t_monat(alpha, gamma, state_t_minusEins, state_t, monat)\n",
    "                #name = f\"Q_{iid}_{monat}\"\n",
    "\n",
    "                # Überführen zu df und Hinzufügen einer iid Spalte zur Identifikation\n",
    "                q_array_iid_monat_state = pd.DataFrame(q_array_iid_monat_state)\n",
    "                q_array_iid_monat_state[\"iid\"] = df_trans_werte[\"iid\"]\n",
    "\n",
    "                # Speicherung der Werte in den leeren arrays\n",
    "                for index in q_array_iid_monat_state:\n",
    "                    #name = f\"matrix_Q_{iid}_{monat}\"\n",
    "                    #array_iid_monat = Q[name]\n",
    "                    \n",
    "                    #Neue Definition ohne die Verwedung von Namen\n",
    "                    Q[index][state_t_minusEins-1, state-1] =\\\n",
    "                                    q_array_iid_monat_state[index]\n",
    "                   \n",
    "                    #array_iid_monat[state_t_minusEins-1, state-1] =\\\n",
    "                                    #q_array_iid_monat_state[q_array_iid_monat_state[\"iid\"] == \"iid\"]\n",
    "    \n",
    "    return Q"
   ]
  },
  {
   "cell_type": "markdown",
   "id": "3224fdde",
   "metadata": {},
   "source": [
    "#### alpha_o, delta_0, delta_1, alpha_p, beta_p_1, beta_p_2 sind state dependent\n",
    "#### beta_o, r sind state independent\n",
    "def likelihood_function(alpha, gamma, alpha_o, beta_o, delta_0, delta_1,\\\n",
    "                        alpha_p, beta_p_1, beta_p_2, r, theta):\n",
    "    \n",
    "    ### Erstellung einer Liste H die alle H_it enthalten\n",
    "    H = []\n",
    "    \n",
    "    ### Erstellung leerer 1xanzahl_states arrays für jeden Kunden und jeden Monat\n",
    "    for iid in df_trans_werte[\"iid\"]:\n",
    "        for monat in range(1,16):\n",
    "                empty_array = np.zeros((1, anzahl_states))\n",
    "                H.append(empty_array)\n",
    "                \n",
    "                name = f\"diagonal_matrix_H_{iid}_{monat}\"\n",
    "                empty_array.name = name\n",
    "                \n",
    "    for monat in range(1,16):\n",
    "        for state in range(1, anzahl_states +1):\n",
    "            \n",
    "            # Berechnung von arrays für die Verteilungsfunktionen\n",
    "            F_O_state_monat_berechnung = F_O_state_monat(alpha_o, beta_o, state, monat)\n",
    "            \n",
    "            F_O_state_monat_berechnung_minusEins = F_O_state_monat_minusEins(alpha_o, beta_o, state, monat)\n",
    "            \n",
    "            F_Y_state_monat_berechnung =\\\n",
    "                            F_Y_state_monat(delta_0, delta_1, alpha_p, beta_p_1, beta_p_2, state, monat, r)\n",
    "            \n",
    "            F_Y_state_monat_berechnung_minusEins =\\\n",
    "                            F_Y_state_monat_minusEins(delta_0, delta_1, alpha_p, beta_p_1, beta_p_2, state, monat, r)\n",
    "            \n",
    "            # Berechnung der gemeinsamen Verteilungen\n",
    "            H_state_monat_berechnung =\\\n",
    "                            Frank_Copula(F_O_state_monat_berechnung, F_Y_state_monat_berechnung, theta) -\\\n",
    "                            Frank_Copula(F_O_state_monat_berechnung_minusEins, F_Y_state_monat_berechnung, theta) -\\\n",
    "                            Frank_Copula(F_O_state_monat_berechnung, F_Y_state_monat_berechnung_minusEins, theta) +\\\n",
    "                            Frank_Copula(F_O_state_monat_berechnung_minusEins, F_Y_state_monat_berechnung_minusEins, theta)\n",
    "            \n",
    "            # Überführen zu df und Hinzufügen einer iid Spalte zur Identifikation\n",
    "            H_state_monat_berechnung = pd.DataFrame(H_state_monat_berechnung)\n",
    "            H_state_monat_berechnung[\"iid\"] = df_trans_werte[\"iid\"]\n",
    "            \n",
    "            # Speicherung der Werte in den leeren arrays\n",
    "            for iid in H_state_monat_berechnung[\"iid\"]:\n",
    "                name = f\"diagonal_matrix_H_{iid}_{monat}\"\n",
    "                H[name][state-1] = H_state_monat_berechnung[H_state_monat_berechnung[\"iid\"] == \"iid\"]\n",
    "                \n",
    "    # Überführen der Arrays in H in Diagonalmatrizen\n",
    "    for array in H:\n",
    "        H[array] = np.diag(H[array])\n",
    "        \n",
    "    # Berechnung der Likelihood Function\n",
    "    likelihood = 1\n",
    "    \n",
    "    # Startverteilung ist (1, 0,..., 0)\n",
    "    startverteilung = np.zeros((1, anzahl_states))\n",
    "    startverteilung[0, 0] = 1\n",
    "    \n",
    "    # Transitionmatrix Q\n",
    "    Q = probability_Q_state_monat(alpha, gamma)\n",
    "    \n",
    "    Q_iid_prod = []\n",
    "    for iid in df_trans_werte[\"iid\"]:\n",
    "        Q_iid = np.dot(startverteilung, H[f\"diagonal_matrix_H_{iid}_1\"])\n",
    "\n",
    "        for monat in range(2,16):\n",
    "            name = f\"diagonal_matrix_H_{iid}_{monat}\"\n",
    "            name_Q = f\"matrix_Q_{iid}_{monat}\"\n",
    "            H_iid_monat = np.dot(H[name], Q[name_Q])\n",
    "            H_iid = np.dot(H_iid, H_iid_monat)\n",
    "            \n",
    "        Q_iid_prod.append(np.dot(Q_iid, H_iid))\n",
    "        \n",
    "    return np.prod(Q_iid_prod)"
   ]
  },
  {
   "cell_type": "markdown",
   "id": "8f1dfe91",
   "metadata": {},
   "source": [
    "# ZINBD Verteilungsfunktion mit Model modelliert"
   ]
  },
  {
   "cell_type": "markdown",
   "id": "d11a5b26",
   "metadata": {},
   "source": [
    "#### Definition der Wahrscheinlichkeit des Eintretens eines Erfolges im Einzelversuch phi als anzahl_iids x T df\n",
    "def phi_state_monat(delta_0, delta_1, state, monat):\n",
    "    \n",
    "    state = state -1\n",
    "    \n",
    "    # Definitio von str_monat um auf den spaltennamen zugreifen zu können\n",
    "    str_monat = str(monat)\n",
    "    \n",
    "    LY_monat = df_LY[str_monat]\n",
    "    array_phi = 1 / (1 + np.exp(delta_0[state] + delta_1[state] * np.log(LY_monat)))\n",
    "    \n",
    "    return array_phi\n",
    "\n",
    "#### Definition der lambdaY als anzahl_iids x 1 array für monat und state\n",
    "def lambdaY_state_monat(alpha_p, beta_p_1, beta_p_2, state, monat):\n",
    "    \n",
    "    state = state -1\n",
    "    \n",
    "    # Definitio von str_monat um auf den spaltennamen zugreifen zu können\n",
    "    str_monat = str(monat)\n",
    "    EM_monat = df_HY[str_monat]\n",
    "    \n",
    "    array_lambdaY = np.exp(alpha_p[state] + beta_p_1[state] * EM_monat + beta_p_2[state] * np.square(EM_monat))\n",
    "    \n",
    "    return array_lambdaY\n",
    "\n",
    "#### Array der Verteilungsfunktion der Käufe Y für Monat und state\n",
    "def F_Y_state_monat(delta_0, delta_1, alpha_p, beta_p_1, beta_p_2, state, monat, r):\n",
    "    \n",
    "    # Definitio von str_monat um auf den spaltennamen zugreifen zu können\n",
    "    str_monat = str(monat)\n",
    "    \n",
    "    # Erstellen Sie ein Zero-Inflated Negative Binomial Modell\n",
    "    zinb_model = ZeroInflatedNegativeBinomialP(endog=None, exog=None, exposure=None, offset=None, missing='none')\n",
    "\n",
    "    # Setzen Sie die offenen Parameter als Modellparameter\n",
    "    zinb_model.update({'params': [1- phi_state_monat(delta_0, delta_1, state, monat),\\\n",
    "                                  lambdaY_state_monat(alpha_p, beta_p_1, beta_p_2, state, monat),\\\n",
    "                                  r]})\n",
    "    \n",
    "    # y_iid ist das DataFrame mit der Anzahl an Käufen\n",
    "    y_monat = df_trans_werte[str_monat]\n",
    "    \n",
    "    # Verteilungsfunktion der ZINBD für jeden Zustand state\n",
    "    F_Y_it = zinb_model.cdf(y_monat)\n",
    "       \n",
    "    return F_Y_it\n",
    "\n",
    "#### Array der Verteilungsfunktion der Käufe Y-1 für Monat und state\n",
    "def F_Y_state_monat_minusEins(delta_0, delta_1, alpha_p, beta_p_1, beta_p_2, state, monat, r):\n",
    "    \n",
    "    # Berechnung der Werte minus Eins für spätere Berechnung der gemeinsamen Verteilung via Frank-Copula\n",
    "    df_trans_werte_minusEins = df_trans_werte.loc[:, df_NO_werte.columns != 'iid'] -1\n",
    "    \n",
    "    # Definitio von str_monat um auf den spaltennamen zugreifen zu können\n",
    "    str_monat = str(monat)\n",
    "    \n",
    "    # Erstellen Sie ein Zero-Inflated Negative Binomial Modell\n",
    "    zinb_model = ZeroInflatedNegativeBinomialP(endog=None, exog=None, exposure=None, offset=None, missing='none')\n",
    "\n",
    "    # Setzen Sie die offenen Parameter als Modellparameter\n",
    "    zinb_model.update({'params': [1- phi_state_monat(delta_0, delta_1, state, monat),\\\n",
    "                                  lambdaY_state_monat(alpha_p, beta_p_1, beta_p_2, state, monat),\\\n",
    "                                  r]})\n",
    "    \n",
    "    # y_iid ist das DataFrame mit der Anzahl an Käufen\n",
    "    y_monat = df_trans_werte_minusEins[str_monat]\n",
    "    \n",
    "    # Verteilungsfunktion der ZINBD für jeden Zustand state\n",
    "    F_Y_it = zinb_model.cdf(y_monat)\n",
    "       \n",
    "    return F_Y_it"
   ]
  },
  {
   "cell_type": "markdown",
   "id": "e632841e",
   "metadata": {},
   "source": [
    "# CEOM als BD"
   ]
  },
  {
   "cell_type": "markdown",
   "id": "dc2468e1",
   "metadata": {},
   "source": [
    "#### Definition der Erfolgswahrscheinlichkeit p_t als 1 x anzhal_kunden array \n",
    "def probability_O_state_monat(alpha_o, beta_o, state, monat):\n",
    "    \n",
    "    state = state -1\n",
    "    \n",
    "    # Definitio von str_monat um auf den spaltennamen zugreifen zu können\n",
    "    str_monat = str(monat)\n",
    "    \n",
    "    # Erhalten der Werte für die Verarbeitung in der Formel\n",
    "    LO_monat = df_LO[str_monat]\n",
    "    array_p = np.exp(alpha_o[state] + beta_o[0] * np.log(LO_monat)) / (1 + np.exp(alpha_o[state] + beta_o[0] * np.log(LO_monat)))\n",
    "\n",
    "    return array_p\n",
    "\n",
    "#### Array der Verteilungsfunktion der Öffungen O für Monat und state\n",
    "def F_O_state_monat(alpha_o, beta_o, state, monat):\n",
    "    \n",
    "    # Definitio von str_monat um auf den spaltennamen zugreifen zu können\n",
    "    str_monat = str(monat)\n",
    "    \n",
    "    # o_iidt: Anzahl geöffneter Mails in Monat t von allen Kunden\n",
    "    o_monat = df_NO_werte[str_monat]\n",
    "    \n",
    "    # EM_iidt:Anzahl dversendeter Mails in Monat t an Kunde mit iid\n",
    "    EM_monat = df_HY[str_monat]\n",
    "    \n",
    "    probs = probability_O_state_monat(alpha_o, beta_o, state, monat)\n",
    "    array_F_O_berechnung = binom.cdf(o_monat, EM_monat, probs)\n",
    "         \n",
    "    return array_F_O_berechnung\n",
    "\n",
    "#### Array der Verteilungsfunktion der Öffungen O -1 für Monat und state\n",
    "def F_O_state_monat_minusEins(alpha_o, beta_o, state, monat):\n",
    "    \n",
    "    # Definitio von str_monat um auf den spaltennamen zugreifen zu können\n",
    "    str_monat = str(monat)\n",
    "    \n",
    "    # o_iidt: Anzahl geöffneter Mails in Monat t von allen Kunden\n",
    "    o_monat = df_NO_minusEins[str_monat]\n",
    "    \n",
    "    # EM_iidt:Anzahl dversendeter Mails in Monat t an Kunde mit iid\n",
    "    EM_monat = df_HY[str_monat]\n",
    "    \n",
    "    probs = probability_O_state_monat(alpha_o, beta_o, state, monat)\n",
    "    array_F_O_berechnung = binom.cdf(o_monat, EM_monat, probs)\n",
    "\n",
    "    return array_F_O_berechnung"
   ]
  },
  {
   "cell_type": "markdown",
   "id": "01dec94b",
   "metadata": {},
   "source": [
    "#### Umständliche Defiitio Matrixmultiplikation\n",
    "    Q_iid_prod = np.array([1])\n",
    "    for j in range(len(df_trans_werte)):\n",
    "        Q_iid = np.dot(startverteilung, H[15 * j])\n",
    "        H_iid = np.eye(anzahl_states)\n",
    "        for monat in range(2,16):\n",
    "            H_iid_monat = np.dot(H[j * 15 + (monat-1)], Q[j * 14 + (monat-2)])\n",
    "            H_iid = np.dot(H_iid, H_iid_monat)\n",
    "            \n",
    "        Q_iid_prod.append(np.dot(Q_iid, H_iid))"
   ]
  },
  {
   "cell_type": "code",
   "execution_count": null,
   "id": "248a548f",
   "metadata": {},
   "outputs": [],
   "source": []
  }
 ],
 "metadata": {
  "kernelspec": {
   "display_name": "Python 3 (ipykernel)",
   "language": "python",
   "name": "python3"
  },
  "language_info": {
   "codemirror_mode": {
    "name": "ipython",
    "version": 3
   },
   "file_extension": ".py",
   "mimetype": "text/x-python",
   "name": "python",
   "nbconvert_exporter": "python",
   "pygments_lexer": "ipython3",
   "version": "3.9.13"
  }
 },
 "nbformat": 4,
 "nbformat_minor": 5
}
